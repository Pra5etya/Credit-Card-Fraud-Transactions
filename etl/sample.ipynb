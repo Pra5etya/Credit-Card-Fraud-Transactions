{
 "cells": [
  {
   "cell_type": "markdown",
   "metadata": {},
   "source": [
    "# Sample"
   ]
  },
  {
   "cell_type": "markdown",
   "metadata": {},
   "source": [
    "## Transform"
   ]
  },
  {
   "cell_type": "code",
   "execution_count": null,
   "metadata": {},
   "outputs": [],
   "source": [
    "# # Transformasi\n",
    "# numerical_transformer = StandardScaler()\n",
    "# categorical_transformer = Pipeline([\n",
    "#     ('onehot', OneHotEncoder(handle_unknown = 'ignore', sparse_output = True, max_categories = 50)), \n",
    "#     # ('svd', TruncatedSVD(n_components = 100))  # Mengurangi dimensi fitur kategori\n",
    "# ])\n",
    "# ordinal_transformer = OrdinalEncoder(categories = oridnal_cat, handle_unknown = 'use_encoded_value', unknown_value = -1)\n",
    "\n",
    "# # Column Transformer\n",
    "# prep_stage_2 = ColumnTransformer(\n",
    "#     transformers = [\n",
    "#         (\"num\", numerical_transformer, numeric_cols), \n",
    "#         (\"cat\", categorical_transformer, one_hot_cols), \n",
    "#         (\"ord\", ordinal_transformer, ordinal_cols)\n",
    "#     ], remainder = \"passthrough\")"
   ]
  },
  {
   "cell_type": "code",
   "execution_count": null,
   "metadata": {},
   "outputs": [],
   "source": [
    "# # Transform data menggunakan fit_transform\n",
    "# model_df = prep_stage_2.fit_transform(model_df)\n",
    "\n",
    "# # Get name column from fit_transform\n",
    "# model_df = pd.DataFrame(model_df, columns = prep_stage_2.get_feature_names_out())\n",
    "\n",
    "# # Hilangkan prefix (misalnya, \"num__\", \"cat__\", \"out__\")\n",
    "# clean_columns = [col.split(\"__\", 1)[-1] for col in model_df.columns]\n",
    "# model_df.columns = clean_columns"
   ]
  },
  {
   "cell_type": "code",
   "execution_count": null,
   "metadata": {},
   "outputs": [],
   "source": [
    "# # Menampilkan total null pada setiap kolom\n",
    "# null_columns = model_df.isnull().sum()[model_df.isnull().sum() > 0]\n",
    "# print(f'Total null columns: {null_columns} \\n')"
   ]
  },
  {
   "cell_type": "code",
   "execution_count": null,
   "metadata": {},
   "outputs": [],
   "source": [
    "# # check data type after transform\n",
    "# model_df.info()"
   ]
  },
  {
   "cell_type": "code",
   "execution_count": null,
   "metadata": {},
   "outputs": [],
   "source": [
    "# # change object after transform\n",
    "# model_df = convert_object_columns_to_numeric(model_df)\n",
    "# model_df.info()"
   ]
  },
  {
   "cell_type": "code",
   "execution_count": null,
   "metadata": {},
   "outputs": [],
   "source": [
    "# model_df.head()"
   ]
  },
  {
   "cell_type": "markdown",
   "metadata": {},
   "source": [
    "## Base Model"
   ]
  },
  {
   "cell_type": "code",
   "execution_count": null,
   "metadata": {},
   "outputs": [],
   "source": [
    "# from sklearn.ensemble import RandomForestClassifier\n",
    "# from sklearn.metrics import classification_report, confusion_matrix\n",
    "\n",
    "# # Define pipeline\n",
    "# base_model_pipe = Pipeline([\n",
    "#     (\"model\", RandomForestClassifier(n_estimators = 100, random_state = 42, class_weight = \"balanced\"))\n",
    "# ])\n",
    "\n",
    "# # Cross-validation scores with multiple metrics\n",
    "# val_score = [\"accuracy\", \"precision\", \"recall\", \"f1\", \"roc_auc\"]\n",
    "# cv_results = cross_validate(base_model_pipe, X_train, y_train, cv = 5, scoring = val_score)\n",
    "# cv_results"
   ]
  },
  {
   "cell_type": "code",
   "execution_count": null,
   "metadata": {},
   "outputs": [],
   "source": [
    "# print(f\"Cross-validation Accuracy: {cv_results['test_accuracy'].mean():.4f}\")\n",
    "# print(f\"Cross-validation Precision: {cv_results['test_precision'].mean():.4f}\")\n",
    "# print(f\"Cross-validation Recall: {cv_results['test_recall'].mean():.4f}\")\n",
    "# print(f\"Cross-validation F1-score: {cv_results['test_f1'].mean():.4f}\")\n",
    "# print(f\"Cross-validation AUC-ROC: {cv_results['test_roc_auc'].mean():.4f} \\n\")"
   ]
  },
  {
   "cell_type": "code",
   "execution_count": null,
   "metadata": {},
   "outputs": [],
   "source": [
    "# # Fit the pipeline\n",
    "# base_model_pipe.fit(X_train, y_train)\n",
    "\n",
    "# # Predict\n",
    "# y_pred = base_model_pipe.predict(X_test)\n",
    "\n",
    "# # Evaluasi Model\n",
    "# print(classification_report(y_test, y_pred))"
   ]
  },
  {
   "cell_type": "markdown",
   "metadata": {},
   "source": [
    "#### Evaluasi Model"
   ]
  },
  {
   "cell_type": "code",
   "execution_count": null,
   "metadata": {},
   "outputs": [],
   "source": [
    "# from sklearn.metrics import roc_auc_score, accuracy_score, precision_score, recall_score, f1_score\n",
    "\n",
    "# # Evaluate Model\n",
    "# accuracy = accuracy_score(y_test, y_pred)\n",
    "# precision = precision_score(y_test, y_pred)\n",
    "# recall = recall_score(y_test, y_pred)\n",
    "# f1 = f1_score(y_test, y_pred)\n",
    "# auc_score = roc_auc_score(y_test, y_pred)\n",
    "\n",
    "# print(f\"Accuracy: {accuracy:.4f}\")\n",
    "# print(f\"Precision: {precision:.4f}\")\n",
    "# print(f\"Recall: {recall:.4f}\")\n",
    "# print(f\"F1-Score: {f1:.4f}\")\n",
    "# print(f\"AUC-ROC Score: {auc_score:.4f}\")"
   ]
  },
  {
   "cell_type": "markdown",
   "metadata": {},
   "source": [
    "## Hyperparameter"
   ]
  },
  {
   "cell_type": "markdown",
   "metadata": {},
   "source": [
    "### Optimal CV"
   ]
  },
  {
   "cell_type": "code",
   "execution_count": null,
   "metadata": {},
   "outputs": [],
   "source": [
    "# from sklearn.model_selection import cross_val_score\n",
    "# import numpy as np\n",
    "\n",
    "# cv_values = [2, 3, 5, 10]  # Coba berbagai nilai cv\n",
    "# scores = []\n",
    "\n",
    "# for cv in cv_values:\n",
    "#     cv_score = cross_val_score(base_model_pipe, \n",
    "#                                X_train, \n",
    "#                                y_train, \n",
    "#                                cv = cv, \n",
    "#                                scoring = 'accuracy')\n",
    "    \n",
    "#     mean_score = np.mean(cv_score)\n",
    "#     std_score = np.std(cv_score)\n",
    "    \n",
    "#     scores.append((cv, mean_score, std_score))\n",
    "#     print(f\"Cross Validation: {cv} -> Mean: {mean_score:.4f}, Std: {std_score:.4f}\")"
   ]
  },
  {
   "cell_type": "code",
   "execution_count": null,
   "metadata": {},
   "outputs": [],
   "source": [
    "from sklearn.model_selection import cross_val_score, StratifiedKFold\n",
    "\n",
    "# Coba berbagai nilai k\n",
    "cv_values = [3, 5, 7, 10]\n",
    "results = {}\n",
    "\n",
    "for k in cv_values:\n",
    "    cv_strategy = StratifiedKFold(n_splits = k, shuffle = True, random_state = 42)\n",
    "    scores = cross_val_score(base_model_pipe, X, y, cv = cv_strategy, scoring = 'accuracy')\n",
    "    results[k] = (np.mean(scores), np.std(scores))  # Simpan rata-rata dan standar deviasi\n",
    "\n",
    "# Cetak hasil\n",
    "for k, (mean_score, std_dev) in results.items():\n",
    "    print(f\"CV={k}: Mean Accuracy={mean_score:.4f}, Std Dev={std_dev:.4f}\")"
   ]
  },
  {
   "cell_type": "code",
   "execution_count": null,
   "metadata": {},
   "outputs": [],
   "source": [
    "import matplotlib.pyplot as plt\n",
    "\n",
    "k_values = list(results.keys())\n",
    "mean_scores = [results[k][0] for k in k_values]\n",
    "std_devs = [results[k][1] for k in k_values]\n",
    "\n",
    "plt.figure(figsize=(8,5))\n",
    "plt.errorbar(k_values, mean_scores, yerr=std_devs, fmt='o-', capsize=5, label='Mean Accuracy ± Std Dev')\n",
    "plt.xlabel('Number of CV Folds (k)')\n",
    "plt.ylabel('Accuracy')\n",
    "plt.title('Finding Optimal CV for Cross Validation')\n",
    "plt.legend()\n",
    "plt.grid()\n",
    "plt.show()\n"
   ]
  },
  {
   "cell_type": "markdown",
   "metadata": {},
   "source": [
    "### Randomsearch"
   ]
  },
  {
   "cell_type": "code",
   "execution_count": null,
   "metadata": {},
   "outputs": [],
   "source": [
    "# from sklearn.model_selection import RandomizedSearchCV\n",
    "# import matplotlib.pyplot as plt\n",
    "\n",
    "# n_iter_values = [10, 20, 50, 100]  # Uji berbagai nilai\n",
    "# scores = []\n",
    "\n",
    "# param_grid = {\n",
    "#     \"model__n_estimators\": [50, 100, 200, 500],\n",
    "#     \"model__max_depth\": [None, 10, 20, 30],\n",
    "#     \"model__min_samples_split\": [2, 5, 10, 20],\n",
    "#     \"model__min_samples_leaf\": [1, 2, 5, 10],\n",
    "#     \"model__max_features\": [\"sqrt\", \"log2\", None],\n",
    "#     \"model__bootstrap\": [True, False],\n",
    "#     \"model__class_weight\": [\"balanced\", \"balanced_subsample\", None]\n",
    "# }\n",
    "\n",
    "# for n in n_iter_values:\n",
    "#     random_search = RandomizedSearchCV(\n",
    "#         base_model_pipe, \n",
    "#         param_grid, \n",
    "#         n_iter = n, \n",
    "#         cv = 3, \n",
    "#         scoring = \"recall\", \n",
    "#         n_jobs = -1, \n",
    "#         random_state = 42\n",
    "#     )\n",
    "\n",
    "#     random_search.fit(X_train, y_train)\n",
    "#     scores.append(random_search.best_score_)\n",
    "\n",
    "# plt.plot(n_iter_values, scores, marker='o')\n",
    "# plt.xlabel(\"n_iter\")\n",
    "# plt.ylabel(\"Best CV Score\")\n",
    "# plt.title(\"Evaluasi n_iter di RandomizedSearchCV\")\n",
    "# plt.show()"
   ]
  },
  {
   "cell_type": "code",
   "execution_count": null,
   "metadata": {},
   "outputs": [],
   "source": [
    "# random_search = RandomizedSearchCV(\n",
    "#     base_model_pipe,    # Model pipeline\n",
    "#     param_distributions = param_grid,   # Gunakan param_grid yang sama\n",
    "#     n_iter = 20,    # Batasi jumlah kombinasi yang diuji (misal 20)\n",
    "#     cv = 5,     # Cross-validation 5-fold\n",
    "#     scoring = [\"precision\", \"recall\", \"f1\"], \n",
    "#     refit = \"recall\",\n",
    "#     n_jobs = -1,    # Gunakan semua core CPU\n",
    "#     verbose = 2,    # Tampilkan progress\n",
    "#     random_state = 42   # Pastikan hasil tetap reproducible\n",
    "# )\n",
    "\n",
    "# random_search.fit(X_train, y_train)\n",
    "\n",
    "# best_model = random_search.best_estimator_\n"
   ]
  },
  {
   "cell_type": "code",
   "execution_count": null,
   "metadata": {},
   "outputs": [],
   "source": [
    "# # Pilih model terbaik\n",
    "# random_results = random_search.cv_results_\n",
    "# random_results.keys()\n",
    "\n",
    "# print(\"Best parameters based on recall:\", random_search.best_params_)"
   ]
  },
  {
   "cell_type": "code",
   "execution_count": null,
   "metadata": {},
   "outputs": [],
   "source": [
    "# # Cek metrik lainnya jika menggunakan multiple scoring\n",
    "# print(\"Best model based on precision:\", np.max(random_results['mean_test_precision']))\n",
    "# print(\"Best model based on F1-score:\", np.max(random_results['mean_test_f1']))"
   ]
  },
  {
   "cell_type": "code",
   "execution_count": null,
   "metadata": {},
   "outputs": [],
   "source": [
    "# # Evaluasi Model Terbaik\n",
    "# y_pred_best = best_model.predict(X_test)\n",
    "\n",
    "# print(\"Classification Report:\\n\", classification_report(y_test, y_pred_best))"
   ]
  },
  {
   "cell_type": "code",
   "execution_count": null,
   "metadata": {},
   "outputs": [],
   "source": [
    "# # Metrik tambahan\n",
    "# accuracy = accuracy_score(y_test, y_pred_best)\n",
    "# precision = precision_score(y_test, y_pred_best)\n",
    "# recall = recall_score(y_test, y_pred_best)\n",
    "# f1 = f1_score(y_test, y_pred_best)\n",
    "# auc_score = roc_auc_score(y_test, y_pred_best)\n",
    "\n",
    "# print(f\"Accuracy: {accuracy:.4f}\")\n",
    "# print(f\"Precision: {precision:.4f}\")\n",
    "# print(f\"Recall: {recall:.4f}\")\n",
    "# print(f\"F1-Score: {f1:.4f}\")\n",
    "# print(f\"AUC-ROC Score: {auc_score:.4f}\")"
   ]
  },
  {
   "cell_type": "markdown",
   "metadata": {},
   "source": [
    "### Halvingsearch"
   ]
  },
  {
   "cell_type": "code",
   "execution_count": null,
   "metadata": {},
   "outputs": [],
   "source": [
    "from sklearn.experimental import enable_halving_search_cv\n",
    "from sklearn.model_selection import HalvingGridSearchCV\n",
    "\n",
    "param_grid = {\n",
    "    \"model__n_estimators\": [50, 100, 200, 500],\n",
    "    \"model__max_depth\": [None, 10, 20, 30],\n",
    "    \"model__min_samples_split\": [2, 5, 10, 20],\n",
    "    \"model__min_samples_leaf\": [1, 2, 5, 10],\n",
    "    \"model__max_features\": [\"sqrt\", \"log2\", None],\n",
    "    \"model__bootstrap\": [True, False],\n",
    "    \"model__class_weight\": [\"balanced\", \"balanced_subsample\", None]\n",
    "}\n",
    "\n",
    "halving_search = HalvingGridSearchCV(\n",
    "    base_model_pipe,    # Model pipeline\n",
    "    param_grid,     # Gunakan param_grid yang sama\n",
    "    factor = 3,     # Kandidat dikurangi 3x di setiap iterasi\n",
    "    cv = 3,     # Cross-validation lebih kecil untuk kecepatan\n",
    "    scoring = \"recall\",    # Single Metrik \n",
    "    refit = True, \n",
    "    n_jobs = -1,    # Gunakan semua core CPU\n",
    "    verbose = 2,    # Tampilkan progress\n",
    "    random_state = 42   # Untuk hasil yang konsisten\n",
    ")\n",
    "\n",
    "halving_search.fit(X_train, y_train)\n",
    "\n",
    "best_model = halving_search.best_estimator_\n",
    "\n",
    "# more than 1/2 hour"
   ]
  },
  {
   "cell_type": "code",
   "execution_count": null,
   "metadata": {},
   "outputs": [],
   "source": [
    "# Pilih model terbaik berdasarkan akurasi\n",
    "halving_results = halving_search.cv_results_\n",
    "halving_results.keys()\n",
    "\n",
    "print(\"Best parameters based on recall:\", halving_search.best_params_)"
   ]
  },
  {
   "cell_type": "code",
   "execution_count": null,
   "metadata": {},
   "outputs": [],
   "source": [
    "# Cek metrik lainnya jika menggunakan multiple scoring\n",
    "print(\"Best model based on precision:\", np.max(halving_results['mean_test_precision']))\n",
    "print(\"Best model based on F1-score:\", np.max(halving_results['mean_test_f1']))"
   ]
  },
  {
   "cell_type": "code",
   "execution_count": null,
   "metadata": {},
   "outputs": [],
   "source": [
    "# Evaluasi Model Terbaik\n",
    "y_pred_best = best_model.predict(X_test)\n",
    "\n",
    "print(\"Classification Report:\\n\", classification_report(y_test, y_pred_best))"
   ]
  },
  {
   "cell_type": "code",
   "execution_count": null,
   "metadata": {},
   "outputs": [],
   "source": [
    "# Metrik tambahan\n",
    "accuracy = accuracy_score(y_test, y_pred_best)\n",
    "precision = precision_score(y_test, y_pred_best)\n",
    "recall = recall_score(y_test, y_pred_best)\n",
    "f1 = f1_score(y_test, y_pred_best)\n",
    "auc_score = roc_auc_score(y_test, y_pred_best)\n",
    "\n",
    "print(f\"Accuracy: {accuracy:.4f}\")\n",
    "print(f\"Precision: {precision:.4f}\")\n",
    "print(f\"Recall: {recall:.4f}\")\n",
    "print(f\"F1-Score: {f1:.4f}\")\n",
    "print(f\"AUC-ROC Score: {auc_score:.4f}\")"
   ]
  },
  {
   "cell_type": "markdown",
   "metadata": {},
   "source": [
    "# Sample 2"
   ]
  },
  {
   "cell_type": "code",
   "execution_count": null,
   "metadata": {},
   "outputs": [],
   "source": [
    "import numpy as np\n",
    "import pandas as pd\n",
    "from sklearn.model_selection import train_test_split, StratifiedKFold, cross_val_score\n",
    "from sklearn.preprocessing import StandardScaler, OneHotEncoder, OrdinalEncoder\n",
    "from sklearn.compose import ColumnTransformer\n",
    "from sklearn.pipeline import Pipeline\n",
    "from xgboost import XGBClassifier\n",
    "from imblearn.combine import SMOTETomek\n",
    "from imblearn.under_sampling import TomekLinks\n",
    "from imblearn.over_sampling import SMOTE\n",
    "\n",
    "# Simulasi data (gantilah dengan dataset asli)\n",
    "X = pd.DataFrame(np.random.randn(226969, 10), columns=[f'feature_{i}' for i in range(10)])\n",
    "y = np.array([0] * 223386 + [1] * 3583)  # Imbalanced dataset (fraud cases sangat sedikit)\n",
    "\n",
    "# Stratified train-test split agar distribusi kelas tetap terjaga\n",
    "X_train, X_test, y_train, y_test = train_test_split(\n",
    "    X, y, test_size=0.2, random_state=42, stratify=y\n",
    ")\n",
    "\n",
    "# Transformasi\n",
    "numerical_transformer = StandardScaler()\n",
    "categorical_transformer = OneHotEncoder(handle_unknown='ignore', sparse_output=True, max_categories=50)\n",
    "ordinal_transformer = OrdinalEncoder(handle_unknown='use_encoded_value', unknown_value=-1)\n",
    "\n",
    "# Kolom kategori (gantilah sesuai dataset Anda)\n",
    "numeric_cols = [f'feature_{i}' for i in range(10)]  # Semua dianggap numerik\n",
    "one_hot_cols = []  # Tambahkan jika ada fitur kategori one-hot\n",
    "ordinal_cols = []  # Tambahkan jika ada fitur ordinal\n",
    "\n",
    "# Column Transformer\n",
    "prep_stage_2 = ColumnTransformer(\n",
    "    transformers=[\n",
    "        (\"num\", numerical_transformer, numeric_cols),\n",
    "        (\"cat\", categorical_transformer, one_hot_cols),\n",
    "        (\"ord\", ordinal_transformer, ordinal_cols)\n",
    "    ], remainder=\"passthrough\"\n",
    ")\n",
    "\n",
    "# SMOTETomek untuk menangani data imbalanced\n",
    "smote = SMOTE(sampling_strategy=0.8, random_state=42)\n",
    "tomek = TomekLinks(sampling_strategy='majority')\n",
    "sampling = SMOTETomek(smote=smote, tomek=tomek, random_state=42)\n",
    "\n",
    "# Tangani kasus ZeroDivisionError jika kelas minoritas tidak ada di y_train\n",
    "if np.sum(y_train == 1) == 0:\n",
    "    scale_pos_weight = 1\n",
    "else:\n",
    "    scale_pos_weight = np.sum(y_train == 0) / np.sum(y_train == 1)\n",
    "\n",
    "# Pipeline dengan model XGBoost\n",
    "xgb_pipe = Pipeline([\n",
    "    (\"preprocessor\", prep_stage_2),\n",
    "    (\"sampling\", sampling),\n",
    "    (\"model\", XGBClassifier(\n",
    "        scale_pos_weight=scale_pos_weight,\n",
    "        use_label_encoder=False,\n",
    "        eval_metric=\"logloss\",\n",
    "        random_state=42\n",
    "    ))\n",
    "])\n",
    "\n",
    "# K-Fold Cross Validation dengan StratifiedKFold\n",
    "k_values = [3, 5, 7, 10]\n",
    "scores = []\n",
    "\n",
    "for k in k_values:\n",
    "    cv = StratifiedKFold(n_splits=k, shuffle=True, random_state=42)\n",
    "    score = np.mean(cross_val_score(xgb_pipe, X_train, y_train, cv=cv, scoring='accuracy'))\n",
    "    scores.append((k, score))\n",
    "    print(f\"K = {k}: Mean Cross-Val Score = {score:.4f}\")\n",
    "\n",
    "# Menentukan nilai K terbaik\n",
    "best_k = sorted(scores, key=lambda x: x[1], reverse=True)[0][0]\n",
    "print(f\"Optimal K untuk Cross-Validation: {best_k}\")\n"
   ]
  },
  {
   "cell_type": "markdown",
   "metadata": {},
   "source": [
    "# Sample 3"
   ]
  },
  {
   "cell_type": "code",
   "execution_count": null,
   "metadata": {},
   "outputs": [],
   "source": [
    "from imblearn.over_sampling import SMOTE\n",
    "from imblearn.under_sampling import NearMiss\n",
    "from collections import Counter\n",
    "\n",
    "# Oversampling dengan SMOTE (hanya meningkatkan minoritas hingga 30% dari mayoritas)\n",
    "smote = SMOTE(sampling_strategy=0.3, random_state=42)\n",
    "\n",
    "# Alternatif undersampling yang lebih hati-hati dengan NearMiss\n",
    "undersample = NearMiss(version=3, n_neighbors=3)  # Mengurangi mayoritas tanpa kehilangan pola penting\n",
    "\n",
    "# Lakukan resampling hanya dengan SMOTE terlebih dahulu\n",
    "X_train_resample, y_train_resample = smote.fit_resample(X_train_tf, y_train)\n",
    "\n",
    "# (Opsional) Jika ingin menggunakan undersampling setelah SMOTE\n",
    "# X_train_resample, y_train_resample = undersample.fit_resample(X_train_resample, y_train_resample)\n",
    "\n",
    "# Print distribusi sebelum & sesudah resampling\n",
    "print(\"Before Resampling:\")\n",
    "print(y_train.value_counts(normalize=True) * 100)\n",
    "\n",
    "print(\"\\nAfter Resampling:\")\n",
    "print(y_train_resample.value_counts(normalize=True) * 100)\n",
    "\n",
    "# Cek jumlah sampel setelah resampling\n",
    "print(f\"\\nOriginal dataset shape: {Counter(y_train)}\")\n",
    "print(f\"Resampled dataset shape: {Counter(y_train_resample)}\")\n"
   ]
  },
  {
   "cell_type": "markdown",
   "metadata": {},
   "source": [
    "# Sample 4"
   ]
  },
  {
   "cell_type": "markdown",
   "metadata": {},
   "source": [
    "optuna (bayesian optimization)"
   ]
  },
  {
   "cell_type": "code",
   "execution_count": null,
   "metadata": {},
   "outputs": [],
   "source": [
    "# import optuna\n",
    "# from optuna.integration import SklearnPruningCallback\n",
    "# from sklearn.model_selection import cross_val_score\n",
    "\n",
    "# def objective(trial):\n",
    "#     params = {}\n",
    "    \n",
    "#     if final_model_name == \"Random Forest\":\n",
    "#         params = {\n",
    "#             'n_estimators': trial.suggest_int('n_estimators', 100, 500),\n",
    "#             'max_depth': trial.suggest_int('max_depth', 5, 30),\n",
    "#             'min_samples_split': trial.suggest_int('min_samples_split', 2, 10)\n",
    "#         }\n",
    "\n",
    "#     elif final_model_name == \"XGBoost\":\n",
    "#         params = {\n",
    "#             'n_estimators': trial.suggest_int('n_estimators', 100, 500),\n",
    "#             'learning_rate': trial.suggest_loguniform('learning_rate', 0.01, 0.2),\n",
    "#             'max_depth': trial.suggest_int('max_depth', 3, 10)\n",
    "#         }\n",
    "\n",
    "#     elif final_model_name == \"LightGBM\":\n",
    "#         params = {\n",
    "#             'num_leaves': trial.suggest_int('num_leaves', 31, 200),\n",
    "#             'learning_rate': trial.suggest_loguniform('learning_rate', 0.01, 0.2),\n",
    "#             'n_estimators': trial.suggest_int('n_estimators', 100, 500)\n",
    "#         }\n",
    "\n",
    "#     elif final_model_name == \"CatBoost\":\n",
    "#         params = {\n",
    "#             'iterations': trial.suggest_int('iterations', 100, 500),\n",
    "#             'learning_rate': trial.suggest_loguniform('learning_rate', 0.01, 0.2),\n",
    "#             'depth': trial.suggest_int('depth', 4, 10)\n",
    "#         }\n",
    "\n",
    "#     model = final_model.set_params(**params)\n",
    "    \n",
    "#     cv = StratifiedKFold(n_splits=3, shuffle=True, random_state=42)\n",
    "#     scores = cross_val_score(model, X_train_mod, y_train_mod, cv=cv, scoring='roc_auc')\n",
    "    \n",
    "#     return np.mean(scores)\n",
    "\n",
    "# # Optuna study\n",
    "# study = optuna.create_study(direction='maximize')\n",
    "# study.optimize(objective, n_trials=20, n_jobs=-1)\n",
    "\n",
    "# best_params = study.best_params\n",
    "# final_model = final_model.set_params(**best_params)\n",
    "\n",
    "# print(f\"\\n🔍 Hyperparameter Terbaik ({final_model_name}): {best_params}\")\n",
    "# print(f\"✅ Best ROC-AUC Score: {study.best_value:.3f}\")\n"
   ]
  },
  {
   "cell_type": "markdown",
   "metadata": {},
   "source": [
    "# Sample 5"
   ]
  },
  {
   "cell_type": "code",
   "execution_count": null,
   "metadata": {},
   "outputs": [],
   "source": [
    "# search = HalvingGridSearchCV(\n",
    "#     model, \n",
    "#     param_grid, \n",
    "#     factor=2,  # Setiap iterasi mengeliminasi setengah kandidat\n",
    "#     scoring='roc_auc',\n",
    "#     cv=5,  # Cross Validation 5-fold\n",
    "#     verbose=1,\n",
    "#     n_jobs=-1\n",
    "# )\n",
    "\n",
    "# search.fit(X_train_mod, y_train_mod)\n"
   ]
  },
  {
   "cell_type": "markdown",
   "metadata": {},
   "source": [
    "# Sample 6"
   ]
  },
  {
   "cell_type": "markdown",
   "metadata": {},
   "source": [
    "### Re-Sampling"
   ]
  },
  {
   "cell_type": "code",
   "execution_count": null,
   "metadata": {},
   "outputs": [],
   "source": [
    "# # over-sampling\n",
    "# smote = SMOTE(sampling_strategy = 0.8, \n",
    "#               k_neighbors = NearestNeighbors(n_jobs = -1), \n",
    "#               random_state = 42)\n",
    "\n",
    "# # under-sampling\n",
    "# tomek = TomekLinks(sampling_strategy = 'majority')\n",
    "\n",
    "# # resampling\n",
    "# sampling = SMOTETomek(smote = smote, \n",
    "#                       tomek = tomek, \n",
    "#                       random_state = 42)\n",
    "\n",
    "# X_train_resample, y_train_resample = sampling.fit_resample(X_train_tf, y_train)"
   ]
  },
  {
   "cell_type": "code",
   "execution_count": null,
   "metadata": {},
   "outputs": [],
   "source": [
    "# # over-sampling\n",
    "# smote = SMOTE(sampling_strategy = 0.4, \n",
    "#               k_neighbors = NearestNeighbors(n_jobs = -1), \n",
    "#               random_state = 42)\n",
    "\n",
    "# # under-sampling\n",
    "# tomek = TomekLinks(sampling_strategy = 'auto')\n",
    "\n",
    "# # resampling\n",
    "# sampling = SMOTETomek(smote = smote, \n",
    "#                       tomek = tomek, \n",
    "#                       random_state = 42)\n",
    "\n",
    "# X_train_resample, y_train_resample = sampling.fit_resample(X_train_tf, y_train)"
   ]
  },
  {
   "cell_type": "markdown",
   "metadata": {},
   "source": [
    "# Note"
   ]
  },
  {
   "cell_type": "markdown",
   "metadata": {},
   "source": [
    "Pemilihan sampling data sangat penting ketika data mengalami ketidak seimbangan (imbalanced data), pemilihan model resampling juga akan menentukan dan dapat berpengaruh terhadap overfitting, pilihlah sesuai resample yang dibutuhkan"
   ]
  },
  {
   "cell_type": "markdown",
   "metadata": {},
   "source": [
    "Setelah melalui proses tersebut maka langkah berikutnya adalah pemilihan model: baik secara manual yakni menggunakan pipleine atau bisa cara menggabungkan: voting atau stacking"
   ]
  },
  {
   "cell_type": "markdown",
   "metadata": {},
   "source": [
    "langkah berikutnya adalah memilih metrics yang tepat dalam mengatasi permasalahan yang ada, misal untuk fraud lebih sering menggunakan Average Precision (AP) Score atau Precision-Recall Curve"
   ]
  },
  {
   "cell_type": "markdown",
   "metadata": {},
   "source": [
    "| Metode Evaluasi        | Kode Scoring       | Keterangan |\n",
    "|------------------------|--------------------|------------|\n",
    "| **PR-AUC**            | `average_precision` | ✅ Terbaik untuk dataset imbalance |\n",
    "| **Recall**            | `recall`            | 🔥 Terbaik jika ingin menangkap sebanyak mungkin fraud |\n",
    "| **F1-Score**          | `f1`                | ⚖ Keseimbangan antara menangkap fraud & menghindari false positives |\n",
    "| **Precision**         | `precision`         | 🛑 Jika ingin menghindari false positives |\n",
    "| **ROC-AUC**          | `roc_auc`           | ⚠ Kurang direkomendasikan jika fraud sangat jarang |"
   ]
  },
  {
   "cell_type": "markdown",
   "metadata": {},
   "source": [
    "# backup"
   ]
  },
  {
   "cell_type": "markdown",
   "metadata": {},
   "source": [
    "## Pipeline Blueprint"
   ]
  },
  {
   "cell_type": "code",
   "execution_count": null,
   "metadata": {},
   "outputs": [],
   "source": [
    "# Rename var train\n",
    "X_train_mod = X_train_leak.copy()\n",
    "y_train_mod = y_train_resample.copy()\n",
    "\n",
    "# Rename var test\n",
    "X_test_mod = X_test_leak.copy()\n",
    "y_test_mod = y_test.copy()"
   ]
  },
  {
   "cell_type": "markdown",
   "metadata": {},
   "source": [
    "### Model Selections"
   ]
  },
  {
   "cell_type": "markdown",
   "metadata": {},
   "source": [
    "#### Logistic Regression"
   ]
  },
  {
   "cell_type": "code",
   "execution_count": null,
   "metadata": {},
   "outputs": [],
   "source": [
    "logreg_model = LogisticRegression(solver = \"liblinear\", \n",
    "                                #   class_weight = \"balanced\",\n",
    "                                  C = 0.5,  # Tambahkan regularisasi\n",
    "                                  penalty = \"l2\",\n",
    "                                  random_state = 42)"
   ]
  },
  {
   "cell_type": "markdown",
   "metadata": {},
   "source": [
    "#### Decission Tree"
   ]
  },
  {
   "cell_type": "code",
   "execution_count": null,
   "metadata": {},
   "outputs": [],
   "source": [
    "from sklearn.tree import DecisionTreeClassifier\n",
    "\n",
    "dt_model = DecisionTreeClassifier(max_depth = 5, \n",
    "                                #   class_weight = \"balanced\", \n",
    "                                  random_state = 42)"
   ]
  },
  {
   "cell_type": "markdown",
   "metadata": {},
   "source": [
    "#### Random Forest"
   ]
  },
  {
   "cell_type": "code",
   "execution_count": null,
   "metadata": {},
   "outputs": [],
   "source": [
    "forest_model = RandomForestClassifier(n_estimators = 100,  # Kurangi jumlah pohon\n",
    "                                      max_depth = 5,  # Kurangi kedalaman pohon\n",
    "                                      min_samples_split = 10,  # Cegah overfitting\n",
    "                                    #   class_weight = \"balanced\",\n",
    "                                      random_state = 42)"
   ]
  },
  {
   "cell_type": "markdown",
   "metadata": {},
   "source": [
    "#### XGBoost"
   ]
  },
  {
   "cell_type": "code",
   "execution_count": null,
   "metadata": {},
   "outputs": [],
   "source": [
    "# Tangani kasus ZeroDivisionError jika kelas minoritas tidak ada di y_train\n",
    "if np.sum(y_train_resample == 1) == 0:\n",
    "    scale_pos_weight = 1\n",
    "    \n",
    "else:\n",
    "    scale_pos_weight = np.sum(y_train_resample == 0) / np.sum(y_train_resample == 1)"
   ]
  },
  {
   "cell_type": "code",
   "execution_count": null,
   "metadata": {},
   "outputs": [],
   "source": [
    "xgb_model = XGBClassifier(n_estimators = 500, \n",
    "                        #   scale_pos_weight = scale_pos_weight,\n",
    "                          learning_rate = 0.05, \n",
    "                          max_depth = 3,  \n",
    "                          subsample = 0.8, \n",
    "                          colsample_bytree = 0.8,  \n",
    "                          reg_alpha = 0.1,  # Regularisasi L1\n",
    "                          reg_lambda = 0.5,  # Regularisasi L2\n",
    "                          eval_metric = \"aucpr\",\n",
    "                          random_state = 42)"
   ]
  },
  {
   "cell_type": "markdown",
   "metadata": {},
   "source": [
    "#### LightBGM"
   ]
  },
  {
   "cell_type": "code",
   "execution_count": null,
   "metadata": {},
   "outputs": [],
   "source": [
    "lbgm_model = LGBMClassifier(is_unbalance = True, \n",
    "                            force_col_wise = True, \n",
    "                            max_depth = 10,  # Menambah kedalaman pohon \n",
    "                            min_data_in_leaf = 10,  # Menghindari split yang tidak berguna \n",
    "                            eval_metric = \"logloss\",  # Metode evaluasi yang lebih jelas \n",
    "                            verbose = -1,  # Mengurangi log yang berlebihan \n",
    "                            random_state = 42)"
   ]
  },
  {
   "cell_type": "markdown",
   "metadata": {},
   "source": [
    "#### CatBoost"
   ]
  },
  {
   "cell_type": "code",
   "execution_count": null,
   "metadata": {},
   "outputs": [],
   "source": [
    "catb_model = CatBoostClassifier(verbose = 0, \n",
    "                                # auto_class_weights = 'Balanced', \n",
    "                                random_state = 42)"
   ]
  },
  {
   "cell_type": "markdown",
   "metadata": {},
   "source": [
    "#### Pipeline Methode"
   ]
  },
  {
   "cell_type": "code",
   "execution_count": null,
   "metadata": {},
   "outputs": [
    {
     "name": "stdout",
     "output_type": "stream",
     "text": [
      "🔹 Evaluasi Model: Logistic Regression\n",
      "==================================================\n",
      "📊 Average Precision Score (Train): 0.962\n",
      "📊 Average Precision Score (Test): 0.927\n",
      "🎯 Optimal Threshold: 0.479\n",
      "\n",
      "📄 Classification Report:\n",
      "              precision    recall  f1-score   support\n",
      "\n",
      "           0       1.00      0.99      1.00     56549\n",
      "           1       0.87      0.90      0.88      2369\n",
      "\n",
      "    accuracy                           0.99     58918\n",
      "   macro avg       0.93      0.95      0.94     58918\n",
      "weighted avg       0.99      0.99      0.99     58918\n",
      "\n",
      "================================================== \n",
      "\n",
      "🔹 Evaluasi Model: Decission Tree\n",
      "==================================================\n",
      "📊 Average Precision Score (Train): 1.000\n",
      "⚠️ AP Score Test terlalu tinggi (1.000), model ini diabaikan.\n",
      "\n",
      "🔹 Evaluasi Model: Random Forest\n",
      "==================================================\n",
      "📊 Average Precision Score (Train): 1.000\n",
      "⚠️ AP Score Test terlalu tinggi (1.000), model ini diabaikan.\n",
      "\n",
      "🔹 Evaluasi Model: XGBoost\n",
      "==================================================\n",
      "📊 Average Precision Score (Train): 1.000\n",
      "⚠️ AP Score Test terlalu tinggi (1.000), model ini diabaikan.\n",
      "\n",
      "🔹 Evaluasi Model: LightGBM\n",
      "==================================================\n",
      "📊 Average Precision Score (Train): 1.000\n",
      "⚠️ AP Score Test terlalu tinggi (1.000), model ini diabaikan.\n",
      "\n",
      "🔹 Evaluasi Model: CatBoost\n",
      "==================================================\n",
      "📊 Average Precision Score (Train): 1.000\n",
      "⚠️ AP Score Test terlalu tinggi (1.000), model ini diabaikan.\n",
      "\n",
      "🏆 Model Terbaik: Logistic Regression dengan AP Score Test tertinggi: 0.927 dan perbedaan AP Score: 0.036\n"
     ]
    }
   ],
   "source": [
    "from sklearn.metrics import average_precision_score, classification_report, precision_recall_curve\n",
    "import matplotlib.pyplot as plt\n",
    "\n",
    "# Menyimpan semua pipeline dalam dictionary\n",
    "pipelines = {\n",
    "    \"Logistic Regression\": logreg_model,\n",
    "    \"Decission Tree\": dt_model, \n",
    "    \"Random Forest\": forest_model,\n",
    "    \"XGBoost\": xgb_model,\n",
    "    \"LightGBM\": lbgm_model,\n",
    "    \"CatBoost\": catb_model\n",
    "}\n",
    "\n",
    "# Evaluasi semua model\n",
    "best_ap_test = 0  \n",
    "best_score_diff = float(\"inf\")  \n",
    "best_model = None\n",
    "best_model_name = \"\"\n",
    "\n",
    "for name, pipe in pipelines.items():\n",
    "    print(f\"🔹 Evaluasi Model: {name}\")\n",
    "    print('=' * 50)\n",
    "    \n",
    "    # Training model\n",
    "    if name == \"CatBoost\":\n",
    "        pipe.fit(X_train_mod, y_train_mod, verbose=False)\n",
    "    else:\n",
    "        pipe.fit(X_train_mod, y_train_mod)\n",
    "    \n",
    "    # === Train Evaluation ===\n",
    "    y_train_pred_proba = pipe.predict_proba(X_train_mod)[:, 1]\n",
    "    ap_train = average_precision_score(y_train_mod, y_train_pred_proba)\n",
    "    print(f\"📊 Average Precision Score (Train): {ap_train:.3f}\")\n",
    "\n",
    "    # === Test Evaluation ===\n",
    "    y_test_pred_proba = pipe.predict_proba(X_test_mod)[:, 1]\n",
    "    ap_test = average_precision_score(y_test_mod, y_test_pred_proba)\n",
    "    \n",
    "    # Filter model jika AP Score terlalu tinggi\n",
    "    if ap_test > 0.95:\n",
    "        print(f\"⚠️ AP Score Test terlalu tinggi ({ap_test:.3f}), model ini diabaikan.\\n\")\n",
    "        continue  \n",
    "\n",
    "    print(f\"📊 Average Precision Score (Test): {ap_test:.3f}\")\n",
    "\n",
    "    # Precision-Recall Curve\n",
    "    precisions, recalls, thresholds = precision_recall_curve(y_test_mod, y_test_pred_proba)\n",
    "    \n",
    "    # Cari threshold optimal\n",
    "    f1_scores = (2 * precisions * recalls) / (precisions + recalls + 1e-9)  # Hindari divisi oleh nol\n",
    "    best_threshold = thresholds[f1_scores.argmax()] if len(thresholds) > 0 else 0.5\n",
    "    print(f\"🎯 Optimal Threshold: {best_threshold:.3f}\")\n",
    "\n",
    "    # Konversi probabilitas menjadi label menggunakan threshold optimal\n",
    "    y_test_pred = (y_test_pred_proba >= best_threshold).astype(int)\n",
    "\n",
    "    # Classification Report\n",
    "    print(\"\\n📄 Classification Report:\")\n",
    "    print(classification_report(y_test_mod, y_test_pred))\n",
    "\n",
    "    print('=' * 50, '\\n')\n",
    "\n",
    "    # Evaluasi model terbaik berdasarkan AP Score Test dan perbedaan train-test terkecil\n",
    "    score_diff = abs(ap_train - ap_test)\n",
    "\n",
    "    if ap_test > best_ap_test or (ap_test == best_ap_test and score_diff < best_score_diff):\n",
    "        best_model = pipe\n",
    "        best_model_name = name\n",
    "        best_ap_test = ap_test\n",
    "        best_score_diff = score_diff\n",
    "\n",
    "# Menampilkan hasil akhir\n",
    "if best_model is not None:\n",
    "    print(f\"🏆 Model Terbaik: {best_model_name} dengan AP Score Test tertinggi: {best_ap_test:.3f} dan perbedaan AP Score: {best_score_diff:.3f}\")\n",
    "else:\n",
    "    print(\"❌ Tidak ada model yang memenuhi syarat (AP Score Test ≤ 0.95).\")\n"
   ]
  },
  {
   "cell_type": "markdown",
   "metadata": {},
   "source": [
    "#### Voting Methode"
   ]
  },
  {
   "cell_type": "code",
   "execution_count": null,
   "metadata": {},
   "outputs": [
    {
     "name": "stdout",
     "output_type": "stream",
     "text": [
      "⚠️ AP Score Voting Classifier terlalu tinggi (1.000), model ini diabaikan.\n"
     ]
    }
   ],
   "source": [
    "from sklearn.ensemble import VotingClassifier\n",
    "from sklearn.metrics import average_precision_score, classification_report, precision_recall_curve\n",
    "\n",
    "# Membuat Voting Classifier dengan model terbaik\n",
    "voting_clf = VotingClassifier(\n",
    "    estimators=[\n",
    "        ('rf', forest_model),\n",
    "        ('dt', dt_model), \n",
    "        ('xgb', xgb_model),\n",
    "        ('lgbm', lbgm_model),\n",
    "        ('catb', catb_model)\n",
    "    ],\n",
    "    voting='soft'  # Menggunakan probabilitas\n",
    ")\n",
    "\n",
    "# Training Voting Classifier\n",
    "voting_clf.fit(X_train_mod, y_train_mod)\n",
    "\n",
    "# Evaluasi pada Test Set\n",
    "y_test_pred_proba_voting = voting_clf.predict_proba(X_test_mod)[:, 1]\n",
    "\n",
    "# Hitung Average Precision Score (AP Score) untuk Voting Classifier\n",
    "best_ap_voting = average_precision_score(y_test_mod, y_test_pred_proba_voting)\n",
    "\n",
    "# Filter jika AP Score Voting Classifier terlalu tinggi\n",
    "if best_ap_voting > 0.95:\n",
    "    print(f\"⚠️ AP Score Voting Classifier terlalu tinggi ({best_ap_voting:.3f}), model ini diabaikan.\")\n",
    "    best_ap_voting = 0  # Abaikan model ini dari pemilihan final\n",
    "else:\n",
    "    print(f\"📊 Average Precision Score (Voting Classifier): {best_ap_voting:.3f}\")\n",
    "\n",
    "    # Precision-Recall Curve\n",
    "    precisions, recalls, thresholds = precision_recall_curve(y_test_mod, y_test_pred_proba_voting)\n",
    "\n",
    "    # Cari threshold optimal\n",
    "    f1_scores = (2 * precisions * recalls) / (precisions + recalls + 1e-9)  # Hindari divisi oleh nol\n",
    "    best_threshold_voting = thresholds[f1_scores.argmax()] if len(thresholds) > 0 else 0.5\n",
    "    print(f\"🎯 Optimal Threshold: {best_threshold_voting:.3f}\")\n",
    "\n",
    "    # Konversi probabilitas menjadi label menggunakan threshold optimal\n",
    "    y_test_pred_voting = (y_test_pred_proba_voting >= best_threshold_voting).astype(int)\n",
    "\n",
    "    # Evaluasi Voting Classifier\n",
    "    print(\"\\n=== Classification Report (Voting Classifier) ===\")\n",
    "    print(classification_report(y_test_mod, y_test_pred_voting)) \n"
   ]
  },
  {
   "cell_type": "markdown",
   "metadata": {},
   "source": [
    "### Choosing Best Model"
   ]
  },
  {
   "cell_type": "code",
   "execution_count": null,
   "metadata": {},
   "outputs": [
    {
     "name": "stdout",
     "output_type": "stream",
     "text": [
      "✅ Model Terbaik untuk CV: Logistic Regression dengan Average Precision Score: 0.927\n"
     ]
    }
   ],
   "source": [
    "final_model = None\n",
    "final_model_name = \"\"\n",
    "final_score = 0\n",
    "\n",
    "if best_ap_voting > best_ap_test:\n",
    "    final_model = voting_clf\n",
    "    final_model_name = \"Voting Classifier\"\n",
    "    final_score = best_ap_voting\n",
    "elif best_ap_test > 0:\n",
    "    final_model = best_model\n",
    "    final_model_name = best_model_name\n",
    "    final_score = best_ap_test\n",
    "\n",
    "# Menampilkan model terbaik\n",
    "if final_model is not None:\n",
    "    print(f\"✅ Model Terbaik untuk CV: {final_model_name} dengan Average Precision Score: {final_score:.3f}\")\n",
    "else:\n",
    "    print(\"❌ Tidak ada model yang memenuhi syarat (AP Score Test ≤ 0.95).\")"
   ]
  },
  {
   "cell_type": "markdown",
   "metadata": {},
   "source": [
    "## Finding Optimal CV"
   ]
  },
  {
   "cell_type": "code",
   "execution_count": null,
   "metadata": {},
   "outputs": [
    {
     "name": "stdout",
     "output_type": "stream",
     "text": [
      "🔍 Mencari Nilai CV Optimal dengan StratifiedKFold...\n",
      "\n",
      "Evaluasi dengan cv = 3\n",
      "stratified_cv: StratifiedKFold(n_splits=3, random_state=42, shuffle=True)\n",
      "average_precision rata-rata: 0.962 (dengan cv = 3)\n",
      "\n",
      "Evaluasi dengan cv = 5\n",
      "stratified_cv: StratifiedKFold(n_splits=5, random_state=42, shuffle=True)\n",
      "average_precision rata-rata: 0.962 (dengan cv = 5)\n",
      "\n",
      "Evaluasi dengan cv = 7\n",
      "stratified_cv: StratifiedKFold(n_splits=7, random_state=42, shuffle=True)\n",
      "average_precision rata-rata: 0.962 (dengan cv = 7)\n",
      "\n",
      "Evaluasi dengan cv = 10\n",
      "stratified_cv: StratifiedKFold(n_splits=10, random_state=42, shuffle=True)\n",
      "average_precision rata-rata: 0.962 (dengan cv = 10)\n",
      "\n",
      "✅ Nilai CV Optimal: 3 dengan ROC-AUC: 0.962\n"
     ]
    }
   ],
   "source": [
    "# Daftar nilai CV yang ingin diuji\n",
    "cv_values = [3, 5, 7, 10]\n",
    "testing_best_cv = None\n",
    "testing_cv_score = 0\n",
    "\n",
    "print(\"🔍 Mencari Nilai CV Optimal dengan StratifiedKFold...\")\n",
    "\n",
    "for cv in cv_values:\n",
    "    print(f\"\\nEvaluasi dengan cv = {cv}\")\n",
    "    \n",
    "    # Gunakan StratifiedKFold\n",
    "    stratified_cv = StratifiedKFold(n_splits = cv, shuffle = True, random_state = 42)\n",
    "    print(f\"stratified_cv: {stratified_cv}\")\n",
    "    \n",
    "    scores = cross_val_score(final_model, \n",
    "                             X_train_mod, \n",
    "                             y_train_mod, \n",
    "                             cv = stratified_cv, \n",
    "                             scoring = 'average_precision', \n",
    "                             n_jobs = -1)\n",
    "    \n",
    "    mean_score = np.mean(scores)  # ✅ Gunakan rata-rata, bukan max\n",
    "    print(f\"average_precision rata-rata: {mean_score:.3f} (dengan cv = {cv})\")\n",
    "    \n",
    "    # Simpan nilai CV terbaik\n",
    "    if mean_score > testing_cv_score:\n",
    "        testing_cv_score = mean_score\n",
    "        testing_best_cv = cv\n",
    "\n",
    "print(f\"\\n✅ Nilai CV Optimal: {testing_best_cv} dengan ROC-AUC: {testing_cv_score:.3f}\")"
   ]
  },
  {
   "cell_type": "markdown",
   "metadata": {},
   "source": [
    "# Hyperparameter Tuning"
   ]
  },
  {
   "cell_type": "markdown",
   "metadata": {},
   "source": [
    "halving"
   ]
  },
  {
   "cell_type": "code",
   "execution_count": null,
   "metadata": {},
   "outputs": [],
   "source": [
    "# Pilih model yang akan di-tuning\n",
    "if final_model_name == \"Random Forest\":\n",
    "    param_dist = {\n",
    "        'n_estimators': [100, 300, 500, 1000],  # Jumlah pohon dalam hutan\n",
    "        'max_depth': [10, 20, 30, None],  # Kedalaman maksimum pohon\n",
    "        'min_samples_split': [2, 5, 10, 20],  # Minimum sampel untuk melakukan split\n",
    "        'min_samples_leaf': [1, 2, 5, 10],  # Minimum sampel di setiap daun\n",
    "        'max_features': ['sqrt', 'log2', None],  # Fitur yang dipertimbangkan per split\n",
    "        'bootstrap': [True, False]  # Apakah menggunakan bootstrap sampling\n",
    "    }\n",
    "\n",
    "elif final_model_name == \"Logistic Regression\":\n",
    "    param_dist = {\n",
    "        'penalty': ['l1', 'l2', 'elasticnet', None],  # Jenis regularisasi\n",
    "        'C': [0.001, 0.01, 0.1, 1, 10, 100],  # Parameter inversi dari regularisasi\n",
    "        'solver': ['liblinear', 'lbfgs', 'saga', 'newton-cg'],  # Algoritma optimasi\n",
    "        'max_iter': [100, 200, 500, 1000],  # Jumlah iterasi maksimum\n",
    "        'l1_ratio': [0, 0.1, 0.5, 0.9, 1]  # Hanya berlaku untuk elasticnet\n",
    "    }\n",
    "\n",
    "\n",
    "elif final_model_name == \"XGBoost\":\n",
    "    param_dist = {\n",
    "        'n_estimators': [100, 200, 300, 500],  # Jumlah pohon boosting\n",
    "        'learning_rate': [0.001, 0.01, 0.1, 0.2],  # Laju pembelajaran\n",
    "        'max_depth': [3, 6, 10, 15],  # Kedalaman maksimum pohon\n",
    "        'min_child_weight': [1, 3, 5, 7],  # Bobot minimum anak untuk split\n",
    "        'subsample': [0.6, 0.8, 1.0],  # Rasio sampel yang digunakan dalam training\n",
    "        'colsample_bytree': [0.6, 0.8, 1.0],  # Proporsi fitur yang digunakan per pohon\n",
    "        'gamma': [0, 0.1, 0.2, 0.5],  # Pengendalian pruning dengan minimum loss reduction\n",
    "        'reg_lambda': [0, 0.1, 1, 10],  # Regularisasi L2\n",
    "        'reg_alpha': [0, 0.1, 1, 10]  # Regularisasi L1\n",
    "    }\n",
    "\n",
    "elif final_model_name == \"LightGBM\":\n",
    "    param_dist = {\n",
    "        'num_leaves': [31, 50, 100, 150],  # Jumlah daun pada setiap pohon\n",
    "        'learning_rate': [0.001, 0.01, 0.1, 0.2],  # Laju pembelajaran\n",
    "        'n_estimators': [100, 200, 300, 500],  # Jumlah pohon boosting\n",
    "        'max_depth': [-1, 10, 20, 30],  # Kedalaman maksimum pohon (-1 berarti tidak terbatas)\n",
    "        'min_child_samples': [10, 20, 50, 100],  # Minimum sampel dalam satu leaf\n",
    "        'subsample': [0.6, 0.8, 1.0],  # Proporsi sampel yang digunakan\n",
    "        'colsample_bytree': [0.6, 0.8, 1.0],  # Proporsi fitur yang digunakan per pohon\n",
    "        'reg_lambda': [0, 0.1, 1, 10],  # Regularisasi L2\n",
    "        'reg_alpha': [0, 0.1, 1, 10]  # Regularisasi L1\n",
    "    }\n",
    "\n",
    "elif final_model_name == \"CatBoost\":\n",
    "    param_dist = {\n",
    "        'iterations': [100, 200, 300, 500],  # Jumlah iterasi boosting\n",
    "        'learning_rate': [0.001, 0.01, 0.1, 0.2],  # Laju pembelajaran\n",
    "        'depth': [4, 6, 10, 12],  # Kedalaman maksimum pohon\n",
    "        'l2_leaf_reg': [1, 3, 5, 10],  # Regularisasi L2 untuk leaf\n",
    "        'bagging_temperature': [0.1, 0.5, 1, 2],  # Kontrol bootstraping (mirip dengan subsample)\n",
    "        'border_count': [32, 64, 128],  # Jumlah bin untuk fitur numerik\n",
    "        'random_strength': [0.1, 0.5, 1, 2]  # Noise untuk regularisasi\n",
    "    }"
   ]
  },
  {
   "cell_type": "code",
   "execution_count": null,
   "metadata": {},
   "outputs": [],
   "source": [
    "# from itertools import product\n",
    "\n",
    "# # Pastikan `final_model_name` memiliki nilai yang valid\n",
    "# if \"final_model_name\" not in globals():\n",
    "#     raise ValueError(\"Variabel 'final_model_name' belum didefinisikan!\")\n",
    "\n",
    "# # Pilih model yang akan di-tuning\n",
    "# if final_model_name == \"Random Forest\":\n",
    "#     param_dist = {\n",
    "#         'n_estimators': [100, 300, 500, 1000],\n",
    "#         'max_depth': [10, 20, 30, None],\n",
    "#         'min_samples_split': [2, 5, 10, 20],\n",
    "#         'min_samples_leaf': [1, 2, 5, 10],\n",
    "#         'max_features': ['sqrt', 'log2', None],\n",
    "#         'bootstrap': [True, False]\n",
    "#     }\n",
    "\n",
    "# elif final_model_name == \"XGBoost\":\n",
    "#     param_dist = {\n",
    "#         'n_estimators': [100, 200, 300, 500],\n",
    "#         'learning_rate': [0.001, 0.01, 0.1, 0.2],\n",
    "#         'max_depth': [3, 6, 10, 15],\n",
    "#         'min_child_weight': [1, 3, 5, 7],\n",
    "#         'subsample': [0.6, 0.8, 1.0],\n",
    "#         'colsample_bytree': [0.6, 0.8, 1.0],\n",
    "#         'gamma': [0, 0.1, 0.2, 0.5],\n",
    "#         'reg_lambda': [0, 0.1, 1, 10],\n",
    "#         'reg_alpha': [0, 0.1, 1, 10]\n",
    "#     }\n",
    "\n",
    "# elif final_model_name == \"LightGBM\":\n",
    "#     param_dist = {\n",
    "#         'num_leaves': [31, 50, 100, 150],\n",
    "#         'learning_rate': [0.001, 0.01, 0.1, 0.2],\n",
    "#         'n_estimators': [100, 200, 300, 500],\n",
    "#         'max_depth': [-1, 10, 20, 30],\n",
    "#         'min_child_samples': [10, 20, 50, 100],\n",
    "#         'subsample': [0.6, 0.8, 1.0],\n",
    "#         'colsample_bytree': [0.6, 0.8, 1.0],\n",
    "#         'reg_lambda': [0, 0.1, 1, 10],\n",
    "#         'reg_alpha': [0, 0.1, 1, 10]\n",
    "#     }\n",
    "\n",
    "# elif final_model_name == \"CatBoost\":\n",
    "#     param_dist = {\n",
    "#         'iterations': [100, 200, 300, 500],\n",
    "#         'learning_rate': [0.001, 0.01, 0.1, 0.2],\n",
    "#         'depth': [4, 6, 10, 12],\n",
    "#         'l2_leaf_reg': [1, 3, 5, 10],\n",
    "#         'bagging_temperature': [0.1, 0.5, 1, 2],\n",
    "#         'border_count': [32, 64, 128],\n",
    "#         'random_strength': [0.1, 0.5, 1, 2]\n",
    "#     }\n",
    "\n",
    "# else:\n",
    "#     raise ValueError(f\"Model '{final_model_name}' tidak dikenali!\")\n"
   ]
  },
  {
   "cell_type": "code",
   "execution_count": null,
   "metadata": {},
   "outputs": [],
   "source": [
    "# # 🔹 Pastikan X_train_mod adalah DataFrame\n",
    "# if isinstance(X_train_mod, np.ndarray):\n",
    "#     X_train_mod = pd.DataFrame(X_train_mod)\n",
    "\n",
    "# # 🔹 Bersihkan dataset dari NaN\n",
    "# X_train_mod = X_train_mod.fillna(X_train_mod.median())\n",
    "\n",
    "# # 🔹 Bersihkan dataset dari Inf\n",
    "# X_train_mod = X_train_mod.replace([np.inf, -np.inf], np.nan)  # Ganti Inf jadi NaN\n",
    "# X_train_mod = X_train_mod.fillna(X_train_mod.median())  # Isi ulang dengan median\n",
    "\n",
    "# # 🔹 Konversi kembali ke NumPy jika diperlukan\n",
    "# X_train_mod = X_train_mod.to_numpy()"
   ]
  },
  {
   "cell_type": "code",
   "execution_count": null,
   "metadata": {},
   "outputs": [
    {
     "name": "stdout",
     "output_type": "stream",
     "text": [
      "Total kombinasi parameter valid: 1920\n"
     ]
    }
   ],
   "source": [
    "# 🔹 Hitung jumlah kombinasi parameter jika `param_dist` sudah terdefinisi\n",
    "if \"param_dist\" in globals():\n",
    "    total_combinations = len(list(product(*param_dist.values())))\n",
    "    print(f\"Total kombinasi parameter valid: {total_combinations}\")\n",
    "\n",
    "    # 🔹 Atur `n_candidates` agar tidak lebih besar dari jumlah kombinasi parameter\n",
    "    param_combinations = min(100, total_combinations)\n",
    "else:\n",
    "    raise ValueError(\"param_dist tidak terdefinisi.\")"
   ]
  },
  {
   "cell_type": "code",
   "execution_count": null,
   "metadata": {},
   "outputs": [],
   "source": [
    "# # Konversi kembali ke DataFrame dengan kolom asli\n",
    "# X_train_mod = pd.DataFrame(X_train_mod, columns=X_train.columns)\n",
    "# X_test_mod = pd.DataFrame(X_test_mod, columns=X_test.columns)\n",
    "\n",
    "# # 🔍 Cek dan Tangani NaN & Inf\n",
    "# def clean_data(df):\n",
    "#     # Simpan nama kolom\n",
    "#     columns = df.columns\n",
    "\n",
    "#     # Pastikan semua kolom numerik\n",
    "#     df = df.apply(pd.to_numeric, errors='coerce')\n",
    "\n",
    "#     # Cek apakah ada NaN atau Inf\n",
    "#     if np.any(pd.isnull(df)) or np.any(np.isinf(df)):\n",
    "#         print(\"⚠️ Warning: Dataset mengandung NaN atau Inf! Membersihkannya...\")\n",
    "\n",
    "#         # Ganti NaN dengan median setiap kolom\n",
    "#         df = df.fillna(df.median())\n",
    "\n",
    "#         # Ganti Inf dengan nilai maksimum di setiap kolom\n",
    "#         df = df.replace([np.inf, -np.inf], df.max())\n",
    "\n",
    "#     # Pastikan DataFrame tetap memiliki nama kolom\n",
    "#     df.columns = columns\n",
    "\n",
    "#     return df\n",
    "\n",
    "# # 🔹 Bersihkan X_train_mod & X_test_mod\n",
    "# X_train_mod = clean_data(X_train_mod)\n",
    "# X_test_mod = clean_data(X_test_mod)\n",
    "\n",
    "# # 🔍 Cek statistik dataset setelah pembersihan\n",
    "# print(X_train_mod.describe())\n"
   ]
  },
  {
   "cell_type": "code",
   "execution_count": null,
   "metadata": {},
   "outputs": [
    {
     "ename": "ValueError",
     "evalue": "Solver newton-cg supports only 'l2' or 'none' penalties, got l1 penalty.",
     "output_type": "error",
     "traceback": [
      "\u001b[1;31m---------------------------------------------------------------------------\u001b[0m\n",
      "\u001b[1;31m_RemoteTraceback\u001b[0m                          Traceback (most recent call last)\n",
      "\u001b[1;31m_RemoteTraceback\u001b[0m: \n",
      "\"\"\"\n",
      "Traceback (most recent call last):\n",
      "  File \"c:\\Users\\Prasetya\\anaconda3\\lib\\site-packages\\joblib\\externals\\loky\\process_executor.py\", line 463, in _process_worker\n",
      "    r = call_item()\n",
      "  File \"c:\\Users\\Prasetya\\anaconda3\\lib\\site-packages\\joblib\\externals\\loky\\process_executor.py\", line 291, in __call__\n",
      "    return self.fn(*self.args, **self.kwargs)\n",
      "  File \"c:\\Users\\Prasetya\\anaconda3\\lib\\site-packages\\joblib\\parallel.py\", line 598, in __call__\n",
      "    return [func(*args, **kwargs)\n",
      "  File \"c:\\Users\\Prasetya\\anaconda3\\lib\\site-packages\\joblib\\parallel.py\", line 598, in <listcomp>\n",
      "    return [func(*args, **kwargs)\n",
      "  File \"c:\\Users\\Prasetya\\anaconda3\\lib\\site-packages\\sklearn\\utils\\parallel.py\", line 123, in __call__\n",
      "    return self.function(*args, **kwargs)\n",
      "  File \"c:\\Users\\Prasetya\\anaconda3\\lib\\site-packages\\sklearn\\model_selection\\_validation.py\", line 686, in _fit_and_score\n",
      "    estimator.fit(X_train, y_train, **fit_params)\n",
      "  File \"c:\\Users\\Prasetya\\anaconda3\\lib\\site-packages\\sklearn\\linear_model\\_logistic.py\", line 1162, in fit\n",
      "    solver = _check_solver(self.solver, self.penalty, self.dual)\n",
      "  File \"c:\\Users\\Prasetya\\anaconda3\\lib\\site-packages\\sklearn\\linear_model\\_logistic.py\", line 54, in _check_solver\n",
      "    raise ValueError(\n",
      "ValueError: Solver newton-cg supports only 'l2' or 'none' penalties, got l1 penalty.\n",
      "\"\"\"\n",
      "\n",
      "The above exception was the direct cause of the following exception:\n",
      "\n",
      "\u001b[1;31mValueError\u001b[0m                                Traceback (most recent call last)\n",
      "Cell \u001b[1;32mIn[59], line 20\u001b[0m\n",
      "\u001b[0;32m      7\u001b[0m \u001b[38;5;66;03m# 🔍 Hyperparameter Tuning dengan HalvingRandomSearchCV\u001b[39;00m\n",
      "\u001b[0;32m      8\u001b[0m halving_search \u001b[38;5;241m=\u001b[39m HalvingRandomSearchCV(\n",
      "\u001b[0;32m      9\u001b[0m     final_model, \n",
      "\u001b[0;32m     10\u001b[0m     param_distributions \u001b[38;5;241m=\u001b[39m param_dist, \n",
      "\u001b[1;32m   (...)\u001b[0m\n",
      "\u001b[0;32m     17\u001b[0m     error_score \u001b[38;5;241m=\u001b[39m \u001b[38;5;124m\"\u001b[39m\u001b[38;5;124mraise\u001b[39m\u001b[38;5;124m\"\u001b[39m\n",
      "\u001b[0;32m     18\u001b[0m )\n",
      "\u001b[1;32m---> 20\u001b[0m \u001b[43mhalving_search\u001b[49m\u001b[38;5;241;43m.\u001b[39;49m\u001b[43mfit\u001b[49m\u001b[43m(\u001b[49m\u001b[43mX_train_mod\u001b[49m\u001b[43m,\u001b[49m\u001b[43m \u001b[49m\u001b[43my_train_mod\u001b[49m\u001b[43m)\u001b[49m\n",
      "\u001b[0;32m     22\u001b[0m \u001b[38;5;28mprint\u001b[39m(\u001b[38;5;124mf\u001b[39m\u001b[38;5;124m\"\u001b[39m\u001b[38;5;130;01m\\n\u001b[39;00m\u001b[38;5;124m🔍 Hyperparameter Terbaik (\u001b[39m\u001b[38;5;132;01m{\u001b[39;00mfinal_model_name\u001b[38;5;132;01m}\u001b[39;00m\u001b[38;5;124m): \u001b[39m\u001b[38;5;132;01m{\u001b[39;00mhalving_search\u001b[38;5;241m.\u001b[39mbest_params_\u001b[38;5;132;01m}\u001b[39;00m\u001b[38;5;124m\"\u001b[39m)\n",
      "\u001b[0;32m     23\u001b[0m \u001b[38;5;28mprint\u001b[39m(\u001b[38;5;124mf\u001b[39m\u001b[38;5;124m\"\u001b[39m\u001b[38;5;124m✅ Best ROC-AUC Score: \u001b[39m\u001b[38;5;132;01m{\u001b[39;00mhalving_search\u001b[38;5;241m.\u001b[39mbest_score_\u001b[38;5;132;01m:\u001b[39;00m\u001b[38;5;124m.3f\u001b[39m\u001b[38;5;132;01m}\u001b[39;00m\u001b[38;5;124m\"\u001b[39m)\n",
      "\n",
      "File \u001b[1;32mc:\\Users\\Prasetya\\anaconda3\\lib\\site-packages\\sklearn\\model_selection\\_search_successive_halving.py:273\u001b[0m, in \u001b[0;36mBaseSuccessiveHalving.fit\u001b[1;34m(self, X, y, groups, **fit_params)\u001b[0m\n",
      "\u001b[0;32m    265\u001b[0m \u001b[38;5;28mself\u001b[39m\u001b[38;5;241m.\u001b[39m_check_input_parameters(\n",
      "\u001b[0;32m    266\u001b[0m     X\u001b[38;5;241m=\u001b[39mX,\n",
      "\u001b[0;32m    267\u001b[0m     y\u001b[38;5;241m=\u001b[39my,\n",
      "\u001b[0;32m    268\u001b[0m     groups\u001b[38;5;241m=\u001b[39mgroups,\n",
      "\u001b[0;32m    269\u001b[0m )\n",
      "\u001b[0;32m    271\u001b[0m \u001b[38;5;28mself\u001b[39m\u001b[38;5;241m.\u001b[39m_n_samples_orig \u001b[38;5;241m=\u001b[39m _num_samples(X)\n",
      "\u001b[1;32m--> 273\u001b[0m \u001b[38;5;28msuper\u001b[39m()\u001b[38;5;241m.\u001b[39mfit(X, y\u001b[38;5;241m=\u001b[39my, groups\u001b[38;5;241m=\u001b[39mgroups, \u001b[38;5;241m*\u001b[39m\u001b[38;5;241m*\u001b[39mfit_params)\n",
      "\u001b[0;32m    275\u001b[0m \u001b[38;5;66;03m# Set best_score_: BaseSearchCV does not set it, as refit is a callable\u001b[39;00m\n",
      "\u001b[0;32m    276\u001b[0m \u001b[38;5;28mself\u001b[39m\u001b[38;5;241m.\u001b[39mbest_score_ \u001b[38;5;241m=\u001b[39m \u001b[38;5;28mself\u001b[39m\u001b[38;5;241m.\u001b[39mcv_results_[\u001b[38;5;124m\"\u001b[39m\u001b[38;5;124mmean_test_score\u001b[39m\u001b[38;5;124m\"\u001b[39m][\u001b[38;5;28mself\u001b[39m\u001b[38;5;241m.\u001b[39mbest_index_]\n",
      "\n",
      "File \u001b[1;32mc:\\Users\\Prasetya\\anaconda3\\lib\\site-packages\\sklearn\\model_selection\\_search.py:874\u001b[0m, in \u001b[0;36mBaseSearchCV.fit\u001b[1;34m(self, X, y, groups, **fit_params)\u001b[0m\n",
      "\u001b[0;32m    868\u001b[0m     results \u001b[38;5;241m=\u001b[39m \u001b[38;5;28mself\u001b[39m\u001b[38;5;241m.\u001b[39m_format_results(\n",
      "\u001b[0;32m    869\u001b[0m         all_candidate_params, n_splits, all_out, all_more_results\n",
      "\u001b[0;32m    870\u001b[0m     )\n",
      "\u001b[0;32m    872\u001b[0m     \u001b[38;5;28;01mreturn\u001b[39;00m results\n",
      "\u001b[1;32m--> 874\u001b[0m \u001b[38;5;28;43mself\u001b[39;49m\u001b[38;5;241;43m.\u001b[39;49m\u001b[43m_run_search\u001b[49m\u001b[43m(\u001b[49m\u001b[43mevaluate_candidates\u001b[49m\u001b[43m)\u001b[49m\n",
      "\u001b[0;32m    876\u001b[0m \u001b[38;5;66;03m# multimetric is determined here because in the case of a callable\u001b[39;00m\n",
      "\u001b[0;32m    877\u001b[0m \u001b[38;5;66;03m# self.scoring the return type is only known after calling\u001b[39;00m\n",
      "\u001b[0;32m    878\u001b[0m first_test_score \u001b[38;5;241m=\u001b[39m all_out[\u001b[38;5;241m0\u001b[39m][\u001b[38;5;124m\"\u001b[39m\u001b[38;5;124mtest_scores\u001b[39m\u001b[38;5;124m\"\u001b[39m]\n",
      "\n",
      "File \u001b[1;32mc:\\Users\\Prasetya\\anaconda3\\lib\\site-packages\\sklearn\\model_selection\\_search_successive_halving.py:378\u001b[0m, in \u001b[0;36mBaseSuccessiveHalving._run_search\u001b[1;34m(self, evaluate_candidates)\u001b[0m\n",
      "\u001b[0;32m    371\u001b[0m     cv \u001b[38;5;241m=\u001b[39m \u001b[38;5;28mself\u001b[39m\u001b[38;5;241m.\u001b[39m_checked_cv_orig\n",
      "\u001b[0;32m    373\u001b[0m more_results \u001b[38;5;241m=\u001b[39m {\n",
      "\u001b[0;32m    374\u001b[0m     \u001b[38;5;124m\"\u001b[39m\u001b[38;5;124miter\u001b[39m\u001b[38;5;124m\"\u001b[39m: [itr] \u001b[38;5;241m*\u001b[39m n_candidates,\n",
      "\u001b[0;32m    375\u001b[0m     \u001b[38;5;124m\"\u001b[39m\u001b[38;5;124mn_resources\u001b[39m\u001b[38;5;124m\"\u001b[39m: [n_resources] \u001b[38;5;241m*\u001b[39m n_candidates,\n",
      "\u001b[0;32m    376\u001b[0m }\n",
      "\u001b[1;32m--> 378\u001b[0m results \u001b[38;5;241m=\u001b[39m \u001b[43mevaluate_candidates\u001b[49m\u001b[43m(\u001b[49m\n",
      "\u001b[0;32m    379\u001b[0m \u001b[43m    \u001b[49m\u001b[43mcandidate_params\u001b[49m\u001b[43m,\u001b[49m\u001b[43m \u001b[49m\u001b[43mcv\u001b[49m\u001b[43m,\u001b[49m\u001b[43m \u001b[49m\u001b[43mmore_results\u001b[49m\u001b[38;5;241;43m=\u001b[39;49m\u001b[43mmore_results\u001b[49m\n",
      "\u001b[0;32m    380\u001b[0m \u001b[43m\u001b[49m\u001b[43m)\u001b[49m\n",
      "\u001b[0;32m    382\u001b[0m n_candidates_to_keep \u001b[38;5;241m=\u001b[39m ceil(n_candidates \u001b[38;5;241m/\u001b[39m \u001b[38;5;28mself\u001b[39m\u001b[38;5;241m.\u001b[39mfactor)\n",
      "\u001b[0;32m    383\u001b[0m candidate_params \u001b[38;5;241m=\u001b[39m _top_k(results, n_candidates_to_keep, itr)\n",
      "\n",
      "File \u001b[1;32mc:\\Users\\Prasetya\\anaconda3\\lib\\site-packages\\sklearn\\model_selection\\_search.py:821\u001b[0m, in \u001b[0;36mBaseSearchCV.fit.<locals>.evaluate_candidates\u001b[1;34m(candidate_params, cv, more_results)\u001b[0m\n",
      "\u001b[0;32m    813\u001b[0m \u001b[38;5;28;01mif\u001b[39;00m \u001b[38;5;28mself\u001b[39m\u001b[38;5;241m.\u001b[39mverbose \u001b[38;5;241m>\u001b[39m \u001b[38;5;241m0\u001b[39m:\n",
      "\u001b[0;32m    814\u001b[0m     \u001b[38;5;28mprint\u001b[39m(\n",
      "\u001b[0;32m    815\u001b[0m         \u001b[38;5;124m\"\u001b[39m\u001b[38;5;124mFitting \u001b[39m\u001b[38;5;132;01m{0}\u001b[39;00m\u001b[38;5;124m folds for each of \u001b[39m\u001b[38;5;132;01m{1}\u001b[39;00m\u001b[38;5;124m candidates,\u001b[39m\u001b[38;5;124m\"\u001b[39m\n",
      "\u001b[0;32m    816\u001b[0m         \u001b[38;5;124m\"\u001b[39m\u001b[38;5;124m totalling \u001b[39m\u001b[38;5;132;01m{2}\u001b[39;00m\u001b[38;5;124m fits\u001b[39m\u001b[38;5;124m\"\u001b[39m\u001b[38;5;241m.\u001b[39mformat(\n",
      "\u001b[0;32m    817\u001b[0m             n_splits, n_candidates, n_candidates \u001b[38;5;241m*\u001b[39m n_splits\n",
      "\u001b[0;32m    818\u001b[0m         )\n",
      "\u001b[0;32m    819\u001b[0m     )\n",
      "\u001b[1;32m--> 821\u001b[0m out \u001b[38;5;241m=\u001b[39m \u001b[43mparallel\u001b[49m\u001b[43m(\u001b[49m\n",
      "\u001b[0;32m    822\u001b[0m \u001b[43m    \u001b[49m\u001b[43mdelayed\u001b[49m\u001b[43m(\u001b[49m\u001b[43m_fit_and_score\u001b[49m\u001b[43m)\u001b[49m\u001b[43m(\u001b[49m\n",
      "\u001b[0;32m    823\u001b[0m \u001b[43m        \u001b[49m\u001b[43mclone\u001b[49m\u001b[43m(\u001b[49m\u001b[43mbase_estimator\u001b[49m\u001b[43m)\u001b[49m\u001b[43m,\u001b[49m\n",
      "\u001b[0;32m    824\u001b[0m \u001b[43m        \u001b[49m\u001b[43mX\u001b[49m\u001b[43m,\u001b[49m\n",
      "\u001b[0;32m    825\u001b[0m \u001b[43m        \u001b[49m\u001b[43my\u001b[49m\u001b[43m,\u001b[49m\n",
      "\u001b[0;32m    826\u001b[0m \u001b[43m        \u001b[49m\u001b[43mtrain\u001b[49m\u001b[38;5;241;43m=\u001b[39;49m\u001b[43mtrain\u001b[49m\u001b[43m,\u001b[49m\n",
      "\u001b[0;32m    827\u001b[0m \u001b[43m        \u001b[49m\u001b[43mtest\u001b[49m\u001b[38;5;241;43m=\u001b[39;49m\u001b[43mtest\u001b[49m\u001b[43m,\u001b[49m\n",
      "\u001b[0;32m    828\u001b[0m \u001b[43m        \u001b[49m\u001b[43mparameters\u001b[49m\u001b[38;5;241;43m=\u001b[39;49m\u001b[43mparameters\u001b[49m\u001b[43m,\u001b[49m\n",
      "\u001b[0;32m    829\u001b[0m \u001b[43m        \u001b[49m\u001b[43msplit_progress\u001b[49m\u001b[38;5;241;43m=\u001b[39;49m\u001b[43m(\u001b[49m\u001b[43msplit_idx\u001b[49m\u001b[43m,\u001b[49m\u001b[43m \u001b[49m\u001b[43mn_splits\u001b[49m\u001b[43m)\u001b[49m\u001b[43m,\u001b[49m\n",
      "\u001b[0;32m    830\u001b[0m \u001b[43m        \u001b[49m\u001b[43mcandidate_progress\u001b[49m\u001b[38;5;241;43m=\u001b[39;49m\u001b[43m(\u001b[49m\u001b[43mcand_idx\u001b[49m\u001b[43m,\u001b[49m\u001b[43m \u001b[49m\u001b[43mn_candidates\u001b[49m\u001b[43m)\u001b[49m\u001b[43m,\u001b[49m\n",
      "\u001b[0;32m    831\u001b[0m \u001b[43m        \u001b[49m\u001b[38;5;241;43m*\u001b[39;49m\u001b[38;5;241;43m*\u001b[39;49m\u001b[43mfit_and_score_kwargs\u001b[49m\u001b[43m,\u001b[49m\n",
      "\u001b[0;32m    832\u001b[0m \u001b[43m    \u001b[49m\u001b[43m)\u001b[49m\n",
      "\u001b[0;32m    833\u001b[0m \u001b[43m    \u001b[49m\u001b[38;5;28;43;01mfor\u001b[39;49;00m\u001b[43m \u001b[49m\u001b[43m(\u001b[49m\u001b[43mcand_idx\u001b[49m\u001b[43m,\u001b[49m\u001b[43m \u001b[49m\u001b[43mparameters\u001b[49m\u001b[43m)\u001b[49m\u001b[43m,\u001b[49m\u001b[43m \u001b[49m\u001b[43m(\u001b[49m\u001b[43msplit_idx\u001b[49m\u001b[43m,\u001b[49m\u001b[43m \u001b[49m\u001b[43m(\u001b[49m\u001b[43mtrain\u001b[49m\u001b[43m,\u001b[49m\u001b[43m \u001b[49m\u001b[43mtest\u001b[49m\u001b[43m)\u001b[49m\u001b[43m)\u001b[49m\u001b[43m \u001b[49m\u001b[38;5;129;43;01min\u001b[39;49;00m\u001b[43m \u001b[49m\u001b[43mproduct\u001b[49m\u001b[43m(\u001b[49m\n",
      "\u001b[0;32m    834\u001b[0m \u001b[43m        \u001b[49m\u001b[38;5;28;43menumerate\u001b[39;49m\u001b[43m(\u001b[49m\u001b[43mcandidate_params\u001b[49m\u001b[43m)\u001b[49m\u001b[43m,\u001b[49m\u001b[43m \u001b[49m\u001b[38;5;28;43menumerate\u001b[39;49m\u001b[43m(\u001b[49m\u001b[43mcv\u001b[49m\u001b[38;5;241;43m.\u001b[39;49m\u001b[43msplit\u001b[49m\u001b[43m(\u001b[49m\u001b[43mX\u001b[49m\u001b[43m,\u001b[49m\u001b[43m \u001b[49m\u001b[43my\u001b[49m\u001b[43m,\u001b[49m\u001b[43m \u001b[49m\u001b[43mgroups\u001b[49m\u001b[43m)\u001b[49m\u001b[43m)\u001b[49m\n",
      "\u001b[0;32m    835\u001b[0m \u001b[43m    \u001b[49m\u001b[43m)\u001b[49m\n",
      "\u001b[0;32m    836\u001b[0m \u001b[43m\u001b[49m\u001b[43m)\u001b[49m\n",
      "\u001b[0;32m    838\u001b[0m \u001b[38;5;28;01mif\u001b[39;00m \u001b[38;5;28mlen\u001b[39m(out) \u001b[38;5;241m<\u001b[39m \u001b[38;5;241m1\u001b[39m:\n",
      "\u001b[0;32m    839\u001b[0m     \u001b[38;5;28;01mraise\u001b[39;00m \u001b[38;5;167;01mValueError\u001b[39;00m(\n",
      "\u001b[0;32m    840\u001b[0m         \u001b[38;5;124m\"\u001b[39m\u001b[38;5;124mNo fits were performed. \u001b[39m\u001b[38;5;124m\"\u001b[39m\n",
      "\u001b[0;32m    841\u001b[0m         \u001b[38;5;124m\"\u001b[39m\u001b[38;5;124mWas the CV iterator empty? \u001b[39m\u001b[38;5;124m\"\u001b[39m\n",
      "\u001b[0;32m    842\u001b[0m         \u001b[38;5;124m\"\u001b[39m\u001b[38;5;124mWere there no candidates?\u001b[39m\u001b[38;5;124m\"\u001b[39m\n",
      "\u001b[0;32m    843\u001b[0m     )\n",
      "\n",
      "File \u001b[1;32mc:\\Users\\Prasetya\\anaconda3\\lib\\site-packages\\sklearn\\utils\\parallel.py:63\u001b[0m, in \u001b[0;36mParallel.__call__\u001b[1;34m(self, iterable)\u001b[0m\n",
      "\u001b[0;32m     58\u001b[0m config \u001b[38;5;241m=\u001b[39m get_config()\n",
      "\u001b[0;32m     59\u001b[0m iterable_with_config \u001b[38;5;241m=\u001b[39m (\n",
      "\u001b[0;32m     60\u001b[0m     (_with_config(delayed_func, config), args, kwargs)\n",
      "\u001b[0;32m     61\u001b[0m     \u001b[38;5;28;01mfor\u001b[39;00m delayed_func, args, kwargs \u001b[38;5;129;01min\u001b[39;00m iterable\n",
      "\u001b[0;32m     62\u001b[0m )\n",
      "\u001b[1;32m---> 63\u001b[0m \u001b[38;5;28;01mreturn\u001b[39;00m \u001b[38;5;28;43msuper\u001b[39;49m\u001b[43m(\u001b[49m\u001b[43m)\u001b[49m\u001b[38;5;241;43m.\u001b[39;49m\u001b[38;5;21;43m__call__\u001b[39;49m\u001b[43m(\u001b[49m\u001b[43miterable_with_config\u001b[49m\u001b[43m)\u001b[49m\n",
      "\n",
      "File \u001b[1;32mc:\\Users\\Prasetya\\anaconda3\\lib\\site-packages\\joblib\\parallel.py:2007\u001b[0m, in \u001b[0;36mParallel.__call__\u001b[1;34m(self, iterable)\u001b[0m\n",
      "\u001b[0;32m   2001\u001b[0m \u001b[38;5;66;03m# The first item from the output is blank, but it makes the interpreter\u001b[39;00m\n",
      "\u001b[0;32m   2002\u001b[0m \u001b[38;5;66;03m# progress until it enters the Try/Except block of the generator and\u001b[39;00m\n",
      "\u001b[0;32m   2003\u001b[0m \u001b[38;5;66;03m# reaches the first `yield` statement. This starts the asynchronous\u001b[39;00m\n",
      "\u001b[0;32m   2004\u001b[0m \u001b[38;5;66;03m# dispatch of the tasks to the workers.\u001b[39;00m\n",
      "\u001b[0;32m   2005\u001b[0m \u001b[38;5;28mnext\u001b[39m(output)\n",
      "\u001b[1;32m-> 2007\u001b[0m \u001b[38;5;28;01mreturn\u001b[39;00m output \u001b[38;5;28;01mif\u001b[39;00m \u001b[38;5;28mself\u001b[39m\u001b[38;5;241m.\u001b[39mreturn_generator \u001b[38;5;28;01melse\u001b[39;00m \u001b[38;5;28;43mlist\u001b[39;49m\u001b[43m(\u001b[49m\u001b[43moutput\u001b[49m\u001b[43m)\u001b[49m\n",
      "\n",
      "File \u001b[1;32mc:\\Users\\Prasetya\\anaconda3\\lib\\site-packages\\joblib\\parallel.py:1650\u001b[0m, in \u001b[0;36mParallel._get_outputs\u001b[1;34m(self, iterator, pre_dispatch)\u001b[0m\n",
      "\u001b[0;32m   1647\u001b[0m     \u001b[38;5;28;01myield\u001b[39;00m\n",
      "\u001b[0;32m   1649\u001b[0m     \u001b[38;5;28;01mwith\u001b[39;00m \u001b[38;5;28mself\u001b[39m\u001b[38;5;241m.\u001b[39m_backend\u001b[38;5;241m.\u001b[39mretrieval_context():\n",
      "\u001b[1;32m-> 1650\u001b[0m         \u001b[38;5;28;01myield from\u001b[39;00m \u001b[38;5;28mself\u001b[39m\u001b[38;5;241m.\u001b[39m_retrieve()\n",
      "\u001b[0;32m   1652\u001b[0m \u001b[38;5;28;01mexcept\u001b[39;00m \u001b[38;5;167;01mGeneratorExit\u001b[39;00m:\n",
      "\u001b[0;32m   1653\u001b[0m     \u001b[38;5;66;03m# The generator has been garbage collected before being fully\u001b[39;00m\n",
      "\u001b[0;32m   1654\u001b[0m     \u001b[38;5;66;03m# consumed. This aborts the remaining tasks if possible and warn\u001b[39;00m\n",
      "\u001b[0;32m   1655\u001b[0m     \u001b[38;5;66;03m# the user if necessary.\u001b[39;00m\n",
      "\u001b[0;32m   1656\u001b[0m     \u001b[38;5;28mself\u001b[39m\u001b[38;5;241m.\u001b[39m_exception \u001b[38;5;241m=\u001b[39m \u001b[38;5;28;01mTrue\u001b[39;00m\n",
      "\n",
      "File \u001b[1;32mc:\\Users\\Prasetya\\anaconda3\\lib\\site-packages\\joblib\\parallel.py:1754\u001b[0m, in \u001b[0;36mParallel._retrieve\u001b[1;34m(self)\u001b[0m\n",
      "\u001b[0;32m   1747\u001b[0m \u001b[38;5;28;01mwhile\u001b[39;00m \u001b[38;5;28mself\u001b[39m\u001b[38;5;241m.\u001b[39m_wait_retrieval():\n",
      "\u001b[0;32m   1748\u001b[0m \n",
      "\u001b[0;32m   1749\u001b[0m     \u001b[38;5;66;03m# If the callback thread of a worker has signaled that its task\u001b[39;00m\n",
      "\u001b[0;32m   1750\u001b[0m     \u001b[38;5;66;03m# triggered an exception, or if the retrieval loop has raised an\u001b[39;00m\n",
      "\u001b[0;32m   1751\u001b[0m     \u001b[38;5;66;03m# exception (e.g. `GeneratorExit`), exit the loop and surface the\u001b[39;00m\n",
      "\u001b[0;32m   1752\u001b[0m     \u001b[38;5;66;03m# worker traceback.\u001b[39;00m\n",
      "\u001b[0;32m   1753\u001b[0m     \u001b[38;5;28;01mif\u001b[39;00m \u001b[38;5;28mself\u001b[39m\u001b[38;5;241m.\u001b[39m_aborting:\n",
      "\u001b[1;32m-> 1754\u001b[0m         \u001b[38;5;28;43mself\u001b[39;49m\u001b[38;5;241;43m.\u001b[39;49m\u001b[43m_raise_error_fast\u001b[49m\u001b[43m(\u001b[49m\u001b[43m)\u001b[49m\n",
      "\u001b[0;32m   1755\u001b[0m         \u001b[38;5;28;01mbreak\u001b[39;00m\n",
      "\u001b[0;32m   1757\u001b[0m     \u001b[38;5;66;03m# If the next job is not ready for retrieval yet, we just wait for\u001b[39;00m\n",
      "\u001b[0;32m   1758\u001b[0m     \u001b[38;5;66;03m# async callbacks to progress.\u001b[39;00m\n",
      "\n",
      "File \u001b[1;32mc:\\Users\\Prasetya\\anaconda3\\lib\\site-packages\\joblib\\parallel.py:1789\u001b[0m, in \u001b[0;36mParallel._raise_error_fast\u001b[1;34m(self)\u001b[0m\n",
      "\u001b[0;32m   1785\u001b[0m \u001b[38;5;66;03m# If this error job exists, immediately raise the error by\u001b[39;00m\n",
      "\u001b[0;32m   1786\u001b[0m \u001b[38;5;66;03m# calling get_result. This job might not exists if abort has been\u001b[39;00m\n",
      "\u001b[0;32m   1787\u001b[0m \u001b[38;5;66;03m# called directly or if the generator is gc'ed.\u001b[39;00m\n",
      "\u001b[0;32m   1788\u001b[0m \u001b[38;5;28;01mif\u001b[39;00m error_job \u001b[38;5;129;01mis\u001b[39;00m \u001b[38;5;129;01mnot\u001b[39;00m \u001b[38;5;28;01mNone\u001b[39;00m:\n",
      "\u001b[1;32m-> 1789\u001b[0m     \u001b[43merror_job\u001b[49m\u001b[38;5;241;43m.\u001b[39;49m\u001b[43mget_result\u001b[49m\u001b[43m(\u001b[49m\u001b[38;5;28;43mself\u001b[39;49m\u001b[38;5;241;43m.\u001b[39;49m\u001b[43mtimeout\u001b[49m\u001b[43m)\u001b[49m\n",
      "\n",
      "File \u001b[1;32mc:\\Users\\Prasetya\\anaconda3\\lib\\site-packages\\joblib\\parallel.py:745\u001b[0m, in \u001b[0;36mBatchCompletionCallBack.get_result\u001b[1;34m(self, timeout)\u001b[0m\n",
      "\u001b[0;32m    739\u001b[0m backend \u001b[38;5;241m=\u001b[39m \u001b[38;5;28mself\u001b[39m\u001b[38;5;241m.\u001b[39mparallel\u001b[38;5;241m.\u001b[39m_backend\n",
      "\u001b[0;32m    741\u001b[0m \u001b[38;5;28;01mif\u001b[39;00m backend\u001b[38;5;241m.\u001b[39msupports_retrieve_callback:\n",
      "\u001b[0;32m    742\u001b[0m     \u001b[38;5;66;03m# We assume that the result has already been retrieved by the\u001b[39;00m\n",
      "\u001b[0;32m    743\u001b[0m     \u001b[38;5;66;03m# callback thread, and is stored internally. It's just waiting to\u001b[39;00m\n",
      "\u001b[0;32m    744\u001b[0m     \u001b[38;5;66;03m# be returned.\u001b[39;00m\n",
      "\u001b[1;32m--> 745\u001b[0m     \u001b[38;5;28;01mreturn\u001b[39;00m \u001b[38;5;28;43mself\u001b[39;49m\u001b[38;5;241;43m.\u001b[39;49m\u001b[43m_return_or_raise\u001b[49m\u001b[43m(\u001b[49m\u001b[43m)\u001b[49m\n",
      "\u001b[0;32m    747\u001b[0m \u001b[38;5;66;03m# For other backends, the main thread needs to run the retrieval step.\u001b[39;00m\n",
      "\u001b[0;32m    748\u001b[0m \u001b[38;5;28;01mtry\u001b[39;00m:\n",
      "\n",
      "File \u001b[1;32mc:\\Users\\Prasetya\\anaconda3\\lib\\site-packages\\joblib\\parallel.py:763\u001b[0m, in \u001b[0;36mBatchCompletionCallBack._return_or_raise\u001b[1;34m(self)\u001b[0m\n",
      "\u001b[0;32m    761\u001b[0m \u001b[38;5;28;01mtry\u001b[39;00m:\n",
      "\u001b[0;32m    762\u001b[0m     \u001b[38;5;28;01mif\u001b[39;00m \u001b[38;5;28mself\u001b[39m\u001b[38;5;241m.\u001b[39mstatus \u001b[38;5;241m==\u001b[39m TASK_ERROR:\n",
      "\u001b[1;32m--> 763\u001b[0m         \u001b[38;5;28;01mraise\u001b[39;00m \u001b[38;5;28mself\u001b[39m\u001b[38;5;241m.\u001b[39m_result\n",
      "\u001b[0;32m    764\u001b[0m     \u001b[38;5;28;01mreturn\u001b[39;00m \u001b[38;5;28mself\u001b[39m\u001b[38;5;241m.\u001b[39m_result\n",
      "\u001b[0;32m    765\u001b[0m \u001b[38;5;28;01mfinally\u001b[39;00m:\n",
      "\n",
      "\u001b[1;31mValueError\u001b[0m: Solver newton-cg supports only 'l2' or 'none' penalties, got l1 penalty."
     ]
    }
   ],
   "source": [
    "from sklearn.experimental import enable_halving_search_cv\n",
    "from sklearn.model_selection import HalvingRandomSearchCV\n",
    "\n",
    "# \n",
    "skf = StratifiedKFold(n_splits = testing_best_cv, shuffle = True, random_state = 42)\n",
    "\n",
    "# 🔍 Hyperparameter Tuning dengan HalvingRandomSearchCV\n",
    "halving_search = HalvingRandomSearchCV(\n",
    "    final_model, \n",
    "    param_distributions = param_dist, \n",
    "    factor = 2, # Total combination / factor\n",
    "    scoring = 'average_precision', \n",
    "    cv = skf, \n",
    "    n_jobs = -1, \n",
    "    random_state = 42,\n",
    "    n_candidates = param_combinations, \n",
    "    error_score = \"raise\"\n",
    ")\n",
    "\n",
    "halving_search.fit(X_train_mod, y_train_mod)\n",
    "\n",
    "print(f\"\\n🔍 Hyperparameter Terbaik ({final_model_name}): {halving_search.best_params_}\")\n",
    "print(f\"✅ Best ROC-AUC Score: {halving_search.best_score_:.3f}\")\n",
    "\n",
    "optimal_cv = halving_search.best_estimator_"
   ]
  },
  {
   "cell_type": "markdown",
   "metadata": {},
   "source": [
    "# Final Evaluation"
   ]
  },
  {
   "cell_type": "code",
   "execution_count": null,
   "metadata": {},
   "outputs": [],
   "source": [
    "from sklearn.metrics import average_precision_score, classification_report, precision_recall_curve, roc_auc_score\n",
    "\n",
    "# 🔹 Konversi ke NumPy untuk menghindari warning\n",
    "X_test_mod = X_test_mod.to_numpy()\n",
    "\n",
    "# 🔹 Prediksi dengan Model Terbaik\n",
    "y_test_pred_proba = optimal_cv.predict_proba(X_test_mod)[:, 1]\n",
    "\n",
    "# 🔹 Menghitung Average Precision Score (AP Score)\n",
    "ap_score = average_precision_score(y_test_mod, y_test_pred_proba)\n",
    "print(f\"📊 Average Precision Score (Test): {ap_score:.3f}\")\n",
    "\n",
    "# 🔹 Mencari Threshold Optimal menggunakan Precision-Recall Curve\n",
    "precisions, recalls, thresholds = precision_recall_curve(y_test_mod, y_test_pred_proba)\n",
    "f1_scores = 2 * (precisions * recalls) / (precisions + recalls + 1e-9)  # Hindari pembagian oleh nol\n",
    "best_threshold = thresholds[f1_scores.argmax()] if len(thresholds) > 0 else 0.5\n",
    "\n",
    "# 🔹 Gunakan Threshold Optimal untuk Prediksi Akhir\n",
    "y_test_pred = (y_test_pred_proba >= best_threshold).astype(int)\n",
    "\n",
    "# 🔹 Classification Report\n",
    "print(\"\\n=== Classification Report ===\")\n",
    "print(classification_report(y_test_mod, y_test_pred))\n",
    "\n",
    "# 🔹 ROC-AUC Score\n",
    "roc_auc_final = roc_auc_score(y_test_mod, y_test_pred_proba)\n",
    "print(f\"🎯 Final ROC-AUC Score: {roc_auc_final:.3f}\")\n",
    "print(f\"🔹 Best Threshold Used: {best_threshold:.3f}\")\n"
   ]
  }
 ],
 "metadata": {
  "kernelspec": {
   "display_name": "base",
   "language": "python",
   "name": "python3"
  },
  "language_info": {
   "codemirror_mode": {
    "name": "ipython",
    "version": 3
   },
   "file_extension": ".py",
   "mimetype": "text/x-python",
   "name": "python",
   "nbconvert_exporter": "python",
   "pygments_lexer": "ipython3",
   "version": "3.10.16"
  }
 },
 "nbformat": 4,
 "nbformat_minor": 2
}
