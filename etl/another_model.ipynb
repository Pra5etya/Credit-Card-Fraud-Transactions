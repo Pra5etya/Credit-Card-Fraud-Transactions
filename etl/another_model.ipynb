{
 "cells": [
  {
   "cell_type": "markdown",
   "metadata": {},
   "source": [
    "# Library / Packages"
   ]
  },
  {
   "cell_type": "code",
   "execution_count": 1,
   "metadata": {},
   "outputs": [],
   "source": [
    "# basic library\n",
    "import os\n",
    "import pandas as pd\n",
    "import numpy as np\n",
    "import sys\n",
    "\n",
    "\n",
    "# complex math\n",
    "from scipy import stats\n",
    "from scipy.stats import gaussian_kde\n",
    "\n",
    "# data preparation\n",
    "from sklearn.preprocessing import OrdinalEncoder, OneHotEncoder, LabelEncoder, FunctionTransformer\n",
    "from sklearn.preprocessing import StandardScaler, RobustScaler\n",
    "from sklearn.compose import ColumnTransformer \n",
    "\n",
    "# data blueprint\n",
    "from imblearn.pipeline import Pipeline\n",
    "from imblearn.over_sampling import SMOTE\n",
    "from imblearn.under_sampling import TomekLinks, RandomUnderSampler, NearMiss\n",
    "from imblearn.combine import SMOTETomek\n",
    "from sklearn.neighbors import NearestNeighbors\n",
    "\n",
    "# data modeling\n",
    "from sklearn.linear_model import LogisticRegression\n",
    "from sklearn.ensemble import RandomForestClassifier\n",
    "from xgboost import XGBClassifier\n",
    "from lightgbm import LGBMClassifier\n",
    "from catboost import CatBoostClassifier\n",
    "from sklearn.ensemble import VotingClassifier\n",
    "\n",
    "# data cross-validation\n",
    "from sklearn.model_selection import cross_val_score, StratifiedKFold\n",
    "\n",
    "# data metrics\n",
    "from sklearn.metrics import classification_report, roc_auc_score, precision_recall_curve, roc_curve, auc, confusion_matrix\n",
    "\n",
    "# data tuning   \n",
    "from itertools import product\n",
    "from sklearn.experimental import enable_halving_search_cv\n",
    "from sklearn.model_selection import HalvingRandomSearchCV\n",
    "from sklearn.calibration import CalibratedClassifierCV\n",
    "\n",
    "# visualization\n",
    "import matplotlib.pyplot as plt\n",
    "import matplotlib.ticker as ticker\n",
    "import seaborn as sns\n",
    "\n",
    "# pickle and .env\n",
    "from dotenv import dotenv_values\n",
    "import pickle"
   ]
  },
  {
   "cell_type": "markdown",
   "metadata": {},
   "source": [
    "# Format"
   ]
  },
  {
   "cell_type": "code",
   "execution_count": 2,
   "metadata": {},
   "outputs": [],
   "source": [
    "def lab_round(x, pos): \n",
    "    if abs(x) >= 1e9: \n",
    "        return f'{x/1e9} B'\n",
    "    \n",
    "    elif abs(x) >= 1e6:\n",
    "        return f'{x/1e6} M'\n",
    "    \n",
    "    elif abs(x) >= 1e3:\n",
    "        return f'{x/1e3} K'\n",
    "    \n",
    "    else:\n",
    "        return f'{x}'\n",
    "    \n",
    "def val_round(x):\n",
    "    if abs(x) >= 1e9:\n",
    "        return f'{x/1e9:.2f} B'\n",
    "    \n",
    "    elif abs(x) >= 1e6:\n",
    "        return f'{x/1e6:.2f} M'\n",
    "    \n",
    "    elif abs(x) >= 1e3:\n",
    "        return f'{x/1e3:.2f} K'\n",
    "    \n",
    "    else:\n",
    "        return f'{x:.2f}'"
   ]
  },
  {
   "cell_type": "code",
   "execution_count": 3,
   "metadata": {},
   "outputs": [],
   "source": [
    "pd.set_option('display.max_columns', None)"
   ]
  },
  {
   "cell_type": "code",
   "execution_count": 4,
   "metadata": {},
   "outputs": [],
   "source": [
    "# Fungsi untuk konversi tipe data\n",
    "def convert_object_columns_to_numeric(df):\n",
    "    for col in df.select_dtypes(include = ['object']).columns:  \n",
    "        try:\n",
    "            # Cek apakah semua nilai bisa dikonversi ke float\n",
    "            df[col] = pd.to_numeric(df[col], errors='raise')\n",
    "            \n",
    "            # Jika bisa, ubah ke int jika semua nilai adalah bilangan bulat\n",
    "            if all(df[col] % 1 == 0):  # Cek apakah semua nilai adalah bilangan bulat\n",
    "                df[col] = df[col].astype(int)\n",
    "\n",
    "        except ValueError:\n",
    "            pass  # Jika ada nilai non-angka, biarkan tetap object\n",
    "        \n",
    "    return df"
   ]
  },
  {
   "cell_type": "markdown",
   "metadata": {},
   "source": [
    "# Data Source"
   ]
  },
  {
   "cell_type": "code",
   "execution_count": 5,
   "metadata": {},
   "outputs": [
    {
     "name": "stdout",
     "output_type": "stream",
     "text": [
      "<class 'pandas.core.frame.DataFrame'>\n",
      "RangeIndex: 283712 entries, 0 to 283711\n",
      "Data columns (total 25 columns):\n",
      " #   Column                     Non-Null Count   Dtype         \n",
      "---  ------                     --------------   -----         \n",
      " 0   credit_card                283712 non-null  int64         \n",
      " 1   datetime                   283712 non-null  datetime64[ns]\n",
      " 2   long                       283712 non-null  float64       \n",
      " 3   lat                        283712 non-null  float64       \n",
      " 4   zipcode                    283712 non-null  int64         \n",
      " 5   state                      283712 non-null  object        \n",
      " 6   city                       283712 non-null  object        \n",
      " 7   year                       283712 non-null  int32         \n",
      " 8   quarter                    283712 non-null  object        \n",
      " 9   month                      283712 non-null  object        \n",
      " 10  season                     283712 non-null  object        \n",
      " 11  week_cat                   283712 non-null  object        \n",
      " 12  day                        283712 non-null  object        \n",
      " 13  credit_card_limit          283712 non-null  int64         \n",
      " 14  limit_cat                  283712 non-null  object        \n",
      " 15  transaction_dollar_amount  283712 non-null  float64       \n",
      " 16  transaction_count          283712 non-null  float64       \n",
      " 17  time_diff_per_seconds      283712 non-null  float64       \n",
      " 18  prev_long                  283712 non-null  float64       \n",
      " 19  prev_lat                   283712 non-null  float64       \n",
      " 20  distance                   283712 non-null  float64       \n",
      " 21  geo_cat                    283712 non-null  object        \n",
      " 22  fraud_status               283712 non-null  object        \n",
      " 23  cc_id                      283712 non-null  object        \n",
      " 24  trx_id                     283712 non-null  object        \n",
      "dtypes: datetime64[ns](1), float64(8), int32(1), int64(3), object(12)\n",
      "memory usage: 53.0+ MB\n"
     ]
    }
   ],
   "source": [
    "# parameter\n",
    "share = {**dotenv_values('../.env.shared')} \n",
    "\n",
    "# read pickle\n",
    "with open(share['CLEAN_DATA'], 'rb') as f:\n",
    "    loaded_data = pickle.load(f)\n",
    "\n",
    "cc_df = pd.DataFrame(loaded_data)\n",
    "cc_df.info()"
   ]
  },
  {
   "cell_type": "code",
   "execution_count": 6,
   "metadata": {},
   "outputs": [
    {
     "data": {
      "text/html": [
       "<div>\n",
       "<style scoped>\n",
       "    .dataframe tbody tr th:only-of-type {\n",
       "        vertical-align: middle;\n",
       "    }\n",
       "\n",
       "    .dataframe tbody tr th {\n",
       "        vertical-align: top;\n",
       "    }\n",
       "\n",
       "    .dataframe thead th {\n",
       "        text-align: right;\n",
       "    }\n",
       "</style>\n",
       "<table border=\"1\" class=\"dataframe\">\n",
       "  <thead>\n",
       "    <tr style=\"text-align: right;\">\n",
       "      <th></th>\n",
       "      <th>credit_card</th>\n",
       "      <th>datetime</th>\n",
       "      <th>long</th>\n",
       "      <th>lat</th>\n",
       "      <th>zipcode</th>\n",
       "      <th>state</th>\n",
       "      <th>city</th>\n",
       "      <th>year</th>\n",
       "      <th>quarter</th>\n",
       "      <th>month</th>\n",
       "      <th>season</th>\n",
       "      <th>week_cat</th>\n",
       "      <th>day</th>\n",
       "      <th>credit_card_limit</th>\n",
       "      <th>limit_cat</th>\n",
       "      <th>transaction_dollar_amount</th>\n",
       "      <th>transaction_count</th>\n",
       "      <th>time_diff_per_seconds</th>\n",
       "      <th>prev_long</th>\n",
       "      <th>prev_lat</th>\n",
       "      <th>distance</th>\n",
       "      <th>geo_cat</th>\n",
       "      <th>fraud_status</th>\n",
       "      <th>cc_id</th>\n",
       "      <th>trx_id</th>\n",
       "    </tr>\n",
       "  </thead>\n",
       "  <tbody>\n",
       "    <tr>\n",
       "      <th>0</th>\n",
       "      <td>9484591448272784</td>\n",
       "      <td>2015-07-31 09:39:48</td>\n",
       "      <td>-90.045639</td>\n",
       "      <td>29.889039</td>\n",
       "      <td>70112</td>\n",
       "      <td>la</td>\n",
       "      <td>new orleans</td>\n",
       "      <td>2015</td>\n",
       "      <td>2015Q3</td>\n",
       "      <td>july</td>\n",
       "      <td>summer</td>\n",
       "      <td>weekday</td>\n",
       "      <td>friday</td>\n",
       "      <td>4000</td>\n",
       "      <td>very_low</td>\n",
       "      <td>17.99</td>\n",
       "      <td>1.0</td>\n",
       "      <td>-7642455.0</td>\n",
       "      <td>-90.151504</td>\n",
       "      <td>29.945202</td>\n",
       "      <td>11.969568</td>\n",
       "      <td>normal</td>\n",
       "      <td>not_fraud</td>\n",
       "      <td>ac1e34e60d6ad33e82c597a0f269fe2b5e83428562d3aa...</td>\n",
       "      <td>0bc4a969dccbe3b475e9e374e53e9e3fce6dbf1e7da2fe...</td>\n",
       "    </tr>\n",
       "    <tr>\n",
       "      <th>1</th>\n",
       "      <td>7053196367895112</td>\n",
       "      <td>2015-07-31 11:03:48</td>\n",
       "      <td>-74.027561</td>\n",
       "      <td>40.689615</td>\n",
       "      <td>10001</td>\n",
       "      <td>ny</td>\n",
       "      <td>new york</td>\n",
       "      <td>2015</td>\n",
       "      <td>2015Q3</td>\n",
       "      <td>july</td>\n",
       "      <td>summer</td>\n",
       "      <td>weekday</td>\n",
       "      <td>friday</td>\n",
       "      <td>18000</td>\n",
       "      <td>low</td>\n",
       "      <td>12.09</td>\n",
       "      <td>1.0</td>\n",
       "      <td>-2527299.0</td>\n",
       "      <td>-73.927029</td>\n",
       "      <td>40.806511</td>\n",
       "      <td>15.511210</td>\n",
       "      <td>normal</td>\n",
       "      <td>not_fraud</td>\n",
       "      <td>1c266eb56e8271b57de874865469dc04abb5110ef52821...</td>\n",
       "      <td>03ba63876abb11634b3f875ddad559ee63940573628739...</td>\n",
       "    </tr>\n",
       "    <tr>\n",
       "      <th>2</th>\n",
       "      <td>9528285469413252</td>\n",
       "      <td>2015-07-31 11:10:14</td>\n",
       "      <td>-72.139485</td>\n",
       "      <td>43.108100</td>\n",
       "      <td>3280</td>\n",
       "      <td>nh</td>\n",
       "      <td>washington</td>\n",
       "      <td>2015</td>\n",
       "      <td>2015Q3</td>\n",
       "      <td>july</td>\n",
       "      <td>summer</td>\n",
       "      <td>weekday</td>\n",
       "      <td>friday</td>\n",
       "      <td>40000</td>\n",
       "      <td>very_high</td>\n",
       "      <td>78.21</td>\n",
       "      <td>1.0</td>\n",
       "      <td>-6508550.0</td>\n",
       "      <td>-72.064113</td>\n",
       "      <td>43.172281</td>\n",
       "      <td>9.404226</td>\n",
       "      <td>normal</td>\n",
       "      <td>not_fraud</td>\n",
       "      <td>6733096fda61cddbcb8e2cd74676332d87594d058be167...</td>\n",
       "      <td>b86ab6aa560ba291acec2dd27b90f810165ff9023aab47...</td>\n",
       "    </tr>\n",
       "    <tr>\n",
       "      <th>3</th>\n",
       "      <td>1845720274833905</td>\n",
       "      <td>2015-07-31 11:28:55</td>\n",
       "      <td>-89.002148</td>\n",
       "      <td>40.804323</td>\n",
       "      <td>61738</td>\n",
       "      <td>il</td>\n",
       "      <td>el paso</td>\n",
       "      <td>2015</td>\n",
       "      <td>2015Q3</td>\n",
       "      <td>july</td>\n",
       "      <td>summer</td>\n",
       "      <td>weekday</td>\n",
       "      <td>friday</td>\n",
       "      <td>20000</td>\n",
       "      <td>medium</td>\n",
       "      <td>74.41</td>\n",
       "      <td>1.0</td>\n",
       "      <td>-2534699.0</td>\n",
       "      <td>-88.974492</td>\n",
       "      <td>40.720877</td>\n",
       "      <td>9.556419</td>\n",
       "      <td>normal</td>\n",
       "      <td>not_fraud</td>\n",
       "      <td>c046d480aab2d35f98751ac74f030eff8d3c74005ac01c...</td>\n",
       "      <td>7e58fe9a9c6d89388acbd39be811095b6f13614fb16b93...</td>\n",
       "    </tr>\n",
       "    <tr>\n",
       "      <th>4</th>\n",
       "      <td>7850942767136368</td>\n",
       "      <td>2015-07-31 11:38:51</td>\n",
       "      <td>-72.025675</td>\n",
       "      <td>43.210753</td>\n",
       "      <td>3280</td>\n",
       "      <td>nh</td>\n",
       "      <td>washington</td>\n",
       "      <td>2015</td>\n",
       "      <td>2015Q3</td>\n",
       "      <td>july</td>\n",
       "      <td>summer</td>\n",
       "      <td>weekday</td>\n",
       "      <td>friday</td>\n",
       "      <td>4000</td>\n",
       "      <td>very_low</td>\n",
       "      <td>54.89</td>\n",
       "      <td>1.0</td>\n",
       "      <td>-1785659.0</td>\n",
       "      <td>-72.125392</td>\n",
       "      <td>43.219223</td>\n",
       "      <td>8.157130</td>\n",
       "      <td>normal</td>\n",
       "      <td>not_fraud</td>\n",
       "      <td>c59721adc2284ba7805c637ce4b1d25046d366d12833c0...</td>\n",
       "      <td>595746461886416a18a9ab75bde2742d402301a27b8f28...</td>\n",
       "    </tr>\n",
       "  </tbody>\n",
       "</table>\n",
       "</div>"
      ],
      "text/plain": [
       "        credit_card            datetime       long        lat  zipcode state  \\\n",
       "0  9484591448272784 2015-07-31 09:39:48 -90.045639  29.889039    70112    la   \n",
       "1  7053196367895112 2015-07-31 11:03:48 -74.027561  40.689615    10001    ny   \n",
       "2  9528285469413252 2015-07-31 11:10:14 -72.139485  43.108100     3280    nh   \n",
       "3  1845720274833905 2015-07-31 11:28:55 -89.002148  40.804323    61738    il   \n",
       "4  7850942767136368 2015-07-31 11:38:51 -72.025675  43.210753     3280    nh   \n",
       "\n",
       "          city  year quarter month  season week_cat     day  \\\n",
       "0  new orleans  2015  2015Q3  july  summer  weekday  friday   \n",
       "1     new york  2015  2015Q3  july  summer  weekday  friday   \n",
       "2   washington  2015  2015Q3  july  summer  weekday  friday   \n",
       "3      el paso  2015  2015Q3  july  summer  weekday  friday   \n",
       "4   washington  2015  2015Q3  july  summer  weekday  friday   \n",
       "\n",
       "   credit_card_limit  limit_cat  transaction_dollar_amount  transaction_count  \\\n",
       "0               4000   very_low                      17.99                1.0   \n",
       "1              18000        low                      12.09                1.0   \n",
       "2              40000  very_high                      78.21                1.0   \n",
       "3              20000     medium                      74.41                1.0   \n",
       "4               4000   very_low                      54.89                1.0   \n",
       "\n",
       "   time_diff_per_seconds  prev_long   prev_lat   distance geo_cat  \\\n",
       "0             -7642455.0 -90.151504  29.945202  11.969568  normal   \n",
       "1             -2527299.0 -73.927029  40.806511  15.511210  normal   \n",
       "2             -6508550.0 -72.064113  43.172281   9.404226  normal   \n",
       "3             -2534699.0 -88.974492  40.720877   9.556419  normal   \n",
       "4             -1785659.0 -72.125392  43.219223   8.157130  normal   \n",
       "\n",
       "  fraud_status                                              cc_id  \\\n",
       "0    not_fraud  ac1e34e60d6ad33e82c597a0f269fe2b5e83428562d3aa...   \n",
       "1    not_fraud  1c266eb56e8271b57de874865469dc04abb5110ef52821...   \n",
       "2    not_fraud  6733096fda61cddbcb8e2cd74676332d87594d058be167...   \n",
       "3    not_fraud  c046d480aab2d35f98751ac74f030eff8d3c74005ac01c...   \n",
       "4    not_fraud  c59721adc2284ba7805c637ce4b1d25046d366d12833c0...   \n",
       "\n",
       "                                              trx_id  \n",
       "0  0bc4a969dccbe3b475e9e374e53e9e3fce6dbf1e7da2fe...  \n",
       "1  03ba63876abb11634b3f875ddad559ee63940573628739...  \n",
       "2  b86ab6aa560ba291acec2dd27b90f810165ff9023aab47...  \n",
       "3  7e58fe9a9c6d89388acbd39be811095b6f13614fb16b93...  \n",
       "4  595746461886416a18a9ab75bde2742d402301a27b8f28...  "
      ]
     },
     "execution_count": 6,
     "metadata": {},
     "output_type": "execute_result"
    }
   ],
   "source": [
    "cc_df.head()"
   ]
  },
  {
   "cell_type": "markdown",
   "metadata": {},
   "source": [
    "# Data Modeling"
   ]
  },
  {
   "cell_type": "markdown",
   "metadata": {},
   "source": [
    "### Check Irrelevant Data"
   ]
  },
  {
   "cell_type": "markdown",
   "metadata": {},
   "source": [
    "#### Threshold Methode "
   ]
  },
  {
   "cell_type": "code",
   "execution_count": 7,
   "metadata": {},
   "outputs": [
    {
     "name": "stdout",
     "output_type": "stream",
     "text": [
      "numeric columns: Index(['credit_card', 'long', 'lat', 'zipcode', 'year', 'credit_card_limit',\n",
      "       'transaction_dollar_amount', 'transaction_count',\n",
      "       'time_diff_per_seconds', 'prev_long', 'prev_lat', 'distance'],\n",
      "      dtype='object')\n",
      "\n",
      "Fitur yang dipertahankan: Index(['credit_card', 'long', 'lat', 'zipcode', 'credit_card_limit',\n",
      "       'transaction_dollar_amount', 'time_diff_per_seconds', 'prev_long',\n",
      "       'prev_lat', 'distance'],\n",
      "      dtype='object')\n"
     ]
    }
   ],
   "source": [
    "from sklearn.feature_selection import VarianceThreshold\n",
    "\n",
    "# Drop kolom non-numerik\n",
    "df_numeric = cc_df.select_dtypes(include = ['number'])\n",
    "print(f'numeric columns: {df_numeric.columns}\\n')\n",
    "\n",
    "# Inisialisasi VarianceThreshold (misalnya, ambang batas 0.01)\n",
    "selector = VarianceThreshold(threshold = 0.01)\n",
    "df_var_selected = selector.fit_transform(df_numeric)\n",
    "\n",
    "# Fitur yang dipertahankan\n",
    "selected_features = df_numeric.columns[selector.get_support()]\n",
    "print(\"Fitur yang dipertahankan:\", selected_features)"
   ]
  },
  {
   "cell_type": "code",
   "execution_count": 8,
   "metadata": {},
   "outputs": [
    {
     "name": "stdout",
     "output_type": "stream",
     "text": [
      "Numeric column untuk modeling: Index(['transaction_dollar_amount', 'time_diff_per_seconds', 'distance'], dtype='object')\n"
     ]
    }
   ],
   "source": [
    "# Seleceted numeric columns\n",
    "filter_numeric = ['long', 'lat', 'prev_long', 'prev_lat', 'credit_card', 'zipcode', 'credit_card_limit']\n",
    "selected_numeric = selected_features.drop(filter_numeric)\n",
    "\n",
    "#\n",
    "print(\"Numeric column untuk modeling:\", selected_numeric)"
   ]
  },
  {
   "cell_type": "markdown",
   "metadata": {},
   "source": [
    "#### Relevant Column"
   ]
  },
  {
   "cell_type": "code",
   "execution_count": 9,
   "metadata": {},
   "outputs": [
    {
     "name": "stdout",
     "output_type": "stream",
     "text": [
      "STATE \t: ['la' 'ny' 'nh' 'il' 'pa' 'nj' 'mo' 'md' 'ca' 'tx' 'me' 'vt' 'al' 'wv'\n",
      " 'pr' 'wa' 'nc' 'ga' 'ma' 'ok' 'mi' 'ut' 'fl' 'hi' 'ia' 'nm' 'oh' 'az'\n",
      " 'va' 'in' 'ri' 'id' 'co' 'ct' 'ks']\n",
      "-------------------------------------------------- \n",
      "\n",
      "CITY \t: ['new orleans' 'new york' 'washington' 'el paso' 'dallas' 'houston'\n",
      " 'birmingham' 'kansas city' 'austin' 'pasadena' 'los angeles' 'fort worth'\n",
      " 'jackson' 'pittsburgh' 'portland' 'albany' 'charlotte' 'huntsville'\n",
      " 'madison' 'orlando' 'san antonio' 'seattle' 'minneapolis' 'sacramento'\n",
      " 'san francisco' 'memphis' 'dayton' 'denver' 'milwaukee' 'omaha' 'trenton'\n",
      " 'springfield' 'oklahoma city' 'charleston' 'miami' 'long beach' 'quitman'\n",
      " 'saint louis' 'friendship' 'chicago' 'salt lake city' 'richmond'\n",
      " 'pensacola' 'san diego' 'atlanta' 'honolulu' 'greensboro' 'newark'\n",
      " 'rochester' 'lafayette' 'columbus' 'staten island' 'des moines'\n",
      " 'las vegas' 'chester' 'cincinnati' 'hillsboro' 'tucson' 'buffalo'\n",
      " 'arlington' 'shreveport' 'philadelphia' 'tulsa' 'cleveland' 'saint paul'\n",
      " 'young america' 'clinton' 'amarillo' 'greenville' 'mobile' 'boise'\n",
      " 'monticello' 'indianapolis' 'cascade' 'williamsburg' 'raleigh' 'akron'\n",
      " 'huntington' 'troy' 'lake city' 'colorado springs' 'phoenix' 'fresno'\n",
      " 'auburn' 'garfield' 'evansville' 'topeka' 'cedar rapids' 'louisville'\n",
      " 'knoxville' 'oakland' 'spokane' 'manchester' 'fort wayne' 'dover' 'tampa'\n",
      " 'garden grove' 'lexington' 'alexandria' 'tacoma' 'jamaica' 'scranton'\n",
      " 'hartford' 'columbia' 'gretna' 'san jose' 'aurora' 'jacksonville'\n",
      " 'somerset' 'new haven' 'newport' 'wilmington' 'boston' 'vallejo'\n",
      " 'fort lauderdale' 'bronx' 'wichita' 'lancaster' 'detroit' 'baltimore'\n",
      " 'bristol' 'corpus christi' 'roanoke']\n",
      "-------------------------------------------------- \n",
      "\n",
      "QUARTER \t: ['2015Q3' '2015Q4']\n",
      "-------------------------------------------------- \n",
      "\n",
      "MONTH \t: ['july' 'august' 'september' 'october']\n",
      "-------------------------------------------------- \n",
      "\n",
      "SEASON \t: ['summer' 'fall']\n",
      "-------------------------------------------------- \n",
      "\n",
      "WEEK_CAT \t: ['weekday' 'weekend']\n",
      "-------------------------------------------------- \n",
      "\n",
      "DAY \t: ['friday' 'saturday' 'sunday' 'monday' 'tuesday' 'wednesday' 'thursday']\n",
      "-------------------------------------------------- \n",
      "\n",
      "LIMIT_CAT \t: ['very_low' 'low' 'very_high' 'medium' 'high']\n",
      "-------------------------------------------------- \n",
      "\n",
      "GEO_CAT \t: ['normal' 'anomaly']\n",
      "-------------------------------------------------- \n",
      "\n",
      "FRAUD_STATUS \t: ['not_fraud' 'fraud']\n",
      "-------------------------------------------------- \n",
      "\n",
      "CC_ID \t: ['ac1e34e60d6ad33e82c597a0f269fe2b5e83428562d3aabd566ee7bbd443f5d9'\n",
      " '1c266eb56e8271b57de874865469dc04abb5110ef52821756fc7cb5d40ba9b5e'\n",
      " '6733096fda61cddbcb8e2cd74676332d87594d058be16773a54427d6bb6f80ca' ...\n",
      " 'f75a5c688ac926a97d47828ad7c2309b8dd2dcb2879c6550e34c59db1cb673fa'\n",
      " 'e5a25692318622e2a82cb61b42af51abe2244e73dc0e33daf4a1650052eca98d'\n",
      " '09759c6a2afb74247dbbf11e78973f678f9351264e87125f96d9e2d8c843a4b9']\n",
      "-------------------------------------------------- \n",
      "\n",
      "TRX_ID \t: ['0bc4a969dccbe3b475e9e374e53e9e3fce6dbf1e7da2fe45ca3f73ce7c84d716'\n",
      " '03ba63876abb11634b3f875ddad559ee63940573628739c3bf69e9690b5c9424'\n",
      " 'b86ab6aa560ba291acec2dd27b90f810165ff9023aab47ed84738319b19867c3' ...\n",
      " '8dc5ef52831371bafcdedc8beffe6af52736dbf7077224e14ccd912df2b56ffc'\n",
      " '41004c638bb1e1e3584902c8f22fa58953dc5b1a47ec084e54f21ce0fbe617f7'\n",
      " '1582114f0966f642cc74253d4750fce5b74f1789533724588e20055aeb787f9c']\n",
      "-------------------------------------------------- \n",
      "\n"
     ]
    }
   ],
   "source": [
    "# Check Column Category\n",
    "check_cat = cc_df.select_dtypes(include = ['object'])\n",
    "\n",
    "for i in check_cat.columns:\n",
    "    unique_values = check_cat[i].unique()  # Mendapatkan nilai unik\n",
    "    unique_count = check_cat[i].nunique()  # Menghitung jumlah unik\n",
    "    print(f'{i.upper()} \\t: {unique_values}')\n",
    "    print(f'{\"-\" * 50} \\n')"
   ]
  },
  {
   "cell_type": "code",
   "execution_count": 10,
   "metadata": {},
   "outputs": [
    {
     "name": "stdout",
     "output_type": "stream",
     "text": [
      "Jumlah unik STATE \t: 35\n",
      "-------------------------------------------------- \n",
      "\n",
      "Jumlah unik CITY \t: 123\n",
      "-------------------------------------------------- \n",
      "\n",
      "Jumlah unik CC_ID \t: 283712\n",
      "-------------------------------------------------- \n",
      "\n",
      "Jumlah unik TRX_ID \t: 283712\n",
      "-------------------------------------------------- \n",
      "\n"
     ]
    }
   ],
   "source": [
    "for i in check_cat.columns:\n",
    "    unique_count = check_cat[i].nunique()  # Menghitung jumlah nilai unik\n",
    "    \n",
    "    if unique_count > 10:  # Filter hanya kolom dengan nilai unik lebih dari 10\n",
    "        unique_values = check_cat[i].unique()  # Mendapatkan nilai unik\n",
    "        # print(f'{i.upper()} \\t: {unique_values}')\n",
    "        print(f'Jumlah unik {i.upper()} \\t: {unique_count}')\n",
    "        print(f'{\"-\" * 50} \\n')\n"
   ]
  },
  {
   "cell_type": "code",
   "execution_count": 11,
   "metadata": {},
   "outputs": [
    {
     "name": "stdout",
     "output_type": "stream",
     "text": [
      "objetc columns: Index(['state', 'city', 'quarter', 'month', 'season', 'week_cat', 'day',\n",
      "       'limit_cat', 'geo_cat', 'fraud_status', 'cc_id', 'trx_id'],\n",
      "      dtype='object')\n",
      "\n"
     ]
    }
   ],
   "source": [
    "# Drop kolom numerik\n",
    "df_obj = cc_df.select_dtypes(include = ['object'])\n",
    "print(f'objetc columns: {df_obj.columns}\\n')"
   ]
  },
  {
   "cell_type": "code",
   "execution_count": 12,
   "metadata": {},
   "outputs": [
    {
     "name": "stdout",
     "output_type": "stream",
     "text": [
      "Object column untuk modeling: Index(['city', 'limit_cat', 'fraud_status', 'geo_cat'], dtype='object')\n"
     ]
    }
   ],
   "source": [
    "# selected object columns\n",
    "filter_obj = ['city', 'limit_cat', 'fraud_status', 'geo_cat']\n",
    "selected_object = df_obj[filter_obj].columns\n",
    "\n",
    "#\n",
    "print(\"Object column untuk modeling:\", selected_object)"
   ]
  },
  {
   "cell_type": "code",
   "execution_count": 13,
   "metadata": {},
   "outputs": [
    {
     "data": {
      "text/html": [
       "<div>\n",
       "<style scoped>\n",
       "    .dataframe tbody tr th:only-of-type {\n",
       "        vertical-align: middle;\n",
       "    }\n",
       "\n",
       "    .dataframe tbody tr th {\n",
       "        vertical-align: top;\n",
       "    }\n",
       "\n",
       "    .dataframe thead th {\n",
       "        text-align: right;\n",
       "    }\n",
       "</style>\n",
       "<table border=\"1\" class=\"dataframe\">\n",
       "  <thead>\n",
       "    <tr style=\"text-align: right;\">\n",
       "      <th></th>\n",
       "      <th>transaction_dollar_amount</th>\n",
       "      <th>time_diff_per_seconds</th>\n",
       "      <th>distance</th>\n",
       "      <th>city</th>\n",
       "      <th>limit_cat</th>\n",
       "      <th>fraud_status</th>\n",
       "      <th>geo_cat</th>\n",
       "    </tr>\n",
       "  </thead>\n",
       "  <tbody>\n",
       "    <tr>\n",
       "      <th>0</th>\n",
       "      <td>17.99</td>\n",
       "      <td>-7642455.0</td>\n",
       "      <td>11.969568</td>\n",
       "      <td>new orleans</td>\n",
       "      <td>very_low</td>\n",
       "      <td>not_fraud</td>\n",
       "      <td>normal</td>\n",
       "    </tr>\n",
       "    <tr>\n",
       "      <th>1</th>\n",
       "      <td>12.09</td>\n",
       "      <td>-2527299.0</td>\n",
       "      <td>15.511210</td>\n",
       "      <td>new york</td>\n",
       "      <td>low</td>\n",
       "      <td>not_fraud</td>\n",
       "      <td>normal</td>\n",
       "    </tr>\n",
       "    <tr>\n",
       "      <th>2</th>\n",
       "      <td>78.21</td>\n",
       "      <td>-6508550.0</td>\n",
       "      <td>9.404226</td>\n",
       "      <td>washington</td>\n",
       "      <td>very_high</td>\n",
       "      <td>not_fraud</td>\n",
       "      <td>normal</td>\n",
       "    </tr>\n",
       "    <tr>\n",
       "      <th>3</th>\n",
       "      <td>74.41</td>\n",
       "      <td>-2534699.0</td>\n",
       "      <td>9.556419</td>\n",
       "      <td>el paso</td>\n",
       "      <td>medium</td>\n",
       "      <td>not_fraud</td>\n",
       "      <td>normal</td>\n",
       "    </tr>\n",
       "    <tr>\n",
       "      <th>4</th>\n",
       "      <td>54.89</td>\n",
       "      <td>-1785659.0</td>\n",
       "      <td>8.157130</td>\n",
       "      <td>washington</td>\n",
       "      <td>very_low</td>\n",
       "      <td>not_fraud</td>\n",
       "      <td>normal</td>\n",
       "    </tr>\n",
       "  </tbody>\n",
       "</table>\n",
       "</div>"
      ],
      "text/plain": [
       "   transaction_dollar_amount  time_diff_per_seconds   distance         city  \\\n",
       "0                      17.99             -7642455.0  11.969568  new orleans   \n",
       "1                      12.09             -2527299.0  15.511210     new york   \n",
       "2                      78.21             -6508550.0   9.404226   washington   \n",
       "3                      74.41             -2534699.0   9.556419      el paso   \n",
       "4                      54.89             -1785659.0   8.157130   washington   \n",
       "\n",
       "   limit_cat fraud_status geo_cat  \n",
       "0   very_low    not_fraud  normal  \n",
       "1        low    not_fraud  normal  \n",
       "2  very_high    not_fraud  normal  \n",
       "3     medium    not_fraud  normal  \n",
       "4   very_low    not_fraud  normal  "
      ]
     },
     "execution_count": 13,
     "metadata": {},
     "output_type": "execute_result"
    }
   ],
   "source": [
    "# \n",
    "trans_col = selected_numeric.append(selected_object)\n",
    "\n",
    "# \n",
    "trans_col = cc_df[trans_col]\n",
    "trans_col.head()"
   ]
  },
  {
   "cell_type": "code",
   "execution_count": 14,
   "metadata": {},
   "outputs": [
    {
     "name": "stdout",
     "output_type": "stream",
     "text": [
      "Proporsi Target Data:\n",
      "Total Rows: 283712\n",
      "fraud_status\n",
      "not_fraud    98.246109\n",
      "fraud         1.753891\n",
      "Name: proportion, dtype: float64 \n",
      "\n",
      "fraud_status\n",
      "not_fraud    278736\n",
      "fraud          4976\n",
      "Name: count, dtype: int64\n"
     ]
    }
   ],
   "source": [
    "# \n",
    "print(\"Proporsi Target Data:\")\n",
    "print(f\"Total Rows: {len(trans_col)}\")\n",
    "print(trans_col[\"fraud_status\"].value_counts(normalize=True) * 100, '\\n')\n",
    "print(trans_col[\"fraud_status\"].value_counts())"
   ]
  },
  {
   "cell_type": "markdown",
   "metadata": {},
   "source": [
    "### Check Noise Data"
   ]
  },
  {
   "cell_type": "markdown",
   "metadata": {},
   "source": [
    "#### Boxplot"
   ]
  },
  {
   "cell_type": "code",
   "execution_count": 15,
   "metadata": {},
   "outputs": [
    {
     "data": {
      "image/png": "[encoded data removed]",
      "text/plain": [
       "<Figure size 1200x600 with 1 Axes>"
      ]
     },
     "metadata": {},
     "output_type": "display_data"
    }
   ],
   "source": [
    "plt.figure(figsize = (12,6))\n",
    "sns.boxplot(data = trans_col.select_dtypes(include = [\"number\"])) \n",
    "plt.show()"
   ]
  },
  {
   "cell_type": "markdown",
   "metadata": {},
   "source": [
    "#### Z-Score"
   ]
  },
  {
   "cell_type": "code",
   "execution_count": 16,
   "metadata": {},
   "outputs": [
    {
     "name": "stdout",
     "output_type": "stream",
     "text": [
      "Jumlah outlier yang terdeteksi: 12457 \n",
      "\n"
     ]
    }
   ],
   "source": [
    "import numpy as np\n",
    "import matplotlib.pyplot as plt\n",
    "import seaborn as sns\n",
    "from scipy.stats import zscore\n",
    "\n",
    "# Kolom numerik yang ingin dicek outliernya\n",
    "num_cols = [\"transaction_dollar_amount\", \"distance\"]\n",
    "\n",
    "# Hitung z-score\n",
    "z_scores = np.abs(zscore(trans_col[num_cols]))\n",
    "\n",
    "# Tandai data yang memiliki outlier\n",
    "outlier_mask = (z_scores > 3).any(axis=1)\n",
    "\n",
    "# Jumlah outlier sebelum Winsorization\n",
    "num_outliers_before = outlier_mask.sum()\n",
    "print(f\"Jumlah outlier yang terdeteksi: {num_outliers_before} \\n\")"
   ]
  },
  {
   "cell_type": "markdown",
   "metadata": {},
   "source": [
    "#### Winsorization"
   ]
  },
  {
   "cell_type": "code",
   "execution_count": 17,
   "metadata": {},
   "outputs": [
    {
     "name": "stdout",
     "output_type": "stream",
     "text": [
      "Jumlah outlier setelah Winsorization: 4935 \n",
      "\n"
     ]
    }
   ],
   "source": [
    "clip_percent = 3.2\n",
    "\n",
    "# Winsorization hanya untuk data \"not_fraud\"\n",
    "for col in num_cols:\n",
    "    lower = np.percentile(trans_col[trans_col[\"fraud_status\"] == \"not_fraud\"][col], clip_percent)\n",
    "    upper = np.percentile(trans_col[trans_col[\"fraud_status\"] == \"not_fraud\"][col], 100 - clip_percent)\n",
    "\n",
    "    trans_col.loc[trans_col[\"fraud_status\"] == \"not_fraud\", col] = np.clip(\n",
    "        trans_col.loc[trans_col[\"fraud_status\"] == \"not_fraud\", col], lower, upper\n",
    "    )\n",
    "\n",
    "# Cek apakah outlier masih ada setelah Winsorization\n",
    "z_scores_after = np.abs(zscore(trans_col[num_cols]))\n",
    "outlier_mask_after = (z_scores_after > 3).any(axis=1)\n",
    "\n",
    "num_outliers_after = outlier_mask_after.sum()\n",
    "print(f\"Jumlah outlier setelah Winsorization: {num_outliers_after} \\n\")"
   ]
  },
  {
   "cell_type": "code",
   "execution_count": 18,
   "metadata": {},
   "outputs": [
    {
     "data": {
      "image/png": "[encoded data removed]",
      "text/plain": [
       "<Figure size 1400x600 with 2 Axes>"
      ]
     },
     "metadata": {},
     "output_type": "display_data"
    }
   ],
   "source": [
    "# Visualisasi dengan subplot\n",
    "fig, axes = plt.subplots(1, 2, figsize=(14, 6))\n",
    "\n",
    "# Boxplot untuk transaction_dollar_amount\n",
    "sns.boxplot(x=\"fraud_status\", y=\"transaction_dollar_amount\", hue=\"fraud_status\", \n",
    "            data=trans_col, ax=axes[0], palette=\"Set2\", legend=False)\n",
    "\n",
    "axes[0].set_title(\"Distribusi Transaction Dollar Amount Berdasarkan Fraud Status\")\n",
    "axes[0].set_ylabel(\"Transaction Dollar Amount\")\n",
    "axes[0].set_xlabel(\"Fraud Status\")\n",
    "axes[0].grid(axis=\"y\", linestyle=\"--\", alpha=0.7)\n",
    "\n",
    "# Boxplot untuk distance\n",
    "sns.boxplot(x=\"fraud_status\", y=\"distance\", hue=\"fraud_status\", \n",
    "            data=trans_col, ax=axes[1], palette=\"Set2\", legend=False)\n",
    "\n",
    "axes[1].set_title(\"Distribusi Distance Berdasarkan Fraud Status\")\n",
    "axes[1].set_ylabel(\"Distance\")\n",
    "axes[1].set_xlabel(\"Fraud Status\")\n",
    "axes[1].grid(axis=\"y\", linestyle=\"--\", alpha=0.7)\n",
    "\n",
    "# Tambahkan anotasi jumlah outlier\n",
    "for ax in axes:\n",
    "    ax.annotate(f\"Outlier Sebelum: {num_outliers_before}\", xy=(0.5, 0.95), xycoords=\"axes fraction\", \n",
    "                ha=\"center\", fontsize=10, color=\"red\", fontweight=\"bold\")\n",
    "    \n",
    "    ax.annotate(f\"Outlier Setelah: {num_outliers_after}\", xy=(0.5, 0.90), xycoords=\"axes fraction\", \n",
    "                ha=\"center\", fontsize=10, color=\"green\", fontweight=\"bold\")\n",
    "\n",
    "plt.tight_layout()\n",
    "plt.show()"
   ]
  },
  {
   "cell_type": "markdown",
   "metadata": {},
   "source": [
    "## Transform Data"
   ]
  },
  {
   "cell_type": "code",
   "execution_count": 19,
   "metadata": {},
   "outputs": [
    {
     "name": "stdout",
     "output_type": "stream",
     "text": [
      "Proporsi Label Setelah Preprocessing: \n",
      "==================================================\n",
      "fraud_status\n",
      "not_fraud    98.246109\n",
      "fraud         1.753891\n",
      "Name: proportion, dtype: float64 \n",
      "\n",
      "fraud_status\n",
      "not_fraud    278736\n",
      "fraud          4976\n",
      "Name: count, dtype: int64\n"
     ]
    }
   ],
   "source": [
    "# Ensure Data Consistency (before after same after winsorization)\n",
    "print(\"Proporsi Label Setelah Preprocessing: \")\n",
    "print(\"=\" * 50)\n",
    "\n",
    "print(trans_col[\"fraud_status\"].value_counts(normalize = True) * 100, '\\n')\n",
    "print(trans_col[\"fraud_status\"].value_counts())"
   ]
  },
  {
   "cell_type": "code",
   "execution_count": 20,
   "metadata": {},
   "outputs": [
    {
     "name": "stdout",
     "output_type": "stream",
     "text": [
      "fraud_status\n",
      "not_fraud    98.25\n",
      "fraud         1.75\n",
      "Name: proportion, dtype: float64 \n",
      "\n",
      "fraud_status\n",
      "not_fraud    278736\n",
      "fraud          4976\n",
      "Name: count, dtype: int64\n"
     ]
    }
   ],
   "source": [
    "# remove NaN from target\n",
    "trans_df = trans_col.dropna(subset = ['fraud_status'])\n",
    "\n",
    "# check value\n",
    "print(round(trans_df[\"fraud_status\"].value_counts(normalize = True) * 100, 2), \"\\n\")\n",
    "print(trans_df[\"fraud_status\"].value_counts())"
   ]
  },
  {
   "cell_type": "markdown",
   "metadata": {},
   "source": [
    "### Split Data"
   ]
  },
  {
   "cell_type": "code",
   "execution_count": 21,
   "metadata": {},
   "outputs": [
    {
     "name": "stdout",
     "output_type": "stream",
     "text": [
      "<class 'pandas.core.frame.DataFrame'>\n",
      "RangeIndex: 283712 entries, 0 to 283711\n",
      "Data columns (total 6 columns):\n",
      " #   Column                     Non-Null Count   Dtype  \n",
      "---  ------                     --------------   -----  \n",
      " 0   transaction_dollar_amount  283712 non-null  float64\n",
      " 1   time_diff_per_seconds      283712 non-null  float64\n",
      " 2   distance                   283712 non-null  float64\n",
      " 3   city                       283712 non-null  object \n",
      " 4   limit_cat                  283712 non-null  object \n",
      " 5   geo_cat                    283712 non-null  object \n",
      "dtypes: float64(3), object(3)\n",
      "memory usage: 13.0+ MB\n"
     ]
    }
   ],
   "source": [
    "from sklearn.model_selection import train_test_split\n",
    "from imblearn.combine import SMOTETomek\n",
    "\n",
    "# split data\n",
    "X = trans_df.drop(columns = [\"fraud_status\"]).copy()\n",
    "y = trans_df[\"fraud_status\"].copy()\n",
    "\n",
    "# \n",
    "X.info()"
   ]
  },
  {
   "cell_type": "code",
   "execution_count": 22,
   "metadata": {},
   "outputs": [
    {
     "name": "stdout",
     "output_type": "stream",
     "text": [
      "==================================================\n",
      "Data has been split!!! \n",
      "\n",
      "Train set size: 226969\n",
      "Test set size: 56743\n",
      "==================================================\n"
     ]
    }
   ],
   "source": [
    "# Split data sebelum preprocessing\n",
    "X_train, X_test, y_train, y_test = train_test_split(X, y, test_size=0.2, random_state=42, stratify=y)\n",
    "\n",
    "# Konversi target ke numeric (setelah split)\n",
    "y_train = y_train.map({\"not_fraud\": 0, \"fraud\": 1})\n",
    "y_test = y_test.map({\"not_fraud\": 0, \"fraud\": 1})\n",
    "\n",
    "# Menampilkan informasi dataset\n",
    "print(\"=\" * 50)\n",
    "print(\"Data has been split!!! \\n\")\n",
    "print(f\"Train set size: {X_train.shape[0]}\")\n",
    "print(f\"Test set size: {X_test.shape[0]}\")\n",
    "print(\"=\" * 50)"
   ]
  },
  {
   "cell_type": "markdown",
   "metadata": {},
   "source": [
    "### Grouping Category"
   ]
  },
  {
   "cell_type": "code",
   "execution_count": 23,
   "metadata": {},
   "outputs": [
    {
     "name": "stdout",
     "output_type": "stream",
     "text": [
      "Ordinal Columns: \t ['limit_cat']\n",
      "One-Hot Columns: \t ['geo_cat']\n",
      "Label Columns: \t\t ['city']\n",
      "Numeric Columns: \t ['transaction_dollar_amount', 'time_diff_per_seconds', 'distance']\n"
     ]
    }
   ],
   "source": [
    "# Daftar kolom untuk label encoding (kolom ordinal)\n",
    "ordinal_set = {'limit_cat'}\n",
    "\n",
    "# Inisialisasi list untuk menyimpan kolom yang telah dikelompokkan\n",
    "ordinal_cols, ohe_cols, label_cols, numeric_cols = [], [], [], []\n",
    "\n",
    "for col in X.columns:\n",
    "    if X[col].dtype in ['int64', 'float64']:\n",
    "        numeric_cols.append(col)\n",
    "\n",
    "    elif X[col].dtype == 'object' or X[col].dtype.name == \"category\":\n",
    "        unique_count = X[col].nunique()  # Menghitung jumlah unik\n",
    "        \n",
    "        if col in ordinal_set:\n",
    "            ordinal_cols.append(col)\n",
    "            \n",
    "        elif unique_count > 10:  # Jika nilai unik lebih dari 10 → label encoding\n",
    "            label_cols.append(col)\n",
    "            \n",
    "        else:  # Jika nilai unik <= 10 → one-hot encoding\n",
    "            ohe_cols.append(col)\n",
    "\n",
    "# Menampilkan hasil\n",
    "print(\"Ordinal Columns: \\t\", ordinal_cols)\n",
    "print(\"One-Hot Columns: \\t\", ohe_cols)\n",
    "print(\"Label Columns: \\t\\t\", label_cols)\n",
    "print(\"Numeric Columns: \\t\", numeric_cols)"
   ]
  },
  {
   "cell_type": "code",
   "execution_count": 24,
   "metadata": {},
   "outputs": [
    {
     "name": "stdout",
     "output_type": "stream",
     "text": [
      "LIMIT_CAT \t: ['very_low' 'low' 'very_high' 'medium' 'high']\n",
      "--------------------------------------------------\n"
     ]
    }
   ],
   "source": [
    "# Check Ordinal Columns\n",
    "for i in ordinal_cols:\n",
    "    print(f'{i.upper()} \\t: {check_cat[i].unique()}')\n",
    "    print(f'{\"-\" * 50}')"
   ]
  },
  {
   "cell_type": "code",
   "execution_count": 25,
   "metadata": {},
   "outputs": [],
   "source": [
    "# Menentukan urutan kategori masing-masing kolom\n",
    "oridnal_cat = [\n",
    "    [\"very_low\", \"low\", \"medium\", \"high\", \"very_high\"],   # Urutan untuk limit_cat\n",
    "]"
   ]
  },
  {
   "cell_type": "markdown",
   "metadata": {},
   "source": [
    "### Transform Parameter"
   ]
  },
  {
   "cell_type": "code",
   "execution_count": 26,
   "metadata": {},
   "outputs": [],
   "source": [
    "# Transformasi\n",
    "numerical_tf = RobustScaler(with_centering = True,          # Jika True, akan mengurangi median sebelum scaling \n",
    "                            with_scaling = True,            # Jika True, akan membagi dengan IQR \n",
    "                            quantile_range = (25.0, 75.0),  # Rentang persentil untuk IQR (default: Q1=25%, Q3=75%) \n",
    "                            unit_variance = False,          # Jika True, akan menyesuaikan data agar memiliki varians sekitar 1 \n",
    "                            copy = False                    # Jika False, transformasi dilakukan in-place pada array input \n",
    "                            )\n",
    "\n",
    "ohe_tf = OneHotEncoder(handle_unknown = 'ignore', \n",
    "                       sparse_output = True, \n",
    "                       max_categories = 50\n",
    "                       )\n",
    "\n",
    "ordinal_tf = OrdinalEncoder(categories = oridnal_cat, \n",
    "                            handle_unknown = 'use_encoded_value', \n",
    "                            unknown_value = -1\n",
    "                            )\n",
    "\n",
    "# Fungsi untuk Label Encoding\n",
    "def label_encode_columns(X):\n",
    "    X = X.copy()  # Hindari mengubah DataFrame asli\n",
    "    for col in label_cols:\n",
    "        le = LabelEncoder()\n",
    "        X[col] = le.fit_transform(X[col])\n",
    "        \n",
    "    return X"
   ]
  },
  {
   "cell_type": "code",
   "execution_count": 27,
   "metadata": {},
   "outputs": [],
   "source": [
    "# Column Transformer dengan FunctionTransformer\n",
    "prep_stage_2 = ColumnTransformer(\n",
    "    transformers = [\n",
    "        (\"num\", StandardScaler(), numeric_cols),  # Standarisasi numerik\n",
    "        (\"ohe\", OneHotEncoder(handle_unknown = \"ignore\", sparse_output = True, max_categories = 50), ohe_cols), \n",
    "        (\"label\", FunctionTransformer(label_encode_columns, validate = False), label_cols),  # Label encoder in pipeline\n",
    "        (\"ord\", OrdinalEncoder(categories = oridnal_cat, handle_unknown = \"use_encoded_value\", unknown_value = -1), ordinal_cols)\n",
    "    ], remainder = \"passthrough\")"
   ]
  },
  {
   "cell_type": "code",
   "execution_count": 28,
   "metadata": {},
   "outputs": [],
   "source": [
    "X_train_tf = prep_stage_2.fit_transform(X_train)  # Fit & Transform Training Data\n",
    "X_test_tf = prep_stage_2.transform(X_test)  # Transform Test Data"
   ]
  },
  {
   "cell_type": "code",
   "execution_count": 29,
   "metadata": {},
   "outputs": [
    {
     "name": "stdout",
     "output_type": "stream",
     "text": [
      "Total rows X_train resample: (226969, 7) \n",
      "\n",
      "Total rows X_test resample: (56743, 7)\n"
     ]
    }
   ],
   "source": [
    "# get feature names after pipeline\n",
    "num_features = numeric_cols \n",
    "cat_features = prep_stage_2.named_transformers_[\"ohe\"].get_feature_names_out(ohe_cols) \n",
    "ord_features = ordinal_cols \n",
    "label_features = label_cols \n",
    "\n",
    "# combine column\n",
    "transformed_columns = (list(num_features) + \n",
    "                       list(cat_features) + \n",
    "                       list(ord_features) + \n",
    "                       list(label_features)) \n",
    "\n",
    "# Dataframe after transform\n",
    "df_X_train_tf = pd.DataFrame(X_train_tf, columns=transformed_columns)\n",
    "print(f'Total rows X_train resample: {df_X_train_tf.shape} \\n')\n",
    "\n",
    "df_X_test_tf = pd.DataFrame(X_test_tf, columns=transformed_columns)\n",
    "print(f'Total rows X_test resample: {df_X_test_tf.shape}')\n"
   ]
  },
  {
   "cell_type": "markdown",
   "metadata": {},
   "source": [
    "### Re-Sampling"
   ]
  },
  {
   "cell_type": "code",
   "execution_count": 30,
   "metadata": {},
   "outputs": [
    {
     "name": "stdout",
     "output_type": "stream",
     "text": [
      "Check Data:\n",
      "fraud_status\n",
      "0    98.246016\n",
      "1     1.753984\n",
      "Name: proportion, dtype: float64 \n",
      "\n",
      "fraud_status\n",
      "0    222988\n",
      "1      3981\n",
      "Name: count, dtype: int64\n"
     ]
    }
   ],
   "source": [
    "# Check Target Proportion\n",
    "print(\"Check Data:\")\n",
    "print(f\"{y_train.value_counts(normalize = True) * 100} \\n\")\n",
    "print(y_train.value_counts())"
   ]
  },
  {
   "cell_type": "code",
   "execution_count": 31,
   "metadata": {},
   "outputs": [],
   "source": [
    "# \n",
    "smotetomek = SMOTETomek(sampling_strategy = 0.1, random_state = 42)\n",
    "X_train_resample, y_train_resample = smotetomek.fit_resample(X_train_tf, y_train)"
   ]
  },
  {
   "cell_type": "code",
   "execution_count": 32,
   "metadata": {},
   "outputs": [
    {
     "name": "stdout",
     "output_type": "stream",
     "text": [
      "After Resampling:\n",
      "fraud_status\n",
      "0    90.909387\n",
      "1     9.090613\n",
      "Name: proportion, dtype: float64 \n",
      "\n",
      "fraud_status\n",
      "0    222988\n",
      "1     22298\n",
      "Name: count, dtype: int64\n"
     ]
    }
   ],
   "source": [
    "# Train Resampling\n",
    "print(\"After Resampling:\")\n",
    "print(f\"{y_train_resample.value_counts(normalize = True) * 100} \\n\")\n",
    "print(y_train_resample.value_counts())"
   ]
  },
  {
   "cell_type": "markdown",
   "metadata": {},
   "source": [
    "### Leak Checking"
   ]
  },
  {
   "cell_type": "markdown",
   "metadata": {},
   "source": [
    "#### Train Data"
   ]
  },
  {
   "cell_type": "code",
   "execution_count": 33,
   "metadata": {},
   "outputs": [
    {
     "name": "stdout",
     "output_type": "stream",
     "text": [
      "transaction_dollar_amount   -0.006429\n",
      "time_diff_per_seconds       -0.188163\n",
      "distance                     0.955728\n",
      "geo_cat_anomaly              1.000000\n",
      "geo_cat_normal              -1.000000\n",
      "limit_cat                   -0.007039\n",
      "city                        -0.018662\n",
      "dtype: float64\n"
     ]
    }
   ],
   "source": [
    "# Konversi X_train_resample ke DataFrame dengan nama kolom yang sama seperti sebelum resampling\n",
    "X_train_leak = pd.DataFrame(X_train_resample, columns = df_X_train_tf.columns)\n",
    "\n",
    "# Cek korelasi antara fitur dan label\n",
    "print(X_train_leak.corrwith(pd.Series(y_train_resample)))"
   ]
  },
  {
   "cell_type": "code",
   "execution_count": 34,
   "metadata": {},
   "outputs": [
    {
     "name": "stdout",
     "output_type": "stream",
     "text": [
      "distance           0.955728\n",
      "geo_cat_anomaly    1.000000\n",
      "geo_cat_normal    -1.000000\n",
      "dtype: float64\n"
     ]
    }
   ],
   "source": [
    "# Check High Correlations\n",
    "correlation_values = X_train_leak.corrwith(pd.Series(y_train_resample))\n",
    "high_correlation_features = correlation_values[correlation_values.abs() > 0.9]\n",
    "\n",
    "print(high_correlation_features)"
   ]
  },
  {
   "cell_type": "code",
   "execution_count": 35,
   "metadata": {},
   "outputs": [
    {
     "name": "stdout",
     "output_type": "stream",
     "text": [
      "<class 'pandas.core.frame.DataFrame'>\n",
      "RangeIndex: 245286 entries, 0 to 245285\n",
      "Data columns (total 4 columns):\n",
      " #   Column                     Non-Null Count   Dtype  \n",
      "---  ------                     --------------   -----  \n",
      " 0   transaction_dollar_amount  245286 non-null  float64\n",
      " 1   time_diff_per_seconds      245286 non-null  float64\n",
      " 2   limit_cat                  245286 non-null  float64\n",
      " 3   city                       245286 non-null  float64\n",
      "dtypes: float64(4)\n",
      "memory usage: 7.5 MB\n"
     ]
    }
   ],
   "source": [
    "X_train_leak = X_train_leak.drop(columns = high_correlation_features.index)\n",
    "X_train_leak.info()"
   ]
  },
  {
   "cell_type": "markdown",
   "metadata": {},
   "source": [
    "#### Test Data"
   ]
  },
  {
   "cell_type": "code",
   "execution_count": 36,
   "metadata": {},
   "outputs": [
    {
     "name": "stdout",
     "output_type": "stream",
     "text": [
      "transaction_dollar_amount   -0.006691\n",
      "time_diff_per_seconds       -0.025665\n",
      "distance                    -0.008129\n",
      "geo_cat_anomaly             -0.007761\n",
      "geo_cat_normal               0.007761\n",
      "limit_cat                   -0.002429\n",
      "city                        -0.012708\n",
      "dtype: float64\n"
     ]
    }
   ],
   "source": [
    "# Konversi X_train_resample ke DataFrame dengan nama kolom yang sama seperti sebelum resampling\n",
    "X_test_leak = pd.DataFrame(df_X_test_tf, columns = df_X_test_tf.columns)\n",
    "\n",
    "# Cek korelasi antara fitur dan label\n",
    "print(X_test_leak.corrwith(pd.Series(y_test)))"
   ]
  },
  {
   "cell_type": "code",
   "execution_count": 37,
   "metadata": {},
   "outputs": [
    {
     "name": "stdout",
     "output_type": "stream",
     "text": [
      "<class 'pandas.core.frame.DataFrame'>\n",
      "RangeIndex: 56743 entries, 0 to 56742\n",
      "Data columns (total 4 columns):\n",
      " #   Column                     Non-Null Count  Dtype  \n",
      "---  ------                     --------------  -----  \n",
      " 0   transaction_dollar_amount  56743 non-null  float64\n",
      " 1   time_diff_per_seconds      56743 non-null  float64\n",
      " 2   limit_cat                  56743 non-null  float64\n",
      " 3   city                       56743 non-null  float64\n",
      "dtypes: float64(4)\n",
      "memory usage: 1.7 MB\n"
     ]
    }
   ],
   "source": [
    "X_test_leak = X_test_leak.drop(columns = high_correlation_features.index, errors = \"ignore\")\n",
    "X_test_leak.info()"
   ]
  },
  {
   "cell_type": "markdown",
   "metadata": {},
   "source": [
    "## Pipeline Blueprint"
   ]
  },
  {
   "cell_type": "code",
   "execution_count": 38,
   "metadata": {},
   "outputs": [],
   "source": [
    "# Rename var train\n",
    "X_train_mod = X_train_leak.copy()\n",
    "y_train_mod = y_train_resample.copy()\n",
    "\n",
    "# Rename var test\n",
    "X_test_mod = X_test_leak.copy()\n",
    "y_test_mod = y_test.copy()"
   ]
  },
  {
   "cell_type": "markdown",
   "metadata": {},
   "source": [
    "### Model Selections"
   ]
  },
  {
   "cell_type": "markdown",
   "metadata": {},
   "source": [
    "#### Logistic Regression"
   ]
  },
  {
   "cell_type": "code",
   "execution_count": 39,
   "metadata": {},
   "outputs": [],
   "source": [
    "logreg_model = LogisticRegression(class_weight = \"balanced\",\n",
    "                                  solver = \"liblinear\",\n",
    "                                  C = 0.5,  # Tambahkan regularisasi\n",
    "                                  penalty = \"l2\",\n",
    "                                  random_state = 42)"
   ]
  },
  {
   "cell_type": "markdown",
   "metadata": {},
   "source": [
    "#### Decission Tree"
   ]
  },
  {
   "cell_type": "code",
   "execution_count": 40,
   "metadata": {},
   "outputs": [],
   "source": [
    "from sklearn.tree import DecisionTreeClassifier\n",
    "\n",
    "dt_model = DecisionTreeClassifier(max_depth = 5, \n",
    "                                  class_weight = \"balanced\", \n",
    "                                  random_state = 42)"
   ]
  },
  {
   "cell_type": "markdown",
   "metadata": {},
   "source": [
    "#### Random Forest"
   ]
  },
  {
   "cell_type": "code",
   "execution_count": 41,
   "metadata": {},
   "outputs": [],
   "source": [
    "forest_model = RandomForestClassifier(n_estimators = 100,  # Kurangi jumlah pohon\n",
    "                                      max_depth = 5,  # Kurangi kedalaman pohon\n",
    "                                      min_samples_split = 10,  # Cegah overfitting\n",
    "                                      class_weight = \"balanced\",\n",
    "                                      random_state = 42)"
   ]
  },
  {
   "cell_type": "markdown",
   "metadata": {},
   "source": [
    "#### XGBoost"
   ]
  },
  {
   "cell_type": "code",
   "execution_count": 42,
   "metadata": {},
   "outputs": [],
   "source": [
    "# Tangani kasus ZeroDivisionError jika kelas minoritas tidak ada di y_train\n",
    "if np.sum(y_train_resample == 1) == 0:\n",
    "    scale_pos_weight = 1\n",
    "    \n",
    "else:\n",
    "    scale_pos_weight = np.sum(y_train_resample == 0) / np.sum(y_train_resample == 1)"
   ]
  },
  {
   "cell_type": "code",
   "execution_count": 43,
   "metadata": {},
   "outputs": [],
   "source": [
    "xgb_model = XGBClassifier(scale_pos_weight = scale_pos_weight, \n",
    "                          n_estimators = 500, \n",
    "                          learning_rate = 0.05, \n",
    "                          max_depth = 3,  \n",
    "                          subsample = 0.8, \n",
    "                          colsample_bytree = 0.8,  \n",
    "                          reg_alpha = 0.1,  # Regularisasi L1\n",
    "                          reg_lambda = 0.5,  # Regularisasi L2\n",
    "                          eval_metric = \"aucpr\",\n",
    "                          random_state = 42)"
   ]
  },
  {
   "cell_type": "markdown",
   "metadata": {},
   "source": [
    "#### LightBGM"
   ]
  },
  {
   "cell_type": "code",
   "execution_count": 44,
   "metadata": {},
   "outputs": [],
   "source": [
    "lbgm_model = LGBMClassifier(is_unbalance = True, \n",
    "                            force_col_wise = True, \n",
    "                            max_depth = 10,  # Menambah kedalaman pohon \n",
    "                            min_data_in_leaf = 10,  # Menghindari split yang tidak berguna \n",
    "                            eval_metric = \"logloss\",  # Metode evaluasi yang lebih jelas \n",
    "                            verbose = -1,  # Mengurangi log yang berlebihan \n",
    "                            random_state = 42)"
   ]
  },
  {
   "cell_type": "markdown",
   "metadata": {},
   "source": [
    "#### CatBoost"
   ]
  },
  {
   "cell_type": "code",
   "execution_count": 45,
   "metadata": {},
   "outputs": [],
   "source": [
    "catb_model = CatBoostClassifier(auto_class_weights = 'Balanced', \n",
    "                                verbose = 0, \n",
    "                                random_state = 42)"
   ]
  },
  {
   "cell_type": "markdown",
   "metadata": {},
   "source": [
    "#### Pipeline Methode"
   ]
  },
  {
   "cell_type": "code",
   "execution_count": 46,
   "metadata": {},
   "outputs": [
    {
     "name": "stdout",
     "output_type": "stream",
     "text": [
      "🔹 Evaluasi Model: Logistic Regression\n",
      "==================================================\n",
      "📊 Average Precision Score (Train): 0.137\n",
      "📊 Average Precision Score (Test): 0.028\n",
      "🎯 Optimal Threshold: 0.411\n",
      "\n",
      "📄 Classification Report:\n",
      "              precision    recall  f1-score   support\n",
      "\n",
      "           0       1.00      0.50      0.66     55748\n",
      "           1       0.03      0.94      0.06       995\n",
      "\n",
      "    accuracy                           0.50     56743\n",
      "   macro avg       0.52      0.72      0.36     56743\n",
      "weighted avg       0.98      0.50      0.65     56743\n",
      "\n",
      "================================================== \n",
      "\n",
      "🔹 Evaluasi Model: Decission Tree\n",
      "==================================================\n",
      "📊 Average Precision Score (Train): 0.288\n",
      "📊 Average Precision Score (Test): 0.148\n",
      "🎯 Optimal Threshold: 0.636\n",
      "\n",
      "📄 Classification Report:\n",
      "              precision    recall  f1-score   support\n",
      "\n",
      "           0       0.99      0.99      0.99     55748\n",
      "           1       0.27      0.25      0.26       995\n",
      "\n",
      "    accuracy                           0.98     56743\n",
      "   macro avg       0.63      0.62      0.62     56743\n",
      "weighted avg       0.97      0.98      0.97     56743\n",
      "\n",
      "================================================== \n",
      "\n",
      "🔹 Evaluasi Model: Random Forest\n",
      "==================================================\n",
      "📊 Average Precision Score (Train): 0.410\n",
      "📊 Average Precision Score (Test): 0.159\n",
      "🎯 Optimal Threshold: 0.746\n",
      "\n",
      "📄 Classification Report:\n",
      "              precision    recall  f1-score   support\n",
      "\n",
      "           0       0.99      0.99      0.99     55748\n",
      "           1       0.30      0.25      0.27       995\n",
      "\n",
      "    accuracy                           0.98     56743\n",
      "   macro avg       0.64      0.62      0.63     56743\n",
      "weighted avg       0.97      0.98      0.98     56743\n",
      "\n",
      "================================================== \n",
      "\n",
      "🔹 Evaluasi Model: XGBoost\n",
      "==================================================\n",
      "📊 Average Precision Score (Train): 0.544\n",
      "📊 Average Precision Score (Test): 0.270\n",
      "🎯 Optimal Threshold: 0.991\n",
      "\n",
      "📄 Classification Report:\n",
      "              precision    recall  f1-score   support\n",
      "\n",
      "           0       0.99      1.00      0.99     55748\n",
      "           1       1.00      0.22      0.36       995\n",
      "\n",
      "    accuracy                           0.99     56743\n",
      "   macro avg       0.99      0.61      0.68     56743\n",
      "weighted avg       0.99      0.99      0.98     56743\n",
      "\n",
      "================================================== \n",
      "\n",
      "🔹 Evaluasi Model: LightGBM\n",
      "==================================================\n",
      "📊 Average Precision Score (Train): 0.594\n",
      "📊 Average Precision Score (Test): 0.265\n",
      "🎯 Optimal Threshold: 0.986\n",
      "\n",
      "📄 Classification Report:\n",
      "              precision    recall  f1-score   support\n",
      "\n",
      "           0       0.99      1.00      0.99     55748\n",
      "           1       1.00      0.21      0.35       995\n",
      "\n",
      "    accuracy                           0.99     56743\n",
      "   macro avg       0.99      0.60      0.67     56743\n",
      "weighted avg       0.99      0.99      0.98     56743\n",
      "\n",
      "================================================== \n",
      "\n",
      "🔹 Evaluasi Model: CatBoost\n",
      "==================================================\n",
      "📊 Average Precision Score (Train): 0.692\n",
      "📊 Average Precision Score (Test): 0.288\n",
      "🎯 Optimal Threshold: 0.958\n",
      "\n",
      "📄 Classification Report:\n",
      "              precision    recall  f1-score   support\n",
      "\n",
      "           0       0.99      1.00      0.99     55748\n",
      "           1       1.00      0.23      0.38       995\n",
      "\n",
      "    accuracy                           0.99     56743\n",
      "   macro avg       0.99      0.62      0.69     56743\n",
      "weighted avg       0.99      0.99      0.98     56743\n",
      "\n",
      "================================================== \n",
      "\n",
      "🏆 Model Terbaik: CatBoost dengan AP Score Test tertinggi: 0.288 dan perbedaan AP Score: 0.404\n"
     ]
    }
   ],
   "source": [
    "from sklearn.metrics import average_precision_score, classification_report, precision_recall_curve\n",
    "import matplotlib.pyplot as plt\n",
    "\n",
    "# Menyimpan semua pipeline dalam dictionary\n",
    "pipelines = {\n",
    "    \"Logistic Regression\": logreg_model,\n",
    "    \"Decission Tree\": dt_model, \n",
    "    \"Random Forest\": forest_model,\n",
    "    \"XGBoost\": xgb_model,\n",
    "    \"LightGBM\": lbgm_model,\n",
    "    \"CatBoost\": catb_model\n",
    "}\n",
    "\n",
    "# Evaluasi semua model\n",
    "best_ap_test = 0  \n",
    "best_score_diff = float(\"inf\")  \n",
    "best_model = None\n",
    "best_model_name = \"\"\n",
    "\n",
    "for name, pipe in pipelines.items():\n",
    "    print(f\"🔹 Evaluasi Model: {name}\")\n",
    "    print('=' * 50)\n",
    "    \n",
    "    # Training model\n",
    "    if name == \"CatBoost\":\n",
    "        pipe.fit(X_train_mod, y_train_mod, verbose=False)\n",
    "        \n",
    "    else:\n",
    "        pipe.fit(X_train_mod, y_train_mod)\n",
    "    \n",
    "    # === Train Evaluation ===\n",
    "    y_train_pred_proba = pipe.predict_proba(X_train_mod)[:, 1]\n",
    "    ap_train = average_precision_score(y_train_mod, y_train_pred_proba)\n",
    "    print(f\"📊 Average Precision Score (Train): {ap_train:.3f}\")\n",
    "\n",
    "    # === Test Evaluation ===\n",
    "    y_test_pred_proba = pipe.predict_proba(X_test_mod)[:, 1]\n",
    "    ap_test = average_precision_score(y_test_mod, y_test_pred_proba)\n",
    "    print(f\"📊 Average Precision Score (Test): {ap_test:.3f}\")\n",
    "\n",
    "    # Precision-Recall Curve\n",
    "    precisions, recalls, thresholds = precision_recall_curve(y_test_mod, y_test_pred_proba)\n",
    "    \n",
    "    # Cari threshold optimal\n",
    "    f1_scores = (2 * precisions * recalls) / (precisions + recalls + 1e-9)  # Hindari divisi oleh nol\n",
    "    best_threshold = thresholds[f1_scores.argmax()] if len(thresholds) > 0 else 0.5\n",
    "    print(f\"🎯 Optimal Threshold: {best_threshold:.3f}\")\n",
    "\n",
    "    # Konversi probabilitas menjadi label menggunakan threshold optimal\n",
    "    y_test_pred = (y_test_pred_proba >= best_threshold).astype(int)\n",
    "\n",
    "    # Classification Report\n",
    "    print(\"\\n📄 Classification Report:\")\n",
    "    print(classification_report(y_test_mod, y_test_pred))\n",
    "\n",
    "    print('=' * 50, '\\n')\n",
    "\n",
    "    # Evaluasi model terbaik berdasarkan AP Score Test\n",
    "    score_diff = abs(ap_train - ap_test)\n",
    "\n",
    "    if ap_test > best_ap_test or (ap_test == best_ap_test and score_diff < best_score_diff):\n",
    "        best_model = pipe\n",
    "        best_model_name = name\n",
    "        best_ap_test = ap_test\n",
    "        best_score_diff = score_diff\n",
    "\n",
    "print(f\"🏆 Model Terbaik: {best_model_name} dengan AP Score Test tertinggi: {best_ap_test:.3f} dan perbedaan AP Score: {best_score_diff:.3f}\")\n"
   ]
  },
  {
   "cell_type": "markdown",
   "metadata": {},
   "source": [
    "#### Voting Methode"
   ]
  },
  {
   "cell_type": "code",
   "execution_count": 47,
   "metadata": {},
   "outputs": [
    {
     "name": "stdout",
     "output_type": "stream",
     "text": [
      "🎯 Optimal Threshold: 0.800\n",
      "\n",
      "=== Classification Report (Voting Classifier) ===\n",
      "              precision    recall  f1-score   support\n",
      "\n",
      "           0       0.99      1.00      0.99     55748\n",
      "           1       0.98      0.23      0.38       995\n",
      "\n",
      "    accuracy                           0.99     56743\n",
      "   macro avg       0.98      0.62      0.68     56743\n",
      "weighted avg       0.99      0.99      0.98     56743\n",
      "\n",
      "📊 Average Precision Score (Voting Classifier): 0.288\n"
     ]
    }
   ],
   "source": [
    "# Membuat Voting Classifier dengan model terbaik\n",
    "voting_clf = VotingClassifier(\n",
    "    estimators=[\n",
    "        ('rf', forest_model),\n",
    "        ('dt', dt_model), \n",
    "        ('xgb', xgb_model),\n",
    "        ('lgbm', lbgm_model),\n",
    "        ('catb', catb_model)\n",
    "    ],\n",
    "    voting='soft'  # Menggunakan probabilitas\n",
    ")\n",
    "\n",
    "# Training Voting Classifier\n",
    "voting_clf.fit(X_train_mod, y_train_mod)\n",
    "\n",
    "# Evaluasi pada Test Set\n",
    "y_test_pred_proba = voting_clf.predict_proba(X_test_mod)[:, 1]\n",
    "\n",
    "# Hitung Average Precision Score (AP Score)\n",
    "best_ap_voting = average_precision_score(y_test_mod, y_test_pred_proba)\n",
    "\n",
    "# Precision-Recall Curve\n",
    "precisions, recalls, thresholds = precision_recall_curve(y_test_mod, y_test_pred_proba)\n",
    "\n",
    "# Cari threshold optimal\n",
    "f1_scores = (2 * precisions * recalls) / (precisions + recalls + 1e-9)  # Hindari divisi oleh nol\n",
    "best_threshold = thresholds[f1_scores.argmax()] if len(thresholds) > 0 else 0.5\n",
    "print(f\"🎯 Optimal Threshold: {best_threshold:.3f}\")\n",
    "\n",
    "# Konversi probabilitas menjadi label menggunakan threshold optimal\n",
    "y_test_pred = (y_test_pred_proba >= best_threshold).astype(int)\n",
    "\n",
    "# Evaluasi Voting Classifier\n",
    "print(\"\\n=== Classification Report (Voting Classifier) ===\")\n",
    "print(classification_report(y_test_mod, y_test_pred)) \n",
    "\n",
    "print(f\"📊 Average Precision Score (Voting Classifier): {best_ap_voting:.3f}\")"
   ]
  },
  {
   "cell_type": "markdown",
   "metadata": {},
   "source": [
    "### Choosing Best Model"
   ]
  },
  {
   "cell_type": "code",
   "execution_count": 48,
   "metadata": {},
   "outputs": [
    {
     "name": "stdout",
     "output_type": "stream",
     "text": [
      "✅ Model Terbaik untuk CV: CatBoost dengan Average Precision Score: 0.288\n"
     ]
    }
   ],
   "source": [
    "# Menentukan model terbaik antara pipeline terbaik dan voting classifier\n",
    "final_model = None\n",
    "final_model_name = \"\"\n",
    "final_score = 0\n",
    "\n",
    "if best_ap_voting > best_ap_test:\n",
    "    final_model = voting_clf\n",
    "    final_model_name = \"voting_clf\"\n",
    "    final_score = best_ap_voting\n",
    "\n",
    "else:\n",
    "    final_model = best_model\n",
    "    final_model_name = best_model_name\n",
    "    final_score = best_ap_test\n",
    "\n",
    "print(f\"✅ Model Terbaik untuk CV: {final_model_name} dengan Average Precision Score: {final_score:.3f}\")"
   ]
  },
  {
   "cell_type": "markdown",
   "metadata": {},
   "source": [
    "## Finding Optimal CV"
   ]
  },
  {
   "cell_type": "code",
   "execution_count": 49,
   "metadata": {},
   "outputs": [
    {
     "name": "stdout",
     "output_type": "stream",
     "text": [
      "🔍 Mencari Nilai CV Optimal dengan StratifiedKFold...\n",
      "\n",
      "Evaluasi dengan cv = 3\n",
      "stratified_cv: StratifiedKFold(n_splits=3, random_state=42, shuffle=True)\n",
      "ROC-AUC rata-rata: 0.624 (dengan cv = 3)\n",
      "\n",
      "Evaluasi dengan cv = 5\n",
      "stratified_cv: StratifiedKFold(n_splits=5, random_state=42, shuffle=True)\n",
      "ROC-AUC rata-rata: 0.631 (dengan cv = 5)\n",
      "\n",
      "Evaluasi dengan cv = 7\n",
      "stratified_cv: StratifiedKFold(n_splits=7, random_state=42, shuffle=True)\n",
      "ROC-AUC rata-rata: 0.633 (dengan cv = 7)\n",
      "\n",
      "Evaluasi dengan cv = 10\n",
      "stratified_cv: StratifiedKFold(n_splits=10, random_state=42, shuffle=True)\n",
      "ROC-AUC rata-rata: 0.634 (dengan cv = 10)\n",
      "\n",
      "✅ Nilai CV Optimal: 10 dengan ROC-AUC: 0.634\n"
     ]
    }
   ],
   "source": [
    "# Daftar nilai CV yang ingin diuji\n",
    "cv_values = [3, 5, 7, 10]\n",
    "testing_best_cv = None\n",
    "testing_cv_score = 0\n",
    "\n",
    "print(\"🔍 Mencari Nilai CV Optimal dengan StratifiedKFold...\")\n",
    "\n",
    "for cv in cv_values:\n",
    "    print(f\"\\nEvaluasi dengan cv = {cv}\")\n",
    "    \n",
    "    # Gunakan StratifiedKFold\n",
    "    stratified_cv = StratifiedKFold(n_splits = cv, shuffle = True, random_state = 42)\n",
    "    print(f\"stratified_cv: {stratified_cv}\")\n",
    "    \n",
    "    scores = cross_val_score(final_model, \n",
    "                             X_train_mod, \n",
    "                             y_train_mod, \n",
    "                             cv = stratified_cv, \n",
    "                             scoring = 'average_precision', \n",
    "                             n_jobs = -1)\n",
    "    \n",
    "    mean_score = np.mean(scores)  # ✅ Gunakan rata-rata, bukan max\n",
    "    print(f\"average_precision rata-rata: {mean_score:.3f} (dengan cv = {cv})\")\n",
    "    \n",
    "    # Simpan nilai CV terbaik\n",
    "    if mean_score > testing_cv_score:\n",
    "        testing_cv_score = mean_score\n",
    "        testing_best_cv = cv\n",
    "\n",
    "print(f\"\\n✅ Nilai CV Optimal: {testing_best_cv} dengan ROC-AUC: {testing_cv_score:.3f}\")"
   ]
  },
  {
   "cell_type": "markdown",
   "metadata": {},
   "source": [
    "# Hyperparameter Tuning"
   ]
  },
  {
   "cell_type": "markdown",
   "metadata": {},
   "source": [
    "halving"
   ]
  },
  {
   "cell_type": "code",
   "execution_count": 50,
   "metadata": {},
   "outputs": [],
   "source": [
    "# Pilih model yang akan di-tuning\n",
    "if final_model_name == \"Random Forest\":\n",
    "    param_dist = {\n",
    "        'n_estimators': [100, 300, 500, 1000],  # Jumlah pohon dalam hutan\n",
    "        'max_depth': [10, 20, 30, None],  # Kedalaman maksimum pohon\n",
    "        'min_samples_split': [2, 5, 10, 20],  # Minimum sampel untuk melakukan split\n",
    "        'min_samples_leaf': [1, 2, 5, 10],  # Minimum sampel di setiap daun\n",
    "        'max_features': ['sqrt', 'log2', None],  # Fitur yang dipertimbangkan per split\n",
    "        'bootstrap': [True, False]  # Apakah menggunakan bootstrap sampling\n",
    "    }\n",
    "\n",
    "elif final_model_name == \"XGBoost\":\n",
    "    param_dist = {\n",
    "        'n_estimators': [100, 200, 300, 500],  # Jumlah pohon boosting\n",
    "        'learning_rate': [0.001, 0.01, 0.1, 0.2],  # Laju pembelajaran\n",
    "        'max_depth': [3, 6, 10, 15],  # Kedalaman maksimum pohon\n",
    "        'min_child_weight': [1, 3, 5, 7],  # Bobot minimum anak untuk split\n",
    "        'subsample': [0.6, 0.8, 1.0],  # Rasio sampel yang digunakan dalam training\n",
    "        'colsample_bytree': [0.6, 0.8, 1.0],  # Proporsi fitur yang digunakan per pohon\n",
    "        'gamma': [0, 0.1, 0.2, 0.5],  # Pengendalian pruning dengan minimum loss reduction\n",
    "        'reg_lambda': [0, 0.1, 1, 10],  # Regularisasi L2\n",
    "        'reg_alpha': [0, 0.1, 1, 10]  # Regularisasi L1\n",
    "    }\n",
    "\n",
    "elif final_model_name == \"LightGBM\":\n",
    "    param_dist = {\n",
    "        'num_leaves': [31, 50, 100, 150],  # Jumlah daun pada setiap pohon\n",
    "        'learning_rate': [0.001, 0.01, 0.1, 0.2],  # Laju pembelajaran\n",
    "        'n_estimators': [100, 200, 300, 500],  # Jumlah pohon boosting\n",
    "        'max_depth': [-1, 10, 20, 30],  # Kedalaman maksimum pohon (-1 berarti tidak terbatas)\n",
    "        'min_child_samples': [10, 20, 50, 100],  # Minimum sampel dalam satu leaf\n",
    "        'subsample': [0.6, 0.8, 1.0],  # Proporsi sampel yang digunakan\n",
    "        'colsample_bytree': [0.6, 0.8, 1.0],  # Proporsi fitur yang digunakan per pohon\n",
    "        'reg_lambda': [0, 0.1, 1, 10],  # Regularisasi L2\n",
    "        'reg_alpha': [0, 0.1, 1, 10]  # Regularisasi L1\n",
    "    }\n",
    "\n",
    "elif final_model_name == \"CatBoost\":\n",
    "    param_dist = {\n",
    "        'iterations': [100, 200, 300, 500],  # Jumlah iterasi boosting\n",
    "        'learning_rate': [0.001, 0.01, 0.1, 0.2],  # Laju pembelajaran\n",
    "        'depth': [4, 6, 10, 12],  # Kedalaman maksimum pohon\n",
    "        'l2_leaf_reg': [1, 3, 5, 10],  # Regularisasi L2 untuk leaf\n",
    "        'bagging_temperature': [0.1, 0.5, 1, 2],  # Kontrol bootstraping (mirip dengan subsample)\n",
    "        'border_count': [32, 64, 128],  # Jumlah bin untuk fitur numerik\n",
    "        'random_strength': [0.1, 0.5, 1, 2]  # Noise untuk regularisasi\n",
    "    }"
   ]
  },
  {
   "cell_type": "code",
   "execution_count": 51,
   "metadata": {},
   "outputs": [],
   "source": [
    "# 🔹 Pastikan X_train_mod adalah DataFrame\n",
    "if isinstance(X_train_mod, np.ndarray):\n",
    "    X_train_mod = pd.DataFrame(X_train_mod)\n",
    "\n",
    "# 🔹 Bersihkan dataset dari NaN\n",
    "X_train_mod = X_train_mod.fillna(X_train_mod.median())\n",
    "\n",
    "# 🔹 Bersihkan dataset dari Inf\n",
    "X_train_mod = X_train_mod.replace([np.inf, -np.inf], np.nan)  # Ganti Inf jadi NaN\n",
    "X_train_mod = X_train_mod.fillna(X_train_mod.median())  # Isi ulang dengan median\n",
    "\n",
    "# 🔹 Konversi kembali ke NumPy jika diperlukan\n",
    "X_train_mod = X_train_mod.to_numpy()"
   ]
  },
  {
   "cell_type": "code",
   "execution_count": 52,
   "metadata": {},
   "outputs": [
    {
     "name": "stdout",
     "output_type": "stream",
     "text": [
      "Total kombinasi parameter valid: 12288\n"
     ]
    }
   ],
   "source": [
    "# 🔹 Hitung jumlah kombinasi parameter\n",
    "total_combinations = len(list(product(*param_dist.values())))\n",
    "print(f\"Total kombinasi parameter valid: {total_combinations}\")\n",
    "\n",
    "# 🔹 Atur `n_candidates` agar tidak lebih besar dari jumlah kombinasi parameter\n",
    "param_combinations = min(100, total_combinations)  # Ambil nilai yang masuk akal"
   ]
  },
  {
   "cell_type": "markdown",
   "metadata": {},
   "source": [
    "| Metode Evaluasi        | Kode Scoring       | Keterangan |\n",
    "|------------------------|--------------------|------------|\n",
    "| **PR-AUC**            | `average_precision` | ✅ Terbaik untuk dataset imbalance |\n",
    "| **Recall**            | `recall`            | 🔥 Terbaik jika ingin menangkap sebanyak mungkin fraud |\n",
    "| **F1-Score**          | `f1`                | ⚖ Keseimbangan antara menangkap fraud & menghindari false positives |\n",
    "| **Precision**         | `precision`         | 🛑 Jika ingin menghindari false positives |\n",
    "| **ROC-AUC**          | `roc_auc`           | ⚠ Kurang direkomendasikan jika fraud sangat jarang |"
   ]
  },
  {
   "cell_type": "code",
   "execution_count": 53,
   "metadata": {},
   "outputs": [
    {
     "ename": "ValueError",
     "evalue": "Shape of passed values is (245286, 4), indices imply (245286, 6)",
     "output_type": "error",
     "traceback": [
      "\u001b[1;31m---------------------------------------------------------------------------\u001b[0m",
      "\u001b[1;31mValueError\u001b[0m                                Traceback (most recent call last)",
      "Cell \u001b[1;32mIn[53], line 2\u001b[0m\n\u001b[0;32m      1\u001b[0m \u001b[38;5;66;03m# Konversi kembali ke DataFrame dengan kolom asli\u001b[39;00m\n\u001b[1;32m----> 2\u001b[0m X_train_mod \u001b[38;5;241m=\u001b[39m \u001b[43mpd\u001b[49m\u001b[38;5;241;43m.\u001b[39;49m\u001b[43mDataFrame\u001b[49m\u001b[43m(\u001b[49m\u001b[43mX_train_mod\u001b[49m\u001b[43m,\u001b[49m\u001b[43m \u001b[49m\u001b[43mcolumns\u001b[49m\u001b[38;5;241;43m=\u001b[39;49m\u001b[43mX_train\u001b[49m\u001b[38;5;241;43m.\u001b[39;49m\u001b[43mcolumns\u001b[49m\u001b[43m)\u001b[49m\n\u001b[0;32m      3\u001b[0m X_test_mod \u001b[38;5;241m=\u001b[39m pd\u001b[38;5;241m.\u001b[39mDataFrame(X_test_mod, columns\u001b[38;5;241m=\u001b[39mX_test\u001b[38;5;241m.\u001b[39mcolumns)\n\u001b[0;32m      5\u001b[0m \u001b[38;5;66;03m# 🔍 Cek dan Tangani NaN & Inf\u001b[39;00m\n",
      "File \u001b[1;32mc:\\Users\\POSCO-DX\\miniconda3\\Lib\\site-packages\\pandas\\core\\frame.py:827\u001b[0m, in \u001b[0;36mDataFrame.__init__\u001b[1;34m(self, data, index, columns, dtype, copy)\u001b[0m\n\u001b[0;32m    816\u001b[0m         mgr \u001b[38;5;241m=\u001b[39m dict_to_mgr(\n\u001b[0;32m    817\u001b[0m             \u001b[38;5;66;03m# error: Item \"ndarray\" of \"Union[ndarray, Series, Index]\" has no\u001b[39;00m\n\u001b[0;32m    818\u001b[0m             \u001b[38;5;66;03m# attribute \"name\"\u001b[39;00m\n\u001b[1;32m   (...)\u001b[0m\n\u001b[0;32m    824\u001b[0m             copy\u001b[38;5;241m=\u001b[39m_copy,\n\u001b[0;32m    825\u001b[0m         )\n\u001b[0;32m    826\u001b[0m     \u001b[38;5;28;01melse\u001b[39;00m:\n\u001b[1;32m--> 827\u001b[0m         mgr \u001b[38;5;241m=\u001b[39m \u001b[43mndarray_to_mgr\u001b[49m\u001b[43m(\u001b[49m\n\u001b[0;32m    828\u001b[0m \u001b[43m            \u001b[49m\u001b[43mdata\u001b[49m\u001b[43m,\u001b[49m\n\u001b[0;32m    829\u001b[0m \u001b[43m            \u001b[49m\u001b[43mindex\u001b[49m\u001b[43m,\u001b[49m\n\u001b[0;32m    830\u001b[0m \u001b[43m            \u001b[49m\u001b[43mcolumns\u001b[49m\u001b[43m,\u001b[49m\n\u001b[0;32m    831\u001b[0m \u001b[43m            \u001b[49m\u001b[43mdtype\u001b[49m\u001b[38;5;241;43m=\u001b[39;49m\u001b[43mdtype\u001b[49m\u001b[43m,\u001b[49m\n\u001b[0;32m    832\u001b[0m \u001b[43m            \u001b[49m\u001b[43mcopy\u001b[49m\u001b[38;5;241;43m=\u001b[39;49m\u001b[43mcopy\u001b[49m\u001b[43m,\u001b[49m\n\u001b[0;32m    833\u001b[0m \u001b[43m            \u001b[49m\u001b[43mtyp\u001b[49m\u001b[38;5;241;43m=\u001b[39;49m\u001b[43mmanager\u001b[49m\u001b[43m,\u001b[49m\n\u001b[0;32m    834\u001b[0m \u001b[43m        \u001b[49m\u001b[43m)\u001b[49m\n\u001b[0;32m    836\u001b[0m \u001b[38;5;66;03m# For data is list-like, or Iterable (will consume into list)\u001b[39;00m\n\u001b[0;32m    837\u001b[0m \u001b[38;5;28;01melif\u001b[39;00m is_list_like(data):\n",
      "File \u001b[1;32mc:\\Users\\POSCO-DX\\miniconda3\\Lib\\site-packages\\pandas\\core\\internals\\construction.py:336\u001b[0m, in \u001b[0;36mndarray_to_mgr\u001b[1;34m(values, index, columns, dtype, copy, typ)\u001b[0m\n\u001b[0;32m    331\u001b[0m \u001b[38;5;66;03m# _prep_ndarraylike ensures that values.ndim == 2 at this point\u001b[39;00m\n\u001b[0;32m    332\u001b[0m index, columns \u001b[38;5;241m=\u001b[39m _get_axes(\n\u001b[0;32m    333\u001b[0m     values\u001b[38;5;241m.\u001b[39mshape[\u001b[38;5;241m0\u001b[39m], values\u001b[38;5;241m.\u001b[39mshape[\u001b[38;5;241m1\u001b[39m], index\u001b[38;5;241m=\u001b[39mindex, columns\u001b[38;5;241m=\u001b[39mcolumns\n\u001b[0;32m    334\u001b[0m )\n\u001b[1;32m--> 336\u001b[0m \u001b[43m_check_values_indices_shape_match\u001b[49m\u001b[43m(\u001b[49m\u001b[43mvalues\u001b[49m\u001b[43m,\u001b[49m\u001b[43m \u001b[49m\u001b[43mindex\u001b[49m\u001b[43m,\u001b[49m\u001b[43m \u001b[49m\u001b[43mcolumns\u001b[49m\u001b[43m)\u001b[49m\n\u001b[0;32m    338\u001b[0m \u001b[38;5;28;01mif\u001b[39;00m typ \u001b[38;5;241m==\u001b[39m \u001b[38;5;124m\"\u001b[39m\u001b[38;5;124marray\u001b[39m\u001b[38;5;124m\"\u001b[39m:\n\u001b[0;32m    339\u001b[0m     \u001b[38;5;28;01mif\u001b[39;00m \u001b[38;5;28missubclass\u001b[39m(values\u001b[38;5;241m.\u001b[39mdtype\u001b[38;5;241m.\u001b[39mtype, \u001b[38;5;28mstr\u001b[39m):\n",
      "File \u001b[1;32mc:\\Users\\POSCO-DX\\miniconda3\\Lib\\site-packages\\pandas\\core\\internals\\construction.py:420\u001b[0m, in \u001b[0;36m_check_values_indices_shape_match\u001b[1;34m(values, index, columns)\u001b[0m\n\u001b[0;32m    418\u001b[0m passed \u001b[38;5;241m=\u001b[39m values\u001b[38;5;241m.\u001b[39mshape\n\u001b[0;32m    419\u001b[0m implied \u001b[38;5;241m=\u001b[39m (\u001b[38;5;28mlen\u001b[39m(index), \u001b[38;5;28mlen\u001b[39m(columns))\n\u001b[1;32m--> 420\u001b[0m \u001b[38;5;28;01mraise\u001b[39;00m \u001b[38;5;167;01mValueError\u001b[39;00m(\u001b[38;5;124mf\u001b[39m\u001b[38;5;124m\"\u001b[39m\u001b[38;5;124mShape of passed values is \u001b[39m\u001b[38;5;132;01m{\u001b[39;00mpassed\u001b[38;5;132;01m}\u001b[39;00m\u001b[38;5;124m, indices imply \u001b[39m\u001b[38;5;132;01m{\u001b[39;00mimplied\u001b[38;5;132;01m}\u001b[39;00m\u001b[38;5;124m\"\u001b[39m)\n",
      "\u001b[1;31mValueError\u001b[0m: Shape of passed values is (245286, 4), indices imply (245286, 6)"
     ]
    }
   ],
   "source": [
    "# Konversi kembali ke DataFrame dengan kolom asli\n",
    "X_train_mod = pd.DataFrame(X_train_mod, columns=X_train.columns)\n",
    "X_test_mod = pd.DataFrame(X_test_mod, columns=X_test.columns)\n",
    "\n",
    "# 🔍 Cek dan Tangani NaN & Inf\n",
    "def clean_data(df):\n",
    "    # Simpan nama kolom\n",
    "    columns = df.columns\n",
    "\n",
    "    # Pastikan semua kolom numerik\n",
    "    df = df.apply(pd.to_numeric, errors='coerce')\n",
    "\n",
    "    # Cek apakah ada NaN atau Inf\n",
    "    if np.any(pd.isnull(df)) or np.any(np.isinf(df)):\n",
    "        print(\"⚠️ Warning: Dataset mengandung NaN atau Inf! Membersihkannya...\")\n",
    "\n",
    "        # Ganti NaN dengan median setiap kolom\n",
    "        df = df.fillna(df.median())\n",
    "\n",
    "        # Ganti Inf dengan nilai maksimum di setiap kolom\n",
    "        df = df.replace([np.inf, -np.inf], df.max())\n",
    "\n",
    "    # Pastikan DataFrame tetap memiliki nama kolom\n",
    "    df.columns = columns\n",
    "\n",
    "    return df\n",
    "\n",
    "# 🔹 Bersihkan X_train_mod & X_test_mod\n",
    "X_train_mod = clean_data(X_train_mod)\n",
    "X_test_mod = clean_data(X_test_mod)\n",
    "\n",
    "# 🔍 Cek statistik dataset setelah pembersihan\n",
    "print(X_train_mod.describe())\n"
   ]
  },
  {
   "cell_type": "code",
   "execution_count": null,
   "metadata": {},
   "outputs": [],
   "source": [
    "from sklearn.experimental import enable_halving_search_cv\n",
    "from sklearn.model_selection import HalvingRandomSearchCV\n",
    "\n",
    "# \n",
    "skf = StratifiedKFold(n_splits = testing_best_cv, shuffle = True, random_state = 42)\n",
    "\n",
    "# 🔍 Hyperparameter Tuning dengan HalvingRandomSearchCV\n",
    "halving_search = HalvingRandomSearchCV(\n",
    "    final_model, \n",
    "    param_distributions = param_dist, \n",
    "    factor = 2, # Total combination / factor\n",
    "    scoring = 'average_precision', \n",
    "    cv = skf, \n",
    "    n_jobs = -1, \n",
    "    random_state = 42,\n",
    "    n_candidates = param_combinations, \n",
    "    error_score = \"raise\"\n",
    ")\n",
    "\n",
    "halving_search.fit(X_train_mod, y_train_mod)\n",
    "\n",
    "print(f\"\\n🔍 Hyperparameter Terbaik ({final_model_name}): {halving_search.best_params_}\")\n",
    "print(f\"✅ Best ROC-AUC Score: {halving_search.best_score_:.3f}\")\n",
    "\n",
    "optimal_cv = halving_search.best_estimator_"
   ]
  },
  {
   "cell_type": "markdown",
   "metadata": {},
   "source": [
    "# Final Evaluation"
   ]
  },
  {
   "cell_type": "code",
   "execution_count": null,
   "metadata": {},
   "outputs": [],
   "source": [
    "from sklearn.metrics import average_precision_score, classification_report, precision_recall_curve, roc_auc_score\n",
    "\n",
    "# 🔹 Konversi ke NumPy untuk menghindari warning\n",
    "X_test_mod = X_test_mod.to_numpy()\n",
    "\n",
    "# 🔹 Prediksi dengan Model Terbaik\n",
    "y_test_pred_proba = optimal_cv.predict_proba(X_test_mod)[:, 1]\n",
    "\n",
    "# 🔹 Menghitung Average Precision Score (AP Score)\n",
    "ap_score = average_precision_score(y_test_mod, y_test_pred_proba)\n",
    "print(f\"📊 Average Precision Score (Test): {ap_score:.3f}\")\n",
    "\n",
    "# 🔹 Mencari Threshold Optimal menggunakan Precision-Recall Curve\n",
    "precisions, recalls, thresholds = precision_recall_curve(y_test_mod, y_test_pred_proba)\n",
    "f1_scores = 2 * (precisions * recalls) / (precisions + recalls + 1e-9)  # Hindari pembagian oleh nol\n",
    "best_threshold = thresholds[f1_scores.argmax()] if len(thresholds) > 0 else 0.5\n",
    "\n",
    "# 🔹 Gunakan Threshold Optimal untuk Prediksi Akhir\n",
    "y_test_pred = (y_test_pred_proba >= best_threshold).astype(int)\n",
    "\n",
    "# 🔹 Classification Report\n",
    "print(\"\\n=== Classification Report ===\")\n",
    "print(classification_report(y_test_mod, y_test_pred))\n",
    "\n",
    "# 🔹 ROC-AUC Score\n",
    "roc_auc_final = roc_auc_score(y_test_mod, y_test_pred_proba)\n",
    "print(f\"🎯 Final ROC-AUC Score: {roc_auc_final:.3f}\")\n",
    "print(f\"🔹 Best Threshold Used: {best_threshold:.3f}\")\n"
   ]
  },
  {
   "cell_type": "markdown",
   "metadata": {},
   "source": [
    "# Model Visualization"
   ]
  },
  {
   "cell_type": "code",
   "execution_count": null,
   "metadata": {},
   "outputs": [],
   "source": [
    "import matplotlib.pyplot as plt\n",
    "import seaborn as sns\n",
    "from sklearn.metrics import precision_recall_curve, roc_curve\n",
    "\n",
    "# 🔹 Precision-Recall Curve\n",
    "plt.figure(figsize=(10, 5))\n",
    "precisions, recalls, _ = precision_recall_curve(y_test_mod, y_test_pred_proba)\n",
    "plt.plot(recalls, precisions, marker='.', label=f'AP Score: {ap_score:.3f}')\n",
    "plt.xlabel('Recall')\n",
    "plt.ylabel('Precision')\n",
    "plt.title('Precision-Recall Curve')\n",
    "plt.legend()\n",
    "plt.grid()\n",
    "plt.show()"
   ]
  },
  {
   "cell_type": "code",
   "execution_count": null,
   "metadata": {},
   "outputs": [],
   "source": [
    "# 🔹 ROC Curve\n",
    "plt.figure(figsize=(10, 5))\n",
    "fpr, tpr, _ = roc_curve(y_test_mod, y_test_pred_proba)\n",
    "plt.plot(fpr, tpr, marker='.', label=f'ROC-AUC: {roc_auc_final:.3f}')\n",
    "plt.xlabel('False Positive Rate')\n",
    "plt.ylabel('True Positive Rate')\n",
    "plt.title('ROC Curve')\n",
    "plt.legend()\n",
    "plt.grid()\n",
    "plt.show()"
   ]
  },
  {
   "cell_type": "code",
   "execution_count": null,
   "metadata": {},
   "outputs": [],
   "source": [
    "# 🔹 Histogram Probabilitas Prediksi\n",
    "plt.figure(figsize=(10, 5))\n",
    "sns.histplot(y_test_pred_proba[y_test_mod == 0], bins=50, label='Non-Fraud', color='blue', alpha=0.6)\n",
    "sns.histplot(y_test_pred_proba[y_test_mod == 1], bins=50, label='Fraud', color='red', alpha=0.6)\n",
    "plt.axvline(best_threshold, color='black', linestyle='dashed', label=f'Threshold: {best_threshold:.3f}')\n",
    "plt.xlabel('Predicted Probability')\n",
    "plt.ylabel('Frequency')\n",
    "plt.title('Distribution of Predicted Probabilities')\n",
    "plt.legend()\n",
    "plt.show()"
   ]
  },
  {
   "cell_type": "code",
   "execution_count": null,
   "metadata": {},
   "outputs": [],
   "source": [
    "# 🔹 Confusion Matrix\n",
    "cm = confusion_matrix(y_test_mod, y_test_pred)\n",
    "plt.figure(figsize=(6, 6))\n",
    "sns.heatmap(cm, annot=True, fmt='d', cmap='Blues', xticklabels=[\"Non-Fraud\", \"Fraud\"], yticklabels=[\"Non-Fraud\", \"Fraud\"])\n",
    "plt.xlabel('Predicted')\n",
    "plt.ylabel('Actual')\n",
    "plt.title('Confusion Matrix')\n",
    "plt.show()"
   ]
  },
  {
   "cell_type": "markdown",
   "metadata": {},
   "source": [
    "# Save Model"
   ]
  },
  {
   "cell_type": "code",
   "execution_count": null,
   "metadata": {},
   "outputs": [],
   "source": [
    "# Tentukan folder tujuan\n",
    "dir_name = 'datamart'\n",
    "folder_path = f\"../{dir_name}\"\n",
    "\n",
    "# Cek apakah folder sudah ada, jika belum buat foldernya\n",
    "if not os.path.exists(folder_path):\n",
    "    os.makedirs(folder_path)\n",
    "    \n",
    "    print(f\"Directory '{dir_name}' created successfully.\")\n",
    "\n",
    "else: \n",
    "    print(f'Directory has already been created.')"
   ]
  }
 ],
 "metadata": {
  "kernelspec": {
   "display_name": "base",
   "language": "python",
   "name": "python3"
  },
  "language_info": {
   "codemirror_mode": {
    "name": "ipython",
    "version": 3
   },
   "file_extension": ".py",
   "mimetype": "text/x-python",
   "name": "python",
   "nbconvert_exporter": "python",
   "pygments_lexer": "ipython3",
   "version": "3.12.3"
  }
 },
 "nbformat": 4,
 "nbformat_minor": 2
}
