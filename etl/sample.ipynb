{
 "cells": [
  {
   "cell_type": "markdown",
   "metadata": {},
   "source": [
    "# Sample"
   ]
  },
  {
   "cell_type": "markdown",
   "metadata": {},
   "source": [
    "## Transform"
   ]
  },
  {
   "cell_type": "code",
   "execution_count": null,
   "metadata": {},
   "outputs": [],
   "source": [
    "# # Transformasi\n",
    "# numerical_transformer = StandardScaler()\n",
    "# categorical_transformer = Pipeline([\n",
    "#     ('onehot', OneHotEncoder(handle_unknown = 'ignore', sparse_output = True, max_categories = 50)), \n",
    "#     # ('svd', TruncatedSVD(n_components = 100))  # Mengurangi dimensi fitur kategori\n",
    "# ])\n",
    "# ordinal_transformer = OrdinalEncoder(categories = oridnal_cat, handle_unknown = 'use_encoded_value', unknown_value = -1)\n",
    "\n",
    "# # Column Transformer\n",
    "# prep_stage_2 = ColumnTransformer(\n",
    "#     transformers = [\n",
    "#         (\"num\", numerical_transformer, numeric_cols), \n",
    "#         (\"cat\", categorical_transformer, one_hot_cols), \n",
    "#         (\"ord\", ordinal_transformer, ordinal_cols)\n",
    "#     ], remainder = \"passthrough\")"
   ]
  },
  {
   "cell_type": "code",
   "execution_count": null,
   "metadata": {},
   "outputs": [],
   "source": [
    "# # Transform data menggunakan fit_transform\n",
    "# model_df = prep_stage_2.fit_transform(model_df)\n",
    "\n",
    "# # Get name column from fit_transform\n",
    "# model_df = pd.DataFrame(model_df, columns = prep_stage_2.get_feature_names_out())\n",
    "\n",
    "# # Hilangkan prefix (misalnya, \"num__\", \"cat__\", \"out__\")\n",
    "# clean_columns = [col.split(\"__\", 1)[-1] for col in model_df.columns]\n",
    "# model_df.columns = clean_columns"
   ]
  },
  {
   "cell_type": "code",
   "execution_count": null,
   "metadata": {},
   "outputs": [],
   "source": [
    "# # Menampilkan total null pada setiap kolom\n",
    "# null_columns = model_df.isnull().sum()[model_df.isnull().sum() > 0]\n",
    "# print(f'Total null columns: {null_columns} \\n')"
   ]
  },
  {
   "cell_type": "code",
   "execution_count": null,
   "metadata": {},
   "outputs": [],
   "source": [
    "# # check data type after transform\n",
    "# model_df.info()"
   ]
  },
  {
   "cell_type": "code",
   "execution_count": null,
   "metadata": {},
   "outputs": [],
   "source": [
    "# # change object after transform\n",
    "# model_df = convert_object_columns_to_numeric(model_df)\n",
    "# model_df.info()"
   ]
  },
  {
   "cell_type": "code",
   "execution_count": null,
   "metadata": {},
   "outputs": [],
   "source": [
    "# model_df.head()"
   ]
  },
  {
   "cell_type": "markdown",
   "metadata": {},
   "source": [
    "## Base Model"
   ]
  },
  {
   "cell_type": "code",
   "execution_count": null,
   "metadata": {},
   "outputs": [],
   "source": [
    "# from sklearn.ensemble import RandomForestClassifier\n",
    "# from sklearn.metrics import classification_report, confusion_matrix\n",
    "\n",
    "# # Define pipeline\n",
    "# base_model_pipe = Pipeline([\n",
    "#     (\"model\", RandomForestClassifier(n_estimators = 100, random_state = 42, class_weight = \"balanced\"))\n",
    "# ])\n",
    "\n",
    "# # Cross-validation scores with multiple metrics\n",
    "# val_score = [\"accuracy\", \"precision\", \"recall\", \"f1\", \"roc_auc\"]\n",
    "# cv_results = cross_validate(base_model_pipe, X_train, y_train, cv = 5, scoring = val_score)\n",
    "# cv_results"
   ]
  },
  {
   "cell_type": "code",
   "execution_count": null,
   "metadata": {},
   "outputs": [],
   "source": [
    "# print(f\"Cross-validation Accuracy: {cv_results['test_accuracy'].mean():.4f}\")\n",
    "# print(f\"Cross-validation Precision: {cv_results['test_precision'].mean():.4f}\")\n",
    "# print(f\"Cross-validation Recall: {cv_results['test_recall'].mean():.4f}\")\n",
    "# print(f\"Cross-validation F1-score: {cv_results['test_f1'].mean():.4f}\")\n",
    "# print(f\"Cross-validation AUC-ROC: {cv_results['test_roc_auc'].mean():.4f} \\n\")"
   ]
  },
  {
   "cell_type": "code",
   "execution_count": null,
   "metadata": {},
   "outputs": [],
   "source": [
    "# # Fit the pipeline\n",
    "# base_model_pipe.fit(X_train, y_train)\n",
    "\n",
    "# # Predict\n",
    "# y_pred = base_model_pipe.predict(X_test)\n",
    "\n",
    "# # Evaluasi Model\n",
    "# print(classification_report(y_test, y_pred))"
   ]
  },
  {
   "cell_type": "markdown",
   "metadata": {},
   "source": [
    "#### Evaluasi Model"
   ]
  },
  {
   "cell_type": "code",
   "execution_count": null,
   "metadata": {},
   "outputs": [],
   "source": [
    "# from sklearn.metrics import roc_auc_score, accuracy_score, precision_score, recall_score, f1_score\n",
    "\n",
    "# # Evaluate Model\n",
    "# accuracy = accuracy_score(y_test, y_pred)\n",
    "# precision = precision_score(y_test, y_pred)\n",
    "# recall = recall_score(y_test, y_pred)\n",
    "# f1 = f1_score(y_test, y_pred)\n",
    "# auc_score = roc_auc_score(y_test, y_pred)\n",
    "\n",
    "# print(f\"Accuracy: {accuracy:.4f}\")\n",
    "# print(f\"Precision: {precision:.4f}\")\n",
    "# print(f\"Recall: {recall:.4f}\")\n",
    "# print(f\"F1-Score: {f1:.4f}\")\n",
    "# print(f\"AUC-ROC Score: {auc_score:.4f}\")"
   ]
  },
  {
   "cell_type": "markdown",
   "metadata": {},
   "source": [
    "## Hyperparameter"
   ]
  },
  {
   "cell_type": "markdown",
   "metadata": {},
   "source": [
    "### Optimal CV"
   ]
  },
  {
   "cell_type": "code",
   "execution_count": null,
   "metadata": {},
   "outputs": [],
   "source": [
    "# from sklearn.model_selection import cross_val_score\n",
    "# import numpy as np\n",
    "\n",
    "# cv_values = [2, 3, 5, 10]  # Coba berbagai nilai cv\n",
    "# scores = []\n",
    "\n",
    "# for cv in cv_values:\n",
    "#     cv_score = cross_val_score(base_model_pipe, \n",
    "#                                X_train, \n",
    "#                                y_train, \n",
    "#                                cv = cv, \n",
    "#                                scoring = 'accuracy')\n",
    "    \n",
    "#     mean_score = np.mean(cv_score)\n",
    "#     std_score = np.std(cv_score)\n",
    "    \n",
    "#     scores.append((cv, mean_score, std_score))\n",
    "#     print(f\"Cross Validation: {cv} -> Mean: {mean_score:.4f}, Std: {std_score:.4f}\")"
   ]
  },
  {
   "cell_type": "code",
   "execution_count": null,
   "metadata": {},
   "outputs": [],
   "source": [
    "from sklearn.model_selection import cross_val_score, StratifiedKFold\n",
    "\n",
    "# Coba berbagai nilai k\n",
    "cv_values = [3, 5, 7, 10]\n",
    "results = {}\n",
    "\n",
    "for k in cv_values:\n",
    "    cv_strategy = StratifiedKFold(n_splits = k, shuffle = True, random_state = 42)\n",
    "    scores = cross_val_score(base_model_pipe, X, y, cv = cv_strategy, scoring = 'accuracy')\n",
    "    results[k] = (np.mean(scores), np.std(scores))  # Simpan rata-rata dan standar deviasi\n",
    "\n",
    "# Cetak hasil\n",
    "for k, (mean_score, std_dev) in results.items():\n",
    "    print(f\"CV={k}: Mean Accuracy={mean_score:.4f}, Std Dev={std_dev:.4f}\")"
   ]
  },
  {
   "cell_type": "code",
   "execution_count": null,
   "metadata": {},
   "outputs": [],
   "source": [
    "import matplotlib.pyplot as plt\n",
    "\n",
    "k_values = list(results.keys())\n",
    "mean_scores = [results[k][0] for k in k_values]\n",
    "std_devs = [results[k][1] for k in k_values]\n",
    "\n",
    "plt.figure(figsize=(8,5))\n",
    "plt.errorbar(k_values, mean_scores, yerr=std_devs, fmt='o-', capsize=5, label='Mean Accuracy ± Std Dev')\n",
    "plt.xlabel('Number of CV Folds (k)')\n",
    "plt.ylabel('Accuracy')\n",
    "plt.title('Finding Optimal CV for Cross Validation')\n",
    "plt.legend()\n",
    "plt.grid()\n",
    "plt.show()\n"
   ]
  },
  {
   "cell_type": "markdown",
   "metadata": {},
   "source": [
    "### Randomsearch"
   ]
  },
  {
   "cell_type": "code",
   "execution_count": null,
   "metadata": {},
   "outputs": [],
   "source": [
    "# from sklearn.model_selection import RandomizedSearchCV\n",
    "# import matplotlib.pyplot as plt\n",
    "\n",
    "# n_iter_values = [10, 20, 50, 100]  # Uji berbagai nilai\n",
    "# scores = []\n",
    "\n",
    "# param_grid = {\n",
    "#     \"model__n_estimators\": [50, 100, 200, 500],\n",
    "#     \"model__max_depth\": [None, 10, 20, 30],\n",
    "#     \"model__min_samples_split\": [2, 5, 10, 20],\n",
    "#     \"model__min_samples_leaf\": [1, 2, 5, 10],\n",
    "#     \"model__max_features\": [\"sqrt\", \"log2\", None],\n",
    "#     \"model__bootstrap\": [True, False],\n",
    "#     \"model__class_weight\": [\"balanced\", \"balanced_subsample\", None]\n",
    "# }\n",
    "\n",
    "# for n in n_iter_values:\n",
    "#     random_search = RandomizedSearchCV(\n",
    "#         base_model_pipe, \n",
    "#         param_grid, \n",
    "#         n_iter = n, \n",
    "#         cv = 3, \n",
    "#         scoring = \"recall\", \n",
    "#         n_jobs = -1, \n",
    "#         random_state = 42\n",
    "#     )\n",
    "\n",
    "#     random_search.fit(X_train, y_train)\n",
    "#     scores.append(random_search.best_score_)\n",
    "\n",
    "# plt.plot(n_iter_values, scores, marker='o')\n",
    "# plt.xlabel(\"n_iter\")\n",
    "# plt.ylabel(\"Best CV Score\")\n",
    "# plt.title(\"Evaluasi n_iter di RandomizedSearchCV\")\n",
    "# plt.show()"
   ]
  },
  {
   "cell_type": "code",
   "execution_count": null,
   "metadata": {},
   "outputs": [],
   "source": [
    "# random_search = RandomizedSearchCV(\n",
    "#     base_model_pipe,    # Model pipeline\n",
    "#     param_distributions = param_grid,   # Gunakan param_grid yang sama\n",
    "#     n_iter = 20,    # Batasi jumlah kombinasi yang diuji (misal 20)\n",
    "#     cv = 5,     # Cross-validation 5-fold\n",
    "#     scoring = [\"precision\", \"recall\", \"f1\"], \n",
    "#     refit = \"recall\",\n",
    "#     n_jobs = -1,    # Gunakan semua core CPU\n",
    "#     verbose = 2,    # Tampilkan progress\n",
    "#     random_state = 42   # Pastikan hasil tetap reproducible\n",
    "# )\n",
    "\n",
    "# random_search.fit(X_train, y_train)\n",
    "\n",
    "# best_model = random_search.best_estimator_\n"
   ]
  },
  {
   "cell_type": "code",
   "execution_count": null,
   "metadata": {},
   "outputs": [],
   "source": [
    "# # Pilih model terbaik\n",
    "# random_results = random_search.cv_results_\n",
    "# random_results.keys()\n",
    "\n",
    "# print(\"Best parameters based on recall:\", random_search.best_params_)"
   ]
  },
  {
   "cell_type": "code",
   "execution_count": null,
   "metadata": {},
   "outputs": [],
   "source": [
    "# # Cek metrik lainnya jika menggunakan multiple scoring\n",
    "# print(\"Best model based on precision:\", np.max(random_results['mean_test_precision']))\n",
    "# print(\"Best model based on F1-score:\", np.max(random_results['mean_test_f1']))"
   ]
  },
  {
   "cell_type": "code",
   "execution_count": null,
   "metadata": {},
   "outputs": [],
   "source": [
    "# # Evaluasi Model Terbaik\n",
    "# y_pred_best = best_model.predict(X_test)\n",
    "\n",
    "# print(\"Classification Report:\\n\", classification_report(y_test, y_pred_best))"
   ]
  },
  {
   "cell_type": "code",
   "execution_count": null,
   "metadata": {},
   "outputs": [],
   "source": [
    "# # Metrik tambahan\n",
    "# accuracy = accuracy_score(y_test, y_pred_best)\n",
    "# precision = precision_score(y_test, y_pred_best)\n",
    "# recall = recall_score(y_test, y_pred_best)\n",
    "# f1 = f1_score(y_test, y_pred_best)\n",
    "# auc_score = roc_auc_score(y_test, y_pred_best)\n",
    "\n",
    "# print(f\"Accuracy: {accuracy:.4f}\")\n",
    "# print(f\"Precision: {precision:.4f}\")\n",
    "# print(f\"Recall: {recall:.4f}\")\n",
    "# print(f\"F1-Score: {f1:.4f}\")\n",
    "# print(f\"AUC-ROC Score: {auc_score:.4f}\")"
   ]
  },
  {
   "cell_type": "markdown",
   "metadata": {},
   "source": [
    "### Halvingsearch"
   ]
  },
  {
   "cell_type": "code",
   "execution_count": null,
   "metadata": {},
   "outputs": [],
   "source": [
    "from sklearn.experimental import enable_halving_search_cv\n",
    "from sklearn.model_selection import HalvingGridSearchCV\n",
    "\n",
    "param_grid = {\n",
    "    \"model__n_estimators\": [50, 100, 200, 500],\n",
    "    \"model__max_depth\": [None, 10, 20, 30],\n",
    "    \"model__min_samples_split\": [2, 5, 10, 20],\n",
    "    \"model__min_samples_leaf\": [1, 2, 5, 10],\n",
    "    \"model__max_features\": [\"sqrt\", \"log2\", None],\n",
    "    \"model__bootstrap\": [True, False],\n",
    "    \"model__class_weight\": [\"balanced\", \"balanced_subsample\", None]\n",
    "}\n",
    "\n",
    "halving_search = HalvingGridSearchCV(\n",
    "    base_model_pipe,    # Model pipeline\n",
    "    param_grid,     # Gunakan param_grid yang sama\n",
    "    factor = 3,     # Kandidat dikurangi 3x di setiap iterasi\n",
    "    cv = 3,     # Cross-validation lebih kecil untuk kecepatan\n",
    "    scoring = \"recall\",    # Single Metrik \n",
    "    refit = True, \n",
    "    n_jobs = -1,    # Gunakan semua core CPU\n",
    "    verbose = 2,    # Tampilkan progress\n",
    "    random_state = 42   # Untuk hasil yang konsisten\n",
    ")\n",
    "\n",
    "halving_search.fit(X_train, y_train)\n",
    "\n",
    "best_model = halving_search.best_estimator_\n",
    "\n",
    "# more than 1/2 hour"
   ]
  },
  {
   "cell_type": "code",
   "execution_count": null,
   "metadata": {},
   "outputs": [],
   "source": [
    "# Pilih model terbaik berdasarkan akurasi\n",
    "halving_results = halving_search.cv_results_\n",
    "halving_results.keys()\n",
    "\n",
    "print(\"Best parameters based on recall:\", halving_search.best_params_)"
   ]
  },
  {
   "cell_type": "code",
   "execution_count": null,
   "metadata": {},
   "outputs": [],
   "source": [
    "# Cek metrik lainnya jika menggunakan multiple scoring\n",
    "print(\"Best model based on precision:\", np.max(halving_results['mean_test_precision']))\n",
    "print(\"Best model based on F1-score:\", np.max(halving_results['mean_test_f1']))"
   ]
  },
  {
   "cell_type": "code",
   "execution_count": null,
   "metadata": {},
   "outputs": [],
   "source": [
    "# Evaluasi Model Terbaik\n",
    "y_pred_best = best_model.predict(X_test)\n",
    "\n",
    "print(\"Classification Report:\\n\", classification_report(y_test, y_pred_best))"
   ]
  },
  {
   "cell_type": "code",
   "execution_count": null,
   "metadata": {},
   "outputs": [],
   "source": [
    "# Metrik tambahan\n",
    "accuracy = accuracy_score(y_test, y_pred_best)\n",
    "precision = precision_score(y_test, y_pred_best)\n",
    "recall = recall_score(y_test, y_pred_best)\n",
    "f1 = f1_score(y_test, y_pred_best)\n",
    "auc_score = roc_auc_score(y_test, y_pred_best)\n",
    "\n",
    "print(f\"Accuracy: {accuracy:.4f}\")\n",
    "print(f\"Precision: {precision:.4f}\")\n",
    "print(f\"Recall: {recall:.4f}\")\n",
    "print(f\"F1-Score: {f1:.4f}\")\n",
    "print(f\"AUC-ROC Score: {auc_score:.4f}\")"
   ]
  },
  {
   "cell_type": "markdown",
   "metadata": {},
   "source": [
    "# Sample 2"
   ]
  },
  {
   "cell_type": "code",
   "execution_count": null,
   "metadata": {},
   "outputs": [],
   "source": [
    "import numpy as np\n",
    "import pandas as pd\n",
    "from sklearn.model_selection import train_test_split, StratifiedKFold, cross_val_score\n",
    "from sklearn.preprocessing import StandardScaler, OneHotEncoder, OrdinalEncoder\n",
    "from sklearn.compose import ColumnTransformer\n",
    "from sklearn.pipeline import Pipeline\n",
    "from xgboost import XGBClassifier\n",
    "from imblearn.combine import SMOTETomek\n",
    "from imblearn.under_sampling import TomekLinks\n",
    "from imblearn.over_sampling import SMOTE\n",
    "\n",
    "# Simulasi data (gantilah dengan dataset asli)\n",
    "X = pd.DataFrame(np.random.randn(226969, 10), columns=[f'feature_{i}' for i in range(10)])\n",
    "y = np.array([0] * 223386 + [1] * 3583)  # Imbalanced dataset (fraud cases sangat sedikit)\n",
    "\n",
    "# Stratified train-test split agar distribusi kelas tetap terjaga\n",
    "X_train, X_test, y_train, y_test = train_test_split(\n",
    "    X, y, test_size=0.2, random_state=42, stratify=y\n",
    ")\n",
    "\n",
    "# Transformasi\n",
    "numerical_transformer = StandardScaler()\n",
    "categorical_transformer = OneHotEncoder(handle_unknown='ignore', sparse_output=True, max_categories=50)\n",
    "ordinal_transformer = OrdinalEncoder(handle_unknown='use_encoded_value', unknown_value=-1)\n",
    "\n",
    "# Kolom kategori (gantilah sesuai dataset Anda)\n",
    "numeric_cols = [f'feature_{i}' for i in range(10)]  # Semua dianggap numerik\n",
    "one_hot_cols = []  # Tambahkan jika ada fitur kategori one-hot\n",
    "ordinal_cols = []  # Tambahkan jika ada fitur ordinal\n",
    "\n",
    "# Column Transformer\n",
    "prep_stage_2 = ColumnTransformer(\n",
    "    transformers=[\n",
    "        (\"num\", numerical_transformer, numeric_cols),\n",
    "        (\"cat\", categorical_transformer, one_hot_cols),\n",
    "        (\"ord\", ordinal_transformer, ordinal_cols)\n",
    "    ], remainder=\"passthrough\"\n",
    ")\n",
    "\n",
    "# SMOTETomek untuk menangani data imbalanced\n",
    "smote = SMOTE(sampling_strategy=0.8, random_state=42)\n",
    "tomek = TomekLinks(sampling_strategy='majority')\n",
    "sampling = SMOTETomek(smote=smote, tomek=tomek, random_state=42)\n",
    "\n",
    "# Tangani kasus ZeroDivisionError jika kelas minoritas tidak ada di y_train\n",
    "if np.sum(y_train == 1) == 0:\n",
    "    scale_pos_weight = 1\n",
    "else:\n",
    "    scale_pos_weight = np.sum(y_train == 0) / np.sum(y_train == 1)\n",
    "\n",
    "# Pipeline dengan model XGBoost\n",
    "xgb_pipe = Pipeline([\n",
    "    (\"preprocessor\", prep_stage_2),\n",
    "    (\"sampling\", sampling),\n",
    "    (\"model\", XGBClassifier(\n",
    "        scale_pos_weight=scale_pos_weight,\n",
    "        use_label_encoder=False,\n",
    "        eval_metric=\"logloss\",\n",
    "        random_state=42\n",
    "    ))\n",
    "])\n",
    "\n",
    "# K-Fold Cross Validation dengan StratifiedKFold\n",
    "k_values = [3, 5, 7, 10]\n",
    "scores = []\n",
    "\n",
    "for k in k_values:\n",
    "    cv = StratifiedKFold(n_splits=k, shuffle=True, random_state=42)\n",
    "    score = np.mean(cross_val_score(xgb_pipe, X_train, y_train, cv=cv, scoring='accuracy'))\n",
    "    scores.append((k, score))\n",
    "    print(f\"K = {k}: Mean Cross-Val Score = {score:.4f}\")\n",
    "\n",
    "# Menentukan nilai K terbaik\n",
    "best_k = sorted(scores, key=lambda x: x[1], reverse=True)[0][0]\n",
    "print(f\"Optimal K untuk Cross-Validation: {best_k}\")\n"
   ]
  },
  {
   "cell_type": "markdown",
   "metadata": {},
   "source": [
    "# Sample 3"
   ]
  },
  {
   "cell_type": "code",
   "execution_count": null,
   "metadata": {},
   "outputs": [],
   "source": [
    "from imblearn.over_sampling import SMOTE\n",
    "from imblearn.under_sampling import NearMiss\n",
    "from collections import Counter\n",
    "\n",
    "# Oversampling dengan SMOTE (hanya meningkatkan minoritas hingga 30% dari mayoritas)\n",
    "smote = SMOTE(sampling_strategy=0.3, random_state=42)\n",
    "\n",
    "# Alternatif undersampling yang lebih hati-hati dengan NearMiss\n",
    "undersample = NearMiss(version=3, n_neighbors=3)  # Mengurangi mayoritas tanpa kehilangan pola penting\n",
    "\n",
    "# Lakukan resampling hanya dengan SMOTE terlebih dahulu\n",
    "X_train_resample, y_train_resample = smote.fit_resample(X_train_tf, y_train)\n",
    "\n",
    "# (Opsional) Jika ingin menggunakan undersampling setelah SMOTE\n",
    "# X_train_resample, y_train_resample = undersample.fit_resample(X_train_resample, y_train_resample)\n",
    "\n",
    "# Print distribusi sebelum & sesudah resampling\n",
    "print(\"Before Resampling:\")\n",
    "print(y_train.value_counts(normalize=True) * 100)\n",
    "\n",
    "print(\"\\nAfter Resampling:\")\n",
    "print(y_train_resample.value_counts(normalize=True) * 100)\n",
    "\n",
    "# Cek jumlah sampel setelah resampling\n",
    "print(f\"\\nOriginal dataset shape: {Counter(y_train)}\")\n",
    "print(f\"Resampled dataset shape: {Counter(y_train_resample)}\")\n"
   ]
  },
  {
   "cell_type": "markdown",
   "metadata": {},
   "source": [
    "# Sample 4"
   ]
  },
  {
   "cell_type": "markdown",
   "metadata": {},
   "source": [
    "optuna (bayesian optimization)"
   ]
  },
  {
   "cell_type": "code",
   "execution_count": null,
   "metadata": {},
   "outputs": [],
   "source": [
    "# import optuna\n",
    "# from optuna.integration import SklearnPruningCallback\n",
    "# from sklearn.model_selection import cross_val_score\n",
    "\n",
    "# def objective(trial):\n",
    "#     params = {}\n",
    "    \n",
    "#     if final_model_name == \"Random Forest\":\n",
    "#         params = {\n",
    "#             'n_estimators': trial.suggest_int('n_estimators', 100, 500),\n",
    "#             'max_depth': trial.suggest_int('max_depth', 5, 30),\n",
    "#             'min_samples_split': trial.suggest_int('min_samples_split', 2, 10)\n",
    "#         }\n",
    "\n",
    "#     elif final_model_name == \"XGBoost\":\n",
    "#         params = {\n",
    "#             'n_estimators': trial.suggest_int('n_estimators', 100, 500),\n",
    "#             'learning_rate': trial.suggest_loguniform('learning_rate', 0.01, 0.2),\n",
    "#             'max_depth': trial.suggest_int('max_depth', 3, 10)\n",
    "#         }\n",
    "\n",
    "#     elif final_model_name == \"LightGBM\":\n",
    "#         params = {\n",
    "#             'num_leaves': trial.suggest_int('num_leaves', 31, 200),\n",
    "#             'learning_rate': trial.suggest_loguniform('learning_rate', 0.01, 0.2),\n",
    "#             'n_estimators': trial.suggest_int('n_estimators', 100, 500)\n",
    "#         }\n",
    "\n",
    "#     elif final_model_name == \"CatBoost\":\n",
    "#         params = {\n",
    "#             'iterations': trial.suggest_int('iterations', 100, 500),\n",
    "#             'learning_rate': trial.suggest_loguniform('learning_rate', 0.01, 0.2),\n",
    "#             'depth': trial.suggest_int('depth', 4, 10)\n",
    "#         }\n",
    "\n",
    "#     model = final_model.set_params(**params)\n",
    "    \n",
    "#     cv = StratifiedKFold(n_splits=3, shuffle=True, random_state=42)\n",
    "#     scores = cross_val_score(model, X_train_mod, y_train_mod, cv=cv, scoring='roc_auc')\n",
    "    \n",
    "#     return np.mean(scores)\n",
    "\n",
    "# # Optuna study\n",
    "# study = optuna.create_study(direction='maximize')\n",
    "# study.optimize(objective, n_trials=20, n_jobs=-1)\n",
    "\n",
    "# best_params = study.best_params\n",
    "# final_model = final_model.set_params(**best_params)\n",
    "\n",
    "# print(f\"\\n🔍 Hyperparameter Terbaik ({final_model_name}): {best_params}\")\n",
    "# print(f\"✅ Best ROC-AUC Score: {study.best_value:.3f}\")\n"
   ]
  },
  {
   "cell_type": "markdown",
   "metadata": {},
   "source": [
    "# Sample 5"
   ]
  },
  {
   "cell_type": "code",
   "execution_count": null,
   "metadata": {},
   "outputs": [],
   "source": [
    "# search = HalvingGridSearchCV(\n",
    "#     model, \n",
    "#     param_grid, \n",
    "#     factor=2,  # Setiap iterasi mengeliminasi setengah kandidat\n",
    "#     scoring='roc_auc',\n",
    "#     cv=5,  # Cross Validation 5-fold\n",
    "#     verbose=1,\n",
    "#     n_jobs=-1\n",
    "# )\n",
    "\n",
    "# search.fit(X_train_mod, y_train_mod)\n"
   ]
  },
  {
   "cell_type": "markdown",
   "metadata": {},
   "source": [
    "# Sample 6"
   ]
  },
  {
   "cell_type": "markdown",
   "metadata": {},
   "source": [
    "### Re-Sampling"
   ]
  },
  {
   "cell_type": "code",
   "execution_count": null,
   "metadata": {},
   "outputs": [],
   "source": [
    "# # over-sampling\n",
    "# smote = SMOTE(sampling_strategy = 0.8, \n",
    "#               k_neighbors = NearestNeighbors(n_jobs = -1), \n",
    "#               random_state = 42)\n",
    "\n",
    "# # under-sampling\n",
    "# tomek = TomekLinks(sampling_strategy = 'majority')\n",
    "\n",
    "# # resampling\n",
    "# sampling = SMOTETomek(smote = smote, \n",
    "#                       tomek = tomek, \n",
    "#                       random_state = 42)\n",
    "\n",
    "# X_train_resample, y_train_resample = sampling.fit_resample(X_train_tf, y_train)"
   ]
  },
  {
   "cell_type": "code",
   "execution_count": null,
   "metadata": {},
   "outputs": [],
   "source": [
    "# # over-sampling\n",
    "# smote = SMOTE(sampling_strategy = 0.4, \n",
    "#               k_neighbors = NearestNeighbors(n_jobs = -1), \n",
    "#               random_state = 42)\n",
    "\n",
    "# # under-sampling\n",
    "# tomek = TomekLinks(sampling_strategy = 'auto')\n",
    "\n",
    "# # resampling\n",
    "# sampling = SMOTETomek(smote = smote, \n",
    "#                       tomek = tomek, \n",
    "#                       random_state = 42)\n",
    "\n",
    "# X_train_resample, y_train_resample = sampling.fit_resample(X_train_tf, y_train)"
   ]
  }
 ],
 "metadata": {
  "kernelspec": {
   "display_name": "base",
   "language": "python",
   "name": "python3"
  },
  "language_info": {
   "codemirror_mode": {
    "name": "ipython",
    "version": 3
   },
   "file_extension": ".py",
   "mimetype": "text/x-python",
   "name": "python",
   "nbconvert_exporter": "python",
   "pygments_lexer": "ipython3",
   "version": "3.10.16"
  }
 },
 "nbformat": 4,
 "nbformat_minor": 2
}
