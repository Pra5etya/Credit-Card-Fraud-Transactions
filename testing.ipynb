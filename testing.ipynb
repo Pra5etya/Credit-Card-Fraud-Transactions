{
 "cells": [
  {
   "cell_type": "markdown",
   "metadata": {},
   "source": [
    "# Library / Packages"
   ]
  },
  {
   "cell_type": "code",
   "execution_count": 1,
   "metadata": {},
   "outputs": [],
   "source": [
    "# \n",
    "import pandas as pd\n",
    "import numpy as np\n",
    "from automate import auto_preparation, auto_statistic, auto_preprocessing\n",
    "\n",
    "# \n",
    "from dotenv import dotenv_values"
   ]
  },
  {
   "cell_type": "markdown",
   "metadata": {},
   "source": [
    "# Format"
   ]
  },
  {
   "cell_type": "code",
   "execution_count": 2,
   "metadata": {},
   "outputs": [],
   "source": [
    "def lab_round(x, pos): \n",
    "    if abs(x) >= 1e9: \n",
    "        return f'{x/1e9} B'\n",
    "    \n",
    "    elif abs(x) >= 1e6:\n",
    "        return f'{x/1e6} M'\n",
    "    \n",
    "    elif abs(x) >= 1e3:\n",
    "        return f'{x/1e3} K'\n",
    "    \n",
    "    else:\n",
    "        return f'{x}'\n",
    "    \n",
    "def val_round(x):\n",
    "    if abs(x) >= 1e9:\n",
    "        return f'{x/1e9:.2f} B'\n",
    "    \n",
    "    elif abs(x) >= 1e6:\n",
    "        return f'{x/1e6:.2f} M'\n",
    "    \n",
    "    elif abs(x) >= 1e3:\n",
    "        return f'{x/1e3:.2f} K'\n",
    "    \n",
    "    else:\n",
    "        return f'{x:.2f}'"
   ]
  },
  {
   "cell_type": "markdown",
   "metadata": {},
   "source": [
    "# Sampling Data"
   ]
  },
  {
   "cell_type": "markdown",
   "metadata": {},
   "source": [
    "Jika data berada pada dataset atau database terpisah maka lakukan merging terlebih dahulu, berikut merupakan data sintetis yang sudah melalu proses merging data"
   ]
  },
  {
   "cell_type": "code",
   "execution_count": 3,
   "metadata": {},
   "outputs": [],
   "source": [
    "pd.set_option('display.max_columns', None)"
   ]
  },
  {
   "cell_type": "code",
   "execution_count": 4,
   "metadata": {},
   "outputs": [
    {
     "data": {
      "application/vnd.microsoft.datawrangler.viewer.v0+json": {
       "columns": [
        {
         "name": "index",
         "rawType": "int64",
         "type": "integer"
        },
        {
         "name": "credit_card",
         "rawType": "int64",
         "type": "integer"
        },
        {
         "name": "datetime",
         "rawType": "datetime64[ns]",
         "type": "datetime"
        },
        {
         "name": "transaction_dollar_amount",
         "rawType": "float64",
         "type": "float"
        },
        {
         "name": "long",
         "rawType": "float64",
         "type": "float"
        },
        {
         "name": "lat",
         "rawType": "float64",
         "type": "float"
        },
        {
         "name": "city",
         "rawType": "object",
         "type": "string"
        },
        {
         "name": "state",
         "rawType": "object",
         "type": "string"
        },
        {
         "name": "zipcode",
         "rawType": "int64",
         "type": "integer"
        },
        {
         "name": "credit_card_limit",
         "rawType": "int32",
         "type": "integer"
        }
       ],
       "conversionMethod": "pd.DataFrame",
       "ref": "37637504-3d30-4e0b-b96a-ba4f89755918",
       "rows": [
        [
         "0",
         "8455019561938766",
         "2015-04-30 15:49:00",
         "92.57",
         "-120.667842",
         "34.186452",
         "New York",
         "NY",
         "10001",
         "25000"
        ],
        [
         "1",
         "4453529814454906",
         "2016-01-25 13:25:00",
         "357.51",
         "-105.251708",
         "40.56777",
         "Phoenix",
         "AZ",
         "85001",
         "5000"
        ],
        [
         "2",
         "5287414261838073",
         "2015-09-03 18:07:00",
         "215.25",
         "-104.878073",
         "31.75709",
         "Philadelphia",
         "PA",
         "19101",
         "30000"
        ],
        [
         "3",
         "7639296793055773",
         "2015-11-01 07:55:00",
         "235.24",
         "-123.682437",
         "39.548106",
         "New York",
         "NY",
         "10001",
         "20000"
        ],
        [
         "4",
         "4411469026776890",
         "2016-09-29 05:02:00",
         "417.84",
         "-73.319358",
         "46.885542",
         "Phoenix",
         "AZ",
         "85001",
         "10000"
        ]
       ],
       "shape": {
        "columns": 9,
        "rows": 5
       }
      },
      "text/html": [
       "<div>\n",
       "<style scoped>\n",
       "    .dataframe tbody tr th:only-of-type {\n",
       "        vertical-align: middle;\n",
       "    }\n",
       "\n",
       "    .dataframe tbody tr th {\n",
       "        vertical-align: top;\n",
       "    }\n",
       "\n",
       "    .dataframe thead th {\n",
       "        text-align: right;\n",
       "    }\n",
       "</style>\n",
       "<table border=\"1\" class=\"dataframe\">\n",
       "  <thead>\n",
       "    <tr style=\"text-align: right;\">\n",
       "      <th></th>\n",
       "      <th>credit_card</th>\n",
       "      <th>datetime</th>\n",
       "      <th>transaction_dollar_amount</th>\n",
       "      <th>long</th>\n",
       "      <th>lat</th>\n",
       "      <th>city</th>\n",
       "      <th>state</th>\n",
       "      <th>zipcode</th>\n",
       "      <th>credit_card_limit</th>\n",
       "    </tr>\n",
       "  </thead>\n",
       "  <tbody>\n",
       "    <tr>\n",
       "      <th>0</th>\n",
       "      <td>8455019561938766</td>\n",
       "      <td>2015-04-30 15:49:00</td>\n",
       "      <td>92.57</td>\n",
       "      <td>-120.667842</td>\n",
       "      <td>34.186452</td>\n",
       "      <td>New York</td>\n",
       "      <td>NY</td>\n",
       "      <td>10001</td>\n",
       "      <td>25000</td>\n",
       "    </tr>\n",
       "    <tr>\n",
       "      <th>1</th>\n",
       "      <td>4453529814454906</td>\n",
       "      <td>2016-01-25 13:25:00</td>\n",
       "      <td>357.51</td>\n",
       "      <td>-105.251708</td>\n",
       "      <td>40.567770</td>\n",
       "      <td>Phoenix</td>\n",
       "      <td>AZ</td>\n",
       "      <td>85001</td>\n",
       "      <td>5000</td>\n",
       "    </tr>\n",
       "    <tr>\n",
       "      <th>2</th>\n",
       "      <td>5287414261838073</td>\n",
       "      <td>2015-09-03 18:07:00</td>\n",
       "      <td>215.25</td>\n",
       "      <td>-104.878073</td>\n",
       "      <td>31.757090</td>\n",
       "      <td>Philadelphia</td>\n",
       "      <td>PA</td>\n",
       "      <td>19101</td>\n",
       "      <td>30000</td>\n",
       "    </tr>\n",
       "    <tr>\n",
       "      <th>3</th>\n",
       "      <td>7639296793055773</td>\n",
       "      <td>2015-11-01 07:55:00</td>\n",
       "      <td>235.24</td>\n",
       "      <td>-123.682437</td>\n",
       "      <td>39.548106</td>\n",
       "      <td>New York</td>\n",
       "      <td>NY</td>\n",
       "      <td>10001</td>\n",
       "      <td>20000</td>\n",
       "    </tr>\n",
       "    <tr>\n",
       "      <th>4</th>\n",
       "      <td>4411469026776890</td>\n",
       "      <td>2016-09-29 05:02:00</td>\n",
       "      <td>417.84</td>\n",
       "      <td>-73.319358</td>\n",
       "      <td>46.885542</td>\n",
       "      <td>Phoenix</td>\n",
       "      <td>AZ</td>\n",
       "      <td>85001</td>\n",
       "      <td>10000</td>\n",
       "    </tr>\n",
       "  </tbody>\n",
       "</table>\n",
       "</div>"
      ],
      "text/plain": [
       "        credit_card            datetime  transaction_dollar_amount  \\\n",
       "0  8455019561938766 2015-04-30 15:49:00                      92.57   \n",
       "1  4453529814454906 2016-01-25 13:25:00                     357.51   \n",
       "2  5287414261838073 2015-09-03 18:07:00                     215.25   \n",
       "3  7639296793055773 2015-11-01 07:55:00                     235.24   \n",
       "4  4411469026776890 2016-09-29 05:02:00                     417.84   \n",
       "\n",
       "         long        lat          city state  zipcode  credit_card_limit  \n",
       "0 -120.667842  34.186452      New York    NY    10001              25000  \n",
       "1 -105.251708  40.567770       Phoenix    AZ    85001               5000  \n",
       "2 -104.878073  31.757090  Philadelphia    PA    19101              30000  \n",
       "3 -123.682437  39.548106      New York    NY    10001              20000  \n",
       "4  -73.319358  46.885542       Phoenix    AZ    85001              10000  "
      ]
     },
     "execution_count": 4,
     "metadata": {},
     "output_type": "execute_result"
    }
   ],
   "source": [
    "# Jumlah sampel yang diinginkan\n",
    "num_samples = 100000\n",
    "\n",
    "# Definisi lokasi (kota, negara bagian, kode pos)\n",
    "locations = [\n",
    "    (\"New York\", \"NY\", 10001),\n",
    "    (\"Los Angeles\", \"CA\", 90001),\n",
    "    (\"Chicago\", \"IL\", 60601),\n",
    "    (\"Houston\", \"TX\", 77001),\n",
    "    (\"Phoenix\", \"AZ\", 85001),\n",
    "    (\"Philadelphia\", \"PA\", 19101),\n",
    "    (\"San Antonio\", \"TX\", 78201),\n",
    "    (\"San Diego\", \"CA\", 92101),\n",
    "    (\"Dallas\", \"TX\", 75201),\n",
    "    (\"San Jose\", \"CA\", 95101)\n",
    "]\n",
    "\n",
    "# Generate data sintetis\n",
    "df_synthetic = pd.DataFrame({\n",
    "    \"credit_card\": np.random.randint(10**15, 10**16, num_samples, dtype=np.int64),\n",
    "    \"datetime\": np.random.choice(pd.date_range(\"2015-01-01\", \"2016-12-31\", freq=\"min\"), num_samples),\n",
    "    \"transaction_dollar_amount\": np.round(np.random.uniform(5, 500, num_samples), 2),\n",
    "    \"long\": np.round(np.random.uniform(-125, -65, num_samples), 6),\n",
    "    \"lat\": np.round(np.random.uniform(25, 50, num_samples), 6),\n",
    "})\n",
    "\n",
    "# Pilih lokasi secara acak\n",
    "selected_indices = np.random.randint(0, len(locations), num_samples)\n",
    "df_synthetic[\"city\"] = [locations[i][0] for i in selected_indices]\n",
    "df_synthetic[\"state\"] = [locations[i][1] for i in selected_indices]\n",
    "df_synthetic[\"zipcode\"] = [locations[i][2] for i in selected_indices]\n",
    "\n",
    "# Generate limit kartu kredit\n",
    "df_synthetic[\"credit_card_limit\"] = np.random.choice([5000, 10000, 15000, 20000, 25000, 30000], num_samples)\n",
    "\n",
    "# Tampilkan hasil\n",
    "df_synthetic.head()"
   ]
  },
  {
   "cell_type": "markdown",
   "metadata": {},
   "source": [
    "# Data Preparation"
   ]
  },
  {
   "cell_type": "code",
   "execution_count": 5,
   "metadata": {},
   "outputs": [
    {
     "name": "stdout",
     "output_type": "stream",
     "text": [
      "Missing values before processing:\n",
      "credit_card                  0\n",
      "datetime                     0\n",
      "transaction_dollar_amount    0\n",
      "long                         0\n",
      "lat                          0\n",
      "city                         0\n",
      "state                        0\n",
      "zipcode                      0\n",
      "credit_card_limit            0\n",
      "dtype: int64\n",
      "================================================== \n",
      "\n",
      "Total duplicate data before processing: 0\n",
      "Total duplicate transactions: 0\n",
      "================================================== \n",
      "\n",
      "Fraud cases percentage:\n",
      "fraud\n",
      "not_fraud    95.0\n",
      "fraud         5.0\n",
      "Name: proportion, dtype: float64\n",
      "================================================== \n",
      "\n",
      "Fraud cases count:\n",
      "fraud\n",
      "not_fraud    95000\n",
      "fraud         5000\n",
      "Name: count, dtype: int64\n"
     ]
    }
   ],
   "source": [
    "# Terapkan proses data\n",
    "df_prepare = auto_preparation.preprocess_credit_card_data(df_synthetic)"
   ]
  },
  {
   "cell_type": "code",
   "execution_count": 6,
   "metadata": {},
   "outputs": [
    {
     "data": {
      "application/vnd.microsoft.datawrangler.viewer.v0+json": {
       "columns": [
        {
         "name": "index",
         "rawType": "int64",
         "type": "integer"
        },
        {
         "name": "credit_card",
         "rawType": "int64",
         "type": "integer"
        },
        {
         "name": "datetime",
         "rawType": "datetime64[ns]",
         "type": "datetime"
        },
        {
         "name": "transaction_dollar_amount",
         "rawType": "float64",
         "type": "float"
        },
        {
         "name": "long",
         "rawType": "float64",
         "type": "float"
        },
        {
         "name": "lat",
         "rawType": "float64",
         "type": "float"
        },
        {
         "name": "city",
         "rawType": "object",
         "type": "string"
        },
        {
         "name": "state",
         "rawType": "object",
         "type": "string"
        },
        {
         "name": "zipcode",
         "rawType": "int64",
         "type": "integer"
        },
        {
         "name": "credit_card_limit",
         "rawType": "int32",
         "type": "integer"
        },
        {
         "name": "date",
         "rawType": "object",
         "type": "string"
        },
        {
         "name": "year",
         "rawType": "int32",
         "type": "integer"
        },
        {
         "name": "month",
         "rawType": "object",
         "type": "string"
        },
        {
         "name": "quarter",
         "rawType": "object",
         "type": "string"
        },
        {
         "name": "day",
         "rawType": "object",
         "type": "string"
        },
        {
         "name": "time",
         "rawType": "object",
         "type": "string"
        },
        {
         "name": "week_cat",
         "rawType": "object",
         "type": "string"
        },
        {
         "name": "season",
         "rawType": "object",
         "type": "string"
        },
        {
         "name": "limit_cat",
         "rawType": "object",
         "type": "string"
        },
        {
         "name": "transaction_count",
         "rawType": "float64",
         "type": "float"
        },
        {
         "name": "prev_time",
         "rawType": "datetime64[ns]",
         "type": "datetime"
        },
        {
         "name": "time_diff_hour",
         "rawType": "float64",
         "type": "float"
        },
        {
         "name": "prev_long",
         "rawType": "float64",
         "type": "float"
        },
        {
         "name": "prev_lat",
         "rawType": "float64",
         "type": "float"
        },
        {
         "name": "distance_km",
         "rawType": "float64",
         "type": "float"
        },
        {
         "name": "geo_cat",
         "rawType": "object",
         "type": "string"
        },
        {
         "name": "speed_km/h",
         "rawType": "float64",
         "type": "float"
        },
        {
         "name": "fraud",
         "rawType": "object",
         "type": "string"
        }
       ],
       "conversionMethod": "pd.DataFrame",
       "ref": "2778af0b-51f3-4840-9210-3ee7919b5e9d",
       "rows": [
        [
         "0",
         "8455019561938766",
         "2015-04-30 15:49:00",
         "92.57",
         "-120.667842",
         "34.186452",
         "new york",
         "ny",
         "10001",
         "25000",
         "2015-04-30",
         "2015",
         "april",
         "2015Q2",
         "thursday",
         "15:49:00",
         "weekday",
         "spring",
         "medium",
         "1.0",
         "2015-04-30 15:49:00",
         "0.0",
         "0.0",
         "0.0",
         "12793.3746907138",
         "anomaly",
         "0.0",
         "not_fraud"
        ],
        [
         "1",
         "4453529814454906",
         "2016-01-25 13:25:00",
         "357.51",
         "-105.251708",
         "40.56777",
         "phoenix",
         "az",
         "85001",
         "5000",
         "2016-01-25",
         "2016",
         "january",
         "2016Q1",
         "monday",
         "13:25:00",
         "weekday",
         "winter",
         "very_low",
         "1.0",
         "2016-01-25 13:25:00",
         "0.0",
         "0.0",
         "0.0",
         "11296.381426480577",
         "anomaly",
         "0.0",
         "not_fraud"
        ],
        [
         "2",
         "5287414261838073",
         "2015-09-03 18:07:00",
         "215.25",
         "-104.878073",
         "31.75709",
         "philadelphia",
         "pa",
         "19101",
         "30000",
         "2015-09-03",
         "2015",
         "september",
         "2015Q3",
         "thursday",
         "18:07:00",
         "weekday",
         "fall",
         "high",
         "1.0",
         "2015-09-03 18:07:00",
         "0.0",
         "0.0",
         "0.0",
         "11418.985651848721",
         "anomaly",
         "0.0",
         "not_fraud"
        ],
        [
         "3",
         "7639296793055773",
         "2015-11-01 07:55:00",
         "235.24",
         "-123.682437",
         "39.548106",
         "new york",
         "ny",
         "10001",
         "20000",
         "2015-11-01",
         "2015",
         "november",
         "2015Q4",
         "sunday",
         "07:55:00",
         "weekend",
         "fall",
         "medium",
         "1.0",
         "2015-11-01 07:55:00",
         "0.0",
         "0.0",
         "0.0",
         "12832.606648505978",
         "anomaly",
         "0.0",
         "not_fraud"
        ],
        [
         "4",
         "4411469026776890",
         "2016-09-29 05:02:00",
         "417.84",
         "-73.319358",
         "46.885542",
         "phoenix",
         "az",
         "85001",
         "10000",
         "2016-09-29",
         "2016",
         "september",
         "2016Q3",
         "thursday",
         "05:02:00",
         "weekday",
         "fall",
         "low",
         "1.0",
         "2016-09-29 05:02:00",
         "0.0",
         "0.0",
         "0.0",
         "8747.811121106275",
         "anomaly",
         "0.0",
         "not_fraud"
        ]
       ],
       "shape": {
        "columns": 27,
        "rows": 5
       }
      },
      "text/html": [
       "<div>\n",
       "<style scoped>\n",
       "    .dataframe tbody tr th:only-of-type {\n",
       "        vertical-align: middle;\n",
       "    }\n",
       "\n",
       "    .dataframe tbody tr th {\n",
       "        vertical-align: top;\n",
       "    }\n",
       "\n",
       "    .dataframe thead th {\n",
       "        text-align: right;\n",
       "    }\n",
       "</style>\n",
       "<table border=\"1\" class=\"dataframe\">\n",
       "  <thead>\n",
       "    <tr style=\"text-align: right;\">\n",
       "      <th></th>\n",
       "      <th>credit_card</th>\n",
       "      <th>datetime</th>\n",
       "      <th>transaction_dollar_amount</th>\n",
       "      <th>long</th>\n",
       "      <th>lat</th>\n",
       "      <th>city</th>\n",
       "      <th>state</th>\n",
       "      <th>zipcode</th>\n",
       "      <th>credit_card_limit</th>\n",
       "      <th>date</th>\n",
       "      <th>year</th>\n",
       "      <th>month</th>\n",
       "      <th>quarter</th>\n",
       "      <th>day</th>\n",
       "      <th>time</th>\n",
       "      <th>week_cat</th>\n",
       "      <th>season</th>\n",
       "      <th>limit_cat</th>\n",
       "      <th>transaction_count</th>\n",
       "      <th>prev_time</th>\n",
       "      <th>time_diff_hour</th>\n",
       "      <th>prev_long</th>\n",
       "      <th>prev_lat</th>\n",
       "      <th>distance_km</th>\n",
       "      <th>geo_cat</th>\n",
       "      <th>speed_km/h</th>\n",
       "      <th>fraud</th>\n",
       "    </tr>\n",
       "  </thead>\n",
       "  <tbody>\n",
       "    <tr>\n",
       "      <th>0</th>\n",
       "      <td>8455019561938766</td>\n",
       "      <td>2015-04-30 15:49:00</td>\n",
       "      <td>92.57</td>\n",
       "      <td>-120.667842</td>\n",
       "      <td>34.186452</td>\n",
       "      <td>new york</td>\n",
       "      <td>ny</td>\n",
       "      <td>10001</td>\n",
       "      <td>25000</td>\n",
       "      <td>2015-04-30</td>\n",
       "      <td>2015</td>\n",
       "      <td>april</td>\n",
       "      <td>2015Q2</td>\n",
       "      <td>thursday</td>\n",
       "      <td>15:49:00</td>\n",
       "      <td>weekday</td>\n",
       "      <td>spring</td>\n",
       "      <td>medium</td>\n",
       "      <td>1.0</td>\n",
       "      <td>2015-04-30 15:49:00</td>\n",
       "      <td>0.0</td>\n",
       "      <td>0.0</td>\n",
       "      <td>0.0</td>\n",
       "      <td>12793.374691</td>\n",
       "      <td>anomaly</td>\n",
       "      <td>0.0</td>\n",
       "      <td>not_fraud</td>\n",
       "    </tr>\n",
       "    <tr>\n",
       "      <th>1</th>\n",
       "      <td>4453529814454906</td>\n",
       "      <td>2016-01-25 13:25:00</td>\n",
       "      <td>357.51</td>\n",
       "      <td>-105.251708</td>\n",
       "      <td>40.567770</td>\n",
       "      <td>phoenix</td>\n",
       "      <td>az</td>\n",
       "      <td>85001</td>\n",
       "      <td>5000</td>\n",
       "      <td>2016-01-25</td>\n",
       "      <td>2016</td>\n",
       "      <td>january</td>\n",
       "      <td>2016Q1</td>\n",
       "      <td>monday</td>\n",
       "      <td>13:25:00</td>\n",
       "      <td>weekday</td>\n",
       "      <td>winter</td>\n",
       "      <td>very_low</td>\n",
       "      <td>1.0</td>\n",
       "      <td>2016-01-25 13:25:00</td>\n",
       "      <td>0.0</td>\n",
       "      <td>0.0</td>\n",
       "      <td>0.0</td>\n",
       "      <td>11296.381426</td>\n",
       "      <td>anomaly</td>\n",
       "      <td>0.0</td>\n",
       "      <td>not_fraud</td>\n",
       "    </tr>\n",
       "    <tr>\n",
       "      <th>2</th>\n",
       "      <td>5287414261838073</td>\n",
       "      <td>2015-09-03 18:07:00</td>\n",
       "      <td>215.25</td>\n",
       "      <td>-104.878073</td>\n",
       "      <td>31.757090</td>\n",
       "      <td>philadelphia</td>\n",
       "      <td>pa</td>\n",
       "      <td>19101</td>\n",
       "      <td>30000</td>\n",
       "      <td>2015-09-03</td>\n",
       "      <td>2015</td>\n",
       "      <td>september</td>\n",
       "      <td>2015Q3</td>\n",
       "      <td>thursday</td>\n",
       "      <td>18:07:00</td>\n",
       "      <td>weekday</td>\n",
       "      <td>fall</td>\n",
       "      <td>high</td>\n",
       "      <td>1.0</td>\n",
       "      <td>2015-09-03 18:07:00</td>\n",
       "      <td>0.0</td>\n",
       "      <td>0.0</td>\n",
       "      <td>0.0</td>\n",
       "      <td>11418.985652</td>\n",
       "      <td>anomaly</td>\n",
       "      <td>0.0</td>\n",
       "      <td>not_fraud</td>\n",
       "    </tr>\n",
       "    <tr>\n",
       "      <th>3</th>\n",
       "      <td>7639296793055773</td>\n",
       "      <td>2015-11-01 07:55:00</td>\n",
       "      <td>235.24</td>\n",
       "      <td>-123.682437</td>\n",
       "      <td>39.548106</td>\n",
       "      <td>new york</td>\n",
       "      <td>ny</td>\n",
       "      <td>10001</td>\n",
       "      <td>20000</td>\n",
       "      <td>2015-11-01</td>\n",
       "      <td>2015</td>\n",
       "      <td>november</td>\n",
       "      <td>2015Q4</td>\n",
       "      <td>sunday</td>\n",
       "      <td>07:55:00</td>\n",
       "      <td>weekend</td>\n",
       "      <td>fall</td>\n",
       "      <td>medium</td>\n",
       "      <td>1.0</td>\n",
       "      <td>2015-11-01 07:55:00</td>\n",
       "      <td>0.0</td>\n",
       "      <td>0.0</td>\n",
       "      <td>0.0</td>\n",
       "      <td>12832.606649</td>\n",
       "      <td>anomaly</td>\n",
       "      <td>0.0</td>\n",
       "      <td>not_fraud</td>\n",
       "    </tr>\n",
       "    <tr>\n",
       "      <th>4</th>\n",
       "      <td>4411469026776890</td>\n",
       "      <td>2016-09-29 05:02:00</td>\n",
       "      <td>417.84</td>\n",
       "      <td>-73.319358</td>\n",
       "      <td>46.885542</td>\n",
       "      <td>phoenix</td>\n",
       "      <td>az</td>\n",
       "      <td>85001</td>\n",
       "      <td>10000</td>\n",
       "      <td>2016-09-29</td>\n",
       "      <td>2016</td>\n",
       "      <td>september</td>\n",
       "      <td>2016Q3</td>\n",
       "      <td>thursday</td>\n",
       "      <td>05:02:00</td>\n",
       "      <td>weekday</td>\n",
       "      <td>fall</td>\n",
       "      <td>low</td>\n",
       "      <td>1.0</td>\n",
       "      <td>2016-09-29 05:02:00</td>\n",
       "      <td>0.0</td>\n",
       "      <td>0.0</td>\n",
       "      <td>0.0</td>\n",
       "      <td>8747.811121</td>\n",
       "      <td>anomaly</td>\n",
       "      <td>0.0</td>\n",
       "      <td>not_fraud</td>\n",
       "    </tr>\n",
       "  </tbody>\n",
       "</table>\n",
       "</div>"
      ],
      "text/plain": [
       "        credit_card            datetime  transaction_dollar_amount  \\\n",
       "0  8455019561938766 2015-04-30 15:49:00                      92.57   \n",
       "1  4453529814454906 2016-01-25 13:25:00                     357.51   \n",
       "2  5287414261838073 2015-09-03 18:07:00                     215.25   \n",
       "3  7639296793055773 2015-11-01 07:55:00                     235.24   \n",
       "4  4411469026776890 2016-09-29 05:02:00                     417.84   \n",
       "\n",
       "         long        lat          city state  zipcode  credit_card_limit  \\\n",
       "0 -120.667842  34.186452      new york    ny    10001              25000   \n",
       "1 -105.251708  40.567770       phoenix    az    85001               5000   \n",
       "2 -104.878073  31.757090  philadelphia    pa    19101              30000   \n",
       "3 -123.682437  39.548106      new york    ny    10001              20000   \n",
       "4  -73.319358  46.885542       phoenix    az    85001              10000   \n",
       "\n",
       "         date  year      month quarter       day      time week_cat  season  \\\n",
       "0  2015-04-30  2015      april  2015Q2  thursday  15:49:00  weekday  spring   \n",
       "1  2016-01-25  2016    january  2016Q1    monday  13:25:00  weekday  winter   \n",
       "2  2015-09-03  2015  september  2015Q3  thursday  18:07:00  weekday    fall   \n",
       "3  2015-11-01  2015   november  2015Q4    sunday  07:55:00  weekend    fall   \n",
       "4  2016-09-29  2016  september  2016Q3  thursday  05:02:00  weekday    fall   \n",
       "\n",
       "  limit_cat  transaction_count           prev_time  time_diff_hour  prev_long  \\\n",
       "0    medium                1.0 2015-04-30 15:49:00             0.0        0.0   \n",
       "1  very_low                1.0 2016-01-25 13:25:00             0.0        0.0   \n",
       "2      high                1.0 2015-09-03 18:07:00             0.0        0.0   \n",
       "3    medium                1.0 2015-11-01 07:55:00             0.0        0.0   \n",
       "4       low                1.0 2016-09-29 05:02:00             0.0        0.0   \n",
       "\n",
       "   prev_lat   distance_km  geo_cat  speed_km/h      fraud  \n",
       "0       0.0  12793.374691  anomaly         0.0  not_fraud  \n",
       "1       0.0  11296.381426  anomaly         0.0  not_fraud  \n",
       "2       0.0  11418.985652  anomaly         0.0  not_fraud  \n",
       "3       0.0  12832.606649  anomaly         0.0  not_fraud  \n",
       "4       0.0   8747.811121  anomaly         0.0  not_fraud  "
      ]
     },
     "execution_count": 6,
     "metadata": {},
     "output_type": "execute_result"
    }
   ],
   "source": [
    "df_prepare.head()"
   ]
  },
  {
   "cell_type": "markdown",
   "metadata": {},
   "source": [
    "# Data Statistics"
   ]
  },
  {
   "cell_type": "code",
   "execution_count": 7,
   "metadata": {},
   "outputs": [
    {
     "name": "stdout",
     "output_type": "stream",
     "text": [
      "===== Uji Normalitas Data =====\n",
      "\n",
      "Kolom dengan distribusi normal: []\n",
      "Kolom dengan distribusi tidak normal: ['transaction_dollar_amount', 'credit_card_limit', 'transaction_count', 'time_diff_hour', 'prev_long', 'prev_lat', 'distance_km', 'speed_km/h']\n",
      "-------------------------------------------------- \n",
      "\n",
      "===== Uji Homogenitas Varians =====\n",
      "Column transaction_dollar_amount: \tVarians antar kelompok homogen\n",
      "Column credit_card_limit: \tVarians antar kelompok homogen\n",
      "Column transaction_count: \tVarians antar kelompok homogen\n",
      "Column time_diff_hour: \tVarians antar kelompok homogen\n",
      "Column prev_long: \tVarians antar kelompok homogen\n",
      "Column prev_lat: \tVarians antar kelompok homogen\n",
      "Column distance_km: \tVarians antar kelompok homogen\n",
      "Column speed_km/h: \tVarians antar kelompok homogen\n",
      "-------------------------------------------------- \n",
      "\n",
      "===== Uji Perbandingan Rata-rata =====\n",
      "Column transaction_dollar_amount: \tTidak ada perbedaan signifikan\n",
      "Column credit_card_limit: \tTidak ada perbedaan signifikan\n",
      "Column transaction_count: \tTidak ada perbedaan signifikan\n",
      "Column time_diff_hour: \tTidak ada perbedaan signifikan\n",
      "Column prev_long: \tTidak ada perbedaan signifikan\n",
      "Column prev_lat: \tTidak ada perbedaan signifikan\n",
      "Column distance_km: \tTidak ada perbedaan signifikan\n",
      "Column speed_km/h: \tTidak ada perbedaan signifikan\n",
      "-------------------------------------------------- \n",
      "\n"
     ]
    }
   ],
   "source": [
    "# Terapkan proses data\n",
    "df_stats = auto_statistic.analyze_numeric_features(df_prepare)"
   ]
  },
  {
   "cell_type": "markdown",
   "metadata": {},
   "source": [
    "# Data Preprocessing"
   ]
  },
  {
   "cell_type": "code",
   "execution_count": 8,
   "metadata": {},
   "outputs": [
    {
     "name": "stdout",
     "output_type": "stream",
     "text": [
      "<class 'pandas.core.frame.DataFrame'>\n",
      "RangeIndex: 100000 entries, 0 to 99999\n",
      "Data columns (total 27 columns):\n",
      " #   Column                     Non-Null Count   Dtype         \n",
      "---  ------                     --------------   -----         \n",
      " 0   credit_card                100000 non-null  int64         \n",
      " 1   datetime                   100000 non-null  datetime64[ns]\n",
      " 2   transaction_dollar_amount  100000 non-null  float64       \n",
      " 3   long                       100000 non-null  float64       \n",
      " 4   lat                        100000 non-null  float64       \n",
      " 5   city                       100000 non-null  object        \n",
      " 6   state                      100000 non-null  object        \n",
      " 7   zipcode                    100000 non-null  int64         \n",
      " 8   credit_card_limit          100000 non-null  int32         \n",
      " 9   date                       100000 non-null  object        \n",
      " 10  year                       100000 non-null  int32         \n",
      " 11  month                      100000 non-null  object        \n",
      " 12  quarter                    100000 non-null  object        \n",
      " 13  day                        100000 non-null  object        \n",
      " 14  time                       100000 non-null  object        \n",
      " 15  week_cat                   100000 non-null  object        \n",
      " 16  season                     100000 non-null  object        \n",
      " 17  limit_cat                  100000 non-null  object        \n",
      " 18  transaction_count          100000 non-null  float64       \n",
      " 19  prev_time                  100000 non-null  datetime64[ns]\n",
      " 20  time_diff_hour             100000 non-null  float64       \n",
      " 21  prev_long                  100000 non-null  float64       \n",
      " 22  prev_lat                   100000 non-null  float64       \n",
      " 23  distance_km                100000 non-null  float64       \n",
      " 24  geo_cat                    100000 non-null  object        \n",
      " 25  speed_km/h                 100000 non-null  float64       \n",
      " 26  fraud                      100000 non-null  object        \n",
      "dtypes: datetime64[ns](2), float64(9), int32(2), int64(2), object(12)\n",
      "memory usage: 19.8+ MB\n"
     ]
    }
   ],
   "source": [
    "df_prepare.info()"
   ]
  },
  {
   "cell_type": "code",
   "execution_count": 9,
   "metadata": {},
   "outputs": [
    {
     "name": "stdout",
     "output_type": "stream",
     "text": [
      "<class 'pandas.core.frame.DataFrame'>\n",
      "RangeIndex: 100000 entries, 0 to 99999\n",
      "Data columns (total 13 columns):\n",
      " #   Column                     Non-Null Count   Dtype  \n",
      "---  ------                     --------------   -----  \n",
      " 0   credit_card                100000 non-null  int64  \n",
      " 1   transaction_dollar_amount  100000 non-null  float64\n",
      " 2   long                       100000 non-null  float64\n",
      " 3   lat                        100000 non-null  float64\n",
      " 4   zipcode                    100000 non-null  int64  \n",
      " 5   credit_card_limit          100000 non-null  int32  \n",
      " 6   year                       100000 non-null  int32  \n",
      " 7   transaction_count          100000 non-null  float64\n",
      " 8   time_diff_hour             100000 non-null  float64\n",
      " 9   prev_long                  100000 non-null  float64\n",
      " 10  prev_lat                   100000 non-null  float64\n",
      " 11  distance_km                100000 non-null  float64\n",
      " 12  speed_km/h                 100000 non-null  float64\n",
      "dtypes: float64(9), int32(2), int64(2)\n",
      "memory usage: 9.2 MB\n"
     ]
    }
   ],
   "source": [
    "# checiking numeric columns\n",
    "sample = df_prepare.select_dtypes(include = ['number'])\n",
    "sample.info()"
   ]
  },
  {
   "cell_type": "code",
   "execution_count": 10,
   "metadata": {},
   "outputs": [
    {
     "name": "stdout",
     "output_type": "stream",
     "text": [
      "Index(['transaction_dollar_amount', 'credit_card_limit', 'time_diff_hour',\n",
      "       'distance_km', 'speed_km/h'],\n",
      "      dtype='object')\n",
      "Valid columns after variance filtering: ['transaction_dollar_amount', 'credit_card_limit', 'distance_km']\n",
      "Skewness before transformation:\n",
      " transaction_dollar_amount    0.005602\n",
      "credit_card_limit            0.000857\n",
      "distance_km                  0.006341\n",
      "dtype: float64 \n",
      "\n",
      "Kurtosis before transformation:\n",
      " transaction_dollar_amount   -1.195620\n",
      "credit_card_limit           -1.270717\n",
      "distance_km                 -1.139475\n",
      "dtype: float64 \n",
      "\n",
      "No columns need transformation.\n"
     ]
    },
    {
     "data": {
      "text/plain": [
       "<Figure size 1500x1000 with 0 Axes>"
      ]
     },
     "metadata": {},
     "output_type": "display_data"
    },
    {
     "data": {
      "image/png": "[encoded data removed]",
      "text/plain": [
       "<Figure size 1500x1000 with 32 Axes>"
      ]
     },
     "metadata": {},
     "output_type": "display_data"
    }
   ],
   "source": [
    "df_process = auto_preprocessing.preprocess_data(df_prepare)"
   ]
  },
  {
   "cell_type": "code",
   "execution_count": 11,
   "metadata": {},
   "outputs": [
    {
     "data": {
      "text/plain": [
       "Index(['credit_card', 'datetime', 'transaction_dollar_amount', 'long', 'lat',\n",
       "       'city', 'state', 'zipcode', 'credit_card_limit', 'date', 'year',\n",
       "       'month', 'quarter', 'day', 'time', 'week_cat', 'season', 'limit_cat',\n",
       "       'transaction_count', 'prev_time', 'time_diff_hour', 'distance_km',\n",
       "       'geo_cat', 'speed_km/h', 'fraud', 'zscore_transaction_dollar_amount',\n",
       "       'zscore_credit_card_limit', 'zscore_distance_km'],\n",
       "      dtype='object')"
      ]
     },
     "execution_count": 11,
     "metadata": {},
     "output_type": "execute_result"
    }
   ],
   "source": [
    "df_process.columns"
   ]
  },
  {
   "cell_type": "code",
   "execution_count": null,
   "metadata": {},
   "outputs": [],
   "source": []
  }
 ],
 "metadata": {
  "kernelspec": {
   "display_name": "base",
   "language": "python",
   "name": "python3"
  },
  "language_info": {
   "codemirror_mode": {
    "name": "ipython",
    "version": 3
   },
   "file_extension": ".py",
   "mimetype": "text/x-python",
   "name": "python",
   "nbconvert_exporter": "python",
   "pygments_lexer": "ipython3",
   "version": "3.10.16"
  }
 },
 "nbformat": 4,
 "nbformat_minor": 2
}
