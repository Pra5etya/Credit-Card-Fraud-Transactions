{
 "cells": [
  {
   "cell_type": "markdown",
   "metadata": {},
   "source": [
    "# Library / Packages"
   ]
  },
  {
   "cell_type": "code",
   "execution_count": 1,
   "metadata": {},
   "outputs": [],
   "source": [
    "# basic library\n",
    "import os\n",
    "import pandas as pd\n",
    "import numpy as np\n",
    "import sys\n",
    "\n",
    "\n",
    "# complex math\n",
    "from scipy import stats\n",
    "from scipy.stats import gaussian_kde\n",
    "\n",
    "# data preparation\n",
    "from sklearn.preprocessing import OrdinalEncoder, OneHotEncoder, LabelEncoder, FunctionTransformer\n",
    "from sklearn.preprocessing import StandardScaler, RobustScaler\n",
    "from sklearn.compose import ColumnTransformer \n",
    "\n",
    "# data blueprint\n",
    "from imblearn.pipeline import Pipeline\n",
    "from imblearn.over_sampling import SMOTE\n",
    "from imblearn.under_sampling import TomekLinks, RandomUnderSampler, NearMiss\n",
    "from imblearn.combine import SMOTETomek\n",
    "from sklearn.neighbors import NearestNeighbors\n",
    "\n",
    "# data modeling\n",
    "from sklearn.tree import DecisionTreeClassifier\n",
    "from sklearn.linear_model import LogisticRegression\n",
    "from sklearn.ensemble import RandomForestClassifier\n",
    "from xgboost import XGBClassifier\n",
    "from lightgbm import LGBMClassifier\n",
    "from catboost import CatBoostClassifier\n",
    "from sklearn.ensemble import VotingClassifier\n",
    "\n",
    "# data cross-validation\n",
    "from sklearn.model_selection import cross_val_score, StratifiedKFold\n",
    "\n",
    "# data metrics\n",
    "from sklearn.metrics import classification_report, roc_auc_score, precision_recall_curve, roc_curve, auc, confusion_matrix\n",
    "\n",
    "# data tuning   \n",
    "from itertools import product\n",
    "from sklearn.experimental import enable_halving_search_cv\n",
    "from sklearn.model_selection import HalvingRandomSearchCV\n",
    "from sklearn.calibration import CalibratedClassifierCV\n",
    "\n",
    "# visualization\n",
    "import matplotlib.pyplot as plt\n",
    "import matplotlib.ticker as ticker\n",
    "import seaborn as sns\n",
    "\n",
    "# pickle and .env\n",
    "from dotenv import dotenv_values\n",
    "import pickle"
   ]
  },
  {
   "cell_type": "markdown",
   "metadata": {},
   "source": [
    "# Format"
   ]
  },
  {
   "cell_type": "code",
   "execution_count": 2,
   "metadata": {},
   "outputs": [],
   "source": [
    "def lab_round(x, pos): \n",
    "    if abs(x) >= 1e9: \n",
    "        return f'{x/1e9} B'\n",
    "    \n",
    "    elif abs(x) >= 1e6:\n",
    "        return f'{x/1e6} M'\n",
    "    \n",
    "    elif abs(x) >= 1e3:\n",
    "        return f'{x/1e3} K'\n",
    "    \n",
    "    else:\n",
    "        return f'{x}'\n",
    "    \n",
    "def val_round(x):\n",
    "    if abs(x) >= 1e9:\n",
    "        return f'{x/1e9:.2f} B'\n",
    "    \n",
    "    elif abs(x) >= 1e6:\n",
    "        return f'{x/1e6:.2f} M'\n",
    "    \n",
    "    elif abs(x) >= 1e3:\n",
    "        return f'{x/1e3:.2f} K'\n",
    "    \n",
    "    else:\n",
    "        return f'{x:.2f}'"
   ]
  },
  {
   "cell_type": "code",
   "execution_count": 3,
   "metadata": {},
   "outputs": [],
   "source": [
    "pd.set_option('display.max_columns', None)"
   ]
  },
  {
   "cell_type": "code",
   "execution_count": 4,
   "metadata": {},
   "outputs": [],
   "source": [
    "# Fungsi untuk konversi tipe data\n",
    "def convert_object_columns_to_numeric(df):\n",
    "    for col in df.select_dtypes(include = ['object']).columns:  \n",
    "        try:\n",
    "            # Cek apakah semua nilai bisa dikonversi ke float\n",
    "            df[col] = pd.to_numeric(df[col], errors='raise')\n",
    "            \n",
    "            # Jika bisa, ubah ke int jika semua nilai adalah bilangan bulat\n",
    "            if all(df[col] % 1 == 0):  # Cek apakah semua nilai adalah bilangan bulat\n",
    "                df[col] = df[col].astype(int)\n",
    "\n",
    "        except ValueError:\n",
    "            pass  # Jika ada nilai non-angka, biarkan tetap object\n",
    "        \n",
    "    return df"
   ]
  },
  {
   "cell_type": "markdown",
   "metadata": {},
   "source": [
    "# Data Source"
   ]
  },
  {
   "cell_type": "code",
   "execution_count": 5,
   "metadata": {},
   "outputs": [
    {
     "name": "stdout",
     "output_type": "stream",
     "text": [
      "<class 'pandas.core.frame.DataFrame'>\n",
      "RangeIndex: 294588 entries, 0 to 294587\n",
      "Data columns (total 25 columns):\n",
      " #   Column                     Non-Null Count   Dtype         \n",
      "---  ------                     --------------   -----         \n",
      " 0   credit_card                294588 non-null  int64         \n",
      " 1   datetime                   294588 non-null  datetime64[ns]\n",
      " 2   long                       294588 non-null  float64       \n",
      " 3   lat                        294588 non-null  float64       \n",
      " 4   zipcode                    294588 non-null  int64         \n",
      " 5   state                      294588 non-null  object        \n",
      " 6   city                       294588 non-null  object        \n",
      " 7   date                       294588 non-null  object        \n",
      " 8   year                       294588 non-null  int32         \n",
      " 9   quarter                    294588 non-null  object        \n",
      " 10  month                      294588 non-null  object        \n",
      " 11  season                     294588 non-null  object        \n",
      " 12  week_cat                   294588 non-null  object        \n",
      " 13  day                        294588 non-null  object        \n",
      " 14  time                       294588 non-null  object        \n",
      " 15  limit_cat                  294588 non-null  object        \n",
      " 16  prev_time                  294588 non-null  datetime64[ns]\n",
      " 17  geo_cat                    294588 non-null  object        \n",
      " 18  fraud                      294588 non-null  object        \n",
      " 19  time_diff_hour             294588 non-null  float64       \n",
      " 20  transaction_dollar_amount  294588 non-null  float64       \n",
      " 21  speed_km/h                 294588 non-null  float64       \n",
      " 22  distance_km                294588 non-null  float64       \n",
      " 23  cc_id                      294588 non-null  object        \n",
      " 24  trx_id                     294588 non-null  object        \n",
      "dtypes: datetime64[ns](2), float64(6), int32(1), int64(2), object(14)\n",
      "memory usage: 55.1+ MB\n"
     ]
    }
   ],
   "source": [
    "# parameter\n",
    "share = {**dotenv_values('../.env.shared')} \n",
    "\n",
    "# read pickle\n",
    "with open(share['MODEL_DATA'], 'rb') as f:\n",
    "    loaded_data = pickle.load(f)\n",
    "\n",
    "cc_df = pd.DataFrame(loaded_data)\n",
    "cc_df.info()"
   ]
  },
  {
   "cell_type": "code",
   "execution_count": 6,
   "metadata": {},
   "outputs": [
    {
     "data": {
      "application/vnd.microsoft.datawrangler.viewer.v0+json": {
       "columns": [
        {
         "name": "index",
         "rawType": "int64",
         "type": "integer"
        },
        {
         "name": "credit_card",
         "rawType": "int64",
         "type": "integer"
        },
        {
         "name": "datetime",
         "rawType": "datetime64[ns]",
         "type": "datetime"
        },
        {
         "name": "long",
         "rawType": "float64",
         "type": "float"
        },
        {
         "name": "lat",
         "rawType": "float64",
         "type": "float"
        },
        {
         "name": "zipcode",
         "rawType": "int64",
         "type": "integer"
        },
        {
         "name": "state",
         "rawType": "object",
         "type": "string"
        },
        {
         "name": "city",
         "rawType": "object",
         "type": "string"
        },
        {
         "name": "date",
         "rawType": "object",
         "type": "string"
        },
        {
         "name": "year",
         "rawType": "int32",
         "type": "integer"
        },
        {
         "name": "quarter",
         "rawType": "object",
         "type": "string"
        },
        {
         "name": "month",
         "rawType": "object",
         "type": "string"
        },
        {
         "name": "season",
         "rawType": "object",
         "type": "string"
        },
        {
         "name": "week_cat",
         "rawType": "object",
         "type": "string"
        },
        {
         "name": "day",
         "rawType": "object",
         "type": "string"
        },
        {
         "name": "time",
         "rawType": "object",
         "type": "string"
        },
        {
         "name": "limit_cat",
         "rawType": "object",
         "type": "string"
        },
        {
         "name": "prev_time",
         "rawType": "datetime64[ns]",
         "type": "datetime"
        },
        {
         "name": "geo_cat",
         "rawType": "object",
         "type": "string"
        },
        {
         "name": "fraud",
         "rawType": "object",
         "type": "string"
        },
        {
         "name": "time_diff_hour",
         "rawType": "float64",
         "type": "float"
        },
        {
         "name": "transaction_dollar_amount",
         "rawType": "float64",
         "type": "float"
        },
        {
         "name": "speed_km/h",
         "rawType": "float64",
         "type": "float"
        },
        {
         "name": "distance_km",
         "rawType": "float64",
         "type": "float"
        },
        {
         "name": "cc_id",
         "rawType": "object",
         "type": "string"
        },
        {
         "name": "trx_id",
         "rawType": "object",
         "type": "string"
        }
       ],
       "conversionMethod": "pd.DataFrame",
       "ref": "b31ba40f-83c1-4d39-ac30-396d6202672d",
       "rows": [
        [
         "0",
         "9484591448272784",
         "2015-07-31 09:39:48",
         "-90.0456390041606",
         "29.8890387448395",
         "70112",
         "la",
         "new orleans",
         "2015-07-31",
         "2015",
         "2015Q3",
         "july",
         "summer",
         "weekday",
         "friday",
         "09:39:48",
         "very_low",
         "2015-10-27 20:34:03",
         "normal",
         "not_fraud",
         "2.005466096286725",
         "-1.0931295770649745",
         "0.007087005683059277",
         "0.5810681376034607",
         "3658d6de96a3518dd05ac23a8dad787201799b4422522a7c57d51330456cdac7",
         "af3c574b19c796eb1a16fb2323b901d1f2c2c83c3c309d100fe20f8a3faa0684"
        ],
        [
         "1",
         "7053196367895112",
         "2015-07-31 11:03:48",
         "-74.0275614326073",
         "40.6896150543123",
         "10001",
         "ny",
         "new york",
         "2015-07-31",
         "2015",
         "2015Q3",
         "july",
         "summer",
         "weekday",
         "friday",
         "11:03:48",
         "low",
         "2015-08-29 17:05:27",
         "normal",
         "not_fraud",
         "0.17988524667338726",
         "-1.4468615409337526",
         "0.2611837981842176",
         "0.8273461337980489",
         "e55a22a5d2022d3f63da6517b9196f493b4cf268474011fce83f19cb820d1901",
         "2e2c01b22618cbc79b64c0cb7fc05586eb61dd4af3dfec75796e5ac5c362f759"
        ],
        [
         "2",
         "9528285469413252",
         "2015-07-31 11:10:14",
         "-72.1394845669351",
         "43.1081002008752",
         "3280",
         "nh",
         "washington",
         "2015-07-31",
         "2015",
         "2015Q3",
         "july",
         "summer",
         "weekday",
         "friday",
         "11:10:14",
         "very_high",
         "2015-10-14 19:06:04",
         "normal",
         "not_fraud",
         "1.673976413007641",
         "0.35823253833435625",
         "0.007087005683059277",
         "0.3297801095976226",
         "5a07e1064bab4b274e14f87ee0c12d2ca8153dcbe5c6c6a7b3cc45b937c42283",
         "8c817926e48dbe81e736441ecd9bd7daf5a07ec270a7c30361fd70d2ae12a3e8"
        ],
        [
         "3",
         "1845720274833905",
         "2015-07-31 11:28:55",
         "-89.0021481284464",
         "40.8043234778234",
         "61738",
         "il",
         "el paso",
         "2015-07-31",
         "2015",
         "2015Q3",
         "july",
         "summer",
         "weekday",
         "friday",
         "11:28:55",
         "medium",
         "2015-08-29 19:33:54",
         "normal",
         "not_fraud",
         "0.18348968744657682",
         "0.30569779923309165",
         "0.007087005683059277",
         "0.34720891128193354",
         "a7d9fcb50b5e9aaf2a23fd805619d806af77982014f6061d0c4ecfd0e2179353",
         "6dd7fcf2e87665e7952ec4ecbfddd5cc9bb395827327a1114d42c41f0c69575d"
        ],
        [
         "4",
         "7850942767136368",
         "2015-07-31 11:38:51",
         "-72.0256746243903",
         "43.2107528971734",
         "3280",
         "nh",
         "washington",
         "2015-07-31",
         "2015",
         "2015Q3",
         "july",
         "summer",
         "weekday",
         "friday",
         "11:38:51",
         "very_low",
         "2015-08-21 03:39:50",
         "normal",
         "not_fraud",
         "-0.21399813930531908",
         "-0.010331278805895234",
         "0.2611837981842176",
         "0.17073672712757074",
         "99610b7e5b36079974eca76935800dfa04afb8eac9828190aad6937897fdcfb7",
         "368557711bb521bb33344c8ab9d846b68452c1e994c0289f9dddbc1e315a1723"
        ]
       ],
       "shape": {
        "columns": 25,
        "rows": 5
       }
      },
      "text/html": [
       "<div>\n",
       "<style scoped>\n",
       "    .dataframe tbody tr th:only-of-type {\n",
       "        vertical-align: middle;\n",
       "    }\n",
       "\n",
       "    .dataframe tbody tr th {\n",
       "        vertical-align: top;\n",
       "    }\n",
       "\n",
       "    .dataframe thead th {\n",
       "        text-align: right;\n",
       "    }\n",
       "</style>\n",
       "<table border=\"1\" class=\"dataframe\">\n",
       "  <thead>\n",
       "    <tr style=\"text-align: right;\">\n",
       "      <th></th>\n",
       "      <th>credit_card</th>\n",
       "      <th>datetime</th>\n",
       "      <th>long</th>\n",
       "      <th>lat</th>\n",
       "      <th>zipcode</th>\n",
       "      <th>state</th>\n",
       "      <th>city</th>\n",
       "      <th>date</th>\n",
       "      <th>year</th>\n",
       "      <th>quarter</th>\n",
       "      <th>month</th>\n",
       "      <th>season</th>\n",
       "      <th>week_cat</th>\n",
       "      <th>day</th>\n",
       "      <th>time</th>\n",
       "      <th>limit_cat</th>\n",
       "      <th>prev_time</th>\n",
       "      <th>geo_cat</th>\n",
       "      <th>fraud</th>\n",
       "      <th>time_diff_hour</th>\n",
       "      <th>transaction_dollar_amount</th>\n",
       "      <th>speed_km/h</th>\n",
       "      <th>distance_km</th>\n",
       "      <th>cc_id</th>\n",
       "      <th>trx_id</th>\n",
       "    </tr>\n",
       "  </thead>\n",
       "  <tbody>\n",
       "    <tr>\n",
       "      <th>0</th>\n",
       "      <td>9484591448272784</td>\n",
       "      <td>2015-07-31 09:39:48</td>\n",
       "      <td>-90.045639</td>\n",
       "      <td>29.889039</td>\n",
       "      <td>70112</td>\n",
       "      <td>la</td>\n",
       "      <td>new orleans</td>\n",
       "      <td>2015-07-31</td>\n",
       "      <td>2015</td>\n",
       "      <td>2015Q3</td>\n",
       "      <td>july</td>\n",
       "      <td>summer</td>\n",
       "      <td>weekday</td>\n",
       "      <td>friday</td>\n",
       "      <td>09:39:48</td>\n",
       "      <td>very_low</td>\n",
       "      <td>2015-10-27 20:34:03</td>\n",
       "      <td>normal</td>\n",
       "      <td>not_fraud</td>\n",
       "      <td>2.005466</td>\n",
       "      <td>-1.093130</td>\n",
       "      <td>0.007087</td>\n",
       "      <td>0.581068</td>\n",
       "      <td>3658d6de96a3518dd05ac23a8dad787201799b4422522a...</td>\n",
       "      <td>af3c574b19c796eb1a16fb2323b901d1f2c2c83c3c309d...</td>\n",
       "    </tr>\n",
       "    <tr>\n",
       "      <th>1</th>\n",
       "      <td>7053196367895112</td>\n",
       "      <td>2015-07-31 11:03:48</td>\n",
       "      <td>-74.027561</td>\n",
       "      <td>40.689615</td>\n",
       "      <td>10001</td>\n",
       "      <td>ny</td>\n",
       "      <td>new york</td>\n",
       "      <td>2015-07-31</td>\n",
       "      <td>2015</td>\n",
       "      <td>2015Q3</td>\n",
       "      <td>july</td>\n",
       "      <td>summer</td>\n",
       "      <td>weekday</td>\n",
       "      <td>friday</td>\n",
       "      <td>11:03:48</td>\n",
       "      <td>low</td>\n",
       "      <td>2015-08-29 17:05:27</td>\n",
       "      <td>normal</td>\n",
       "      <td>not_fraud</td>\n",
       "      <td>0.179885</td>\n",
       "      <td>-1.446862</td>\n",
       "      <td>0.261184</td>\n",
       "      <td>0.827346</td>\n",
       "      <td>e55a22a5d2022d3f63da6517b9196f493b4cf268474011...</td>\n",
       "      <td>2e2c01b22618cbc79b64c0cb7fc05586eb61dd4af3dfec...</td>\n",
       "    </tr>\n",
       "    <tr>\n",
       "      <th>2</th>\n",
       "      <td>9528285469413252</td>\n",
       "      <td>2015-07-31 11:10:14</td>\n",
       "      <td>-72.139485</td>\n",
       "      <td>43.108100</td>\n",
       "      <td>3280</td>\n",
       "      <td>nh</td>\n",
       "      <td>washington</td>\n",
       "      <td>2015-07-31</td>\n",
       "      <td>2015</td>\n",
       "      <td>2015Q3</td>\n",
       "      <td>july</td>\n",
       "      <td>summer</td>\n",
       "      <td>weekday</td>\n",
       "      <td>friday</td>\n",
       "      <td>11:10:14</td>\n",
       "      <td>very_high</td>\n",
       "      <td>2015-10-14 19:06:04</td>\n",
       "      <td>normal</td>\n",
       "      <td>not_fraud</td>\n",
       "      <td>1.673976</td>\n",
       "      <td>0.358233</td>\n",
       "      <td>0.007087</td>\n",
       "      <td>0.329780</td>\n",
       "      <td>5a07e1064bab4b274e14f87ee0c12d2ca8153dcbe5c6c6...</td>\n",
       "      <td>8c817926e48dbe81e736441ecd9bd7daf5a07ec270a7c3...</td>\n",
       "    </tr>\n",
       "    <tr>\n",
       "      <th>3</th>\n",
       "      <td>1845720274833905</td>\n",
       "      <td>2015-07-31 11:28:55</td>\n",
       "      <td>-89.002148</td>\n",
       "      <td>40.804323</td>\n",
       "      <td>61738</td>\n",
       "      <td>il</td>\n",
       "      <td>el paso</td>\n",
       "      <td>2015-07-31</td>\n",
       "      <td>2015</td>\n",
       "      <td>2015Q3</td>\n",
       "      <td>july</td>\n",
       "      <td>summer</td>\n",
       "      <td>weekday</td>\n",
       "      <td>friday</td>\n",
       "      <td>11:28:55</td>\n",
       "      <td>medium</td>\n",
       "      <td>2015-08-29 19:33:54</td>\n",
       "      <td>normal</td>\n",
       "      <td>not_fraud</td>\n",
       "      <td>0.183490</td>\n",
       "      <td>0.305698</td>\n",
       "      <td>0.007087</td>\n",
       "      <td>0.347209</td>\n",
       "      <td>a7d9fcb50b5e9aaf2a23fd805619d806af77982014f606...</td>\n",
       "      <td>6dd7fcf2e87665e7952ec4ecbfddd5cc9bb395827327a1...</td>\n",
       "    </tr>\n",
       "    <tr>\n",
       "      <th>4</th>\n",
       "      <td>7850942767136368</td>\n",
       "      <td>2015-07-31 11:38:51</td>\n",
       "      <td>-72.025675</td>\n",
       "      <td>43.210753</td>\n",
       "      <td>3280</td>\n",
       "      <td>nh</td>\n",
       "      <td>washington</td>\n",
       "      <td>2015-07-31</td>\n",
       "      <td>2015</td>\n",
       "      <td>2015Q3</td>\n",
       "      <td>july</td>\n",
       "      <td>summer</td>\n",
       "      <td>weekday</td>\n",
       "      <td>friday</td>\n",
       "      <td>11:38:51</td>\n",
       "      <td>very_low</td>\n",
       "      <td>2015-08-21 03:39:50</td>\n",
       "      <td>normal</td>\n",
       "      <td>not_fraud</td>\n",
       "      <td>-0.213998</td>\n",
       "      <td>-0.010331</td>\n",
       "      <td>0.261184</td>\n",
       "      <td>0.170737</td>\n",
       "      <td>99610b7e5b36079974eca76935800dfa04afb8eac98281...</td>\n",
       "      <td>368557711bb521bb33344c8ab9d846b68452c1e994c028...</td>\n",
       "    </tr>\n",
       "  </tbody>\n",
       "</table>\n",
       "</div>"
      ],
      "text/plain": [
       "        credit_card            datetime       long        lat  zipcode state  \\\n",
       "0  9484591448272784 2015-07-31 09:39:48 -90.045639  29.889039    70112    la   \n",
       "1  7053196367895112 2015-07-31 11:03:48 -74.027561  40.689615    10001    ny   \n",
       "2  9528285469413252 2015-07-31 11:10:14 -72.139485  43.108100     3280    nh   \n",
       "3  1845720274833905 2015-07-31 11:28:55 -89.002148  40.804323    61738    il   \n",
       "4  7850942767136368 2015-07-31 11:38:51 -72.025675  43.210753     3280    nh   \n",
       "\n",
       "          city        date  year quarter month  season week_cat     day  \\\n",
       "0  new orleans  2015-07-31  2015  2015Q3  july  summer  weekday  friday   \n",
       "1     new york  2015-07-31  2015  2015Q3  july  summer  weekday  friday   \n",
       "2   washington  2015-07-31  2015  2015Q3  july  summer  weekday  friday   \n",
       "3      el paso  2015-07-31  2015  2015Q3  july  summer  weekday  friday   \n",
       "4   washington  2015-07-31  2015  2015Q3  july  summer  weekday  friday   \n",
       "\n",
       "       time  limit_cat           prev_time geo_cat      fraud  time_diff_hour  \\\n",
       "0  09:39:48   very_low 2015-10-27 20:34:03  normal  not_fraud        2.005466   \n",
       "1  11:03:48        low 2015-08-29 17:05:27  normal  not_fraud        0.179885   \n",
       "2  11:10:14  very_high 2015-10-14 19:06:04  normal  not_fraud        1.673976   \n",
       "3  11:28:55     medium 2015-08-29 19:33:54  normal  not_fraud        0.183490   \n",
       "4  11:38:51   very_low 2015-08-21 03:39:50  normal  not_fraud       -0.213998   \n",
       "\n",
       "   transaction_dollar_amount  speed_km/h  distance_km  \\\n",
       "0                  -1.093130    0.007087     0.581068   \n",
       "1                  -1.446862    0.261184     0.827346   \n",
       "2                   0.358233    0.007087     0.329780   \n",
       "3                   0.305698    0.007087     0.347209   \n",
       "4                  -0.010331    0.261184     0.170737   \n",
       "\n",
       "                                               cc_id  \\\n",
       "0  3658d6de96a3518dd05ac23a8dad787201799b4422522a...   \n",
       "1  e55a22a5d2022d3f63da6517b9196f493b4cf268474011...   \n",
       "2  5a07e1064bab4b274e14f87ee0c12d2ca8153dcbe5c6c6...   \n",
       "3  a7d9fcb50b5e9aaf2a23fd805619d806af77982014f606...   \n",
       "4  99610b7e5b36079974eca76935800dfa04afb8eac98281...   \n",
       "\n",
       "                                              trx_id  \n",
       "0  af3c574b19c796eb1a16fb2323b901d1f2c2c83c3c309d...  \n",
       "1  2e2c01b22618cbc79b64c0cb7fc05586eb61dd4af3dfec...  \n",
       "2  8c817926e48dbe81e736441ecd9bd7daf5a07ec270a7c3...  \n",
       "3  6dd7fcf2e87665e7952ec4ecbfddd5cc9bb395827327a1...  \n",
       "4  368557711bb521bb33344c8ab9d846b68452c1e994c028...  "
      ]
     },
     "execution_count": 6,
     "metadata": {},
     "output_type": "execute_result"
    }
   ],
   "source": [
    "cc_df.head()"
   ]
  },
  {
   "cell_type": "markdown",
   "metadata": {},
   "source": [
    "## Data Distribution"
   ]
  },
  {
   "cell_type": "code",
   "execution_count": 7,
   "metadata": {},
   "outputs": [
    {
     "name": "stdout",
     "output_type": "stream",
     "text": [
      "Rows: 294.59 K, Columns: 25.00, then Dataset Category: LARGE DATASET!!!\n"
     ]
    }
   ],
   "source": [
    "rows = cc_df.shape[0]\n",
    "cols = cc_df.shape[1]\n",
    "\n",
    "if rows <= 5000 or cols <= 20:\n",
    "    category = \"Small Dataset\"\n",
    "\n",
    "elif rows <= 50000 and cols <= 100:\n",
    "    category = \"Medium Dataset\"\n",
    "\n",
    "elif rows <= 1000000 and cols <= 500:\n",
    "    category = \"Large Dataset\"\n",
    "\n",
    "elif rows <= 10000000 and cols <= 1000:\n",
    "    category = \"Very Large Dataset\"\n",
    "\n",
    "else:\n",
    "    category = \"Massive Dataset\"\n",
    "\n",
    "print(f'Rows: {val_round(rows)}, Columns: {val_round(cols)}, then Dataset Category: {category.upper()}!!!')"
   ]
  },
  {
   "cell_type": "markdown",
   "metadata": {},
   "source": [
    "## Check Imbalanced Data"
   ]
  },
  {
   "cell_type": "markdown",
   "metadata": {},
   "source": [
    "### Proportion"
   ]
  },
  {
   "cell_type": "code",
   "execution_count": 8,
   "metadata": {},
   "outputs": [
    {
     "name": "stdout",
     "output_type": "stream",
     "text": [
      "fraud\n",
      "not_fraud    282742\n",
      "fraud         11846\n",
      "Name: count, dtype: int64 \n",
      "\n",
      "fraud\n",
      "not_fraud    95.98\n",
      "fraud         4.02\n",
      "Name: proportion, dtype: float64\n"
     ]
    }
   ],
   "source": [
    "# Check proportion\n",
    "print(f'{cc_df[\"fraud\"].value_counts()} \\n')\n",
    "print(round(cc_df[\"fraud\"].value_counts(normalize = True) * 100, 2))"
   ]
  },
  {
   "cell_type": "markdown",
   "metadata": {},
   "source": [
    "### Imbalance Ratio"
   ]
  },
  {
   "cell_type": "code",
   "execution_count": 9,
   "metadata": {},
   "outputs": [
    {
     "name": "stdout",
     "output_type": "stream",
     "text": [
      "Imbalance Ratio (IR): 23.87\n"
     ]
    }
   ],
   "source": [
    "# \n",
    "minority_class = cc_df[\"fraud\"].value_counts().min()\n",
    "majority_class = cc_df[\"fraud\"].value_counts().max()\n",
    "\n",
    "# \n",
    "imbalance_ratio = majority_class / minority_class\n",
    "print(f\"Imbalance Ratio (IR): {imbalance_ratio:.2f}\")"
   ]
  },
  {
   "cell_type": "markdown",
   "metadata": {},
   "source": [
    "### Check Irrelevant Data"
   ]
  },
  {
   "cell_type": "markdown",
   "metadata": {},
   "source": [
    "#### Threshold Methode "
   ]
  },
  {
   "cell_type": "code",
   "execution_count": 10,
   "metadata": {},
   "outputs": [
    {
     "name": "stdout",
     "output_type": "stream",
     "text": [
      "numeric columns: Index(['credit_card', 'long', 'lat', 'zipcode', 'year', 'time_diff_hour',\n",
      "       'transaction_dollar_amount', 'speed_km/h', 'distance_km'],\n",
      "      dtype='object')\n",
      "\n",
      "Fitur yang dipertahankan: Index(['credit_card', 'long', 'lat', 'zipcode', 'time_diff_hour',\n",
      "       'transaction_dollar_amount', 'speed_km/h', 'distance_km'],\n",
      "      dtype='object')\n"
     ]
    }
   ],
   "source": [
    "from sklearn.feature_selection import VarianceThreshold\n",
    "\n",
    "# Drop kolom non-numerik\n",
    "df_numeric = cc_df.select_dtypes(include = ['number'])\n",
    "print(f'numeric columns: {df_numeric.columns}\\n')\n",
    "\n",
    "# Inisialisasi VarianceThreshold (misalnya, ambang batas 0.01)\n",
    "selector = VarianceThreshold(threshold = 0.01)\n",
    "df_var_selected = selector.fit_transform(df_numeric)\n",
    "\n",
    "# Fitur yang dipertahankan\n",
    "selected_features = df_numeric.columns[selector.get_support()]\n",
    "print(\"Fitur yang dipertahankan:\", selected_features)"
   ]
  },
  {
   "cell_type": "code",
   "execution_count": 11,
   "metadata": {},
   "outputs": [
    {
     "name": "stdout",
     "output_type": "stream",
     "text": [
      "Numeric column untuk modeling: Index(['time_diff_hour', 'transaction_dollar_amount', 'speed_km/h',\n",
      "       'distance_km'],\n",
      "      dtype='object')\n"
     ]
    }
   ],
   "source": [
    "# Seleceted numeric columns\n",
    "filter_numeric = ['long', 'lat', 'credit_card', 'zipcode']\n",
    "selected_numeric = selected_features.drop(filter_numeric)\n",
    "\n",
    "#\n",
    "print(\"Numeric column untuk modeling:\", selected_numeric)"
   ]
  },
  {
   "cell_type": "markdown",
   "metadata": {},
   "source": [
    "#### Relevant Column"
   ]
  },
  {
   "cell_type": "code",
   "execution_count": 12,
   "metadata": {},
   "outputs": [
    {
     "name": "stdout",
     "output_type": "stream",
     "text": [
      "STATE \t: ['la' 'ny' 'nh' 'il' 'pa' 'nj' 'mo' 'md' 'ca' 'tx' 'me' 'vt' 'al' 'wv'\n",
      " 'pr' 'wa' 'nc' 'ga' 'ma' 'ok' 'mi' 'ut' 'fl' 'hi' 'ia' 'nm' 'oh' 'az'\n",
      " 'va' 'in' 'ri' 'id' 'co' 'ct' 'ks']\n",
      "-------------------------------------------------- \n",
      "\n",
      "CITY \t: ['new orleans' 'new york' 'washington' 'el paso' 'dallas' 'houston'\n",
      " 'birmingham' 'kansas city' 'austin' 'pasadena' 'los angeles' 'fort worth'\n",
      " 'jackson' 'pittsburgh' 'portland' 'albany' 'charlotte' 'huntsville'\n",
      " 'madison' 'orlando' 'san antonio' 'seattle' 'minneapolis' 'sacramento'\n",
      " 'san francisco' 'memphis' 'dayton' 'denver' 'milwaukee' 'omaha' 'trenton'\n",
      " 'springfield' 'phoenix' 'oklahoma city' 'charleston' 'miami' 'long beach'\n",
      " 'quitman' 'saint louis' 'friendship' 'chicago' 'salt lake city'\n",
      " 'richmond' 'pensacola' 'san diego' 'atlanta' 'honolulu' 'greensboro'\n",
      " 'newark' 'rochester' 'lafayette' 'columbus' 'staten island' 'des moines'\n",
      " 'las vegas' 'chester' 'cincinnati' 'hillsboro' 'tucson' 'buffalo'\n",
      " 'arlington' 'shreveport' 'philadelphia' 'tulsa' 'cleveland' 'saint paul'\n",
      " 'garfield' 'young america' 'clinton' 'amarillo' 'greenville' 'mobile'\n",
      " 'boise' 'monticello' 'indianapolis' 'cascade' 'williamsburg' 'raleigh'\n",
      " 'akron' 'huntington' 'troy' 'lake city' 'colorado springs' 'fresno'\n",
      " 'auburn' 'evansville' 'topeka' 'cedar rapids' 'louisville' 'knoxville'\n",
      " 'oakland' 'spokane' 'manchester' 'fort wayne' 'dover' 'tampa'\n",
      " 'garden grove' 'lexington' 'alexandria' 'tacoma' 'jamaica' 'scranton'\n",
      " 'hartford' 'columbia' 'gretna' 'san jose' 'aurora' 'jacksonville'\n",
      " 'somerset' 'new haven' 'newport' 'wilmington' 'boston' 'vallejo'\n",
      " 'fort lauderdale' 'bronx' 'wichita' 'lancaster' 'detroit' 'baltimore'\n",
      " 'montgomery' 'bristol' 'corpus christi' 'roanoke']\n",
      "-------------------------------------------------- \n",
      "\n",
      "DATE \t: ['2015-07-31' '2015-08-01' '2015-08-02' '2015-08-03' '2015-08-04'\n",
      " '2015-08-05' '2015-08-06' '2015-08-07' '2015-08-08' '2015-08-09'\n",
      " '2015-08-10' '2015-08-11' '2015-08-12' '2015-08-13' '2015-08-14'\n",
      " '2015-08-15' '2015-08-16' '2015-08-17' '2015-08-18' '2015-08-19'\n",
      " '2015-08-20' '2015-08-21' '2015-08-22' '2015-08-23' '2015-08-24'\n",
      " '2015-08-25' '2015-08-26' '2015-08-27' '2015-08-28' '2015-08-29'\n",
      " '2015-08-30' '2015-08-31' '2015-09-01' '2015-09-02' '2015-09-03'\n",
      " '2015-09-04' '2015-09-05' '2015-09-06' '2015-09-07' '2015-09-08'\n",
      " '2015-09-09' '2015-09-10' '2015-09-11' '2015-09-12' '2015-09-13'\n",
      " '2015-09-14' '2015-09-15' '2015-09-16' '2015-09-17' '2015-09-18'\n",
      " '2015-09-19' '2015-09-20' '2015-09-21' '2015-09-22' '2015-09-23'\n",
      " '2015-09-24' '2015-09-25' '2015-09-26' '2015-09-27' '2015-09-28'\n",
      " '2015-09-29' '2015-09-30' '2015-10-01' '2015-10-02' '2015-10-03'\n",
      " '2015-10-04' '2015-10-05' '2015-10-06' '2015-10-07' '2015-10-08'\n",
      " '2015-10-09' '2015-10-10' '2015-10-11' '2015-10-12' '2015-10-13'\n",
      " '2015-10-14' '2015-10-15' '2015-10-16' '2015-10-17' '2015-10-18'\n",
      " '2015-10-19' '2015-10-20' '2015-10-21' '2015-10-22' '2015-10-23'\n",
      " '2015-10-24' '2015-10-25' '2015-10-26' '2015-10-27' '2015-10-28'\n",
      " '2015-10-29' '2015-10-30']\n",
      "-------------------------------------------------- \n",
      "\n",
      "QUARTER \t: ['2015Q3' '2015Q4']\n",
      "-------------------------------------------------- \n",
      "\n",
      "MONTH \t: ['july' 'august' 'september' 'october']\n",
      "-------------------------------------------------- \n",
      "\n",
      "SEASON \t: ['summer' 'fall']\n",
      "-------------------------------------------------- \n",
      "\n",
      "WEEK_CAT \t: ['weekday' 'weekend']\n",
      "-------------------------------------------------- \n",
      "\n",
      "DAY \t: ['friday' 'saturday' 'sunday' 'monday' 'tuesday' 'wednesday' 'thursday']\n",
      "-------------------------------------------------- \n",
      "\n",
      "TIME \t: ['09:39:48' '11:03:48' '11:10:14' ... '06:03:21' '06:26:59' '10:54:58']\n",
      "-------------------------------------------------- \n",
      "\n",
      "LIMIT_CAT \t: ['very_low' 'low' 'very_high' 'medium' 'high']\n",
      "-------------------------------------------------- \n",
      "\n",
      "GEO_CAT \t: ['normal' 'anomaly']\n",
      "-------------------------------------------------- \n",
      "\n",
      "FRAUD \t: ['not_fraud' 'fraud']\n",
      "-------------------------------------------------- \n",
      "\n",
      "CC_ID \t: ['3658d6de96a3518dd05ac23a8dad787201799b4422522a7c57d51330456cdac7'\n",
      " 'e55a22a5d2022d3f63da6517b9196f493b4cf268474011fce83f19cb820d1901'\n",
      " '5a07e1064bab4b274e14f87ee0c12d2ca8153dcbe5c6c6a7b3cc45b937c42283' ...\n",
      " 'dc4c9d9c3dbb11edff4c9d5402c1e62a778e4840f763f51476e10ec74431a947'\n",
      " '6ce32c03e377d1f461684c9269fa3509151ec0a6cc86e4e3de3e03c4989e1f6b'\n",
      " '95734b785ac1de699f628f9ea59117f291af0a896372715ea1dc8e70f42028b8']\n",
      "-------------------------------------------------- \n",
      "\n",
      "TRX_ID \t: ['af3c574b19c796eb1a16fb2323b901d1f2c2c83c3c309d100fe20f8a3faa0684'\n",
      " '2e2c01b22618cbc79b64c0cb7fc05586eb61dd4af3dfec75796e5ac5c362f759'\n",
      " '8c817926e48dbe81e736441ecd9bd7daf5a07ec270a7c30361fd70d2ae12a3e8' ...\n",
      " 'e28ddc1383270c1a4b7170fb11f28b2eb766507e116283653c7d4d5be6d72880'\n",
      " '1f97a67d1700896a39775b4af1db4e3172c7ef5997d0b844597485153951f573'\n",
      " '2df9115d7dca2e9800c95e4682a2e2571f49355f7590aa89f722f13ab522a229']\n",
      "-------------------------------------------------- \n",
      "\n"
     ]
    }
   ],
   "source": [
    "# Check Column Category\n",
    "check_cat = cc_df.select_dtypes(include = ['object'])\n",
    "\n",
    "for i in check_cat.columns:\n",
    "    unique_values = check_cat[i].unique()  # Mendapatkan nilai unik\n",
    "    unique_count = check_cat[i].nunique()  # Menghitung jumlah unik\n",
    "    print(f'{i.upper()} \\t: {unique_values}')\n",
    "    print(f'{\"-\" * 50} \\n')"
   ]
  },
  {
   "cell_type": "code",
   "execution_count": 13,
   "metadata": {},
   "outputs": [
    {
     "name": "stdout",
     "output_type": "stream",
     "text": [
      "Jumlah unik STATE \t: 35\n",
      "-------------------------------------------------- \n",
      "\n",
      "Jumlah unik CITY \t: 124\n",
      "-------------------------------------------------- \n",
      "\n",
      "Jumlah unik DATE \t: 92\n",
      "-------------------------------------------------- \n",
      "\n",
      "Jumlah unik TIME \t: 51419\n",
      "-------------------------------------------------- \n",
      "\n",
      "Jumlah unik CC_ID \t: 294588\n",
      "-------------------------------------------------- \n",
      "\n",
      "Jumlah unik TRX_ID \t: 294588\n",
      "-------------------------------------------------- \n",
      "\n"
     ]
    }
   ],
   "source": [
    "for i in check_cat.columns:\n",
    "    unique_count = check_cat[i].nunique()  # Menghitung jumlah nilai unik\n",
    "    \n",
    "    if unique_count > 10:  # Filter hanya kolom dengan nilai unik lebih dari 10\n",
    "        unique_values = check_cat[i].unique()  # Mendapatkan nilai unik\n",
    "        # print(f'{i.upper()} \\t: {unique_values}')\n",
    "        print(f'Jumlah unik {i.upper()} \\t: {unique_count}')\n",
    "        print(f'{\"-\" * 50} \\n')\n"
   ]
  },
  {
   "cell_type": "code",
   "execution_count": 14,
   "metadata": {},
   "outputs": [
    {
     "name": "stdout",
     "output_type": "stream",
     "text": [
      "objetc columns: Index(['state', 'city', 'date', 'quarter', 'month', 'season', 'week_cat',\n",
      "       'day', 'time', 'limit_cat', 'geo_cat', 'fraud', 'cc_id', 'trx_id'],\n",
      "      dtype='object')\n",
      "\n"
     ]
    }
   ],
   "source": [
    "# Drop kolom numerik\n",
    "df_obj = cc_df.select_dtypes(include = ['object'])\n",
    "print(f'objetc columns: {df_obj.columns}\\n')"
   ]
  },
  {
   "cell_type": "code",
   "execution_count": 15,
   "metadata": {},
   "outputs": [
    {
     "name": "stdout",
     "output_type": "stream",
     "text": [
      "Object column untuk modeling: Index(['city', 'limit_cat', 'fraud', 'geo_cat'], dtype='object')\n"
     ]
    }
   ],
   "source": [
    "# selected object columns\n",
    "filter_obj = ['city', 'limit_cat', 'fraud', 'geo_cat']\n",
    "selected_object = df_obj[filter_obj].columns\n",
    "\n",
    "#\n",
    "print(\"Object column untuk modeling:\", selected_object)"
   ]
  },
  {
   "cell_type": "code",
   "execution_count": 16,
   "metadata": {},
   "outputs": [
    {
     "data": {
      "application/vnd.microsoft.datawrangler.viewer.v0+json": {
       "columns": [
        {
         "name": "index",
         "rawType": "int64",
         "type": "integer"
        },
        {
         "name": "time_diff_hour",
         "rawType": "float64",
         "type": "float"
        },
        {
         "name": "transaction_dollar_amount",
         "rawType": "float64",
         "type": "float"
        },
        {
         "name": "speed_km/h",
         "rawType": "float64",
         "type": "float"
        },
        {
         "name": "distance_km",
         "rawType": "float64",
         "type": "float"
        },
        {
         "name": "city",
         "rawType": "object",
         "type": "string"
        },
        {
         "name": "limit_cat",
         "rawType": "object",
         "type": "string"
        },
        {
         "name": "fraud",
         "rawType": "object",
         "type": "string"
        },
        {
         "name": "geo_cat",
         "rawType": "object",
         "type": "string"
        }
       ],
       "conversionMethod": "pd.DataFrame",
       "ref": "b6b572ad-5258-45cb-a1a8-abb17bbc57c2",
       "rows": [
        [
         "0",
         "2.005466096286725",
         "-1.0931295770649745",
         "0.007087005683059277",
         "0.5810681376034607",
         "new orleans",
         "very_low",
         "not_fraud",
         "normal"
        ],
        [
         "1",
         "0.17988524667338726",
         "-1.4468615409337526",
         "0.2611837981842176",
         "0.8273461337980489",
         "new york",
         "low",
         "not_fraud",
         "normal"
        ],
        [
         "2",
         "1.673976413007641",
         "0.35823253833435625",
         "0.007087005683059277",
         "0.3297801095976226",
         "washington",
         "very_high",
         "not_fraud",
         "normal"
        ],
        [
         "3",
         "0.18348968744657682",
         "0.30569779923309165",
         "0.007087005683059277",
         "0.34720891128193354",
         "el paso",
         "medium",
         "not_fraud",
         "normal"
        ],
        [
         "4",
         "-0.21399813930531908",
         "-0.010331278805895234",
         "0.2611837981842176",
         "0.17073672712757074",
         "washington",
         "very_low",
         "not_fraud",
         "normal"
        ]
       ],
       "shape": {
        "columns": 8,
        "rows": 5
       }
      },
      "text/html": [
       "<div>\n",
       "<style scoped>\n",
       "    .dataframe tbody tr th:only-of-type {\n",
       "        vertical-align: middle;\n",
       "    }\n",
       "\n",
       "    .dataframe tbody tr th {\n",
       "        vertical-align: top;\n",
       "    }\n",
       "\n",
       "    .dataframe thead th {\n",
       "        text-align: right;\n",
       "    }\n",
       "</style>\n",
       "<table border=\"1\" class=\"dataframe\">\n",
       "  <thead>\n",
       "    <tr style=\"text-align: right;\">\n",
       "      <th></th>\n",
       "      <th>time_diff_hour</th>\n",
       "      <th>transaction_dollar_amount</th>\n",
       "      <th>speed_km/h</th>\n",
       "      <th>distance_km</th>\n",
       "      <th>city</th>\n",
       "      <th>limit_cat</th>\n",
       "      <th>fraud</th>\n",
       "      <th>geo_cat</th>\n",
       "    </tr>\n",
       "  </thead>\n",
       "  <tbody>\n",
       "    <tr>\n",
       "      <th>0</th>\n",
       "      <td>2.005466</td>\n",
       "      <td>-1.093130</td>\n",
       "      <td>0.007087</td>\n",
       "      <td>0.581068</td>\n",
       "      <td>new orleans</td>\n",
       "      <td>very_low</td>\n",
       "      <td>not_fraud</td>\n",
       "      <td>normal</td>\n",
       "    </tr>\n",
       "    <tr>\n",
       "      <th>1</th>\n",
       "      <td>0.179885</td>\n",
       "      <td>-1.446862</td>\n",
       "      <td>0.261184</td>\n",
       "      <td>0.827346</td>\n",
       "      <td>new york</td>\n",
       "      <td>low</td>\n",
       "      <td>not_fraud</td>\n",
       "      <td>normal</td>\n",
       "    </tr>\n",
       "    <tr>\n",
       "      <th>2</th>\n",
       "      <td>1.673976</td>\n",
       "      <td>0.358233</td>\n",
       "      <td>0.007087</td>\n",
       "      <td>0.329780</td>\n",
       "      <td>washington</td>\n",
       "      <td>very_high</td>\n",
       "      <td>not_fraud</td>\n",
       "      <td>normal</td>\n",
       "    </tr>\n",
       "    <tr>\n",
       "      <th>3</th>\n",
       "      <td>0.183490</td>\n",
       "      <td>0.305698</td>\n",
       "      <td>0.007087</td>\n",
       "      <td>0.347209</td>\n",
       "      <td>el paso</td>\n",
       "      <td>medium</td>\n",
       "      <td>not_fraud</td>\n",
       "      <td>normal</td>\n",
       "    </tr>\n",
       "    <tr>\n",
       "      <th>4</th>\n",
       "      <td>-0.213998</td>\n",
       "      <td>-0.010331</td>\n",
       "      <td>0.261184</td>\n",
       "      <td>0.170737</td>\n",
       "      <td>washington</td>\n",
       "      <td>very_low</td>\n",
       "      <td>not_fraud</td>\n",
       "      <td>normal</td>\n",
       "    </tr>\n",
       "  </tbody>\n",
       "</table>\n",
       "</div>"
      ],
      "text/plain": [
       "   time_diff_hour  transaction_dollar_amount  speed_km/h  distance_km  \\\n",
       "0        2.005466                  -1.093130    0.007087     0.581068   \n",
       "1        0.179885                  -1.446862    0.261184     0.827346   \n",
       "2        1.673976                   0.358233    0.007087     0.329780   \n",
       "3        0.183490                   0.305698    0.007087     0.347209   \n",
       "4       -0.213998                  -0.010331    0.261184     0.170737   \n",
       "\n",
       "          city  limit_cat      fraud geo_cat  \n",
       "0  new orleans   very_low  not_fraud  normal  \n",
       "1     new york        low  not_fraud  normal  \n",
       "2   washington  very_high  not_fraud  normal  \n",
       "3      el paso     medium  not_fraud  normal  \n",
       "4   washington   very_low  not_fraud  normal  "
      ]
     },
     "execution_count": 16,
     "metadata": {},
     "output_type": "execute_result"
    }
   ],
   "source": [
    "# \n",
    "trans_col = selected_numeric.append(selected_object)\n",
    "\n",
    "# \n",
    "trans_col = cc_df[trans_col]\n",
    "trans_col.head()"
   ]
  },
  {
   "cell_type": "markdown",
   "metadata": {},
   "source": [
    "### Check Noise Data"
   ]
  },
  {
   "cell_type": "markdown",
   "metadata": {},
   "source": [
    "#### Boxplot"
   ]
  },
  {
   "cell_type": "code",
   "execution_count": 17,
   "metadata": {},
   "outputs": [
    {
     "data": {
      "image/png": "[encoded data removed]",
      "text/plain": [
       "<Figure size 1200x600 with 1 Axes>"
      ]
     },
     "metadata": {},
     "output_type": "display_data"
    }
   ],
   "source": [
    "plt.figure(figsize = (12,6))\n",
    "sns.boxplot(data = trans_col.select_dtypes(include = [\"number\"])) \n",
    "plt.show()"
   ]
  },
  {
   "cell_type": "markdown",
   "metadata": {},
   "source": [
    "#### Z-Score"
   ]
  },
  {
   "cell_type": "code",
   "execution_count": 18,
   "metadata": {},
   "outputs": [
    {
     "name": "stdout",
     "output_type": "stream",
     "text": [
      "Jumlah outlier yang terdeteksi: 17391 \n",
      "\n"
     ]
    }
   ],
   "source": [
    "import numpy as np\n",
    "import matplotlib.pyplot as plt\n",
    "import seaborn as sns\n",
    "from scipy.stats import zscore\n",
    "\n",
    "# Kolom numerik yang ingin dicek outliernya\n",
    "num_cols = [\"transaction_dollar_amount\", \"distance_km\", 'speed_km/h']\n",
    "\n",
    "# Hitung z-score\n",
    "z_scores = np.abs(zscore(trans_col[num_cols]))\n",
    "\n",
    "# Tandai data yang memiliki outlier\n",
    "outlier_mask = (z_scores > 3).any(axis=1)\n",
    "\n",
    "# Jumlah outlier sebelum Winsorization\n",
    "num_outliers_before = outlier_mask.sum()\n",
    "print(f\"Jumlah outlier yang terdeteksi: {num_outliers_before} \\n\")"
   ]
  },
  {
   "cell_type": "markdown",
   "metadata": {},
   "source": [
    "#### Winsorization"
   ]
  },
  {
   "cell_type": "code",
   "execution_count": 19,
   "metadata": {},
   "outputs": [
    {
     "name": "stdout",
     "output_type": "stream",
     "text": [
      "Jumlah outlier setelah Winsorization: 8192 \n",
      "\n"
     ]
    }
   ],
   "source": [
    "clip_percent = 2.4\n",
    "\n",
    "# Winsorization hanya untuk data \"not_fraud\"\n",
    "for col in num_cols:\n",
    "    lower = np.percentile(trans_col[trans_col[\"fraud\"] == \"not_fraud\"][col], clip_percent)\n",
    "    upper = np.percentile(trans_col[trans_col[\"fraud\"] == \"not_fraud\"][col], 100 - clip_percent)\n",
    "\n",
    "    trans_col.loc[trans_col[\"fraud\"] == \"not_fraud\", col] = np.clip(\n",
    "        trans_col.loc[trans_col[\"fraud\"] == \"not_fraud\", col], lower, upper\n",
    "    )\n",
    "\n",
    "# Cek apakah outlier masih ada setelah Winsorization\n",
    "z_scores_after = np.abs(zscore(trans_col[num_cols]))\n",
    "outlier_mask_after = (z_scores_after > 3).any(axis=1)\n",
    "\n",
    "num_outliers_after = outlier_mask_after.sum()\n",
    "print(f\"Jumlah outlier setelah Winsorization: {num_outliers_after} \\n\")"
   ]
  },
  {
   "cell_type": "code",
   "execution_count": 20,
   "metadata": {},
   "outputs": [
    {
     "data": {
      "image/png": "[encoded data removed]",
      "text/plain": [
       "<Figure size 1400x600 with 3 Axes>"
      ]
     },
     "metadata": {},
     "output_type": "display_data"
    }
   ],
   "source": [
    "# Visualisasi dengan subplot\n",
    "fig, axes = plt.subplots(1, 3, figsize=(14, 6))\n",
    "\n",
    "# Boxplot untuk transaction_dollar_amount\n",
    "sns.boxplot(x = \"fraud\", y = \"transaction_dollar_amount\", hue = \"fraud\", \n",
    "            data = trans_col, ax = axes[0], palette = \"Set2\", legend = False)\n",
    "\n",
    "axes[0].set_title(\"Distribusi Transaction Dollar Amount Berdasarkan Fraud Status\")\n",
    "axes[0].set_ylabel(\"Transaction Dollar Amount\")\n",
    "axes[0].set_xlabel(\"Fraud Status\")\n",
    "axes[0].grid(axis = \"y\", linestyle = \"--\", alpha = 0.7)\n",
    "\n",
    "# Boxplot untuk distance\n",
    "sns.boxplot(x = \"fraud\", y = \"distance_km\", hue = \"fraud\", \n",
    "            data = trans_col, ax = axes[1], palette = \"Set2\", legend = False)\n",
    "\n",
    "axes[1].set_title(\"Distribusi Distance Berdasarkan Fraud Status\")\n",
    "axes[1].set_ylabel(\"Distance\")\n",
    "axes[1].set_xlabel(\"Fraud Status\")\n",
    "axes[1].grid(axis = \"y\", linestyle = \"--\", alpha = 0.7)\n",
    "\n",
    "# Boxplot untuk speed_km/h\n",
    "sns.boxplot(x = \"fraud\", y = \"speed_km/h\", hue = \"fraud\", \n",
    "            data = trans_col, ax = axes[2], palette = \"Set2\", legend = False)\n",
    "\n",
    "axes[2].set_title(\"Distribusi Speed Berdasarkan Fraud Status\")\n",
    "axes[2].set_ylabel(\"Speed\")\n",
    "axes[2].set_xlabel(\"Fraud Status\")\n",
    "axes[2].grid(axis = \"y\", linestyle = \"--\", alpha = 0.7)\n",
    "\n",
    "# Tambahkan anotasi jumlah outlier\n",
    "for ax in axes:\n",
    "    ax.annotate(f\"Outlier Sebelum: {num_outliers_before}\", xy = (0.5, 0.95), xycoords = \"axes fraction\", \n",
    "                ha = \"center\", fontsize = 10, color = \"red\", fontweight = \"bold\")\n",
    "    \n",
    "    ax.annotate(f\"Outlier Setelah: {num_outliers_after}\", xy = (0.5, 0.90), xycoords = \"axes fraction\", \n",
    "                ha = \"center\", fontsize = 10, color = \"green\", fontweight = \"bold\")\n",
    "\n",
    "plt.tight_layout()\n",
    "plt.show()"
   ]
  },
  {
   "cell_type": "markdown",
   "metadata": {},
   "source": [
    "# Data Transformation"
   ]
  },
  {
   "cell_type": "code",
   "execution_count": 21,
   "metadata": {},
   "outputs": [
    {
     "name": "stdout",
     "output_type": "stream",
     "text": [
      "Proporsi Label Setelah Preprocessing: \n",
      "==================================================\n",
      "fraud\n",
      "not_fraud    95.978791\n",
      "fraud         4.021209\n",
      "Name: proportion, dtype: float64 \n",
      "\n",
      "fraud\n",
      "not_fraud    282742\n",
      "fraud         11846\n",
      "Name: count, dtype: int64\n"
     ]
    }
   ],
   "source": [
    "# Ensure Data Consistency (before after same after winsorization)\n",
    "print(\"Proporsi Label Setelah Preprocessing: \")\n",
    "print(\"=\" * 50)\n",
    "\n",
    "print(trans_col[\"fraud\"].value_counts(normalize = True) * 100, '\\n')\n",
    "print(trans_col[\"fraud\"].value_counts())"
   ]
  },
  {
   "cell_type": "code",
   "execution_count": 22,
   "metadata": {},
   "outputs": [
    {
     "name": "stdout",
     "output_type": "stream",
     "text": [
      "Imbalance Ratio (IR): 23.87\n"
     ]
    }
   ],
   "source": [
    "# \n",
    "minority_class = cc_df[\"fraud\"].value_counts().min()\n",
    "majority_class = cc_df[\"fraud\"].value_counts().max()\n",
    "\n",
    "# \n",
    "imbalance_ratio = majority_class / minority_class\n",
    "print(f\"Imbalance Ratio (IR): {imbalance_ratio:.2f}\")"
   ]
  },
  {
   "cell_type": "code",
   "execution_count": 23,
   "metadata": {},
   "outputs": [
    {
     "name": "stdout",
     "output_type": "stream",
     "text": [
      "fraud\n",
      "not_fraud    95.98\n",
      "fraud         4.02\n",
      "Name: proportion, dtype: float64 \n",
      "\n",
      "fraud\n",
      "not_fraud    282742\n",
      "fraud         11846\n",
      "Name: count, dtype: int64\n"
     ]
    }
   ],
   "source": [
    "# remove NaN from target\n",
    "trans_df = trans_col.dropna(subset = ['fraud'])\n",
    "\n",
    "# check value\n",
    "print(round(trans_df[\"fraud\"].value_counts(normalize = True) * 100, 2), \"\\n\")\n",
    "print(trans_df[\"fraud\"].value_counts())"
   ]
  },
  {
   "cell_type": "markdown",
   "metadata": {},
   "source": [
    "## Split Data"
   ]
  },
  {
   "cell_type": "code",
   "execution_count": 24,
   "metadata": {},
   "outputs": [
    {
     "name": "stdout",
     "output_type": "stream",
     "text": [
      "<class 'pandas.core.frame.DataFrame'>\n",
      "RangeIndex: 294588 entries, 0 to 294587\n",
      "Data columns (total 7 columns):\n",
      " #   Column                     Non-Null Count   Dtype  \n",
      "---  ------                     --------------   -----  \n",
      " 0   time_diff_hour             294588 non-null  float64\n",
      " 1   transaction_dollar_amount  294588 non-null  float64\n",
      " 2   speed_km/h                 294588 non-null  float64\n",
      " 3   distance_km                294588 non-null  float64\n",
      " 4   city                       294588 non-null  object \n",
      " 5   limit_cat                  294588 non-null  object \n",
      " 6   geo_cat                    294588 non-null  object \n",
      "dtypes: float64(4), object(3)\n",
      "memory usage: 15.7+ MB\n"
     ]
    }
   ],
   "source": [
    "from sklearn.model_selection import train_test_split\n",
    "\n",
    "# split data\n",
    "X = trans_df.drop(columns = [\"fraud\"]).copy()\n",
    "y = trans_df[\"fraud\"].copy()\n",
    "\n",
    "# \n",
    "X.info()"
   ]
  },
  {
   "cell_type": "code",
   "execution_count": 25,
   "metadata": {},
   "outputs": [
    {
     "name": "stdout",
     "output_type": "stream",
     "text": [
      "==================================================\n",
      "Data has been split!!! \n",
      "\n",
      "Train set size: 206211\n",
      "Test set size: 88377\n",
      "==================================================\n"
     ]
    }
   ],
   "source": [
    "# Split data sebelum preprocessing\n",
    "X_train, X_test, y_train, y_test = train_test_split(X, y, test_size = 0.3, random_state = 42, stratify = y)\n",
    "\n",
    "# Konversi target ke numeric (setelah split)\n",
    "y_train = y_train.map({\"not_fraud\": 0, \"fraud\": 1})\n",
    "y_test = y_test.map({\"not_fraud\": 0, \"fraud\": 1})\n",
    "\n",
    "# Menampilkan informasi dataset\n",
    "print(\"=\" * 50)\n",
    "print(\"Data has been split!!! \\n\")\n",
    "print(f\"Train set size: {X_train.shape[0]}\")\n",
    "print(f\"Test set size: {X_test.shape[0]}\")\n",
    "print(\"=\" * 50)"
   ]
  },
  {
   "cell_type": "markdown",
   "metadata": {},
   "source": [
    "### Grouping Category"
   ]
  },
  {
   "cell_type": "code",
   "execution_count": 26,
   "metadata": {},
   "outputs": [
    {
     "name": "stdout",
     "output_type": "stream",
     "text": [
      "Ordinal Columns: \t ['limit_cat']\n",
      "One-Hot Columns: \t ['geo_cat']\n",
      "Label Columns: \t\t ['city']\n",
      "Numeric Columns: \t ['time_diff_hour', 'transaction_dollar_amount', 'speed_km/h', 'distance_km']\n"
     ]
    }
   ],
   "source": [
    "# Daftar kolom untuk label encoding (kolom ordinal)\n",
    "ordinal_set = {'limit_cat'}\n",
    "\n",
    "# Inisialisasi list untuk menyimpan kolom yang telah dikelompokkan\n",
    "ordinal_cols, ohe_cols, label_cols, numeric_cols = [], [], [], []\n",
    "\n",
    "for col in X.columns:\n",
    "    if X[col].dtype in ['int64', 'float64']:\n",
    "        numeric_cols.append(col)\n",
    "\n",
    "    elif X[col].dtype == 'object' or X[col].dtype.name == \"category\":\n",
    "        unique_count = X[col].nunique()  # Menghitung jumlah unik\n",
    "        \n",
    "        if col in ordinal_set:\n",
    "            ordinal_cols.append(col)\n",
    "            \n",
    "        elif unique_count > 10:  # Jika nilai unik lebih dari 10 → label encoding\n",
    "            label_cols.append(col)\n",
    "            \n",
    "        else:  # Jika nilai unik <= 10 → one-hot encoding\n",
    "            ohe_cols.append(col)\n",
    "\n",
    "# Menampilkan hasil\n",
    "print(\"Ordinal Columns: \\t\", ordinal_cols)\n",
    "print(\"One-Hot Columns: \\t\", ohe_cols)\n",
    "print(\"Label Columns: \\t\\t\", label_cols)\n",
    "print(\"Numeric Columns: \\t\", numeric_cols)"
   ]
  },
  {
   "cell_type": "code",
   "execution_count": 27,
   "metadata": {},
   "outputs": [
    {
     "name": "stdout",
     "output_type": "stream",
     "text": [
      "LIMIT_CAT \t: ['very_low' 'low' 'very_high' 'medium' 'high']\n",
      "--------------------------------------------------\n"
     ]
    }
   ],
   "source": [
    "# Check Ordinal Columns\n",
    "for i in ordinal_cols:\n",
    "    print(f'{i.upper()} \\t: {check_cat[i].unique()}')\n",
    "    print(f'{\"-\" * 50}')"
   ]
  },
  {
   "cell_type": "code",
   "execution_count": 28,
   "metadata": {},
   "outputs": [],
   "source": [
    "# Menentukan urutan kategori masing-masing kolom\n",
    "oridnal_cat = [\n",
    "    [\"very_low\", \"low\", \"medium\", \"high\", \"very_high\"],   # Urutan untuk limit_cat\n",
    "]"
   ]
  },
  {
   "cell_type": "markdown",
   "metadata": {},
   "source": [
    "### Transform Parameter"
   ]
  },
  {
   "cell_type": "code",
   "execution_count": 29,
   "metadata": {},
   "outputs": [],
   "source": [
    "# Transformasi\n",
    "numerical_tf = RobustScaler(\n",
    "    with_centering = True,          # Jika True, akan mengurangi median sebelum scaling \n",
    "    with_scaling = True,            # Jika True, akan membagi dengan IQR \n",
    "    quantile_range = (25.0, 75.0),  # Rentang persentil untuk IQR (default: Q1=25%, Q3=75%) \n",
    "    unit_variance = False,          # Jika True, akan menyesuaikan data agar memiliki varians sekitar 1 \n",
    "    copy = False                    # Jika False, transformasi dilakukan in-place pada array input \n",
    "    )\n",
    "\n",
    "ohe_tf = OneHotEncoder(\n",
    "    handle_unknown = 'ignore', \n",
    "    sparse_output = True, \n",
    "    max_categories = 50\n",
    "    )\n",
    "\n",
    "ordinal_tf = OrdinalEncoder(\n",
    "    categories = oridnal_cat, \n",
    "    handle_unknown = 'use_encoded_value', \n",
    "    unknown_value = -1\n",
    "    )\n",
    "\n",
    "# Fungsi untuk Label Encoding\n",
    "def label_encode_columns(X):\n",
    "    X = X.copy()  # Hindari mengubah DataFrame asli\n",
    "    for col in label_cols:\n",
    "        le = LabelEncoder()\n",
    "        X[col] = le.fit_transform(X[col])\n",
    "        \n",
    "    return X"
   ]
  },
  {
   "cell_type": "code",
   "execution_count": 30,
   "metadata": {},
   "outputs": [],
   "source": [
    "# Column Transformer dengan FunctionTransformer\n",
    "prep_stage_2 = ColumnTransformer(\n",
    "    transformers = [\n",
    "        (\"num\", numerical_tf, numeric_cols),  # Standarisasi numerik\n",
    "        (\"ohe\", ohe_tf, ohe_cols), \n",
    "        (\"label\", FunctionTransformer(label_encode_columns, validate = False), label_cols),  # Label encoder in pipeline\n",
    "        (\"ord\", ordinal_tf, ordinal_cols)\n",
    "    ], remainder = \"passthrough\")"
   ]
  },
  {
   "cell_type": "code",
   "execution_count": 31,
   "metadata": {},
   "outputs": [],
   "source": [
    "X_train_tf = prep_stage_2.fit_transform(X_train)  # Fit & Transform Training Data\n",
    "X_test_tf = prep_stage_2.transform(X_test)  # Transform Test Data"
   ]
  },
  {
   "cell_type": "code",
   "execution_count": 32,
   "metadata": {},
   "outputs": [
    {
     "name": "stdout",
     "output_type": "stream",
     "text": [
      "Total rows X_train Transformed: (206211, 8) \n",
      "\n",
      "Total rows X_test Transformed: (88377, 8)\n"
     ]
    }
   ],
   "source": [
    "# get feature names after pipeline\n",
    "num_features = numeric_cols \n",
    "cat_features = prep_stage_2.named_transformers_[\"ohe\"].get_feature_names_out(ohe_cols) \n",
    "ord_features = ordinal_cols \n",
    "label_features = label_cols \n",
    "\n",
    "# combine column\n",
    "transformed_columns = (list(num_features) + \n",
    "                       list(cat_features) + \n",
    "                       list(ord_features) + \n",
    "                       list(label_features)) \n",
    "\n",
    "# Dataframe after transform\n",
    "df_X_train_tf = pd.DataFrame(X_train_tf, columns = transformed_columns)\n",
    "print(f'Total rows X_train Transformed: {df_X_train_tf.shape} \\n')\n",
    "\n",
    "df_X_test_tf = pd.DataFrame(X_test_tf, columns = transformed_columns)\n",
    "print(f'Total rows X_test Transformed: {df_X_test_tf.shape}')"
   ]
  },
  {
   "cell_type": "markdown",
   "metadata": {},
   "source": [
    "## Re-Sampling"
   ]
  },
  {
   "cell_type": "code",
   "execution_count": 33,
   "metadata": {},
   "outputs": [
    {
     "name": "stdout",
     "output_type": "stream",
     "text": [
      "Check Data:\n",
      "fraud\n",
      "0    95.978876\n",
      "1     4.021124\n",
      "Name: proportion, dtype: float64 \n",
      "\n",
      "fraud\n",
      "0    197919\n",
      "1      8292\n",
      "Name: count, dtype: int64\n"
     ]
    }
   ],
   "source": [
    "# Check Target Proportion\n",
    "print(\"Check Data:\")\n",
    "print(f\"{y_train.value_counts(normalize = True) * 100} \\n\")\n",
    "print(y_train.value_counts())"
   ]
  },
  {
   "cell_type": "code",
   "execution_count": 34,
   "metadata": {},
   "outputs": [],
   "source": [
    "# from imblearn.under_sampling import RandomUnderSampler, TomekLinks\n",
    "# from collections import Counter\n",
    "\n",
    "# # Cek distribusi awal\n",
    "# print(f\"Distribusi kelas sebelum balancing \\t\\t: {Counter(y_train)}\")\n",
    "\n",
    "# # 🔹 Langkah 1: Random Undersampling untuk mengurangi kelas mayoritas\n",
    "# rus = RandomUnderSampler(sampling_strategy = 0.5, random_state = 42)  # Minoritas menjadi 50% dari mayoritas\n",
    "# X_rus, y_rus = rus.fit_resample(X_train_tf, y_train)\n",
    "# print(f\"Distribusi kelas setelah Random Undersampling \\t: {Counter(y_rus)}\")\n",
    "\n",
    "# # 🔹 Langkah 2: Tomek Links untuk membersihkan batas kelas\n",
    "# tl = TomekLinks()\n",
    "# X_train_resample, y_train_resample = tl.fit_resample(X_rus, y_rus)\n",
    "# print(f\"Distribusi kelas setelah Tomek Links \\t\\t: {Counter(y_train_resample)}\")"
   ]
  },
  {
   "cell_type": "code",
   "execution_count": 35,
   "metadata": {},
   "outputs": [],
   "source": [
    "# from imblearn.combine import SMOTEENN\n",
    "# from collections import Counter\n",
    "\n",
    "# # Cek distribusi awal\n",
    "# print(f\"Distribusi sebelum balancing \\t\\t: {Counter(y_train)}\")\n",
    "\n",
    "# smote_enn = SMOTEENN(random_state=42)\n",
    "# X_train_resample, y_train_resample = smote_enn.fit_resample(X_train_tf, y_train)\n",
    "\n",
    "\n",
    "# print(f\"Distribusi setelah balancing \\t\\t: {Counter(y_train_resample)}\")"
   ]
  },
  {
   "cell_type": "code",
   "execution_count": 36,
   "metadata": {},
   "outputs": [
    {
     "name": "stdout",
     "output_type": "stream",
     "text": [
      "Distribusi sebelum balancing \t\t: Counter({0: 197919, 1: 8292})\n",
      "Distribusi setelah balancing \t\t: Counter({0: 197919, 1: 197919})\n"
     ]
    }
   ],
   "source": [
    "from imblearn.combine import SMOTETomek\n",
    "from collections import Counter\n",
    "\n",
    "# Cek distribusi awal\n",
    "print(f\"Distribusi sebelum balancing \\t\\t: {Counter(y_train)}\")\n",
    "\n",
    "smotetomek = SMOTETomek(random_state=42)\n",
    "X_train_resample, y_train_resample = smotetomek.fit_resample(X_train_tf, y_train)\n",
    "\n",
    "\n",
    "print(f\"Distribusi setelah balancing \\t\\t: {Counter(y_train_resample)}\")"
   ]
  },
  {
   "cell_type": "code",
   "execution_count": 37,
   "metadata": {},
   "outputs": [
    {
     "name": "stdout",
     "output_type": "stream",
     "text": [
      "After Resampling:\n",
      "fraud\n",
      "0    50.0\n",
      "1    50.0\n",
      "Name: proportion, dtype: float64 \n",
      "\n",
      "fraud\n",
      "0    197919\n",
      "1    197919\n",
      "Name: count, dtype: int64\n"
     ]
    }
   ],
   "source": [
    "# Train Resampling\n",
    "print(\"After Resampling:\")\n",
    "print(f\"{y_train_resample.value_counts(normalize = True) * 100} \\n\")\n",
    "print(y_train_resample.value_counts())"
   ]
  },
  {
   "cell_type": "code",
   "execution_count": 38,
   "metadata": {},
   "outputs": [
    {
     "name": "stdout",
     "output_type": "stream",
     "text": [
      "Bobot kelas 0 (Not Fraud): 1.00\n",
      "Bobot kelas 1 (Fraud): 1.00\n"
     ]
    }
   ],
   "source": [
    "from sklearn.utils.class_weight import compute_class_weight\n",
    "import numpy as np\n",
    "\n",
    "# Hitung class weight secara manual\n",
    "class_weights = compute_class_weight(class_weight = \"balanced\", classes = np.array([0, 1]), y = y_train_resample)\n",
    "\n",
    "print(f\"Bobot kelas 0 (Not Fraud): {class_weights[0]:.2f}\")\n",
    "print(f\"Bobot kelas 1 (Fraud): {class_weights[1]:.2f}\")"
   ]
  },
  {
   "cell_type": "markdown",
   "metadata": {},
   "source": [
    "### Leak Checking"
   ]
  },
  {
   "cell_type": "markdown",
   "metadata": {},
   "source": [
    "#### Train Data"
   ]
  },
  {
   "cell_type": "code",
   "execution_count": 39,
   "metadata": {},
   "outputs": [
    {
     "name": "stdout",
     "output_type": "stream",
     "text": [
      "time_diff_hour              -0.459917\n",
      "transaction_dollar_amount    0.483396\n",
      "speed_km/h                  -0.032129\n",
      "distance_km                  0.298506\n",
      "geo_cat_anomaly              0.586312\n",
      "geo_cat_normal              -0.586312\n",
      "limit_cat                   -0.017156\n",
      "city                        -0.005987\n",
      "dtype: float64\n"
     ]
    }
   ],
   "source": [
    "# Konversi X_train_resample ke DataFrame dengan nama kolom yang sama seperti sebelum resampling\n",
    "X_train_leak = pd.DataFrame(X_train_resample, columns = df_X_train_tf.columns)\n",
    "\n",
    "# Cek korelasi antara fitur dan label\n",
    "print(X_train_leak.corrwith(pd.Series(y_train_resample)))"
   ]
  },
  {
   "cell_type": "code",
   "execution_count": 40,
   "metadata": {},
   "outputs": [
    {
     "name": "stdout",
     "output_type": "stream",
     "text": [
      "Mutual Information Scores:\n",
      " transaction_dollar_amount    0.462928\n",
      "time_diff_hour               0.263095\n",
      "geo_cat_normal               0.249355\n",
      "speed_km/h                   0.232082\n",
      "geo_cat_anomaly              0.222444\n",
      "distance_km                  0.108187\n",
      "limit_cat                    0.064483\n",
      "city                         0.063194\n",
      "dtype: float64\n"
     ]
    }
   ],
   "source": [
    "from sklearn.feature_selection import mutual_info_classif\n",
    "\n",
    "train_mi_scores = mutual_info_classif(X_train_leak, y_train_resample, discrete_features = 'auto')\n",
    "train_mi_scores = pd.Series(train_mi_scores, index = X_train_leak.columns).sort_values(ascending = False)\n",
    "\n",
    "print(\"Mutual Information Scores:\\n\", train_mi_scores.head(20))  # Tampilkan 20 fitur paling informatif\n"
   ]
  },
  {
   "cell_type": "code",
   "execution_count": 41,
   "metadata": {},
   "outputs": [
    {
     "name": "stdout",
     "output_type": "stream",
     "text": [
      "Series([], dtype: float64)\n"
     ]
    }
   ],
   "source": [
    "# Check High Correlations\n",
    "correlation_values = X_train_leak.corrwith(pd.Series(y_train_resample))\n",
    "high_correlation_features = correlation_values[correlation_values.abs() > 0.9]\n",
    "\n",
    "print(high_correlation_features)"
   ]
  },
  {
   "cell_type": "code",
   "execution_count": 42,
   "metadata": {},
   "outputs": [
    {
     "name": "stdout",
     "output_type": "stream",
     "text": [
      "<class 'pandas.core.frame.DataFrame'>\n",
      "RangeIndex: 395838 entries, 0 to 395837\n",
      "Data columns (total 8 columns):\n",
      " #   Column                     Non-Null Count   Dtype  \n",
      "---  ------                     --------------   -----  \n",
      " 0   time_diff_hour             395838 non-null  float64\n",
      " 1   transaction_dollar_amount  395838 non-null  float64\n",
      " 2   speed_km/h                 395838 non-null  float64\n",
      " 3   distance_km                395838 non-null  float64\n",
      " 4   geo_cat_anomaly            395838 non-null  float64\n",
      " 5   geo_cat_normal             395838 non-null  float64\n",
      " 6   limit_cat                  395838 non-null  float64\n",
      " 7   city                       395838 non-null  float64\n",
      "dtypes: float64(8)\n",
      "memory usage: 24.2 MB\n"
     ]
    }
   ],
   "source": [
    "X_train_leak = X_train_leak.drop(columns = high_correlation_features.index)\n",
    "X_train_leak.info()"
   ]
  },
  {
   "cell_type": "markdown",
   "metadata": {},
   "source": [
    "#### Test Data"
   ]
  },
  {
   "cell_type": "code",
   "execution_count": 43,
   "metadata": {},
   "outputs": [
    {
     "name": "stdout",
     "output_type": "stream",
     "text": [
      "time_diff_hour              -0.007916\n",
      "transaction_dollar_amount   -0.000507\n",
      "speed_km/h                   0.005120\n",
      "distance_km                 -0.001446\n",
      "geo_cat_anomaly              0.000472\n",
      "geo_cat_normal              -0.000472\n",
      "limit_cat                    0.008032\n",
      "city                        -0.009438\n",
      "dtype: float64\n"
     ]
    }
   ],
   "source": [
    "# Konversi X_train_resample ke DataFrame dengan nama kolom yang sama seperti sebelum resampling\n",
    "X_test_leak = pd.DataFrame(df_X_test_tf, columns = df_X_test_tf.columns)\n",
    "\n",
    "# Cek korelasi antara fitur dan label\n",
    "print(X_test_leak.corrwith(pd.Series(y_test)))"
   ]
  },
  {
   "cell_type": "code",
   "execution_count": 44,
   "metadata": {},
   "outputs": [
    {
     "name": "stdout",
     "output_type": "stream",
     "text": [
      "Mutual Information Scores:\n",
      " geo_cat_normal               0.070629\n",
      "transaction_dollar_amount    0.070108\n",
      "time_diff_hour               0.061663\n",
      "geo_cat_anomaly              0.047999\n",
      "speed_km/h                   0.035812\n",
      "distance_km                  0.032747\n",
      "city                         0.006129\n",
      "limit_cat                    0.002987\n",
      "dtype: float64\n"
     ]
    }
   ],
   "source": [
    "from sklearn.feature_selection import mutual_info_classif\n",
    "\n",
    "train_mi_scores = mutual_info_classif(X_test_leak, y_test, discrete_features = 'auto')\n",
    "train_mi_scores = pd.Series(train_mi_scores, index = X_test_leak.columns).sort_values(ascending = False)\n",
    "\n",
    "print(\"Mutual Information Scores:\\n\", train_mi_scores.head(20))  # Tampilkan 20 fitur paling informatif\n"
   ]
  },
  {
   "cell_type": "code",
   "execution_count": 45,
   "metadata": {},
   "outputs": [
    {
     "name": "stdout",
     "output_type": "stream",
     "text": [
      "<class 'pandas.core.frame.DataFrame'>\n",
      "RangeIndex: 88377 entries, 0 to 88376\n",
      "Data columns (total 8 columns):\n",
      " #   Column                     Non-Null Count  Dtype  \n",
      "---  ------                     --------------  -----  \n",
      " 0   time_diff_hour             88377 non-null  float64\n",
      " 1   transaction_dollar_amount  88377 non-null  float64\n",
      " 2   speed_km/h                 88377 non-null  float64\n",
      " 3   distance_km                88377 non-null  float64\n",
      " 4   geo_cat_anomaly            88377 non-null  float64\n",
      " 5   geo_cat_normal             88377 non-null  float64\n",
      " 6   limit_cat                  88377 non-null  float64\n",
      " 7   city                       88377 non-null  float64\n",
      "dtypes: float64(8)\n",
      "memory usage: 5.4 MB\n"
     ]
    }
   ],
   "source": [
    "X_test_leak = X_test_leak.drop(columns = high_correlation_features.index, errors = \"ignore\")\n",
    "X_test_leak.info()"
   ]
  },
  {
   "cell_type": "markdown",
   "metadata": {},
   "source": [
    "# Data Modeling"
   ]
  },
  {
   "cell_type": "markdown",
   "metadata": {},
   "source": [
    "## Pipeline Blueprint"
   ]
  },
  {
   "cell_type": "code",
   "execution_count": 46,
   "metadata": {},
   "outputs": [],
   "source": [
    "# Rename var train\n",
    "X_train_mod = X_train_leak.copy()\n",
    "y_train_mod = y_train_resample.copy()\n",
    "\n",
    "# Rename var test\n",
    "X_test_mod = X_test_leak.copy()\n",
    "y_test_mod = y_test.copy()"
   ]
  },
  {
   "cell_type": "markdown",
   "metadata": {},
   "source": [
    "### Check RAM Capacity"
   ]
  },
  {
   "cell_type": "code",
   "execution_count": 47,
   "metadata": {},
   "outputs": [
    {
     "name": "stdout",
     "output_type": "stream",
     "text": [
      "Total RAM: 17.07 GB\n",
      "RAM Digunakan: 8.11 GB\n",
      "RAM Tersedia: 8.97 GB\n"
     ]
    }
   ],
   "source": [
    "import psutil\n",
    "import gc # refresh memory\n",
    "\n",
    "# Check RAM\n",
    "mem_info = psutil.virtual_memory()\n",
    "\n",
    "print(f\"Total RAM: {mem_info.total / 1e9:.2f} GB\")\n",
    "print(f\"RAM Digunakan: {mem_info.used / 1e9:.2f} GB\")\n",
    "print(f\"RAM Tersedia: {mem_info.available / 1e9:.2f} GB\")"
   ]
  },
  {
   "cell_type": "markdown",
   "metadata": {},
   "source": [
    "### Converse Data"
   ]
  },
  {
   "cell_type": "code",
   "execution_count": 48,
   "metadata": {},
   "outputs": [],
   "source": [
    "# Simpan feature names sebelum konversi\n",
    "feature_names = X_train_mod.columns if isinstance(X_train_mod, pd.DataFrame) else [f\"feature_{i}\" for i in range(X_train_mod.shape[1])]\n",
    "\n",
    "# Konversi kembali ke DataFrame dengan feature names\n",
    "X_train_mod = pd.DataFrame(np.array(X_train_mod, dtype = np.float32), columns = feature_names)\n",
    "# y_train_mod = np.array(y_train_mod, dtype = np.int32)\n",
    "\n",
    "X_test_mod = pd.DataFrame(np.array(X_test_mod, dtype = np.float32), columns = feature_names)\n",
    "# y_test_mod = np.array(y_test_mod, dtype = np.int32)"
   ]
  },
  {
   "cell_type": "markdown",
   "metadata": {},
   "source": [
    "### Baseline Model"
   ]
  },
  {
   "cell_type": "markdown",
   "metadata": {},
   "source": [
    "##### Logistic Regression"
   ]
  },
  {
   "cell_type": "code",
   "execution_count": 49,
   "metadata": {},
   "outputs": [
    {
     "data": {
      "text/plain": [
       "5631"
      ]
     },
     "execution_count": 49,
     "metadata": {},
     "output_type": "execute_result"
    }
   ],
   "source": [
    "logreg_model = LogisticRegression()\n",
    "\n",
    "logreg_model.fit(X_train_mod, y_train_mod)\n",
    "gc.collect()"
   ]
  },
  {
   "cell_type": "markdown",
   "metadata": {},
   "source": [
    "#### Decission Tree Classifier"
   ]
  },
  {
   "cell_type": "code",
   "execution_count": 50,
   "metadata": {},
   "outputs": [
    {
     "data": {
      "text/plain": [
       "0"
      ]
     },
     "execution_count": 50,
     "metadata": {},
     "output_type": "execute_result"
    }
   ],
   "source": [
    "dt_model = DecisionTreeClassifier()\n",
    "\n",
    "dt_model.fit(X_train_mod, y_train_mod)\n",
    "gc.collect()"
   ]
  },
  {
   "cell_type": "markdown",
   "metadata": {},
   "source": [
    "#### Random Forest Classifier"
   ]
  },
  {
   "cell_type": "code",
   "execution_count": 51,
   "metadata": {},
   "outputs": [
    {
     "data": {
      "text/plain": [
       "27"
      ]
     },
     "execution_count": 51,
     "metadata": {},
     "output_type": "execute_result"
    }
   ],
   "source": [
    "forest_model = RandomForestClassifier()\n",
    "\n",
    "forest_model.fit(X_train_mod, y_train_mod)\n",
    "gc.collect()"
   ]
  },
  {
   "cell_type": "markdown",
   "metadata": {},
   "source": [
    "#### XGB Classifier"
   ]
  },
  {
   "cell_type": "code",
   "execution_count": 52,
   "metadata": {},
   "outputs": [
    {
     "data": {
      "text/plain": [
       "23"
      ]
     },
     "execution_count": 52,
     "metadata": {},
     "output_type": "execute_result"
    }
   ],
   "source": [
    "xgb_model = XGBClassifier()\n",
    "\n",
    "xgb_model.fit(X_train_mod, y_train_mod)\n",
    "gc.collect()"
   ]
  },
  {
   "cell_type": "markdown",
   "metadata": {},
   "source": [
    "#### Light GBM Classifier"
   ]
  },
  {
   "cell_type": "code",
   "execution_count": 53,
   "metadata": {},
   "outputs": [
    {
     "data": {
      "text/plain": [
       "39"
      ]
     },
     "execution_count": 53,
     "metadata": {},
     "output_type": "execute_result"
    }
   ],
   "source": [
    "lgbm_model = LGBMClassifier(verbose = -1)\n",
    "\n",
    "lgbm_model.fit(X_train_mod, y_train_mod)\n",
    "gc.collect()"
   ]
  },
  {
   "cell_type": "markdown",
   "metadata": {},
   "source": [
    "#### Cat Boost Classifier"
   ]
  },
  {
   "cell_type": "code",
   "execution_count": 54,
   "metadata": {},
   "outputs": [
    {
     "data": {
      "text/plain": [
       "0"
      ]
     },
     "execution_count": 54,
     "metadata": {},
     "output_type": "execute_result"
    }
   ],
   "source": [
    "# Hitung class weights secara manual\n",
    "counter = Counter(y_train_mod)\n",
    "total = sum(counter.values())\n",
    "class_weights = {cls: total / (len(counter) * count) for cls, count in counter.items()}\n",
    "\n",
    "catb_model = CatBoostClassifier(verbose = 0)\n",
    "\n",
    "catb_model.fit(X_train_mod, y_train_mod)\n",
    "gc.collect()"
   ]
  },
  {
   "cell_type": "code",
   "execution_count": 55,
   "metadata": {},
   "outputs": [],
   "source": [
    "from sklearn.metrics import average_precision_score, classification_report, precision_recall_curve\n",
    "import matplotlib.pyplot as plt\n",
    "\n",
    "# Menyimpan semua pipeline dalam dictionary\n",
    "pipelines = {\n",
    "    \"Logistic Regression\": logreg_model,\n",
    "    \"Decission Tree\": dt_model, \n",
    "    \"Random Forest\": forest_model,\n",
    "    \"XGBoost\": xgb_model,\n",
    "    \"LightGBM\": lgbm_model,\n",
    "    \"CatBoost\": catb_model\n",
    "}"
   ]
  },
  {
   "cell_type": "code",
   "execution_count": 56,
   "metadata": {},
   "outputs": [],
   "source": [
    "def evaluate_model(model, X, y, dataset_name):\n",
    "    print(f\"📌 Evaluasi pada {dataset_name} Set \\n\")\n",
    "    \n",
    "    y_pred_proba = model.predict_proba(X)[:, 1]\n",
    "    ap_score = average_precision_score(y, y_pred_proba)\n",
    "\n",
    "    # Curve Param\n",
    "    precisions, recalls, thresholds = precision_recall_curve(y, y_pred_proba)\n",
    "    f1_scores = (2 * precisions * recalls) / (precisions + recalls + 1e-9)\n",
    "    best_threshold = thresholds[f1_scores.argmax()] if len(thresholds) > 0 else 0.5\n",
    "\n",
    "    y_pred = (y_pred_proba >= best_threshold).astype(int)\n",
    "    \n",
    "    print(f\"📊 Average Precision Score: {ap_score:.3f}\")\n",
    "    print(f\"🎯 Optimal Threshold: {best_threshold:.3f} \\n\")\n",
    "    \n",
    "    # Determine Category Model\n",
    "    if ap_score < 0.5:\n",
    "        print(\"❌ Model Underfit\")\n",
    "\n",
    "    elif 0.7 <= ap_score <= 0.99:\n",
    "        print(\"✅ Model Balanced (Bagus)\")\n",
    "        \n",
    "    elif ap_score == 1.0:\n",
    "        print(\"⚠️ Model Mungkin Overfit atau Ada Data Leakage!\")\n",
    "    \n",
    "    print(\"-\" * 50, \"\\n\")\n",
    "\n",
    "    return ap_score"
   ]
  },
  {
   "cell_type": "code",
   "execution_count": 57,
   "metadata": {},
   "outputs": [],
   "source": [
    "def evaluate_pipeline(pipelines, X_train, y_train, X_test, y_test):\n",
    "    best_model_info = None\n",
    "\n",
    "    for name, model in pipelines.items():\n",
    "        print(f\"🔹 Evaluasi Model: {name}\")\n",
    "        print('=' * 50)\n",
    "        \n",
    "        train_ap = evaluate_model(model, X_train, y_train, \"Training\")\n",
    "        test_ap = evaluate_model(model, X_test, y_test, \"Testing\")\n",
    "        \n",
    "        # Hitung selisih antara training dan testing APS\n",
    "        ap_diff = abs(train_ap - test_ap)\n",
    "        print(f\"🔢 Selisih APS (Train - Test): {ap_diff:.3f}\")\n",
    "        \n",
    "        # Kategorisasi berdasarkan selisih APS\n",
    "        if (ap_diff > 0.1) | (ap_diff == 0):\n",
    "            print(\"⚠️ Model Mungkin Overfit atau Ada Data Leakage!\")\n",
    "\n",
    "        elif ap_diff < 0.05:\n",
    "            print(\"✅ Model Stabil (Generalizable)\")\n",
    "            \n",
    "        else:\n",
    "            print(\"⚠️ Model Mungkin Butuh Tuning\")\n",
    "        \n",
    "        print('=' * 50, '\\n')\n",
    "\n",
    "        # Cek apakah model ini yang terbaik dengan syarat tambahan train_ap juga dalam rentang (0.5, 1) tanpa menyentuh 1.0\n",
    "        if 0.5 < train_ap < 0.999 and 0.5 < test_ap < 0.999:\n",
    "            if best_model_info is None or test_ap > best_model_info[\"ap_test\"] or (test_ap == best_model_info[\"ap_test\"] and ap_diff < best_model_info[\"score_diff\"]):\n",
    "                best_model_info = {\"name\": name, \"model\": model, \"ap_test\": test_ap, \"score_diff\": ap_diff}\n",
    "    \n",
    "    # Menampilkan model terbaik\n",
    "    if best_model_info:\n",
    "        print(f\"🏆 Model Terbaik: {best_model_info['name']} dengan AP Score Test: {best_model_info['ap_test']:.3f} \"\n",
    "              f\"dan perbedaan AP Score Train-Test: {best_model_info['score_diff']:.3f}\")\n",
    "        \n",
    "    else:\n",
    "        print(\"❌ Tidak ada model yang memenuhi kriteria.\")\n",
    "    \n",
    "    return best_model_info"
   ]
  },
  {
   "cell_type": "code",
   "execution_count": 58,
   "metadata": {},
   "outputs": [],
   "source": [
    "def evaluate_pipeline(pipelines, X_train, y_train, X_test, y_test):\n",
    "    \"\"\"Evaluasi semua pipeline dan menentukan model terbaik\"\"\"\n",
    "    best_model_info = None\n",
    "    model_results = {}\n",
    "\n",
    "    for name, model in pipelines.items():\n",
    "        print(f\"🔹 Evaluasi Model: {name}\")\n",
    "        print('=' * 50)\n",
    "        \n",
    "        train_ap = evaluate_model(model, X_train, y_train, \"Training\")\n",
    "        test_ap = evaluate_model(model, X_test, y_test, \"Testing\")\n",
    "        \n",
    "        ap_diff = abs(train_ap - test_ap)\n",
    "\n",
    "        print(f\"🔢 Selisih APS (Train - Test): {ap_diff:.3f}\")\n",
    "        \n",
    "        # Kategorisasi berdasarkan selisih APS\n",
    "        if (ap_diff > 0.1) | (ap_diff == 0):\n",
    "            print(\"⚠️ Model Mungkin Overfit atau Ada Data Leakage!\")\n",
    "\n",
    "        elif ap_diff < 0.05:\n",
    "            print(\"✅ Model Stabil (Generalizable)\")\n",
    "            \n",
    "        else:\n",
    "            print(\"⚠️ Model Mungkin Butuh Tuning\")\n",
    "        \n",
    "        print('=' * 50, '\\n')\n",
    "\n",
    "        model_results[name] = {\"model\": model, \"ap_test\": test_ap, \"score_diff\": ap_diff}\n",
    "\n",
    "        # Cek apakah model ini yang terbaik dengan syarat tambahan train_ap juga dalam rentang (0.5, 1) tanpa menyentuh 1.0\n",
    "        if 0.5 < train_ap < 0.999 and 0.5 < test_ap < 0.999:\n",
    "            if best_model_info is None or test_ap > best_model_info[\"ap_test\"] or (test_ap == best_model_info[\"ap_test\"] and ap_diff < best_model_info[\"score_diff\"]):\n",
    "                best_model_info = {\"name\": name, \"model\": model, \"ap_test\": test_ap, \"score_diff\": ap_diff}\n",
    "\n",
    "        print('=' * 50, '\\n')\n",
    "    \n",
    "    if best_model_info:\n",
    "        print(f\"🏆 Model Terbaik: {best_model_info['name']} dengan AP Score Test: {best_model_info['ap_test']:.3f}\")\n",
    "    else:\n",
    "        print(\"❌ Tidak ada model yang memenuhi kriteria.\")\n",
    "    \n",
    "    return best_model_info"
   ]
  },
  {
   "cell_type": "code",
   "execution_count": 59,
   "metadata": {},
   "outputs": [
    {
     "name": "stdout",
     "output_type": "stream",
     "text": [
      "🔹 Evaluasi Model: Logistic Regression\n",
      "==================================================\n",
      "📌 Evaluasi pada Training Set \n",
      "\n",
      "📊 Average Precision Score: 0.998\n",
      "🎯 Optimal Threshold: 0.478 \n",
      "\n",
      "-------------------------------------------------- \n",
      "\n",
      "📌 Evaluasi pada Testing Set \n",
      "\n",
      "📊 Average Precision Score: 0.963\n",
      "🎯 Optimal Threshold: 0.911 \n",
      "\n",
      "✅ Model Balanced (Bagus)\n",
      "-------------------------------------------------- \n",
      "\n",
      "🔢 Selisih APS (Train - Test): 0.036\n",
      "✅ Model Stabil (Generalizable)\n",
      "================================================== \n",
      "\n",
      "================================================== \n",
      "\n",
      "🔹 Evaluasi Model: Decission Tree\n",
      "==================================================\n",
      "📌 Evaluasi pada Training Set \n",
      "\n",
      "📊 Average Precision Score: 1.000\n",
      "🎯 Optimal Threshold: 1.000 \n",
      "\n",
      "⚠️ Model Mungkin Overfit atau Ada Data Leakage!\n",
      "-------------------------------------------------- \n",
      "\n",
      "📌 Evaluasi pada Testing Set \n",
      "\n",
      "📊 Average Precision Score: 1.000\n",
      "🎯 Optimal Threshold: 1.000 \n",
      "\n",
      "-------------------------------------------------- \n",
      "\n",
      "🔢 Selisih APS (Train - Test): 0.000\n",
      "✅ Model Stabil (Generalizable)\n",
      "================================================== \n",
      "\n",
      "================================================== \n",
      "\n",
      "🔹 Evaluasi Model: Random Forest\n",
      "==================================================\n",
      "📌 Evaluasi pada Training Set \n",
      "\n",
      "📊 Average Precision Score: 1.000\n",
      "🎯 Optimal Threshold: 0.920 \n",
      "\n",
      "⚠️ Model Mungkin Overfit atau Ada Data Leakage!\n",
      "-------------------------------------------------- \n",
      "\n",
      "📌 Evaluasi pada Testing Set \n",
      "\n",
      "📊 Average Precision Score: 1.000\n",
      "🎯 Optimal Threshold: 0.920 \n",
      "\n",
      "⚠️ Model Mungkin Overfit atau Ada Data Leakage!\n",
      "-------------------------------------------------- \n",
      "\n",
      "🔢 Selisih APS (Train - Test): 0.000\n",
      "⚠️ Model Mungkin Overfit atau Ada Data Leakage!\n",
      "================================================== \n",
      "\n",
      "================================================== \n",
      "\n",
      "🔹 Evaluasi Model: XGBoost\n",
      "==================================================\n",
      "📌 Evaluasi pada Training Set \n",
      "\n",
      "📊 Average Precision Score: 1.000\n",
      "🎯 Optimal Threshold: 0.999 \n",
      "\n",
      "⚠️ Model Mungkin Overfit atau Ada Data Leakage!\n",
      "-------------------------------------------------- \n",
      "\n",
      "📌 Evaluasi pada Testing Set \n",
      "\n",
      "📊 Average Precision Score: 1.000\n",
      "🎯 Optimal Threshold: 0.999 \n",
      "\n",
      "⚠️ Model Mungkin Overfit atau Ada Data Leakage!\n",
      "-------------------------------------------------- \n",
      "\n",
      "🔢 Selisih APS (Train - Test): 0.000\n",
      "⚠️ Model Mungkin Overfit atau Ada Data Leakage!\n",
      "================================================== \n",
      "\n",
      "================================================== \n",
      "\n",
      "🔹 Evaluasi Model: LightGBM\n",
      "==================================================\n",
      "📌 Evaluasi pada Training Set \n",
      "\n",
      "📊 Average Precision Score: 1.000\n",
      "🎯 Optimal Threshold: 1.000 \n",
      "\n",
      "⚠️ Model Mungkin Overfit atau Ada Data Leakage!\n",
      "-------------------------------------------------- \n",
      "\n",
      "📌 Evaluasi pada Testing Set \n",
      "\n",
      "📊 Average Precision Score: 1.000\n",
      "🎯 Optimal Threshold: 1.000 \n",
      "\n",
      "⚠️ Model Mungkin Overfit atau Ada Data Leakage!\n",
      "-------------------------------------------------- \n",
      "\n",
      "🔢 Selisih APS (Train - Test): 0.000\n",
      "⚠️ Model Mungkin Overfit atau Ada Data Leakage!\n",
      "================================================== \n",
      "\n",
      "================================================== \n",
      "\n",
      "🔹 Evaluasi Model: CatBoost\n",
      "==================================================\n",
      "📌 Evaluasi pada Training Set \n",
      "\n",
      "📊 Average Precision Score: 1.000\n",
      "🎯 Optimal Threshold: 0.480 \n",
      "\n",
      "⚠️ Model Mungkin Overfit atau Ada Data Leakage!\n",
      "-------------------------------------------------- \n",
      "\n",
      "📌 Evaluasi pada Testing Set \n",
      "\n",
      "📊 Average Precision Score: 1.000\n",
      "🎯 Optimal Threshold: 0.990 \n",
      "\n",
      "⚠️ Model Mungkin Overfit atau Ada Data Leakage!\n",
      "-------------------------------------------------- \n",
      "\n",
      "🔢 Selisih APS (Train - Test): 0.000\n",
      "⚠️ Model Mungkin Overfit atau Ada Data Leakage!\n",
      "================================================== \n",
      "\n",
      "================================================== \n",
      "\n",
      "🏆 Model Terbaik: Logistic Regression dengan AP Score Test: 0.963\n"
     ]
    }
   ],
   "source": [
    "# Panggil fungsi evaluasi\n",
    "best_model_info = evaluate_pipeline(pipelines, X_train_mod, y_train_mod, X_test_mod, y_test_mod)"
   ]
  },
  {
   "cell_type": "markdown",
   "metadata": {},
   "source": [
    "### Voting Methode"
   ]
  },
  {
   "cell_type": "code",
   "execution_count": 60,
   "metadata": {},
   "outputs": [],
   "source": [
    "from sklearn.ensemble import VotingClassifier\n",
    "from sklearn.metrics import average_precision_score, classification_report, precision_recall_curve\n",
    "\n",
    "# Membuat Voting Classifier dengan model terbaik\n",
    "voting_clf = VotingClassifier(\n",
    "    estimators = [\n",
    "        ('rf', forest_model),\n",
    "        ('dt', dt_model), \n",
    "        ('xgb', xgb_model),\n",
    "        ('lgbm', lgbm_model),\n",
    "        ('catb', catb_model)\n",
    "    ],\n",
    "    voting = 'soft'  # Menggunakan probabilitas\n",
    ")"
   ]
  },
  {
   "cell_type": "code",
   "execution_count": 61,
   "metadata": {},
   "outputs": [],
   "source": [
    "# Training Voting Classifier\n",
    "voting_clf.fit(X_train_mod, y_train_mod)\n",
    "\n",
    "# Evaluasi pada Test Set\n",
    "y_test_pred_proba_voting = voting_clf.predict_proba(X_test_mod)[:, 1]\n",
    "\n",
    "# Hitung Average Precision Score (AP Score) untuk Voting Classifier\n",
    "best_ap_voting = average_precision_score(y_test_mod, y_test_pred_proba_voting)"
   ]
  },
  {
   "cell_type": "code",
   "execution_count": 62,
   "metadata": {},
   "outputs": [
    {
     "name": "stdout",
     "output_type": "stream",
     "text": [
      "⚠️ AP Score Voting Classifier (1.000) berada di luar batas yang diizinkan, model ini diabaikan.\n"
     ]
    }
   ],
   "source": [
    "# Filter jika AP Score Voting Classifier tidak dalam rentang yang diinginkan\n",
    "if not (0.5 < best_ap_voting < 0.999):\n",
    "    print(f\"⚠️ AP Score Voting Classifier ({best_ap_voting:.3f}) berada di luar batas yang diizinkan, model ini diabaikan.\")\n",
    "    best_ap_voting = 0  # Abaikan model ini dari pemilihan final\n",
    "    \n",
    "else:\n",
    "    print(f\"📊 Average Precision Score (Voting Classifier): {best_ap_voting:.3f}\")\n",
    "\n",
    "    # Precision-Recall Curve\n",
    "    precisions, recalls, thresholds = precision_recall_curve(y_test_mod, y_test_pred_proba_voting)\n",
    "\n",
    "    # Cari threshold optimal\n",
    "    f1_scores = (2 * precisions * recalls) / (precisions + recalls + 1e-9)  # Hindari divisi oleh nol\n",
    "    best_threshold_voting = thresholds[f1_scores.argmax()] if len(thresholds) > 0 else 0.5\n",
    "    print(f\"🎯 Optimal Threshold: {best_threshold_voting:.3f}\")"
   ]
  },
  {
   "cell_type": "markdown",
   "metadata": {},
   "source": [
    "### Choosing Best Model"
   ]
  },
  {
   "cell_type": "code",
   "execution_count": 63,
   "metadata": {},
   "outputs": [
    {
     "name": "stdout",
     "output_type": "stream",
     "text": [
      "✅ Model Terbaik untuk CV: Logistic Regression dengan Average Precision Score: 0.963\n"
     ]
    }
   ],
   "source": [
    "# # Memilih model terbaik\n",
    "# best_model_info = evaluate_pipeline(pipelines, X_train_mod, y_train_mod, X_test_mod, y_test_mod)\n",
    "\n",
    "best_ap_test = best_model_info[\"ap_test\"] if best_model_info else 0\n",
    "best_model = best_model_info[\"model\"] if best_model_info else None\n",
    "best_model_name = best_model_info[\"name\"] if best_model_info else \"\"\n",
    "\n",
    "final_model = None\n",
    "final_model_name = \"\"\n",
    "final_score = 0\n",
    "\n",
    "if best_ap_voting > best_ap_test:\n",
    "    final_model = voting_clf\n",
    "    final_model_name = \"Voting Classifier\"\n",
    "    final_score = best_ap_voting\n",
    "    \n",
    "elif best_ap_test > 0:\n",
    "    final_model = best_model\n",
    "    final_model_name = best_model_name\n",
    "    final_score = best_ap_test\n",
    "\n",
    "# Menampilkan model terbaik\n",
    "if final_model is not None:\n",
    "    print(f\"✅ Model Terbaik untuk CV: {final_model_name} dengan Average Precision Score: {final_score:.3f}\")\n",
    "    \n",
    "else:\n",
    "    print(\"❌ Tidak ada model yang memenuhi syarat.\")"
   ]
  },
  {
   "cell_type": "markdown",
   "metadata": {},
   "source": [
    "## Finding Optimal CV"
   ]
  },
  {
   "cell_type": "code",
   "execution_count": 64,
   "metadata": {},
   "outputs": [
    {
     "name": "stdout",
     "output_type": "stream",
     "text": [
      "🔍 Mencari Nilai CV Optimal dengan StratifiedKFold...\n",
      "\n",
      "Evaluasi dengan cv = 3\n",
      "average_precision rata-rata: 0.998 (dengan cv = 3)\n",
      "\n",
      "Evaluasi dengan cv = 5\n",
      "average_precision rata-rata: 0.998 (dengan cv = 5)\n",
      "\n",
      "Evaluasi dengan cv = 7\n",
      "average_precision rata-rata: 0.998 (dengan cv = 7)\n",
      "\n",
      "Evaluasi dengan cv = 10\n",
      "average_precision rata-rata: 0.998 (dengan cv = 10)\n",
      "\n",
      "✅ Nilai CV Optimal: 5 dengan Average Precision: 0.998\n"
     ]
    }
   ],
   "source": [
    "# Daftar nilai CV yang ingin diuji\n",
    "cv_values = [3, 5, 7, 10]\n",
    "testing_best_cv = None\n",
    "testing_cv_score = 0\n",
    "\n",
    "print(\"🔍 Mencari Nilai CV Optimal dengan StratifiedKFold...\")\n",
    "\n",
    "for cv in cv_values:\n",
    "    print(f\"\\nEvaluasi dengan cv = {cv}\")\n",
    "    stratified_cv = StratifiedKFold(n_splits=cv, shuffle=True, random_state=42)\n",
    "    \n",
    "    scores = cross_val_score(final_model, X_train_mod, y_train_mod, \n",
    "                             cv=stratified_cv, scoring='average_precision', n_jobs=-1)\n",
    "    \n",
    "    mean_score = np.mean(scores)\n",
    "    print(f\"average_precision rata-rata: {mean_score:.3f} (dengan cv = {cv})\")\n",
    "    \n",
    "    if mean_score > testing_cv_score:\n",
    "        testing_cv_score = mean_score\n",
    "        testing_best_cv = cv\n",
    "\n",
    "print(f\"\\n✅ Nilai CV Optimal: {testing_best_cv} dengan Average Precision: {testing_cv_score:.3f}\")"
   ]
  },
  {
   "cell_type": "markdown",
   "metadata": {},
   "source": [
    "# Data Tuning"
   ]
  },
  {
   "cell_type": "markdown",
   "metadata": {},
   "source": [
    "## Model Tuning"
   ]
  },
  {
   "cell_type": "code",
   "execution_count": 65,
   "metadata": {},
   "outputs": [],
   "source": [
    "import warnings\n",
    "warnings.filterwarnings(\"ignore\", category = UserWarning)"
   ]
  },
  {
   "cell_type": "code",
   "execution_count": 66,
   "metadata": {},
   "outputs": [
    {
     "name": "stdout",
     "output_type": "stream",
     "text": [
      "Model yang digunakan: Logistic Regression\n"
     ]
    }
   ],
   "source": [
    "# 🔹 Validasi apakah model telah ditentukan\n",
    "if 'final_model_name' not in globals():\n",
    "    raise ValueError(\"final_model_name tidak ditemukan. Pastikan Anda telah memilih model.\")\n",
    "\n",
    "else: \n",
    "    print(f'Model yang digunakan: {final_model_name}')"
   ]
  },
  {
   "cell_type": "code",
   "execution_count": 67,
   "metadata": {},
   "outputs": [],
   "source": [
    "# ZeroDivisionError cases in train data\n",
    "if np.sum(y_train_mod == 1) == 0:\n",
    "    scale_pos_weight = 1\n",
    "    \n",
    "else:\n",
    "    scale_pos_weight = np.sum(y_train_mod == 0) / np.sum(y_train_mod == 1)\n",
    "\n",
    "# for validation\n",
    "X_train_mod, X_val_mod, y_train_mod, y_val_mod = train_test_split(\n",
    "    X_train_mod, \n",
    "    y_train_mod, \n",
    "    test_size = 0.2, \n",
    "    random_state = 42, \n",
    "    stratify = y_train_mod\n",
    ")"
   ]
  },
  {
   "cell_type": "code",
   "execution_count": 68,
   "metadata": {},
   "outputs": [],
   "source": [
    "# 🔹 Pilih parameter tuning sesuai dengan model yang dipilih\n",
    "param_dist_dict = {\n",
    "    \"Random Forest\": {\n",
    "        'n_estimators': [100, 300, 500, 1000],\n",
    "        'max_depth': [10, 20, 30, None],\n",
    "        'min_samples_split': [2, 5, 10, 20],\n",
    "        'min_samples_leaf': [1, 2, 5, 10],\n",
    "        'max_features': ['sqrt', 'log2', None],\n",
    "        'bootstrap': [True, False], \n",
    "        'class_weight': ['balanced', 'balanced_subsample', None]\n",
    "    },\n",
    "\n",
    "    \"Decision Tree\": {\n",
    "        'criterion': ['gini', 'entropy', 'log_loss'],\n",
    "        'splitter': ['best', 'random'],\n",
    "        'max_depth': [None, 10, 20, 30, 50],\n",
    "        'min_samples_split': [2, 5, 10, 20],\n",
    "        'min_samples_leaf': [1, 2, 5, 10],\n",
    "        'max_features': ['sqrt', 'log2', None], \n",
    "        'class_weight': ['balanced', None]\n",
    "    },\n",
    "\n",
    "    \"Logistic Regression\": {\n",
    "        'penalty': ['l1', 'l2', 'elasticnet'],  \n",
    "        'C': [0.001, 0.01, 0.1, 1, 10, 100],\n",
    "        'solver': ['saga'],  # Hanya 'saga' yang mendukung semua penalti\n",
    "        'max_iter': [100, 200, 500, 1000],\n",
    "        'l1_ratio': [0.1, 0.5, 0.9, 1],  # Khusus elasticnet\n",
    "        'class_weight': ['balanced', None]\n",
    "    },\n",
    "\n",
    "    \"XGBoost\": {\n",
    "        'n_estimators': [100, 200, 300, 500],\n",
    "        'learning_rate': [0.001, 0.01, 0.1, 0.2],\n",
    "        'max_depth': [3, 6, 10, 15],\n",
    "        'min_child_weight': [1, 3, 5, 7],\n",
    "        'subsample': [0.6, 0.8, 1.0],\n",
    "        'colsample_bytree': [0.6, 0.8, 1.0],\n",
    "        'gamma': [0, 0.1, 0.2, 0.5],\n",
    "        'reg_lambda': [0, 0.1, 1, 10],\n",
    "        'reg_alpha': [0, 0.1, 1, 10], \n",
    "        'scale_pos_weight': [scale_pos_weight]\n",
    "    },\n",
    "\n",
    "    \"LightGBM\": {\n",
    "        'num_leaves': [31, 50, 100, 150],\n",
    "        'learning_rate': [0.001, 0.01, 0.1, 0.2],\n",
    "        'n_estimators': [100, 200, 300, 500],\n",
    "        'max_depth': [-1, 10, 20, 30],\n",
    "        'min_child_samples': [10, 20, 50, 100],\n",
    "        'subsample': [0.6, 0.8, 1.0],\n",
    "        'colsample_bytree': [0.6, 0.8, 1.0],\n",
    "        'reg_lambda': [0, 0.1, 1, 10],\n",
    "        'reg_alpha': [0, 0.1, 1, 10], \n",
    "        'is_unbalance': [True, False], \n",
    "        'scale_pos_weight': [scale_pos_weight]\n",
    "    },\n",
    "\n",
    "    \"CatBoost\": {\n",
    "        'iterations': [100, 200, 300, 500],\n",
    "        'learning_rate': [0.001, 0.01, 0.1, 0.2],\n",
    "        'depth': [4, 6, 10, 12],\n",
    "        'l2_leaf_reg': [1, 3, 5, 10],\n",
    "        'bagging_temperature': [0.1, 0.5, 1, 2],\n",
    "        'border_count': [32, 64, 128],\n",
    "        'random_strength': [0.1, 0.5, 1, 2], \n",
    "        'auto_class_weights': ['Balanced', None]\n",
    "    }\n",
    "}"
   ]
  },
  {
   "cell_type": "code",
   "execution_count": 69,
   "metadata": {},
   "outputs": [
    {
     "name": "stdout",
     "output_type": "stream",
     "text": [
      "Total kombinasi parameter valid: 576\n"
     ]
    }
   ],
   "source": [
    "# \n",
    "if final_model_name in param_dist_dict:\n",
    "    param_dist = param_dist_dict[final_model_name]\n",
    "    \n",
    "else:\n",
    "    raise ValueError(f\"Model {final_model_name} tidak dikenali.\")\n",
    "\n",
    "# 🔹 Hitung jumlah kombinasi parameter\n",
    "if param_dist:\n",
    "    total_combinations = len(list(product(*param_dist.values())))\n",
    "    print(f\"Total kombinasi parameter valid: {total_combinations}\")\n",
    "    \n",
    "    param_combinations = min(100, total_combinations)\n",
    "    \n",
    "else:\n",
    "    raise ValueError(\"param_dist tidak boleh kosong.\")"
   ]
  },
  {
   "cell_type": "markdown",
   "metadata": {},
   "source": [
    "## Re-Training Data"
   ]
  },
  {
   "cell_type": "code",
   "execution_count": 70,
   "metadata": {},
   "outputs": [
    {
     "name": "stdout",
     "output_type": "stream",
     "text": [
      "\n",
      "🔍 Hyperparameter Terbaik (Logistic Regression): {'solver': 'saga', 'penalty': 'l2', 'max_iter': 1000, 'l1_ratio': 0.9, 'class_weight': 'balanced', 'C': 100}\n",
      "✅ Best Average Precision Score: 0.999\n"
     ]
    }
   ],
   "source": [
    "from sklearn.experimental import enable_halving_search_cv\n",
    "from sklearn.model_selection import HalvingRandomSearchCV\n",
    "\n",
    "# 🔍 Hyperparameter Tuning dengan HalvingRandomSearchCV\n",
    "skf = StratifiedKFold(n_splits = testing_best_cv, shuffle = True, random_state = 42)\n",
    "\n",
    "halving_search = HalvingRandomSearchCV(\n",
    "    final_model,\n",
    "    param_distributions = param_dist,\n",
    "    factor = 2,\n",
    "    scoring = 'average_precision',\n",
    "    cv=skf,\n",
    "    n_jobs = -1,\n",
    "    random_state = 42,\n",
    "    n_candidates = param_combinations,\n",
    "    error_score = \"raise\"\n",
    ")\n",
    "\n",
    "halving_search.fit(X_train_mod, y_train_mod)\n",
    "\n",
    "print(f\"\\n🔍 Hyperparameter Terbaik ({final_model_name}): {halving_search.best_params_}\")\n",
    "print(f\"✅ Best Average Precision Score: {halving_search.best_score_:.3f}\")\n",
    "\n",
    "optimal_cv = halving_search.best_estimator_\n",
    "\n",
    "if optimal_cv is None:\n",
    "    raise ValueError(\"⚠️ Model optimal belum ditemukan! Pastikan proses tuning berhasil sebelum evaluasi.\")"
   ]
  },
  {
   "cell_type": "markdown",
   "metadata": {},
   "source": [
    "## Final Evaluation"
   ]
  },
  {
   "cell_type": "code",
   "execution_count": 71,
   "metadata": {},
   "outputs": [
    {
     "name": "stdout",
     "output_type": "stream",
     "text": [
      "📊 Average Precision Score (Test): 0.960\n",
      "🔹 Best Threshold Used (Based on F1 Score): 0.840\n",
      "\n",
      "=== Classification Report ===\n",
      "              precision    recall  f1-score   support\n",
      "\n",
      "           0       1.00      0.99      1.00     84823\n",
      "           1       0.87      0.95      0.91      3554\n",
      "\n",
      "    accuracy                           0.99     88377\n",
      "   macro avg       0.93      0.97      0.95     88377\n",
      "weighted avg       0.99      0.99      0.99     88377\n",
      "\n"
     ]
    }
   ],
   "source": [
    "from sklearn.metrics import average_precision_score, classification_report, precision_recall_curve\n",
    "\n",
    "# # 🔹 Konversi ke NumPy untuk menghindari warning\n",
    "# X_test_mod = X_test_mod.to_numpy()\n",
    "\n",
    "# 🔹 Prediksi dengan Model Terbaik\n",
    "y_test_pred_proba = optimal_cv.predict_proba(X_test_mod)[:, 1]\n",
    "\n",
    "# 🔹 Menghitung Average Precision Score (AP Score)\n",
    "ap_score = average_precision_score(y_test_mod, y_test_pred_proba)\n",
    "print(f\"📊 Average Precision Score (Test): {ap_score:.3f}\")\n",
    "\n",
    "# 🔹 Mencari Threshold Optimal menggunakan Precision-Recall Curve\n",
    "precisions, recalls, thresholds = precision_recall_curve(y_test_mod, y_test_pred_proba)\n",
    "f1_scores = 2 * (precisions * recalls) / (precisions + recalls + 1e-9)  # Hindari pembagian oleh nol\n",
    "best_threshold = thresholds[f1_scores.argmax()] if len(thresholds) > 0 else 0.5\n",
    "\n",
    "# 🔹 Gunakan Threshold Optimal untuk Prediksi Akhir\n",
    "y_test_pred = (y_test_pred_proba >= best_threshold).astype(int)\n",
    "\n",
    "# 🔹 Informasi Threshold Optimal\n",
    "print(f\"🔹 Best Threshold Used (Based on F1 Score): {best_threshold:.3f}\")\n",
    "\n",
    "# 🔹 Classification Report\n",
    "print(\"\\n=== Classification Report ===\")\n",
    "print(classification_report(y_test_mod, y_test_pred))"
   ]
  },
  {
   "cell_type": "markdown",
   "metadata": {},
   "source": [
    "# Model Visualization"
   ]
  },
  {
   "cell_type": "code",
   "execution_count": 72,
   "metadata": {},
   "outputs": [
    {
     "data": {
      "image/png": "[encoded data removed]",
      "text/plain": [
       "<Figure size 1000x500 with 1 Axes>"
      ]
     },
     "metadata": {},
     "output_type": "display_data"
    }
   ],
   "source": [
    "import matplotlib.pyplot as plt\n",
    "import seaborn as sns\n",
    "from sklearn.metrics import precision_recall_curve, roc_curve\n",
    "\n",
    "# 🔹 Precision-Recall Curve\n",
    "plt.figure(figsize=(10, 5))\n",
    "\n",
    "precisions, recalls, thresholds = precision_recall_curve(y_test_mod, y_test_pred_proba)\n",
    "f1_scores = (2 * precisions * recalls) / (precisions + recalls + 1e-10)\n",
    "best_idx = np.argmax(f1_scores)\n",
    "\n",
    "plt.plot(recalls, precisions, marker='.', label=f'AP Score: {ap_score:.3f}', color='blue')\n",
    "plt.axhline(0.5, linestyle='dashed', color='gray', alpha=0.7)  # Garis referensi\n",
    "plt.scatter(recalls[best_idx], precisions[best_idx], color='red', label='Best F1-Point', zorder=3)\n",
    "\n",
    "plt.xlabel('Recall')\n",
    "plt.ylabel('Precision')\n",
    "plt.title('Precision-Recall Curve')\n",
    "\n",
    "plt.legend()\n",
    "plt.grid()\n",
    "plt.show()"
   ]
  },
  {
   "cell_type": "code",
   "execution_count": 73,
   "metadata": {},
   "outputs": [
    {
     "data": {
      "image/png": "[encoded data removed]",
      "text/plain": [
       "<Figure size 1000x500 with 1 Axes>"
      ]
     },
     "metadata": {},
     "output_type": "display_data"
    }
   ],
   "source": [
    "# 🔹 ROC Curve\n",
    "plt.figure(figsize=(10, 5))\n",
    "\n",
    "fpr, tpr, thresholds = roc_curve(y_test_mod, y_test_pred_proba)\n",
    "roc_auc_final = halving_search.best_score_\n",
    "best_roc_idx = np.argmax(tpr - fpr)  # Titik optimal\n",
    "\n",
    "plt.plot(fpr, tpr, marker='.', label=f'ROC-AUC: {roc_auc_final:.3f}', color='red')\n",
    "plt.plot([0, 1], [0, 1], linestyle='dashed', color='gray')  # Garis baseline\n",
    "plt.scatter(fpr[best_roc_idx], tpr[best_roc_idx], color='blue', label='Best ROC-Point', zorder=3)\n",
    "\n",
    "plt.xlabel('False Positive Rate')\n",
    "plt.ylabel('True Positive Rate')\n",
    "plt.title('ROC Curve')\n",
    "\n",
    "plt.legend()\n",
    "plt.grid()\n",
    "plt.show()"
   ]
  },
  {
   "cell_type": "code",
   "execution_count": 74,
   "metadata": {},
   "outputs": [
    {
     "data": {
      "image/png": "[encoded data removed]",
      "text/plain": [
       "<Figure size 1000x500 with 1 Axes>"
      ]
     },
     "metadata": {},
     "output_type": "display_data"
    }
   ],
   "source": [
    "# 🔹 Histogram Probabilitas Prediksi\n",
    "plt.figure(figsize=(10, 5))\n",
    "\n",
    "sns.histplot(y_test_pred_proba[y_test_mod == 0], bins=50, label='Non-Fraud', color='blue', alpha=0.6, kde=True)\n",
    "sns.histplot(y_test_pred_proba[y_test_mod == 1], bins=50, label='Fraud', color='red', alpha=0.6, kde=True)\n",
    "\n",
    "plt.axvline(best_threshold, color='black', linestyle='dashed', label=f'Threshold: {best_threshold:.3f}')\n",
    "plt.xlabel('Predicted Probability')\n",
    "plt.ylabel('Frequency')\n",
    "plt.yscale('log')  # Skala log jika distribusi sangat tidak seimbang\n",
    "plt.title('Distribution of Predicted Probabilities')\n",
    "\n",
    "plt.legend()\n",
    "plt.show()"
   ]
  },
  {
   "cell_type": "code",
   "execution_count": 75,
   "metadata": {},
   "outputs": [
    {
     "data": {
      "image/png": "[encoded data removed]",
      "text/plain": [
       "<Figure size 600x600 with 2 Axes>"
      ]
     },
     "metadata": {},
     "output_type": "display_data"
    }
   ],
   "source": [
    "from sklearn.metrics import f1_score, precision_score, recall_score\n",
    "\n",
    "# 🔹 Confusion Matrix dengan Metrik Evaluasi\n",
    "cm = confusion_matrix(y_test_mod, y_test_pred)\n",
    "precision = precision_score(y_test_mod, y_test_pred)\n",
    "recall = recall_score(y_test_mod, y_test_pred)\n",
    "f1 = f1_score(y_test_mod, y_test_pred)\n",
    "\n",
    "plt.figure(figsize=(6, 6))\n",
    "\n",
    "sns.heatmap(cm, annot=True, fmt='d', cmap='coolwarm', xticklabels=[\"Non-Fraud\", \"Fraud\"], yticklabels=[\"Non-Fraud\", \"Fraud\"])\n",
    "\n",
    "plt.xlabel('Predicted')\n",
    "plt.ylabel('Actual')\n",
    "plt.title(f'Confusion Matrix\\nPrecision: {precision:.3f}, Recall: {recall:.3f}, F1-score: {f1:.3f}')\n",
    "\n",
    "plt.show()"
   ]
  },
  {
   "cell_type": "markdown",
   "metadata": {},
   "source": [
    "# Save Model"
   ]
  },
  {
   "cell_type": "code",
   "execution_count": 76,
   "metadata": {},
   "outputs": [
    {
     "name": "stdout",
     "output_type": "stream",
     "text": [
      "Directory has already been created.\n"
     ]
    }
   ],
   "source": [
    "# Tentukan folder tujuan\n",
    "dir_name = 'datamart'\n",
    "folder_path = f\"../{dir_name}\"\n",
    "\n",
    "# Cek apakah folder sudah ada, jika belum buat foldernya\n",
    "if not os.path.exists(folder_path):\n",
    "    os.makedirs(folder_path)\n",
    "    \n",
    "    print(f\"Directory '{dir_name}' created successfully.\")\n",
    "\n",
    "else: \n",
    "    print(f'Directory has already been created.')"
   ]
  },
  {
   "cell_type": "code",
   "execution_count": 77,
   "metadata": {},
   "outputs": [
    {
     "name": "stdout",
     "output_type": "stream",
     "text": [
      "Model berhasil disimpan!\n"
     ]
    }
   ],
   "source": [
    "import joblib\n",
    "\n",
    "# parameter\n",
    "share = {**dotenv_values('../.env.shared')} \n",
    "\n",
    "# Simpan model terbaik ke file\n",
    "joblib.dump(final_model, share['FRAUD_DETECT'])\n",
    "\n",
    "print(\"Model berhasil disimpan!\")"
   ]
  }
 ],
 "metadata": {
  "kernelspec": {
   "display_name": "base",
   "language": "python",
   "name": "python3"
  },
  "language_info": {
   "codemirror_mode": {
    "name": "ipython",
    "version": 3
   },
   "file_extension": ".py",
   "mimetype": "text/x-python",
   "name": "python",
   "nbconvert_exporter": "python",
   "pygments_lexer": "ipython3",
   "version": "3.10.16"
  }
 },
 "nbformat": 4,
 "nbformat_minor": 2
}
