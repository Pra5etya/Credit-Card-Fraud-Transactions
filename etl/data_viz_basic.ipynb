{
 "cells": [
  {
   "cell_type": "markdown",
   "metadata": {},
   "source": [
    "# Library / Packages"
   ]
  },
  {
   "cell_type": "code",
   "execution_count": 1,
   "metadata": {},
   "outputs": [],
   "source": [
    "# basic library\n",
    "import os\n",
    "import pandas as pd\n",
    "import numpy as np\n",
    "import sys\n",
    "\n",
    "# graph\n",
    "import matplotlib.pyplot as plt\n",
    "import matplotlib.ticker as ticker\n",
    "import seaborn as sns\n",
    "\n",
    "# complex math\n",
    "from scipy import stats\n",
    "\n",
    "# pickle and .env\n",
    "from dotenv import dotenv_values\n",
    "import pickle"
   ]
  },
  {
   "cell_type": "markdown",
   "metadata": {},
   "source": [
    "# Format"
   ]
  },
  {
   "cell_type": "code",
   "execution_count": 2,
   "metadata": {},
   "outputs": [],
   "source": [
    "def lab_round(x, pos): \n",
    "    if abs(x) >= 1e9: \n",
    "        return f'{x/1e9} B'\n",
    "    \n",
    "    elif abs(x) >= 1e6:\n",
    "        return f'{x/1e6} M'\n",
    "    \n",
    "    elif abs(x) >= 1e3:\n",
    "        return f'{x/1e3} K'\n",
    "    \n",
    "    else:\n",
    "        return f'{x}'\n",
    "    \n",
    "def val_round(x):\n",
    "    if abs(x) >= 1e9:\n",
    "        return f'{x/1e9:.2f} B'\n",
    "    \n",
    "    elif abs(x) >= 1e6:\n",
    "        return f'{x/1e6:.2f} M'\n",
    "    \n",
    "    elif abs(x) >= 1e3:\n",
    "        return f'{x/1e3:.2f} K'\n",
    "    \n",
    "    else:\n",
    "        return f'{x:.2f}'"
   ]
  },
  {
   "cell_type": "markdown",
   "metadata": {},
   "source": [
    "# Data Source"
   ]
  },
  {
   "cell_type": "code",
   "execution_count": 3,
   "metadata": {},
   "outputs": [
    {
     "name": "stdout",
     "output_type": "stream",
     "text": [
      "<class 'pandas.core.frame.DataFrame'>\n",
      "RangeIndex: 294588 entries, 0 to 294587\n",
      "Data columns (total 18 columns):\n",
      " #   Column                     Non-Null Count   Dtype         \n",
      "---  ------                     --------------   -----         \n",
      " 0   credit_card                294588 non-null  int64         \n",
      " 1   datetime                   294588 non-null  datetime64[ns]\n",
      " 2   long                       294588 non-null  float64       \n",
      " 3   lat                        294588 non-null  float64       \n",
      " 4   zipcode                    294588 non-null  int64         \n",
      " 5   state                      294588 non-null  object        \n",
      " 6   city                       294588 non-null  object        \n",
      " 7   date                       294588 non-null  datetime64[ns]\n",
      " 8   year                       294588 non-null  int32         \n",
      " 9   quarter                    294588 non-null  object        \n",
      " 10  month                      294588 non-null  int32         \n",
      " 11  first_day_month            294588 non-null  datetime64[ns]\n",
      " 12  season                     294588 non-null  object        \n",
      " 13  week_cat                   294588 non-null  object        \n",
      " 14  day                        294588 non-null  object        \n",
      " 15  time                       294588 non-null  object        \n",
      " 16  credit_card_limit          294588 non-null  int64         \n",
      " 17  transaction_dollar_amount  294588 non-null  float64       \n",
      "dtypes: datetime64[ns](3), float64(3), int32(2), int64(3), object(7)\n",
      "memory usage: 38.2+ MB\n"
     ]
    }
   ],
   "source": [
    "# parameter\n",
    "share = {**dotenv_values('../.env.shared')} \n",
    "\n",
    "# read pickle\n",
    "with open(share['PREPARATION_DATA'], 'rb') as f:\n",
    "    loaded_data = pickle.load(f)\n",
    "\n",
    "cc_df = pd.DataFrame(loaded_data)\n",
    "cc_df.info()"
   ]
  },
  {
   "cell_type": "code",
   "execution_count": 4,
   "metadata": {},
   "outputs": [
    {
     "data": {
      "text/html": [
       "<div>\n",
       "<style scoped>\n",
       "    .dataframe tbody tr th:only-of-type {\n",
       "        vertical-align: middle;\n",
       "    }\n",
       "\n",
       "    .dataframe tbody tr th {\n",
       "        vertical-align: top;\n",
       "    }\n",
       "\n",
       "    .dataframe thead th {\n",
       "        text-align: right;\n",
       "    }\n",
       "</style>\n",
       "<table border=\"1\" class=\"dataframe\">\n",
       "  <thead>\n",
       "    <tr style=\"text-align: right;\">\n",
       "      <th></th>\n",
       "      <th>credit_card</th>\n",
       "      <th>datetime</th>\n",
       "      <th>long</th>\n",
       "      <th>lat</th>\n",
       "      <th>zipcode</th>\n",
       "      <th>state</th>\n",
       "      <th>city</th>\n",
       "      <th>date</th>\n",
       "      <th>year</th>\n",
       "      <th>quarter</th>\n",
       "      <th>month</th>\n",
       "      <th>first_day_month</th>\n",
       "      <th>season</th>\n",
       "      <th>week_cat</th>\n",
       "      <th>day</th>\n",
       "      <th>time</th>\n",
       "      <th>credit_card_limit</th>\n",
       "      <th>transaction_dollar_amount</th>\n",
       "    </tr>\n",
       "  </thead>\n",
       "  <tbody>\n",
       "    <tr>\n",
       "      <th>0</th>\n",
       "      <td>1003715054175576</td>\n",
       "      <td>2015-09-11 00:32:40</td>\n",
       "      <td>-80.174132</td>\n",
       "      <td>40.267370</td>\n",
       "      <td>15342</td>\n",
       "      <td>pa</td>\n",
       "      <td>houston</td>\n",
       "      <td>2015-09-11</td>\n",
       "      <td>2015</td>\n",
       "      <td>2015Q3</td>\n",
       "      <td>9</td>\n",
       "      <td>2015-09-01</td>\n",
       "      <td>dry</td>\n",
       "      <td>weekday</td>\n",
       "      <td>friday</td>\n",
       "      <td>00:32:40</td>\n",
       "      <td>20000</td>\n",
       "      <td>43.78</td>\n",
       "    </tr>\n",
       "    <tr>\n",
       "      <th>1</th>\n",
       "      <td>1003715054175576</td>\n",
       "      <td>2015-10-24 22:23:08</td>\n",
       "      <td>-80.194240</td>\n",
       "      <td>40.180114</td>\n",
       "      <td>15342</td>\n",
       "      <td>pa</td>\n",
       "      <td>houston</td>\n",
       "      <td>2015-10-24</td>\n",
       "      <td>2015</td>\n",
       "      <td>2015Q4</td>\n",
       "      <td>10</td>\n",
       "      <td>2015-10-01</td>\n",
       "      <td>rainy</td>\n",
       "      <td>weekend</td>\n",
       "      <td>saturday</td>\n",
       "      <td>22:23:08</td>\n",
       "      <td>20000</td>\n",
       "      <td>103.15</td>\n",
       "    </tr>\n",
       "    <tr>\n",
       "      <th>2</th>\n",
       "      <td>1003715054175576</td>\n",
       "      <td>2015-10-26 18:19:36</td>\n",
       "      <td>-80.211033</td>\n",
       "      <td>40.313004</td>\n",
       "      <td>15342</td>\n",
       "      <td>pa</td>\n",
       "      <td>houston</td>\n",
       "      <td>2015-10-26</td>\n",
       "      <td>2015</td>\n",
       "      <td>2015Q4</td>\n",
       "      <td>10</td>\n",
       "      <td>2015-10-01</td>\n",
       "      <td>rainy</td>\n",
       "      <td>weekday</td>\n",
       "      <td>monday</td>\n",
       "      <td>18:19:36</td>\n",
       "      <td>20000</td>\n",
       "      <td>48.55</td>\n",
       "    </tr>\n",
       "    <tr>\n",
       "      <th>3</th>\n",
       "      <td>1003715054175576</td>\n",
       "      <td>2015-10-22 19:41:10</td>\n",
       "      <td>-80.174138</td>\n",
       "      <td>40.290895</td>\n",
       "      <td>15342</td>\n",
       "      <td>pa</td>\n",
       "      <td>houston</td>\n",
       "      <td>2015-10-22</td>\n",
       "      <td>2015</td>\n",
       "      <td>2015Q4</td>\n",
       "      <td>10</td>\n",
       "      <td>2015-10-01</td>\n",
       "      <td>rainy</td>\n",
       "      <td>weekday</td>\n",
       "      <td>thursday</td>\n",
       "      <td>19:41:10</td>\n",
       "      <td>20000</td>\n",
       "      <td>136.18</td>\n",
       "    </tr>\n",
       "    <tr>\n",
       "      <th>4</th>\n",
       "      <td>1003715054175576</td>\n",
       "      <td>2015-10-26 20:08:22</td>\n",
       "      <td>-80.238720</td>\n",
       "      <td>40.166719</td>\n",
       "      <td>15342</td>\n",
       "      <td>pa</td>\n",
       "      <td>houston</td>\n",
       "      <td>2015-10-26</td>\n",
       "      <td>2015</td>\n",
       "      <td>2015Q4</td>\n",
       "      <td>10</td>\n",
       "      <td>2015-10-01</td>\n",
       "      <td>rainy</td>\n",
       "      <td>weekday</td>\n",
       "      <td>monday</td>\n",
       "      <td>20:08:22</td>\n",
       "      <td>20000</td>\n",
       "      <td>71.82</td>\n",
       "    </tr>\n",
       "  </tbody>\n",
       "</table>\n",
       "</div>"
      ],
      "text/plain": [
       "        credit_card            datetime       long        lat  zipcode state  \\\n",
       "0  1003715054175576 2015-09-11 00:32:40 -80.174132  40.267370    15342    pa   \n",
       "1  1003715054175576 2015-10-24 22:23:08 -80.194240  40.180114    15342    pa   \n",
       "2  1003715054175576 2015-10-26 18:19:36 -80.211033  40.313004    15342    pa   \n",
       "3  1003715054175576 2015-10-22 19:41:10 -80.174138  40.290895    15342    pa   \n",
       "4  1003715054175576 2015-10-26 20:08:22 -80.238720  40.166719    15342    pa   \n",
       "\n",
       "      city       date  year quarter  month first_day_month season week_cat  \\\n",
       "0  houston 2015-09-11  2015  2015Q3      9      2015-09-01    dry  weekday   \n",
       "1  houston 2015-10-24  2015  2015Q4     10      2015-10-01  rainy  weekend   \n",
       "2  houston 2015-10-26  2015  2015Q4     10      2015-10-01  rainy  weekday   \n",
       "3  houston 2015-10-22  2015  2015Q4     10      2015-10-01  rainy  weekday   \n",
       "4  houston 2015-10-26  2015  2015Q4     10      2015-10-01  rainy  weekday   \n",
       "\n",
       "        day      time  credit_card_limit  transaction_dollar_amount  \n",
       "0    friday  00:32:40              20000                      43.78  \n",
       "1  saturday  22:23:08              20000                     103.15  \n",
       "2    monday  18:19:36              20000                      48.55  \n",
       "3  thursday  19:41:10              20000                     136.18  \n",
       "4    monday  20:08:22              20000                      71.82  "
      ]
     },
     "execution_count": 4,
     "metadata": {},
     "output_type": "execute_result"
    }
   ],
   "source": [
    "cc_df.head()"
   ]
  },
  {
   "cell_type": "markdown",
   "metadata": {},
   "source": [
    "# Data Visualization"
   ]
  },
  {
   "cell_type": "markdown",
   "metadata": {},
   "source": [
    "## Basic Analyst"
   ]
  },
  {
   "cell_type": "markdown",
   "metadata": {},
   "source": [
    "### Descriptive Analyst"
   ]
  },
  {
   "cell_type": "code",
   "execution_count": 5,
   "metadata": {},
   "outputs": [
    {
     "data": {
      "text/html": [
       "<div>\n",
       "<style scoped>\n",
       "    .dataframe tbody tr th:only-of-type {\n",
       "        vertical-align: middle;\n",
       "    }\n",
       "\n",
       "    .dataframe tbody tr th {\n",
       "        vertical-align: top;\n",
       "    }\n",
       "\n",
       "    .dataframe thead th {\n",
       "        text-align: right;\n",
       "    }\n",
       "</style>\n",
       "<table border=\"1\" class=\"dataframe\">\n",
       "  <thead>\n",
       "    <tr style=\"text-align: right;\">\n",
       "      <th></th>\n",
       "      <th>credit_card_limit</th>\n",
       "      <th>transaction_dollar_amount</th>\n",
       "    </tr>\n",
       "  </thead>\n",
       "  <tbody>\n",
       "    <tr>\n",
       "      <th>count</th>\n",
       "      <td>294.59 K</td>\n",
       "      <td>294.59 K</td>\n",
       "    </tr>\n",
       "    <tr>\n",
       "      <th>mean</th>\n",
       "      <td>15.50 K</td>\n",
       "      <td>86.01</td>\n",
       "    </tr>\n",
       "    <tr>\n",
       "      <th>std</th>\n",
       "      <td>7.96 K</td>\n",
       "      <td>124.66</td>\n",
       "    </tr>\n",
       "    <tr>\n",
       "      <th>min</th>\n",
       "      <td>2.00 K</td>\n",
       "      <td>0.01</td>\n",
       "    </tr>\n",
       "    <tr>\n",
       "      <th>25%</th>\n",
       "      <td>10.00 K</td>\n",
       "      <td>29.97</td>\n",
       "    </tr>\n",
       "    <tr>\n",
       "      <th>50%</th>\n",
       "      <td>15.00 K</td>\n",
       "      <td>58.47</td>\n",
       "    </tr>\n",
       "    <tr>\n",
       "      <th>75%</th>\n",
       "      <td>20.00 K</td>\n",
       "      <td>100.40</td>\n",
       "    </tr>\n",
       "    <tr>\n",
       "      <th>max</th>\n",
       "      <td>55.00 K</td>\n",
       "      <td>999.97</td>\n",
       "    </tr>\n",
       "    <tr>\n",
       "      <th>mode</th>\n",
       "      <td>20.00 K</td>\n",
       "      <td>24.15</td>\n",
       "    </tr>\n",
       "    <tr>\n",
       "      <th>variance</th>\n",
       "      <td>63.30 M</td>\n",
       "      <td>15.54 K</td>\n",
       "    </tr>\n",
       "    <tr>\n",
       "      <th>range</th>\n",
       "      <td>53.00 K</td>\n",
       "      <td>999.96</td>\n",
       "    </tr>\n",
       "    <tr>\n",
       "      <th>IQR</th>\n",
       "      <td>14.94 K</td>\n",
       "      <td>14.94 K</td>\n",
       "    </tr>\n",
       "    <tr>\n",
       "      <th>Coefficient of Variation</th>\n",
       "      <td>0.51</td>\n",
       "      <td>1.45</td>\n",
       "    </tr>\n",
       "    <tr>\n",
       "      <th>Skewness</th>\n",
       "      <td>1.01</td>\n",
       "      <td>5.29</td>\n",
       "    </tr>\n",
       "    <tr>\n",
       "      <th>Kurtosis</th>\n",
       "      <td>1.45</td>\n",
       "      <td>31.85</td>\n",
       "    </tr>\n",
       "  </tbody>\n",
       "</table>\n",
       "</div>"
      ],
      "text/plain": [
       "                         credit_card_limit transaction_dollar_amount\n",
       "count                             294.59 K                  294.59 K\n",
       "mean                               15.50 K                     86.01\n",
       "std                                 7.96 K                    124.66\n",
       "min                                 2.00 K                      0.01\n",
       "25%                                10.00 K                     29.97\n",
       "50%                                15.00 K                     58.47\n",
       "75%                                20.00 K                    100.40\n",
       "max                                55.00 K                    999.97\n",
       "mode                               20.00 K                     24.15\n",
       "variance                           63.30 M                   15.54 K\n",
       "range                              53.00 K                    999.96\n",
       "IQR                                14.94 K                   14.94 K\n",
       "Coefficient of Variation              0.51                      1.45\n",
       "Skewness                              1.01                      5.29\n",
       "Kurtosis                              1.45                     31.85"
      ]
     },
     "execution_count": 5,
     "metadata": {},
     "output_type": "execute_result"
    }
   ],
   "source": [
    "# filter data for descriptive analyst\n",
    "#===============================\n",
    "descriptive_data = cc_df.select_dtypes(include = ['number'])\n",
    "\n",
    "exclude_col = ['credit_card', 'long', 'lat', 'zipcode', 'year', 'month']\n",
    "descriptive_data = descriptive_data.drop(columns = exclude_col, errors = 'ignore')\n",
    "\n",
    "# Deskripsi statistik\n",
    "#===============================\n",
    "description = descriptive_data.describe(include = 'all').map(val_round)\n",
    "\n",
    "mode = descriptive_data.mode().iloc[0].map(val_round)\n",
    "variance = descriptive_data.var().map(val_round)\n",
    "range_ = (descriptive_data.max() - descriptive_data.min()).map(val_round)\n",
    "iqr = stats.iqr(descriptive_data)\n",
    "coefficient_of_variation = (descriptive_data.std() / descriptive_data.mean()).map(val_round)\n",
    "skewness = descriptive_data.skew().map(val_round)\n",
    "kurtosis = descriptive_data.kurtosis().map(val_round)\n",
    "\n",
    "# add data into description descriptive\n",
    "#=======================================\n",
    "description.loc['mode'] = mode\n",
    "description.loc['variance'] = variance\n",
    "description.loc['range'] = range_\n",
    "description.loc['IQR'] = val_round(iqr)\n",
    "description.loc['Coefficient of Variation'] = coefficient_of_variation\n",
    "description.loc['Skewness'] = skewness\n",
    "description.loc['Kurtosis'] = kurtosis\n",
    "\n",
    "description"
   ]
  },
  {
   "cell_type": "markdown",
   "metadata": {},
   "source": [
    "### Data Distribution"
   ]
  },
  {
   "cell_type": "code",
   "execution_count": 6,
   "metadata": {},
   "outputs": [
    {
     "name": "stdout",
     "output_type": "stream",
     "text": [
      "Rows: 294.59 K, Columns: 18.00, then Dataset Category: SMALL DATASET!!!\n"
     ]
    }
   ],
   "source": [
    "rows = cc_df.shape[0]\n",
    "cols = cc_df.shape[1]\n",
    "\n",
    "if rows <= 5000 or cols <= 20:\n",
    "    category = \"Small Dataset\"\n",
    "\n",
    "elif rows <= 50000 or cols <= 100:\n",
    "    category = \"Medium Dataset\"\n",
    "\n",
    "elif rows <= 1000000 or cols <= 500:\n",
    "    category = \"Large Dataset\"\n",
    "\n",
    "elif rows <= 10000000 or cols <= 1000:\n",
    "    category = \"Very Large Dataset\"\n",
    "\n",
    "else:\n",
    "    category = \"Massive Dataset\"\n",
    "\n",
    "print(f'Rows: {val_round(rows)}, Columns: {val_round(cols)}, then Dataset Category: {category.upper()}!!!')"
   ]
  },
  {
   "cell_type": "markdown",
   "metadata": {},
   "source": [
    "#### Numeric Category"
   ]
  },
  {
   "cell_type": "markdown",
   "metadata": {},
   "source": [
    "##### Menguji Normalitas Data"
   ]
  },
  {
   "cell_type": "code",
   "execution_count": 7,
   "metadata": {},
   "outputs": [
    {
     "name": "stdout",
     "output_type": "stream",
     "text": [
      "Column: credit_card_limit \n",
      "\n",
      "Statistic: 4928.5428442920675\n",
      "Critical Value (5%): 0.787 \n",
      "\n",
      "Column credit_card_limit: Data tidak berdistribusi normal\n",
      "\n",
      "Column: transaction_dollar_amount \n",
      "\n",
      "Statistic: 37362.67249053239\n",
      "Critical Value (5%): 0.787 \n",
      "\n",
      "Column transaction_dollar_amount: Data tidak berdistribusi normal\n",
      "\n"
     ]
    }
   ],
   "source": [
    "# Anderson methode\n",
    "from scipy.stats import anderson\n",
    "\n",
    "# Pilih kolom numerik\n",
    "numeric_columns = ['credit_card_limit', 'transaction_dollar_amount']\n",
    "\n",
    "# Iterasi untuk setiap kolom\n",
    "for col in numeric_columns:\n",
    "    # Lakukan uji Anderson-Darling\n",
    "    result = anderson(cc_df[col], dist='norm')\n",
    "    \n",
    "    statistic_result = result.statistic\n",
    "    critical_values = result.critical_values\n",
    "    significance_levels = result.significance_level  # Tingkat signifikansi\n",
    "\n",
    "    # Ambil nilai kritis pada tingkat signifikansi 5%\n",
    "    critical_value_5_percent = critical_values[2]  # Indeks ke-2 untuk 5%\n",
    "    print(f\"Column: {col} \\n\")\n",
    "    print(f\"Statistic: {statistic_result}\")\n",
    "    print(f\"Critical Value (5%): {critical_value_5_percent} \\n\")\n",
    "    \n",
    "    # Bandingkan nilai statistik dengan nilai kritis\n",
    "    if statistic_result < critical_value_5_percent:\n",
    "        print(f\"Column {col}: Data berdistribusi normal\\n\")\n",
    "\n",
    "    else:\n",
    "        print(f\"Column {col}: Data tidak berdistribusi normal\\n\")"
   ]
  },
  {
   "cell_type": "code",
   "execution_count": 8,
   "metadata": {},
   "outputs": [
    {
     "name": "stdout",
     "output_type": "stream",
     "text": [
      "Column: credit_card_limit, \n",
      "Statistics = 44483.4911, p = 0.0000\n",
      "Column credit_card_limit: Data tidak berdistribusi normal\n",
      "\n",
      "Column: transaction_dollar_amount, \n",
      "Statistics = 300585.0700, p = 0.0000\n",
      "Column transaction_dollar_amount: Data tidak berdistribusi normal\n",
      "\n"
     ]
    }
   ],
   "source": [
    "# A'Agostino methode\n",
    "from scipy.stats import normaltest\n",
    "\n",
    "# Pilih kolom numerik\n",
    "numeric_columns = ['credit_card_limit', 'transaction_dollar_amount']\n",
    "\n",
    "# Iterasi untuk setiap kolom\n",
    "for col in numeric_columns:\n",
    "    stat, p = normaltest(cc_df[col])\n",
    "    print(f\"Column: {col}, \\nStatistics = {stat:.4f}, p = {p:.4f}\")\n",
    "\n",
    "    if p > 0.05:\n",
    "        print(f\"Column {col}: Data berdistribusi normal\\n\")\n",
    "    \n",
    "    else:\n",
    "        print(f\"Column {col}: Data tidak berdistribusi normal\\n\")"
   ]
  },
  {
   "cell_type": "markdown",
   "metadata": {},
   "source": [
    "##### Menguji Homogenitas Varians"
   ]
  },
  {
   "cell_type": "code",
   "execution_count": 9,
   "metadata": {},
   "outputs": [
    {
     "name": "stdout",
     "output_type": "stream",
     "text": [
      "Column: credit_card_limit, \n",
      "Statistics = 3.11, p = 0.08\n",
      "Column credit_card_limit: Varians antar kelompok homogen\n",
      "\n",
      "Column: transaction_dollar_amount, \n",
      "Statistics = 0.03, p = 0.87\n",
      "Column transaction_dollar_amount: Varians antar kelompok homogen\n",
      "\n"
     ]
    }
   ],
   "source": [
    "from scipy.stats import levene\n",
    "\n",
    "# Pilih kolom numerik\n",
    "numeric_columns = ['credit_card_limit', 'transaction_dollar_amount']\n",
    "\n",
    "# Iterasi untuk setiap kolom numerik\n",
    "for col in numeric_columns:\n",
    "    group1 = cc_df[cc_df['season'] == 'dry'][col]\n",
    "    group2 = cc_df[cc_df['season'] == 'rainy'][col]\n",
    "\n",
    "    stat, p = levene(group1, group2)\n",
    "    print(f\"Column: {col}, \\nStatistics = {stat:.2f}, p = {p:.2f}\")\n",
    "    \n",
    "    if p > 0.05:\n",
    "        print(f\"Column {col}: Varians antar kelompok homogen\\n\")\n",
    "        \n",
    "    else:\n",
    "        print(f\"Column {col}: Varians antar kelompok tidak homogen\\n\")\n"
   ]
  },
  {
   "cell_type": "markdown",
   "metadata": {},
   "source": [
    "##### Menguji Perbandingan Rata-rata"
   ]
  },
  {
   "cell_type": "code",
   "execution_count": 13,
   "metadata": {},
   "outputs": [
    {
     "name": "stdout",
     "output_type": "stream",
     "text": [
      "Column: credit_card_limit, \n",
      "Statistics = 7333333456.00, p = 0.48\n",
      "Column credit_card_limit: Tidak ada perbedaan signifikan\n",
      "\n",
      "Column: transaction_dollar_amount, \n",
      "Statistics = 7331999080.50, p = 0.53\n",
      "Column transaction_dollar_amount: Tidak ada perbedaan signifikan\n",
      "\n"
     ]
    }
   ],
   "source": [
    "from scipy.stats import mannwhitneyu\n",
    "\n",
    "# Pilih kolom numerik\n",
    "numeric_columns = ['credit_card_limit', 'transaction_dollar_amount']\n",
    "\n",
    "# Iterasi untuk setiap kolom numerik\n",
    "for col in numeric_columns:\n",
    "    # Membagi data berdasarkan kategori 'season' (dry dan rainy)\n",
    "    group1 = cc_df[cc_df['season'] == 'dry'][col]\n",
    "    group2 = cc_df[cc_df['season'] == 'rainy'][col]\n",
    "\n",
    "    # Lakukan Mann-Whitney U Test\n",
    "    stat, p = mannwhitneyu(group1, group2, alternative = 'two-sided')\n",
    "    \n",
    "    # Tampilkan hasil\n",
    "    print(f\"Column: {col}, \\nStatistics = {stat:.2f}, p = {p:.2f}\")\n",
    "    \n",
    "    if p > 0.05:\n",
    "        print(f\"Column {col}: Tidak ada perbedaan signifikan\\n\")\n",
    "    else:\n",
    "        print(f\"Column {col}: Ada perbedaan signifikan\\n\")\n"
   ]
  },
  {
   "cell_type": "markdown",
   "metadata": {},
   "source": [
    "### Histogram"
   ]
  },
  {
   "cell_type": "code",
   "execution_count": 14,
   "metadata": {},
   "outputs": [
    {
     "data": {
      "image/png": "[encoded data removed]",
      "text/plain": [
       "<Figure size 1000x500 with 2 Axes>"
      ]
     },
     "metadata": {},
     "output_type": "display_data"
    }
   ],
   "source": [
    "# Data\n",
    "hist_data = cc_df.select_dtypes(include = ['number'])\n",
    "\n",
    "exclude_col = ['credit_card', 'long', 'lat', 'zipcode', 'year', 'month']\n",
    "hist_data = hist_data.drop(columns = exclude_col, errors = 'ignore')\n",
    "\n",
    "# Set up subplot grid\n",
    "fig, ax = plt.subplots(nrows = 1, ncols = 2, figsize = (10, 5))\n",
    "\n",
    "# Flatten axes for easy iteration\n",
    "ax = ax.flatten()\n",
    "\n",
    "# Get number of columns in hist_data\n",
    "num_cols = len(hist_data.columns)\n",
    "\n",
    "# Generate colors from a colormap with enough colors for each subplot\n",
    "colors = sns.color_palette(\"rocket\", num_cols)\n",
    "\n",
    "# Plot each histogram\n",
    "for i, column in enumerate(hist_data.columns):\n",
    "    sns.histplot(hist_data[column], bins = 30, kde = True, color = colors[i], edgecolor = 'black', ax = ax[i])\n",
    "    ax[i].set_title(column)\n",
    "    ax[i].set_xlabel(column)\n",
    "    ax[i].set_ylabel('Frekuensi')\n",
    "\n",
    "    # Adding vertical line for mean\n",
    "    ax[i].axvline(x=hist_data[column].mean(), color = 'red', linestyle = '--', linewidth = 2)\n",
    "\n",
    "    # Add legend\n",
    "    ax[i].legend(['KDE', 'Mean'], loc = 'upper right')\n",
    "\n",
    "     # Applying format_number function to the ylabel\n",
    "    ax[i].xaxis.set_major_formatter(ticker.FuncFormatter(lab_round))\n",
    "    ax[i].yaxis.set_major_formatter(ticker.FuncFormatter(lab_round))\n",
    "    ax[i].grid(True)\n",
    "\n",
    "# Adjust layout\n",
    "plt.tight_layout()\n",
    "\n",
    "# Show plot\n",
    "plt.show()"
   ]
  },
  {
   "cell_type": "markdown",
   "metadata": {},
   "source": [
    "### Data Transformation"
   ]
  },
  {
   "cell_type": "code",
   "execution_count": null,
   "metadata": {},
   "outputs": [],
   "source": [
    "cc_df['log_transaction_dollar_ammount'] = np.log(cc_df['transaction_dollar_ammount'] + 1)"
   ]
  },
  {
   "cell_type": "markdown",
   "metadata": {},
   "source": [
    "### Outlier Check"
   ]
  },
  {
   "cell_type": "code",
   "execution_count": null,
   "metadata": {},
   "outputs": [],
   "source": []
  },
  {
   "cell_type": "markdown",
   "metadata": {},
   "source": [
    "#### Z-Score Methode\n",
    "A normal distribution is shown below and it is estimated that 68% of the data points lie between +/- 1 standard deviation. 95% of the data points lie between +/- 2 standard deviation 99.7% of the data points lie between +/- 3 standard deviation"
   ]
  },
  {
   "cell_type": "code",
   "execution_count": null,
   "metadata": {},
   "outputs": [],
   "source": [
    "cc_df.info()"
   ]
  },
  {
   "cell_type": "code",
   "execution_count": null,
   "metadata": {},
   "outputs": [],
   "source": [
    "# Data\n",
    "sample_columns = cc_df.select_dtypes(include = ['number'])\n",
    "\n",
    "exclude_col = ['credit_card', 'long', 'lat', 'zipcode', 'year', 'month']\n",
    "sample_columns = sample_columns.drop(columns = exclude_col, errors = 'ignore').columns \n",
    "\n",
    "sample_data = cc_df[sample_columns]\n",
    "\n",
    "# Set a threshold\n",
    "threshold = 2\n",
    "\n",
    "# Loop untuk memeriksa setiap kolom satu persatu\n",
    "for col in sample_columns:\n",
    "    # Data kolom\n",
    "    col_data = sample_data[col]\n",
    "\n",
    "    # Calculate Z-Score untuk kolom ini\n",
    "    z_scores = (col_data - col_data.mean()) / col_data.std()\n",
    "\n",
    "    # Filter out outliers\n",
    "    outliers = col_data[np.abs(z_scores) >= threshold]\n",
    "    non_outliers = col_data[np.abs(z_scores) < threshold]\n",
    "\n",
    "    # Menampilkan hasil secara terstruktur untuk setiap kolom\n",
    "    print(f\"--- {col} ---\")\n",
    "    print('=' * 40)\n",
    "    print(f\"Z-Score Summary:\")\n",
    "    print(f\"\\tMean: {z_scores.mean()}\")\n",
    "    print(f\"\\tStandard Deviation: {z_scores.std()} \\n\")\n",
    "    print(f\"Outliers Threshold: {threshold}\")\n",
    "    \n",
    "    # Menampilkan jumlah outliers dan non-outliers\n",
    "    print(f\"Outliers: {len(outliers)}\")\n",
    "    print(f\"Non-Outliers: {len(non_outliers)} \\n\")\n",
    "    \n",
    "    # Tampilkan beberapa outliers dan non-outliers\n",
    "    print(\"Sample of Outliers:\")\n",
    "    print(f\"{outliers.head()} \\n\")  # Tampilkan beberapa outliers\n",
    "\n",
    "    print(\"Sample of Non-Outliers:\")\n",
    "    print(f\"{non_outliers.head()} \\n\")  # Tampilkan beberapa non-outliers\n",
    "    print('=' * 40)\n",
    "    print(\"\\n\")  # Spasi antar kolom\n",
    "\n",
    "# Hasil akhir\n",
    "print(f\"Completed processing for all columns.\")"
   ]
  },
  {
   "cell_type": "markdown",
   "metadata": {},
   "source": [
    "#### IQR Methode"
   ]
  },
  {
   "cell_type": "code",
   "execution_count": null,
   "metadata": {},
   "outputs": [],
   "source": [
    "# Data\n",
    "box_data = cc_df.select_dtypes(include = ['number'])\n",
    "\n",
    "exclude_col = ['credit_card', 'long', 'lat', 'zipcode', 'year', 'month']\n",
    "box_data = box_data.drop(columns = exclude_col, errors = 'ignore')\n",
    "\n",
    "# Set up subplot grid\n",
    "fig, ax = plt.subplots(nrows = 1, ncols = 2, figsize = (10, 5))\n",
    "\n",
    "# Flatten axes for easy iteration\n",
    "ax = ax.flatten()\n",
    "\n",
    "# Get number of columns in hist_data\n",
    "num_cols = len(box_data.columns)\n",
    "\n",
    "# Generate colors from a colormap with enough colors for each subplot\n",
    "colors = sns.color_palette(\"rocket\", num_cols)\n",
    "\n",
    "# Create boxplots for each column\n",
    "for i, col in enumerate(box_data.columns):\n",
    "    sns.boxplot(y = col, data = box_data, ax = ax[i], color = colors[i])\n",
    "    ax[i].yaxis.set_major_formatter(ticker.FuncFormatter(lab_round))\n",
    "    ax[i].set_title(col)\n",
    "    ax[i].grid(axis = 'both')\n",
    "\n",
    "#\n",
    "plt.tight_layout()\n",
    "\n",
    "# Show plot\n",
    "plt.show()"
   ]
  },
  {
   "cell_type": "code",
   "execution_count": null,
   "metadata": {},
   "outputs": [],
   "source": [
    "# DataFrame columns to check for outliers\n",
    "columns_to_check = ['credit_card_limit', 'transaction_dollar_amount']\n",
    "\n",
    "# Function to calculate IQR and filter outliers\n",
    "def filter_outliers(df, columns):\n",
    "    while True:\n",
    "        outlier_indices = set()\n",
    "        \n",
    "        for col in columns:\n",
    "            Q1 = np.percentile(df[col], 25, method = 'midpoint')\n",
    "            Q3 = np.percentile(df[col], 75, method = 'midpoint')\n",
    "            IQR = Q3 - Q1\n",
    "            \n",
    "            upper_bound = Q3 + 1.5 * IQR\n",
    "            lower_bound = Q1 - 1.5 * IQR\n",
    "            \n",
    "            col_outliers = df[(df[col] >= upper_bound) | (df[col] <= lower_bound)].index\n",
    "            outlier_indices.update(col_outliers)\n",
    "        \n",
    "        # If no outliers are found, break the loop\n",
    "        if not outlier_indices:\n",
    "            break\n",
    "        \n",
    "        # Remove outliers\n",
    "        df.drop(index=outlier_indices, inplace=True)\n",
    "    \n",
    "    return df\n",
    "\n",
    "# Apply the function\n",
    "cc_df_cleaned = filter_outliers(cc_df.copy(), columns_to_check)\n",
    "\n",
    "# Display the old and new shape of the DataFrame\n",
    "print(f'Old Shape: {cc_df.shape}')\n",
    "print(f'New Shape: {cc_df_cleaned.shape}')"
   ]
  },
  {
   "cell_type": "code",
   "execution_count": null,
   "metadata": {},
   "outputs": [],
   "source": [
    "# # clean data\n",
    "# cc_df = cc_df_cleaned.copy()"
   ]
  },
  {
   "cell_type": "markdown",
   "metadata": {},
   "source": [
    "#### Re-Checking"
   ]
  },
  {
   "cell_type": "code",
   "execution_count": null,
   "metadata": {},
   "outputs": [],
   "source": [
    "# Data\n",
    "box_data = cc_df_cleaned.select_dtypes(include = ['number'])\n",
    "\n",
    "exclude_col = ['credit_card', 'long', 'lat', 'zipcode', 'year', 'month']\n",
    "box_data = box_data.drop(columns = exclude_col, errors = 'ignore')\n",
    "\n",
    "# Set up subplot grid\n",
    "fig, ax = plt.subplots(nrows = 1, ncols = 2, figsize = (10, 5))\n",
    "\n",
    "# Flatten axes for easy iteration\n",
    "ax = ax.flatten()\n",
    "\n",
    "# Get number of columns in hist_data\n",
    "num_cols = len(box_data.columns)\n",
    "\n",
    "# Generate colors from a colormap with enough colors for each subplot\n",
    "colors = sns.color_palette(\"rocket\", num_cols)\n",
    "\n",
    "# Create boxplots for each column\n",
    "for i, col in enumerate(box_data.columns):\n",
    "    sns.boxplot(y = col, data = box_data, ax = ax[i], color = colors[i])\n",
    "    ax[i].yaxis.set_major_formatter(ticker.FuncFormatter(lab_round))\n",
    "    ax[i].set_title(col)\n",
    "    ax[i].grid(axis = 'both')\n",
    "\n",
    "#\n",
    "plt.tight_layout()\n",
    "\n",
    "# Show plot\n",
    "plt.show()"
   ]
  },
  {
   "cell_type": "markdown",
   "metadata": {},
   "source": [
    "## Basic Visualization"
   ]
  }
 ],
 "metadata": {
  "kernelspec": {
   "display_name": "base",
   "language": "python",
   "name": "python3"
  },
  "language_info": {
   "codemirror_mode": {
    "name": "ipython",
    "version": 3
   },
   "file_extension": ".py",
   "mimetype": "text/x-python",
   "name": "python",
   "nbconvert_exporter": "python",
   "pygments_lexer": "ipython3",
   "version": "3.12.3"
  }
 },
 "nbformat": 4,
 "nbformat_minor": 2
}
