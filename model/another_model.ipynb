{
 "cells": [
  {
   "cell_type": "markdown",
   "metadata": {},
   "source": [
    "# Library / Packages"
   ]
  },
  {
   "cell_type": "code",
   "execution_count": 1,
   "metadata": {},
   "outputs": [],
   "source": [
    "# basic library\n",
    "import os\n",
    "import pandas as pd\n",
    "import numpy as np\n",
    "import sys\n",
    "\n",
    "\n",
    "# complex math\n",
    "from scipy import stats\n",
    "from scipy.stats import gaussian_kde\n",
    "\n",
    "# data preparation\n",
    "from sklearn.preprocessing import OrdinalEncoder, OneHotEncoder, LabelEncoder, FunctionTransformer\n",
    "from sklearn.preprocessing import StandardScaler, RobustScaler\n",
    "from sklearn.compose import ColumnTransformer \n",
    "\n",
    "# data blueprint\n",
    "from imblearn.pipeline import Pipeline\n",
    "from imblearn.over_sampling import SMOTE\n",
    "from imblearn.under_sampling import TomekLinks, RandomUnderSampler, NearMiss\n",
    "from imblearn.combine import SMOTETomek\n",
    "from sklearn.neighbors import NearestNeighbors\n",
    "\n",
    "# data modeling\n",
    "from sklearn.tree import DecisionTreeClassifier\n",
    "from sklearn.linear_model import LogisticRegression\n",
    "from sklearn.ensemble import RandomForestClassifier\n",
    "from xgboost import XGBClassifier\n",
    "from lightgbm import LGBMClassifier\n",
    "from catboost import CatBoostClassifier\n",
    "from sklearn.ensemble import VotingClassifier\n",
    "\n",
    "# data cross-validation\n",
    "from sklearn.model_selection import cross_val_score, StratifiedKFold\n",
    "\n",
    "# data metrics\n",
    "from sklearn.metrics import classification_report, roc_auc_score, precision_recall_curve, roc_curve, auc, confusion_matrix\n",
    "\n",
    "# data tuning   \n",
    "from itertools import product\n",
    "from sklearn.experimental import enable_halving_search_cv\n",
    "from sklearn.model_selection import HalvingRandomSearchCV\n",
    "from sklearn.calibration import CalibratedClassifierCV\n",
    "\n",
    "# visualization\n",
    "import matplotlib.pyplot as plt\n",
    "import matplotlib.ticker as ticker\n",
    "import seaborn as sns\n",
    "\n",
    "# pickle and .env\n",
    "from dotenv import dotenv_values\n",
    "import pickle"
   ]
  },
  {
   "cell_type": "markdown",
   "metadata": {},
   "source": [
    "# Format"
   ]
  },
  {
   "cell_type": "code",
   "execution_count": 2,
   "metadata": {},
   "outputs": [],
   "source": [
    "def lab_round(x, pos): \n",
    "    if abs(x) >= 1e9: \n",
    "        return f'{x/1e9} B'\n",
    "    \n",
    "    elif abs(x) >= 1e6:\n",
    "        return f'{x/1e6} M'\n",
    "    \n",
    "    elif abs(x) >= 1e3:\n",
    "        return f'{x/1e3} K'\n",
    "    \n",
    "    else:\n",
    "        return f'{x}'\n",
    "    \n",
    "def val_round(x):\n",
    "    if abs(x) >= 1e9:\n",
    "        return f'{x/1e9:.2f} B'\n",
    "    \n",
    "    elif abs(x) >= 1e6:\n",
    "        return f'{x/1e6:.2f} M'\n",
    "    \n",
    "    elif abs(x) >= 1e3:\n",
    "        return f'{x/1e3:.2f} K'\n",
    "    \n",
    "    else:\n",
    "        return f'{x:.2f}'"
   ]
  },
  {
   "cell_type": "code",
   "execution_count": 3,
   "metadata": {},
   "outputs": [],
   "source": [
    "pd.set_option('display.max_columns', None)"
   ]
  },
  {
   "cell_type": "code",
   "execution_count": 4,
   "metadata": {},
   "outputs": [],
   "source": [
    "# Fungsi untuk konversi tipe data\n",
    "def convert_object_columns_to_numeric(df):\n",
    "    for col in df.select_dtypes(include = ['object']).columns:  \n",
    "        try:\n",
    "            # Cek apakah semua nilai bisa dikonversi ke float\n",
    "            df[col] = pd.to_numeric(df[col], errors='raise')\n",
    "            \n",
    "            # Jika bisa, ubah ke int jika semua nilai adalah bilangan bulat\n",
    "            if all(df[col] % 1 == 0):  # Cek apakah semua nilai adalah bilangan bulat\n",
    "                df[col] = df[col].astype(int)\n",
    "\n",
    "        except ValueError:\n",
    "            pass  # Jika ada nilai non-angka, biarkan tetap object\n",
    "        \n",
    "    return df"
   ]
  },
  {
   "cell_type": "markdown",
   "metadata": {},
   "source": [
    "# Data Source"
   ]
  },
  {
   "cell_type": "code",
   "execution_count": 5,
   "metadata": {},
   "outputs": [
    {
     "name": "stdout",
     "output_type": "stream",
     "text": [
      "<class 'pandas.core.frame.DataFrame'>\n",
      "RangeIndex: 294588 entries, 0 to 294587\n",
      "Data columns (total 27 columns):\n",
      " #   Column                     Non-Null Count   Dtype         \n",
      "---  ------                     --------------   -----         \n",
      " 0   credit_card                294588 non-null  int64         \n",
      " 1   datetime                   294588 non-null  datetime64[ns]\n",
      " 2   long                       294588 non-null  float64       \n",
      " 3   lat                        294588 non-null  float64       \n",
      " 4   zipcode                    294588 non-null  int64         \n",
      " 5   state                      294588 non-null  object        \n",
      " 6   city                       294588 non-null  object        \n",
      " 7   date                       294588 non-null  object        \n",
      " 8   year                       294588 non-null  int32         \n",
      " 9   quarter                    294588 non-null  object        \n",
      " 10  month                      294588 non-null  object        \n",
      " 11  season                     294588 non-null  object        \n",
      " 12  week_cat                   294588 non-null  object        \n",
      " 13  day                        294588 non-null  object        \n",
      " 14  time                       294588 non-null  object        \n",
      " 15  limit_cat                  294588 non-null  object        \n",
      " 16  transaction_dollar_amount  294588 non-null  float64       \n",
      " 17  prev_time                  294588 non-null  datetime64[ns]\n",
      " 18  time_diff_hour             294588 non-null  float64       \n",
      " 19  prev_long                  294588 non-null  float64       \n",
      " 20  prev_lat                   294588 non-null  float64       \n",
      " 21  distance_km                294588 non-null  float64       \n",
      " 22  geo_cat                    294588 non-null  object        \n",
      " 23  speed_km/h                 294588 non-null  float64       \n",
      " 24  fraud                      294588 non-null  object        \n",
      " 25  cc_id                      294588 non-null  object        \n",
      " 26  trx_id                     294588 non-null  object        \n",
      "dtypes: datetime64[ns](2), float64(8), int32(1), int64(2), object(14)\n",
      "memory usage: 59.6+ MB\n"
     ]
    }
   ],
   "source": [
    "# parameter\n",
    "share = {**dotenv_values('../.env.shared')} \n",
    "\n",
    "# read pickle\n",
    "with open(share['CLEAN_DATA'], 'rb') as f:\n",
    "    loaded_data = pickle.load(f)\n",
    "\n",
    "cc_df = pd.DataFrame(loaded_data)\n",
    "cc_df.info()"
   ]
  },
  {
   "cell_type": "code",
   "execution_count": 6,
   "metadata": {},
   "outputs": [
    {
     "data": {
      "text/html": [
       "<div>\n",
       "<style scoped>\n",
       "    .dataframe tbody tr th:only-of-type {\n",
       "        vertical-align: middle;\n",
       "    }\n",
       "\n",
       "    .dataframe tbody tr th {\n",
       "        vertical-align: top;\n",
       "    }\n",
       "\n",
       "    .dataframe thead th {\n",
       "        text-align: right;\n",
       "    }\n",
       "</style>\n",
       "<table border=\"1\" class=\"dataframe\">\n",
       "  <thead>\n",
       "    <tr style=\"text-align: right;\">\n",
       "      <th></th>\n",
       "      <th>credit_card</th>\n",
       "      <th>datetime</th>\n",
       "      <th>long</th>\n",
       "      <th>lat</th>\n",
       "      <th>zipcode</th>\n",
       "      <th>state</th>\n",
       "      <th>city</th>\n",
       "      <th>date</th>\n",
       "      <th>year</th>\n",
       "      <th>quarter</th>\n",
       "      <th>month</th>\n",
       "      <th>season</th>\n",
       "      <th>week_cat</th>\n",
       "      <th>day</th>\n",
       "      <th>time</th>\n",
       "      <th>limit_cat</th>\n",
       "      <th>transaction_dollar_amount</th>\n",
       "      <th>prev_time</th>\n",
       "      <th>time_diff_hour</th>\n",
       "      <th>prev_long</th>\n",
       "      <th>prev_lat</th>\n",
       "      <th>distance_km</th>\n",
       "      <th>geo_cat</th>\n",
       "      <th>speed_km/h</th>\n",
       "      <th>fraud</th>\n",
       "      <th>cc_id</th>\n",
       "      <th>trx_id</th>\n",
       "    </tr>\n",
       "  </thead>\n",
       "  <tbody>\n",
       "    <tr>\n",
       "      <th>0</th>\n",
       "      <td>9484591448272784</td>\n",
       "      <td>2015-07-31 09:39:48</td>\n",
       "      <td>-90.045639</td>\n",
       "      <td>29.889039</td>\n",
       "      <td>70112</td>\n",
       "      <td>la</td>\n",
       "      <td>new orleans</td>\n",
       "      <td>2015-07-31</td>\n",
       "      <td>2015</td>\n",
       "      <td>2015Q3</td>\n",
       "      <td>july</td>\n",
       "      <td>summer</td>\n",
       "      <td>weekday</td>\n",
       "      <td>friday</td>\n",
       "      <td>09:39:48</td>\n",
       "      <td>very_low</td>\n",
       "      <td>17.99</td>\n",
       "      <td>2015-10-27 20:34:03</td>\n",
       "      <td>2122.90</td>\n",
       "      <td>-90.151504</td>\n",
       "      <td>29.945202</td>\n",
       "      <td>11.969568</td>\n",
       "      <td>normal</td>\n",
       "      <td>0.01</td>\n",
       "      <td>not_fraud</td>\n",
       "      <td>c0bd2e436754f0c0cf617f07fe414a53c77f054414bef5...</td>\n",
       "      <td>03d8403b902e633fa53a7ed677198817b7ede22d82878a...</td>\n",
       "    </tr>\n",
       "    <tr>\n",
       "      <th>1</th>\n",
       "      <td>7053196367895112</td>\n",
       "      <td>2015-07-31 11:03:48</td>\n",
       "      <td>-74.027561</td>\n",
       "      <td>40.689615</td>\n",
       "      <td>10001</td>\n",
       "      <td>ny</td>\n",
       "      <td>new york</td>\n",
       "      <td>2015-07-31</td>\n",
       "      <td>2015</td>\n",
       "      <td>2015Q3</td>\n",
       "      <td>july</td>\n",
       "      <td>summer</td>\n",
       "      <td>weekday</td>\n",
       "      <td>friday</td>\n",
       "      <td>11:03:48</td>\n",
       "      <td>low</td>\n",
       "      <td>12.09</td>\n",
       "      <td>2015-08-29 17:05:27</td>\n",
       "      <td>702.03</td>\n",
       "      <td>-73.927029</td>\n",
       "      <td>40.806511</td>\n",
       "      <td>15.511210</td>\n",
       "      <td>normal</td>\n",
       "      <td>0.02</td>\n",
       "      <td>not_fraud</td>\n",
       "      <td>6bc1eabaa718b568011f2db7bb19fa727b290bec27c0c6...</td>\n",
       "      <td>89c7abe7af1cc74fc4347eb6d1daf0067cbf17724a213a...</td>\n",
       "    </tr>\n",
       "    <tr>\n",
       "      <th>2</th>\n",
       "      <td>9528285469413252</td>\n",
       "      <td>2015-07-31 11:10:14</td>\n",
       "      <td>-72.139485</td>\n",
       "      <td>43.108100</td>\n",
       "      <td>3280</td>\n",
       "      <td>nh</td>\n",
       "      <td>washington</td>\n",
       "      <td>2015-07-31</td>\n",
       "      <td>2015</td>\n",
       "      <td>2015Q3</td>\n",
       "      <td>july</td>\n",
       "      <td>summer</td>\n",
       "      <td>weekday</td>\n",
       "      <td>friday</td>\n",
       "      <td>11:10:14</td>\n",
       "      <td>very_high</td>\n",
       "      <td>78.21</td>\n",
       "      <td>2015-10-14 19:06:04</td>\n",
       "      <td>1807.93</td>\n",
       "      <td>-72.064113</td>\n",
       "      <td>43.172281</td>\n",
       "      <td>9.404226</td>\n",
       "      <td>normal</td>\n",
       "      <td>0.01</td>\n",
       "      <td>not_fraud</td>\n",
       "      <td>9c79ad21c1ab496c84f27b8e09a636f9b9a8b4969f7f0f...</td>\n",
       "      <td>b7a80b37bbd86f65e3e6a26cc5ae8db68c3d47fc69a3ed...</td>\n",
       "    </tr>\n",
       "    <tr>\n",
       "      <th>3</th>\n",
       "      <td>1845720274833905</td>\n",
       "      <td>2015-07-31 11:28:55</td>\n",
       "      <td>-89.002148</td>\n",
       "      <td>40.804323</td>\n",
       "      <td>61738</td>\n",
       "      <td>il</td>\n",
       "      <td>el paso</td>\n",
       "      <td>2015-07-31</td>\n",
       "      <td>2015</td>\n",
       "      <td>2015Q3</td>\n",
       "      <td>july</td>\n",
       "      <td>summer</td>\n",
       "      <td>weekday</td>\n",
       "      <td>friday</td>\n",
       "      <td>11:28:55</td>\n",
       "      <td>medium</td>\n",
       "      <td>74.41</td>\n",
       "      <td>2015-08-29 19:33:54</td>\n",
       "      <td>704.08</td>\n",
       "      <td>-88.974492</td>\n",
       "      <td>40.720877</td>\n",
       "      <td>9.556419</td>\n",
       "      <td>normal</td>\n",
       "      <td>0.01</td>\n",
       "      <td>not_fraud</td>\n",
       "      <td>f771e1063c8978260b3655636549123e65e3f9387ea2cc...</td>\n",
       "      <td>7a004d78bea47a0faf56a07b3d8ccd04184ec5ce5dfc00...</td>\n",
       "    </tr>\n",
       "    <tr>\n",
       "      <th>4</th>\n",
       "      <td>7850942767136368</td>\n",
       "      <td>2015-07-31 11:38:51</td>\n",
       "      <td>-72.025675</td>\n",
       "      <td>43.210753</td>\n",
       "      <td>3280</td>\n",
       "      <td>nh</td>\n",
       "      <td>washington</td>\n",
       "      <td>2015-07-31</td>\n",
       "      <td>2015</td>\n",
       "      <td>2015Q3</td>\n",
       "      <td>july</td>\n",
       "      <td>summer</td>\n",
       "      <td>weekday</td>\n",
       "      <td>friday</td>\n",
       "      <td>11:38:51</td>\n",
       "      <td>very_low</td>\n",
       "      <td>54.89</td>\n",
       "      <td>2015-08-21 03:39:50</td>\n",
       "      <td>496.02</td>\n",
       "      <td>-72.125392</td>\n",
       "      <td>43.219223</td>\n",
       "      <td>8.157130</td>\n",
       "      <td>normal</td>\n",
       "      <td>0.02</td>\n",
       "      <td>not_fraud</td>\n",
       "      <td>72a3fc7c38f6ae7f9b1ff246c4800235a96033f107a7de...</td>\n",
       "      <td>1ba66260d1c4a998d3320ce73230d5061477caa5604e97...</td>\n",
       "    </tr>\n",
       "  </tbody>\n",
       "</table>\n",
       "</div>"
      ],
      "text/plain": [
       "        credit_card            datetime       long        lat  zipcode state  \\\n",
       "0  9484591448272784 2015-07-31 09:39:48 -90.045639  29.889039    70112    la   \n",
       "1  7053196367895112 2015-07-31 11:03:48 -74.027561  40.689615    10001    ny   \n",
       "2  9528285469413252 2015-07-31 11:10:14 -72.139485  43.108100     3280    nh   \n",
       "3  1845720274833905 2015-07-31 11:28:55 -89.002148  40.804323    61738    il   \n",
       "4  7850942767136368 2015-07-31 11:38:51 -72.025675  43.210753     3280    nh   \n",
       "\n",
       "          city        date  year quarter month  season week_cat     day  \\\n",
       "0  new orleans  2015-07-31  2015  2015Q3  july  summer  weekday  friday   \n",
       "1     new york  2015-07-31  2015  2015Q3  july  summer  weekday  friday   \n",
       "2   washington  2015-07-31  2015  2015Q3  july  summer  weekday  friday   \n",
       "3      el paso  2015-07-31  2015  2015Q3  july  summer  weekday  friday   \n",
       "4   washington  2015-07-31  2015  2015Q3  july  summer  weekday  friday   \n",
       "\n",
       "       time  limit_cat  transaction_dollar_amount           prev_time  \\\n",
       "0  09:39:48   very_low                      17.99 2015-10-27 20:34:03   \n",
       "1  11:03:48        low                      12.09 2015-08-29 17:05:27   \n",
       "2  11:10:14  very_high                      78.21 2015-10-14 19:06:04   \n",
       "3  11:28:55     medium                      74.41 2015-08-29 19:33:54   \n",
       "4  11:38:51   very_low                      54.89 2015-08-21 03:39:50   \n",
       "\n",
       "   time_diff_hour  prev_long   prev_lat  distance_km geo_cat  speed_km/h  \\\n",
       "0         2122.90 -90.151504  29.945202    11.969568  normal        0.01   \n",
       "1          702.03 -73.927029  40.806511    15.511210  normal        0.02   \n",
       "2         1807.93 -72.064113  43.172281     9.404226  normal        0.01   \n",
       "3          704.08 -88.974492  40.720877     9.556419  normal        0.01   \n",
       "4          496.02 -72.125392  43.219223     8.157130  normal        0.02   \n",
       "\n",
       "       fraud                                              cc_id  \\\n",
       "0  not_fraud  c0bd2e436754f0c0cf617f07fe414a53c77f054414bef5...   \n",
       "1  not_fraud  6bc1eabaa718b568011f2db7bb19fa727b290bec27c0c6...   \n",
       "2  not_fraud  9c79ad21c1ab496c84f27b8e09a636f9b9a8b4969f7f0f...   \n",
       "3  not_fraud  f771e1063c8978260b3655636549123e65e3f9387ea2cc...   \n",
       "4  not_fraud  72a3fc7c38f6ae7f9b1ff246c4800235a96033f107a7de...   \n",
       "\n",
       "                                              trx_id  \n",
       "0  03d8403b902e633fa53a7ed677198817b7ede22d82878a...  \n",
       "1  89c7abe7af1cc74fc4347eb6d1daf0067cbf17724a213a...  \n",
       "2  b7a80b37bbd86f65e3e6a26cc5ae8db68c3d47fc69a3ed...  \n",
       "3  7a004d78bea47a0faf56a07b3d8ccd04184ec5ce5dfc00...  \n",
       "4  1ba66260d1c4a998d3320ce73230d5061477caa5604e97...  "
      ]
     },
     "execution_count": 6,
     "metadata": {},
     "output_type": "execute_result"
    }
   ],
   "source": [
    "cc_df.head()"
   ]
  },
  {
   "cell_type": "markdown",
   "metadata": {},
   "source": [
    "## Data Distribution"
   ]
  },
  {
   "cell_type": "code",
   "execution_count": 7,
   "metadata": {},
   "outputs": [
    {
     "name": "stdout",
     "output_type": "stream",
     "text": [
      "Rows: 294.59 K, Columns: 27.00, then Dataset Category: LARGE DATASET!!!\n"
     ]
    }
   ],
   "source": [
    "rows = cc_df.shape[0]\n",
    "cols = cc_df.shape[1]\n",
    "\n",
    "if rows <= 5000 or cols <= 20:\n",
    "    category = \"Small Dataset\"\n",
    "\n",
    "elif rows <= 50000 and cols <= 100:\n",
    "    category = \"Medium Dataset\"\n",
    "\n",
    "elif rows <= 1000000 and cols <= 500:\n",
    "    category = \"Large Dataset\"\n",
    "\n",
    "elif rows <= 10000000 and cols <= 1000:\n",
    "    category = \"Very Large Dataset\"\n",
    "\n",
    "else:\n",
    "    category = \"Massive Dataset\"\n",
    "\n",
    "print(f'Rows: {val_round(rows)}, Columns: {val_round(cols)}, then Dataset Category: {category.upper()}!!!')"
   ]
  },
  {
   "cell_type": "markdown",
   "metadata": {},
   "source": [
    "## Check Imbalanced Data"
   ]
  },
  {
   "cell_type": "markdown",
   "metadata": {},
   "source": [
    "### Proportion"
   ]
  },
  {
   "cell_type": "code",
   "execution_count": 8,
   "metadata": {},
   "outputs": [
    {
     "name": "stdout",
     "output_type": "stream",
     "text": [
      "fraud\n",
      "not_fraud    282742\n",
      "fraud         11846\n",
      "Name: count, dtype: int64 \n",
      "\n",
      "fraud\n",
      "not_fraud    95.98\n",
      "fraud         4.02\n",
      "Name: proportion, dtype: float64\n"
     ]
    }
   ],
   "source": [
    "# Check proportion\n",
    "print(f'{cc_df[\"fraud\"].value_counts()} \\n')\n",
    "print(round(cc_df[\"fraud\"].value_counts(normalize = True) * 100, 2))"
   ]
  },
  {
   "cell_type": "markdown",
   "metadata": {},
   "source": [
    "### Imbalance Ratio"
   ]
  },
  {
   "cell_type": "code",
   "execution_count": 9,
   "metadata": {},
   "outputs": [
    {
     "name": "stdout",
     "output_type": "stream",
     "text": [
      "Imbalance Ratio (IR): 23.87\n"
     ]
    }
   ],
   "source": [
    "# \n",
    "minority_class = cc_df[\"fraud\"].value_counts().min()\n",
    "majority_class = cc_df[\"fraud\"].value_counts().max()\n",
    "\n",
    "# \n",
    "imbalance_ratio = majority_class / minority_class\n",
    "print(f\"Imbalance Ratio (IR): {imbalance_ratio:.2f}\")"
   ]
  },
  {
   "cell_type": "markdown",
   "metadata": {},
   "source": [
    "### Check Irrelevant Data"
   ]
  },
  {
   "cell_type": "markdown",
   "metadata": {},
   "source": [
    "#### Threshold Methode "
   ]
  },
  {
   "cell_type": "code",
   "execution_count": 10,
   "metadata": {},
   "outputs": [
    {
     "name": "stdout",
     "output_type": "stream",
     "text": [
      "numeric columns: Index(['credit_card', 'long', 'lat', 'zipcode', 'year',\n",
      "       'transaction_dollar_amount', 'time_diff_hour', 'prev_long', 'prev_lat',\n",
      "       'distance_km', 'speed_km/h'],\n",
      "      dtype='object')\n",
      "\n",
      "Fitur yang dipertahankan: Index(['credit_card', 'long', 'lat', 'zipcode', 'transaction_dollar_amount',\n",
      "       'time_diff_hour', 'prev_long', 'prev_lat', 'distance_km', 'speed_km/h'],\n",
      "      dtype='object')\n"
     ]
    }
   ],
   "source": [
    "from sklearn.feature_selection import VarianceThreshold\n",
    "\n",
    "# Drop kolom non-numerik\n",
    "df_numeric = cc_df.select_dtypes(include = ['number'])\n",
    "print(f'numeric columns: {df_numeric.columns}\\n')\n",
    "\n",
    "# Inisialisasi VarianceThreshold (misalnya, ambang batas 0.01)\n",
    "selector = VarianceThreshold(threshold = 0.01)\n",
    "df_var_selected = selector.fit_transform(df_numeric)\n",
    "\n",
    "# Fitur yang dipertahankan\n",
    "selected_features = df_numeric.columns[selector.get_support()]\n",
    "print(\"Fitur yang dipertahankan:\", selected_features)"
   ]
  },
  {
   "cell_type": "code",
   "execution_count": 11,
   "metadata": {},
   "outputs": [
    {
     "name": "stdout",
     "output_type": "stream",
     "text": [
      "Numeric column untuk modeling: Index(['transaction_dollar_amount', 'time_diff_hour', 'distance_km',\n",
      "       'speed_km/h'],\n",
      "      dtype='object')\n"
     ]
    }
   ],
   "source": [
    "# Seleceted numeric columns\n",
    "filter_numeric = ['long', 'lat', 'prev_long', 'prev_lat', 'credit_card', 'zipcode']\n",
    "selected_numeric = selected_features.drop(filter_numeric)\n",
    "\n",
    "#\n",
    "print(\"Numeric column untuk modeling:\", selected_numeric)"
   ]
  },
  {
   "cell_type": "markdown",
   "metadata": {},
   "source": [
    "#### Relevant Column"
   ]
  },
  {
   "cell_type": "code",
   "execution_count": 12,
   "metadata": {},
   "outputs": [
    {
     "name": "stdout",
     "output_type": "stream",
     "text": [
      "STATE \t: ['la' 'ny' 'nh' 'il' 'pa' 'nj' 'mo' 'md' 'ca' 'tx' 'me' 'vt' 'al' 'wv'\n",
      " 'pr' 'wa' 'nc' 'ga' 'ma' 'ok' 'mi' 'ut' 'fl' 'hi' 'ia' 'nm' 'oh' 'az'\n",
      " 'va' 'in' 'ri' 'id' 'co' 'ct' 'ks']\n",
      "-------------------------------------------------- \n",
      "\n",
      "CITY \t: ['new orleans' 'new york' 'washington' 'el paso' 'dallas' 'houston'\n",
      " 'birmingham' 'kansas city' 'austin' 'pasadena' 'los angeles' 'fort worth'\n",
      " 'jackson' 'pittsburgh' 'portland' 'albany' 'charlotte' 'huntsville'\n",
      " 'madison' 'orlando' 'san antonio' 'seattle' 'minneapolis' 'sacramento'\n",
      " 'san francisco' 'memphis' 'dayton' 'denver' 'milwaukee' 'omaha' 'trenton'\n",
      " 'springfield' 'phoenix' 'oklahoma city' 'charleston' 'miami' 'long beach'\n",
      " 'quitman' 'saint louis' 'friendship' 'chicago' 'salt lake city'\n",
      " 'richmond' 'pensacola' 'san diego' 'atlanta' 'honolulu' 'greensboro'\n",
      " 'newark' 'rochester' 'lafayette' 'columbus' 'staten island' 'des moines'\n",
      " 'las vegas' 'chester' 'cincinnati' 'hillsboro' 'tucson' 'buffalo'\n",
      " 'arlington' 'shreveport' 'philadelphia' 'tulsa' 'cleveland' 'saint paul'\n",
      " 'garfield' 'young america' 'clinton' 'amarillo' 'greenville' 'mobile'\n",
      " 'boise' 'monticello' 'indianapolis' 'cascade' 'williamsburg' 'raleigh'\n",
      " 'akron' 'huntington' 'troy' 'lake city' 'colorado springs' 'fresno'\n",
      " 'auburn' 'evansville' 'topeka' 'cedar rapids' 'louisville' 'knoxville'\n",
      " 'oakland' 'spokane' 'manchester' 'fort wayne' 'dover' 'tampa'\n",
      " 'garden grove' 'lexington' 'alexandria' 'tacoma' 'jamaica' 'scranton'\n",
      " 'hartford' 'columbia' 'gretna' 'san jose' 'aurora' 'jacksonville'\n",
      " 'somerset' 'new haven' 'newport' 'wilmington' 'boston' 'vallejo'\n",
      " 'fort lauderdale' 'bronx' 'wichita' 'lancaster' 'detroit' 'baltimore'\n",
      " 'montgomery' 'bristol' 'corpus christi' 'roanoke']\n",
      "-------------------------------------------------- \n",
      "\n",
      "DATE \t: ['2015-07-31' '2015-08-01' '2015-08-02' '2015-08-03' '2015-08-04'\n",
      " '2015-08-05' '2015-08-06' '2015-08-07' '2015-08-08' '2015-08-09'\n",
      " '2015-08-10' '2015-08-11' '2015-08-12' '2015-08-13' '2015-08-14'\n",
      " '2015-08-15' '2015-08-16' '2015-08-17' '2015-08-18' '2015-08-19'\n",
      " '2015-08-20' '2015-08-21' '2015-08-22' '2015-08-23' '2015-08-24'\n",
      " '2015-08-25' '2015-08-26' '2015-08-27' '2015-08-28' '2015-08-29'\n",
      " '2015-08-30' '2015-08-31' '2015-09-01' '2015-09-02' '2015-09-03'\n",
      " '2015-09-04' '2015-09-05' '2015-09-06' '2015-09-07' '2015-09-08'\n",
      " '2015-09-09' '2015-09-10' '2015-09-11' '2015-09-12' '2015-09-13'\n",
      " '2015-09-14' '2015-09-15' '2015-09-16' '2015-09-17' '2015-09-18'\n",
      " '2015-09-19' '2015-09-20' '2015-09-21' '2015-09-22' '2015-09-23'\n",
      " '2015-09-24' '2015-09-25' '2015-09-26' '2015-09-27' '2015-09-28'\n",
      " '2015-09-29' '2015-09-30' '2015-10-01' '2015-10-02' '2015-10-03'\n",
      " '2015-10-04' '2015-10-05' '2015-10-06' '2015-10-07' '2015-10-08'\n",
      " '2015-10-09' '2015-10-10' '2015-10-11' '2015-10-12' '2015-10-13'\n",
      " '2015-10-14' '2015-10-15' '2015-10-16' '2015-10-17' '2015-10-18'\n",
      " '2015-10-19' '2015-10-20' '2015-10-21' '2015-10-22' '2015-10-23'\n",
      " '2015-10-24' '2015-10-25' '2015-10-26' '2015-10-27' '2015-10-28'\n",
      " '2015-10-29' '2015-10-30']\n",
      "-------------------------------------------------- \n",
      "\n",
      "QUARTER \t: ['2015Q3' '2015Q4']\n",
      "-------------------------------------------------- \n",
      "\n",
      "MONTH \t: ['july' 'august' 'september' 'october']\n",
      "-------------------------------------------------- \n",
      "\n",
      "SEASON \t: ['summer' 'fall']\n",
      "-------------------------------------------------- \n",
      "\n",
      "WEEK_CAT \t: ['weekday' 'weekend']\n",
      "-------------------------------------------------- \n",
      "\n",
      "DAY \t: ['friday' 'saturday' 'sunday' 'monday' 'tuesday' 'wednesday' 'thursday']\n",
      "-------------------------------------------------- \n",
      "\n",
      "TIME \t: ['09:39:48' '11:03:48' '11:10:14' ... '06:03:21' '06:26:59' '10:54:58']\n",
      "-------------------------------------------------- \n",
      "\n",
      "LIMIT_CAT \t: ['very_low' 'low' 'very_high' 'medium' 'high']\n",
      "-------------------------------------------------- \n",
      "\n",
      "GEO_CAT \t: ['normal' 'anomaly']\n",
      "-------------------------------------------------- \n",
      "\n",
      "FRAUD \t: ['not_fraud' 'fraud']\n",
      "-------------------------------------------------- \n",
      "\n",
      "CC_ID \t: ['c0bd2e436754f0c0cf617f07fe414a53c77f054414bef510e9eabb09719040d7'\n",
      " '6bc1eabaa718b568011f2db7bb19fa727b290bec27c0c6095d2b2750fe3b9bbb'\n",
      " '9c79ad21c1ab496c84f27b8e09a636f9b9a8b4969f7f0f54b477a2245880b8a8' ...\n",
      " '1c7238048b4ee8c94a5c669f95a5ddcd62b5c1833622dc361ce58218c71fafcd'\n",
      " 'd1b48ff221117d43c2fb6d5a2c5c0441ac00647f0ed807bce149930ef581a8ed'\n",
      " '0aaa4ecfd5105d756e698ba96202cead13554444d1bb1a90a40f311577e96a6b']\n",
      "-------------------------------------------------- \n",
      "\n",
      "TRX_ID \t: ['03d8403b902e633fa53a7ed677198817b7ede22d82878a12fcf9c5cac3473a2f'\n",
      " '89c7abe7af1cc74fc4347eb6d1daf0067cbf17724a213aad9d10be81c18c79aa'\n",
      " 'b7a80b37bbd86f65e3e6a26cc5ae8db68c3d47fc69a3ed1483f51c594a4b9bbc' ...\n",
      " 'cf6e9113a3f6338f9c768ddaa6e04529ae1643b47b9a1c522cc3276a72d0476f'\n",
      " '50217bf04f075521ca67283beb93b63ed5dd2b4e5747a7cbeb526a0d21145b0c'\n",
      " '3eb907ea4d98166d60586b665a149505113a21974b7e7d42299feb1c2391afe2']\n",
      "-------------------------------------------------- \n",
      "\n"
     ]
    }
   ],
   "source": [
    "# Check Column Category\n",
    "check_cat = cc_df.select_dtypes(include = ['object'])\n",
    "\n",
    "for i in check_cat.columns:\n",
    "    unique_values = check_cat[i].unique()  # Mendapatkan nilai unik\n",
    "    unique_count = check_cat[i].nunique()  # Menghitung jumlah unik\n",
    "    print(f'{i.upper()} \\t: {unique_values}')\n",
    "    print(f'{\"-\" * 50} \\n')"
   ]
  },
  {
   "cell_type": "code",
   "execution_count": 13,
   "metadata": {},
   "outputs": [
    {
     "name": "stdout",
     "output_type": "stream",
     "text": [
      "Jumlah unik STATE \t: 35\n",
      "-------------------------------------------------- \n",
      "\n",
      "Jumlah unik CITY \t: 124\n",
      "-------------------------------------------------- \n",
      "\n",
      "Jumlah unik DATE \t: 92\n",
      "-------------------------------------------------- \n",
      "\n",
      "Jumlah unik TIME \t: 51419\n",
      "-------------------------------------------------- \n",
      "\n",
      "Jumlah unik CC_ID \t: 294588\n",
      "-------------------------------------------------- \n",
      "\n",
      "Jumlah unik TRX_ID \t: 294588\n",
      "-------------------------------------------------- \n",
      "\n"
     ]
    }
   ],
   "source": [
    "for i in check_cat.columns:\n",
    "    unique_count = check_cat[i].nunique()  # Menghitung jumlah nilai unik\n",
    "    \n",
    "    if unique_count > 10:  # Filter hanya kolom dengan nilai unik lebih dari 10\n",
    "        unique_values = check_cat[i].unique()  # Mendapatkan nilai unik\n",
    "        # print(f'{i.upper()} \\t: {unique_values}')\n",
    "        print(f'Jumlah unik {i.upper()} \\t: {unique_count}')\n",
    "        print(f'{\"-\" * 50} \\n')\n"
   ]
  },
  {
   "cell_type": "code",
   "execution_count": 14,
   "metadata": {},
   "outputs": [
    {
     "name": "stdout",
     "output_type": "stream",
     "text": [
      "objetc columns: Index(['state', 'city', 'date', 'quarter', 'month', 'season', 'week_cat',\n",
      "       'day', 'time', 'limit_cat', 'geo_cat', 'fraud', 'cc_id', 'trx_id'],\n",
      "      dtype='object')\n",
      "\n"
     ]
    }
   ],
   "source": [
    "# Drop kolom numerik\n",
    "df_obj = cc_df.select_dtypes(include = ['object'])\n",
    "print(f'objetc columns: {df_obj.columns}\\n')"
   ]
  },
  {
   "cell_type": "code",
   "execution_count": 15,
   "metadata": {},
   "outputs": [
    {
     "name": "stdout",
     "output_type": "stream",
     "text": [
      "Object column untuk modeling: Index(['city', 'limit_cat', 'fraud', 'geo_cat'], dtype='object')\n"
     ]
    }
   ],
   "source": [
    "# selected object columns\n",
    "filter_obj = ['city', 'limit_cat', 'fraud', 'geo_cat']\n",
    "selected_object = df_obj[filter_obj].columns\n",
    "\n",
    "#\n",
    "print(\"Object column untuk modeling:\", selected_object)"
   ]
  },
  {
   "cell_type": "code",
   "execution_count": 16,
   "metadata": {},
   "outputs": [
    {
     "data": {
      "text/html": [
       "<div>\n",
       "<style scoped>\n",
       "    .dataframe tbody tr th:only-of-type {\n",
       "        vertical-align: middle;\n",
       "    }\n",
       "\n",
       "    .dataframe tbody tr th {\n",
       "        vertical-align: top;\n",
       "    }\n",
       "\n",
       "    .dataframe thead th {\n",
       "        text-align: right;\n",
       "    }\n",
       "</style>\n",
       "<table border=\"1\" class=\"dataframe\">\n",
       "  <thead>\n",
       "    <tr style=\"text-align: right;\">\n",
       "      <th></th>\n",
       "      <th>transaction_dollar_amount</th>\n",
       "      <th>time_diff_hour</th>\n",
       "      <th>distance_km</th>\n",
       "      <th>speed_km/h</th>\n",
       "      <th>city</th>\n",
       "      <th>limit_cat</th>\n",
       "      <th>fraud</th>\n",
       "      <th>geo_cat</th>\n",
       "    </tr>\n",
       "  </thead>\n",
       "  <tbody>\n",
       "    <tr>\n",
       "      <th>0</th>\n",
       "      <td>17.99</td>\n",
       "      <td>2122.90</td>\n",
       "      <td>11.969568</td>\n",
       "      <td>0.01</td>\n",
       "      <td>new orleans</td>\n",
       "      <td>very_low</td>\n",
       "      <td>not_fraud</td>\n",
       "      <td>normal</td>\n",
       "    </tr>\n",
       "    <tr>\n",
       "      <th>1</th>\n",
       "      <td>12.09</td>\n",
       "      <td>702.03</td>\n",
       "      <td>15.511210</td>\n",
       "      <td>0.02</td>\n",
       "      <td>new york</td>\n",
       "      <td>low</td>\n",
       "      <td>not_fraud</td>\n",
       "      <td>normal</td>\n",
       "    </tr>\n",
       "    <tr>\n",
       "      <th>2</th>\n",
       "      <td>78.21</td>\n",
       "      <td>1807.93</td>\n",
       "      <td>9.404226</td>\n",
       "      <td>0.01</td>\n",
       "      <td>washington</td>\n",
       "      <td>very_high</td>\n",
       "      <td>not_fraud</td>\n",
       "      <td>normal</td>\n",
       "    </tr>\n",
       "    <tr>\n",
       "      <th>3</th>\n",
       "      <td>74.41</td>\n",
       "      <td>704.08</td>\n",
       "      <td>9.556419</td>\n",
       "      <td>0.01</td>\n",
       "      <td>el paso</td>\n",
       "      <td>medium</td>\n",
       "      <td>not_fraud</td>\n",
       "      <td>normal</td>\n",
       "    </tr>\n",
       "    <tr>\n",
       "      <th>4</th>\n",
       "      <td>54.89</td>\n",
       "      <td>496.02</td>\n",
       "      <td>8.157130</td>\n",
       "      <td>0.02</td>\n",
       "      <td>washington</td>\n",
       "      <td>very_low</td>\n",
       "      <td>not_fraud</td>\n",
       "      <td>normal</td>\n",
       "    </tr>\n",
       "  </tbody>\n",
       "</table>\n",
       "</div>"
      ],
      "text/plain": [
       "   transaction_dollar_amount  time_diff_hour  distance_km  speed_km/h  \\\n",
       "0                      17.99         2122.90    11.969568        0.01   \n",
       "1                      12.09          702.03    15.511210        0.02   \n",
       "2                      78.21         1807.93     9.404226        0.01   \n",
       "3                      74.41          704.08     9.556419        0.01   \n",
       "4                      54.89          496.02     8.157130        0.02   \n",
       "\n",
       "          city  limit_cat      fraud geo_cat  \n",
       "0  new orleans   very_low  not_fraud  normal  \n",
       "1     new york        low  not_fraud  normal  \n",
       "2   washington  very_high  not_fraud  normal  \n",
       "3      el paso     medium  not_fraud  normal  \n",
       "4   washington   very_low  not_fraud  normal  "
      ]
     },
     "execution_count": 16,
     "metadata": {},
     "output_type": "execute_result"
    }
   ],
   "source": [
    "# \n",
    "trans_col = selected_numeric.append(selected_object)\n",
    "\n",
    "# \n",
    "trans_col = cc_df[trans_col]\n",
    "trans_col.head()"
   ]
  },
  {
   "cell_type": "markdown",
   "metadata": {},
   "source": [
    "### Check Noise Data"
   ]
  },
  {
   "cell_type": "markdown",
   "metadata": {},
   "source": [
    "#### Boxplot"
   ]
  },
  {
   "cell_type": "code",
   "execution_count": 17,
   "metadata": {},
   "outputs": [
    {
     "data": {
      "image/png": "[encoded data removed]",
      "text/plain": [
       "<Figure size 1200x600 with 1 Axes>"
      ]
     },
     "metadata": {},
     "output_type": "display_data"
    }
   ],
   "source": [
    "plt.figure(figsize = (12,6))\n",
    "sns.boxplot(data = trans_col.select_dtypes(include = [\"number\"])) \n",
    "plt.show()"
   ]
  },
  {
   "cell_type": "markdown",
   "metadata": {},
   "source": [
    "#### Z-Score"
   ]
  },
  {
   "cell_type": "code",
   "execution_count": 18,
   "metadata": {},
   "outputs": [
    {
     "name": "stdout",
     "output_type": "stream",
     "text": [
      "Jumlah outlier yang terdeteksi: 14164 \n",
      "\n"
     ]
    }
   ],
   "source": [
    "import numpy as np\n",
    "import matplotlib.pyplot as plt\n",
    "import seaborn as sns\n",
    "from scipy.stats import zscore\n",
    "\n",
    "# Kolom numerik yang ingin dicek outliernya\n",
    "num_cols = [\"transaction_dollar_amount\", \"distance_km\", 'speed_km/h']\n",
    "\n",
    "# Hitung z-score\n",
    "z_scores = np.abs(zscore(trans_col[num_cols]))\n",
    "\n",
    "# Tandai data yang memiliki outlier\n",
    "outlier_mask = (z_scores > 3).any(axis=1)\n",
    "\n",
    "# Jumlah outlier sebelum Winsorization\n",
    "num_outliers_before = outlier_mask.sum()\n",
    "print(f\"Jumlah outlier yang terdeteksi: {num_outliers_before} \\n\")"
   ]
  },
  {
   "cell_type": "markdown",
   "metadata": {},
   "source": [
    "#### Winsorization"
   ]
  },
  {
   "cell_type": "code",
   "execution_count": 19,
   "metadata": {},
   "outputs": [
    {
     "name": "stdout",
     "output_type": "stream",
     "text": [
      "Jumlah outlier setelah Winsorization: 7940 \n",
      "\n"
     ]
    }
   ],
   "source": [
    "clip_percent = 3\n",
    "\n",
    "# Winsorization hanya untuk data \"not_fraud\"\n",
    "for col in num_cols:\n",
    "    lower = np.percentile(trans_col[trans_col[\"fraud\"] == \"not_fraud\"][col], clip_percent)\n",
    "    upper = np.percentile(trans_col[trans_col[\"fraud\"] == \"not_fraud\"][col], 100 - clip_percent)\n",
    "\n",
    "    trans_col.loc[trans_col[\"fraud\"] == \"not_fraud\", col] = np.clip(\n",
    "        trans_col.loc[trans_col[\"fraud\"] == \"not_fraud\", col], lower, upper\n",
    "    )\n",
    "\n",
    "# Cek apakah outlier masih ada setelah Winsorization\n",
    "z_scores_after = np.abs(zscore(trans_col[num_cols]))\n",
    "outlier_mask_after = (z_scores_after > 3).any(axis=1)\n",
    "\n",
    "num_outliers_after = outlier_mask_after.sum()\n",
    "print(f\"Jumlah outlier setelah Winsorization: {num_outliers_after} \\n\")"
   ]
  },
  {
   "cell_type": "code",
   "execution_count": 20,
   "metadata": {},
   "outputs": [
    {
     "data": {
      "image/png": "[encoded data removed]",
      "text/plain": [
       "<Figure size 1400x600 with 3 Axes>"
      ]
     },
     "metadata": {},
     "output_type": "display_data"
    }
   ],
   "source": [
    "# Visualisasi dengan subplot\n",
    "fig, axes = plt.subplots(1, 3, figsize=(14, 6))\n",
    "\n",
    "# Boxplot untuk transaction_dollar_amount\n",
    "sns.boxplot(x = \"fraud\", y = \"transaction_dollar_amount\", hue = \"fraud\", \n",
    "            data = trans_col, ax = axes[0], palette = \"Set2\", legend = False)\n",
    "\n",
    "axes[0].set_title(\"Distribusi Transaction Dollar Amount Berdasarkan Fraud Status\")\n",
    "axes[0].set_ylabel(\"Transaction Dollar Amount\")\n",
    "axes[0].set_xlabel(\"Fraud Status\")\n",
    "axes[0].grid(axis = \"y\", linestyle = \"--\", alpha = 0.7)\n",
    "\n",
    "# Boxplot untuk distance\n",
    "sns.boxplot(x = \"fraud\", y = \"distance_km\", hue = \"fraud\", \n",
    "            data = trans_col, ax = axes[1], palette = \"Set2\", legend = False)\n",
    "\n",
    "axes[1].set_title(\"Distribusi Distance Berdasarkan Fraud Status\")\n",
    "axes[1].set_ylabel(\"Distance\")\n",
    "axes[1].set_xlabel(\"Fraud Status\")\n",
    "axes[1].grid(axis = \"y\", linestyle = \"--\", alpha = 0.7)\n",
    "\n",
    "# Boxplot untuk speed_km/h\n",
    "sns.boxplot(x = \"fraud\", y = \"speed_km/h\", hue = \"fraud\", \n",
    "            data = trans_col, ax = axes[2], palette = \"Set2\", legend = False)\n",
    "\n",
    "axes[2].set_title(\"Distribusi Speed Berdasarkan Fraud Status\")\n",
    "axes[2].set_ylabel(\"Speed\")\n",
    "axes[2].set_xlabel(\"Fraud Status\")\n",
    "axes[2].grid(axis = \"y\", linestyle = \"--\", alpha = 0.7)\n",
    "\n",
    "# Tambahkan anotasi jumlah outlier\n",
    "for ax in axes:\n",
    "    ax.annotate(f\"Outlier Sebelum: {num_outliers_before}\", xy = (0.5, 0.95), xycoords = \"axes fraction\", \n",
    "                ha = \"center\", fontsize = 10, color = \"red\", fontweight = \"bold\")\n",
    "    \n",
    "    ax.annotate(f\"Outlier Setelah: {num_outliers_after}\", xy = (0.5, 0.90), xycoords = \"axes fraction\", \n",
    "                ha = \"center\", fontsize = 10, color = \"green\", fontweight = \"bold\")\n",
    "\n",
    "plt.tight_layout()\n",
    "plt.show()"
   ]
  },
  {
   "cell_type": "markdown",
   "metadata": {},
   "source": [
    "# Data Transformation"
   ]
  },
  {
   "cell_type": "code",
   "execution_count": 21,
   "metadata": {},
   "outputs": [
    {
     "name": "stdout",
     "output_type": "stream",
     "text": [
      "Proporsi Label Setelah Preprocessing: \n",
      "==================================================\n",
      "fraud\n",
      "not_fraud    95.978791\n",
      "fraud         4.021209\n",
      "Name: proportion, dtype: float64 \n",
      "\n",
      "fraud\n",
      "not_fraud    282742\n",
      "fraud         11846\n",
      "Name: count, dtype: int64\n"
     ]
    }
   ],
   "source": [
    "# Ensure Data Consistency (before after same after winsorization)\n",
    "print(\"Proporsi Label Setelah Preprocessing: \")\n",
    "print(\"=\" * 50)\n",
    "\n",
    "print(trans_col[\"fraud\"].value_counts(normalize = True) * 100, '\\n')\n",
    "print(trans_col[\"fraud\"].value_counts())"
   ]
  },
  {
   "cell_type": "code",
   "execution_count": 22,
   "metadata": {},
   "outputs": [
    {
     "name": "stdout",
     "output_type": "stream",
     "text": [
      "Imbalance Ratio (IR): 23.87\n"
     ]
    }
   ],
   "source": [
    "# \n",
    "minority_class = cc_df[\"fraud\"].value_counts().min()\n",
    "majority_class = cc_df[\"fraud\"].value_counts().max()\n",
    "\n",
    "# \n",
    "imbalance_ratio = majority_class / minority_class\n",
    "print(f\"Imbalance Ratio (IR): {imbalance_ratio:.2f}\")"
   ]
  },
  {
   "cell_type": "code",
   "execution_count": 23,
   "metadata": {},
   "outputs": [
    {
     "name": "stdout",
     "output_type": "stream",
     "text": [
      "fraud\n",
      "not_fraud    95.98\n",
      "fraud         4.02\n",
      "Name: proportion, dtype: float64 \n",
      "\n",
      "fraud\n",
      "not_fraud    282742\n",
      "fraud         11846\n",
      "Name: count, dtype: int64\n"
     ]
    }
   ],
   "source": [
    "# remove NaN from target\n",
    "trans_df = trans_col.dropna(subset = ['fraud'])\n",
    "\n",
    "# check value\n",
    "print(round(trans_df[\"fraud\"].value_counts(normalize = True) * 100, 2), \"\\n\")\n",
    "print(trans_df[\"fraud\"].value_counts())"
   ]
  },
  {
   "cell_type": "markdown",
   "metadata": {},
   "source": [
    "## Split Data"
   ]
  },
  {
   "cell_type": "code",
   "execution_count": 24,
   "metadata": {},
   "outputs": [
    {
     "name": "stdout",
     "output_type": "stream",
     "text": [
      "<class 'pandas.core.frame.DataFrame'>\n",
      "RangeIndex: 294588 entries, 0 to 294587\n",
      "Data columns (total 7 columns):\n",
      " #   Column                     Non-Null Count   Dtype  \n",
      "---  ------                     --------------   -----  \n",
      " 0   transaction_dollar_amount  294588 non-null  float64\n",
      " 1   time_diff_hour             294588 non-null  float64\n",
      " 2   distance_km                294588 non-null  float64\n",
      " 3   speed_km/h                 294588 non-null  float64\n",
      " 4   city                       294588 non-null  object \n",
      " 5   limit_cat                  294588 non-null  object \n",
      " 6   geo_cat                    294588 non-null  object \n",
      "dtypes: float64(4), object(3)\n",
      "memory usage: 15.7+ MB\n"
     ]
    }
   ],
   "source": [
    "from sklearn.model_selection import train_test_split\n",
    "\n",
    "# split data\n",
    "X = trans_df.drop(columns = [\"fraud\"]).copy()\n",
    "y = trans_df[\"fraud\"].copy()\n",
    "\n",
    "# \n",
    "X.info()"
   ]
  },
  {
   "cell_type": "code",
   "execution_count": 25,
   "metadata": {},
   "outputs": [
    {
     "name": "stdout",
     "output_type": "stream",
     "text": [
      "==================================================\n",
      "Data has been split!!! \n",
      "\n",
      "Train set size: 206211\n",
      "Test set size: 88377\n",
      "==================================================\n"
     ]
    }
   ],
   "source": [
    "# Split data sebelum preprocessing\n",
    "X_train, X_test, y_train, y_test = train_test_split(X, y, test_size = 0.3, random_state = 42, stratify = y)\n",
    "\n",
    "# Konversi target ke numeric (setelah split)\n",
    "y_train = y_train.map({\"not_fraud\": 0, \"fraud\": 1})\n",
    "y_test = y_test.map({\"not_fraud\": 0, \"fraud\": 1})\n",
    "\n",
    "# Menampilkan informasi dataset\n",
    "print(\"=\" * 50)\n",
    "print(\"Data has been split!!! \\n\")\n",
    "print(f\"Train set size: {X_train.shape[0]}\")\n",
    "print(f\"Test set size: {X_test.shape[0]}\")\n",
    "print(\"=\" * 50)"
   ]
  },
  {
   "cell_type": "markdown",
   "metadata": {},
   "source": [
    "### Grouping Category"
   ]
  },
  {
   "cell_type": "code",
   "execution_count": 26,
   "metadata": {},
   "outputs": [
    {
     "name": "stdout",
     "output_type": "stream",
     "text": [
      "Ordinal Columns: \t ['limit_cat']\n",
      "One-Hot Columns: \t ['geo_cat']\n",
      "Label Columns: \t\t ['city']\n",
      "Numeric Columns: \t ['transaction_dollar_amount', 'time_diff_hour', 'distance_km', 'speed_km/h']\n"
     ]
    }
   ],
   "source": [
    "# Daftar kolom untuk label encoding (kolom ordinal)\n",
    "ordinal_set = {'limit_cat'}\n",
    "\n",
    "# Inisialisasi list untuk menyimpan kolom yang telah dikelompokkan\n",
    "ordinal_cols, ohe_cols, label_cols, numeric_cols = [], [], [], []\n",
    "\n",
    "for col in X.columns:\n",
    "    if X[col].dtype in ['int64', 'float64']:\n",
    "        numeric_cols.append(col)\n",
    "\n",
    "    elif X[col].dtype == 'object' or X[col].dtype.name == \"category\":\n",
    "        unique_count = X[col].nunique()  # Menghitung jumlah unik\n",
    "        \n",
    "        if col in ordinal_set:\n",
    "            ordinal_cols.append(col)\n",
    "            \n",
    "        elif unique_count > 10:  # Jika nilai unik lebih dari 10 → label encoding\n",
    "            label_cols.append(col)\n",
    "            \n",
    "        else:  # Jika nilai unik <= 10 → one-hot encoding\n",
    "            ohe_cols.append(col)\n",
    "\n",
    "# Menampilkan hasil\n",
    "print(\"Ordinal Columns: \\t\", ordinal_cols)\n",
    "print(\"One-Hot Columns: \\t\", ohe_cols)\n",
    "print(\"Label Columns: \\t\\t\", label_cols)\n",
    "print(\"Numeric Columns: \\t\", numeric_cols)"
   ]
  },
  {
   "cell_type": "code",
   "execution_count": 27,
   "metadata": {},
   "outputs": [
    {
     "name": "stdout",
     "output_type": "stream",
     "text": [
      "LIMIT_CAT \t: ['very_low' 'low' 'very_high' 'medium' 'high']\n",
      "--------------------------------------------------\n"
     ]
    }
   ],
   "source": [
    "# Check Ordinal Columns\n",
    "for i in ordinal_cols:\n",
    "    print(f'{i.upper()} \\t: {check_cat[i].unique()}')\n",
    "    print(f'{\"-\" * 50}')"
   ]
  },
  {
   "cell_type": "code",
   "execution_count": 28,
   "metadata": {},
   "outputs": [],
   "source": [
    "# Menentukan urutan kategori masing-masing kolom\n",
    "oridnal_cat = [\n",
    "    [\"very_low\", \"low\", \"medium\", \"high\", \"very_high\"],   # Urutan untuk limit_cat\n",
    "]"
   ]
  },
  {
   "cell_type": "markdown",
   "metadata": {},
   "source": [
    "### Transform Parameter"
   ]
  },
  {
   "cell_type": "code",
   "execution_count": 29,
   "metadata": {},
   "outputs": [],
   "source": [
    "# Transformasi\n",
    "numerical_tf = RobustScaler(\n",
    "    with_centering = True,          # Jika True, akan mengurangi median sebelum scaling \n",
    "    with_scaling = True,            # Jika True, akan membagi dengan IQR \n",
    "    quantile_range = (25.0, 75.0),  # Rentang persentil untuk IQR (default: Q1=25%, Q3=75%) \n",
    "    unit_variance = False,          # Jika True, akan menyesuaikan data agar memiliki varians sekitar 1 \n",
    "    copy = False                    # Jika False, transformasi dilakukan in-place pada array input \n",
    "    )\n",
    "\n",
    "ohe_tf = OneHotEncoder(\n",
    "    handle_unknown = 'ignore', \n",
    "    sparse_output = True, \n",
    "    max_categories = 50\n",
    "    )\n",
    "\n",
    "ordinal_tf = OrdinalEncoder(\n",
    "    categories = oridnal_cat, \n",
    "    handle_unknown = 'use_encoded_value', \n",
    "    unknown_value = -1\n",
    "    )\n",
    "\n",
    "# Fungsi untuk Label Encoding\n",
    "def label_encode_columns(X):\n",
    "    X = X.copy()  # Hindari mengubah DataFrame asli\n",
    "    for col in label_cols:\n",
    "        le = LabelEncoder()\n",
    "        X[col] = le.fit_transform(X[col])\n",
    "        \n",
    "    return X"
   ]
  },
  {
   "cell_type": "code",
   "execution_count": 30,
   "metadata": {},
   "outputs": [],
   "source": [
    "# Column Transformer dengan FunctionTransformer\n",
    "prep_stage_2 = ColumnTransformer(\n",
    "    transformers = [\n",
    "        (\"num\", numerical_tf, numeric_cols),  # Standarisasi numerik\n",
    "        (\"ohe\", ohe_tf, ohe_cols), \n",
    "        (\"label\", FunctionTransformer(label_encode_columns, validate = False), label_cols),  # Label encoder in pipeline\n",
    "        (\"ord\", ordinal_tf, ordinal_cols)\n",
    "    ], remainder = \"passthrough\")"
   ]
  },
  {
   "cell_type": "code",
   "execution_count": 31,
   "metadata": {},
   "outputs": [],
   "source": [
    "X_train_tf = prep_stage_2.fit_transform(X_train)  # Fit & Transform Training Data\n",
    "X_test_tf = prep_stage_2.transform(X_test)  # Transform Test Data"
   ]
  },
  {
   "cell_type": "code",
   "execution_count": 32,
   "metadata": {},
   "outputs": [
    {
     "name": "stdout",
     "output_type": "stream",
     "text": [
      "Total rows X_train Transformed: (206211, 8) \n",
      "\n",
      "Total rows X_test Transformed: (88377, 8)\n"
     ]
    }
   ],
   "source": [
    "# get feature names after pipeline\n",
    "num_features = numeric_cols \n",
    "cat_features = prep_stage_2.named_transformers_[\"ohe\"].get_feature_names_out(ohe_cols) \n",
    "ord_features = ordinal_cols \n",
    "label_features = label_cols \n",
    "\n",
    "# combine column\n",
    "transformed_columns = (list(num_features) + \n",
    "                       list(cat_features) + \n",
    "                       list(ord_features) + \n",
    "                       list(label_features)) \n",
    "\n",
    "# Dataframe after transform\n",
    "df_X_train_tf = pd.DataFrame(X_train_tf, columns = transformed_columns)\n",
    "print(f'Total rows X_train Transformed: {df_X_train_tf.shape} \\n')\n",
    "\n",
    "df_X_test_tf = pd.DataFrame(X_test_tf, columns = transformed_columns)\n",
    "print(f'Total rows X_test Transformed: {df_X_test_tf.shape}')"
   ]
  },
  {
   "cell_type": "markdown",
   "metadata": {},
   "source": [
    "## Re-Sampling"
   ]
  },
  {
   "cell_type": "code",
   "execution_count": 33,
   "metadata": {},
   "outputs": [
    {
     "name": "stdout",
     "output_type": "stream",
     "text": [
      "Check Data:\n",
      "fraud\n",
      "0    95.978876\n",
      "1     4.021124\n",
      "Name: proportion, dtype: float64 \n",
      "\n",
      "fraud\n",
      "0    197919\n",
      "1      8292\n",
      "Name: count, dtype: int64\n"
     ]
    }
   ],
   "source": [
    "# Check Target Proportion\n",
    "print(\"Check Data:\")\n",
    "print(f\"{y_train.value_counts(normalize = True) * 100} \\n\")\n",
    "print(y_train.value_counts())"
   ]
  },
  {
   "cell_type": "code",
   "execution_count": 34,
   "metadata": {},
   "outputs": [
    {
     "name": "stdout",
     "output_type": "stream",
     "text": [
      "Distribusi kelas sebelum balancing: Counter({0: 197919, 1: 8292})\n",
      "Distribusi kelas setelah Random Undersampling: Counter({0: 82920, 1: 8292})\n",
      "Distribusi kelas setelah Tomek Links: Counter({0: 82918, 1: 8292})\n"
     ]
    }
   ],
   "source": [
    "from imblearn.under_sampling import RandomUnderSampler, TomekLinks\n",
    "from collections import Counter\n",
    "\n",
    "# Cek distribusi awal\n",
    "print(f\"Distribusi kelas sebelum balancing: {Counter(y_train)}\")\n",
    "\n",
    "# 🔹 Langkah 1: Random Undersampling untuk mengurangi kelas mayoritas\n",
    "rus = RandomUnderSampler(sampling_strategy = 0.1, random_state = 42)  # Minoritas menjadi 50% dari mayoritas\n",
    "X_rus, y_rus = rus.fit_resample(X_train_tf, y_train)\n",
    "print(f\"Distribusi kelas setelah Random Undersampling: {Counter(y_rus)}\")\n",
    "\n",
    "# 🔹 Langkah 2: Tomek Links untuk membersihkan batas kelas\n",
    "tl = TomekLinks()\n",
    "X_train_resample, y_train_resample = tl.fit_resample(X_rus, y_rus)\n",
    "print(f\"Distribusi kelas setelah Tomek Links: {Counter(y_train_resample)}\")"
   ]
  },
  {
   "cell_type": "code",
   "execution_count": 35,
   "metadata": {},
   "outputs": [
    {
     "name": "stdout",
     "output_type": "stream",
     "text": [
      "After Resampling:\n",
      "fraud\n",
      "0    90.908892\n",
      "1     9.091108\n",
      "Name: proportion, dtype: float64 \n",
      "\n",
      "fraud\n",
      "0    82918\n",
      "1     8292\n",
      "Name: count, dtype: int64\n"
     ]
    }
   ],
   "source": [
    "# Train Resampling\n",
    "print(\"After Resampling:\")\n",
    "print(f\"{y_train_resample.value_counts(normalize = True) * 100} \\n\")\n",
    "print(y_train_resample.value_counts())"
   ]
  },
  {
   "cell_type": "code",
   "execution_count": 36,
   "metadata": {},
   "outputs": [
    {
     "name": "stdout",
     "output_type": "stream",
     "text": [
      "Bobot kelas 0 (Not Fraud): 0.55\n",
      "Bobot kelas 1 (Fraud): 5.50\n"
     ]
    }
   ],
   "source": [
    "from sklearn.utils.class_weight import compute_class_weight\n",
    "import numpy as np\n",
    "\n",
    "# Hitung class weight secara manual\n",
    "class_weights = compute_class_weight(class_weight = \"balanced\", classes = np.array([0, 1]), y = y_train_resample)\n",
    "\n",
    "print(f\"Bobot kelas 0 (Not Fraud): {class_weights[0]:.2f}\")\n",
    "print(f\"Bobot kelas 1 (Fraud): {class_weights[1]:.2f}\")"
   ]
  },
  {
   "cell_type": "markdown",
   "metadata": {},
   "source": [
    "### Leak Checking"
   ]
  },
  {
   "cell_type": "markdown",
   "metadata": {},
   "source": [
    "#### Train Data"
   ]
  },
  {
   "cell_type": "code",
   "execution_count": 37,
   "metadata": {},
   "outputs": [
    {
     "name": "stdout",
     "output_type": "stream",
     "text": [
      "transaction_dollar_amount    0.636173\n",
      "time_diff_hour              -0.213181\n",
      "distance_km                  0.439642\n",
      "speed_km/h                   0.054912\n",
      "geo_cat_anomaly              0.588070\n",
      "geo_cat_normal              -0.588070\n",
      "limit_cat                   -0.009875\n",
      "city                        -0.002002\n",
      "dtype: float64\n"
     ]
    }
   ],
   "source": [
    "# Konversi X_train_resample ke DataFrame dengan nama kolom yang sama seperti sebelum resampling\n",
    "X_train_leak = pd.DataFrame(X_train_resample, columns = df_X_train_tf.columns)\n",
    "\n",
    "# Cek korelasi antara fitur dan label\n",
    "print(X_train_leak.corrwith(pd.Series(y_train_resample)))"
   ]
  },
  {
   "cell_type": "code",
   "execution_count": 38,
   "metadata": {},
   "outputs": [
    {
     "name": "stdout",
     "output_type": "stream",
     "text": [
      "Mutual Information Scores:\n",
      " transaction_dollar_amount    0.122932\n",
      "geo_cat_normal               0.106818\n",
      "time_diff_hour               0.104783\n",
      "geo_cat_anomaly              0.093591\n",
      "speed_km/h                   0.067403\n",
      "distance_km                  0.061654\n",
      "city                         0.005872\n",
      "limit_cat                    0.001788\n",
      "dtype: float64\n"
     ]
    }
   ],
   "source": [
    "from sklearn.feature_selection import mutual_info_classif\n",
    "\n",
    "train_mi_scores = mutual_info_classif(X_train_leak, y_train_resample, discrete_features = 'auto')\n",
    "train_mi_scores = pd.Series(train_mi_scores, index = X_train_leak.columns).sort_values(ascending = False)\n",
    "\n",
    "print(\"Mutual Information Scores:\\n\", train_mi_scores.head(20))  # Tampilkan 20 fitur paling informatif\n"
   ]
  },
  {
   "cell_type": "code",
   "execution_count": 39,
   "metadata": {},
   "outputs": [
    {
     "name": "stdout",
     "output_type": "stream",
     "text": [
      "Series([], dtype: float64)\n"
     ]
    }
   ],
   "source": [
    "# Check High Correlations\n",
    "correlation_values = X_train_leak.corrwith(pd.Series(y_train_resample))\n",
    "high_correlation_features = correlation_values[correlation_values.abs() > 0.9]\n",
    "\n",
    "print(high_correlation_features)"
   ]
  },
  {
   "cell_type": "code",
   "execution_count": 40,
   "metadata": {},
   "outputs": [
    {
     "name": "stdout",
     "output_type": "stream",
     "text": [
      "<class 'pandas.core.frame.DataFrame'>\n",
      "RangeIndex: 91210 entries, 0 to 91209\n",
      "Data columns (total 8 columns):\n",
      " #   Column                     Non-Null Count  Dtype  \n",
      "---  ------                     --------------  -----  \n",
      " 0   transaction_dollar_amount  91210 non-null  float64\n",
      " 1   time_diff_hour             91210 non-null  float64\n",
      " 2   distance_km                91210 non-null  float64\n",
      " 3   speed_km/h                 91210 non-null  float64\n",
      " 4   geo_cat_anomaly            91210 non-null  float64\n",
      " 5   geo_cat_normal             91210 non-null  float64\n",
      " 6   limit_cat                  91210 non-null  float64\n",
      " 7   city                       91210 non-null  float64\n",
      "dtypes: float64(8)\n",
      "memory usage: 5.6 MB\n"
     ]
    }
   ],
   "source": [
    "X_train_leak = X_train_leak.drop(columns = high_correlation_features.index)\n",
    "X_train_leak.info()"
   ]
  },
  {
   "cell_type": "markdown",
   "metadata": {},
   "source": [
    "#### Test Data"
   ]
  },
  {
   "cell_type": "code",
   "execution_count": 41,
   "metadata": {},
   "outputs": [
    {
     "name": "stdout",
     "output_type": "stream",
     "text": [
      "transaction_dollar_amount   -0.000058\n",
      "time_diff_hour              -0.005804\n",
      "distance_km                 -0.008766\n",
      "speed_km/h                  -0.003272\n",
      "geo_cat_anomaly              0.000472\n",
      "geo_cat_normal              -0.000472\n",
      "limit_cat                    0.008032\n",
      "city                        -0.009438\n",
      "dtype: float64\n"
     ]
    }
   ],
   "source": [
    "# Konversi X_train_resample ke DataFrame dengan nama kolom yang sama seperti sebelum resampling\n",
    "X_test_leak = pd.DataFrame(df_X_test_tf, columns = df_X_test_tf.columns)\n",
    "\n",
    "# Cek korelasi antara fitur dan label\n",
    "print(X_test_leak.corrwith(pd.Series(y_test)))"
   ]
  },
  {
   "cell_type": "code",
   "execution_count": 42,
   "metadata": {},
   "outputs": [
    {
     "name": "stdout",
     "output_type": "stream",
     "text": [
      "Mutual Information Scores:\n",
      " transaction_dollar_amount    0.071011\n",
      "geo_cat_normal               0.070281\n",
      "time_diff_hour               0.061859\n",
      "geo_cat_anomaly              0.048705\n",
      "speed_km/h                   0.036694\n",
      "distance_km                  0.034254\n",
      "city                         0.006222\n",
      "limit_cat                    0.003300\n",
      "dtype: float64\n"
     ]
    }
   ],
   "source": [
    "from sklearn.feature_selection import mutual_info_classif\n",
    "\n",
    "train_mi_scores = mutual_info_classif(X_test_leak, y_test, discrete_features = 'auto')\n",
    "train_mi_scores = pd.Series(train_mi_scores, index = X_test_leak.columns).sort_values(ascending = False)\n",
    "\n",
    "print(\"Mutual Information Scores:\\n\", train_mi_scores.head(20))  # Tampilkan 20 fitur paling informatif\n"
   ]
  },
  {
   "cell_type": "code",
   "execution_count": 43,
   "metadata": {},
   "outputs": [
    {
     "name": "stdout",
     "output_type": "stream",
     "text": [
      "<class 'pandas.core.frame.DataFrame'>\n",
      "RangeIndex: 88377 entries, 0 to 88376\n",
      "Data columns (total 8 columns):\n",
      " #   Column                     Non-Null Count  Dtype  \n",
      "---  ------                     --------------  -----  \n",
      " 0   transaction_dollar_amount  88377 non-null  float64\n",
      " 1   time_diff_hour             88377 non-null  float64\n",
      " 2   distance_km                88377 non-null  float64\n",
      " 3   speed_km/h                 88377 non-null  float64\n",
      " 4   geo_cat_anomaly            88377 non-null  float64\n",
      " 5   geo_cat_normal             88377 non-null  float64\n",
      " 6   limit_cat                  88377 non-null  float64\n",
      " 7   city                       88377 non-null  float64\n",
      "dtypes: float64(8)\n",
      "memory usage: 5.4 MB\n"
     ]
    }
   ],
   "source": [
    "X_test_leak = X_test_leak.drop(columns = high_correlation_features.index, errors = \"ignore\")\n",
    "X_test_leak.info()"
   ]
  },
  {
   "cell_type": "markdown",
   "metadata": {},
   "source": [
    "# Data Modeling"
   ]
  },
  {
   "cell_type": "markdown",
   "metadata": {},
   "source": [
    "## Pipeline Blueprint"
   ]
  },
  {
   "cell_type": "code",
   "execution_count": 44,
   "metadata": {},
   "outputs": [],
   "source": [
    "# Rename var train\n",
    "X_train_mod = X_train_leak.copy()\n",
    "y_train_mod = y_train_resample.copy()\n",
    "\n",
    "# Rename var test\n",
    "X_test_mod = X_test_leak.copy()\n",
    "y_test_mod = y_test.copy()"
   ]
  },
  {
   "cell_type": "markdown",
   "metadata": {},
   "source": [
    "### Check RAM Capacity"
   ]
  },
  {
   "cell_type": "code",
   "execution_count": 45,
   "metadata": {},
   "outputs": [
    {
     "name": "stdout",
     "output_type": "stream",
     "text": [
      "Total RAM: 8.35 GB\n",
      "RAM Digunakan: 6.82 GB\n",
      "RAM Tersedia: 1.52 GB\n"
     ]
    }
   ],
   "source": [
    "import psutil\n",
    "import gc # refresh memory\n",
    "\n",
    "# Cek total & penggunaan RAM\n",
    "mem_info = psutil.virtual_memory()\n",
    "print(f\"Total RAM: {mem_info.total / 1e9:.2f} GB\")\n",
    "print(f\"RAM Digunakan: {mem_info.used / 1e9:.2f} GB\")\n",
    "print(f\"RAM Tersedia: {mem_info.available / 1e9:.2f} GB\")"
   ]
  },
  {
   "cell_type": "markdown",
   "metadata": {},
   "source": [
    "### Converse Data"
   ]
  },
  {
   "cell_type": "code",
   "execution_count": 46,
   "metadata": {},
   "outputs": [],
   "source": [
    "# Simpan feature names sebelum konversi\n",
    "feature_names = X_train_mod.columns if isinstance(X_train_mod, pd.DataFrame) else [f\"feature_{i}\" for i in range(X_train_mod.shape[1])]\n",
    "\n",
    "# Konversi kembali ke DataFrame dengan feature names\n",
    "X_train_mod = pd.DataFrame(np.array(X_train_mod, dtype = np.float32), columns = feature_names)\n",
    "y_train_mod = np.array(y_train_mod, dtype = np.int32)\n",
    "\n",
    "X_test_mod = pd.DataFrame(np.array(X_test_mod, dtype = np.float32), columns = feature_names)\n",
    "y_test_mod = np.array(y_test_mod, dtype = np.int32)\n"
   ]
  },
  {
   "cell_type": "markdown",
   "metadata": {},
   "source": [
    "### Baseline Model"
   ]
  },
  {
   "cell_type": "markdown",
   "metadata": {},
   "source": [
    "##### Logistic Regression"
   ]
  },
  {
   "cell_type": "code",
   "execution_count": 47,
   "metadata": {},
   "outputs": [
    {
     "data": {
      "text/plain": [
       "4806"
      ]
     },
     "execution_count": 47,
     "metadata": {},
     "output_type": "execute_result"
    }
   ],
   "source": [
    "logreg_model = LogisticRegression(\n",
    "    solver = 'saga', \n",
    "    max_iter = 10000, \n",
    "    tol = 1e-3, \n",
    "    C = 0.1, \n",
    "    class_weight = \"balanced\", \n",
    "    random_state = 42\n",
    "    )\n",
    "\n",
    "logreg_model.fit(X_train_mod, y_train_mod)\n",
    "\n",
    "# Bersihkan memori setelah selesai\n",
    "# del logreg_model\n",
    "gc.collect()"
   ]
  },
  {
   "cell_type": "markdown",
   "metadata": {},
   "source": [
    "#### Decission Tree Classifier"
   ]
  },
  {
   "cell_type": "code",
   "execution_count": 48,
   "metadata": {},
   "outputs": [
    {
     "data": {
      "text/plain": [
       "0"
      ]
     },
     "execution_count": 48,
     "metadata": {},
     "output_type": "execute_result"
    }
   ],
   "source": [
    "dt_model = DecisionTreeClassifier(\n",
    "    max_depth = 10, \n",
    "    min_samples_split = 10, \n",
    "    class_weight = \"balanced\", \n",
    "    random_state = 42\n",
    "    )\n",
    "\n",
    "dt_model.fit(X_train_mod, y_train_mod)\n",
    "\n",
    "# Bersihkan memori setelah selesai\n",
    "# del dt_model\n",
    "gc.collect()"
   ]
  },
  {
   "cell_type": "markdown",
   "metadata": {},
   "source": [
    "#### Random Forest Classifier"
   ]
  },
  {
   "cell_type": "code",
   "execution_count": 49,
   "metadata": {},
   "outputs": [
    {
     "data": {
      "text/plain": [
       "22"
      ]
     },
     "execution_count": 49,
     "metadata": {},
     "output_type": "execute_result"
    }
   ],
   "source": [
    "forest_model = RandomForestClassifier(\n",
    "    n_estimators = 100, \n",
    "    max_depth = 10, \n",
    "    min_samples_split = 10, \n",
    "    class_weight = \"balanced\", \n",
    "    random_state = 42\n",
    "    )\n",
    "\n",
    "forest_model.fit(X_train_mod, y_train_mod)\n",
    "\n",
    "# Bersihkan memori setelah selesai\n",
    "# del forest_model\n",
    "gc.collect()"
   ]
  },
  {
   "cell_type": "markdown",
   "metadata": {},
   "source": [
    "#### XGB Classifier"
   ]
  },
  {
   "cell_type": "code",
   "execution_count": 50,
   "metadata": {},
   "outputs": [
    {
     "data": {
      "text/plain": [
       "66"
      ]
     },
     "execution_count": 50,
     "metadata": {},
     "output_type": "execute_result"
    }
   ],
   "source": [
    "# Tangani kasus ZeroDivisionError jika kelas minoritas tidak ada di y_train\n",
    "if np.sum(y_train_mod == 1) == 0:\n",
    "    scale_pos_weight = 1\n",
    "    \n",
    "else:\n",
    "    scale_pos_weight = np.sum(y_train_mod == 0) / np.sum(y_train_mod == 1)\n",
    "\n",
    "# for validation\n",
    "X_train_mod, X_val_mod, y_train_mod, y_val_mod = train_test_split(\n",
    "    X_train_mod, y_train_mod, test_size = 0.2, random_state = 42, stratify = y_train_mod\n",
    ")\n",
    "\n",
    "\n",
    "xgb_model = XGBClassifier(\n",
    "    max_depth = 6, \n",
    "    learning_rate = 0.05,\n",
    "    n_estimators = 500, \n",
    "    reg_lambda = 1, \n",
    "    scale_pos_weight = scale_pos_weight, \n",
    "    eval_metric = \"aucpr\", \n",
    "    random_state = 42\n",
    "    )\n",
    "\n",
    "xgb_model.fit(\n",
    "    X_train_mod, y_train_mod, \n",
    "    # early_stopping_rounds = 50, \n",
    "    eval_set = [(X_val_mod, y_val_mod)], \n",
    "    verbose = False\n",
    "    )\n",
    "\n",
    "# Bersihkan memori setelah selesai\n",
    "# del xgb_model\n",
    "gc.collect()"
   ]
  },
  {
   "cell_type": "markdown",
   "metadata": {},
   "source": [
    "#### Light GBM Classifier"
   ]
  },
  {
   "cell_type": "code",
   "execution_count": 51,
   "metadata": {},
   "outputs": [
    {
     "data": {
      "text/plain": [
       "72"
      ]
     },
     "execution_count": 51,
     "metadata": {},
     "output_type": "execute_result"
    }
   ],
   "source": [
    "lgbm_model = LGBMClassifier(\n",
    "    objective = \"binary\", \n",
    "    scale_pos_weight = scale_pos_weight, \n",
    "    learning_rate = 0.05,\n",
    "    n_estimators = 500, \n",
    "    max_depth = 6, \n",
    "    reg_lambda = 1, \n",
    "    early_stopping_rounds = 50, \n",
    "    verbose = -1, \n",
    "    boosting_type = \"gbdt\", \n",
    "    force_col_wise = True,\n",
    "    random_state = 42\n",
    "    )\n",
    "\n",
    "lgbm_model.fit(\n",
    "    X_train_mod, y_train_mod, \n",
    "    eval_set = [(X_val_mod, y_val_mod)],    # Set validasi\n",
    "    eval_metric = \"auc\",                    # Metrik evaluasi (bisa diganti dengan \"logloss\" atau \"binary_error\")\n",
    "    )\n",
    "\n",
    "# Bersihkan memori setelah selesai\n",
    "# del lgbm_model\n",
    "gc.collect()"
   ]
  },
  {
   "cell_type": "markdown",
   "metadata": {},
   "source": [
    "#### Cat Boost Classifier"
   ]
  },
  {
   "cell_type": "code",
   "execution_count": 52,
   "metadata": {},
   "outputs": [
    {
     "data": {
      "text/plain": [
       "0"
      ]
     },
     "execution_count": 52,
     "metadata": {},
     "output_type": "execute_result"
    }
   ],
   "source": [
    "# Hitung class weights secara manual\n",
    "counter = Counter(y_train_mod)\n",
    "total = sum(counter.values())\n",
    "class_weights = {cls: total / (len(counter) * count) for cls, count in counter.items()}\n",
    "\n",
    "catb_model = CatBoostClassifier(\n",
    "    depth = 6, \n",
    "    learning_rate = 0.05, \n",
    "    iterations = 500, \n",
    "    l2_leaf_reg = 3, \n",
    "    early_stopping_rounds = 50, \n",
    "    eval_metric = 'F1', \n",
    "    verbose = 0, \n",
    "    task_type = 'CPU', \n",
    "    auto_class_weights = \"Balanced\", \n",
    "    random_state = 42\n",
    "    )\n",
    "\n",
    "catb_model.fit(X_train_mod, y_train_mod)\n",
    "\n",
    "# Bersihkan memori setelah selesai\n",
    "# del catb_model\n",
    "gc.collect()"
   ]
  },
  {
   "cell_type": "code",
   "execution_count": 53,
   "metadata": {},
   "outputs": [],
   "source": [
    "from sklearn.metrics import average_precision_score, classification_report, precision_recall_curve\n",
    "import matplotlib.pyplot as plt\n",
    "\n",
    "# Menyimpan semua pipeline dalam dictionary\n",
    "pipelines = {\n",
    "    \"Logistic Regression\": logreg_model,\n",
    "    \"Decission Tree\": dt_model, \n",
    "    \"Random Forest\": forest_model,\n",
    "    \"XGBoost\": xgb_model,\n",
    "    \"LightGBM\": lgbm_model,\n",
    "    \"CatBoost\": catb_model\n",
    "}"
   ]
  },
  {
   "cell_type": "code",
   "execution_count": 54,
   "metadata": {},
   "outputs": [
    {
     "name": "stdout",
     "output_type": "stream",
     "text": [
      "🔹 Evaluasi Model: Logistic Regression\n",
      "==================================================\n",
      "📌 Evaluasi pada Training Set\n",
      "--------------------------------------------------\n",
      "📊 Average Precision Score: 0.363\n",
      "🎯 Optimal Threshold: 0.505\n",
      "-------------------------------------------------- \n",
      "\n",
      "📌 Evaluasi pada Testing Set\n",
      "--------------------------------------------------\n",
      "📊 Average Precision Score: 0.314\n",
      "🎯 Optimal Threshold: 0.505\n",
      "-------------------------------------------------- \n",
      "\n",
      "================================================== \n",
      "\n",
      "🔹 Evaluasi Model: Decission Tree\n",
      "==================================================\n",
      "📌 Evaluasi pada Training Set\n",
      "--------------------------------------------------\n",
      "📊 Average Precision Score: 1.000\n",
      "🎯 Optimal Threshold: 1.000\n",
      "-------------------------------------------------- \n",
      "\n",
      "📌 Evaluasi pada Testing Set\n",
      "--------------------------------------------------\n",
      "📊 Average Precision Score: 1.000\n",
      "🎯 Optimal Threshold: 1.000\n",
      "-------------------------------------------------- \n",
      "\n",
      "================================================== \n",
      "\n",
      "🔹 Evaluasi Model: Random Forest\n",
      "==================================================\n",
      "📌 Evaluasi pada Training Set\n",
      "--------------------------------------------------\n",
      "📊 Average Precision Score: 1.000\n",
      "🎯 Optimal Threshold: 0.884\n",
      "-------------------------------------------------- \n",
      "\n",
      "📌 Evaluasi pada Testing Set\n",
      "--------------------------------------------------\n",
      "📊 Average Precision Score: 1.000\n",
      "🎯 Optimal Threshold: 0.838\n",
      "-------------------------------------------------- \n",
      "\n",
      "================================================== \n",
      "\n",
      "🔹 Evaluasi Model: XGBoost\n",
      "==================================================\n",
      "📌 Evaluasi pada Training Set\n",
      "--------------------------------------------------\n",
      "📊 Average Precision Score: 1.000\n",
      "🎯 Optimal Threshold: 0.997\n",
      "-------------------------------------------------- \n",
      "\n",
      "📌 Evaluasi pada Testing Set\n",
      "--------------------------------------------------\n",
      "📊 Average Precision Score: 1.000\n",
      "🎯 Optimal Threshold: 0.822\n",
      "-------------------------------------------------- \n",
      "\n",
      "================================================== \n",
      "\n",
      "🔹 Evaluasi Model: LightGBM\n",
      "==================================================\n",
      "📌 Evaluasi pada Training Set\n",
      "--------------------------------------------------\n",
      "📊 Average Precision Score: 1.000\n",
      "🎯 Optimal Threshold: 0.964\n",
      "-------------------------------------------------- \n",
      "\n",
      "📌 Evaluasi pada Testing Set\n",
      "--------------------------------------------------\n",
      "📊 Average Precision Score: 1.000\n",
      "🎯 Optimal Threshold: 0.964\n",
      "-------------------------------------------------- \n",
      "\n",
      "================================================== \n",
      "\n",
      "🔹 Evaluasi Model: CatBoost\n",
      "==================================================\n",
      "📌 Evaluasi pada Training Set\n",
      "--------------------------------------------------\n",
      "📊 Average Precision Score: 1.000\n",
      "🎯 Optimal Threshold: 0.972\n",
      "-------------------------------------------------- \n",
      "\n",
      "📌 Evaluasi pada Testing Set\n",
      "--------------------------------------------------\n",
      "📊 Average Precision Score: 1.000\n",
      "🎯 Optimal Threshold: 0.993\n",
      "-------------------------------------------------- \n",
      "\n",
      "================================================== \n",
      "\n"
     ]
    }
   ],
   "source": [
    "# ===== 8. Evaluasi Model =====\n",
    "def evaluate_model(model, X, y, dataset_name):\n",
    "    print(f\"📌 Evaluasi pada {dataset_name} Set\")\n",
    "    print(\"-\" * 50)\n",
    "    \n",
    "    y_pred_proba = model.predict_proba(X)[:, 1]\n",
    "    ap_score = average_precision_score(y, y_pred_proba)\n",
    "    precisions, recalls, thresholds = precision_recall_curve(y, y_pred_proba)\n",
    "    f1_scores = (2 * precisions * recalls) / (precisions + recalls + 1e-9)\n",
    "    best_threshold = thresholds[f1_scores.argmax()] if len(thresholds) > 0 else 0.5\n",
    "    y_pred = (y_pred_proba >= best_threshold).astype(int)\n",
    "    \n",
    "    print(f\"📊 Average Precision Score: {ap_score:.3f}\")\n",
    "    print(f\"🎯 Optimal Threshold: {best_threshold:.3f}\")\n",
    "    # print(\"\\n📄 Classification Report:\")\n",
    "    # print(classification_report(y, y_pred))\n",
    "    print(\"-\" * 50, \"\\n\")\n",
    "\n",
    "for name, model in pipelines.items():\n",
    "    print(f\"🔹 Evaluasi Model: {name}\")\n",
    "    print('=' * 50)\n",
    "    \n",
    "    evaluate_model(model, X_train_mod, y_train_mod, \"Training\")\n",
    "    evaluate_model(model, X_test_mod, y_test_mod, \"Testing\")\n",
    "    \n",
    "    print('=' * 50, '\\n')"
   ]
  },
  {
   "cell_type": "code",
   "execution_count": 55,
   "metadata": {},
   "outputs": [
    {
     "ename": "SyntaxError",
     "evalue": "invalid syntax (1956161212.py, line 1)",
     "output_type": "error",
     "traceback": [
      "\u001b[1;36m  Cell \u001b[1;32mIn[55], line 1\u001b[1;36m\u001b[0m\n\u001b[1;33m    sam =\u001b[0m\n\u001b[1;37m         ^\u001b[0m\n\u001b[1;31mSyntaxError\u001b[0m\u001b[1;31m:\u001b[0m invalid syntax\n"
     ]
    }
   ],
   "source": [
    "sam ="
   ]
  },
  {
   "cell_type": "markdown",
   "metadata": {},
   "source": [
    "### sample2"
   ]
  },
  {
   "cell_type": "code",
   "execution_count": null,
   "metadata": {},
   "outputs": [],
   "source": [
    "# # Dictionary untuk menyimpan model terbaik\n",
    "# best_model_info = {\n",
    "#     \"model\": None,\n",
    "#     \"name\": None,\n",
    "#     \"ap_test\": 0,\n",
    "#     \"score_diff\": float(\"inf\")\n",
    "# }\n"
   ]
  },
  {
   "cell_type": "code",
   "execution_count": null,
   "metadata": {},
   "outputs": [],
   "source": [
    "# def evaluate_set(model, X, y, dataset_name):\n",
    "#     \"\"\"Evaluasi model pada dataset tertentu (Train atau Test).\"\"\"\n",
    "#     print(f\"\\n📌 Evaluasi pada {dataset_name} Set\")\n",
    "#     print(\"-\" * 50)\n",
    "\n",
    "#     # Prediksi probabilitas\n",
    "#     y_pred_proba = model.predict_proba(X)[:, 1]\n",
    "    \n",
    "#     # Hitung Average Precision Score\n",
    "#     ap_score = average_precision_score(y, y_pred_proba)\n",
    "#     print(f\"📊 Average Precision Score: {ap_score:.3f}\")\n",
    "\n",
    "#     # Precision-Recall Curve untuk mencari threshold optimal\n",
    "#     precisions, recalls, thresholds = precision_recall_curve(y, y_pred_proba)\n",
    "#     f1_scores = (2 * precisions * recalls) / (precisions + recalls + 1e-9)  # Hindari divisi nol\n",
    "#     best_threshold = thresholds[f1_scores.argmax()] if len(thresholds) > 0 else 0.5\n",
    "#     print(f\"🎯 Optimal Threshold: {best_threshold:.3f}\")\n",
    "\n",
    "#     # Konversi probabilitas ke label dengan threshold optimal\n",
    "#     y_pred = (y_pred_proba >= best_threshold).astype(int)\n",
    "\n",
    "#     # Tampilkan classification report\n",
    "#     print(\"\\n📄 Classification Report:\")\n",
    "#     print(classification_report(y, y_pred))\n",
    "\n",
    "#     print(\"-\" * 50, \"\\n\")\n",
    "\n",
    "#     return ap_score, best_threshold"
   ]
  },
  {
   "cell_type": "code",
   "execution_count": null,
   "metadata": {},
   "outputs": [],
   "source": [
    "# def evaluate_model(name, pipe, X_train, y_train, X_test, y_test):\n",
    "#     \"\"\"Melatih model, mengevaluasi performanya di Train & Test, dan menentukan threshold optimal.\"\"\"\n",
    "#     print(\"=\" * 50, '\\n')\n",
    "#     print(f\"🔹 Evaluasi Model: {name}\")\n",
    "#     print(\"=\" * 50)\n",
    "\n",
    "#     # Training model (handle CatBoost secara khusus)\n",
    "#     verbose_flag = {\"verbose\": False} if name == \"CatBoost\" else {}\n",
    "#     pipe.fit(X_train, y_train, **verbose_flag)\n",
    "\n",
    "#     # Evaluasi pada Training Set\n",
    "#     ap_train, threshold_train = evaluate_set(pipe, X_train, y_train, \"Training\")\n",
    "\n",
    "#     # Evaluasi pada Testing Set\n",
    "#     ap_test, threshold_test = evaluate_set(pipe, X_test, y_test, \"Testing\")\n",
    "\n",
    "#     # Validasi threshold AP Score Test\n",
    "#     if not (0.7 <= ap_test <= 0.95):\n",
    "#         print(f\"⚠️ AP Score Test ({ap_test:.3f}) di luar rentang (0.7 - 0.95). Model diabaikan.\\n\")\n",
    "#         return None\n",
    "\n",
    "#     return ap_train, ap_test, pipe\n"
   ]
  },
  {
   "cell_type": "code",
   "execution_count": null,
   "metadata": {},
   "outputs": [],
   "source": [
    "# # Iterasi semua pipeline\n",
    "# for name, pipe in pipelines.items():\n",
    "#     result = evaluate_model(name, pipe, X_train_mod, y_train_mod, X_test_mod, y_test_mod)\n",
    "    \n",
    "#     if result:\n",
    "#         ap_train, ap_test, model = result\n",
    "#         score_diff = abs(ap_train - ap_test)\n",
    "\n",
    "#         # Update model terbaik jika memenuhi kriteria\n",
    "#         if (ap_test > best_model_info[\"ap_test\"] or\n",
    "#            (ap_test == best_model_info[\"ap_test\"] and score_diff < best_model_info[\"score_diff\"])):\n",
    "#             best_model_info.update({\n",
    "#                 \"model\": model,\n",
    "#                 \"name\": name,\n",
    "#                 \"ap_test\": ap_test,\n",
    "#                 \"score_diff\": score_diff\n",
    "#             })\n"
   ]
  },
  {
   "cell_type": "code",
   "execution_count": null,
   "metadata": {},
   "outputs": [],
   "source": [
    "# # Menampilkan model terbaik\n",
    "# if best_model_info[\"model\"]:\n",
    "#     print(f\"🏆 Model Terbaik: {best_model_info['name']} dengan AP Score Test: {best_model_info['ap_test']:.3f} \"\n",
    "#           f\"dan perbedaan AP Score Train-Test: {best_model_info['score_diff']:.3f}\")\n",
    "# else:\n",
    "#     print(\"❌ Tidak ada model yang memenuhi kriteria.\")"
   ]
  },
  {
   "cell_type": "code",
   "execution_count": null,
   "metadata": {},
   "outputs": [],
   "source": [
    "sam ="
   ]
  },
  {
   "cell_type": "code",
   "execution_count": null,
   "metadata": {},
   "outputs": [],
   "source": [
    "# for name, pipe in pipelines.items():\n",
    "#     print(f\"🔹 Evaluasi Model: {name}\")\n",
    "#     print('=' * 50)\n",
    "    \n",
    "#     # Training model\n",
    "#     if name == \"CatBoost\":\n",
    "#         pipe.fit(X_train_mod, y_train_mod, verbose=False)\n",
    "        \n",
    "#     else:\n",
    "#         pipe.fit(X_train_mod, y_train_mod)\n",
    "    \n",
    "#     # === Train Evaluation ===\n",
    "#     y_train_pred_proba = pipe.predict_proba(X_train_mod)[:, 1]\n",
    "#     ap_train = average_precision_score(y_train_mod, y_train_pred_proba)\n",
    "#     print(f\"📊 Average Precision Score (Train): {ap_train:.3f}\")\n",
    "\n",
    "#     # === Test Evaluation ===\n",
    "#     y_test_pred_proba = pipe.predict_proba(X_test_mod)[:, 1]\n",
    "#     ap_test = average_precision_score(y_test_mod, y_test_pred_proba)\n",
    "    \n",
    "#     # Filter model berdasarkan AP Score Test\n",
    "#     if ap_test <= 0.7 or ap_test >= 0.95:\n",
    "#         print(f\"⚠️ AP Score Test ({ap_test:.3f}) berada di luar rentang yang diinginkan (0.7 - 0.95), model ini diabaikan.\\n\")\n",
    "#         continue  \n",
    "\n",
    "#     print(f\"📊 Average Precision Score (Test): {ap_test:.3f}\")\n",
    "\n",
    "#     # Precision-Recall Curve\n",
    "#     precisions, recalls, thresholds = precision_recall_curve(y_test_mod, y_test_pred_proba)\n",
    "    \n",
    "#     # Cari threshold optimal\n",
    "#     f1_scores = (2 * precisions * recalls) / (precisions + recalls + 1e-9)  # Hindari divisi oleh nol\n",
    "#     best_threshold = thresholds[f1_scores.argmax()] if len(thresholds) > 0 else 0.5\n",
    "#     print(f\"🎯 Optimal Threshold: {best_threshold:.3f}\")\n",
    "\n",
    "#     # Konversi probabilitas menjadi label menggunakan threshold optimal\n",
    "#     y_test_pred = (y_test_pred_proba >= best_threshold).astype(int)\n",
    "\n",
    "#     # Classification Report\n",
    "#     print(\"\\n📄 Classification Report:\")\n",
    "#     print(classification_report(y_test_mod, y_test_pred))\n",
    "\n",
    "#     print('=' * 50, '\\n')\n",
    "\n",
    "#     # Evaluasi model terbaik berdasarkan AP Score Test dan perbedaan train-test terkecil\n",
    "#     score_diff = abs(ap_train - ap_test)\n",
    "\n",
    "#     if ap_test > best_ap_test or (ap_test == best_ap_test and score_diff < best_score_diff):\n",
    "#         best_model = pipe\n",
    "#         best_model_name = name\n",
    "#         best_ap_test = ap_test\n",
    "#         best_score_diff = score_diff\n",
    "\n",
    "# # Menampilkan hasil akhir\n",
    "# if best_model is not None:\n",
    "#     print(f\"🏆 Model Terbaik: {best_model_name} dengan AP Score Test tertinggi: {best_ap_test:.3f} dan perbedaan AP Score: {best_score_diff:.3f}\")\n",
    "# else:\n",
    "#     print(\"❌ Tidak ada model yang memenuhi syarat (AP Score Test di luar rentang 0.7 - 0.95).\")"
   ]
  },
  {
   "cell_type": "markdown",
   "metadata": {},
   "source": [
    "### Voting Methode"
   ]
  },
  {
   "cell_type": "code",
   "execution_count": null,
   "metadata": {},
   "outputs": [],
   "source": [
    "from sklearn.ensemble import VotingClassifier\n",
    "from sklearn.metrics import average_precision_score, classification_report, precision_recall_curve\n",
    "\n",
    "# Membuat Voting Classifier dengan model terbaik\n",
    "voting_clf = VotingClassifier(\n",
    "    estimators=[\n",
    "        ('rf', forest_model),\n",
    "        ('dt', dt_model), \n",
    "        ('xgb', xgb_model),\n",
    "        ('lgbm', lgbm_model),\n",
    "        ('catb', catb_model)\n",
    "    ],\n",
    "    voting='soft'  # Menggunakan probabilitas\n",
    ")\n",
    "\n",
    "# Training Voting Classifier\n",
    "voting_clf.fit(X_train_mod, y_train_mod)\n",
    "\n",
    "# Evaluasi pada Test Set\n",
    "y_test_pred_proba_voting = voting_clf.predict_proba(X_test_mod)[:, 1]\n",
    "\n",
    "# Hitung Average Precision Score (AP Score) untuk Voting Classifier\n",
    "best_ap_voting = average_precision_score(y_test_mod, y_test_pred_proba_voting)\n",
    "\n",
    "# Filter jika AP Score Voting Classifier terlalu tinggi\n",
    "if best_ap_voting > 0.95:\n",
    "    print(f\"⚠️ AP Score Voting Classifier terlalu tinggi ({best_ap_voting:.3f}), model ini diabaikan.\")\n",
    "    best_ap_voting = 0  # Abaikan model ini dari pemilihan final\n",
    "    \n",
    "else:\n",
    "    print(f\"📊 Average Precision Score (Voting Classifier): {best_ap_voting:.3f}\")\n",
    "\n",
    "    # Precision-Recall Curve\n",
    "    precisions, recalls, thresholds = precision_recall_curve(y_test_mod, y_test_pred_proba_voting)\n",
    "\n",
    "    # Cari threshold optimal\n",
    "    f1_scores = (2 * precisions * recalls) / (precisions + recalls + 1e-9)  # Hindari divisi oleh nol\n",
    "    best_threshold_voting = thresholds[f1_scores.argmax()] if len(thresholds) > 0 else 0.5\n",
    "    print(f\"🎯 Optimal Threshold: {best_threshold_voting:.3f}\")\n",
    "\n",
    "    # Konversi probabilitas menjadi label menggunakan threshold optimal\n",
    "    y_test_pred_voting = (y_test_pred_proba_voting >= best_threshold_voting).astype(int)\n",
    "\n",
    "    # Evaluasi Voting Classifier\n",
    "    print(\"\\n=== Classification Report (Voting Classifier) ===\")\n",
    "    print(classification_report(y_test_mod, y_test_pred_voting)) \n"
   ]
  },
  {
   "cell_type": "markdown",
   "metadata": {},
   "source": [
    "### Choosing Best Model"
   ]
  },
  {
   "cell_type": "code",
   "execution_count": null,
   "metadata": {},
   "outputs": [],
   "source": [
    "final_model = None\n",
    "final_model_name = \"\"\n",
    "final_score = 0\n",
    "\n",
    "if best_ap_voting > best_ap_test:\n",
    "    final_model = voting_clf\n",
    "    final_model_name = \"Voting Classifier\"\n",
    "    final_score = best_ap_voting\n",
    "elif best_ap_test > 0:\n",
    "    final_model = best_model\n",
    "    final_model_name = best_model_name\n",
    "    final_score = best_ap_test\n",
    "\n",
    "# Menampilkan model terbaik\n",
    "if final_model is not None:\n",
    "    print(f\"✅ Model Terbaik untuk CV: {final_model_name} dengan Average Precision Score: {final_score:.3f}\")\n",
    "else:\n",
    "    print(\"❌ Tidak ada model yang memenuhi syarat (AP Score Test ≤ 0.95).\")"
   ]
  },
  {
   "cell_type": "markdown",
   "metadata": {},
   "source": [
    "## Finding Optimal CV"
   ]
  },
  {
   "cell_type": "code",
   "execution_count": null,
   "metadata": {},
   "outputs": [],
   "source": [
    "# Daftar nilai CV yang ingin diuji\n",
    "cv_values = [3, 5, 7, 10]\n",
    "testing_best_cv = None\n",
    "testing_cv_score = 0\n",
    "\n",
    "print(\"🔍 Mencari Nilai CV Optimal dengan StratifiedKFold...\")\n",
    "\n",
    "for cv in cv_values:\n",
    "    print(f\"\\nEvaluasi dengan cv = {cv}\")\n",
    "    \n",
    "    # Gunakan StratifiedKFold\n",
    "    stratified_cv = StratifiedKFold(n_splits = cv, shuffle = True, random_state = 42)\n",
    "    print(f\"stratified_cv: {stratified_cv}\")\n",
    "    \n",
    "    scores = cross_val_score(final_model, \n",
    "                             X_train_mod, \n",
    "                             y_train_mod, \n",
    "                             cv = stratified_cv, \n",
    "                             scoring = 'average_precision', \n",
    "                             n_jobs = -1)\n",
    "    \n",
    "    mean_score = np.mean(scores)  # ✅ Gunakan rata-rata, bukan max\n",
    "    print(f\"average_precision rata-rata: {mean_score:.3f} (dengan cv = {cv})\")\n",
    "    \n",
    "    # Simpan nilai CV terbaik\n",
    "    if mean_score > testing_cv_score:\n",
    "        testing_cv_score = mean_score\n",
    "        testing_best_cv = cv\n",
    "\n",
    "print(f\"\\n✅ Nilai CV Optimal: {testing_best_cv} dengan ROC-AUC: {testing_cv_score:.3f}\")"
   ]
  },
  {
   "cell_type": "code",
   "execution_count": null,
   "metadata": {},
   "outputs": [],
   "source": [
    "sam = "
   ]
  },
  {
   "cell_type": "markdown",
   "metadata": {},
   "source": [
    "# Data Tuning"
   ]
  },
  {
   "cell_type": "markdown",
   "metadata": {},
   "source": [
    "## Model Tuning"
   ]
  },
  {
   "cell_type": "code",
   "execution_count": null,
   "metadata": {},
   "outputs": [],
   "source": [
    "# Pilih model yang akan di-tuning\n",
    "if final_model_name == \"Random Forest\":\n",
    "    param_dist = {\n",
    "        'n_estimators': [100, 300, 500, 1000],  # Jumlah pohon dalam hutan\n",
    "        'max_depth': [10, 20, 30, None],  # Kedalaman maksimum pohon\n",
    "        'min_samples_split': [2, 5, 10, 20],  # Minimum sampel untuk melakukan split\n",
    "        'min_samples_leaf': [1, 2, 5, 10],  # Minimum sampel di setiap daun\n",
    "        'max_features': ['sqrt', 'log2', None],  # Fitur yang dipertimbangkan per split\n",
    "        'bootstrap': [True, False]  # Apakah menggunakan bootstrap sampling\n",
    "    }\n",
    "\n",
    "elif final_model_name == \"Logistic Regression\":\n",
    "    param_dist = {\n",
    "        'penalty': ['l1', 'l2', 'elasticnet', None],  # Jenis regularisasi\n",
    "        'C': [0.001, 0.01, 0.1, 1, 10, 100],  # Parameter inversi dari regularisasi\n",
    "        'solver': ['liblinear', 'lbfgs', 'saga', 'newton-cg'],  # Algoritma optimasi\n",
    "        'max_iter': [100, 200, 500, 1000],  # Jumlah iterasi maksimum\n",
    "        'l1_ratio': [0, 0.1, 0.5, 0.9, 1]  # Hanya berlaku untuk elasticnet\n",
    "    }\n",
    "\n",
    "\n",
    "elif final_model_name == \"XGBoost\":\n",
    "    param_dist = {\n",
    "        'n_estimators': [100, 200, 300, 500],  # Jumlah pohon boosting\n",
    "        'learning_rate': [0.001, 0.01, 0.1, 0.2],  # Laju pembelajaran\n",
    "        'max_depth': [3, 6, 10, 15],  # Kedalaman maksimum pohon\n",
    "        'min_child_weight': [1, 3, 5, 7],  # Bobot minimum anak untuk split\n",
    "        'subsample': [0.6, 0.8, 1.0],  # Rasio sampel yang digunakan dalam training\n",
    "        'colsample_bytree': [0.6, 0.8, 1.0],  # Proporsi fitur yang digunakan per pohon\n",
    "        'gamma': [0, 0.1, 0.2, 0.5],  # Pengendalian pruning dengan minimum loss reduction\n",
    "        'reg_lambda': [0, 0.1, 1, 10],  # Regularisasi L2\n",
    "        'reg_alpha': [0, 0.1, 1, 10]  # Regularisasi L1\n",
    "    }\n",
    "\n",
    "elif final_model_name == \"LightGBM\":\n",
    "    param_dist = {\n",
    "        'num_leaves': [31, 50, 100, 150],  # Jumlah daun pada setiap pohon\n",
    "        'learning_rate': [0.001, 0.01, 0.1, 0.2],  # Laju pembelajaran\n",
    "        'n_estimators': [100, 200, 300, 500],  # Jumlah pohon boosting\n",
    "        'max_depth': [-1, 10, 20, 30],  # Kedalaman maksimum pohon (-1 berarti tidak terbatas)\n",
    "        'min_child_samples': [10, 20, 50, 100],  # Minimum sampel dalam satu leaf\n",
    "        'subsample': [0.6, 0.8, 1.0],  # Proporsi sampel yang digunakan\n",
    "        'colsample_bytree': [0.6, 0.8, 1.0],  # Proporsi fitur yang digunakan per pohon\n",
    "        'reg_lambda': [0, 0.1, 1, 10],  # Regularisasi L2\n",
    "        'reg_alpha': [0, 0.1, 1, 10]  # Regularisasi L1\n",
    "    }\n",
    "\n",
    "elif final_model_name == \"CatBoost\":\n",
    "    param_dist = {\n",
    "        'iterations': [100, 200, 300, 500],  # Jumlah iterasi boosting\n",
    "        'learning_rate': [0.001, 0.01, 0.1, 0.2],  # Laju pembelajaran\n",
    "        'depth': [4, 6, 10, 12],  # Kedalaman maksimum pohon\n",
    "        'l2_leaf_reg': [1, 3, 5, 10],  # Regularisasi L2 untuk leaf\n",
    "        'bagging_temperature': [0.1, 0.5, 1, 2],  # Kontrol bootstraping (mirip dengan subsample)\n",
    "        'border_count': [32, 64, 128],  # Jumlah bin untuk fitur numerik\n",
    "        'random_strength': [0.1, 0.5, 1, 2]  # Noise untuk regularisasi\n",
    "    }"
   ]
  },
  {
   "cell_type": "code",
   "execution_count": null,
   "metadata": {},
   "outputs": [],
   "source": [
    "# from itertools import product\n",
    "\n",
    "# # Pastikan `final_model_name` memiliki nilai yang valid\n",
    "# if \"final_model_name\" not in globals():\n",
    "#     raise ValueError(\"Variabel 'final_model_name' belum didefinisikan!\")\n",
    "\n",
    "# # Pilih model yang akan di-tuning\n",
    "# if final_model_name == \"Random Forest\":\n",
    "#     param_dist = {\n",
    "#         'n_estimators': [100, 300, 500, 1000],\n",
    "#         'max_depth': [10, 20, 30, None],\n",
    "#         'min_samples_split': [2, 5, 10, 20],\n",
    "#         'min_samples_leaf': [1, 2, 5, 10],\n",
    "#         'max_features': ['sqrt', 'log2', None],\n",
    "#         'bootstrap': [True, False]\n",
    "#     }\n",
    "\n",
    "# elif final_model_name == \"XGBoost\":\n",
    "#     param_dist = {\n",
    "#         'n_estimators': [100, 200, 300, 500],\n",
    "#         'learning_rate': [0.001, 0.01, 0.1, 0.2],\n",
    "#         'max_depth': [3, 6, 10, 15],\n",
    "#         'min_child_weight': [1, 3, 5, 7],\n",
    "#         'subsample': [0.6, 0.8, 1.0],\n",
    "#         'colsample_bytree': [0.6, 0.8, 1.0],\n",
    "#         'gamma': [0, 0.1, 0.2, 0.5],\n",
    "#         'reg_lambda': [0, 0.1, 1, 10],\n",
    "#         'reg_alpha': [0, 0.1, 1, 10]\n",
    "#     }\n",
    "\n",
    "# elif final_model_name == \"LightGBM\":\n",
    "#     param_dist = {\n",
    "#         'num_leaves': [31, 50, 100, 150],\n",
    "#         'learning_rate': [0.001, 0.01, 0.1, 0.2],\n",
    "#         'n_estimators': [100, 200, 300, 500],\n",
    "#         'max_depth': [-1, 10, 20, 30],\n",
    "#         'min_child_samples': [10, 20, 50, 100],\n",
    "#         'subsample': [0.6, 0.8, 1.0],\n",
    "#         'colsample_bytree': [0.6, 0.8, 1.0],\n",
    "#         'reg_lambda': [0, 0.1, 1, 10],\n",
    "#         'reg_alpha': [0, 0.1, 1, 10]\n",
    "#     }\n",
    "\n",
    "# elif final_model_name == \"CatBoost\":\n",
    "#     param_dist = {\n",
    "#         'iterations': [100, 200, 300, 500],\n",
    "#         'learning_rate': [0.001, 0.01, 0.1, 0.2],\n",
    "#         'depth': [4, 6, 10, 12],\n",
    "#         'l2_leaf_reg': [1, 3, 5, 10],\n",
    "#         'bagging_temperature': [0.1, 0.5, 1, 2],\n",
    "#         'border_count': [32, 64, 128],\n",
    "#         'random_strength': [0.1, 0.5, 1, 2]\n",
    "#     }\n",
    "\n",
    "# else:\n",
    "#     raise ValueError(f\"Model '{final_model_name}' tidak dikenali!\")\n"
   ]
  },
  {
   "cell_type": "code",
   "execution_count": null,
   "metadata": {},
   "outputs": [],
   "source": [
    "# # 🔹 Pastikan X_train_mod adalah DataFrame\n",
    "# if isinstance(X_train_mod, np.ndarray):\n",
    "#     X_train_mod = pd.DataFrame(X_train_mod)\n",
    "\n",
    "# # 🔹 Bersihkan dataset dari NaN\n",
    "# X_train_mod = X_train_mod.fillna(X_train_mod.median())\n",
    "\n",
    "# # 🔹 Bersihkan dataset dari Inf\n",
    "# X_train_mod = X_train_mod.replace([np.inf, -np.inf], np.nan)  # Ganti Inf jadi NaN\n",
    "# X_train_mod = X_train_mod.fillna(X_train_mod.median())  # Isi ulang dengan median\n",
    "\n",
    "# # 🔹 Konversi kembali ke NumPy jika diperlukan\n",
    "# X_train_mod = X_train_mod.to_numpy()"
   ]
  },
  {
   "cell_type": "code",
   "execution_count": null,
   "metadata": {},
   "outputs": [],
   "source": [
    "# 🔹 Hitung jumlah kombinasi parameter jika `param_dist` sudah terdefinisi\n",
    "if \"param_dist\" in globals():\n",
    "    total_combinations = len(list(product(*param_dist.values())))\n",
    "    print(f\"Total kombinasi parameter valid: {total_combinations}\")\n",
    "\n",
    "    # 🔹 Atur `n_candidates` agar tidak lebih besar dari jumlah kombinasi parameter\n",
    "    param_combinations = min(100, total_combinations)\n",
    "else:\n",
    "    raise ValueError(\"param_dist tidak terdefinisi.\")"
   ]
  },
  {
   "cell_type": "code",
   "execution_count": null,
   "metadata": {},
   "outputs": [],
   "source": [
    "# # Konversi kembali ke DataFrame dengan kolom asli\n",
    "# X_train_mod = pd.DataFrame(X_train_mod, columns=X_train.columns)\n",
    "# X_test_mod = pd.DataFrame(X_test_mod, columns=X_test.columns)\n",
    "\n",
    "# # 🔍 Cek dan Tangani NaN & Inf\n",
    "# def clean_data(df):\n",
    "#     # Simpan nama kolom\n",
    "#     columns = df.columns\n",
    "\n",
    "#     # Pastikan semua kolom numerik\n",
    "#     df = df.apply(pd.to_numeric, errors='coerce')\n",
    "\n",
    "#     # Cek apakah ada NaN atau Inf\n",
    "#     if np.any(pd.isnull(df)) or np.any(np.isinf(df)):\n",
    "#         print(\"⚠️ Warning: Dataset mengandung NaN atau Inf! Membersihkannya...\")\n",
    "\n",
    "#         # Ganti NaN dengan median setiap kolom\n",
    "#         df = df.fillna(df.median())\n",
    "\n",
    "#         # Ganti Inf dengan nilai maksimum di setiap kolom\n",
    "#         df = df.replace([np.inf, -np.inf], df.max())\n",
    "\n",
    "#     # Pastikan DataFrame tetap memiliki nama kolom\n",
    "#     df.columns = columns\n",
    "\n",
    "#     return df\n",
    "\n",
    "# # 🔹 Bersihkan X_train_mod & X_test_mod\n",
    "# X_train_mod = clean_data(X_train_mod)\n",
    "# X_test_mod = clean_data(X_test_mod)\n",
    "\n",
    "# # 🔍 Cek statistik dataset setelah pembersihan\n",
    "# print(X_train_mod.describe())\n"
   ]
  },
  {
   "cell_type": "code",
   "execution_count": null,
   "metadata": {},
   "outputs": [],
   "source": [
    "from sklearn.experimental import enable_halving_search_cv\n",
    "from sklearn.model_selection import HalvingRandomSearchCV\n",
    "\n",
    "# \n",
    "skf = StratifiedKFold(n_splits = testing_best_cv, shuffle = True, random_state = 42)\n",
    "\n",
    "# 🔍 Hyperparameter Tuning dengan HalvingRandomSearchCV\n",
    "halving_search = HalvingRandomSearchCV(\n",
    "    final_model, \n",
    "    param_distributions = param_dist, \n",
    "    factor = 2, # Total combination / factor\n",
    "    scoring = 'average_precision', \n",
    "    cv = skf, \n",
    "    n_jobs = -1, \n",
    "    random_state = 42,\n",
    "    n_candidates = param_combinations, \n",
    "    error_score = \"raise\"\n",
    ")\n",
    "\n",
    "halving_search.fit(X_train_mod, y_train_mod)\n",
    "\n",
    "print(f\"\\n🔍 Hyperparameter Terbaik ({final_model_name}): {halving_search.best_params_}\")\n",
    "print(f\"✅ Best ROC-AUC Score: {halving_search.best_score_:.3f}\")\n",
    "\n",
    "optimal_cv = halving_search.best_estimator_"
   ]
  },
  {
   "cell_type": "markdown",
   "metadata": {},
   "source": [
    "## Final Evaluation"
   ]
  },
  {
   "cell_type": "code",
   "execution_count": null,
   "metadata": {},
   "outputs": [],
   "source": [
    "from sklearn.metrics import average_precision_score, classification_report, precision_recall_curve, roc_auc_score\n",
    "\n",
    "# 🔹 Konversi ke NumPy untuk menghindari warning\n",
    "X_test_mod = X_test_mod.to_numpy()\n",
    "\n",
    "# 🔹 Prediksi dengan Model Terbaik\n",
    "y_test_pred_proba = optimal_cv.predict_proba(X_test_mod)[:, 1]\n",
    "\n",
    "# 🔹 Menghitung Average Precision Score (AP Score)\n",
    "ap_score = average_precision_score(y_test_mod, y_test_pred_proba)\n",
    "print(f\"📊 Average Precision Score (Test): {ap_score:.3f}\")\n",
    "\n",
    "# 🔹 Mencari Threshold Optimal menggunakan Precision-Recall Curve\n",
    "precisions, recalls, thresholds = precision_recall_curve(y_test_mod, y_test_pred_proba)\n",
    "f1_scores = 2 * (precisions * recalls) / (precisions + recalls + 1e-9)  # Hindari pembagian oleh nol\n",
    "best_threshold = thresholds[f1_scores.argmax()] if len(thresholds) > 0 else 0.5\n",
    "\n",
    "# 🔹 Gunakan Threshold Optimal untuk Prediksi Akhir\n",
    "y_test_pred = (y_test_pred_proba >= best_threshold).astype(int)\n",
    "\n",
    "# 🔹 Classification Report\n",
    "print(\"\\n=== Classification Report ===\")\n",
    "print(classification_report(y_test_mod, y_test_pred))\n",
    "\n",
    "# 🔹 ROC-AUC Score\n",
    "roc_auc_final = roc_auc_score(y_test_mod, y_test_pred_proba)\n",
    "print(f\"🎯 Final ROC-AUC Score: {roc_auc_final:.3f}\")\n",
    "print(f\"🔹 Best Threshold Used: {best_threshold:.3f}\")\n"
   ]
  },
  {
   "cell_type": "markdown",
   "metadata": {},
   "source": [
    "# Model Visualization"
   ]
  },
  {
   "cell_type": "code",
   "execution_count": null,
   "metadata": {},
   "outputs": [],
   "source": [
    "import matplotlib.pyplot as plt\n",
    "import seaborn as sns\n",
    "from sklearn.metrics import precision_recall_curve, roc_curve\n",
    "\n",
    "# 🔹 Precision-Recall Curve\n",
    "plt.figure(figsize=(10, 5))\n",
    "precisions, recalls, _ = precision_recall_curve(y_test_mod, y_test_pred_proba)\n",
    "plt.plot(recalls, precisions, marker='.', label=f'AP Score: {ap_score:.3f}')\n",
    "plt.xlabel('Recall')\n",
    "plt.ylabel('Precision')\n",
    "plt.title('Precision-Recall Curve')\n",
    "plt.legend()\n",
    "plt.grid()\n",
    "plt.show()"
   ]
  },
  {
   "cell_type": "code",
   "execution_count": null,
   "metadata": {},
   "outputs": [],
   "source": [
    "# 🔹 ROC Curve\n",
    "plt.figure(figsize=(10, 5))\n",
    "fpr, tpr, _ = roc_curve(y_test_mod, y_test_pred_proba)\n",
    "plt.plot(fpr, tpr, marker='.', label=f'ROC-AUC: {roc_auc_final:.3f}')\n",
    "plt.xlabel('False Positive Rate')\n",
    "plt.ylabel('True Positive Rate')\n",
    "plt.title('ROC Curve')\n",
    "plt.legend()\n",
    "plt.grid()\n",
    "plt.show()"
   ]
  },
  {
   "cell_type": "code",
   "execution_count": null,
   "metadata": {},
   "outputs": [],
   "source": [
    "# 🔹 Histogram Probabilitas Prediksi\n",
    "plt.figure(figsize=(10, 5))\n",
    "sns.histplot(y_test_pred_proba[y_test_mod == 0], bins=50, label='Non-Fraud', color='blue', alpha=0.6)\n",
    "sns.histplot(y_test_pred_proba[y_test_mod == 1], bins=50, label='Fraud', color='red', alpha=0.6)\n",
    "plt.axvline(best_threshold, color='black', linestyle='dashed', label=f'Threshold: {best_threshold:.3f}')\n",
    "plt.xlabel('Predicted Probability')\n",
    "plt.ylabel('Frequency')\n",
    "plt.title('Distribution of Predicted Probabilities')\n",
    "plt.legend()\n",
    "plt.show()"
   ]
  },
  {
   "cell_type": "code",
   "execution_count": null,
   "metadata": {},
   "outputs": [],
   "source": [
    "# 🔹 Confusion Matrix\n",
    "cm = confusion_matrix(y_test_mod, y_test_pred)\n",
    "plt.figure(figsize=(6, 6))\n",
    "sns.heatmap(cm, annot=True, fmt='d', cmap='Blues', xticklabels=[\"Non-Fraud\", \"Fraud\"], yticklabels=[\"Non-Fraud\", \"Fraud\"])\n",
    "plt.xlabel('Predicted')\n",
    "plt.ylabel('Actual')\n",
    "plt.title('Confusion Matrix')\n",
    "plt.show()"
   ]
  },
  {
   "cell_type": "markdown",
   "metadata": {},
   "source": [
    "# Save Model"
   ]
  },
  {
   "cell_type": "code",
   "execution_count": null,
   "metadata": {},
   "outputs": [],
   "source": [
    "# Tentukan folder tujuan\n",
    "dir_name = 'datamart'\n",
    "folder_path = f\"../{dir_name}\"\n",
    "\n",
    "# Cek apakah folder sudah ada, jika belum buat foldernya\n",
    "if not os.path.exists(folder_path):\n",
    "    os.makedirs(folder_path)\n",
    "    \n",
    "    print(f\"Directory '{dir_name}' created successfully.\")\n",
    "\n",
    "else: \n",
    "    print(f'Directory has already been created.')"
   ]
  }
 ],
 "metadata": {
  "kernelspec": {
   "display_name": "base",
   "language": "python",
   "name": "python3"
  },
  "language_info": {
   "codemirror_mode": {
    "name": "ipython",
    "version": 3
   },
   "file_extension": ".py",
   "mimetype": "text/x-python",
   "name": "python",
   "nbconvert_exporter": "python",
   "pygments_lexer": "ipython3",
   "version": "3.12.3"
  }
 },
 "nbformat": 4,
 "nbformat_minor": 2
}
