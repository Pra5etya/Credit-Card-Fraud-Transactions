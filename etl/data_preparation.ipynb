{
 "cells": [
  {
   "cell_type": "markdown",
   "metadata": {},
   "source": [
    "# Library / Packages"
   ]
  },
  {
   "cell_type": "code",
   "execution_count": 1,
   "metadata": {},
   "outputs": [],
   "source": [
    "# basic library\n",
    "import os\n",
    "import pandas as pd\n",
    "import numpy as np\n",
    "import sys\n",
    "\n",
    "# based on geolocation\n",
    "from geopy.distance import geodesic\n",
    "\n",
    "# pickle and .env\n",
    "from dotenv import dotenv_values\n",
    "import pickle"
   ]
  },
  {
   "cell_type": "markdown",
   "metadata": {},
   "source": [
    "# Dataset"
   ]
  },
  {
   "cell_type": "code",
   "execution_count": 2,
   "metadata": {},
   "outputs": [],
   "source": [
    "# \n",
    "pd.set_option('display.max_columns', None)"
   ]
  },
  {
   "cell_type": "markdown",
   "metadata": {},
   "source": [
    "## Credit Info"
   ]
  },
  {
   "cell_type": "code",
   "execution_count": 3,
   "metadata": {},
   "outputs": [
    {
     "data": {
      "application/vnd.microsoft.datawrangler.viewer.v0+json": {
       "columns": [
        {
         "name": "index",
         "rawType": "int64",
         "type": "integer"
        },
        {
         "name": "credit_card",
         "rawType": "int64",
         "type": "integer"
        },
        {
         "name": "city",
         "rawType": "object",
         "type": "string"
        },
        {
         "name": "state",
         "rawType": "object",
         "type": "string"
        },
        {
         "name": "zipcode",
         "rawType": "int64",
         "type": "integer"
        },
        {
         "name": "credit_card_limit",
         "rawType": "int64",
         "type": "integer"
        }
       ],
       "conversionMethod": "pd.DataFrame",
       "ref": "28f011cd-416e-4dff-a05a-fea244cdee64",
       "rows": [
        [
         "0",
         "1280981422329509",
         "Dallas",
         "PA",
         "18612",
         "6000"
        ],
        [
         "1",
         "9737219864179988",
         "Houston",
         "PA",
         "15342",
         "16000"
        ],
        [
         "2",
         "4749889059323202",
         "Auburn",
         "MA",
         "1501",
         "14000"
        ],
        [
         "3",
         "9591503562024072",
         "Orlando",
         "WV",
         "26412",
         "18000"
        ],
        [
         "4",
         "2095640259001271",
         "New York",
         "NY",
         "10001",
         "20000"
        ]
       ],
       "shape": {
        "columns": 5,
        "rows": 5
       }
      },
      "text/html": [
       "<div>\n",
       "<style scoped>\n",
       "    .dataframe tbody tr th:only-of-type {\n",
       "        vertical-align: middle;\n",
       "    }\n",
       "\n",
       "    .dataframe tbody tr th {\n",
       "        vertical-align: top;\n",
       "    }\n",
       "\n",
       "    .dataframe thead th {\n",
       "        text-align: right;\n",
       "    }\n",
       "</style>\n",
       "<table border=\"1\" class=\"dataframe\">\n",
       "  <thead>\n",
       "    <tr style=\"text-align: right;\">\n",
       "      <th></th>\n",
       "      <th>credit_card</th>\n",
       "      <th>city</th>\n",
       "      <th>state</th>\n",
       "      <th>zipcode</th>\n",
       "      <th>credit_card_limit</th>\n",
       "    </tr>\n",
       "  </thead>\n",
       "  <tbody>\n",
       "    <tr>\n",
       "      <th>0</th>\n",
       "      <td>1280981422329509</td>\n",
       "      <td>Dallas</td>\n",
       "      <td>PA</td>\n",
       "      <td>18612</td>\n",
       "      <td>6000</td>\n",
       "    </tr>\n",
       "    <tr>\n",
       "      <th>1</th>\n",
       "      <td>9737219864179988</td>\n",
       "      <td>Houston</td>\n",
       "      <td>PA</td>\n",
       "      <td>15342</td>\n",
       "      <td>16000</td>\n",
       "    </tr>\n",
       "    <tr>\n",
       "      <th>2</th>\n",
       "      <td>4749889059323202</td>\n",
       "      <td>Auburn</td>\n",
       "      <td>MA</td>\n",
       "      <td>1501</td>\n",
       "      <td>14000</td>\n",
       "    </tr>\n",
       "    <tr>\n",
       "      <th>3</th>\n",
       "      <td>9591503562024072</td>\n",
       "      <td>Orlando</td>\n",
       "      <td>WV</td>\n",
       "      <td>26412</td>\n",
       "      <td>18000</td>\n",
       "    </tr>\n",
       "    <tr>\n",
       "      <th>4</th>\n",
       "      <td>2095640259001271</td>\n",
       "      <td>New York</td>\n",
       "      <td>NY</td>\n",
       "      <td>10001</td>\n",
       "      <td>20000</td>\n",
       "    </tr>\n",
       "  </tbody>\n",
       "</table>\n",
       "</div>"
      ],
      "text/plain": [
       "        credit_card      city state  zipcode  credit_card_limit\n",
       "0  1280981422329509    Dallas    PA    18612               6000\n",
       "1  9737219864179988   Houston    PA    15342              16000\n",
       "2  4749889059323202    Auburn    MA     1501              14000\n",
       "3  9591503562024072   Orlando    WV    26412              18000\n",
       "4  2095640259001271  New York    NY    10001              20000"
      ]
     },
     "execution_count": 3,
     "metadata": {},
     "output_type": "execute_result"
    }
   ],
   "source": [
    "# parameter\n",
    "link = {**dotenv_values('../.env.secret')}\n",
    "path = link['RAW_CREDIT_INFO']\n",
    "\n",
    "# filter missing values\n",
    "missing_val = ['N/a', 'n/a', 'No', 'N\\a', 'na', 'NA', np.nan]\n",
    "\n",
    "# load data to df\n",
    "cc_info_df = pd.read_csv(path, sep = ',', na_values = missing_val, low_memory = False)\n",
    "cc_info_df.head()"
   ]
  },
  {
   "cell_type": "code",
   "execution_count": 4,
   "metadata": {},
   "outputs": [
    {
     "name": "stdout",
     "output_type": "stream",
     "text": [
      "<class 'pandas.core.frame.DataFrame'>\n",
      "RangeIndex: 984 entries, 0 to 983\n",
      "Data columns (total 5 columns):\n",
      " #   Column             Non-Null Count  Dtype \n",
      "---  ------             --------------  ----- \n",
      " 0   credit_card        984 non-null    int64 \n",
      " 1   city               984 non-null    object\n",
      " 2   state              984 non-null    object\n",
      " 3   zipcode            984 non-null    int64 \n",
      " 4   credit_card_limit  984 non-null    int64 \n",
      "dtypes: int64(3), object(2)\n",
      "memory usage: 38.6+ KB\n"
     ]
    }
   ],
   "source": [
    "# check data type\n",
    "cc_info_df.info()"
   ]
  },
  {
   "cell_type": "markdown",
   "metadata": {},
   "source": [
    "### Data Cleaning"
   ]
  },
  {
   "cell_type": "markdown",
   "metadata": {},
   "source": [
    "#### Category Check"
   ]
  },
  {
   "cell_type": "code",
   "execution_count": 5,
   "metadata": {},
   "outputs": [
    {
     "data": {
      "application/vnd.microsoft.datawrangler.viewer.v0+json": {
       "columns": [
        {
         "name": "index",
         "rawType": "int64",
         "type": "integer"
        },
        {
         "name": "city",
         "rawType": "object",
         "type": "string"
        },
        {
         "name": "state",
         "rawType": "object",
         "type": "string"
        }
       ],
       "conversionMethod": "pd.DataFrame",
       "ref": "b905db78-2c00-4f58-a13f-4aed31a062db",
       "rows": [
        [
         "0",
         "Dallas",
         "PA"
        ],
        [
         "1",
         "Houston",
         "PA"
        ],
        [
         "2",
         "Auburn",
         "MA"
        ],
        [
         "3",
         "Orlando",
         "WV"
        ],
        [
         "4",
         "New York",
         "NY"
        ]
       ],
       "shape": {
        "columns": 2,
        "rows": 5
       }
      },
      "text/html": [
       "<div>\n",
       "<style scoped>\n",
       "    .dataframe tbody tr th:only-of-type {\n",
       "        vertical-align: middle;\n",
       "    }\n",
       "\n",
       "    .dataframe tbody tr th {\n",
       "        vertical-align: top;\n",
       "    }\n",
       "\n",
       "    .dataframe thead th {\n",
       "        text-align: right;\n",
       "    }\n",
       "</style>\n",
       "<table border=\"1\" class=\"dataframe\">\n",
       "  <thead>\n",
       "    <tr style=\"text-align: right;\">\n",
       "      <th></th>\n",
       "      <th>city</th>\n",
       "      <th>state</th>\n",
       "    </tr>\n",
       "  </thead>\n",
       "  <tbody>\n",
       "    <tr>\n",
       "      <th>0</th>\n",
       "      <td>Dallas</td>\n",
       "      <td>PA</td>\n",
       "    </tr>\n",
       "    <tr>\n",
       "      <th>1</th>\n",
       "      <td>Houston</td>\n",
       "      <td>PA</td>\n",
       "    </tr>\n",
       "    <tr>\n",
       "      <th>2</th>\n",
       "      <td>Auburn</td>\n",
       "      <td>MA</td>\n",
       "    </tr>\n",
       "    <tr>\n",
       "      <th>3</th>\n",
       "      <td>Orlando</td>\n",
       "      <td>WV</td>\n",
       "    </tr>\n",
       "    <tr>\n",
       "      <th>4</th>\n",
       "      <td>New York</td>\n",
       "      <td>NY</td>\n",
       "    </tr>\n",
       "  </tbody>\n",
       "</table>\n",
       "</div>"
      ],
      "text/plain": [
       "       city state\n",
       "0    Dallas    PA\n",
       "1   Houston    PA\n",
       "2    Auburn    MA\n",
       "3   Orlando    WV\n",
       "4  New York    NY"
      ]
     },
     "execution_count": 5,
     "metadata": {},
     "output_type": "execute_result"
    }
   ],
   "source": [
    "check_cat = cc_info_df.select_dtypes(include = ['object'])\n",
    "check_cat.head()"
   ]
  },
  {
   "cell_type": "code",
   "execution_count": 6,
   "metadata": {},
   "outputs": [
    {
     "name": "stdout",
     "output_type": "stream",
     "text": [
      "CITY \t: ['Dallas' 'Houston' 'Auburn' 'Orlando' 'New York' 'Atlanta' 'Pittsburgh'\n",
      " 'Birmingham' 'Washington' 'Los Angeles' 'Phoenix' 'Colorado Springs'\n",
      " 'San Francisco' 'Columbus' 'Topeka' 'El Paso' 'Corpus Christi' 'Richmond'\n",
      " 'Sacramento' 'Arlington' 'Cleveland' 'Tacoma' 'San Diego' 'Springfield'\n",
      " 'Chicago' 'Seattle' 'Albany' 'Kansas City' 'Denver' 'Oklahoma City'\n",
      " 'Las Vegas' 'Raleigh' 'Pasadena' 'Memphis' 'Des Moines' 'Miami'\n",
      " 'Portland' 'Buffalo' 'Long Beach' 'Newark' 'San Antonio' 'Indianapolis'\n",
      " 'Fort Worth' 'Akron' 'New Orleans' 'Saint Louis' 'Salt Lake City'\n",
      " 'Fresno' 'Cincinnati' 'Austin' 'Dover' 'San Jose' 'Trenton' 'Oakland'\n",
      " 'Gretna' 'Clinton' 'Honolulu' 'Charleston' 'Dayton' 'Mobile' 'Charlotte'\n",
      " 'Philadelphia' 'Madison' 'Newport' 'Lafayette' 'Pensacola' 'Jacksonville'\n",
      " 'Greensboro' 'Shreveport' 'Saint Paul' 'Huntington' 'Jackson' 'Lexington'\n",
      " 'Rochester' 'Minneapolis' 'Columbia' 'Louisville' 'Boston' 'New Haven'\n",
      " 'Wichita' 'Bristol' 'Hillsboro' 'Hartford' 'Friendship' 'Omaha' 'Tampa'\n",
      " 'Scranton' 'Tulsa' 'Cedar Rapids' 'Troy' 'Vallejo' 'Somerset' 'Chester'\n",
      " 'Huntsville' 'Cascade' 'Evansville' 'Wilmington' 'Spokane' 'Baltimore'\n",
      " 'Amarillo' 'Monticello' 'Detroit' 'Bronx' 'Knoxville' 'Tucson'\n",
      " 'Young America' 'Boise' 'Milwaukee' 'Garfield' 'Manchester' 'Lancaster'\n",
      " 'Lake City' 'Staten Island' 'Jamaica' 'Roanoke' 'Greenville' 'Montgomery'\n",
      " 'Fort Wayne' 'Alexandria' 'Fort Lauderdale' 'Garden Grove' 'Williamsburg'\n",
      " 'Quitman' 'Aurora'] \n",
      "\n",
      "city\n",
      "Washington    370\n",
      "Houston        81\n",
      "New York       54\n",
      "El Paso        43\n",
      "Dallas         35\n",
      "             ... \n",
      "Troy            1\n",
      "Vallejo         1\n",
      "Somerset        1\n",
      "Huntsville      1\n",
      "Aurora          1\n",
      "Name: count, Length: 124, dtype: int64 \n",
      "\n",
      "-------------------------------------------------- \n",
      "\n",
      "STATE \t: ['PA' 'MA' 'WV' 'NY' 'NJ' 'NH' 'CA' 'CO' 'IN' 'IL' 'TX' 'WA' 'VT' 'MO'\n",
      " 'OK' 'NM' 'MD' 'IA' 'ME' 'PR' 'LA' 'MI' 'UT' 'OH' 'RI' 'VA' 'HI' 'AL'\n",
      " 'FL' 'NC' 'CT' 'GA' 'KS' 'AZ' 'ID'] \n",
      "\n",
      "state\n",
      "NH    389\n",
      "PA    153\n",
      "NY     96\n",
      "MA     53\n",
      "IL     53\n",
      "VT     30\n",
      "WV     23\n",
      "NJ     22\n",
      "ME     15\n",
      "CA     15\n",
      "MO     13\n",
      "GA     12\n",
      "TX     12\n",
      "OH     11\n",
      "OK     10\n",
      "IN      9\n",
      "PR      8\n",
      "WA      7\n",
      "NM      6\n",
      "VA      6\n",
      "RI      5\n",
      "FL      4\n",
      "IA      4\n",
      "MI      3\n",
      "LA      3\n",
      "AL      3\n",
      "MD      3\n",
      "NC      3\n",
      "CT      3\n",
      "UT      2\n",
      "HI      2\n",
      "CO      2\n",
      "ID      2\n",
      "KS      1\n",
      "AZ      1\n",
      "Name: count, dtype: int64 \n",
      "\n",
      "-------------------------------------------------- \n",
      "\n"
     ]
    }
   ],
   "source": [
    "for i in check_cat.columns:\n",
    "    print(f'{i.upper()} \\t: {check_cat[i].unique()} \\n')\n",
    "    print(f'{check_cat[i].value_counts()} \\n')\n",
    "    print(f'{\"-\" * 50} \\n')"
   ]
  },
  {
   "cell_type": "markdown",
   "metadata": {},
   "source": [
    "#### Data Duplicate"
   ]
  },
  {
   "cell_type": "code",
   "execution_count": 7,
   "metadata": {},
   "outputs": [
    {
     "name": "stdout",
     "output_type": "stream",
     "text": [
      "Total General Duplicate: 0\n"
     ]
    }
   ],
   "source": [
    "# check general duplicate\n",
    "print(f\"Total General Duplicate: {cc_info_df.duplicated().sum()}\")"
   ]
  },
  {
   "cell_type": "code",
   "execution_count": 8,
   "metadata": {},
   "outputs": [
    {
     "name": "stdout",
     "output_type": "stream",
     "text": [
      "Total Specific Duplicate: 0\n"
     ]
    }
   ],
   "source": [
    "# check specific duplicate\n",
    "print(f\"Total Specific Duplicate: {cc_info_df['credit_card'].duplicated().sum()}\")"
   ]
  },
  {
   "cell_type": "markdown",
   "metadata": {},
   "source": [
    "#### Null Checking"
   ]
  },
  {
   "cell_type": "code",
   "execution_count": 9,
   "metadata": {},
   "outputs": [
    {
     "data": {
      "text/plain": [
       "credit_card          0\n",
       "city                 0\n",
       "state                0\n",
       "zipcode              0\n",
       "credit_card_limit    0\n",
       "dtype: int64"
      ]
     },
     "execution_count": 9,
     "metadata": {},
     "output_type": "execute_result"
    }
   ],
   "source": [
    "# check null\n",
    "cc_info_df.isnull().sum()"
   ]
  },
  {
   "cell_type": "markdown",
   "metadata": {},
   "source": [
    "## Credit Transactions"
   ]
  },
  {
   "cell_type": "code",
   "execution_count": 10,
   "metadata": {},
   "outputs": [
    {
     "data": {
      "application/vnd.microsoft.datawrangler.viewer.v0+json": {
       "columns": [
        {
         "name": "index",
         "rawType": "int64",
         "type": "integer"
        },
        {
         "name": "credit_card",
         "rawType": "int64",
         "type": "integer"
        },
        {
         "name": "date",
         "rawType": "object",
         "type": "string"
        },
        {
         "name": "transaction_dollar_amount",
         "rawType": "float64",
         "type": "float"
        },
        {
         "name": "Long",
         "rawType": "float64",
         "type": "float"
        },
        {
         "name": "Lat",
         "rawType": "float64",
         "type": "float"
        }
       ],
       "conversionMethod": "pd.DataFrame",
       "ref": "248de7e8-6949-469d-86dd-674e9a53f285",
       "rows": [
        [
         "0",
         "1003715054175576",
         "2015-09-11 00:32:40",
         "43.78",
         "-80.1741323292432",
         "40.2673703430082"
        ],
        [
         "1",
         "1003715054175576",
         "2015-10-24 22:23:08",
         "103.15",
         "-80.1942395924575",
         "40.1801138227341"
        ],
        [
         "2",
         "1003715054175576",
         "2015-10-26 18:19:36",
         "48.55",
         "-80.2110325106832",
         "40.313004401402"
        ],
        [
         "3",
         "1003715054175576",
         "2015-10-22 19:41:10",
         "136.18",
         "-80.1741379707697",
         "40.2908953862502"
        ],
        [
         "4",
         "1003715054175576",
         "2015-10-26 20:08:22",
         "71.82",
         "-80.2387197193347",
         "40.1667191961412"
        ]
       ],
       "shape": {
        "columns": 5,
        "rows": 5
       }
      },
      "text/html": [
       "<div>\n",
       "<style scoped>\n",
       "    .dataframe tbody tr th:only-of-type {\n",
       "        vertical-align: middle;\n",
       "    }\n",
       "\n",
       "    .dataframe tbody tr th {\n",
       "        vertical-align: top;\n",
       "    }\n",
       "\n",
       "    .dataframe thead th {\n",
       "        text-align: right;\n",
       "    }\n",
       "</style>\n",
       "<table border=\"1\" class=\"dataframe\">\n",
       "  <thead>\n",
       "    <tr style=\"text-align: right;\">\n",
       "      <th></th>\n",
       "      <th>credit_card</th>\n",
       "      <th>date</th>\n",
       "      <th>transaction_dollar_amount</th>\n",
       "      <th>Long</th>\n",
       "      <th>Lat</th>\n",
       "    </tr>\n",
       "  </thead>\n",
       "  <tbody>\n",
       "    <tr>\n",
       "      <th>0</th>\n",
       "      <td>1003715054175576</td>\n",
       "      <td>2015-09-11 00:32:40</td>\n",
       "      <td>43.78</td>\n",
       "      <td>-80.174132</td>\n",
       "      <td>40.267370</td>\n",
       "    </tr>\n",
       "    <tr>\n",
       "      <th>1</th>\n",
       "      <td>1003715054175576</td>\n",
       "      <td>2015-10-24 22:23:08</td>\n",
       "      <td>103.15</td>\n",
       "      <td>-80.194240</td>\n",
       "      <td>40.180114</td>\n",
       "    </tr>\n",
       "    <tr>\n",
       "      <th>2</th>\n",
       "      <td>1003715054175576</td>\n",
       "      <td>2015-10-26 18:19:36</td>\n",
       "      <td>48.55</td>\n",
       "      <td>-80.211033</td>\n",
       "      <td>40.313004</td>\n",
       "    </tr>\n",
       "    <tr>\n",
       "      <th>3</th>\n",
       "      <td>1003715054175576</td>\n",
       "      <td>2015-10-22 19:41:10</td>\n",
       "      <td>136.18</td>\n",
       "      <td>-80.174138</td>\n",
       "      <td>40.290895</td>\n",
       "    </tr>\n",
       "    <tr>\n",
       "      <th>4</th>\n",
       "      <td>1003715054175576</td>\n",
       "      <td>2015-10-26 20:08:22</td>\n",
       "      <td>71.82</td>\n",
       "      <td>-80.238720</td>\n",
       "      <td>40.166719</td>\n",
       "    </tr>\n",
       "  </tbody>\n",
       "</table>\n",
       "</div>"
      ],
      "text/plain": [
       "        credit_card                 date  transaction_dollar_amount  \\\n",
       "0  1003715054175576  2015-09-11 00:32:40                      43.78   \n",
       "1  1003715054175576  2015-10-24 22:23:08                     103.15   \n",
       "2  1003715054175576  2015-10-26 18:19:36                      48.55   \n",
       "3  1003715054175576  2015-10-22 19:41:10                     136.18   \n",
       "4  1003715054175576  2015-10-26 20:08:22                      71.82   \n",
       "\n",
       "        Long        Lat  \n",
       "0 -80.174132  40.267370  \n",
       "1 -80.194240  40.180114  \n",
       "2 -80.211033  40.313004  \n",
       "3 -80.174138  40.290895  \n",
       "4 -80.238720  40.166719  "
      ]
     },
     "execution_count": 10,
     "metadata": {},
     "output_type": "execute_result"
    }
   ],
   "source": [
    "# parameter\n",
    "link = {**dotenv_values('../.env.secret')}\n",
    "path = link['RAW_CREDIT_TRANSACTIONS']\n",
    "\n",
    "# filter missing values\n",
    "missing_val = ['N/a', 'n/a', 'No', 'N\\a', 'na', 'NA', np.nan]\n",
    "\n",
    "# load data to df\n",
    "cc_trans_df = pd.read_csv(path, sep = ',', na_values = missing_val, low_memory = False)\n",
    "cc_trans_df.head()"
   ]
  },
  {
   "cell_type": "code",
   "execution_count": 11,
   "metadata": {},
   "outputs": [
    {
     "name": "stdout",
     "output_type": "stream",
     "text": [
      "<class 'pandas.core.frame.DataFrame'>\n",
      "RangeIndex: 294588 entries, 0 to 294587\n",
      "Data columns (total 5 columns):\n",
      " #   Column                     Non-Null Count   Dtype  \n",
      "---  ------                     --------------   -----  \n",
      " 0   credit_card                294588 non-null  int64  \n",
      " 1   datetime                   294588 non-null  object \n",
      " 2   transaction_dollar_amount  294588 non-null  float64\n",
      " 3   long                       294588 non-null  float64\n",
      " 4   lat                        294588 non-null  float64\n",
      "dtypes: float64(3), int64(1), object(1)\n",
      "memory usage: 11.2+ MB\n"
     ]
    }
   ],
   "source": [
    "# \n",
    "cc_trans_df.columns = cc_trans_df.columns.str.lower().str.replace(' ', '_')\n",
    "cc_trans_df = cc_trans_df.rename(columns = {'date': 'datetime'})\n",
    "cc_trans_df.info()"
   ]
  },
  {
   "cell_type": "markdown",
   "metadata": {},
   "source": [
    "### Data Cleaning"
   ]
  },
  {
   "cell_type": "markdown",
   "metadata": {},
   "source": [
    "#### Data Duplicate"
   ]
  },
  {
   "cell_type": "code",
   "execution_count": 12,
   "metadata": {},
   "outputs": [
    {
     "name": "stdout",
     "output_type": "stream",
     "text": [
      "Total General Duplicate: 0\n"
     ]
    }
   ],
   "source": [
    "# check general duplicate\n",
    "print(f\"Total General Duplicate: {cc_trans_df.duplicated().sum()}\")"
   ]
  },
  {
   "cell_type": "code",
   "execution_count": 13,
   "metadata": {},
   "outputs": [
    {
     "name": "stdout",
     "output_type": "stream",
     "text": [
      "Total Specific Duplicate: 13523\n"
     ]
    }
   ],
   "source": [
    "# check specific duplicate\n",
    "print(f\"Total Specific Duplicate: {cc_trans_df['datetime'].duplicated().sum()}\")"
   ]
  },
  {
   "cell_type": "code",
   "execution_count": 14,
   "metadata": {},
   "outputs": [
    {
     "data": {
      "application/vnd.microsoft.datawrangler.viewer.v0+json": {
       "columns": [
        {
         "name": "index",
         "rawType": "int64",
         "type": "integer"
        },
        {
         "name": "credit_card",
         "rawType": "int64",
         "type": "integer"
        },
        {
         "name": "datetime",
         "rawType": "object",
         "type": "string"
        },
        {
         "name": "transaction_dollar_amount",
         "rawType": "float64",
         "type": "float"
        },
        {
         "name": "long",
         "rawType": "float64",
         "type": "float"
        },
        {
         "name": "lat",
         "rawType": "float64",
         "type": "float"
        }
       ],
       "conversionMethod": "pd.DataFrame",
       "ref": "c15275e0-bc88-4199-b6ec-edf2860ca5ae",
       "rows": [
        [
         "69871",
         "3253141560871065",
         "2015-08-01 20:56:37",
         "86.84",
         "47.0974003367873",
         "26.228184718331"
        ],
        [
         "70172",
         "3253141560871065",
         "2015-08-01 20:56:37",
         "32.62",
         "-84.480998314512",
         "39.119677821596"
        ],
        [
         "41771",
         "2238144513466760",
         "2015-08-01 22:16:36",
         "31.57",
         "-78.870381429464",
         "42.8471709560899"
        ],
        [
         "41933",
         "2238144513466760",
         "2015-08-01 22:16:36",
         "25.1",
         "-78.9155514437861",
         "42.8889534320118"
        ],
        [
         "30944",
         "1981294676906345",
         "2015-08-07 19:49:41",
         "50.82",
         "-70.293990586225",
         "43.5876756506585"
        ],
        [
         "30961",
         "1981294676906345",
         "2015-08-07 19:49:41",
         "38.61",
         "-70.2885108493837",
         "43.6622317666497"
        ],
        [
         "143776",
         "5275410446848007",
         "2015-08-13 19:52:24",
         "68.29",
         "-80.1411053678798",
         "40.252609773916"
        ],
        [
         "143933",
         "5275410446848007",
         "2015-08-13 19:52:24",
         "83.2",
         "-80.2104109483979",
         "40.2791283948522"
        ],
        [
         "263107",
         "8955392958618753",
         "2015-08-21 16:32:58",
         "92.85",
         "-72.1692717648172",
         "43.169368224876"
        ],
        [
         "263346",
         "8955392958618753",
         "2015-08-21 16:32:58",
         "56.04",
         "81.5947381741926",
         "15.327278136933"
        ]
       ],
       "shape": {
        "columns": 5,
        "rows": 10
       }
      },
      "text/html": [
       "<div>\n",
       "<style scoped>\n",
       "    .dataframe tbody tr th:only-of-type {\n",
       "        vertical-align: middle;\n",
       "    }\n",
       "\n",
       "    .dataframe tbody tr th {\n",
       "        vertical-align: top;\n",
       "    }\n",
       "\n",
       "    .dataframe thead th {\n",
       "        text-align: right;\n",
       "    }\n",
       "</style>\n",
       "<table border=\"1\" class=\"dataframe\">\n",
       "  <thead>\n",
       "    <tr style=\"text-align: right;\">\n",
       "      <th></th>\n",
       "      <th>credit_card</th>\n",
       "      <th>datetime</th>\n",
       "      <th>transaction_dollar_amount</th>\n",
       "      <th>long</th>\n",
       "      <th>lat</th>\n",
       "    </tr>\n",
       "  </thead>\n",
       "  <tbody>\n",
       "    <tr>\n",
       "      <th>69871</th>\n",
       "      <td>3253141560871065</td>\n",
       "      <td>2015-08-01 20:56:37</td>\n",
       "      <td>86.84</td>\n",
       "      <td>47.097400</td>\n",
       "      <td>26.228185</td>\n",
       "    </tr>\n",
       "    <tr>\n",
       "      <th>70172</th>\n",
       "      <td>3253141560871065</td>\n",
       "      <td>2015-08-01 20:56:37</td>\n",
       "      <td>32.62</td>\n",
       "      <td>-84.480998</td>\n",
       "      <td>39.119678</td>\n",
       "    </tr>\n",
       "    <tr>\n",
       "      <th>41771</th>\n",
       "      <td>2238144513466760</td>\n",
       "      <td>2015-08-01 22:16:36</td>\n",
       "      <td>31.57</td>\n",
       "      <td>-78.870381</td>\n",
       "      <td>42.847171</td>\n",
       "    </tr>\n",
       "    <tr>\n",
       "      <th>41933</th>\n",
       "      <td>2238144513466760</td>\n",
       "      <td>2015-08-01 22:16:36</td>\n",
       "      <td>25.10</td>\n",
       "      <td>-78.915551</td>\n",
       "      <td>42.888953</td>\n",
       "    </tr>\n",
       "    <tr>\n",
       "      <th>30944</th>\n",
       "      <td>1981294676906345</td>\n",
       "      <td>2015-08-07 19:49:41</td>\n",
       "      <td>50.82</td>\n",
       "      <td>-70.293991</td>\n",
       "      <td>43.587676</td>\n",
       "    </tr>\n",
       "    <tr>\n",
       "      <th>30961</th>\n",
       "      <td>1981294676906345</td>\n",
       "      <td>2015-08-07 19:49:41</td>\n",
       "      <td>38.61</td>\n",
       "      <td>-70.288511</td>\n",
       "      <td>43.662232</td>\n",
       "    </tr>\n",
       "    <tr>\n",
       "      <th>143776</th>\n",
       "      <td>5275410446848007</td>\n",
       "      <td>2015-08-13 19:52:24</td>\n",
       "      <td>68.29</td>\n",
       "      <td>-80.141105</td>\n",
       "      <td>40.252610</td>\n",
       "    </tr>\n",
       "    <tr>\n",
       "      <th>143933</th>\n",
       "      <td>5275410446848007</td>\n",
       "      <td>2015-08-13 19:52:24</td>\n",
       "      <td>83.20</td>\n",
       "      <td>-80.210411</td>\n",
       "      <td>40.279128</td>\n",
       "    </tr>\n",
       "    <tr>\n",
       "      <th>263107</th>\n",
       "      <td>8955392958618753</td>\n",
       "      <td>2015-08-21 16:32:58</td>\n",
       "      <td>92.85</td>\n",
       "      <td>-72.169272</td>\n",
       "      <td>43.169368</td>\n",
       "    </tr>\n",
       "    <tr>\n",
       "      <th>263346</th>\n",
       "      <td>8955392958618753</td>\n",
       "      <td>2015-08-21 16:32:58</td>\n",
       "      <td>56.04</td>\n",
       "      <td>81.594738</td>\n",
       "      <td>15.327278</td>\n",
       "    </tr>\n",
       "  </tbody>\n",
       "</table>\n",
       "</div>"
      ],
      "text/plain": [
       "             credit_card             datetime  transaction_dollar_amount  \\\n",
       "69871   3253141560871065  2015-08-01 20:56:37                      86.84   \n",
       "70172   3253141560871065  2015-08-01 20:56:37                      32.62   \n",
       "41771   2238144513466760  2015-08-01 22:16:36                      31.57   \n",
       "41933   2238144513466760  2015-08-01 22:16:36                      25.10   \n",
       "30944   1981294676906345  2015-08-07 19:49:41                      50.82   \n",
       "30961   1981294676906345  2015-08-07 19:49:41                      38.61   \n",
       "143776  5275410446848007  2015-08-13 19:52:24                      68.29   \n",
       "143933  5275410446848007  2015-08-13 19:52:24                      83.20   \n",
       "263107  8955392958618753  2015-08-21 16:32:58                      92.85   \n",
       "263346  8955392958618753  2015-08-21 16:32:58                      56.04   \n",
       "\n",
       "             long        lat  \n",
       "69871   47.097400  26.228185  \n",
       "70172  -84.480998  39.119678  \n",
       "41771  -78.870381  42.847171  \n",
       "41933  -78.915551  42.888953  \n",
       "30944  -70.293991  43.587676  \n",
       "30961  -70.288511  43.662232  \n",
       "143776 -80.141105  40.252610  \n",
       "143933 -80.210411  40.279128  \n",
       "263107 -72.169272  43.169368  \n",
       "263346  81.594738  15.327278  "
      ]
     },
     "execution_count": 14,
     "metadata": {},
     "output_type": "execute_result"
    }
   ],
   "source": [
    "# see duplicate data\n",
    "duplicates_subset = cc_trans_df[cc_trans_df.duplicated(subset = ['datetime', 'credit_card'], keep = False)]\n",
    "duplicates_subset = duplicates_subset.sort_values(by = ['datetime', 'credit_card'], ascending = True)\n",
    "duplicates_subset.head(10)"
   ]
  },
  {
   "cell_type": "markdown",
   "metadata": {},
   "source": [
    "#### Null Checking"
   ]
  },
  {
   "cell_type": "code",
   "execution_count": 15,
   "metadata": {},
   "outputs": [
    {
     "data": {
      "text/plain": [
       "credit_card                  0\n",
       "datetime                     0\n",
       "transaction_dollar_amount    0\n",
       "long                         0\n",
       "lat                          0\n",
       "dtype: int64"
      ]
     },
     "execution_count": 15,
     "metadata": {},
     "output_type": "execute_result"
    }
   ],
   "source": [
    "# check null\n",
    "cc_trans_df.isnull().sum()"
   ]
  },
  {
   "cell_type": "markdown",
   "metadata": {},
   "source": [
    "# Combine Dataset"
   ]
  },
  {
   "cell_type": "code",
   "execution_count": 16,
   "metadata": {},
   "outputs": [
    {
     "name": "stdout",
     "output_type": "stream",
     "text": [
      "<class 'pandas.core.frame.DataFrame'>\n",
      "RangeIndex: 294588 entries, 0 to 294587\n",
      "Data columns (total 9 columns):\n",
      " #   Column                     Non-Null Count   Dtype  \n",
      "---  ------                     --------------   -----  \n",
      " 0   credit_card                294588 non-null  int64  \n",
      " 1   datetime                   294588 non-null  object \n",
      " 2   transaction_dollar_amount  294588 non-null  float64\n",
      " 3   long                       294588 non-null  float64\n",
      " 4   lat                        294588 non-null  float64\n",
      " 5   city                       294588 non-null  object \n",
      " 6   state                      294588 non-null  object \n",
      " 7   zipcode                    294588 non-null  int64  \n",
      " 8   credit_card_limit          294588 non-null  int64  \n",
      "dtypes: float64(3), int64(3), object(3)\n",
      "memory usage: 20.2+ MB\n"
     ]
    }
   ],
   "source": [
    "cc_df = cc_trans_df.merge(right = cc_info_df, how = 'inner', on = 'credit_card')\n",
    "cc_df.info()"
   ]
  },
  {
   "cell_type": "code",
   "execution_count": 17,
   "metadata": {},
   "outputs": [
    {
     "data": {
      "application/vnd.microsoft.datawrangler.viewer.v0+json": {
       "columns": [
        {
         "name": "index",
         "rawType": "int64",
         "type": "integer"
        },
        {
         "name": "credit_card",
         "rawType": "int64",
         "type": "integer"
        },
        {
         "name": "datetime",
         "rawType": "object",
         "type": "string"
        },
        {
         "name": "transaction_dollar_amount",
         "rawType": "float64",
         "type": "float"
        },
        {
         "name": "long",
         "rawType": "float64",
         "type": "float"
        },
        {
         "name": "lat",
         "rawType": "float64",
         "type": "float"
        },
        {
         "name": "city",
         "rawType": "object",
         "type": "string"
        },
        {
         "name": "state",
         "rawType": "object",
         "type": "string"
        },
        {
         "name": "zipcode",
         "rawType": "int64",
         "type": "integer"
        },
        {
         "name": "credit_card_limit",
         "rawType": "int64",
         "type": "integer"
        }
       ],
       "conversionMethod": "pd.DataFrame",
       "ref": "a7c1b1b5-dc7b-4d8e-8aca-7941a8868011",
       "rows": [
        [
         "0",
         "1003715054175576",
         "2015-09-11 00:32:40",
         "43.78",
         "-80.1741323292432",
         "40.2673703430082",
         "Houston",
         "PA",
         "15342",
         "20000"
        ],
        [
         "1",
         "1003715054175576",
         "2015-10-24 22:23:08",
         "103.15",
         "-80.1942395924575",
         "40.1801138227341",
         "Houston",
         "PA",
         "15342",
         "20000"
        ],
        [
         "2",
         "1003715054175576",
         "2015-10-26 18:19:36",
         "48.55",
         "-80.2110325106832",
         "40.313004401402",
         "Houston",
         "PA",
         "15342",
         "20000"
        ],
        [
         "3",
         "1003715054175576",
         "2015-10-22 19:41:10",
         "136.18",
         "-80.1741379707697",
         "40.2908953862502",
         "Houston",
         "PA",
         "15342",
         "20000"
        ],
        [
         "4",
         "1003715054175576",
         "2015-10-26 20:08:22",
         "71.82",
         "-80.2387197193347",
         "40.1667191961412",
         "Houston",
         "PA",
         "15342",
         "20000"
        ]
       ],
       "shape": {
        "columns": 9,
        "rows": 5
       }
      },
      "text/html": [
       "<div>\n",
       "<style scoped>\n",
       "    .dataframe tbody tr th:only-of-type {\n",
       "        vertical-align: middle;\n",
       "    }\n",
       "\n",
       "    .dataframe tbody tr th {\n",
       "        vertical-align: top;\n",
       "    }\n",
       "\n",
       "    .dataframe thead th {\n",
       "        text-align: right;\n",
       "    }\n",
       "</style>\n",
       "<table border=\"1\" class=\"dataframe\">\n",
       "  <thead>\n",
       "    <tr style=\"text-align: right;\">\n",
       "      <th></th>\n",
       "      <th>credit_card</th>\n",
       "      <th>datetime</th>\n",
       "      <th>transaction_dollar_amount</th>\n",
       "      <th>long</th>\n",
       "      <th>lat</th>\n",
       "      <th>city</th>\n",
       "      <th>state</th>\n",
       "      <th>zipcode</th>\n",
       "      <th>credit_card_limit</th>\n",
       "    </tr>\n",
       "  </thead>\n",
       "  <tbody>\n",
       "    <tr>\n",
       "      <th>0</th>\n",
       "      <td>1003715054175576</td>\n",
       "      <td>2015-09-11 00:32:40</td>\n",
       "      <td>43.78</td>\n",
       "      <td>-80.174132</td>\n",
       "      <td>40.267370</td>\n",
       "      <td>Houston</td>\n",
       "      <td>PA</td>\n",
       "      <td>15342</td>\n",
       "      <td>20000</td>\n",
       "    </tr>\n",
       "    <tr>\n",
       "      <th>1</th>\n",
       "      <td>1003715054175576</td>\n",
       "      <td>2015-10-24 22:23:08</td>\n",
       "      <td>103.15</td>\n",
       "      <td>-80.194240</td>\n",
       "      <td>40.180114</td>\n",
       "      <td>Houston</td>\n",
       "      <td>PA</td>\n",
       "      <td>15342</td>\n",
       "      <td>20000</td>\n",
       "    </tr>\n",
       "    <tr>\n",
       "      <th>2</th>\n",
       "      <td>1003715054175576</td>\n",
       "      <td>2015-10-26 18:19:36</td>\n",
       "      <td>48.55</td>\n",
       "      <td>-80.211033</td>\n",
       "      <td>40.313004</td>\n",
       "      <td>Houston</td>\n",
       "      <td>PA</td>\n",
       "      <td>15342</td>\n",
       "      <td>20000</td>\n",
       "    </tr>\n",
       "    <tr>\n",
       "      <th>3</th>\n",
       "      <td>1003715054175576</td>\n",
       "      <td>2015-10-22 19:41:10</td>\n",
       "      <td>136.18</td>\n",
       "      <td>-80.174138</td>\n",
       "      <td>40.290895</td>\n",
       "      <td>Houston</td>\n",
       "      <td>PA</td>\n",
       "      <td>15342</td>\n",
       "      <td>20000</td>\n",
       "    </tr>\n",
       "    <tr>\n",
       "      <th>4</th>\n",
       "      <td>1003715054175576</td>\n",
       "      <td>2015-10-26 20:08:22</td>\n",
       "      <td>71.82</td>\n",
       "      <td>-80.238720</td>\n",
       "      <td>40.166719</td>\n",
       "      <td>Houston</td>\n",
       "      <td>PA</td>\n",
       "      <td>15342</td>\n",
       "      <td>20000</td>\n",
       "    </tr>\n",
       "  </tbody>\n",
       "</table>\n",
       "</div>"
      ],
      "text/plain": [
       "        credit_card             datetime  transaction_dollar_amount  \\\n",
       "0  1003715054175576  2015-09-11 00:32:40                      43.78   \n",
       "1  1003715054175576  2015-10-24 22:23:08                     103.15   \n",
       "2  1003715054175576  2015-10-26 18:19:36                      48.55   \n",
       "3  1003715054175576  2015-10-22 19:41:10                     136.18   \n",
       "4  1003715054175576  2015-10-26 20:08:22                      71.82   \n",
       "\n",
       "        long        lat     city state  zipcode  credit_card_limit  \n",
       "0 -80.174132  40.267370  Houston    PA    15342              20000  \n",
       "1 -80.194240  40.180114  Houston    PA    15342              20000  \n",
       "2 -80.211033  40.313004  Houston    PA    15342              20000  \n",
       "3 -80.174138  40.290895  Houston    PA    15342              20000  \n",
       "4 -80.238720  40.166719  Houston    PA    15342              20000  "
      ]
     },
     "execution_count": 17,
     "metadata": {},
     "output_type": "execute_result"
    }
   ],
   "source": [
    "cc_df.head()"
   ]
  },
  {
   "cell_type": "code",
   "execution_count": 18,
   "metadata": {},
   "outputs": [
    {
     "data": {
      "application/vnd.microsoft.datawrangler.viewer.v0+json": {
       "columns": [
        {
         "name": "index",
         "rawType": "int64",
         "type": "integer"
        },
        {
         "name": "datetime",
         "rawType": "object",
         "type": "string"
        },
        {
         "name": "city",
         "rawType": "object",
         "type": "string"
        },
        {
         "name": "state",
         "rawType": "object",
         "type": "string"
        }
       ],
       "conversionMethod": "pd.DataFrame",
       "ref": "5735a865-895f-4b9b-8568-8197aa820060",
       "rows": [
        [
         "0",
         "2015-09-11 00:32:40",
         "Houston",
         "PA"
        ],
        [
         "1",
         "2015-10-24 22:23:08",
         "Houston",
         "PA"
        ],
        [
         "2",
         "2015-10-26 18:19:36",
         "Houston",
         "PA"
        ],
        [
         "3",
         "2015-10-22 19:41:10",
         "Houston",
         "PA"
        ],
        [
         "4",
         "2015-10-26 20:08:22",
         "Houston",
         "PA"
        ]
       ],
       "shape": {
        "columns": 3,
        "rows": 5
       }
      },
      "text/html": [
       "<div>\n",
       "<style scoped>\n",
       "    .dataframe tbody tr th:only-of-type {\n",
       "        vertical-align: middle;\n",
       "    }\n",
       "\n",
       "    .dataframe tbody tr th {\n",
       "        vertical-align: top;\n",
       "    }\n",
       "\n",
       "    .dataframe thead th {\n",
       "        text-align: right;\n",
       "    }\n",
       "</style>\n",
       "<table border=\"1\" class=\"dataframe\">\n",
       "  <thead>\n",
       "    <tr style=\"text-align: right;\">\n",
       "      <th></th>\n",
       "      <th>datetime</th>\n",
       "      <th>city</th>\n",
       "      <th>state</th>\n",
       "    </tr>\n",
       "  </thead>\n",
       "  <tbody>\n",
       "    <tr>\n",
       "      <th>0</th>\n",
       "      <td>2015-09-11 00:32:40</td>\n",
       "      <td>Houston</td>\n",
       "      <td>PA</td>\n",
       "    </tr>\n",
       "    <tr>\n",
       "      <th>1</th>\n",
       "      <td>2015-10-24 22:23:08</td>\n",
       "      <td>Houston</td>\n",
       "      <td>PA</td>\n",
       "    </tr>\n",
       "    <tr>\n",
       "      <th>2</th>\n",
       "      <td>2015-10-26 18:19:36</td>\n",
       "      <td>Houston</td>\n",
       "      <td>PA</td>\n",
       "    </tr>\n",
       "    <tr>\n",
       "      <th>3</th>\n",
       "      <td>2015-10-22 19:41:10</td>\n",
       "      <td>Houston</td>\n",
       "      <td>PA</td>\n",
       "    </tr>\n",
       "    <tr>\n",
       "      <th>4</th>\n",
       "      <td>2015-10-26 20:08:22</td>\n",
       "      <td>Houston</td>\n",
       "      <td>PA</td>\n",
       "    </tr>\n",
       "  </tbody>\n",
       "</table>\n",
       "</div>"
      ],
      "text/plain": [
       "              datetime     city state\n",
       "0  2015-09-11 00:32:40  Houston    PA\n",
       "1  2015-10-24 22:23:08  Houston    PA\n",
       "2  2015-10-26 18:19:36  Houston    PA\n",
       "3  2015-10-22 19:41:10  Houston    PA\n",
       "4  2015-10-26 20:08:22  Houston    PA"
      ]
     },
     "execution_count": 18,
     "metadata": {},
     "output_type": "execute_result"
    }
   ],
   "source": [
    "check_cat = cc_df.select_dtypes(include = ['object'])\n",
    "check_cat.head()"
   ]
  },
  {
   "cell_type": "code",
   "execution_count": 19,
   "metadata": {},
   "outputs": [
    {
     "name": "stdout",
     "output_type": "stream",
     "text": [
      "DATETIME \t: ['2015-09-11 00:32:40' '2015-10-24 22:23:08' '2015-10-26 18:19:36' ...\n",
      " '2015-08-06 21:00:13' '2015-09-22 16:15:47' '2015-08-27 18:08:24'] \n",
      "\n",
      "datetime\n",
      "2015-09-12 19:16:55    4\n",
      "2015-08-29 20:21:58    4\n",
      "2015-08-21 19:48:43    4\n",
      "2015-09-04 19:31:28    4\n",
      "2015-09-24 17:37:09    4\n",
      "                      ..\n",
      "2015-09-18 15:12:33    1\n",
      "2015-10-29 20:34:37    1\n",
      "2015-08-05 20:55:49    1\n",
      "2015-09-05 19:58:28    1\n",
      "2015-08-27 18:08:24    1\n",
      "Name: count, Length: 281065, dtype: int64 \n",
      "\n",
      "-------------------------------------------------- \n",
      "\n",
      "CITY \t: ['Houston' 'Washington' 'Charlotte' 'Dallas' 'Seattle' 'Buffalo'\n",
      " 'New York' 'El Paso' 'Louisville' 'Richmond' 'Miami' 'Tampa' 'Arlington'\n",
      " 'Oakland' 'Columbus' 'Cedar Rapids' 'Atlanta' 'Memphis' 'Wichita'\n",
      " 'Clinton' 'Pittsburgh' 'Oklahoma City' 'Cincinnati' 'Auburn' 'Charleston'\n",
      " 'Kansas City' 'Springfield' 'Jackson' 'Sacramento' 'Rochester'\n",
      " 'Las Vegas' 'Madison' 'Austin' 'Saint Paul' 'Boston' 'Roanoke' 'Portland'\n",
      " 'Somerset' 'Quitman' 'San Francisco' 'San Antonio' 'Lexington'\n",
      " 'Los Angeles' 'Newport' 'Tulsa' 'San Diego' 'Saint Louis' 'Albany'\n",
      " 'Lafayette' 'Knoxville' 'Tacoma' 'Friendship' 'Indianapolis' 'Newark'\n",
      " 'Amarillo' 'Birmingham' 'Dayton' 'Alexandria' 'Colorado Springs' 'Akron'\n",
      " 'Fresno' 'Pensacola' 'Detroit' 'Jacksonville' 'Hartford' 'Topeka'\n",
      " 'Williamsburg' 'Dover' 'Greenville' 'Trenton' 'Chicago' 'Fort Worth'\n",
      " 'Mobile' 'Milwaukee' 'Jamaica' 'Cascade' 'Chester' 'Des Moines'\n",
      " 'Honolulu' 'Philadelphia' 'Denver' 'Columbia' 'Omaha' 'Raleigh'\n",
      " 'Lake City' 'Scranton' 'Cleveland' 'Aurora' 'Monticello' 'Orlando' 'Troy'\n",
      " 'Young America' 'Bristol' 'Hillsboro' 'Boise' 'Shreveport' 'Vallejo'\n",
      " 'Garden Grove' 'Phoenix' 'Spokane' 'New Orleans' 'Baltimore' 'Tucson'\n",
      " 'Greensboro' 'Huntsville' 'Montgomery' 'San Jose' 'Bronx' 'Fort Wayne'\n",
      " 'New Haven' 'Pasadena' 'Fort Lauderdale' 'Long Beach' 'Salt Lake City'\n",
      " 'Huntington' 'Wilmington' 'Lancaster' 'Evansville' 'Manchester'\n",
      " 'Minneapolis' 'Garfield' 'Corpus Christi' 'Gretna' 'Staten Island'] \n",
      "\n",
      "city\n",
      "Washington    112693\n",
      "Houston        21389\n",
      "New York       15599\n",
      "El Paso        12580\n",
      "Dallas         10713\n",
      "               ...  \n",
      "Detroit           38\n",
      "Vallejo           36\n",
      "Baltimore         24\n",
      "Roanoke           12\n",
      "Bristol            5\n",
      "Name: count, Length: 124, dtype: int64 \n",
      "\n",
      "-------------------------------------------------- \n",
      "\n",
      "STATE \t: ['PA' 'NH' 'VT' 'WA' 'NY' 'IL' 'GA' 'MA' 'WV' 'FL' 'RI' 'NJ' 'IA' 'KS'\n",
      " 'OK' 'OH' 'ME' 'MO' 'NM' 'VA' 'CA' 'PR' 'TX' 'MI' 'IN' 'CO' 'AL' 'NC'\n",
      " 'MD' 'HI' 'CT' 'ID' 'LA' 'AZ' 'UT'] \n",
      "\n",
      "state\n",
      "NH    118247\n",
      "PA     44365\n",
      "NY     28672\n",
      "IL     15788\n",
      "MA     14856\n",
      "WV      7887\n",
      "VT      7546\n",
      "NJ      6391\n",
      "CA      4954\n",
      "ME      4660\n",
      "TX      3883\n",
      "GA      3617\n",
      "OH      3468\n",
      "IN      3278\n",
      "PR      2926\n",
      "MO      2925\n",
      "OK      2284\n",
      "NM      2176\n",
      "IA      1933\n",
      "FL      1612\n",
      "WA      1612\n",
      "AL      1389\n",
      "CT      1272\n",
      "RI      1253\n",
      "VA       896\n",
      "ID       858\n",
      "HI       839\n",
      "LA       833\n",
      "MI       812\n",
      "NC       808\n",
      "MD       796\n",
      "AZ       619\n",
      "UT       548\n",
      "CO       532\n",
      "KS        53\n",
      "Name: count, dtype: int64 \n",
      "\n",
      "-------------------------------------------------- \n",
      "\n"
     ]
    }
   ],
   "source": [
    "for i in check_cat.columns:\n",
    "    print(f'{i.upper()} \\t: {check_cat[i].unique()} \\n')\n",
    "    print(f'{check_cat[i].value_counts()} \\n')\n",
    "    print(f'{\"-\" * 50} \\n')"
   ]
  },
  {
   "cell_type": "markdown",
   "metadata": {},
   "source": [
    "## Data Manipulation"
   ]
  },
  {
   "cell_type": "markdown",
   "metadata": {},
   "source": [
    "### Timestamp Derivative"
   ]
  },
  {
   "cell_type": "code",
   "execution_count": 20,
   "metadata": {},
   "outputs": [
    {
     "name": "stdout",
     "output_type": "stream",
     "text": [
      "<class 'pandas.core.frame.DataFrame'>\n",
      "RangeIndex: 294588 entries, 0 to 294587\n",
      "Data columns (total 16 columns):\n",
      " #   Column                     Non-Null Count   Dtype         \n",
      "---  ------                     --------------   -----         \n",
      " 0   credit_card                294588 non-null  int64         \n",
      " 1   datetime                   294588 non-null  datetime64[ns]\n",
      " 2   transaction_dollar_amount  294588 non-null  float64       \n",
      " 3   long                       294588 non-null  float64       \n",
      " 4   lat                        294588 non-null  float64       \n",
      " 5   city                       294588 non-null  object        \n",
      " 6   state                      294588 non-null  object        \n",
      " 7   zipcode                    294588 non-null  int64         \n",
      " 8   credit_card_limit          294588 non-null  int64         \n",
      " 9   date                       294588 non-null  object        \n",
      " 10  year                       294588 non-null  int32         \n",
      " 11  month                      294588 non-null  object        \n",
      " 12  quarter                    294588 non-null  object        \n",
      " 13  day                        294588 non-null  object        \n",
      " 14  time                       294588 non-null  object        \n",
      " 15  week_cat                   294588 non-null  object        \n",
      "dtypes: datetime64[ns](1), float64(3), int32(1), int64(3), object(8)\n",
      "memory usage: 34.8+ MB\n"
     ]
    }
   ],
   "source": [
    "# Change Data Type\n",
    "cc_df['datetime'] = pd.to_datetime(cc_df['datetime'], format = 'mixed', dayfirst = True)\n",
    "\n",
    "# add timestamp derivation\n",
    "cc_df['date'] = cc_df['datetime'].dt.date\n",
    "cc_df['year'] = cc_df['datetime'].dt.year\n",
    "cc_df['month'] = cc_df['datetime'].dt.month_name().str.lower()\n",
    "\n",
    "cc_df['quarter'] = pd.PeriodIndex(cc_df['datetime'], freq = 'Q')\n",
    "cc_df['quarter'] = cc_df['quarter'].astype(str)\n",
    "\n",
    "cc_df['day'] = cc_df['datetime'].dt.day_name().str.lower()\n",
    "\n",
    "cc_df['time'] = cc_df['datetime'].dt.time\n",
    "\n",
    "weekday_list = ['monday', 'tuesday', 'wednesday', 'thursday', 'friday']\n",
    "cc_df['week_cat'] = np.where(cc_df['day'].isin(weekday_list), 'weekday', 'weekend')\n",
    "\n",
    "cc_df.info()"
   ]
  },
  {
   "cell_type": "code",
   "execution_count": 21,
   "metadata": {},
   "outputs": [
    {
     "data": {
      "application/vnd.microsoft.datawrangler.viewer.v0+json": {
       "columns": [
        {
         "name": "index",
         "rawType": "int64",
         "type": "integer"
        },
        {
         "name": "credit_card",
         "rawType": "int64",
         "type": "integer"
        },
        {
         "name": "datetime",
         "rawType": "datetime64[ns]",
         "type": "datetime"
        },
        {
         "name": "transaction_dollar_amount",
         "rawType": "float64",
         "type": "float"
        },
        {
         "name": "long",
         "rawType": "float64",
         "type": "float"
        },
        {
         "name": "lat",
         "rawType": "float64",
         "type": "float"
        },
        {
         "name": "city",
         "rawType": "object",
         "type": "string"
        },
        {
         "name": "state",
         "rawType": "object",
         "type": "string"
        },
        {
         "name": "zipcode",
         "rawType": "int64",
         "type": "integer"
        },
        {
         "name": "credit_card_limit",
         "rawType": "int64",
         "type": "integer"
        },
        {
         "name": "date",
         "rawType": "object",
         "type": "unknown"
        },
        {
         "name": "year",
         "rawType": "int32",
         "type": "integer"
        },
        {
         "name": "month",
         "rawType": "object",
         "type": "string"
        },
        {
         "name": "quarter",
         "rawType": "object",
         "type": "string"
        },
        {
         "name": "day",
         "rawType": "object",
         "type": "string"
        },
        {
         "name": "time",
         "rawType": "object",
         "type": "unknown"
        },
        {
         "name": "week_cat",
         "rawType": "object",
         "type": "string"
        }
       ],
       "conversionMethod": "pd.DataFrame",
       "ref": "019cacb2-9344-47a2-8366-0f5dc7dc5176",
       "rows": [
        [
         "0",
         "1003715054175576",
         "2015-09-11 00:32:40",
         "43.78",
         "-80.1741323292432",
         "40.2673703430082",
         "Houston",
         "PA",
         "15342",
         "20000",
         "2015-09-11",
         "2015",
         "september",
         "2015Q3",
         "friday",
         "00:32:40",
         "weekday"
        ],
        [
         "1",
         "1003715054175576",
         "2015-10-24 22:23:08",
         "103.15",
         "-80.1942395924575",
         "40.1801138227341",
         "Houston",
         "PA",
         "15342",
         "20000",
         "2015-10-24",
         "2015",
         "october",
         "2015Q4",
         "saturday",
         "22:23:08",
         "weekend"
        ],
        [
         "2",
         "1003715054175576",
         "2015-10-26 18:19:36",
         "48.55",
         "-80.2110325106832",
         "40.313004401402",
         "Houston",
         "PA",
         "15342",
         "20000",
         "2015-10-26",
         "2015",
         "october",
         "2015Q4",
         "monday",
         "18:19:36",
         "weekday"
        ],
        [
         "3",
         "1003715054175576",
         "2015-10-22 19:41:10",
         "136.18",
         "-80.1741379707697",
         "40.2908953862502",
         "Houston",
         "PA",
         "15342",
         "20000",
         "2015-10-22",
         "2015",
         "october",
         "2015Q4",
         "thursday",
         "19:41:10",
         "weekday"
        ],
        [
         "4",
         "1003715054175576",
         "2015-10-26 20:08:22",
         "71.82",
         "-80.2387197193347",
         "40.1667191961412",
         "Houston",
         "PA",
         "15342",
         "20000",
         "2015-10-26",
         "2015",
         "october",
         "2015Q4",
         "monday",
         "20:08:22",
         "weekday"
        ]
       ],
       "shape": {
        "columns": 16,
        "rows": 5
       }
      },
      "text/html": [
       "<div>\n",
       "<style scoped>\n",
       "    .dataframe tbody tr th:only-of-type {\n",
       "        vertical-align: middle;\n",
       "    }\n",
       "\n",
       "    .dataframe tbody tr th {\n",
       "        vertical-align: top;\n",
       "    }\n",
       "\n",
       "    .dataframe thead th {\n",
       "        text-align: right;\n",
       "    }\n",
       "</style>\n",
       "<table border=\"1\" class=\"dataframe\">\n",
       "  <thead>\n",
       "    <tr style=\"text-align: right;\">\n",
       "      <th></th>\n",
       "      <th>credit_card</th>\n",
       "      <th>datetime</th>\n",
       "      <th>transaction_dollar_amount</th>\n",
       "      <th>long</th>\n",
       "      <th>lat</th>\n",
       "      <th>city</th>\n",
       "      <th>state</th>\n",
       "      <th>zipcode</th>\n",
       "      <th>credit_card_limit</th>\n",
       "      <th>date</th>\n",
       "      <th>year</th>\n",
       "      <th>month</th>\n",
       "      <th>quarter</th>\n",
       "      <th>day</th>\n",
       "      <th>time</th>\n",
       "      <th>week_cat</th>\n",
       "    </tr>\n",
       "  </thead>\n",
       "  <tbody>\n",
       "    <tr>\n",
       "      <th>0</th>\n",
       "      <td>1003715054175576</td>\n",
       "      <td>2015-09-11 00:32:40</td>\n",
       "      <td>43.78</td>\n",
       "      <td>-80.174132</td>\n",
       "      <td>40.267370</td>\n",
       "      <td>Houston</td>\n",
       "      <td>PA</td>\n",
       "      <td>15342</td>\n",
       "      <td>20000</td>\n",
       "      <td>2015-09-11</td>\n",
       "      <td>2015</td>\n",
       "      <td>september</td>\n",
       "      <td>2015Q3</td>\n",
       "      <td>friday</td>\n",
       "      <td>00:32:40</td>\n",
       "      <td>weekday</td>\n",
       "    </tr>\n",
       "    <tr>\n",
       "      <th>1</th>\n",
       "      <td>1003715054175576</td>\n",
       "      <td>2015-10-24 22:23:08</td>\n",
       "      <td>103.15</td>\n",
       "      <td>-80.194240</td>\n",
       "      <td>40.180114</td>\n",
       "      <td>Houston</td>\n",
       "      <td>PA</td>\n",
       "      <td>15342</td>\n",
       "      <td>20000</td>\n",
       "      <td>2015-10-24</td>\n",
       "      <td>2015</td>\n",
       "      <td>october</td>\n",
       "      <td>2015Q4</td>\n",
       "      <td>saturday</td>\n",
       "      <td>22:23:08</td>\n",
       "      <td>weekend</td>\n",
       "    </tr>\n",
       "    <tr>\n",
       "      <th>2</th>\n",
       "      <td>1003715054175576</td>\n",
       "      <td>2015-10-26 18:19:36</td>\n",
       "      <td>48.55</td>\n",
       "      <td>-80.211033</td>\n",
       "      <td>40.313004</td>\n",
       "      <td>Houston</td>\n",
       "      <td>PA</td>\n",
       "      <td>15342</td>\n",
       "      <td>20000</td>\n",
       "      <td>2015-10-26</td>\n",
       "      <td>2015</td>\n",
       "      <td>october</td>\n",
       "      <td>2015Q4</td>\n",
       "      <td>monday</td>\n",
       "      <td>18:19:36</td>\n",
       "      <td>weekday</td>\n",
       "    </tr>\n",
       "    <tr>\n",
       "      <th>3</th>\n",
       "      <td>1003715054175576</td>\n",
       "      <td>2015-10-22 19:41:10</td>\n",
       "      <td>136.18</td>\n",
       "      <td>-80.174138</td>\n",
       "      <td>40.290895</td>\n",
       "      <td>Houston</td>\n",
       "      <td>PA</td>\n",
       "      <td>15342</td>\n",
       "      <td>20000</td>\n",
       "      <td>2015-10-22</td>\n",
       "      <td>2015</td>\n",
       "      <td>october</td>\n",
       "      <td>2015Q4</td>\n",
       "      <td>thursday</td>\n",
       "      <td>19:41:10</td>\n",
       "      <td>weekday</td>\n",
       "    </tr>\n",
       "    <tr>\n",
       "      <th>4</th>\n",
       "      <td>1003715054175576</td>\n",
       "      <td>2015-10-26 20:08:22</td>\n",
       "      <td>71.82</td>\n",
       "      <td>-80.238720</td>\n",
       "      <td>40.166719</td>\n",
       "      <td>Houston</td>\n",
       "      <td>PA</td>\n",
       "      <td>15342</td>\n",
       "      <td>20000</td>\n",
       "      <td>2015-10-26</td>\n",
       "      <td>2015</td>\n",
       "      <td>october</td>\n",
       "      <td>2015Q4</td>\n",
       "      <td>monday</td>\n",
       "      <td>20:08:22</td>\n",
       "      <td>weekday</td>\n",
       "    </tr>\n",
       "  </tbody>\n",
       "</table>\n",
       "</div>"
      ],
      "text/plain": [
       "        credit_card            datetime  transaction_dollar_amount       long  \\\n",
       "0  1003715054175576 2015-09-11 00:32:40                      43.78 -80.174132   \n",
       "1  1003715054175576 2015-10-24 22:23:08                     103.15 -80.194240   \n",
       "2  1003715054175576 2015-10-26 18:19:36                      48.55 -80.211033   \n",
       "3  1003715054175576 2015-10-22 19:41:10                     136.18 -80.174138   \n",
       "4  1003715054175576 2015-10-26 20:08:22                      71.82 -80.238720   \n",
       "\n",
       "         lat     city state  zipcode  credit_card_limit        date  year  \\\n",
       "0  40.267370  Houston    PA    15342              20000  2015-09-11  2015   \n",
       "1  40.180114  Houston    PA    15342              20000  2015-10-24  2015   \n",
       "2  40.313004  Houston    PA    15342              20000  2015-10-26  2015   \n",
       "3  40.290895  Houston    PA    15342              20000  2015-10-22  2015   \n",
       "4  40.166719  Houston    PA    15342              20000  2015-10-26  2015   \n",
       "\n",
       "       month quarter       day      time week_cat  \n",
       "0  september  2015Q3    friday  00:32:40  weekday  \n",
       "1    october  2015Q4  saturday  22:23:08  weekend  \n",
       "2    october  2015Q4    monday  18:19:36  weekday  \n",
       "3    october  2015Q4  thursday  19:41:10  weekday  \n",
       "4    october  2015Q4    monday  20:08:22  weekday  "
      ]
     },
     "execution_count": 21,
     "metadata": {},
     "output_type": "execute_result"
    }
   ],
   "source": [
    "cc_df.head()"
   ]
  },
  {
   "cell_type": "markdown",
   "metadata": {},
   "source": [
    "### Data Enrichment"
   ]
  },
  {
   "cell_type": "code",
   "execution_count": 22,
   "metadata": {},
   "outputs": [
    {
     "name": "stdout",
     "output_type": "stream",
     "text": [
      "['fall' 'summer']\n"
     ]
    },
    {
     "data": {
      "text/plain": [
       "season\n",
       "fall      191040\n",
       "summer    103548\n",
       "Name: count, dtype: int64"
      ]
     },
     "execution_count": 22,
     "metadata": {},
     "output_type": "execute_result"
    }
   ],
   "source": [
    "# Mapping for Seasons\n",
    "season_mapping = {\n",
    "    'spring': [('03-01', '05-31')],\n",
    "    'summer': [('06-01', '08-31')],\n",
    "    'fall': [('09-01', '11-30')],\n",
    "    'winter': [('12-01', '12-31'), ('01-01', '02-29')]  # consider leap year\n",
    "}\n",
    "\n",
    "def get_season(date):\n",
    "    month_day = date.strftime('%m-%d')\n",
    "    \n",
    "    for season, ranges in season_mapping.items():\n",
    "        for start, end in ranges:\n",
    "            if (month_day >= start and month_day <= end) or \\\n",
    "               (start > end and (month_day >= start or month_day <= end)):  # range that crosses the end of the year\n",
    "                return season\n",
    "\n",
    "cc_df['season'] = cc_df['datetime'].apply(get_season)\n",
    "\n",
    "print(cc_df['season'].unique())\n",
    "cc_df['season'].value_counts()"
   ]
  },
  {
   "cell_type": "code",
   "execution_count": 23,
   "metadata": {},
   "outputs": [
    {
     "data": {
      "text/plain": [
       "limit_cat\n",
       "low          135810\n",
       "medium        71883\n",
       "very_low      64057\n",
       "high          18674\n",
       "very_high      4164\n",
       "Name: count, dtype: int64"
      ]
     },
     "execution_count": 23,
     "metadata": {},
     "output_type": "execute_result"
    }
   ],
   "source": [
    "# Kategori berdasarkan limit\n",
    "bins = [10000, 20000, 30000, 40000]\n",
    "categories = [\"very_low\", \"low\", \"medium\", \"high\", \"very_high\"]\n",
    "\n",
    "# Menggunakan np.digitize untuk mengkategorikan\n",
    "credit_categories = np.digitize(cc_df['credit_card_limit'], bins)\n",
    "\n",
    "# Mengubah indeks ke kategori yang sesuai\n",
    "cc_df['limit_cat'] = np.array(categories)[credit_categories]\n",
    "cc_df['limit_cat'].value_counts()"
   ]
  },
  {
   "cell_type": "markdown",
   "metadata": {},
   "source": [
    "### Data Type Filter"
   ]
  },
  {
   "cell_type": "code",
   "execution_count": 24,
   "metadata": {},
   "outputs": [
    {
     "data": {
      "application/vnd.microsoft.datawrangler.viewer.v0+json": {
       "columns": [
        {
         "name": "index",
         "rawType": "int64",
         "type": "integer"
        },
        {
         "name": "credit_card",
         "rawType": "int64",
         "type": "integer"
        },
        {
         "name": "datetime",
         "rawType": "datetime64[ns]",
         "type": "datetime"
        },
        {
         "name": "transaction_dollar_amount",
         "rawType": "float64",
         "type": "float"
        },
        {
         "name": "long",
         "rawType": "float64",
         "type": "float"
        },
        {
         "name": "lat",
         "rawType": "float64",
         "type": "float"
        },
        {
         "name": "city",
         "rawType": "object",
         "type": "string"
        },
        {
         "name": "state",
         "rawType": "object",
         "type": "string"
        },
        {
         "name": "zipcode",
         "rawType": "int64",
         "type": "integer"
        },
        {
         "name": "credit_card_limit",
         "rawType": "int64",
         "type": "integer"
        },
        {
         "name": "date",
         "rawType": "object",
         "type": "unknown"
        },
        {
         "name": "year",
         "rawType": "int32",
         "type": "integer"
        },
        {
         "name": "month",
         "rawType": "object",
         "type": "string"
        },
        {
         "name": "quarter",
         "rawType": "object",
         "type": "string"
        },
        {
         "name": "day",
         "rawType": "object",
         "type": "string"
        },
        {
         "name": "time",
         "rawType": "object",
         "type": "unknown"
        },
        {
         "name": "week_cat",
         "rawType": "object",
         "type": "string"
        },
        {
         "name": "season",
         "rawType": "object",
         "type": "string"
        },
        {
         "name": "limit_cat",
         "rawType": "object",
         "type": "string"
        }
       ],
       "conversionMethod": "pd.DataFrame",
       "ref": "a559abb3-51ce-458a-a1dc-4f0d15b2f166",
       "rows": [
        [
         "0",
         "1003715054175576",
         "2015-09-11 00:32:40",
         "43.78",
         "-80.1741323292432",
         "40.2673703430082",
         "Houston",
         "PA",
         "15342",
         "20000",
         "2015-09-11",
         "2015",
         "september",
         "2015Q3",
         "friday",
         "00:32:40",
         "weekday",
         "fall",
         "medium"
        ],
        [
         "1",
         "1003715054175576",
         "2015-10-24 22:23:08",
         "103.15",
         "-80.1942395924575",
         "40.1801138227341",
         "Houston",
         "PA",
         "15342",
         "20000",
         "2015-10-24",
         "2015",
         "october",
         "2015Q4",
         "saturday",
         "22:23:08",
         "weekend",
         "fall",
         "medium"
        ],
        [
         "2",
         "1003715054175576",
         "2015-10-26 18:19:36",
         "48.55",
         "-80.2110325106832",
         "40.313004401402",
         "Houston",
         "PA",
         "15342",
         "20000",
         "2015-10-26",
         "2015",
         "october",
         "2015Q4",
         "monday",
         "18:19:36",
         "weekday",
         "fall",
         "medium"
        ],
        [
         "3",
         "1003715054175576",
         "2015-10-22 19:41:10",
         "136.18",
         "-80.1741379707697",
         "40.2908953862502",
         "Houston",
         "PA",
         "15342",
         "20000",
         "2015-10-22",
         "2015",
         "october",
         "2015Q4",
         "thursday",
         "19:41:10",
         "weekday",
         "fall",
         "medium"
        ],
        [
         "4",
         "1003715054175576",
         "2015-10-26 20:08:22",
         "71.82",
         "-80.2387197193347",
         "40.1667191961412",
         "Houston",
         "PA",
         "15342",
         "20000",
         "2015-10-26",
         "2015",
         "october",
         "2015Q4",
         "monday",
         "20:08:22",
         "weekday",
         "fall",
         "medium"
        ]
       ],
       "shape": {
        "columns": 18,
        "rows": 5
       }
      },
      "text/html": [
       "<div>\n",
       "<style scoped>\n",
       "    .dataframe tbody tr th:only-of-type {\n",
       "        vertical-align: middle;\n",
       "    }\n",
       "\n",
       "    .dataframe tbody tr th {\n",
       "        vertical-align: top;\n",
       "    }\n",
       "\n",
       "    .dataframe thead th {\n",
       "        text-align: right;\n",
       "    }\n",
       "</style>\n",
       "<table border=\"1\" class=\"dataframe\">\n",
       "  <thead>\n",
       "    <tr style=\"text-align: right;\">\n",
       "      <th></th>\n",
       "      <th>credit_card</th>\n",
       "      <th>datetime</th>\n",
       "      <th>transaction_dollar_amount</th>\n",
       "      <th>long</th>\n",
       "      <th>lat</th>\n",
       "      <th>city</th>\n",
       "      <th>state</th>\n",
       "      <th>zipcode</th>\n",
       "      <th>credit_card_limit</th>\n",
       "      <th>date</th>\n",
       "      <th>year</th>\n",
       "      <th>month</th>\n",
       "      <th>quarter</th>\n",
       "      <th>day</th>\n",
       "      <th>time</th>\n",
       "      <th>week_cat</th>\n",
       "      <th>season</th>\n",
       "      <th>limit_cat</th>\n",
       "    </tr>\n",
       "  </thead>\n",
       "  <tbody>\n",
       "    <tr>\n",
       "      <th>0</th>\n",
       "      <td>1003715054175576</td>\n",
       "      <td>2015-09-11 00:32:40</td>\n",
       "      <td>43.78</td>\n",
       "      <td>-80.174132</td>\n",
       "      <td>40.267370</td>\n",
       "      <td>Houston</td>\n",
       "      <td>PA</td>\n",
       "      <td>15342</td>\n",
       "      <td>20000</td>\n",
       "      <td>2015-09-11</td>\n",
       "      <td>2015</td>\n",
       "      <td>september</td>\n",
       "      <td>2015Q3</td>\n",
       "      <td>friday</td>\n",
       "      <td>00:32:40</td>\n",
       "      <td>weekday</td>\n",
       "      <td>fall</td>\n",
       "      <td>medium</td>\n",
       "    </tr>\n",
       "    <tr>\n",
       "      <th>1</th>\n",
       "      <td>1003715054175576</td>\n",
       "      <td>2015-10-24 22:23:08</td>\n",
       "      <td>103.15</td>\n",
       "      <td>-80.194240</td>\n",
       "      <td>40.180114</td>\n",
       "      <td>Houston</td>\n",
       "      <td>PA</td>\n",
       "      <td>15342</td>\n",
       "      <td>20000</td>\n",
       "      <td>2015-10-24</td>\n",
       "      <td>2015</td>\n",
       "      <td>october</td>\n",
       "      <td>2015Q4</td>\n",
       "      <td>saturday</td>\n",
       "      <td>22:23:08</td>\n",
       "      <td>weekend</td>\n",
       "      <td>fall</td>\n",
       "      <td>medium</td>\n",
       "    </tr>\n",
       "    <tr>\n",
       "      <th>2</th>\n",
       "      <td>1003715054175576</td>\n",
       "      <td>2015-10-26 18:19:36</td>\n",
       "      <td>48.55</td>\n",
       "      <td>-80.211033</td>\n",
       "      <td>40.313004</td>\n",
       "      <td>Houston</td>\n",
       "      <td>PA</td>\n",
       "      <td>15342</td>\n",
       "      <td>20000</td>\n",
       "      <td>2015-10-26</td>\n",
       "      <td>2015</td>\n",
       "      <td>october</td>\n",
       "      <td>2015Q4</td>\n",
       "      <td>monday</td>\n",
       "      <td>18:19:36</td>\n",
       "      <td>weekday</td>\n",
       "      <td>fall</td>\n",
       "      <td>medium</td>\n",
       "    </tr>\n",
       "    <tr>\n",
       "      <th>3</th>\n",
       "      <td>1003715054175576</td>\n",
       "      <td>2015-10-22 19:41:10</td>\n",
       "      <td>136.18</td>\n",
       "      <td>-80.174138</td>\n",
       "      <td>40.290895</td>\n",
       "      <td>Houston</td>\n",
       "      <td>PA</td>\n",
       "      <td>15342</td>\n",
       "      <td>20000</td>\n",
       "      <td>2015-10-22</td>\n",
       "      <td>2015</td>\n",
       "      <td>october</td>\n",
       "      <td>2015Q4</td>\n",
       "      <td>thursday</td>\n",
       "      <td>19:41:10</td>\n",
       "      <td>weekday</td>\n",
       "      <td>fall</td>\n",
       "      <td>medium</td>\n",
       "    </tr>\n",
       "    <tr>\n",
       "      <th>4</th>\n",
       "      <td>1003715054175576</td>\n",
       "      <td>2015-10-26 20:08:22</td>\n",
       "      <td>71.82</td>\n",
       "      <td>-80.238720</td>\n",
       "      <td>40.166719</td>\n",
       "      <td>Houston</td>\n",
       "      <td>PA</td>\n",
       "      <td>15342</td>\n",
       "      <td>20000</td>\n",
       "      <td>2015-10-26</td>\n",
       "      <td>2015</td>\n",
       "      <td>october</td>\n",
       "      <td>2015Q4</td>\n",
       "      <td>monday</td>\n",
       "      <td>20:08:22</td>\n",
       "      <td>weekday</td>\n",
       "      <td>fall</td>\n",
       "      <td>medium</td>\n",
       "    </tr>\n",
       "  </tbody>\n",
       "</table>\n",
       "</div>"
      ],
      "text/plain": [
       "        credit_card            datetime  transaction_dollar_amount       long  \\\n",
       "0  1003715054175576 2015-09-11 00:32:40                      43.78 -80.174132   \n",
       "1  1003715054175576 2015-10-24 22:23:08                     103.15 -80.194240   \n",
       "2  1003715054175576 2015-10-26 18:19:36                      48.55 -80.211033   \n",
       "3  1003715054175576 2015-10-22 19:41:10                     136.18 -80.174138   \n",
       "4  1003715054175576 2015-10-26 20:08:22                      71.82 -80.238720   \n",
       "\n",
       "         lat     city state  zipcode  credit_card_limit        date  year  \\\n",
       "0  40.267370  Houston    PA    15342              20000  2015-09-11  2015   \n",
       "1  40.180114  Houston    PA    15342              20000  2015-10-24  2015   \n",
       "2  40.313004  Houston    PA    15342              20000  2015-10-26  2015   \n",
       "3  40.290895  Houston    PA    15342              20000  2015-10-22  2015   \n",
       "4  40.166719  Houston    PA    15342              20000  2015-10-26  2015   \n",
       "\n",
       "       month quarter       day      time week_cat season limit_cat  \n",
       "0  september  2015Q3    friday  00:32:40  weekday   fall    medium  \n",
       "1    october  2015Q4  saturday  22:23:08  weekend   fall    medium  \n",
       "2    october  2015Q4    monday  18:19:36  weekday   fall    medium  \n",
       "3    october  2015Q4  thursday  19:41:10  weekday   fall    medium  \n",
       "4    october  2015Q4    monday  20:08:22  weekday   fall    medium  "
      ]
     },
     "execution_count": 24,
     "metadata": {},
     "output_type": "execute_result"
    }
   ],
   "source": [
    "cc_df.head()"
   ]
  },
  {
   "cell_type": "code",
   "execution_count": 25,
   "metadata": {},
   "outputs": [
    {
     "name": "stdout",
     "output_type": "stream",
     "text": [
      "String Columns: \n",
      "['city', 'state', 'date', 'month', 'day', 'time']\n"
     ]
    }
   ],
   "source": [
    "# string\n",
    "string_columns = cc_df.select_dtypes(include = ['object']).columns.tolist()\n",
    "\n",
    "# Kecualikan kolom 'quartal' dan 'weekday'\n",
    "excluded_columns = ['quarter', 'week_cat', 'season', 'limit_cat']\n",
    "\n",
    "string_columns = [col for col in string_columns if col not in excluded_columns]\n",
    "print(f'String Columns: \\n{string_columns}')"
   ]
  },
  {
   "cell_type": "code",
   "execution_count": 26,
   "metadata": {},
   "outputs": [
    {
     "data": {
      "application/vnd.microsoft.datawrangler.viewer.v0+json": {
       "columns": [
        {
         "name": "index",
         "rawType": "int64",
         "type": "integer"
        },
        {
         "name": "credit_card",
         "rawType": "int64",
         "type": "integer"
        },
        {
         "name": "datetime",
         "rawType": "datetime64[ns]",
         "type": "datetime"
        },
        {
         "name": "transaction_dollar_amount",
         "rawType": "float64",
         "type": "float"
        },
        {
         "name": "long",
         "rawType": "float64",
         "type": "float"
        },
        {
         "name": "lat",
         "rawType": "float64",
         "type": "float"
        },
        {
         "name": "city",
         "rawType": "object",
         "type": "string"
        },
        {
         "name": "state",
         "rawType": "object",
         "type": "string"
        },
        {
         "name": "zipcode",
         "rawType": "int64",
         "type": "integer"
        },
        {
         "name": "credit_card_limit",
         "rawType": "int64",
         "type": "integer"
        },
        {
         "name": "date",
         "rawType": "object",
         "type": "string"
        },
        {
         "name": "year",
         "rawType": "int32",
         "type": "integer"
        },
        {
         "name": "month",
         "rawType": "object",
         "type": "string"
        },
        {
         "name": "quarter",
         "rawType": "object",
         "type": "string"
        },
        {
         "name": "day",
         "rawType": "object",
         "type": "string"
        },
        {
         "name": "time",
         "rawType": "object",
         "type": "string"
        },
        {
         "name": "week_cat",
         "rawType": "object",
         "type": "string"
        },
        {
         "name": "season",
         "rawType": "object",
         "type": "string"
        },
        {
         "name": "limit_cat",
         "rawType": "object",
         "type": "string"
        }
       ],
       "conversionMethod": "pd.DataFrame",
       "ref": "f63b928b-ddc7-4c91-8642-1288da5cb094",
       "rows": [
        [
         "0",
         "1003715054175576",
         "2015-09-11 00:32:40",
         "43.78",
         "-80.1741323292432",
         "40.2673703430082",
         "houston",
         "pa",
         "15342",
         "20000",
         "2015-09-11",
         "2015",
         "september",
         "2015Q3",
         "friday",
         "00:32:40",
         "weekday",
         "fall",
         "medium"
        ],
        [
         "1",
         "1003715054175576",
         "2015-10-24 22:23:08",
         "103.15",
         "-80.1942395924575",
         "40.1801138227341",
         "houston",
         "pa",
         "15342",
         "20000",
         "2015-10-24",
         "2015",
         "october",
         "2015Q4",
         "saturday",
         "22:23:08",
         "weekend",
         "fall",
         "medium"
        ],
        [
         "2",
         "1003715054175576",
         "2015-10-26 18:19:36",
         "48.55",
         "-80.2110325106832",
         "40.313004401402",
         "houston",
         "pa",
         "15342",
         "20000",
         "2015-10-26",
         "2015",
         "october",
         "2015Q4",
         "monday",
         "18:19:36",
         "weekday",
         "fall",
         "medium"
        ],
        [
         "3",
         "1003715054175576",
         "2015-10-22 19:41:10",
         "136.18",
         "-80.1741379707697",
         "40.2908953862502",
         "houston",
         "pa",
         "15342",
         "20000",
         "2015-10-22",
         "2015",
         "october",
         "2015Q4",
         "thursday",
         "19:41:10",
         "weekday",
         "fall",
         "medium"
        ],
        [
         "4",
         "1003715054175576",
         "2015-10-26 20:08:22",
         "71.82",
         "-80.2387197193347",
         "40.1667191961412",
         "houston",
         "pa",
         "15342",
         "20000",
         "2015-10-26",
         "2015",
         "october",
         "2015Q4",
         "monday",
         "20:08:22",
         "weekday",
         "fall",
         "medium"
        ]
       ],
       "shape": {
        "columns": 18,
        "rows": 5
       }
      },
      "text/html": [
       "<div>\n",
       "<style scoped>\n",
       "    .dataframe tbody tr th:only-of-type {\n",
       "        vertical-align: middle;\n",
       "    }\n",
       "\n",
       "    .dataframe tbody tr th {\n",
       "        vertical-align: top;\n",
       "    }\n",
       "\n",
       "    .dataframe thead th {\n",
       "        text-align: right;\n",
       "    }\n",
       "</style>\n",
       "<table border=\"1\" class=\"dataframe\">\n",
       "  <thead>\n",
       "    <tr style=\"text-align: right;\">\n",
       "      <th></th>\n",
       "      <th>credit_card</th>\n",
       "      <th>datetime</th>\n",
       "      <th>transaction_dollar_amount</th>\n",
       "      <th>long</th>\n",
       "      <th>lat</th>\n",
       "      <th>city</th>\n",
       "      <th>state</th>\n",
       "      <th>zipcode</th>\n",
       "      <th>credit_card_limit</th>\n",
       "      <th>date</th>\n",
       "      <th>year</th>\n",
       "      <th>month</th>\n",
       "      <th>quarter</th>\n",
       "      <th>day</th>\n",
       "      <th>time</th>\n",
       "      <th>week_cat</th>\n",
       "      <th>season</th>\n",
       "      <th>limit_cat</th>\n",
       "    </tr>\n",
       "  </thead>\n",
       "  <tbody>\n",
       "    <tr>\n",
       "      <th>0</th>\n",
       "      <td>1003715054175576</td>\n",
       "      <td>2015-09-11 00:32:40</td>\n",
       "      <td>43.78</td>\n",
       "      <td>-80.174132</td>\n",
       "      <td>40.267370</td>\n",
       "      <td>houston</td>\n",
       "      <td>pa</td>\n",
       "      <td>15342</td>\n",
       "      <td>20000</td>\n",
       "      <td>2015-09-11</td>\n",
       "      <td>2015</td>\n",
       "      <td>september</td>\n",
       "      <td>2015Q3</td>\n",
       "      <td>friday</td>\n",
       "      <td>00:32:40</td>\n",
       "      <td>weekday</td>\n",
       "      <td>fall</td>\n",
       "      <td>medium</td>\n",
       "    </tr>\n",
       "    <tr>\n",
       "      <th>1</th>\n",
       "      <td>1003715054175576</td>\n",
       "      <td>2015-10-24 22:23:08</td>\n",
       "      <td>103.15</td>\n",
       "      <td>-80.194240</td>\n",
       "      <td>40.180114</td>\n",
       "      <td>houston</td>\n",
       "      <td>pa</td>\n",
       "      <td>15342</td>\n",
       "      <td>20000</td>\n",
       "      <td>2015-10-24</td>\n",
       "      <td>2015</td>\n",
       "      <td>october</td>\n",
       "      <td>2015Q4</td>\n",
       "      <td>saturday</td>\n",
       "      <td>22:23:08</td>\n",
       "      <td>weekend</td>\n",
       "      <td>fall</td>\n",
       "      <td>medium</td>\n",
       "    </tr>\n",
       "    <tr>\n",
       "      <th>2</th>\n",
       "      <td>1003715054175576</td>\n",
       "      <td>2015-10-26 18:19:36</td>\n",
       "      <td>48.55</td>\n",
       "      <td>-80.211033</td>\n",
       "      <td>40.313004</td>\n",
       "      <td>houston</td>\n",
       "      <td>pa</td>\n",
       "      <td>15342</td>\n",
       "      <td>20000</td>\n",
       "      <td>2015-10-26</td>\n",
       "      <td>2015</td>\n",
       "      <td>october</td>\n",
       "      <td>2015Q4</td>\n",
       "      <td>monday</td>\n",
       "      <td>18:19:36</td>\n",
       "      <td>weekday</td>\n",
       "      <td>fall</td>\n",
       "      <td>medium</td>\n",
       "    </tr>\n",
       "    <tr>\n",
       "      <th>3</th>\n",
       "      <td>1003715054175576</td>\n",
       "      <td>2015-10-22 19:41:10</td>\n",
       "      <td>136.18</td>\n",
       "      <td>-80.174138</td>\n",
       "      <td>40.290895</td>\n",
       "      <td>houston</td>\n",
       "      <td>pa</td>\n",
       "      <td>15342</td>\n",
       "      <td>20000</td>\n",
       "      <td>2015-10-22</td>\n",
       "      <td>2015</td>\n",
       "      <td>october</td>\n",
       "      <td>2015Q4</td>\n",
       "      <td>thursday</td>\n",
       "      <td>19:41:10</td>\n",
       "      <td>weekday</td>\n",
       "      <td>fall</td>\n",
       "      <td>medium</td>\n",
       "    </tr>\n",
       "    <tr>\n",
       "      <th>4</th>\n",
       "      <td>1003715054175576</td>\n",
       "      <td>2015-10-26 20:08:22</td>\n",
       "      <td>71.82</td>\n",
       "      <td>-80.238720</td>\n",
       "      <td>40.166719</td>\n",
       "      <td>houston</td>\n",
       "      <td>pa</td>\n",
       "      <td>15342</td>\n",
       "      <td>20000</td>\n",
       "      <td>2015-10-26</td>\n",
       "      <td>2015</td>\n",
       "      <td>october</td>\n",
       "      <td>2015Q4</td>\n",
       "      <td>monday</td>\n",
       "      <td>20:08:22</td>\n",
       "      <td>weekday</td>\n",
       "      <td>fall</td>\n",
       "      <td>medium</td>\n",
       "    </tr>\n",
       "  </tbody>\n",
       "</table>\n",
       "</div>"
      ],
      "text/plain": [
       "        credit_card            datetime  transaction_dollar_amount       long  \\\n",
       "0  1003715054175576 2015-09-11 00:32:40                      43.78 -80.174132   \n",
       "1  1003715054175576 2015-10-24 22:23:08                     103.15 -80.194240   \n",
       "2  1003715054175576 2015-10-26 18:19:36                      48.55 -80.211033   \n",
       "3  1003715054175576 2015-10-22 19:41:10                     136.18 -80.174138   \n",
       "4  1003715054175576 2015-10-26 20:08:22                      71.82 -80.238720   \n",
       "\n",
       "         lat     city state  zipcode  credit_card_limit        date  year  \\\n",
       "0  40.267370  houston    pa    15342              20000  2015-09-11  2015   \n",
       "1  40.180114  houston    pa    15342              20000  2015-10-24  2015   \n",
       "2  40.313004  houston    pa    15342              20000  2015-10-26  2015   \n",
       "3  40.290895  houston    pa    15342              20000  2015-10-22  2015   \n",
       "4  40.166719  houston    pa    15342              20000  2015-10-26  2015   \n",
       "\n",
       "       month quarter       day      time week_cat season limit_cat  \n",
       "0  september  2015Q3    friday  00:32:40  weekday   fall    medium  \n",
       "1    october  2015Q4  saturday  22:23:08  weekend   fall    medium  \n",
       "2    october  2015Q4    monday  18:19:36  weekday   fall    medium  \n",
       "3    october  2015Q4  thursday  19:41:10  weekday   fall    medium  \n",
       "4    october  2015Q4    monday  20:08:22  weekday   fall    medium  "
      ]
     },
     "execution_count": 26,
     "metadata": {},
     "output_type": "execute_result"
    }
   ],
   "source": [
    "def process_strings(df, columns):\n",
    "    for column in columns:\n",
    "        if column in df.columns:\n",
    "            df[column] = df[column].astype(str)  # Pastikan tipe datanya string\n",
    "            df[column] = df[column].str.lower()  # Ubah semua karakter ke huruf kecil\n",
    "            df[column] = df[column].str.replace(r'\\s{2,}', ' ', regex = True)  # Ganti spasi berlebih dengan satu spasi\n",
    "    return df\n",
    "\n",
    "cc_df = process_strings(cc_df, string_columns)\n",
    "cc_df.head()"
   ]
  },
  {
   "cell_type": "markdown",
   "metadata": {},
   "source": [
    "### Data Re-Structure"
   ]
  },
  {
   "cell_type": "code",
   "execution_count": 27,
   "metadata": {},
   "outputs": [
    {
     "data": {
      "text/plain": [
       "Index(['credit_card', 'datetime', 'transaction_dollar_amount', 'long', 'lat',\n",
       "       'city', 'state', 'zipcode', 'credit_card_limit', 'date', 'year',\n",
       "       'month', 'quarter', 'day', 'time', 'week_cat', 'season', 'limit_cat'],\n",
       "      dtype='object')"
      ]
     },
     "execution_count": 27,
     "metadata": {},
     "output_type": "execute_result"
    }
   ],
   "source": [
    "cc_df.columns"
   ]
  },
  {
   "cell_type": "code",
   "execution_count": 28,
   "metadata": {},
   "outputs": [
    {
     "name": "stdout",
     "output_type": "stream",
     "text": [
      "<class 'pandas.core.frame.DataFrame'>\n",
      "RangeIndex: 294588 entries, 0 to 294587\n",
      "Data columns (total 18 columns):\n",
      " #   Column                     Non-Null Count   Dtype         \n",
      "---  ------                     --------------   -----         \n",
      " 0   credit_card                294588 non-null  int64         \n",
      " 1   datetime                   294588 non-null  datetime64[ns]\n",
      " 2   long                       294588 non-null  float64       \n",
      " 3   lat                        294588 non-null  float64       \n",
      " 4   zipcode                    294588 non-null  int64         \n",
      " 5   state                      294588 non-null  object        \n",
      " 6   city                       294588 non-null  object        \n",
      " 7   date                       294588 non-null  object        \n",
      " 8   year                       294588 non-null  int32         \n",
      " 9   quarter                    294588 non-null  object        \n",
      " 10  month                      294588 non-null  object        \n",
      " 11  season                     294588 non-null  object        \n",
      " 12  week_cat                   294588 non-null  object        \n",
      " 13  day                        294588 non-null  object        \n",
      " 14  time                       294588 non-null  object        \n",
      " 15  credit_card_limit          294588 non-null  int64         \n",
      " 16  limit_cat                  294588 non-null  object        \n",
      " 17  transaction_dollar_amount  294588 non-null  float64       \n",
      "dtypes: datetime64[ns](1), float64(3), int32(1), int64(3), object(10)\n",
      "memory usage: 39.3+ MB\n"
     ]
    }
   ],
   "source": [
    "re_col = [\n",
    "    'credit_card', \n",
    "    'datetime', \n",
    "    'long', \n",
    "    'lat', \n",
    "    'zipcode', \n",
    "    'state', \n",
    "    'city', \n",
    "    'date', \n",
    "    'year', \n",
    "    'quarter', \n",
    "    'month', \n",
    "    'season', \n",
    "    'week_cat', \n",
    "    'day', \n",
    "    'time', \n",
    "    'credit_card_limit', \n",
    "    'limit_cat', \n",
    "    'transaction_dollar_amount'\n",
    "]\n",
    "\n",
    "cc_df = cc_df[re_col]\n",
    "cc_df.info()"
   ]
  },
  {
   "cell_type": "markdown",
   "metadata": {},
   "source": [
    "## Fraud Indication"
   ]
  },
  {
   "cell_type": "code",
   "execution_count": 29,
   "metadata": {},
   "outputs": [
    {
     "name": "stdout",
     "output_type": "stream",
     "text": [
      "Total duplicate data: 34\n"
     ]
    }
   ],
   "source": [
    "# see duplicate data\n",
    "duplicates_subset = cc_df[cc_df.duplicated(subset = ['datetime', 'credit_card'], keep = False)]\n",
    "duplicates_subset = duplicates_subset.sort_values(by = ['datetime', 'credit_card'], ascending = True)\n",
    "\n",
    "print(f'Total duplicate data: {len(duplicates_subset)}')"
   ]
  },
  {
   "cell_type": "code",
   "execution_count": 30,
   "metadata": {},
   "outputs": [
    {
     "data": {
      "application/vnd.microsoft.datawrangler.viewer.v0+json": {
       "columns": [
        {
         "name": "index",
         "rawType": "int64",
         "type": "integer"
        },
        {
         "name": "credit_card",
         "rawType": "int64",
         "type": "integer"
        },
        {
         "name": "datetime",
         "rawType": "datetime64[ns]",
         "type": "datetime"
        },
        {
         "name": "long",
         "rawType": "float64",
         "type": "float"
        },
        {
         "name": "lat",
         "rawType": "float64",
         "type": "float"
        },
        {
         "name": "zipcode",
         "rawType": "int64",
         "type": "integer"
        },
        {
         "name": "state",
         "rawType": "object",
         "type": "string"
        },
        {
         "name": "city",
         "rawType": "object",
         "type": "string"
        },
        {
         "name": "date",
         "rawType": "object",
         "type": "string"
        },
        {
         "name": "year",
         "rawType": "int32",
         "type": "integer"
        },
        {
         "name": "quarter",
         "rawType": "object",
         "type": "string"
        },
        {
         "name": "month",
         "rawType": "object",
         "type": "string"
        },
        {
         "name": "season",
         "rawType": "object",
         "type": "string"
        },
        {
         "name": "week_cat",
         "rawType": "object",
         "type": "string"
        },
        {
         "name": "day",
         "rawType": "object",
         "type": "string"
        },
        {
         "name": "time",
         "rawType": "object",
         "type": "string"
        },
        {
         "name": "credit_card_limit",
         "rawType": "int64",
         "type": "integer"
        },
        {
         "name": "limit_cat",
         "rawType": "object",
         "type": "string"
        },
        {
         "name": "transaction_dollar_amount",
         "rawType": "float64",
         "type": "float"
        }
       ],
       "conversionMethod": "pd.DataFrame",
       "ref": "0999a43d-52f7-4b51-b023-54697460db2c",
       "rows": [
        [
         "69871",
         "3253141560871065",
         "2015-08-01 20:56:37",
         "47.0974003367873",
         "26.228184718331",
         "45201",
         "oh",
         "cincinnati",
         "2015-08-01",
         "2015",
         "2015Q3",
         "august",
         "summer",
         "weekend",
         "saturday",
         "20:56:37",
         "30000",
         "high",
         "86.84"
        ],
        [
         "70172",
         "3253141560871065",
         "2015-08-01 20:56:37",
         "-84.480998314512",
         "39.119677821596",
         "45201",
         "oh",
         "cincinnati",
         "2015-08-01",
         "2015",
         "2015Q3",
         "august",
         "summer",
         "weekend",
         "saturday",
         "20:56:37",
         "30000",
         "high",
         "32.62"
        ],
        [
         "41771",
         "2238144513466760",
         "2015-08-01 22:16:36",
         "-78.870381429464",
         "42.8471709560899",
         "14201",
         "ny",
         "buffalo",
         "2015-08-01",
         "2015",
         "2015Q3",
         "august",
         "summer",
         "weekend",
         "saturday",
         "22:16:36",
         "10000",
         "low",
         "31.57"
        ],
        [
         "41933",
         "2238144513466760",
         "2015-08-01 22:16:36",
         "-78.9155514437861",
         "42.8889534320118",
         "14201",
         "ny",
         "buffalo",
         "2015-08-01",
         "2015",
         "2015Q3",
         "august",
         "summer",
         "weekend",
         "saturday",
         "22:16:36",
         "10000",
         "low",
         "25.1"
        ],
        [
         "30944",
         "1981294676906345",
         "2015-08-07 19:49:41",
         "-70.293990586225",
         "43.5876756506585",
         "4101",
         "me",
         "portland",
         "2015-08-07",
         "2015",
         "2015Q3",
         "august",
         "summer",
         "weekday",
         "friday",
         "19:49:41",
         "5000",
         "very_low",
         "50.82"
        ]
       ],
       "shape": {
        "columns": 18,
        "rows": 5
       }
      },
      "text/html": [
       "<div>\n",
       "<style scoped>\n",
       "    .dataframe tbody tr th:only-of-type {\n",
       "        vertical-align: middle;\n",
       "    }\n",
       "\n",
       "    .dataframe tbody tr th {\n",
       "        vertical-align: top;\n",
       "    }\n",
       "\n",
       "    .dataframe thead th {\n",
       "        text-align: right;\n",
       "    }\n",
       "</style>\n",
       "<table border=\"1\" class=\"dataframe\">\n",
       "  <thead>\n",
       "    <tr style=\"text-align: right;\">\n",
       "      <th></th>\n",
       "      <th>credit_card</th>\n",
       "      <th>datetime</th>\n",
       "      <th>long</th>\n",
       "      <th>lat</th>\n",
       "      <th>zipcode</th>\n",
       "      <th>state</th>\n",
       "      <th>city</th>\n",
       "      <th>date</th>\n",
       "      <th>year</th>\n",
       "      <th>quarter</th>\n",
       "      <th>month</th>\n",
       "      <th>season</th>\n",
       "      <th>week_cat</th>\n",
       "      <th>day</th>\n",
       "      <th>time</th>\n",
       "      <th>credit_card_limit</th>\n",
       "      <th>limit_cat</th>\n",
       "      <th>transaction_dollar_amount</th>\n",
       "    </tr>\n",
       "  </thead>\n",
       "  <tbody>\n",
       "    <tr>\n",
       "      <th>69871</th>\n",
       "      <td>3253141560871065</td>\n",
       "      <td>2015-08-01 20:56:37</td>\n",
       "      <td>47.097400</td>\n",
       "      <td>26.228185</td>\n",
       "      <td>45201</td>\n",
       "      <td>oh</td>\n",
       "      <td>cincinnati</td>\n",
       "      <td>2015-08-01</td>\n",
       "      <td>2015</td>\n",
       "      <td>2015Q3</td>\n",
       "      <td>august</td>\n",
       "      <td>summer</td>\n",
       "      <td>weekend</td>\n",
       "      <td>saturday</td>\n",
       "      <td>20:56:37</td>\n",
       "      <td>30000</td>\n",
       "      <td>high</td>\n",
       "      <td>86.84</td>\n",
       "    </tr>\n",
       "    <tr>\n",
       "      <th>70172</th>\n",
       "      <td>3253141560871065</td>\n",
       "      <td>2015-08-01 20:56:37</td>\n",
       "      <td>-84.480998</td>\n",
       "      <td>39.119678</td>\n",
       "      <td>45201</td>\n",
       "      <td>oh</td>\n",
       "      <td>cincinnati</td>\n",
       "      <td>2015-08-01</td>\n",
       "      <td>2015</td>\n",
       "      <td>2015Q3</td>\n",
       "      <td>august</td>\n",
       "      <td>summer</td>\n",
       "      <td>weekend</td>\n",
       "      <td>saturday</td>\n",
       "      <td>20:56:37</td>\n",
       "      <td>30000</td>\n",
       "      <td>high</td>\n",
       "      <td>32.62</td>\n",
       "    </tr>\n",
       "    <tr>\n",
       "      <th>41771</th>\n",
       "      <td>2238144513466760</td>\n",
       "      <td>2015-08-01 22:16:36</td>\n",
       "      <td>-78.870381</td>\n",
       "      <td>42.847171</td>\n",
       "      <td>14201</td>\n",
       "      <td>ny</td>\n",
       "      <td>buffalo</td>\n",
       "      <td>2015-08-01</td>\n",
       "      <td>2015</td>\n",
       "      <td>2015Q3</td>\n",
       "      <td>august</td>\n",
       "      <td>summer</td>\n",
       "      <td>weekend</td>\n",
       "      <td>saturday</td>\n",
       "      <td>22:16:36</td>\n",
       "      <td>10000</td>\n",
       "      <td>low</td>\n",
       "      <td>31.57</td>\n",
       "    </tr>\n",
       "    <tr>\n",
       "      <th>41933</th>\n",
       "      <td>2238144513466760</td>\n",
       "      <td>2015-08-01 22:16:36</td>\n",
       "      <td>-78.915551</td>\n",
       "      <td>42.888953</td>\n",
       "      <td>14201</td>\n",
       "      <td>ny</td>\n",
       "      <td>buffalo</td>\n",
       "      <td>2015-08-01</td>\n",
       "      <td>2015</td>\n",
       "      <td>2015Q3</td>\n",
       "      <td>august</td>\n",
       "      <td>summer</td>\n",
       "      <td>weekend</td>\n",
       "      <td>saturday</td>\n",
       "      <td>22:16:36</td>\n",
       "      <td>10000</td>\n",
       "      <td>low</td>\n",
       "      <td>25.10</td>\n",
       "    </tr>\n",
       "    <tr>\n",
       "      <th>30944</th>\n",
       "      <td>1981294676906345</td>\n",
       "      <td>2015-08-07 19:49:41</td>\n",
       "      <td>-70.293991</td>\n",
       "      <td>43.587676</td>\n",
       "      <td>4101</td>\n",
       "      <td>me</td>\n",
       "      <td>portland</td>\n",
       "      <td>2015-08-07</td>\n",
       "      <td>2015</td>\n",
       "      <td>2015Q3</td>\n",
       "      <td>august</td>\n",
       "      <td>summer</td>\n",
       "      <td>weekday</td>\n",
       "      <td>friday</td>\n",
       "      <td>19:49:41</td>\n",
       "      <td>5000</td>\n",
       "      <td>very_low</td>\n",
       "      <td>50.82</td>\n",
       "    </tr>\n",
       "  </tbody>\n",
       "</table>\n",
       "</div>"
      ],
      "text/plain": [
       "            credit_card            datetime       long        lat  zipcode  \\\n",
       "69871  3253141560871065 2015-08-01 20:56:37  47.097400  26.228185    45201   \n",
       "70172  3253141560871065 2015-08-01 20:56:37 -84.480998  39.119678    45201   \n",
       "41771  2238144513466760 2015-08-01 22:16:36 -78.870381  42.847171    14201   \n",
       "41933  2238144513466760 2015-08-01 22:16:36 -78.915551  42.888953    14201   \n",
       "30944  1981294676906345 2015-08-07 19:49:41 -70.293991  43.587676     4101   \n",
       "\n",
       "      state        city        date  year quarter   month  season week_cat  \\\n",
       "69871    oh  cincinnati  2015-08-01  2015  2015Q3  august  summer  weekend   \n",
       "70172    oh  cincinnati  2015-08-01  2015  2015Q3  august  summer  weekend   \n",
       "41771    ny     buffalo  2015-08-01  2015  2015Q3  august  summer  weekend   \n",
       "41933    ny     buffalo  2015-08-01  2015  2015Q3  august  summer  weekend   \n",
       "30944    me    portland  2015-08-07  2015  2015Q3  august  summer  weekday   \n",
       "\n",
       "            day      time  credit_card_limit limit_cat  \\\n",
       "69871  saturday  20:56:37              30000      high   \n",
       "70172  saturday  20:56:37              30000      high   \n",
       "41771  saturday  22:16:36              10000       low   \n",
       "41933  saturday  22:16:36              10000       low   \n",
       "30944    friday  19:49:41               5000  very_low   \n",
       "\n",
       "       transaction_dollar_amount  \n",
       "69871                      86.84  \n",
       "70172                      32.62  \n",
       "41771                      31.57  \n",
       "41933                      25.10  \n",
       "30944                      50.82  "
      ]
     },
     "execution_count": 30,
     "metadata": {},
     "output_type": "execute_result"
    }
   ],
   "source": [
    "duplicates_subset.head()"
   ]
  },
  {
   "cell_type": "markdown",
   "metadata": {},
   "source": [
    "### Check Transactions"
   ]
  },
  {
   "cell_type": "code",
   "execution_count": 31,
   "metadata": {},
   "outputs": [
    {
     "name": "stdout",
     "output_type": "stream",
     "text": [
      "Total suspicious rows: 34\n"
     ]
    }
   ],
   "source": [
    "# Check double transactions\n",
    "cc_df['transaction_count'] = duplicates_subset.groupby(['credit_card', 'datetime'])['datetime'].transform('count')\n",
    "cc_df['transaction_count'] = cc_df['transaction_count'].fillna(1)\n",
    "\n",
    "# \n",
    "suspicious_transactions = cc_df.query('transaction_count > 1')\n",
    "print(f'Total suspicious rows: {len(suspicious_transactions)}')"
   ]
  },
  {
   "cell_type": "code",
   "execution_count": 32,
   "metadata": {},
   "outputs": [
    {
     "data": {
      "application/vnd.microsoft.datawrangler.viewer.v0+json": {
       "columns": [
        {
         "name": "index",
         "rawType": "int64",
         "type": "integer"
        },
        {
         "name": "credit_card",
         "rawType": "int64",
         "type": "integer"
        },
        {
         "name": "datetime",
         "rawType": "datetime64[ns]",
         "type": "datetime"
        },
        {
         "name": "long",
         "rawType": "float64",
         "type": "float"
        },
        {
         "name": "lat",
         "rawType": "float64",
         "type": "float"
        },
        {
         "name": "zipcode",
         "rawType": "int64",
         "type": "integer"
        },
        {
         "name": "state",
         "rawType": "object",
         "type": "string"
        },
        {
         "name": "city",
         "rawType": "object",
         "type": "string"
        },
        {
         "name": "date",
         "rawType": "object",
         "type": "string"
        },
        {
         "name": "year",
         "rawType": "int32",
         "type": "integer"
        },
        {
         "name": "quarter",
         "rawType": "object",
         "type": "string"
        },
        {
         "name": "month",
         "rawType": "object",
         "type": "string"
        },
        {
         "name": "season",
         "rawType": "object",
         "type": "string"
        },
        {
         "name": "week_cat",
         "rawType": "object",
         "type": "string"
        },
        {
         "name": "day",
         "rawType": "object",
         "type": "string"
        },
        {
         "name": "time",
         "rawType": "object",
         "type": "string"
        },
        {
         "name": "credit_card_limit",
         "rawType": "int64",
         "type": "integer"
        },
        {
         "name": "limit_cat",
         "rawType": "object",
         "type": "string"
        },
        {
         "name": "transaction_dollar_amount",
         "rawType": "float64",
         "type": "float"
        },
        {
         "name": "transaction_count",
         "rawType": "float64",
         "type": "float"
        }
       ],
       "conversionMethod": "pd.DataFrame",
       "ref": "d6eb3cd6-0290-4772-a69f-ab3c397e4a92",
       "rows": [
        [
         "18252",
         "1489635379898079",
         "2015-09-19 21:00:51",
         "-94.687902869927",
         "39.1221120864854",
         "64101",
         "mo",
         "kansas city",
         "2015-09-19",
         "2015",
         "2015Q3",
         "september",
         "fall",
         "weekend",
         "saturday",
         "21:00:51",
         "7000",
         "very_low",
         "57.55",
         "2.0"
        ],
        [
         "18260",
         "1489635379898079",
         "2015-09-19 21:00:51",
         "-94.585835624962",
         "39.0698710844857",
         "64101",
         "mo",
         "kansas city",
         "2015-09-19",
         "2015",
         "2015Q3",
         "september",
         "fall",
         "weekend",
         "saturday",
         "21:00:51",
         "7000",
         "very_low",
         "24.67",
         "2.0"
        ],
        [
         "30944",
         "1981294676906345",
         "2015-08-07 19:49:41",
         "-70.293990586225",
         "43.5876756506585",
         "4101",
         "me",
         "portland",
         "2015-08-07",
         "2015",
         "2015Q3",
         "august",
         "summer",
         "weekday",
         "friday",
         "19:49:41",
         "5000",
         "very_low",
         "50.82",
         "2.0"
        ],
        [
         "30961",
         "1981294676906345",
         "2015-08-07 19:49:41",
         "-70.2885108493837",
         "43.6622317666497",
         "4101",
         "me",
         "portland",
         "2015-08-07",
         "2015",
         "2015Q3",
         "august",
         "summer",
         "weekday",
         "friday",
         "19:49:41",
         "5000",
         "very_low",
         "38.61",
         "2.0"
        ],
        [
         "33143",
         "2015751582522409",
         "2015-10-17 19:05:15",
         "-72.133271750882",
         "43.1157032222174",
         "3280",
         "nh",
         "washington",
         "2015-10-17",
         "2015",
         "2015Q4",
         "october",
         "fall",
         "weekend",
         "saturday",
         "19:05:15",
         "20000",
         "medium",
         "6.46",
         "2.0"
        ]
       ],
       "shape": {
        "columns": 19,
        "rows": 5
       }
      },
      "text/html": [
       "<div>\n",
       "<style scoped>\n",
       "    .dataframe tbody tr th:only-of-type {\n",
       "        vertical-align: middle;\n",
       "    }\n",
       "\n",
       "    .dataframe tbody tr th {\n",
       "        vertical-align: top;\n",
       "    }\n",
       "\n",
       "    .dataframe thead th {\n",
       "        text-align: right;\n",
       "    }\n",
       "</style>\n",
       "<table border=\"1\" class=\"dataframe\">\n",
       "  <thead>\n",
       "    <tr style=\"text-align: right;\">\n",
       "      <th></th>\n",
       "      <th>credit_card</th>\n",
       "      <th>datetime</th>\n",
       "      <th>long</th>\n",
       "      <th>lat</th>\n",
       "      <th>zipcode</th>\n",
       "      <th>state</th>\n",
       "      <th>city</th>\n",
       "      <th>date</th>\n",
       "      <th>year</th>\n",
       "      <th>quarter</th>\n",
       "      <th>month</th>\n",
       "      <th>season</th>\n",
       "      <th>week_cat</th>\n",
       "      <th>day</th>\n",
       "      <th>time</th>\n",
       "      <th>credit_card_limit</th>\n",
       "      <th>limit_cat</th>\n",
       "      <th>transaction_dollar_amount</th>\n",
       "      <th>transaction_count</th>\n",
       "    </tr>\n",
       "  </thead>\n",
       "  <tbody>\n",
       "    <tr>\n",
       "      <th>18252</th>\n",
       "      <td>1489635379898079</td>\n",
       "      <td>2015-09-19 21:00:51</td>\n",
       "      <td>-94.687903</td>\n",
       "      <td>39.122112</td>\n",
       "      <td>64101</td>\n",
       "      <td>mo</td>\n",
       "      <td>kansas city</td>\n",
       "      <td>2015-09-19</td>\n",
       "      <td>2015</td>\n",
       "      <td>2015Q3</td>\n",
       "      <td>september</td>\n",
       "      <td>fall</td>\n",
       "      <td>weekend</td>\n",
       "      <td>saturday</td>\n",
       "      <td>21:00:51</td>\n",
       "      <td>7000</td>\n",
       "      <td>very_low</td>\n",
       "      <td>57.55</td>\n",
       "      <td>2.0</td>\n",
       "    </tr>\n",
       "    <tr>\n",
       "      <th>18260</th>\n",
       "      <td>1489635379898079</td>\n",
       "      <td>2015-09-19 21:00:51</td>\n",
       "      <td>-94.585836</td>\n",
       "      <td>39.069871</td>\n",
       "      <td>64101</td>\n",
       "      <td>mo</td>\n",
       "      <td>kansas city</td>\n",
       "      <td>2015-09-19</td>\n",
       "      <td>2015</td>\n",
       "      <td>2015Q3</td>\n",
       "      <td>september</td>\n",
       "      <td>fall</td>\n",
       "      <td>weekend</td>\n",
       "      <td>saturday</td>\n",
       "      <td>21:00:51</td>\n",
       "      <td>7000</td>\n",
       "      <td>very_low</td>\n",
       "      <td>24.67</td>\n",
       "      <td>2.0</td>\n",
       "    </tr>\n",
       "    <tr>\n",
       "      <th>30944</th>\n",
       "      <td>1981294676906345</td>\n",
       "      <td>2015-08-07 19:49:41</td>\n",
       "      <td>-70.293991</td>\n",
       "      <td>43.587676</td>\n",
       "      <td>4101</td>\n",
       "      <td>me</td>\n",
       "      <td>portland</td>\n",
       "      <td>2015-08-07</td>\n",
       "      <td>2015</td>\n",
       "      <td>2015Q3</td>\n",
       "      <td>august</td>\n",
       "      <td>summer</td>\n",
       "      <td>weekday</td>\n",
       "      <td>friday</td>\n",
       "      <td>19:49:41</td>\n",
       "      <td>5000</td>\n",
       "      <td>very_low</td>\n",
       "      <td>50.82</td>\n",
       "      <td>2.0</td>\n",
       "    </tr>\n",
       "    <tr>\n",
       "      <th>30961</th>\n",
       "      <td>1981294676906345</td>\n",
       "      <td>2015-08-07 19:49:41</td>\n",
       "      <td>-70.288511</td>\n",
       "      <td>43.662232</td>\n",
       "      <td>4101</td>\n",
       "      <td>me</td>\n",
       "      <td>portland</td>\n",
       "      <td>2015-08-07</td>\n",
       "      <td>2015</td>\n",
       "      <td>2015Q3</td>\n",
       "      <td>august</td>\n",
       "      <td>summer</td>\n",
       "      <td>weekday</td>\n",
       "      <td>friday</td>\n",
       "      <td>19:49:41</td>\n",
       "      <td>5000</td>\n",
       "      <td>very_low</td>\n",
       "      <td>38.61</td>\n",
       "      <td>2.0</td>\n",
       "    </tr>\n",
       "    <tr>\n",
       "      <th>33143</th>\n",
       "      <td>2015751582522409</td>\n",
       "      <td>2015-10-17 19:05:15</td>\n",
       "      <td>-72.133272</td>\n",
       "      <td>43.115703</td>\n",
       "      <td>3280</td>\n",
       "      <td>nh</td>\n",
       "      <td>washington</td>\n",
       "      <td>2015-10-17</td>\n",
       "      <td>2015</td>\n",
       "      <td>2015Q4</td>\n",
       "      <td>october</td>\n",
       "      <td>fall</td>\n",
       "      <td>weekend</td>\n",
       "      <td>saturday</td>\n",
       "      <td>19:05:15</td>\n",
       "      <td>20000</td>\n",
       "      <td>medium</td>\n",
       "      <td>6.46</td>\n",
       "      <td>2.0</td>\n",
       "    </tr>\n",
       "  </tbody>\n",
       "</table>\n",
       "</div>"
      ],
      "text/plain": [
       "            credit_card            datetime       long        lat  zipcode  \\\n",
       "18252  1489635379898079 2015-09-19 21:00:51 -94.687903  39.122112    64101   \n",
       "18260  1489635379898079 2015-09-19 21:00:51 -94.585836  39.069871    64101   \n",
       "30944  1981294676906345 2015-08-07 19:49:41 -70.293991  43.587676     4101   \n",
       "30961  1981294676906345 2015-08-07 19:49:41 -70.288511  43.662232     4101   \n",
       "33143  2015751582522409 2015-10-17 19:05:15 -72.133272  43.115703     3280   \n",
       "\n",
       "      state         city        date  year quarter      month  season  \\\n",
       "18252    mo  kansas city  2015-09-19  2015  2015Q3  september    fall   \n",
       "18260    mo  kansas city  2015-09-19  2015  2015Q3  september    fall   \n",
       "30944    me     portland  2015-08-07  2015  2015Q3     august  summer   \n",
       "30961    me     portland  2015-08-07  2015  2015Q3     august  summer   \n",
       "33143    nh   washington  2015-10-17  2015  2015Q4    october    fall   \n",
       "\n",
       "      week_cat       day      time  credit_card_limit limit_cat  \\\n",
       "18252  weekend  saturday  21:00:51               7000  very_low   \n",
       "18260  weekend  saturday  21:00:51               7000  very_low   \n",
       "30944  weekday    friday  19:49:41               5000  very_low   \n",
       "30961  weekday    friday  19:49:41               5000  very_low   \n",
       "33143  weekend  saturday  19:05:15              20000    medium   \n",
       "\n",
       "       transaction_dollar_amount  transaction_count  \n",
       "18252                      57.55                2.0  \n",
       "18260                      24.67                2.0  \n",
       "30944                      50.82                2.0  \n",
       "30961                      38.61                2.0  \n",
       "33143                       6.46                2.0  "
      ]
     },
     "execution_count": 32,
     "metadata": {},
     "output_type": "execute_result"
    }
   ],
   "source": [
    "suspicious_transactions.head()"
   ]
  },
  {
   "cell_type": "markdown",
   "metadata": {},
   "source": [
    "### Time Based"
   ]
  },
  {
   "cell_type": "code",
   "execution_count": 33,
   "metadata": {},
   "outputs": [
    {
     "data": {
      "application/vnd.microsoft.datawrangler.viewer.v0+json": {
       "columns": [
        {
         "name": "index",
         "rawType": "int64",
         "type": "integer"
        },
        {
         "name": "credit_card",
         "rawType": "int64",
         "type": "integer"
        },
        {
         "name": "datetime",
         "rawType": "datetime64[ns]",
         "type": "datetime"
        },
        {
         "name": "long",
         "rawType": "float64",
         "type": "float"
        },
        {
         "name": "lat",
         "rawType": "float64",
         "type": "float"
        },
        {
         "name": "zipcode",
         "rawType": "int64",
         "type": "integer"
        },
        {
         "name": "state",
         "rawType": "object",
         "type": "string"
        },
        {
         "name": "city",
         "rawType": "object",
         "type": "string"
        },
        {
         "name": "date",
         "rawType": "object",
         "type": "string"
        },
        {
         "name": "year",
         "rawType": "int32",
         "type": "integer"
        },
        {
         "name": "quarter",
         "rawType": "object",
         "type": "string"
        },
        {
         "name": "month",
         "rawType": "object",
         "type": "string"
        },
        {
         "name": "season",
         "rawType": "object",
         "type": "string"
        },
        {
         "name": "week_cat",
         "rawType": "object",
         "type": "string"
        },
        {
         "name": "day",
         "rawType": "object",
         "type": "string"
        },
        {
         "name": "time",
         "rawType": "object",
         "type": "string"
        },
        {
         "name": "credit_card_limit",
         "rawType": "int64",
         "type": "integer"
        },
        {
         "name": "limit_cat",
         "rawType": "object",
         "type": "string"
        },
        {
         "name": "transaction_dollar_amount",
         "rawType": "float64",
         "type": "float"
        },
        {
         "name": "transaction_count",
         "rawType": "float64",
         "type": "float"
        },
        {
         "name": "prev_time",
         "rawType": "datetime64[ns]",
         "type": "datetime"
        },
        {
         "name": "time_diff_hour",
         "rawType": "float64",
         "type": "float"
        }
       ],
       "conversionMethod": "pd.DataFrame",
       "ref": "7ffca6b9-b751-49c5-85ae-380bbf4728a2",
       "rows": [
        [
         "0",
         "1003715054175576",
         "2015-09-11 00:32:40",
         "-80.1741323292432",
         "40.2673703430082",
         "15342",
         "pa",
         "houston",
         "2015-09-11",
         "2015",
         "2015Q3",
         "september",
         "fall",
         "weekday",
         "friday",
         "00:32:40",
         "20000",
         "medium",
         "43.78",
         "1.0",
         "2015-09-11 00:32:40",
         "0.0"
        ],
        [
         "1",
         "1003715054175576",
         "2015-10-24 22:23:08",
         "-80.1942395924575",
         "40.1801138227341",
         "15342",
         "pa",
         "houston",
         "2015-10-24",
         "2015",
         "2015Q4",
         "october",
         "fall",
         "weekend",
         "saturday",
         "22:23:08",
         "20000",
         "medium",
         "103.15",
         "1.0",
         "2015-09-11 00:32:40",
         "1053.84"
        ],
        [
         "2",
         "1003715054175576",
         "2015-10-26 18:19:36",
         "-80.2110325106832",
         "40.313004401402",
         "15342",
         "pa",
         "houston",
         "2015-10-26",
         "2015",
         "2015Q4",
         "october",
         "fall",
         "weekday",
         "monday",
         "18:19:36",
         "20000",
         "medium",
         "48.55",
         "1.0",
         "2015-10-24 22:23:08",
         "43.94"
        ],
        [
         "3",
         "1003715054175576",
         "2015-10-22 19:41:10",
         "-80.1741379707697",
         "40.2908953862502",
         "15342",
         "pa",
         "houston",
         "2015-10-22",
         "2015",
         "2015Q4",
         "october",
         "fall",
         "weekday",
         "thursday",
         "19:41:10",
         "20000",
         "medium",
         "136.18",
         "1.0",
         "2015-10-26 18:19:36",
         "94.64"
        ],
        [
         "4",
         "1003715054175576",
         "2015-10-26 20:08:22",
         "-80.2387197193347",
         "40.1667191961412",
         "15342",
         "pa",
         "houston",
         "2015-10-26",
         "2015",
         "2015Q4",
         "october",
         "fall",
         "weekday",
         "monday",
         "20:08:22",
         "20000",
         "medium",
         "71.82",
         "1.0",
         "2015-10-22 19:41:10",
         "96.45"
        ]
       ],
       "shape": {
        "columns": 21,
        "rows": 5
       }
      },
      "text/html": [
       "<div>\n",
       "<style scoped>\n",
       "    .dataframe tbody tr th:only-of-type {\n",
       "        vertical-align: middle;\n",
       "    }\n",
       "\n",
       "    .dataframe tbody tr th {\n",
       "        vertical-align: top;\n",
       "    }\n",
       "\n",
       "    .dataframe thead th {\n",
       "        text-align: right;\n",
       "    }\n",
       "</style>\n",
       "<table border=\"1\" class=\"dataframe\">\n",
       "  <thead>\n",
       "    <tr style=\"text-align: right;\">\n",
       "      <th></th>\n",
       "      <th>credit_card</th>\n",
       "      <th>datetime</th>\n",
       "      <th>long</th>\n",
       "      <th>lat</th>\n",
       "      <th>zipcode</th>\n",
       "      <th>state</th>\n",
       "      <th>city</th>\n",
       "      <th>date</th>\n",
       "      <th>year</th>\n",
       "      <th>quarter</th>\n",
       "      <th>month</th>\n",
       "      <th>season</th>\n",
       "      <th>week_cat</th>\n",
       "      <th>day</th>\n",
       "      <th>time</th>\n",
       "      <th>credit_card_limit</th>\n",
       "      <th>limit_cat</th>\n",
       "      <th>transaction_dollar_amount</th>\n",
       "      <th>transaction_count</th>\n",
       "      <th>prev_time</th>\n",
       "      <th>time_diff_hour</th>\n",
       "    </tr>\n",
       "  </thead>\n",
       "  <tbody>\n",
       "    <tr>\n",
       "      <th>0</th>\n",
       "      <td>1003715054175576</td>\n",
       "      <td>2015-09-11 00:32:40</td>\n",
       "      <td>-80.174132</td>\n",
       "      <td>40.267370</td>\n",
       "      <td>15342</td>\n",
       "      <td>pa</td>\n",
       "      <td>houston</td>\n",
       "      <td>2015-09-11</td>\n",
       "      <td>2015</td>\n",
       "      <td>2015Q3</td>\n",
       "      <td>september</td>\n",
       "      <td>fall</td>\n",
       "      <td>weekday</td>\n",
       "      <td>friday</td>\n",
       "      <td>00:32:40</td>\n",
       "      <td>20000</td>\n",
       "      <td>medium</td>\n",
       "      <td>43.78</td>\n",
       "      <td>1.0</td>\n",
       "      <td>2015-09-11 00:32:40</td>\n",
       "      <td>0.00</td>\n",
       "    </tr>\n",
       "    <tr>\n",
       "      <th>1</th>\n",
       "      <td>1003715054175576</td>\n",
       "      <td>2015-10-24 22:23:08</td>\n",
       "      <td>-80.194240</td>\n",
       "      <td>40.180114</td>\n",
       "      <td>15342</td>\n",
       "      <td>pa</td>\n",
       "      <td>houston</td>\n",
       "      <td>2015-10-24</td>\n",
       "      <td>2015</td>\n",
       "      <td>2015Q4</td>\n",
       "      <td>october</td>\n",
       "      <td>fall</td>\n",
       "      <td>weekend</td>\n",
       "      <td>saturday</td>\n",
       "      <td>22:23:08</td>\n",
       "      <td>20000</td>\n",
       "      <td>medium</td>\n",
       "      <td>103.15</td>\n",
       "      <td>1.0</td>\n",
       "      <td>2015-09-11 00:32:40</td>\n",
       "      <td>1053.84</td>\n",
       "    </tr>\n",
       "    <tr>\n",
       "      <th>2</th>\n",
       "      <td>1003715054175576</td>\n",
       "      <td>2015-10-26 18:19:36</td>\n",
       "      <td>-80.211033</td>\n",
       "      <td>40.313004</td>\n",
       "      <td>15342</td>\n",
       "      <td>pa</td>\n",
       "      <td>houston</td>\n",
       "      <td>2015-10-26</td>\n",
       "      <td>2015</td>\n",
       "      <td>2015Q4</td>\n",
       "      <td>october</td>\n",
       "      <td>fall</td>\n",
       "      <td>weekday</td>\n",
       "      <td>monday</td>\n",
       "      <td>18:19:36</td>\n",
       "      <td>20000</td>\n",
       "      <td>medium</td>\n",
       "      <td>48.55</td>\n",
       "      <td>1.0</td>\n",
       "      <td>2015-10-24 22:23:08</td>\n",
       "      <td>43.94</td>\n",
       "    </tr>\n",
       "    <tr>\n",
       "      <th>3</th>\n",
       "      <td>1003715054175576</td>\n",
       "      <td>2015-10-22 19:41:10</td>\n",
       "      <td>-80.174138</td>\n",
       "      <td>40.290895</td>\n",
       "      <td>15342</td>\n",
       "      <td>pa</td>\n",
       "      <td>houston</td>\n",
       "      <td>2015-10-22</td>\n",
       "      <td>2015</td>\n",
       "      <td>2015Q4</td>\n",
       "      <td>october</td>\n",
       "      <td>fall</td>\n",
       "      <td>weekday</td>\n",
       "      <td>thursday</td>\n",
       "      <td>19:41:10</td>\n",
       "      <td>20000</td>\n",
       "      <td>medium</td>\n",
       "      <td>136.18</td>\n",
       "      <td>1.0</td>\n",
       "      <td>2015-10-26 18:19:36</td>\n",
       "      <td>94.64</td>\n",
       "    </tr>\n",
       "    <tr>\n",
       "      <th>4</th>\n",
       "      <td>1003715054175576</td>\n",
       "      <td>2015-10-26 20:08:22</td>\n",
       "      <td>-80.238720</td>\n",
       "      <td>40.166719</td>\n",
       "      <td>15342</td>\n",
       "      <td>pa</td>\n",
       "      <td>houston</td>\n",
       "      <td>2015-10-26</td>\n",
       "      <td>2015</td>\n",
       "      <td>2015Q4</td>\n",
       "      <td>october</td>\n",
       "      <td>fall</td>\n",
       "      <td>weekday</td>\n",
       "      <td>monday</td>\n",
       "      <td>20:08:22</td>\n",
       "      <td>20000</td>\n",
       "      <td>medium</td>\n",
       "      <td>71.82</td>\n",
       "      <td>1.0</td>\n",
       "      <td>2015-10-22 19:41:10</td>\n",
       "      <td>96.45</td>\n",
       "    </tr>\n",
       "  </tbody>\n",
       "</table>\n",
       "</div>"
      ],
      "text/plain": [
       "        credit_card            datetime       long        lat  zipcode state  \\\n",
       "0  1003715054175576 2015-09-11 00:32:40 -80.174132  40.267370    15342    pa   \n",
       "1  1003715054175576 2015-10-24 22:23:08 -80.194240  40.180114    15342    pa   \n",
       "2  1003715054175576 2015-10-26 18:19:36 -80.211033  40.313004    15342    pa   \n",
       "3  1003715054175576 2015-10-22 19:41:10 -80.174138  40.290895    15342    pa   \n",
       "4  1003715054175576 2015-10-26 20:08:22 -80.238720  40.166719    15342    pa   \n",
       "\n",
       "      city        date  year quarter      month season week_cat       day  \\\n",
       "0  houston  2015-09-11  2015  2015Q3  september   fall  weekday    friday   \n",
       "1  houston  2015-10-24  2015  2015Q4    october   fall  weekend  saturday   \n",
       "2  houston  2015-10-26  2015  2015Q4    october   fall  weekday    monday   \n",
       "3  houston  2015-10-22  2015  2015Q4    october   fall  weekday  thursday   \n",
       "4  houston  2015-10-26  2015  2015Q4    october   fall  weekday    monday   \n",
       "\n",
       "       time  credit_card_limit limit_cat  transaction_dollar_amount  \\\n",
       "0  00:32:40              20000    medium                      43.78   \n",
       "1  22:23:08              20000    medium                     103.15   \n",
       "2  18:19:36              20000    medium                      48.55   \n",
       "3  19:41:10              20000    medium                     136.18   \n",
       "4  20:08:22              20000    medium                      71.82   \n",
       "\n",
       "   transaction_count           prev_time  time_diff_hour  \n",
       "0                1.0 2015-09-11 00:32:40            0.00  \n",
       "1                1.0 2015-09-11 00:32:40         1053.84  \n",
       "2                1.0 2015-10-24 22:23:08           43.94  \n",
       "3                1.0 2015-10-26 18:19:36           94.64  \n",
       "4                1.0 2015-10-22 19:41:10           96.45  "
      ]
     },
     "execution_count": 33,
     "metadata": {},
     "output_type": "execute_result"
    }
   ],
   "source": [
    "# \n",
    "cc_df['prev_time'] = cc_df.groupby('credit_card')['datetime'].shift(1)\n",
    "cc_df['prev_time'] = cc_df['prev_time'].fillna(cc_df[\"datetime\"])\n",
    "\n",
    "# \n",
    "cc_df[\"time_diff_hour\"] = abs(round(((cc_df[\"datetime\"] - cc_df[\"prev_time\"]).dt.total_seconds()) / 3600, 2))\n",
    "cc_df[\"time_diff_hour\"] = cc_df[\"time_diff_hour\"].fillna(0)\n",
    "\n",
    "cc_df.head()"
   ]
  },
  {
   "cell_type": "markdown",
   "metadata": {},
   "source": [
    "### Geolocation Based"
   ]
  },
  {
   "cell_type": "code",
   "execution_count": 34,
   "metadata": {},
   "outputs": [],
   "source": [
    "def calculate_distance(row):\n",
    "    if pd.isnull(row['prev_long']) or pd.isnull(row['prev_lat']):\n",
    "        return 0\n",
    "    \n",
    "    current = (row['lat'], row['long'])\n",
    "    previous = (row['prev_lat'], row['prev_long'])\n",
    "    \n",
    "    return geodesic(current, previous).kilometers\n",
    "\n",
    "# \n",
    "cc_df['prev_long'] = cc_df.groupby('credit_card')['long'].shift(1)\n",
    "cc_df['prev_long'] = cc_df['prev_long'].fillna(0)\n",
    "\n",
    "# \n",
    "cc_df['prev_lat'] = cc_df.groupby('credit_card')['lat'].shift(1)\n",
    "cc_df['prev_lat'] = cc_df['prev_lat'].fillna(0)"
   ]
  },
  {
   "cell_type": "code",
   "execution_count": 35,
   "metadata": {},
   "outputs": [],
   "source": [
    "# \n",
    "cc_df['distance_km'] = cc_df.apply(calculate_distance, axis = 1)\n",
    "cc_df['distance_km'] = cc_df['distance_km'].fillna(0)"
   ]
  },
  {
   "cell_type": "code",
   "execution_count": 36,
   "metadata": {},
   "outputs": [
    {
     "data": {
      "application/vnd.microsoft.datawrangler.viewer.v0+json": {
       "columns": [
        {
         "name": "index",
         "rawType": "int64",
         "type": "integer"
        },
        {
         "name": "credit_card",
         "rawType": "int64",
         "type": "integer"
        },
        {
         "name": "datetime",
         "rawType": "datetime64[ns]",
         "type": "datetime"
        },
        {
         "name": "long",
         "rawType": "float64",
         "type": "float"
        },
        {
         "name": "lat",
         "rawType": "float64",
         "type": "float"
        },
        {
         "name": "zipcode",
         "rawType": "int64",
         "type": "integer"
        },
        {
         "name": "state",
         "rawType": "object",
         "type": "string"
        },
        {
         "name": "city",
         "rawType": "object",
         "type": "string"
        },
        {
         "name": "date",
         "rawType": "object",
         "type": "string"
        },
        {
         "name": "year",
         "rawType": "int32",
         "type": "integer"
        },
        {
         "name": "quarter",
         "rawType": "object",
         "type": "string"
        },
        {
         "name": "month",
         "rawType": "object",
         "type": "string"
        },
        {
         "name": "season",
         "rawType": "object",
         "type": "string"
        },
        {
         "name": "week_cat",
         "rawType": "object",
         "type": "string"
        },
        {
         "name": "day",
         "rawType": "object",
         "type": "string"
        },
        {
         "name": "time",
         "rawType": "object",
         "type": "string"
        },
        {
         "name": "credit_card_limit",
         "rawType": "int64",
         "type": "integer"
        },
        {
         "name": "limit_cat",
         "rawType": "object",
         "type": "string"
        },
        {
         "name": "transaction_dollar_amount",
         "rawType": "float64",
         "type": "float"
        },
        {
         "name": "transaction_count",
         "rawType": "float64",
         "type": "float"
        },
        {
         "name": "prev_time",
         "rawType": "datetime64[ns]",
         "type": "datetime"
        },
        {
         "name": "time_diff_hour",
         "rawType": "float64",
         "type": "float"
        },
        {
         "name": "prev_long",
         "rawType": "float64",
         "type": "float"
        },
        {
         "name": "prev_lat",
         "rawType": "float64",
         "type": "float"
        },
        {
         "name": "distance_km",
         "rawType": "float64",
         "type": "float"
        },
        {
         "name": "geo_cat",
         "rawType": "object",
         "type": "string"
        }
       ],
       "conversionMethod": "pd.DataFrame",
       "ref": "f1d7e963-2294-4a50-a6cb-9aa86d3c04c9",
       "rows": [
        [
         "294583",
         "9999757432802760",
         "2015-09-10 19:43:33",
         "-82.3609515429911",
         "32.9784968410535",
         "30434",
         "ga",
         "louisville",
         "2015-09-10",
         "2015",
         "2015Q3",
         "september",
         "fall",
         "weekday",
         "thursday",
         "19:43:33",
         "6000",
         "very_low",
         "127.23",
         "1.0",
         "2015-10-23 20:47:23",
         "1033.06",
         "-82.4432937480558",
         "32.9910544295209",
         "7.821454746268386",
         "normal"
        ],
        [
         "294584",
         "9999757432802760",
         "2015-08-06 21:00:13",
         "-82.322720741829",
         "33.0610711311056",
         "30434",
         "ga",
         "louisville",
         "2015-08-06",
         "2015",
         "2015Q3",
         "august",
         "summer",
         "weekday",
         "thursday",
         "21:00:13",
         "6000",
         "very_low",
         "84.9",
         "1.0",
         "2015-09-10 19:43:33",
         "838.72",
         "-82.3609515429911",
         "32.9784968410535",
         "9.829852877200246",
         "normal"
        ],
        [
         "294585",
         "9999757432802760",
         "2015-09-22 16:15:47",
         "-82.4421304550648",
         "32.9499830336443",
         "30434",
         "ga",
         "louisville",
         "2015-09-22",
         "2015",
         "2015Q3",
         "september",
         "fall",
         "weekday",
         "tuesday",
         "16:15:47",
         "6000",
         "very_low",
         "77.54",
         "1.0",
         "2015-08-06 21:00:13",
         "1123.26",
         "-82.322720741829",
         "33.0610711311056",
         "16.62225416635965",
         "normal"
        ],
        [
         "294586",
         "9999757432802760",
         "2015-08-27 18:08:24",
         "-82.3985866117935",
         "32.9761621539873",
         "30434",
         "ga",
         "louisville",
         "2015-08-27",
         "2015",
         "2015Q3",
         "august",
         "summer",
         "weekday",
         "thursday",
         "18:08:24",
         "6000",
         "very_low",
         "144.05",
         "1.0",
         "2015-09-22 16:15:47",
         "622.12",
         "-82.4421304550648",
         "32.9499830336443",
         "5.000261468995432",
         "normal"
        ],
        [
         "294587",
         "9999757432802760",
         "2015-08-22 00:14:52",
         "-82.3896803310008",
         "33.0683512262354",
         "30434",
         "ga",
         "louisville",
         "2015-08-22",
         "2015",
         "2015Q3",
         "august",
         "summer",
         "weekend",
         "saturday",
         "00:14:52",
         "6000",
         "very_low",
         "154.36",
         "1.0",
         "2015-08-27 18:08:24",
         "137.89",
         "-82.3985866117935",
         "32.9761621539873",
         "10.258020882690232",
         "normal"
        ]
       ],
       "shape": {
        "columns": 25,
        "rows": 5
       }
      },
      "text/html": [
       "<div>\n",
       "<style scoped>\n",
       "    .dataframe tbody tr th:only-of-type {\n",
       "        vertical-align: middle;\n",
       "    }\n",
       "\n",
       "    .dataframe tbody tr th {\n",
       "        vertical-align: top;\n",
       "    }\n",
       "\n",
       "    .dataframe thead th {\n",
       "        text-align: right;\n",
       "    }\n",
       "</style>\n",
       "<table border=\"1\" class=\"dataframe\">\n",
       "  <thead>\n",
       "    <tr style=\"text-align: right;\">\n",
       "      <th></th>\n",
       "      <th>credit_card</th>\n",
       "      <th>datetime</th>\n",
       "      <th>long</th>\n",
       "      <th>lat</th>\n",
       "      <th>zipcode</th>\n",
       "      <th>state</th>\n",
       "      <th>city</th>\n",
       "      <th>date</th>\n",
       "      <th>year</th>\n",
       "      <th>quarter</th>\n",
       "      <th>month</th>\n",
       "      <th>season</th>\n",
       "      <th>week_cat</th>\n",
       "      <th>day</th>\n",
       "      <th>time</th>\n",
       "      <th>credit_card_limit</th>\n",
       "      <th>limit_cat</th>\n",
       "      <th>transaction_dollar_amount</th>\n",
       "      <th>transaction_count</th>\n",
       "      <th>prev_time</th>\n",
       "      <th>time_diff_hour</th>\n",
       "      <th>prev_long</th>\n",
       "      <th>prev_lat</th>\n",
       "      <th>distance_km</th>\n",
       "      <th>geo_cat</th>\n",
       "    </tr>\n",
       "  </thead>\n",
       "  <tbody>\n",
       "    <tr>\n",
       "      <th>294583</th>\n",
       "      <td>9999757432802760</td>\n",
       "      <td>2015-09-10 19:43:33</td>\n",
       "      <td>-82.360952</td>\n",
       "      <td>32.978497</td>\n",
       "      <td>30434</td>\n",
       "      <td>ga</td>\n",
       "      <td>louisville</td>\n",
       "      <td>2015-09-10</td>\n",
       "      <td>2015</td>\n",
       "      <td>2015Q3</td>\n",
       "      <td>september</td>\n",
       "      <td>fall</td>\n",
       "      <td>weekday</td>\n",
       "      <td>thursday</td>\n",
       "      <td>19:43:33</td>\n",
       "      <td>6000</td>\n",
       "      <td>very_low</td>\n",
       "      <td>127.23</td>\n",
       "      <td>1.0</td>\n",
       "      <td>2015-10-23 20:47:23</td>\n",
       "      <td>1033.06</td>\n",
       "      <td>-82.443294</td>\n",
       "      <td>32.991054</td>\n",
       "      <td>7.821455</td>\n",
       "      <td>normal</td>\n",
       "    </tr>\n",
       "    <tr>\n",
       "      <th>294584</th>\n",
       "      <td>9999757432802760</td>\n",
       "      <td>2015-08-06 21:00:13</td>\n",
       "      <td>-82.322721</td>\n",
       "      <td>33.061071</td>\n",
       "      <td>30434</td>\n",
       "      <td>ga</td>\n",
       "      <td>louisville</td>\n",
       "      <td>2015-08-06</td>\n",
       "      <td>2015</td>\n",
       "      <td>2015Q3</td>\n",
       "      <td>august</td>\n",
       "      <td>summer</td>\n",
       "      <td>weekday</td>\n",
       "      <td>thursday</td>\n",
       "      <td>21:00:13</td>\n",
       "      <td>6000</td>\n",
       "      <td>very_low</td>\n",
       "      <td>84.90</td>\n",
       "      <td>1.0</td>\n",
       "      <td>2015-09-10 19:43:33</td>\n",
       "      <td>838.72</td>\n",
       "      <td>-82.360952</td>\n",
       "      <td>32.978497</td>\n",
       "      <td>9.829853</td>\n",
       "      <td>normal</td>\n",
       "    </tr>\n",
       "    <tr>\n",
       "      <th>294585</th>\n",
       "      <td>9999757432802760</td>\n",
       "      <td>2015-09-22 16:15:47</td>\n",
       "      <td>-82.442130</td>\n",
       "      <td>32.949983</td>\n",
       "      <td>30434</td>\n",
       "      <td>ga</td>\n",
       "      <td>louisville</td>\n",
       "      <td>2015-09-22</td>\n",
       "      <td>2015</td>\n",
       "      <td>2015Q3</td>\n",
       "      <td>september</td>\n",
       "      <td>fall</td>\n",
       "      <td>weekday</td>\n",
       "      <td>tuesday</td>\n",
       "      <td>16:15:47</td>\n",
       "      <td>6000</td>\n",
       "      <td>very_low</td>\n",
       "      <td>77.54</td>\n",
       "      <td>1.0</td>\n",
       "      <td>2015-08-06 21:00:13</td>\n",
       "      <td>1123.26</td>\n",
       "      <td>-82.322721</td>\n",
       "      <td>33.061071</td>\n",
       "      <td>16.622254</td>\n",
       "      <td>normal</td>\n",
       "    </tr>\n",
       "    <tr>\n",
       "      <th>294586</th>\n",
       "      <td>9999757432802760</td>\n",
       "      <td>2015-08-27 18:08:24</td>\n",
       "      <td>-82.398587</td>\n",
       "      <td>32.976162</td>\n",
       "      <td>30434</td>\n",
       "      <td>ga</td>\n",
       "      <td>louisville</td>\n",
       "      <td>2015-08-27</td>\n",
       "      <td>2015</td>\n",
       "      <td>2015Q3</td>\n",
       "      <td>august</td>\n",
       "      <td>summer</td>\n",
       "      <td>weekday</td>\n",
       "      <td>thursday</td>\n",
       "      <td>18:08:24</td>\n",
       "      <td>6000</td>\n",
       "      <td>very_low</td>\n",
       "      <td>144.05</td>\n",
       "      <td>1.0</td>\n",
       "      <td>2015-09-22 16:15:47</td>\n",
       "      <td>622.12</td>\n",
       "      <td>-82.442130</td>\n",
       "      <td>32.949983</td>\n",
       "      <td>5.000261</td>\n",
       "      <td>normal</td>\n",
       "    </tr>\n",
       "    <tr>\n",
       "      <th>294587</th>\n",
       "      <td>9999757432802760</td>\n",
       "      <td>2015-08-22 00:14:52</td>\n",
       "      <td>-82.389680</td>\n",
       "      <td>33.068351</td>\n",
       "      <td>30434</td>\n",
       "      <td>ga</td>\n",
       "      <td>louisville</td>\n",
       "      <td>2015-08-22</td>\n",
       "      <td>2015</td>\n",
       "      <td>2015Q3</td>\n",
       "      <td>august</td>\n",
       "      <td>summer</td>\n",
       "      <td>weekend</td>\n",
       "      <td>saturday</td>\n",
       "      <td>00:14:52</td>\n",
       "      <td>6000</td>\n",
       "      <td>very_low</td>\n",
       "      <td>154.36</td>\n",
       "      <td>1.0</td>\n",
       "      <td>2015-08-27 18:08:24</td>\n",
       "      <td>137.89</td>\n",
       "      <td>-82.398587</td>\n",
       "      <td>32.976162</td>\n",
       "      <td>10.258021</td>\n",
       "      <td>normal</td>\n",
       "    </tr>\n",
       "  </tbody>\n",
       "</table>\n",
       "</div>"
      ],
      "text/plain": [
       "             credit_card            datetime       long        lat  zipcode  \\\n",
       "294583  9999757432802760 2015-09-10 19:43:33 -82.360952  32.978497    30434   \n",
       "294584  9999757432802760 2015-08-06 21:00:13 -82.322721  33.061071    30434   \n",
       "294585  9999757432802760 2015-09-22 16:15:47 -82.442130  32.949983    30434   \n",
       "294586  9999757432802760 2015-08-27 18:08:24 -82.398587  32.976162    30434   \n",
       "294587  9999757432802760 2015-08-22 00:14:52 -82.389680  33.068351    30434   \n",
       "\n",
       "       state        city        date  year quarter      month  season  \\\n",
       "294583    ga  louisville  2015-09-10  2015  2015Q3  september    fall   \n",
       "294584    ga  louisville  2015-08-06  2015  2015Q3     august  summer   \n",
       "294585    ga  louisville  2015-09-22  2015  2015Q3  september    fall   \n",
       "294586    ga  louisville  2015-08-27  2015  2015Q3     august  summer   \n",
       "294587    ga  louisville  2015-08-22  2015  2015Q3     august  summer   \n",
       "\n",
       "       week_cat       day      time  credit_card_limit limit_cat  \\\n",
       "294583  weekday  thursday  19:43:33               6000  very_low   \n",
       "294584  weekday  thursday  21:00:13               6000  very_low   \n",
       "294585  weekday   tuesday  16:15:47               6000  very_low   \n",
       "294586  weekday  thursday  18:08:24               6000  very_low   \n",
       "294587  weekend  saturday  00:14:52               6000  very_low   \n",
       "\n",
       "        transaction_dollar_amount  transaction_count           prev_time  \\\n",
       "294583                     127.23                1.0 2015-10-23 20:47:23   \n",
       "294584                      84.90                1.0 2015-09-10 19:43:33   \n",
       "294585                      77.54                1.0 2015-08-06 21:00:13   \n",
       "294586                     144.05                1.0 2015-09-22 16:15:47   \n",
       "294587                     154.36                1.0 2015-08-27 18:08:24   \n",
       "\n",
       "        time_diff_hour  prev_long   prev_lat  distance_km geo_cat  \n",
       "294583         1033.06 -82.443294  32.991054     7.821455  normal  \n",
       "294584          838.72 -82.360952  32.978497     9.829853  normal  \n",
       "294585         1123.26 -82.322721  33.061071    16.622254  normal  \n",
       "294586          622.12 -82.442130  32.949983     5.000261  normal  \n",
       "294587          137.89 -82.398587  32.976162    10.258021  normal  "
      ]
     },
     "execution_count": 36,
     "metadata": {},
     "output_type": "execute_result"
    }
   ],
   "source": [
    "# \n",
    "cc_df['geo_cat'] = np.where((cc_df['distance_km'] > 500) | (cc_df[\"time_diff_hour\"] < 1), 'anomaly', 'normal')\n",
    "cc_df.tail()"
   ]
  },
  {
   "cell_type": "code",
   "execution_count": 37,
   "metadata": {},
   "outputs": [
    {
     "data": {
      "application/vnd.microsoft.datawrangler.viewer.v0+json": {
       "columns": [
        {
         "name": "index",
         "rawType": "int64",
         "type": "integer"
        },
        {
         "name": "credit_card",
         "rawType": "int64",
         "type": "integer"
        },
        {
         "name": "datetime",
         "rawType": "datetime64[ns]",
         "type": "datetime"
        },
        {
         "name": "long",
         "rawType": "float64",
         "type": "float"
        },
        {
         "name": "lat",
         "rawType": "float64",
         "type": "float"
        },
        {
         "name": "zipcode",
         "rawType": "int64",
         "type": "integer"
        },
        {
         "name": "state",
         "rawType": "object",
         "type": "string"
        },
        {
         "name": "city",
         "rawType": "object",
         "type": "string"
        },
        {
         "name": "date",
         "rawType": "object",
         "type": "string"
        },
        {
         "name": "year",
         "rawType": "int32",
         "type": "integer"
        },
        {
         "name": "quarter",
         "rawType": "object",
         "type": "string"
        },
        {
         "name": "month",
         "rawType": "object",
         "type": "string"
        },
        {
         "name": "season",
         "rawType": "object",
         "type": "string"
        },
        {
         "name": "week_cat",
         "rawType": "object",
         "type": "string"
        },
        {
         "name": "day",
         "rawType": "object",
         "type": "string"
        },
        {
         "name": "time",
         "rawType": "object",
         "type": "string"
        },
        {
         "name": "credit_card_limit",
         "rawType": "int64",
         "type": "integer"
        },
        {
         "name": "limit_cat",
         "rawType": "object",
         "type": "string"
        },
        {
         "name": "transaction_dollar_amount",
         "rawType": "float64",
         "type": "float"
        },
        {
         "name": "transaction_count",
         "rawType": "float64",
         "type": "float"
        },
        {
         "name": "prev_time",
         "rawType": "datetime64[ns]",
         "type": "datetime"
        },
        {
         "name": "time_diff_hour",
         "rawType": "float64",
         "type": "float"
        },
        {
         "name": "prev_long",
         "rawType": "float64",
         "type": "float"
        },
        {
         "name": "prev_lat",
         "rawType": "float64",
         "type": "float"
        },
        {
         "name": "distance_km",
         "rawType": "float64",
         "type": "float"
        },
        {
         "name": "geo_cat",
         "rawType": "object",
         "type": "string"
        },
        {
         "name": "speed_km/h",
         "rawType": "float64",
         "type": "float"
        }
       ],
       "conversionMethod": "pd.DataFrame",
       "ref": "da0b1961-c9a9-4ab8-8b49-496263c30eaa",
       "rows": [
        [
         "294583",
         "9999757432802760",
         "2015-09-10 19:43:33",
         "-82.3609515429911",
         "32.9784968410535",
         "30434",
         "ga",
         "louisville",
         "2015-09-10",
         "2015",
         "2015Q3",
         "september",
         "fall",
         "weekday",
         "thursday",
         "19:43:33",
         "6000",
         "very_low",
         "127.23",
         "1.0",
         "2015-10-23 20:47:23",
         "1033.06",
         "-82.4432937480558",
         "32.9910544295209",
         "7.821454746268386",
         "normal",
         "0.01"
        ],
        [
         "294584",
         "9999757432802760",
         "2015-08-06 21:00:13",
         "-82.322720741829",
         "33.0610711311056",
         "30434",
         "ga",
         "louisville",
         "2015-08-06",
         "2015",
         "2015Q3",
         "august",
         "summer",
         "weekday",
         "thursday",
         "21:00:13",
         "6000",
         "very_low",
         "84.9",
         "1.0",
         "2015-09-10 19:43:33",
         "838.72",
         "-82.3609515429911",
         "32.9784968410535",
         "9.829852877200246",
         "normal",
         "0.01"
        ],
        [
         "294585",
         "9999757432802760",
         "2015-09-22 16:15:47",
         "-82.4421304550648",
         "32.9499830336443",
         "30434",
         "ga",
         "louisville",
         "2015-09-22",
         "2015",
         "2015Q3",
         "september",
         "fall",
         "weekday",
         "tuesday",
         "16:15:47",
         "6000",
         "very_low",
         "77.54",
         "1.0",
         "2015-08-06 21:00:13",
         "1123.26",
         "-82.322720741829",
         "33.0610711311056",
         "16.62225416635965",
         "normal",
         "0.01"
        ],
        [
         "294586",
         "9999757432802760",
         "2015-08-27 18:08:24",
         "-82.3985866117935",
         "32.9761621539873",
         "30434",
         "ga",
         "louisville",
         "2015-08-27",
         "2015",
         "2015Q3",
         "august",
         "summer",
         "weekday",
         "thursday",
         "18:08:24",
         "6000",
         "very_low",
         "144.05",
         "1.0",
         "2015-09-22 16:15:47",
         "622.12",
         "-82.4421304550648",
         "32.9499830336443",
         "5.000261468995432",
         "normal",
         "0.01"
        ],
        [
         "294587",
         "9999757432802760",
         "2015-08-22 00:14:52",
         "-82.3896803310008",
         "33.0683512262354",
         "30434",
         "ga",
         "louisville",
         "2015-08-22",
         "2015",
         "2015Q3",
         "august",
         "summer",
         "weekend",
         "saturday",
         "00:14:52",
         "6000",
         "very_low",
         "154.36",
         "1.0",
         "2015-08-27 18:08:24",
         "137.89",
         "-82.3985866117935",
         "32.9761621539873",
         "10.258020882690232",
         "normal",
         "0.07"
        ]
       ],
       "shape": {
        "columns": 26,
        "rows": 5
       }
      },
      "text/html": [
       "<div>\n",
       "<style scoped>\n",
       "    .dataframe tbody tr th:only-of-type {\n",
       "        vertical-align: middle;\n",
       "    }\n",
       "\n",
       "    .dataframe tbody tr th {\n",
       "        vertical-align: top;\n",
       "    }\n",
       "\n",
       "    .dataframe thead th {\n",
       "        text-align: right;\n",
       "    }\n",
       "</style>\n",
       "<table border=\"1\" class=\"dataframe\">\n",
       "  <thead>\n",
       "    <tr style=\"text-align: right;\">\n",
       "      <th></th>\n",
       "      <th>credit_card</th>\n",
       "      <th>datetime</th>\n",
       "      <th>long</th>\n",
       "      <th>lat</th>\n",
       "      <th>zipcode</th>\n",
       "      <th>state</th>\n",
       "      <th>city</th>\n",
       "      <th>date</th>\n",
       "      <th>year</th>\n",
       "      <th>quarter</th>\n",
       "      <th>month</th>\n",
       "      <th>season</th>\n",
       "      <th>week_cat</th>\n",
       "      <th>day</th>\n",
       "      <th>time</th>\n",
       "      <th>credit_card_limit</th>\n",
       "      <th>limit_cat</th>\n",
       "      <th>transaction_dollar_amount</th>\n",
       "      <th>transaction_count</th>\n",
       "      <th>prev_time</th>\n",
       "      <th>time_diff_hour</th>\n",
       "      <th>prev_long</th>\n",
       "      <th>prev_lat</th>\n",
       "      <th>distance_km</th>\n",
       "      <th>geo_cat</th>\n",
       "      <th>speed_km/h</th>\n",
       "    </tr>\n",
       "  </thead>\n",
       "  <tbody>\n",
       "    <tr>\n",
       "      <th>294583</th>\n",
       "      <td>9999757432802760</td>\n",
       "      <td>2015-09-10 19:43:33</td>\n",
       "      <td>-82.360952</td>\n",
       "      <td>32.978497</td>\n",
       "      <td>30434</td>\n",
       "      <td>ga</td>\n",
       "      <td>louisville</td>\n",
       "      <td>2015-09-10</td>\n",
       "      <td>2015</td>\n",
       "      <td>2015Q3</td>\n",
       "      <td>september</td>\n",
       "      <td>fall</td>\n",
       "      <td>weekday</td>\n",
       "      <td>thursday</td>\n",
       "      <td>19:43:33</td>\n",
       "      <td>6000</td>\n",
       "      <td>very_low</td>\n",
       "      <td>127.23</td>\n",
       "      <td>1.0</td>\n",
       "      <td>2015-10-23 20:47:23</td>\n",
       "      <td>1033.06</td>\n",
       "      <td>-82.443294</td>\n",
       "      <td>32.991054</td>\n",
       "      <td>7.821455</td>\n",
       "      <td>normal</td>\n",
       "      <td>0.01</td>\n",
       "    </tr>\n",
       "    <tr>\n",
       "      <th>294584</th>\n",
       "      <td>9999757432802760</td>\n",
       "      <td>2015-08-06 21:00:13</td>\n",
       "      <td>-82.322721</td>\n",
       "      <td>33.061071</td>\n",
       "      <td>30434</td>\n",
       "      <td>ga</td>\n",
       "      <td>louisville</td>\n",
       "      <td>2015-08-06</td>\n",
       "      <td>2015</td>\n",
       "      <td>2015Q3</td>\n",
       "      <td>august</td>\n",
       "      <td>summer</td>\n",
       "      <td>weekday</td>\n",
       "      <td>thursday</td>\n",
       "      <td>21:00:13</td>\n",
       "      <td>6000</td>\n",
       "      <td>very_low</td>\n",
       "      <td>84.90</td>\n",
       "      <td>1.0</td>\n",
       "      <td>2015-09-10 19:43:33</td>\n",
       "      <td>838.72</td>\n",
       "      <td>-82.360952</td>\n",
       "      <td>32.978497</td>\n",
       "      <td>9.829853</td>\n",
       "      <td>normal</td>\n",
       "      <td>0.01</td>\n",
       "    </tr>\n",
       "    <tr>\n",
       "      <th>294585</th>\n",
       "      <td>9999757432802760</td>\n",
       "      <td>2015-09-22 16:15:47</td>\n",
       "      <td>-82.442130</td>\n",
       "      <td>32.949983</td>\n",
       "      <td>30434</td>\n",
       "      <td>ga</td>\n",
       "      <td>louisville</td>\n",
       "      <td>2015-09-22</td>\n",
       "      <td>2015</td>\n",
       "      <td>2015Q3</td>\n",
       "      <td>september</td>\n",
       "      <td>fall</td>\n",
       "      <td>weekday</td>\n",
       "      <td>tuesday</td>\n",
       "      <td>16:15:47</td>\n",
       "      <td>6000</td>\n",
       "      <td>very_low</td>\n",
       "      <td>77.54</td>\n",
       "      <td>1.0</td>\n",
       "      <td>2015-08-06 21:00:13</td>\n",
       "      <td>1123.26</td>\n",
       "      <td>-82.322721</td>\n",
       "      <td>33.061071</td>\n",
       "      <td>16.622254</td>\n",
       "      <td>normal</td>\n",
       "      <td>0.01</td>\n",
       "    </tr>\n",
       "    <tr>\n",
       "      <th>294586</th>\n",
       "      <td>9999757432802760</td>\n",
       "      <td>2015-08-27 18:08:24</td>\n",
       "      <td>-82.398587</td>\n",
       "      <td>32.976162</td>\n",
       "      <td>30434</td>\n",
       "      <td>ga</td>\n",
       "      <td>louisville</td>\n",
       "      <td>2015-08-27</td>\n",
       "      <td>2015</td>\n",
       "      <td>2015Q3</td>\n",
       "      <td>august</td>\n",
       "      <td>summer</td>\n",
       "      <td>weekday</td>\n",
       "      <td>thursday</td>\n",
       "      <td>18:08:24</td>\n",
       "      <td>6000</td>\n",
       "      <td>very_low</td>\n",
       "      <td>144.05</td>\n",
       "      <td>1.0</td>\n",
       "      <td>2015-09-22 16:15:47</td>\n",
       "      <td>622.12</td>\n",
       "      <td>-82.442130</td>\n",
       "      <td>32.949983</td>\n",
       "      <td>5.000261</td>\n",
       "      <td>normal</td>\n",
       "      <td>0.01</td>\n",
       "    </tr>\n",
       "    <tr>\n",
       "      <th>294587</th>\n",
       "      <td>9999757432802760</td>\n",
       "      <td>2015-08-22 00:14:52</td>\n",
       "      <td>-82.389680</td>\n",
       "      <td>33.068351</td>\n",
       "      <td>30434</td>\n",
       "      <td>ga</td>\n",
       "      <td>louisville</td>\n",
       "      <td>2015-08-22</td>\n",
       "      <td>2015</td>\n",
       "      <td>2015Q3</td>\n",
       "      <td>august</td>\n",
       "      <td>summer</td>\n",
       "      <td>weekend</td>\n",
       "      <td>saturday</td>\n",
       "      <td>00:14:52</td>\n",
       "      <td>6000</td>\n",
       "      <td>very_low</td>\n",
       "      <td>154.36</td>\n",
       "      <td>1.0</td>\n",
       "      <td>2015-08-27 18:08:24</td>\n",
       "      <td>137.89</td>\n",
       "      <td>-82.398587</td>\n",
       "      <td>32.976162</td>\n",
       "      <td>10.258021</td>\n",
       "      <td>normal</td>\n",
       "      <td>0.07</td>\n",
       "    </tr>\n",
       "  </tbody>\n",
       "</table>\n",
       "</div>"
      ],
      "text/plain": [
       "             credit_card            datetime       long        lat  zipcode  \\\n",
       "294583  9999757432802760 2015-09-10 19:43:33 -82.360952  32.978497    30434   \n",
       "294584  9999757432802760 2015-08-06 21:00:13 -82.322721  33.061071    30434   \n",
       "294585  9999757432802760 2015-09-22 16:15:47 -82.442130  32.949983    30434   \n",
       "294586  9999757432802760 2015-08-27 18:08:24 -82.398587  32.976162    30434   \n",
       "294587  9999757432802760 2015-08-22 00:14:52 -82.389680  33.068351    30434   \n",
       "\n",
       "       state        city        date  year quarter      month  season  \\\n",
       "294583    ga  louisville  2015-09-10  2015  2015Q3  september    fall   \n",
       "294584    ga  louisville  2015-08-06  2015  2015Q3     august  summer   \n",
       "294585    ga  louisville  2015-09-22  2015  2015Q3  september    fall   \n",
       "294586    ga  louisville  2015-08-27  2015  2015Q3     august  summer   \n",
       "294587    ga  louisville  2015-08-22  2015  2015Q3     august  summer   \n",
       "\n",
       "       week_cat       day      time  credit_card_limit limit_cat  \\\n",
       "294583  weekday  thursday  19:43:33               6000  very_low   \n",
       "294584  weekday  thursday  21:00:13               6000  very_low   \n",
       "294585  weekday   tuesday  16:15:47               6000  very_low   \n",
       "294586  weekday  thursday  18:08:24               6000  very_low   \n",
       "294587  weekend  saturday  00:14:52               6000  very_low   \n",
       "\n",
       "        transaction_dollar_amount  transaction_count           prev_time  \\\n",
       "294583                     127.23                1.0 2015-10-23 20:47:23   \n",
       "294584                      84.90                1.0 2015-09-10 19:43:33   \n",
       "294585                      77.54                1.0 2015-08-06 21:00:13   \n",
       "294586                     144.05                1.0 2015-09-22 16:15:47   \n",
       "294587                     154.36                1.0 2015-08-27 18:08:24   \n",
       "\n",
       "        time_diff_hour  prev_long   prev_lat  distance_km geo_cat  speed_km/h  \n",
       "294583         1033.06 -82.443294  32.991054     7.821455  normal        0.01  \n",
       "294584          838.72 -82.360952  32.978497     9.829853  normal        0.01  \n",
       "294585         1123.26 -82.322721  33.061071    16.622254  normal        0.01  \n",
       "294586          622.12 -82.442130  32.949983     5.000261  normal        0.01  \n",
       "294587          137.89 -82.398587  32.976162    10.258021  normal        0.07  "
      ]
     },
     "execution_count": 37,
     "metadata": {},
     "output_type": "execute_result"
    }
   ],
   "source": [
    "cc_df[\"speed_km/h\"] = round(cc_df[\"distance_km\"] / cc_df[\"time_diff_hour\"], 2)  # km/jam\n",
    "cc_df[\"speed_km/h\"] = cc_df[\"speed_km/h\"].fillna(0)\n",
    "\n",
    "cc_df.tail()"
   ]
  },
  {
   "cell_type": "code",
   "execution_count": 38,
   "metadata": {},
   "outputs": [],
   "source": [
    "# Melebihi 80% dari limit kartu\n",
    "cc_limit_sus = cc_df['transaction_dollar_amount'] > cc_df['credit_card_limit'] * 0.8\n",
    "\n",
    "# 5x lipat lebih besar dari rata-rata transaks\n",
    "cc_trx_sus = cc_df['transaction_dollar_amount'] > cc_df['transaction_dollar_amount'].mean() * 5"
   ]
  },
  {
   "cell_type": "code",
   "execution_count": 39,
   "metadata": {},
   "outputs": [
    {
     "data": {
      "application/vnd.microsoft.datawrangler.viewer.v0+json": {
       "columns": [
        {
         "name": "index",
         "rawType": "int64",
         "type": "integer"
        },
        {
         "name": "credit_card",
         "rawType": "int64",
         "type": "integer"
        },
        {
         "name": "datetime",
         "rawType": "datetime64[ns]",
         "type": "datetime"
        },
        {
         "name": "long",
         "rawType": "float64",
         "type": "float"
        },
        {
         "name": "lat",
         "rawType": "float64",
         "type": "float"
        },
        {
         "name": "zipcode",
         "rawType": "int64",
         "type": "integer"
        },
        {
         "name": "state",
         "rawType": "object",
         "type": "string"
        },
        {
         "name": "city",
         "rawType": "object",
         "type": "string"
        },
        {
         "name": "date",
         "rawType": "object",
         "type": "string"
        },
        {
         "name": "year",
         "rawType": "int32",
         "type": "integer"
        },
        {
         "name": "quarter",
         "rawType": "object",
         "type": "string"
        },
        {
         "name": "month",
         "rawType": "object",
         "type": "string"
        },
        {
         "name": "season",
         "rawType": "object",
         "type": "string"
        },
        {
         "name": "week_cat",
         "rawType": "object",
         "type": "string"
        },
        {
         "name": "day",
         "rawType": "object",
         "type": "string"
        },
        {
         "name": "time",
         "rawType": "object",
         "type": "string"
        },
        {
         "name": "credit_card_limit",
         "rawType": "int64",
         "type": "integer"
        },
        {
         "name": "limit_cat",
         "rawType": "object",
         "type": "string"
        },
        {
         "name": "transaction_dollar_amount",
         "rawType": "float64",
         "type": "float"
        },
        {
         "name": "transaction_count",
         "rawType": "float64",
         "type": "float"
        },
        {
         "name": "prev_time",
         "rawType": "datetime64[ns]",
         "type": "datetime"
        },
        {
         "name": "time_diff_hour",
         "rawType": "float64",
         "type": "float"
        },
        {
         "name": "prev_long",
         "rawType": "float64",
         "type": "float"
        },
        {
         "name": "prev_lat",
         "rawType": "float64",
         "type": "float"
        },
        {
         "name": "distance_km",
         "rawType": "float64",
         "type": "float"
        },
        {
         "name": "geo_cat",
         "rawType": "object",
         "type": "string"
        },
        {
         "name": "speed_km/h",
         "rawType": "float64",
         "type": "float"
        },
        {
         "name": "fraud",
         "rawType": "object",
         "type": "string"
        }
       ],
       "conversionMethod": "pd.DataFrame",
       "ref": "de453636-6654-453f-87cd-e1894906432d",
       "rows": [
        [
         "294583",
         "9999757432802760",
         "2015-09-10 19:43:33",
         "-82.3609515429911",
         "32.9784968410535",
         "30434",
         "ga",
         "louisville",
         "2015-09-10",
         "2015",
         "2015Q3",
         "september",
         "fall",
         "weekday",
         "thursday",
         "19:43:33",
         "6000",
         "very_low",
         "127.23",
         "1.0",
         "2015-10-23 20:47:23",
         "1033.06",
         "-82.4432937480558",
         "32.9910544295209",
         "7.821454746268386",
         "normal",
         "0.01",
         "not_fraud"
        ],
        [
         "294584",
         "9999757432802760",
         "2015-08-06 21:00:13",
         "-82.322720741829",
         "33.0610711311056",
         "30434",
         "ga",
         "louisville",
         "2015-08-06",
         "2015",
         "2015Q3",
         "august",
         "summer",
         "weekday",
         "thursday",
         "21:00:13",
         "6000",
         "very_low",
         "84.9",
         "1.0",
         "2015-09-10 19:43:33",
         "838.72",
         "-82.3609515429911",
         "32.9784968410535",
         "9.829852877200246",
         "normal",
         "0.01",
         "not_fraud"
        ],
        [
         "294585",
         "9999757432802760",
         "2015-09-22 16:15:47",
         "-82.4421304550648",
         "32.9499830336443",
         "30434",
         "ga",
         "louisville",
         "2015-09-22",
         "2015",
         "2015Q3",
         "september",
         "fall",
         "weekday",
         "tuesday",
         "16:15:47",
         "6000",
         "very_low",
         "77.54",
         "1.0",
         "2015-08-06 21:00:13",
         "1123.26",
         "-82.322720741829",
         "33.0610711311056",
         "16.62225416635965",
         "normal",
         "0.01",
         "not_fraud"
        ],
        [
         "294586",
         "9999757432802760",
         "2015-08-27 18:08:24",
         "-82.3985866117935",
         "32.9761621539873",
         "30434",
         "ga",
         "louisville",
         "2015-08-27",
         "2015",
         "2015Q3",
         "august",
         "summer",
         "weekday",
         "thursday",
         "18:08:24",
         "6000",
         "very_low",
         "144.05",
         "1.0",
         "2015-09-22 16:15:47",
         "622.12",
         "-82.4421304550648",
         "32.9499830336443",
         "5.000261468995432",
         "normal",
         "0.01",
         "not_fraud"
        ],
        [
         "294587",
         "9999757432802760",
         "2015-08-22 00:14:52",
         "-82.3896803310008",
         "33.0683512262354",
         "30434",
         "ga",
         "louisville",
         "2015-08-22",
         "2015",
         "2015Q3",
         "august",
         "summer",
         "weekend",
         "saturday",
         "00:14:52",
         "6000",
         "very_low",
         "154.36",
         "1.0",
         "2015-08-27 18:08:24",
         "137.89",
         "-82.3985866117935",
         "32.9761621539873",
         "10.258020882690232",
         "normal",
         "0.07",
         "not_fraud"
        ]
       ],
       "shape": {
        "columns": 27,
        "rows": 5
       }
      },
      "text/html": [
       "<div>\n",
       "<style scoped>\n",
       "    .dataframe tbody tr th:only-of-type {\n",
       "        vertical-align: middle;\n",
       "    }\n",
       "\n",
       "    .dataframe tbody tr th {\n",
       "        vertical-align: top;\n",
       "    }\n",
       "\n",
       "    .dataframe thead th {\n",
       "        text-align: right;\n",
       "    }\n",
       "</style>\n",
       "<table border=\"1\" class=\"dataframe\">\n",
       "  <thead>\n",
       "    <tr style=\"text-align: right;\">\n",
       "      <th></th>\n",
       "      <th>credit_card</th>\n",
       "      <th>datetime</th>\n",
       "      <th>long</th>\n",
       "      <th>lat</th>\n",
       "      <th>zipcode</th>\n",
       "      <th>state</th>\n",
       "      <th>city</th>\n",
       "      <th>date</th>\n",
       "      <th>year</th>\n",
       "      <th>quarter</th>\n",
       "      <th>month</th>\n",
       "      <th>season</th>\n",
       "      <th>week_cat</th>\n",
       "      <th>day</th>\n",
       "      <th>time</th>\n",
       "      <th>credit_card_limit</th>\n",
       "      <th>limit_cat</th>\n",
       "      <th>transaction_dollar_amount</th>\n",
       "      <th>transaction_count</th>\n",
       "      <th>prev_time</th>\n",
       "      <th>time_diff_hour</th>\n",
       "      <th>prev_long</th>\n",
       "      <th>prev_lat</th>\n",
       "      <th>distance_km</th>\n",
       "      <th>geo_cat</th>\n",
       "      <th>speed_km/h</th>\n",
       "      <th>fraud</th>\n",
       "    </tr>\n",
       "  </thead>\n",
       "  <tbody>\n",
       "    <tr>\n",
       "      <th>294583</th>\n",
       "      <td>9999757432802760</td>\n",
       "      <td>2015-09-10 19:43:33</td>\n",
       "      <td>-82.360952</td>\n",
       "      <td>32.978497</td>\n",
       "      <td>30434</td>\n",
       "      <td>ga</td>\n",
       "      <td>louisville</td>\n",
       "      <td>2015-09-10</td>\n",
       "      <td>2015</td>\n",
       "      <td>2015Q3</td>\n",
       "      <td>september</td>\n",
       "      <td>fall</td>\n",
       "      <td>weekday</td>\n",
       "      <td>thursday</td>\n",
       "      <td>19:43:33</td>\n",
       "      <td>6000</td>\n",
       "      <td>very_low</td>\n",
       "      <td>127.23</td>\n",
       "      <td>1.0</td>\n",
       "      <td>2015-10-23 20:47:23</td>\n",
       "      <td>1033.06</td>\n",
       "      <td>-82.443294</td>\n",
       "      <td>32.991054</td>\n",
       "      <td>7.821455</td>\n",
       "      <td>normal</td>\n",
       "      <td>0.01</td>\n",
       "      <td>not_fraud</td>\n",
       "    </tr>\n",
       "    <tr>\n",
       "      <th>294584</th>\n",
       "      <td>9999757432802760</td>\n",
       "      <td>2015-08-06 21:00:13</td>\n",
       "      <td>-82.322721</td>\n",
       "      <td>33.061071</td>\n",
       "      <td>30434</td>\n",
       "      <td>ga</td>\n",
       "      <td>louisville</td>\n",
       "      <td>2015-08-06</td>\n",
       "      <td>2015</td>\n",
       "      <td>2015Q3</td>\n",
       "      <td>august</td>\n",
       "      <td>summer</td>\n",
       "      <td>weekday</td>\n",
       "      <td>thursday</td>\n",
       "      <td>21:00:13</td>\n",
       "      <td>6000</td>\n",
       "      <td>very_low</td>\n",
       "      <td>84.90</td>\n",
       "      <td>1.0</td>\n",
       "      <td>2015-09-10 19:43:33</td>\n",
       "      <td>838.72</td>\n",
       "      <td>-82.360952</td>\n",
       "      <td>32.978497</td>\n",
       "      <td>9.829853</td>\n",
       "      <td>normal</td>\n",
       "      <td>0.01</td>\n",
       "      <td>not_fraud</td>\n",
       "    </tr>\n",
       "    <tr>\n",
       "      <th>294585</th>\n",
       "      <td>9999757432802760</td>\n",
       "      <td>2015-09-22 16:15:47</td>\n",
       "      <td>-82.442130</td>\n",
       "      <td>32.949983</td>\n",
       "      <td>30434</td>\n",
       "      <td>ga</td>\n",
       "      <td>louisville</td>\n",
       "      <td>2015-09-22</td>\n",
       "      <td>2015</td>\n",
       "      <td>2015Q3</td>\n",
       "      <td>september</td>\n",
       "      <td>fall</td>\n",
       "      <td>weekday</td>\n",
       "      <td>tuesday</td>\n",
       "      <td>16:15:47</td>\n",
       "      <td>6000</td>\n",
       "      <td>very_low</td>\n",
       "      <td>77.54</td>\n",
       "      <td>1.0</td>\n",
       "      <td>2015-08-06 21:00:13</td>\n",
       "      <td>1123.26</td>\n",
       "      <td>-82.322721</td>\n",
       "      <td>33.061071</td>\n",
       "      <td>16.622254</td>\n",
       "      <td>normal</td>\n",
       "      <td>0.01</td>\n",
       "      <td>not_fraud</td>\n",
       "    </tr>\n",
       "    <tr>\n",
       "      <th>294586</th>\n",
       "      <td>9999757432802760</td>\n",
       "      <td>2015-08-27 18:08:24</td>\n",
       "      <td>-82.398587</td>\n",
       "      <td>32.976162</td>\n",
       "      <td>30434</td>\n",
       "      <td>ga</td>\n",
       "      <td>louisville</td>\n",
       "      <td>2015-08-27</td>\n",
       "      <td>2015</td>\n",
       "      <td>2015Q3</td>\n",
       "      <td>august</td>\n",
       "      <td>summer</td>\n",
       "      <td>weekday</td>\n",
       "      <td>thursday</td>\n",
       "      <td>18:08:24</td>\n",
       "      <td>6000</td>\n",
       "      <td>very_low</td>\n",
       "      <td>144.05</td>\n",
       "      <td>1.0</td>\n",
       "      <td>2015-09-22 16:15:47</td>\n",
       "      <td>622.12</td>\n",
       "      <td>-82.442130</td>\n",
       "      <td>32.949983</td>\n",
       "      <td>5.000261</td>\n",
       "      <td>normal</td>\n",
       "      <td>0.01</td>\n",
       "      <td>not_fraud</td>\n",
       "    </tr>\n",
       "    <tr>\n",
       "      <th>294587</th>\n",
       "      <td>9999757432802760</td>\n",
       "      <td>2015-08-22 00:14:52</td>\n",
       "      <td>-82.389680</td>\n",
       "      <td>33.068351</td>\n",
       "      <td>30434</td>\n",
       "      <td>ga</td>\n",
       "      <td>louisville</td>\n",
       "      <td>2015-08-22</td>\n",
       "      <td>2015</td>\n",
       "      <td>2015Q3</td>\n",
       "      <td>august</td>\n",
       "      <td>summer</td>\n",
       "      <td>weekend</td>\n",
       "      <td>saturday</td>\n",
       "      <td>00:14:52</td>\n",
       "      <td>6000</td>\n",
       "      <td>very_low</td>\n",
       "      <td>154.36</td>\n",
       "      <td>1.0</td>\n",
       "      <td>2015-08-27 18:08:24</td>\n",
       "      <td>137.89</td>\n",
       "      <td>-82.398587</td>\n",
       "      <td>32.976162</td>\n",
       "      <td>10.258021</td>\n",
       "      <td>normal</td>\n",
       "      <td>0.07</td>\n",
       "      <td>not_fraud</td>\n",
       "    </tr>\n",
       "  </tbody>\n",
       "</table>\n",
       "</div>"
      ],
      "text/plain": [
       "             credit_card            datetime       long        lat  zipcode  \\\n",
       "294583  9999757432802760 2015-09-10 19:43:33 -82.360952  32.978497    30434   \n",
       "294584  9999757432802760 2015-08-06 21:00:13 -82.322721  33.061071    30434   \n",
       "294585  9999757432802760 2015-09-22 16:15:47 -82.442130  32.949983    30434   \n",
       "294586  9999757432802760 2015-08-27 18:08:24 -82.398587  32.976162    30434   \n",
       "294587  9999757432802760 2015-08-22 00:14:52 -82.389680  33.068351    30434   \n",
       "\n",
       "       state        city        date  year quarter      month  season  \\\n",
       "294583    ga  louisville  2015-09-10  2015  2015Q3  september    fall   \n",
       "294584    ga  louisville  2015-08-06  2015  2015Q3     august  summer   \n",
       "294585    ga  louisville  2015-09-22  2015  2015Q3  september    fall   \n",
       "294586    ga  louisville  2015-08-27  2015  2015Q3     august  summer   \n",
       "294587    ga  louisville  2015-08-22  2015  2015Q3     august  summer   \n",
       "\n",
       "       week_cat       day      time  credit_card_limit limit_cat  \\\n",
       "294583  weekday  thursday  19:43:33               6000  very_low   \n",
       "294584  weekday  thursday  21:00:13               6000  very_low   \n",
       "294585  weekday   tuesday  16:15:47               6000  very_low   \n",
       "294586  weekday  thursday  18:08:24               6000  very_low   \n",
       "294587  weekend  saturday  00:14:52               6000  very_low   \n",
       "\n",
       "        transaction_dollar_amount  transaction_count           prev_time  \\\n",
       "294583                     127.23                1.0 2015-10-23 20:47:23   \n",
       "294584                      84.90                1.0 2015-09-10 19:43:33   \n",
       "294585                      77.54                1.0 2015-08-06 21:00:13   \n",
       "294586                     144.05                1.0 2015-09-22 16:15:47   \n",
       "294587                     154.36                1.0 2015-08-27 18:08:24   \n",
       "\n",
       "        time_diff_hour  prev_long   prev_lat  distance_km geo_cat  speed_km/h  \\\n",
       "294583         1033.06 -82.443294  32.991054     7.821455  normal        0.01   \n",
       "294584          838.72 -82.360952  32.978497     9.829853  normal        0.01   \n",
       "294585         1123.26 -82.322721  33.061071    16.622254  normal        0.01   \n",
       "294586          622.12 -82.442130  32.949983     5.000261  normal        0.01   \n",
       "294587          137.89 -82.398587  32.976162    10.258021  normal        0.07   \n",
       "\n",
       "            fraud  \n",
       "294583  not_fraud  \n",
       "294584  not_fraud  \n",
       "294585  not_fraud  \n",
       "294586  not_fraud  \n",
       "294587  not_fraud  "
      ]
     },
     "execution_count": 39,
     "metadata": {},
     "output_type": "execute_result"
    }
   ],
   "source": [
    "# \n",
    "cc_df['fraud'] = np.where((cc_df['geo_cat'] == 'suspicious') | \n",
    "                          (cc_df[\"time_diff_hour\"] < 1) | \n",
    "                          (cc_df['speed_km/h'] > 50) | \n",
    "                          (cc_limit_sus) | \n",
    "                          (cc_trx_sus), \n",
    "                          'fraud', 'not_fraud')\n",
    "\n",
    "cc_df.tail()"
   ]
  },
  {
   "cell_type": "code",
   "execution_count": 40,
   "metadata": {},
   "outputs": [
    {
     "data": {
      "text/plain": [
       "credit_card                  0\n",
       "datetime                     0\n",
       "long                         0\n",
       "lat                          0\n",
       "zipcode                      0\n",
       "state                        0\n",
       "city                         0\n",
       "date                         0\n",
       "year                         0\n",
       "quarter                      0\n",
       "month                        0\n",
       "season                       0\n",
       "week_cat                     0\n",
       "day                          0\n",
       "time                         0\n",
       "credit_card_limit            0\n",
       "limit_cat                    0\n",
       "transaction_dollar_amount    0\n",
       "transaction_count            0\n",
       "prev_time                    0\n",
       "time_diff_hour               0\n",
       "prev_long                    0\n",
       "prev_lat                     0\n",
       "distance_km                  0\n",
       "geo_cat                      0\n",
       "speed_km/h                   0\n",
       "fraud                        0\n",
       "dtype: int64"
      ]
     },
     "execution_count": 40,
     "metadata": {},
     "output_type": "execute_result"
    }
   ],
   "source": [
    "# check null after data manipulations\n",
    "cc_df.isnull().sum()"
   ]
  },
  {
   "cell_type": "code",
   "execution_count": 41,
   "metadata": {},
   "outputs": [],
   "source": [
    "# change all infinite number\n",
    "cc_df.replace([np.inf, -np.inf], 0, inplace = True)"
   ]
  },
  {
   "cell_type": "code",
   "execution_count": 42,
   "metadata": {},
   "outputs": [
    {
     "data": {
      "application/vnd.microsoft.datawrangler.viewer.v0+json": {
       "columns": [
        {
         "name": "index",
         "rawType": "int64",
         "type": "integer"
        },
        {
         "name": "credit_card",
         "rawType": "int64",
         "type": "integer"
        },
        {
         "name": "datetime",
         "rawType": "datetime64[ns]",
         "type": "datetime"
        },
        {
         "name": "long",
         "rawType": "float64",
         "type": "float"
        },
        {
         "name": "lat",
         "rawType": "float64",
         "type": "float"
        },
        {
         "name": "zipcode",
         "rawType": "int64",
         "type": "integer"
        },
        {
         "name": "state",
         "rawType": "object",
         "type": "string"
        },
        {
         "name": "city",
         "rawType": "object",
         "type": "string"
        },
        {
         "name": "date",
         "rawType": "object",
         "type": "string"
        },
        {
         "name": "year",
         "rawType": "int32",
         "type": "integer"
        },
        {
         "name": "quarter",
         "rawType": "object",
         "type": "string"
        },
        {
         "name": "month",
         "rawType": "object",
         "type": "string"
        },
        {
         "name": "season",
         "rawType": "object",
         "type": "string"
        },
        {
         "name": "week_cat",
         "rawType": "object",
         "type": "string"
        },
        {
         "name": "day",
         "rawType": "object",
         "type": "string"
        },
        {
         "name": "time",
         "rawType": "object",
         "type": "string"
        },
        {
         "name": "credit_card_limit",
         "rawType": "int64",
         "type": "integer"
        },
        {
         "name": "limit_cat",
         "rawType": "object",
         "type": "string"
        },
        {
         "name": "transaction_dollar_amount",
         "rawType": "float64",
         "type": "float"
        },
        {
         "name": "transaction_count",
         "rawType": "float64",
         "type": "float"
        },
        {
         "name": "prev_time",
         "rawType": "datetime64[ns]",
         "type": "datetime"
        },
        {
         "name": "time_diff_hour",
         "rawType": "float64",
         "type": "float"
        },
        {
         "name": "prev_long",
         "rawType": "float64",
         "type": "float"
        },
        {
         "name": "prev_lat",
         "rawType": "float64",
         "type": "float"
        },
        {
         "name": "distance_km",
         "rawType": "float64",
         "type": "float"
        },
        {
         "name": "geo_cat",
         "rawType": "object",
         "type": "string"
        },
        {
         "name": "speed_km/h",
         "rawType": "float64",
         "type": "float"
        },
        {
         "name": "fraud",
         "rawType": "object",
         "type": "string"
        }
       ],
       "conversionMethod": "pd.DataFrame",
       "ref": "24697832-3223-4c20-8933-834f0443dd16",
       "rows": [
        [
         "0",
         "1003715054175576",
         "2015-09-11 00:32:40",
         "-80.1741323292432",
         "40.2673703430082",
         "15342",
         "pa",
         "houston",
         "2015-09-11",
         "2015",
         "2015Q3",
         "september",
         "fall",
         "weekday",
         "friday",
         "00:32:40",
         "20000",
         "medium",
         "43.78",
         "1.0",
         "2015-09-11 00:32:40",
         "0.0",
         "0.0",
         "0.0",
         "9177.582846642004",
         "anomaly",
         "0.0",
         "fraud"
        ],
        [
         "14",
         "1003715054175576",
         "2015-09-18 21:44:21",
         "69.4752159457624",
         "25.1257488771669",
         "15342",
         "pa",
         "houston",
         "2015-09-18",
         "2015",
         "2015Q3",
         "september",
         "fall",
         "weekday",
         "friday",
         "21:44:21",
         "20000",
         "medium",
         "146.75",
         "1.0",
         "2015-09-25 20:08:29",
         "166.4",
         "-80.2796786177186",
         "40.2956353647287",
         "12116.951132329425",
         "anomaly",
         "72.82",
         "fraud"
        ],
        [
         "15",
         "1003715054175576",
         "2015-09-27 21:31:58",
         "-80.1459172863994",
         "40.2787207952039",
         "15342",
         "pa",
         "houston",
         "2015-09-27",
         "2015",
         "2015Q3",
         "september",
         "fall",
         "weekend",
         "sunday",
         "21:31:58",
         "20000",
         "medium",
         "111.84",
         "1.0",
         "2015-09-18 21:44:21",
         "215.79",
         "69.4752159457624",
         "25.1257488771669",
         "12113.120145492445",
         "anomaly",
         "56.13",
         "fraud"
        ],
        [
         "84",
         "1003715054175576",
         "2015-09-11 19:50:02",
         "-80.1267604152732",
         "40.2256262602394",
         "15342",
         "pa",
         "houston",
         "2015-09-11",
         "2015",
         "2015Q3",
         "september",
         "fall",
         "weekday",
         "friday",
         "19:50:02",
         "20000",
         "medium",
         "995.35",
         "1.0",
         "2015-09-28 19:52:53",
         "408.05",
         "-80.1444352819228",
         "40.2797072577693",
         "6.190541149358658",
         "normal",
         "0.02",
         "fraud"
        ],
        [
         "114",
         "1003715054175576",
         "2015-09-05 20:12:57",
         "-80.2313004408319",
         "40.2442092376876",
         "15342",
         "pa",
         "houston",
         "2015-09-05",
         "2015",
         "2015Q3",
         "september",
         "fall",
         "weekend",
         "saturday",
         "20:12:57",
         "20000",
         "medium",
         "200.34",
         "1.0",
         "2015-09-08 16:43:42",
         "68.51",
         "34.4292750818899",
         "24.6598742747252",
         "10153.008882398432",
         "anomaly",
         "148.2",
         "fraud"
        ]
       ],
       "shape": {
        "columns": 27,
        "rows": 5
       }
      },
      "text/html": [
       "<div>\n",
       "<style scoped>\n",
       "    .dataframe tbody tr th:only-of-type {\n",
       "        vertical-align: middle;\n",
       "    }\n",
       "\n",
       "    .dataframe tbody tr th {\n",
       "        vertical-align: top;\n",
       "    }\n",
       "\n",
       "    .dataframe thead th {\n",
       "        text-align: right;\n",
       "    }\n",
       "</style>\n",
       "<table border=\"1\" class=\"dataframe\">\n",
       "  <thead>\n",
       "    <tr style=\"text-align: right;\">\n",
       "      <th></th>\n",
       "      <th>credit_card</th>\n",
       "      <th>datetime</th>\n",
       "      <th>long</th>\n",
       "      <th>lat</th>\n",
       "      <th>zipcode</th>\n",
       "      <th>state</th>\n",
       "      <th>city</th>\n",
       "      <th>date</th>\n",
       "      <th>year</th>\n",
       "      <th>quarter</th>\n",
       "      <th>month</th>\n",
       "      <th>season</th>\n",
       "      <th>week_cat</th>\n",
       "      <th>day</th>\n",
       "      <th>time</th>\n",
       "      <th>credit_card_limit</th>\n",
       "      <th>limit_cat</th>\n",
       "      <th>transaction_dollar_amount</th>\n",
       "      <th>transaction_count</th>\n",
       "      <th>prev_time</th>\n",
       "      <th>time_diff_hour</th>\n",
       "      <th>prev_long</th>\n",
       "      <th>prev_lat</th>\n",
       "      <th>distance_km</th>\n",
       "      <th>geo_cat</th>\n",
       "      <th>speed_km/h</th>\n",
       "      <th>fraud</th>\n",
       "    </tr>\n",
       "  </thead>\n",
       "  <tbody>\n",
       "    <tr>\n",
       "      <th>0</th>\n",
       "      <td>1003715054175576</td>\n",
       "      <td>2015-09-11 00:32:40</td>\n",
       "      <td>-80.174132</td>\n",
       "      <td>40.267370</td>\n",
       "      <td>15342</td>\n",
       "      <td>pa</td>\n",
       "      <td>houston</td>\n",
       "      <td>2015-09-11</td>\n",
       "      <td>2015</td>\n",
       "      <td>2015Q3</td>\n",
       "      <td>september</td>\n",
       "      <td>fall</td>\n",
       "      <td>weekday</td>\n",
       "      <td>friday</td>\n",
       "      <td>00:32:40</td>\n",
       "      <td>20000</td>\n",
       "      <td>medium</td>\n",
       "      <td>43.78</td>\n",
       "      <td>1.0</td>\n",
       "      <td>2015-09-11 00:32:40</td>\n",
       "      <td>0.00</td>\n",
       "      <td>0.000000</td>\n",
       "      <td>0.000000</td>\n",
       "      <td>9177.582847</td>\n",
       "      <td>anomaly</td>\n",
       "      <td>0.00</td>\n",
       "      <td>fraud</td>\n",
       "    </tr>\n",
       "    <tr>\n",
       "      <th>14</th>\n",
       "      <td>1003715054175576</td>\n",
       "      <td>2015-09-18 21:44:21</td>\n",
       "      <td>69.475216</td>\n",
       "      <td>25.125749</td>\n",
       "      <td>15342</td>\n",
       "      <td>pa</td>\n",
       "      <td>houston</td>\n",
       "      <td>2015-09-18</td>\n",
       "      <td>2015</td>\n",
       "      <td>2015Q3</td>\n",
       "      <td>september</td>\n",
       "      <td>fall</td>\n",
       "      <td>weekday</td>\n",
       "      <td>friday</td>\n",
       "      <td>21:44:21</td>\n",
       "      <td>20000</td>\n",
       "      <td>medium</td>\n",
       "      <td>146.75</td>\n",
       "      <td>1.0</td>\n",
       "      <td>2015-09-25 20:08:29</td>\n",
       "      <td>166.40</td>\n",
       "      <td>-80.279679</td>\n",
       "      <td>40.295635</td>\n",
       "      <td>12116.951132</td>\n",
       "      <td>anomaly</td>\n",
       "      <td>72.82</td>\n",
       "      <td>fraud</td>\n",
       "    </tr>\n",
       "    <tr>\n",
       "      <th>15</th>\n",
       "      <td>1003715054175576</td>\n",
       "      <td>2015-09-27 21:31:58</td>\n",
       "      <td>-80.145917</td>\n",
       "      <td>40.278721</td>\n",
       "      <td>15342</td>\n",
       "      <td>pa</td>\n",
       "      <td>houston</td>\n",
       "      <td>2015-09-27</td>\n",
       "      <td>2015</td>\n",
       "      <td>2015Q3</td>\n",
       "      <td>september</td>\n",
       "      <td>fall</td>\n",
       "      <td>weekend</td>\n",
       "      <td>sunday</td>\n",
       "      <td>21:31:58</td>\n",
       "      <td>20000</td>\n",
       "      <td>medium</td>\n",
       "      <td>111.84</td>\n",
       "      <td>1.0</td>\n",
       "      <td>2015-09-18 21:44:21</td>\n",
       "      <td>215.79</td>\n",
       "      <td>69.475216</td>\n",
       "      <td>25.125749</td>\n",
       "      <td>12113.120145</td>\n",
       "      <td>anomaly</td>\n",
       "      <td>56.13</td>\n",
       "      <td>fraud</td>\n",
       "    </tr>\n",
       "    <tr>\n",
       "      <th>84</th>\n",
       "      <td>1003715054175576</td>\n",
       "      <td>2015-09-11 19:50:02</td>\n",
       "      <td>-80.126760</td>\n",
       "      <td>40.225626</td>\n",
       "      <td>15342</td>\n",
       "      <td>pa</td>\n",
       "      <td>houston</td>\n",
       "      <td>2015-09-11</td>\n",
       "      <td>2015</td>\n",
       "      <td>2015Q3</td>\n",
       "      <td>september</td>\n",
       "      <td>fall</td>\n",
       "      <td>weekday</td>\n",
       "      <td>friday</td>\n",
       "      <td>19:50:02</td>\n",
       "      <td>20000</td>\n",
       "      <td>medium</td>\n",
       "      <td>995.35</td>\n",
       "      <td>1.0</td>\n",
       "      <td>2015-09-28 19:52:53</td>\n",
       "      <td>408.05</td>\n",
       "      <td>-80.144435</td>\n",
       "      <td>40.279707</td>\n",
       "      <td>6.190541</td>\n",
       "      <td>normal</td>\n",
       "      <td>0.02</td>\n",
       "      <td>fraud</td>\n",
       "    </tr>\n",
       "    <tr>\n",
       "      <th>114</th>\n",
       "      <td>1003715054175576</td>\n",
       "      <td>2015-09-05 20:12:57</td>\n",
       "      <td>-80.231300</td>\n",
       "      <td>40.244209</td>\n",
       "      <td>15342</td>\n",
       "      <td>pa</td>\n",
       "      <td>houston</td>\n",
       "      <td>2015-09-05</td>\n",
       "      <td>2015</td>\n",
       "      <td>2015Q3</td>\n",
       "      <td>september</td>\n",
       "      <td>fall</td>\n",
       "      <td>weekend</td>\n",
       "      <td>saturday</td>\n",
       "      <td>20:12:57</td>\n",
       "      <td>20000</td>\n",
       "      <td>medium</td>\n",
       "      <td>200.34</td>\n",
       "      <td>1.0</td>\n",
       "      <td>2015-09-08 16:43:42</td>\n",
       "      <td>68.51</td>\n",
       "      <td>34.429275</td>\n",
       "      <td>24.659874</td>\n",
       "      <td>10153.008882</td>\n",
       "      <td>anomaly</td>\n",
       "      <td>148.20</td>\n",
       "      <td>fraud</td>\n",
       "    </tr>\n",
       "  </tbody>\n",
       "</table>\n",
       "</div>"
      ],
      "text/plain": [
       "          credit_card            datetime       long        lat  zipcode  \\\n",
       "0    1003715054175576 2015-09-11 00:32:40 -80.174132  40.267370    15342   \n",
       "14   1003715054175576 2015-09-18 21:44:21  69.475216  25.125749    15342   \n",
       "15   1003715054175576 2015-09-27 21:31:58 -80.145917  40.278721    15342   \n",
       "84   1003715054175576 2015-09-11 19:50:02 -80.126760  40.225626    15342   \n",
       "114  1003715054175576 2015-09-05 20:12:57 -80.231300  40.244209    15342   \n",
       "\n",
       "    state     city        date  year quarter      month season week_cat  \\\n",
       "0      pa  houston  2015-09-11  2015  2015Q3  september   fall  weekday   \n",
       "14     pa  houston  2015-09-18  2015  2015Q3  september   fall  weekday   \n",
       "15     pa  houston  2015-09-27  2015  2015Q3  september   fall  weekend   \n",
       "84     pa  houston  2015-09-11  2015  2015Q3  september   fall  weekday   \n",
       "114    pa  houston  2015-09-05  2015  2015Q3  september   fall  weekend   \n",
       "\n",
       "          day      time  credit_card_limit limit_cat  \\\n",
       "0      friday  00:32:40              20000    medium   \n",
       "14     friday  21:44:21              20000    medium   \n",
       "15     sunday  21:31:58              20000    medium   \n",
       "84     friday  19:50:02              20000    medium   \n",
       "114  saturday  20:12:57              20000    medium   \n",
       "\n",
       "     transaction_dollar_amount  transaction_count           prev_time  \\\n",
       "0                        43.78                1.0 2015-09-11 00:32:40   \n",
       "14                      146.75                1.0 2015-09-25 20:08:29   \n",
       "15                      111.84                1.0 2015-09-18 21:44:21   \n",
       "84                      995.35                1.0 2015-09-28 19:52:53   \n",
       "114                     200.34                1.0 2015-09-08 16:43:42   \n",
       "\n",
       "     time_diff_hour  prev_long   prev_lat   distance_km  geo_cat  speed_km/h  \\\n",
       "0              0.00   0.000000   0.000000   9177.582847  anomaly        0.00   \n",
       "14           166.40 -80.279679  40.295635  12116.951132  anomaly       72.82   \n",
       "15           215.79  69.475216  25.125749  12113.120145  anomaly       56.13   \n",
       "84           408.05 -80.144435  40.279707      6.190541   normal        0.02   \n",
       "114           68.51  34.429275  24.659874  10153.008882  anomaly      148.20   \n",
       "\n",
       "     fraud  \n",
       "0    fraud  \n",
       "14   fraud  \n",
       "15   fraud  \n",
       "84   fraud  \n",
       "114  fraud  "
      ]
     },
     "execution_count": 42,
     "metadata": {},
     "output_type": "execute_result"
    }
   ],
   "source": [
    "# check fraud data\n",
    "fraud_df = cc_df.loc[cc_df['fraud'] == 'fraud']\n",
    "fraud_df.head()"
   ]
  },
  {
   "cell_type": "code",
   "execution_count": 43,
   "metadata": {},
   "outputs": [
    {
     "name": "stdout",
     "output_type": "stream",
     "text": [
      "fraud\n",
      "not_fraud    95.978791\n",
      "fraud         4.021209\n",
      "Name: proportion, dtype: float64 \n",
      "\n",
      "fraud\n",
      "not_fraud    282742\n",
      "fraud         11846\n",
      "Name: count, dtype: int64\n"
     ]
    }
   ],
   "source": [
    "print(cc_df['fraud'].value_counts(normalize = True) * 100, '\\n')\n",
    "print(cc_df['fraud'].value_counts())"
   ]
  },
  {
   "cell_type": "markdown",
   "metadata": {},
   "source": [
    "# Write Data"
   ]
  },
  {
   "cell_type": "code",
   "execution_count": 44,
   "metadata": {},
   "outputs": [
    {
     "data": {
      "text/plain": [
       "Index(['credit_card', 'datetime', 'long', 'lat', 'zipcode', 'state', 'city',\n",
       "       'date', 'year', 'quarter', 'month', 'season', 'week_cat', 'day', 'time',\n",
       "       'credit_card_limit', 'limit_cat', 'transaction_dollar_amount',\n",
       "       'transaction_count', 'prev_time', 'time_diff_hour', 'prev_long',\n",
       "       'prev_lat', 'distance_km', 'geo_cat', 'speed_km/h', 'fraud'],\n",
       "      dtype='object')"
      ]
     },
     "execution_count": 44,
     "metadata": {},
     "output_type": "execute_result"
    }
   ],
   "source": [
    "cc_df.columns"
   ]
  },
  {
   "cell_type": "code",
   "execution_count": 45,
   "metadata": {},
   "outputs": [
    {
     "data": {
      "text/plain": [
       "Index(['credit_card', 'datetime', 'long', 'lat', 'zipcode', 'state', 'city',\n",
       "       'date', 'year', 'quarter', 'month', 'season', 'week_cat', 'day', 'time',\n",
       "       'limit_cat', 'transaction_dollar_amount', 'prev_time', 'time_diff_hour',\n",
       "       'prev_long', 'prev_lat', 'distance_km', 'geo_cat', 'speed_km/h',\n",
       "       'fraud'],\n",
       "      dtype='object')"
      ]
     },
     "execution_count": 45,
     "metadata": {},
     "output_type": "execute_result"
    }
   ],
   "source": [
    "# drop unnecessary column\n",
    "cc_df = cc_df.drop(columns = ['credit_card_limit', 'transaction_count'])\n",
    "cc_df.columns"
   ]
  },
  {
   "cell_type": "markdown",
   "metadata": {},
   "source": [
    "## Pickle Data"
   ]
  },
  {
   "cell_type": "code",
   "execution_count": 46,
   "metadata": {},
   "outputs": [
    {
     "name": "stdout",
     "output_type": "stream",
     "text": [
      "Directory has already been created.\n"
     ]
    }
   ],
   "source": [
    "# Tentukan folder tujuan\n",
    "dir_name = 'datamart'\n",
    "folder_path = f\"../{dir_name}\"\n",
    "\n",
    "# Cek apakah folder sudah ada, jika belum buat foldernya\n",
    "if not os.path.exists(folder_path):\n",
    "    os.makedirs(folder_path)\n",
    "    \n",
    "    print(f\"Directory '{dir_name}' created successfully.\")\n",
    "\n",
    "else: \n",
    "    print(f'Directory has already been created.')"
   ]
  },
  {
   "cell_type": "code",
   "execution_count": 47,
   "metadata": {},
   "outputs": [
    {
     "name": "stdout",
     "output_type": "stream",
     "text": [
      "Total size of DataFrame: 242.97 MB\n"
     ]
    }
   ],
   "source": [
    "# calculate dataframe size\n",
    "total_size_bytes = sys.getsizeof(cc_df)\n",
    "\n",
    "# Converse bytes to MB\n",
    "total_size_mb = total_size_bytes / 1048576\n",
    "print(f\"Total size of DataFrame: {total_size_mb:.2f} MB\")"
   ]
  },
  {
   "cell_type": "code",
   "execution_count": 48,
   "metadata": {},
   "outputs": [
    {
     "name": "stdout",
     "output_type": "stream",
     "text": [
      "Data has been saved\n"
     ]
    }
   ],
   "source": [
    "# parameter\n",
    "share = {**dotenv_values('../.env.shared')} \n",
    "\n",
    "# save to pickle\n",
    "with open(share['PREPARATION_DATA'], 'wb') as f:\n",
    "    pickle.dump(cc_df, f)\n",
    "\n",
    "print('Data has been saved')"
   ]
  }
 ],
 "metadata": {
  "kernelspec": {
   "display_name": "base",
   "language": "python",
   "name": "python3"
  },
  "language_info": {
   "codemirror_mode": {
    "name": "ipython",
    "version": 3
   },
   "file_extension": ".py",
   "mimetype": "text/x-python",
   "name": "python",
   "nbconvert_exporter": "python",
   "pygments_lexer": "ipython3",
   "version": "3.12.3"
  }
 },
 "nbformat": 4,
 "nbformat_minor": 2
}
