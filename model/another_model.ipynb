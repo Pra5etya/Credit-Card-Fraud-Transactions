{
 "cells": [
  {
   "cell_type": "markdown",
   "metadata": {},
   "source": [
    "# Library / Packages"
   ]
  },
  {
   "cell_type": "code",
   "execution_count": 1,
   "metadata": {},
   "outputs": [],
   "source": [
    "# basic library\n",
    "import os\n",
    "import pandas as pd\n",
    "import numpy as np\n",
    "import sys\n",
    "\n",
    "\n",
    "# complex math\n",
    "from scipy import stats\n",
    "from scipy.stats import gaussian_kde\n",
    "\n",
    "# data preparation\n",
    "from sklearn.preprocessing import OrdinalEncoder, OneHotEncoder, LabelEncoder, FunctionTransformer\n",
    "from sklearn.preprocessing import StandardScaler, RobustScaler\n",
    "from sklearn.compose import ColumnTransformer \n",
    "\n",
    "# data blueprint\n",
    "from imblearn.pipeline import Pipeline\n",
    "from imblearn.over_sampling import SMOTE\n",
    "from imblearn.under_sampling import TomekLinks, RandomUnderSampler, NearMiss\n",
    "from imblearn.combine import SMOTETomek\n",
    "from sklearn.neighbors import NearestNeighbors\n",
    "\n",
    "# data modeling\n",
    "from sklearn.linear_model import LogisticRegression\n",
    "from sklearn.ensemble import RandomForestClassifier\n",
    "from xgboost import XGBClassifier\n",
    "from lightgbm import LGBMClassifier\n",
    "from catboost import CatBoostClassifier\n",
    "from sklearn.ensemble import VotingClassifier\n",
    "\n",
    "# data cross-validation\n",
    "from sklearn.model_selection import cross_val_score, StratifiedKFold\n",
    "\n",
    "# data metrics\n",
    "from sklearn.metrics import classification_report, roc_auc_score, precision_recall_curve, roc_curve, auc, confusion_matrix\n",
    "\n",
    "# data tuning   \n",
    "from itertools import product\n",
    "from sklearn.experimental import enable_halving_search_cv\n",
    "from sklearn.model_selection import HalvingRandomSearchCV\n",
    "from sklearn.calibration import CalibratedClassifierCV\n",
    "\n",
    "# visualization\n",
    "import matplotlib.pyplot as plt\n",
    "import matplotlib.ticker as ticker\n",
    "import seaborn as sns\n",
    "\n",
    "# pickle and .env\n",
    "from dotenv import dotenv_values\n",
    "import pickle"
   ]
  },
  {
   "cell_type": "markdown",
   "metadata": {},
   "source": [
    "# Format"
   ]
  },
  {
   "cell_type": "code",
   "execution_count": 2,
   "metadata": {},
   "outputs": [],
   "source": [
    "def lab_round(x, pos): \n",
    "    if abs(x) >= 1e9: \n",
    "        return f'{x/1e9} B'\n",
    "    \n",
    "    elif abs(x) >= 1e6:\n",
    "        return f'{x/1e6} M'\n",
    "    \n",
    "    elif abs(x) >= 1e3:\n",
    "        return f'{x/1e3} K'\n",
    "    \n",
    "    else:\n",
    "        return f'{x}'\n",
    "    \n",
    "def val_round(x):\n",
    "    if abs(x) >= 1e9:\n",
    "        return f'{x/1e9:.2f} B'\n",
    "    \n",
    "    elif abs(x) >= 1e6:\n",
    "        return f'{x/1e6:.2f} M'\n",
    "    \n",
    "    elif abs(x) >= 1e3:\n",
    "        return f'{x/1e3:.2f} K'\n",
    "    \n",
    "    else:\n",
    "        return f'{x:.2f}'"
   ]
  },
  {
   "cell_type": "code",
   "execution_count": 3,
   "metadata": {},
   "outputs": [],
   "source": [
    "pd.set_option('display.max_columns', None)"
   ]
  },
  {
   "cell_type": "code",
   "execution_count": 4,
   "metadata": {},
   "outputs": [],
   "source": [
    "# Fungsi untuk konversi tipe data\n",
    "def convert_object_columns_to_numeric(df):\n",
    "    for col in df.select_dtypes(include = ['object']).columns:  \n",
    "        try:\n",
    "            # Cek apakah semua nilai bisa dikonversi ke float\n",
    "            df[col] = pd.to_numeric(df[col], errors='raise')\n",
    "            \n",
    "            # Jika bisa, ubah ke int jika semua nilai adalah bilangan bulat\n",
    "            if all(df[col] % 1 == 0):  # Cek apakah semua nilai adalah bilangan bulat\n",
    "                df[col] = df[col].astype(int)\n",
    "\n",
    "        except ValueError:\n",
    "            pass  # Jika ada nilai non-angka, biarkan tetap object\n",
    "        \n",
    "    return df"
   ]
  },
  {
   "cell_type": "markdown",
   "metadata": {},
   "source": [
    "# Data Source"
   ]
  },
  {
   "cell_type": "code",
   "execution_count": 5,
   "metadata": {},
   "outputs": [
    {
     "name": "stdout",
     "output_type": "stream",
     "text": [
      "<class 'pandas.core.frame.DataFrame'>\n",
      "RangeIndex: 294588 entries, 0 to 294587\n",
      "Data columns (total 27 columns):\n",
      " #   Column                     Non-Null Count   Dtype         \n",
      "---  ------                     --------------   -----         \n",
      " 0   credit_card                294588 non-null  int64         \n",
      " 1   datetime                   294588 non-null  datetime64[ns]\n",
      " 2   long                       294588 non-null  float64       \n",
      " 3   lat                        294588 non-null  float64       \n",
      " 4   zipcode                    294588 non-null  int64         \n",
      " 5   state                      294588 non-null  object        \n",
      " 6   city                       294588 non-null  object        \n",
      " 7   date                       294588 non-null  object        \n",
      " 8   year                       294588 non-null  int32         \n",
      " 9   quarter                    294588 non-null  object        \n",
      " 10  month                      294588 non-null  object        \n",
      " 11  season                     294588 non-null  object        \n",
      " 12  week_cat                   294588 non-null  object        \n",
      " 13  day                        294588 non-null  object        \n",
      " 14  time                       294588 non-null  object        \n",
      " 15  limit_cat                  294588 non-null  object        \n",
      " 16  transaction_dollar_amount  294588 non-null  float64       \n",
      " 17  prev_time                  294588 non-null  datetime64[ns]\n",
      " 18  time_diff_hour             294588 non-null  float64       \n",
      " 19  prev_long                  294588 non-null  float64       \n",
      " 20  prev_lat                   294588 non-null  float64       \n",
      " 21  distance_km                294588 non-null  float64       \n",
      " 22  geo_cat                    294588 non-null  object        \n",
      " 23  speed_km/h                 294588 non-null  float64       \n",
      " 24  fraud                      294588 non-null  object        \n",
      " 25  cc_id                      294588 non-null  object        \n",
      " 26  trx_id                     294588 non-null  object        \n",
      "dtypes: datetime64[ns](2), float64(8), int32(1), int64(2), object(14)\n",
      "memory usage: 59.6+ MB\n"
     ]
    }
   ],
   "source": [
    "# parameter\n",
    "share = {**dotenv_values('../.env.shared')} \n",
    "\n",
    "# read pickle\n",
    "with open(share['CLEAN_DATA'], 'rb') as f:\n",
    "    loaded_data = pickle.load(f)\n",
    "\n",
    "cc_df = pd.DataFrame(loaded_data)\n",
    "cc_df.info()"
   ]
  },
  {
   "cell_type": "code",
   "execution_count": 6,
   "metadata": {},
   "outputs": [
    {
     "data": {
      "application/vnd.microsoft.datawrangler.viewer.v0+json": {
       "columns": [
        {
         "name": "index",
         "rawType": "int64",
         "type": "integer"
        },
        {
         "name": "credit_card",
         "rawType": "int64",
         "type": "integer"
        },
        {
         "name": "datetime",
         "rawType": "datetime64[ns]",
         "type": "datetime"
        },
        {
         "name": "long",
         "rawType": "float64",
         "type": "float"
        },
        {
         "name": "lat",
         "rawType": "float64",
         "type": "float"
        },
        {
         "name": "zipcode",
         "rawType": "int64",
         "type": "integer"
        },
        {
         "name": "state",
         "rawType": "object",
         "type": "string"
        },
        {
         "name": "city",
         "rawType": "object",
         "type": "string"
        },
        {
         "name": "date",
         "rawType": "object",
         "type": "string"
        },
        {
         "name": "year",
         "rawType": "int32",
         "type": "integer"
        },
        {
         "name": "quarter",
         "rawType": "object",
         "type": "string"
        },
        {
         "name": "month",
         "rawType": "object",
         "type": "string"
        },
        {
         "name": "season",
         "rawType": "object",
         "type": "string"
        },
        {
         "name": "week_cat",
         "rawType": "object",
         "type": "string"
        },
        {
         "name": "day",
         "rawType": "object",
         "type": "string"
        },
        {
         "name": "time",
         "rawType": "object",
         "type": "string"
        },
        {
         "name": "limit_cat",
         "rawType": "object",
         "type": "string"
        },
        {
         "name": "transaction_dollar_amount",
         "rawType": "float64",
         "type": "float"
        },
        {
         "name": "prev_time",
         "rawType": "datetime64[ns]",
         "type": "datetime"
        },
        {
         "name": "time_diff_hour",
         "rawType": "float64",
         "type": "float"
        },
        {
         "name": "prev_long",
         "rawType": "float64",
         "type": "float"
        },
        {
         "name": "prev_lat",
         "rawType": "float64",
         "type": "float"
        },
        {
         "name": "distance_km",
         "rawType": "float64",
         "type": "float"
        },
        {
         "name": "geo_cat",
         "rawType": "object",
         "type": "string"
        },
        {
         "name": "speed_km/h",
         "rawType": "float64",
         "type": "float"
        },
        {
         "name": "fraud",
         "rawType": "object",
         "type": "string"
        },
        {
         "name": "cc_id",
         "rawType": "object",
         "type": "string"
        },
        {
         "name": "trx_id",
         "rawType": "object",
         "type": "string"
        }
       ],
       "conversionMethod": "pd.DataFrame",
       "ref": "d6495e38-9d10-4d18-a526-534fb7870a0c",
       "rows": [
        [
         "0",
         "9484591448272784",
         "2015-07-31 09:39:48",
         "-90.0456390041606",
         "29.8890387448395",
         "70112",
         "la",
         "new orleans",
         "2015-07-31",
         "2015",
         "2015Q3",
         "july",
         "summer",
         "weekday",
         "friday",
         "09:39:48",
         "very_low",
         "17.99",
         "2015-10-27 20:34:03",
         "2122.9",
         "-90.1515044715485",
         "29.9452019714035",
         "11.969568192523129",
         "normal",
         "0.01",
         "not_fraud",
         "fa5cc43fa04e2dfdfd63c16638d485b95c679d6ad56e63866c430328a9ed1a7b",
         "7c7b74141d438a10410c6af617c405f596b23d6691c0ca201a37d4dd84e56753"
        ],
        [
         "1",
         "7053196367895112",
         "2015-07-31 11:03:48",
         "-74.0275614326073",
         "40.6896150543123",
         "10001",
         "ny",
         "new york",
         "2015-07-31",
         "2015",
         "2015Q3",
         "july",
         "summer",
         "weekday",
         "friday",
         "11:03:48",
         "low",
         "12.09",
         "2015-08-29 17:05:27",
         "702.03",
         "-73.9270292384803",
         "40.8065107929275",
         "15.511210253249892",
         "normal",
         "0.02",
         "not_fraud",
         "d578d6057e09202141d896fdf5225e21b2e9667f811425dc19cbc3cf55602fa7",
         "bbbdacccde18af756cea741863cdc2315eeb5da20e4d038e857bc169e5405067"
        ],
        [
         "2",
         "9528285469413252",
         "2015-07-31 11:10:14",
         "-72.1394845669351",
         "43.1081002008752",
         "3280",
         "nh",
         "washington",
         "2015-07-31",
         "2015",
         "2015Q3",
         "july",
         "summer",
         "weekday",
         "friday",
         "11:10:14",
         "very_high",
         "78.21",
         "2015-10-14 19:06:04",
         "1807.93",
         "-72.064112755835",
         "43.1722807441918",
         "9.404225777907621",
         "normal",
         "0.01",
         "not_fraud",
         "c7609a7d7ae21b8f05b5939c23fd70443565a030a4f3e7fa406ae193f853a56d",
         "2bc2b25359ae1ffe5ef9e8b539a816536971f88f6bf76e40bfbbf5312b0593dd"
        ],
        [
         "3",
         "1845720274833905",
         "2015-07-31 11:28:55",
         "-89.0021481284464",
         "40.8043234778234",
         "61738",
         "il",
         "el paso",
         "2015-07-31",
         "2015",
         "2015Q3",
         "july",
         "summer",
         "weekday",
         "friday",
         "11:28:55",
         "medium",
         "74.41",
         "2015-08-29 19:33:54",
         "704.08",
         "-88.974491675175",
         "40.720876673461",
         "9.556418502988254",
         "normal",
         "0.01",
         "not_fraud",
         "08dd431e05754307851c422032d9ce2dedd05ea72dd3a42b30bfe474f9f59c46",
         "b19ee38c1def42021e0624b7c0ede907bb41175e4ac34e2fa006f4d8f7dadfdc"
        ],
        [
         "4",
         "7850942767136368",
         "2015-07-31 11:38:51",
         "-72.0256746243903",
         "43.2107528971734",
         "3280",
         "nh",
         "washington",
         "2015-07-31",
         "2015",
         "2015Q3",
         "july",
         "summer",
         "weekday",
         "friday",
         "11:38:51",
         "very_low",
         "54.89",
         "2015-08-21 03:39:50",
         "496.02",
         "-72.1253922707213",
         "43.2192233835488",
         "8.157130205866816",
         "normal",
         "0.02",
         "not_fraud",
         "0e208305f2f8ec7b8660e2dc8a25761481b399e1d8c2545fd350b26fa259b270",
         "6da26f20cbea17f6e4af469994b21641aac2784a5e53ccc77a8e6419661b7585"
        ]
       ],
       "shape": {
        "columns": 27,
        "rows": 5
       }
      },
      "text/html": [
       "<div>\n",
       "<style scoped>\n",
       "    .dataframe tbody tr th:only-of-type {\n",
       "        vertical-align: middle;\n",
       "    }\n",
       "\n",
       "    .dataframe tbody tr th {\n",
       "        vertical-align: top;\n",
       "    }\n",
       "\n",
       "    .dataframe thead th {\n",
       "        text-align: right;\n",
       "    }\n",
       "</style>\n",
       "<table border=\"1\" class=\"dataframe\">\n",
       "  <thead>\n",
       "    <tr style=\"text-align: right;\">\n",
       "      <th></th>\n",
       "      <th>credit_card</th>\n",
       "      <th>datetime</th>\n",
       "      <th>long</th>\n",
       "      <th>lat</th>\n",
       "      <th>zipcode</th>\n",
       "      <th>state</th>\n",
       "      <th>city</th>\n",
       "      <th>date</th>\n",
       "      <th>year</th>\n",
       "      <th>quarter</th>\n",
       "      <th>month</th>\n",
       "      <th>season</th>\n",
       "      <th>week_cat</th>\n",
       "      <th>day</th>\n",
       "      <th>time</th>\n",
       "      <th>limit_cat</th>\n",
       "      <th>transaction_dollar_amount</th>\n",
       "      <th>prev_time</th>\n",
       "      <th>time_diff_hour</th>\n",
       "      <th>prev_long</th>\n",
       "      <th>prev_lat</th>\n",
       "      <th>distance_km</th>\n",
       "      <th>geo_cat</th>\n",
       "      <th>speed_km/h</th>\n",
       "      <th>fraud</th>\n",
       "      <th>cc_id</th>\n",
       "      <th>trx_id</th>\n",
       "    </tr>\n",
       "  </thead>\n",
       "  <tbody>\n",
       "    <tr>\n",
       "      <th>0</th>\n",
       "      <td>9484591448272784</td>\n",
       "      <td>2015-07-31 09:39:48</td>\n",
       "      <td>-90.045639</td>\n",
       "      <td>29.889039</td>\n",
       "      <td>70112</td>\n",
       "      <td>la</td>\n",
       "      <td>new orleans</td>\n",
       "      <td>2015-07-31</td>\n",
       "      <td>2015</td>\n",
       "      <td>2015Q3</td>\n",
       "      <td>july</td>\n",
       "      <td>summer</td>\n",
       "      <td>weekday</td>\n",
       "      <td>friday</td>\n",
       "      <td>09:39:48</td>\n",
       "      <td>very_low</td>\n",
       "      <td>17.99</td>\n",
       "      <td>2015-10-27 20:34:03</td>\n",
       "      <td>2122.90</td>\n",
       "      <td>-90.151504</td>\n",
       "      <td>29.945202</td>\n",
       "      <td>11.969568</td>\n",
       "      <td>normal</td>\n",
       "      <td>0.01</td>\n",
       "      <td>not_fraud</td>\n",
       "      <td>fa5cc43fa04e2dfdfd63c16638d485b95c679d6ad56e63...</td>\n",
       "      <td>7c7b74141d438a10410c6af617c405f596b23d6691c0ca...</td>\n",
       "    </tr>\n",
       "    <tr>\n",
       "      <th>1</th>\n",
       "      <td>7053196367895112</td>\n",
       "      <td>2015-07-31 11:03:48</td>\n",
       "      <td>-74.027561</td>\n",
       "      <td>40.689615</td>\n",
       "      <td>10001</td>\n",
       "      <td>ny</td>\n",
       "      <td>new york</td>\n",
       "      <td>2015-07-31</td>\n",
       "      <td>2015</td>\n",
       "      <td>2015Q3</td>\n",
       "      <td>july</td>\n",
       "      <td>summer</td>\n",
       "      <td>weekday</td>\n",
       "      <td>friday</td>\n",
       "      <td>11:03:48</td>\n",
       "      <td>low</td>\n",
       "      <td>12.09</td>\n",
       "      <td>2015-08-29 17:05:27</td>\n",
       "      <td>702.03</td>\n",
       "      <td>-73.927029</td>\n",
       "      <td>40.806511</td>\n",
       "      <td>15.511210</td>\n",
       "      <td>normal</td>\n",
       "      <td>0.02</td>\n",
       "      <td>not_fraud</td>\n",
       "      <td>d578d6057e09202141d896fdf5225e21b2e9667f811425...</td>\n",
       "      <td>bbbdacccde18af756cea741863cdc2315eeb5da20e4d03...</td>\n",
       "    </tr>\n",
       "    <tr>\n",
       "      <th>2</th>\n",
       "      <td>9528285469413252</td>\n",
       "      <td>2015-07-31 11:10:14</td>\n",
       "      <td>-72.139485</td>\n",
       "      <td>43.108100</td>\n",
       "      <td>3280</td>\n",
       "      <td>nh</td>\n",
       "      <td>washington</td>\n",
       "      <td>2015-07-31</td>\n",
       "      <td>2015</td>\n",
       "      <td>2015Q3</td>\n",
       "      <td>july</td>\n",
       "      <td>summer</td>\n",
       "      <td>weekday</td>\n",
       "      <td>friday</td>\n",
       "      <td>11:10:14</td>\n",
       "      <td>very_high</td>\n",
       "      <td>78.21</td>\n",
       "      <td>2015-10-14 19:06:04</td>\n",
       "      <td>1807.93</td>\n",
       "      <td>-72.064113</td>\n",
       "      <td>43.172281</td>\n",
       "      <td>9.404226</td>\n",
       "      <td>normal</td>\n",
       "      <td>0.01</td>\n",
       "      <td>not_fraud</td>\n",
       "      <td>c7609a7d7ae21b8f05b5939c23fd70443565a030a4f3e7...</td>\n",
       "      <td>2bc2b25359ae1ffe5ef9e8b539a816536971f88f6bf76e...</td>\n",
       "    </tr>\n",
       "    <tr>\n",
       "      <th>3</th>\n",
       "      <td>1845720274833905</td>\n",
       "      <td>2015-07-31 11:28:55</td>\n",
       "      <td>-89.002148</td>\n",
       "      <td>40.804323</td>\n",
       "      <td>61738</td>\n",
       "      <td>il</td>\n",
       "      <td>el paso</td>\n",
       "      <td>2015-07-31</td>\n",
       "      <td>2015</td>\n",
       "      <td>2015Q3</td>\n",
       "      <td>july</td>\n",
       "      <td>summer</td>\n",
       "      <td>weekday</td>\n",
       "      <td>friday</td>\n",
       "      <td>11:28:55</td>\n",
       "      <td>medium</td>\n",
       "      <td>74.41</td>\n",
       "      <td>2015-08-29 19:33:54</td>\n",
       "      <td>704.08</td>\n",
       "      <td>-88.974492</td>\n",
       "      <td>40.720877</td>\n",
       "      <td>9.556419</td>\n",
       "      <td>normal</td>\n",
       "      <td>0.01</td>\n",
       "      <td>not_fraud</td>\n",
       "      <td>08dd431e05754307851c422032d9ce2dedd05ea72dd3a4...</td>\n",
       "      <td>b19ee38c1def42021e0624b7c0ede907bb41175e4ac34e...</td>\n",
       "    </tr>\n",
       "    <tr>\n",
       "      <th>4</th>\n",
       "      <td>7850942767136368</td>\n",
       "      <td>2015-07-31 11:38:51</td>\n",
       "      <td>-72.025675</td>\n",
       "      <td>43.210753</td>\n",
       "      <td>3280</td>\n",
       "      <td>nh</td>\n",
       "      <td>washington</td>\n",
       "      <td>2015-07-31</td>\n",
       "      <td>2015</td>\n",
       "      <td>2015Q3</td>\n",
       "      <td>july</td>\n",
       "      <td>summer</td>\n",
       "      <td>weekday</td>\n",
       "      <td>friday</td>\n",
       "      <td>11:38:51</td>\n",
       "      <td>very_low</td>\n",
       "      <td>54.89</td>\n",
       "      <td>2015-08-21 03:39:50</td>\n",
       "      <td>496.02</td>\n",
       "      <td>-72.125392</td>\n",
       "      <td>43.219223</td>\n",
       "      <td>8.157130</td>\n",
       "      <td>normal</td>\n",
       "      <td>0.02</td>\n",
       "      <td>not_fraud</td>\n",
       "      <td>0e208305f2f8ec7b8660e2dc8a25761481b399e1d8c254...</td>\n",
       "      <td>6da26f20cbea17f6e4af469994b21641aac2784a5e53cc...</td>\n",
       "    </tr>\n",
       "  </tbody>\n",
       "</table>\n",
       "</div>"
      ],
      "text/plain": [
       "        credit_card            datetime       long        lat  zipcode state  \\\n",
       "0  9484591448272784 2015-07-31 09:39:48 -90.045639  29.889039    70112    la   \n",
       "1  7053196367895112 2015-07-31 11:03:48 -74.027561  40.689615    10001    ny   \n",
       "2  9528285469413252 2015-07-31 11:10:14 -72.139485  43.108100     3280    nh   \n",
       "3  1845720274833905 2015-07-31 11:28:55 -89.002148  40.804323    61738    il   \n",
       "4  7850942767136368 2015-07-31 11:38:51 -72.025675  43.210753     3280    nh   \n",
       "\n",
       "          city        date  year quarter month  season week_cat     day  \\\n",
       "0  new orleans  2015-07-31  2015  2015Q3  july  summer  weekday  friday   \n",
       "1     new york  2015-07-31  2015  2015Q3  july  summer  weekday  friday   \n",
       "2   washington  2015-07-31  2015  2015Q3  july  summer  weekday  friday   \n",
       "3      el paso  2015-07-31  2015  2015Q3  july  summer  weekday  friday   \n",
       "4   washington  2015-07-31  2015  2015Q3  july  summer  weekday  friday   \n",
       "\n",
       "       time  limit_cat  transaction_dollar_amount           prev_time  \\\n",
       "0  09:39:48   very_low                      17.99 2015-10-27 20:34:03   \n",
       "1  11:03:48        low                      12.09 2015-08-29 17:05:27   \n",
       "2  11:10:14  very_high                      78.21 2015-10-14 19:06:04   \n",
       "3  11:28:55     medium                      74.41 2015-08-29 19:33:54   \n",
       "4  11:38:51   very_low                      54.89 2015-08-21 03:39:50   \n",
       "\n",
       "   time_diff_hour  prev_long   prev_lat  distance_km geo_cat  speed_km/h  \\\n",
       "0         2122.90 -90.151504  29.945202    11.969568  normal        0.01   \n",
       "1          702.03 -73.927029  40.806511    15.511210  normal        0.02   \n",
       "2         1807.93 -72.064113  43.172281     9.404226  normal        0.01   \n",
       "3          704.08 -88.974492  40.720877     9.556419  normal        0.01   \n",
       "4          496.02 -72.125392  43.219223     8.157130  normal        0.02   \n",
       "\n",
       "       fraud                                              cc_id  \\\n",
       "0  not_fraud  fa5cc43fa04e2dfdfd63c16638d485b95c679d6ad56e63...   \n",
       "1  not_fraud  d578d6057e09202141d896fdf5225e21b2e9667f811425...   \n",
       "2  not_fraud  c7609a7d7ae21b8f05b5939c23fd70443565a030a4f3e7...   \n",
       "3  not_fraud  08dd431e05754307851c422032d9ce2dedd05ea72dd3a4...   \n",
       "4  not_fraud  0e208305f2f8ec7b8660e2dc8a25761481b399e1d8c254...   \n",
       "\n",
       "                                              trx_id  \n",
       "0  7c7b74141d438a10410c6af617c405f596b23d6691c0ca...  \n",
       "1  bbbdacccde18af756cea741863cdc2315eeb5da20e4d03...  \n",
       "2  2bc2b25359ae1ffe5ef9e8b539a816536971f88f6bf76e...  \n",
       "3  b19ee38c1def42021e0624b7c0ede907bb41175e4ac34e...  \n",
       "4  6da26f20cbea17f6e4af469994b21641aac2784a5e53cc...  "
      ]
     },
     "execution_count": 6,
     "metadata": {},
     "output_type": "execute_result"
    }
   ],
   "source": [
    "cc_df.head()"
   ]
  },
  {
   "cell_type": "markdown",
   "metadata": {},
   "source": [
    "## Check Imbalanced Data"
   ]
  },
  {
   "cell_type": "markdown",
   "metadata": {},
   "source": [
    "### Proportion"
   ]
  },
  {
   "cell_type": "code",
   "execution_count": 7,
   "metadata": {},
   "outputs": [
    {
     "name": "stdout",
     "output_type": "stream",
     "text": [
      "fraud\n",
      "not_fraud    282742\n",
      "fraud         11846\n",
      "Name: count, dtype: int64 \n",
      "\n",
      "fraud\n",
      "not_fraud    95.98\n",
      "fraud         4.02\n",
      "Name: proportion, dtype: float64\n"
     ]
    }
   ],
   "source": [
    "# Check proportion\n",
    "print(f'{cc_df[\"fraud\"].value_counts()} \\n')\n",
    "print(round(cc_df[\"fraud\"].value_counts(normalize = True) * 100, 2))"
   ]
  },
  {
   "cell_type": "markdown",
   "metadata": {},
   "source": [
    "### Imbalance Ratio"
   ]
  },
  {
   "cell_type": "code",
   "execution_count": 8,
   "metadata": {},
   "outputs": [
    {
     "name": "stdout",
     "output_type": "stream",
     "text": [
      "Imbalance Ratio (IR): 23.87\n"
     ]
    }
   ],
   "source": [
    "# \n",
    "minority_class = cc_df[\"fraud\"].value_counts().min()\n",
    "majority_class = cc_df[\"fraud\"].value_counts().max()\n",
    "\n",
    "# \n",
    "imbalance_ratio = majority_class / minority_class\n",
    "print(f\"Imbalance Ratio (IR): {imbalance_ratio:.2f}\")"
   ]
  },
  {
   "cell_type": "markdown",
   "metadata": {},
   "source": [
    "# Data Modeling"
   ]
  },
  {
   "cell_type": "markdown",
   "metadata": {},
   "source": [
    "### Check Irrelevant Data"
   ]
  },
  {
   "cell_type": "markdown",
   "metadata": {},
   "source": [
    "#### Threshold Methode "
   ]
  },
  {
   "cell_type": "code",
   "execution_count": 9,
   "metadata": {},
   "outputs": [
    {
     "name": "stdout",
     "output_type": "stream",
     "text": [
      "numeric columns: Index(['credit_card', 'long', 'lat', 'zipcode', 'year',\n",
      "       'transaction_dollar_amount', 'time_diff_hour', 'prev_long', 'prev_lat',\n",
      "       'distance_km', 'speed_km/h'],\n",
      "      dtype='object')\n",
      "\n",
      "Fitur yang dipertahankan: Index(['credit_card', 'long', 'lat', 'zipcode', 'transaction_dollar_amount',\n",
      "       'time_diff_hour', 'prev_long', 'prev_lat', 'distance_km', 'speed_km/h'],\n",
      "      dtype='object')\n"
     ]
    }
   ],
   "source": [
    "from sklearn.feature_selection import VarianceThreshold\n",
    "\n",
    "# Drop kolom non-numerik\n",
    "df_numeric = cc_df.select_dtypes(include = ['number'])\n",
    "print(f'numeric columns: {df_numeric.columns}\\n')\n",
    "\n",
    "# Inisialisasi VarianceThreshold (misalnya, ambang batas 0.01)\n",
    "selector = VarianceThreshold(threshold = 0.01)\n",
    "df_var_selected = selector.fit_transform(df_numeric)\n",
    "\n",
    "# Fitur yang dipertahankan\n",
    "selected_features = df_numeric.columns[selector.get_support()]\n",
    "print(\"Fitur yang dipertahankan:\", selected_features)"
   ]
  },
  {
   "cell_type": "code",
   "execution_count": 10,
   "metadata": {},
   "outputs": [
    {
     "name": "stdout",
     "output_type": "stream",
     "text": [
      "Numeric column untuk modeling: Index(['transaction_dollar_amount', 'time_diff_hour', 'distance_km',\n",
      "       'speed_km/h'],\n",
      "      dtype='object')\n"
     ]
    }
   ],
   "source": [
    "# Seleceted numeric columns\n",
    "filter_numeric = ['long', 'lat', 'prev_long', 'prev_lat', 'credit_card', 'zipcode']\n",
    "selected_numeric = selected_features.drop(filter_numeric)\n",
    "\n",
    "#\n",
    "print(\"Numeric column untuk modeling:\", selected_numeric)"
   ]
  },
  {
   "cell_type": "markdown",
   "metadata": {},
   "source": [
    "#### Relevant Column"
   ]
  },
  {
   "cell_type": "code",
   "execution_count": 11,
   "metadata": {},
   "outputs": [
    {
     "name": "stdout",
     "output_type": "stream",
     "text": [
      "STATE \t: ['la' 'ny' 'nh' 'il' 'pa' 'nj' 'mo' 'md' 'ca' 'tx' 'me' 'vt' 'al' 'wv'\n",
      " 'pr' 'wa' 'nc' 'ga' 'ma' 'ok' 'mi' 'ut' 'fl' 'hi' 'ia' 'nm' 'oh' 'az'\n",
      " 'va' 'in' 'ri' 'id' 'co' 'ct' 'ks']\n",
      "-------------------------------------------------- \n",
      "\n",
      "CITY \t: ['new orleans' 'new york' 'washington' 'el paso' 'dallas' 'houston'\n",
      " 'birmingham' 'kansas city' 'austin' 'pasadena' 'los angeles' 'fort worth'\n",
      " 'jackson' 'pittsburgh' 'portland' 'albany' 'charlotte' 'huntsville'\n",
      " 'madison' 'orlando' 'san antonio' 'seattle' 'minneapolis' 'sacramento'\n",
      " 'san francisco' 'memphis' 'dayton' 'denver' 'milwaukee' 'omaha' 'trenton'\n",
      " 'springfield' 'phoenix' 'oklahoma city' 'charleston' 'miami' 'long beach'\n",
      " 'quitman' 'saint louis' 'friendship' 'chicago' 'salt lake city'\n",
      " 'richmond' 'pensacola' 'san diego' 'atlanta' 'honolulu' 'greensboro'\n",
      " 'newark' 'rochester' 'lafayette' 'columbus' 'staten island' 'des moines'\n",
      " 'las vegas' 'chester' 'cincinnati' 'hillsboro' 'tucson' 'buffalo'\n",
      " 'arlington' 'shreveport' 'philadelphia' 'tulsa' 'cleveland' 'saint paul'\n",
      " 'garfield' 'young america' 'clinton' 'amarillo' 'greenville' 'mobile'\n",
      " 'boise' 'monticello' 'indianapolis' 'cascade' 'williamsburg' 'raleigh'\n",
      " 'akron' 'huntington' 'troy' 'lake city' 'colorado springs' 'fresno'\n",
      " 'auburn' 'evansville' 'topeka' 'cedar rapids' 'louisville' 'knoxville'\n",
      " 'oakland' 'spokane' 'manchester' 'fort wayne' 'dover' 'tampa'\n",
      " 'garden grove' 'lexington' 'alexandria' 'tacoma' 'jamaica' 'scranton'\n",
      " 'hartford' 'columbia' 'gretna' 'san jose' 'aurora' 'jacksonville'\n",
      " 'somerset' 'new haven' 'newport' 'wilmington' 'boston' 'vallejo'\n",
      " 'fort lauderdale' 'bronx' 'wichita' 'lancaster' 'detroit' 'baltimore'\n",
      " 'montgomery' 'bristol' 'corpus christi' 'roanoke']\n",
      "-------------------------------------------------- \n",
      "\n",
      "DATE \t: ['2015-07-31' '2015-08-01' '2015-08-02' '2015-08-03' '2015-08-04'\n",
      " '2015-08-05' '2015-08-06' '2015-08-07' '2015-08-08' '2015-08-09'\n",
      " '2015-08-10' '2015-08-11' '2015-08-12' '2015-08-13' '2015-08-14'\n",
      " '2015-08-15' '2015-08-16' '2015-08-17' '2015-08-18' '2015-08-19'\n",
      " '2015-08-20' '2015-08-21' '2015-08-22' '2015-08-23' '2015-08-24'\n",
      " '2015-08-25' '2015-08-26' '2015-08-27' '2015-08-28' '2015-08-29'\n",
      " '2015-08-30' '2015-08-31' '2015-09-01' '2015-09-02' '2015-09-03'\n",
      " '2015-09-04' '2015-09-05' '2015-09-06' '2015-09-07' '2015-09-08'\n",
      " '2015-09-09' '2015-09-10' '2015-09-11' '2015-09-12' '2015-09-13'\n",
      " '2015-09-14' '2015-09-15' '2015-09-16' '2015-09-17' '2015-09-18'\n",
      " '2015-09-19' '2015-09-20' '2015-09-21' '2015-09-22' '2015-09-23'\n",
      " '2015-09-24' '2015-09-25' '2015-09-26' '2015-09-27' '2015-09-28'\n",
      " '2015-09-29' '2015-09-30' '2015-10-01' '2015-10-02' '2015-10-03'\n",
      " '2015-10-04' '2015-10-05' '2015-10-06' '2015-10-07' '2015-10-08'\n",
      " '2015-10-09' '2015-10-10' '2015-10-11' '2015-10-12' '2015-10-13'\n",
      " '2015-10-14' '2015-10-15' '2015-10-16' '2015-10-17' '2015-10-18'\n",
      " '2015-10-19' '2015-10-20' '2015-10-21' '2015-10-22' '2015-10-23'\n",
      " '2015-10-24' '2015-10-25' '2015-10-26' '2015-10-27' '2015-10-28'\n",
      " '2015-10-29' '2015-10-30']\n",
      "-------------------------------------------------- \n",
      "\n",
      "QUARTER \t: ['2015Q3' '2015Q4']\n",
      "-------------------------------------------------- \n",
      "\n",
      "MONTH \t: ['july' 'august' 'september' 'october']\n",
      "-------------------------------------------------- \n",
      "\n",
      "SEASON \t: ['summer' 'fall']\n",
      "-------------------------------------------------- \n",
      "\n",
      "WEEK_CAT \t: ['weekday' 'weekend']\n",
      "-------------------------------------------------- \n",
      "\n",
      "DAY \t: ['friday' 'saturday' 'sunday' 'monday' 'tuesday' 'wednesday' 'thursday']\n",
      "-------------------------------------------------- \n",
      "\n",
      "TIME \t: ['09:39:48' '11:03:48' '11:10:14' ... '06:03:21' '06:26:59' '10:54:58']\n",
      "-------------------------------------------------- \n",
      "\n",
      "LIMIT_CAT \t: ['very_low' 'low' 'very_high' 'medium' 'high']\n",
      "-------------------------------------------------- \n",
      "\n",
      "GEO_CAT \t: ['normal' 'anomaly']\n",
      "-------------------------------------------------- \n",
      "\n",
      "FRAUD \t: ['not_fraud' 'fraud']\n",
      "-------------------------------------------------- \n",
      "\n",
      "CC_ID \t: ['fa5cc43fa04e2dfdfd63c16638d485b95c679d6ad56e63866c430328a9ed1a7b'\n",
      " 'd578d6057e09202141d896fdf5225e21b2e9667f811425dc19cbc3cf55602fa7'\n",
      " 'c7609a7d7ae21b8f05b5939c23fd70443565a030a4f3e7fa406ae193f853a56d' ...\n",
      " 'd5573e4aef760b530b8a4fcebf38f73469ceb63b6b491951d30969aeb8102fe1'\n",
      " 'd307336cf48482f97fa730b797cd864806d48fbcbb9159f01da9f79bfc203451'\n",
      " 'd56f44acbe88329b6691f189ab4d313ea5787688de245d38103e4097e1db638a']\n",
      "-------------------------------------------------- \n",
      "\n",
      "TRX_ID \t: ['7c7b74141d438a10410c6af617c405f596b23d6691c0ca201a37d4dd84e56753'\n",
      " 'bbbdacccde18af756cea741863cdc2315eeb5da20e4d038e857bc169e5405067'\n",
      " '2bc2b25359ae1ffe5ef9e8b539a816536971f88f6bf76e40bfbbf5312b0593dd' ...\n",
      " '6a700e572037908b25b7c9061524f1cc01b2ef879f712846026949df309c76f6'\n",
      " '0383b1f9b7a91a23121ad7d42811122f1b613c8371da921b621b546c2b66a627'\n",
      " '0e2a22df44047473f7d4954c958f242a1c7b54d07d05669d4651c62a2fe86c77']\n",
      "-------------------------------------------------- \n",
      "\n"
     ]
    }
   ],
   "source": [
    "# Check Column Category\n",
    "check_cat = cc_df.select_dtypes(include = ['object'])\n",
    "\n",
    "for i in check_cat.columns:\n",
    "    unique_values = check_cat[i].unique()  # Mendapatkan nilai unik\n",
    "    unique_count = check_cat[i].nunique()  # Menghitung jumlah unik\n",
    "    print(f'{i.upper()} \\t: {unique_values}')\n",
    "    print(f'{\"-\" * 50} \\n')"
   ]
  },
  {
   "cell_type": "code",
   "execution_count": 12,
   "metadata": {},
   "outputs": [
    {
     "name": "stdout",
     "output_type": "stream",
     "text": [
      "Jumlah unik STATE \t: 35\n",
      "-------------------------------------------------- \n",
      "\n",
      "Jumlah unik CITY \t: 124\n",
      "-------------------------------------------------- \n",
      "\n",
      "Jumlah unik DATE \t: 92\n",
      "-------------------------------------------------- \n",
      "\n",
      "Jumlah unik TIME \t: 51419\n",
      "-------------------------------------------------- \n",
      "\n",
      "Jumlah unik CC_ID \t: 294588\n",
      "-------------------------------------------------- \n",
      "\n",
      "Jumlah unik TRX_ID \t: 294588\n",
      "-------------------------------------------------- \n",
      "\n"
     ]
    }
   ],
   "source": [
    "for i in check_cat.columns:\n",
    "    unique_count = check_cat[i].nunique()  # Menghitung jumlah nilai unik\n",
    "    \n",
    "    if unique_count > 10:  # Filter hanya kolom dengan nilai unik lebih dari 10\n",
    "        unique_values = check_cat[i].unique()  # Mendapatkan nilai unik\n",
    "        # print(f'{i.upper()} \\t: {unique_values}')\n",
    "        print(f'Jumlah unik {i.upper()} \\t: {unique_count}')\n",
    "        print(f'{\"-\" * 50} \\n')\n"
   ]
  },
  {
   "cell_type": "code",
   "execution_count": 13,
   "metadata": {},
   "outputs": [
    {
     "name": "stdout",
     "output_type": "stream",
     "text": [
      "objetc columns: Index(['state', 'city', 'date', 'quarter', 'month', 'season', 'week_cat',\n",
      "       'day', 'time', 'limit_cat', 'geo_cat', 'fraud', 'cc_id', 'trx_id'],\n",
      "      dtype='object')\n",
      "\n"
     ]
    }
   ],
   "source": [
    "# Drop kolom numerik\n",
    "df_obj = cc_df.select_dtypes(include = ['object'])\n",
    "print(f'objetc columns: {df_obj.columns}\\n')"
   ]
  },
  {
   "cell_type": "code",
   "execution_count": 14,
   "metadata": {},
   "outputs": [
    {
     "name": "stdout",
     "output_type": "stream",
     "text": [
      "Object column untuk modeling: Index(['city', 'limit_cat', 'fraud', 'geo_cat'], dtype='object')\n"
     ]
    }
   ],
   "source": [
    "# selected object columns\n",
    "filter_obj = ['city', 'limit_cat', 'fraud', 'geo_cat']\n",
    "selected_object = df_obj[filter_obj].columns\n",
    "\n",
    "#\n",
    "print(\"Object column untuk modeling:\", selected_object)"
   ]
  },
  {
   "cell_type": "code",
   "execution_count": 15,
   "metadata": {},
   "outputs": [
    {
     "data": {
      "application/vnd.microsoft.datawrangler.viewer.v0+json": {
       "columns": [
        {
         "name": "index",
         "rawType": "int64",
         "type": "integer"
        },
        {
         "name": "transaction_dollar_amount",
         "rawType": "float64",
         "type": "float"
        },
        {
         "name": "time_diff_hour",
         "rawType": "float64",
         "type": "float"
        },
        {
         "name": "distance_km",
         "rawType": "float64",
         "type": "float"
        },
        {
         "name": "speed_km/h",
         "rawType": "float64",
         "type": "float"
        },
        {
         "name": "city",
         "rawType": "object",
         "type": "string"
        },
        {
         "name": "limit_cat",
         "rawType": "object",
         "type": "string"
        },
        {
         "name": "fraud",
         "rawType": "object",
         "type": "string"
        },
        {
         "name": "geo_cat",
         "rawType": "object",
         "type": "string"
        }
       ],
       "conversionMethod": "pd.DataFrame",
       "ref": "b75a7891-cd2e-4205-b7f2-e7290c05cb34",
       "rows": [
        [
         "0",
         "17.99",
         "2122.9",
         "11.969568192523129",
         "0.01",
         "new orleans",
         "very_low",
         "not_fraud",
         "normal"
        ],
        [
         "1",
         "12.09",
         "702.03",
         "15.511210253249892",
         "0.02",
         "new york",
         "low",
         "not_fraud",
         "normal"
        ],
        [
         "2",
         "78.21",
         "1807.93",
         "9.404225777907621",
         "0.01",
         "washington",
         "very_high",
         "not_fraud",
         "normal"
        ],
        [
         "3",
         "74.41",
         "704.08",
         "9.556418502988254",
         "0.01",
         "el paso",
         "medium",
         "not_fraud",
         "normal"
        ],
        [
         "4",
         "54.89",
         "496.02",
         "8.157130205866816",
         "0.02",
         "washington",
         "very_low",
         "not_fraud",
         "normal"
        ]
       ],
       "shape": {
        "columns": 8,
        "rows": 5
       }
      },
      "text/html": [
       "<div>\n",
       "<style scoped>\n",
       "    .dataframe tbody tr th:only-of-type {\n",
       "        vertical-align: middle;\n",
       "    }\n",
       "\n",
       "    .dataframe tbody tr th {\n",
       "        vertical-align: top;\n",
       "    }\n",
       "\n",
       "    .dataframe thead th {\n",
       "        text-align: right;\n",
       "    }\n",
       "</style>\n",
       "<table border=\"1\" class=\"dataframe\">\n",
       "  <thead>\n",
       "    <tr style=\"text-align: right;\">\n",
       "      <th></th>\n",
       "      <th>transaction_dollar_amount</th>\n",
       "      <th>time_diff_hour</th>\n",
       "      <th>distance_km</th>\n",
       "      <th>speed_km/h</th>\n",
       "      <th>city</th>\n",
       "      <th>limit_cat</th>\n",
       "      <th>fraud</th>\n",
       "      <th>geo_cat</th>\n",
       "    </tr>\n",
       "  </thead>\n",
       "  <tbody>\n",
       "    <tr>\n",
       "      <th>0</th>\n",
       "      <td>17.99</td>\n",
       "      <td>2122.90</td>\n",
       "      <td>11.969568</td>\n",
       "      <td>0.01</td>\n",
       "      <td>new orleans</td>\n",
       "      <td>very_low</td>\n",
       "      <td>not_fraud</td>\n",
       "      <td>normal</td>\n",
       "    </tr>\n",
       "    <tr>\n",
       "      <th>1</th>\n",
       "      <td>12.09</td>\n",
       "      <td>702.03</td>\n",
       "      <td>15.511210</td>\n",
       "      <td>0.02</td>\n",
       "      <td>new york</td>\n",
       "      <td>low</td>\n",
       "      <td>not_fraud</td>\n",
       "      <td>normal</td>\n",
       "    </tr>\n",
       "    <tr>\n",
       "      <th>2</th>\n",
       "      <td>78.21</td>\n",
       "      <td>1807.93</td>\n",
       "      <td>9.404226</td>\n",
       "      <td>0.01</td>\n",
       "      <td>washington</td>\n",
       "      <td>very_high</td>\n",
       "      <td>not_fraud</td>\n",
       "      <td>normal</td>\n",
       "    </tr>\n",
       "    <tr>\n",
       "      <th>3</th>\n",
       "      <td>74.41</td>\n",
       "      <td>704.08</td>\n",
       "      <td>9.556419</td>\n",
       "      <td>0.01</td>\n",
       "      <td>el paso</td>\n",
       "      <td>medium</td>\n",
       "      <td>not_fraud</td>\n",
       "      <td>normal</td>\n",
       "    </tr>\n",
       "    <tr>\n",
       "      <th>4</th>\n",
       "      <td>54.89</td>\n",
       "      <td>496.02</td>\n",
       "      <td>8.157130</td>\n",
       "      <td>0.02</td>\n",
       "      <td>washington</td>\n",
       "      <td>very_low</td>\n",
       "      <td>not_fraud</td>\n",
       "      <td>normal</td>\n",
       "    </tr>\n",
       "  </tbody>\n",
       "</table>\n",
       "</div>"
      ],
      "text/plain": [
       "   transaction_dollar_amount  time_diff_hour  distance_km  speed_km/h  \\\n",
       "0                      17.99         2122.90    11.969568        0.01   \n",
       "1                      12.09          702.03    15.511210        0.02   \n",
       "2                      78.21         1807.93     9.404226        0.01   \n",
       "3                      74.41          704.08     9.556419        0.01   \n",
       "4                      54.89          496.02     8.157130        0.02   \n",
       "\n",
       "          city  limit_cat      fraud geo_cat  \n",
       "0  new orleans   very_low  not_fraud  normal  \n",
       "1     new york        low  not_fraud  normal  \n",
       "2   washington  very_high  not_fraud  normal  \n",
       "3      el paso     medium  not_fraud  normal  \n",
       "4   washington   very_low  not_fraud  normal  "
      ]
     },
     "execution_count": 15,
     "metadata": {},
     "output_type": "execute_result"
    }
   ],
   "source": [
    "# \n",
    "trans_col = selected_numeric.append(selected_object)\n",
    "\n",
    "# \n",
    "trans_col = cc_df[trans_col]\n",
    "trans_col.head()"
   ]
  },
  {
   "cell_type": "code",
   "execution_count": 16,
   "metadata": {},
   "outputs": [
    {
     "name": "stdout",
     "output_type": "stream",
     "text": [
      "Proporsi Target Data:\n",
      "Total Rows: 294588\n",
      "fraud\n",
      "not_fraud    95.978791\n",
      "fraud         4.021209\n",
      "Name: proportion, dtype: float64 \n",
      "\n",
      "fraud\n",
      "not_fraud    282742\n",
      "fraud         11846\n",
      "Name: count, dtype: int64\n"
     ]
    }
   ],
   "source": [
    "# \n",
    "print(\"Proporsi Target Data:\")\n",
    "print(f\"Total Rows: {len(trans_col)}\")\n",
    "print(trans_col[\"fraud\"].value_counts(normalize=True) * 100, '\\n')\n",
    "print(trans_col[\"fraud\"].value_counts())"
   ]
  },
  {
   "cell_type": "markdown",
   "metadata": {},
   "source": [
    "### Check Noise Data"
   ]
  },
  {
   "cell_type": "markdown",
   "metadata": {},
   "source": [
    "#### Boxplot"
   ]
  },
  {
   "cell_type": "code",
   "execution_count": 17,
   "metadata": {},
   "outputs": [
    {
     "data": {
      "image/png": "[encoded data removed]",
      "text/plain": [
       "<Figure size 1200x600 with 1 Axes>"
      ]
     },
     "metadata": {},
     "output_type": "display_data"
    }
   ],
   "source": [
    "plt.figure(figsize = (12,6))\n",
    "sns.boxplot(data = trans_col.select_dtypes(include = [\"number\"])) \n",
    "plt.show()"
   ]
  },
  {
   "cell_type": "markdown",
   "metadata": {},
   "source": [
    "#### Z-Score"
   ]
  },
  {
   "cell_type": "code",
   "execution_count": 18,
   "metadata": {},
   "outputs": [
    {
     "name": "stdout",
     "output_type": "stream",
     "text": [
      "Jumlah outlier yang terdeteksi: 14158 \n",
      "\n"
     ]
    }
   ],
   "source": [
    "import numpy as np\n",
    "import matplotlib.pyplot as plt\n",
    "import seaborn as sns\n",
    "from scipy.stats import zscore\n",
    "\n",
    "# Kolom numerik yang ingin dicek outliernya\n",
    "num_cols = [\"transaction_dollar_amount\", \"distance_km\"]\n",
    "\n",
    "# Hitung z-score\n",
    "z_scores = np.abs(zscore(trans_col[num_cols]))\n",
    "\n",
    "# Tandai data yang memiliki outlier\n",
    "outlier_mask = (z_scores > 3).any(axis=1)\n",
    "\n",
    "# Jumlah outlier sebelum Winsorization\n",
    "num_outliers_before = outlier_mask.sum()\n",
    "print(f\"Jumlah outlier yang terdeteksi: {num_outliers_before} \\n\")"
   ]
  },
  {
   "cell_type": "markdown",
   "metadata": {},
   "source": [
    "#### Winsorization"
   ]
  },
  {
   "cell_type": "code",
   "execution_count": 19,
   "metadata": {},
   "outputs": [],
   "source": [
    "# clip_percent = 2.4\n",
    "\n",
    "# # Winsorization hanya untuk data \"not_fraud\"\n",
    "# for col in num_cols:\n",
    "#     lower = np.percentile(trans_col[trans_col[\"fraud\"] == \"not_fraud\"][col], clip_percent)\n",
    "#     upper = np.percentile(trans_col[trans_col[\"fraud\"] == \"not_fraud\"][col], 100 - clip_percent)\n",
    "\n",
    "#     trans_col.loc[trans_col[\"fraud\"] == \"not_fraud\", col] = np.clip(\n",
    "#         trans_col.loc[trans_col[\"fraud\"] == \"not_fraud\", col], lower, upper\n",
    "#     )\n",
    "\n",
    "# # Cek apakah outlier masih ada setelah Winsorization\n",
    "# z_scores_after = np.abs(zscore(trans_col[num_cols]))\n",
    "# outlier_mask_after = (z_scores_after > 3).any(axis=1)\n",
    "\n",
    "# num_outliers_after = outlier_mask_after.sum()\n",
    "# print(f\"Jumlah outlier setelah Winsorization: {num_outliers_after} \\n\")"
   ]
  },
  {
   "cell_type": "code",
   "execution_count": 20,
   "metadata": {},
   "outputs": [],
   "source": [
    "# # Visualisasi dengan subplot\n",
    "# fig, axes = plt.subplots(1, 2, figsize=(14, 6))\n",
    "\n",
    "# # Boxplot untuk transaction_dollar_amount\n",
    "# sns.boxplot(x = \"fraud\", y = \"transaction_dollar_amount\", hue = \"fraud\", \n",
    "#             data = trans_col, ax = axes[0], palette = \"Set2\", legend = False)\n",
    "\n",
    "# axes[0].set_title(\"Distribusi Transaction Dollar Amount Berdasarkan Fraud Status\")\n",
    "# axes[0].set_ylabel(\"Transaction Dollar Amount\")\n",
    "# axes[0].set_xlabel(\"Fraud Status\")\n",
    "# axes[0].grid(axis = \"y\", linestyle = \"--\", alpha = 0.7)\n",
    "\n",
    "# # Boxplot untuk distance\n",
    "# sns.boxplot(x = \"fraud\", y = \"distance_km\", hue = \"fraud\", \n",
    "#             data = trans_col, ax = axes[1], palette = \"Set2\", legend = False)\n",
    "\n",
    "# axes[1].set_title(\"Distribusi Distance Berdasarkan Fraud Status\")\n",
    "# axes[1].set_ylabel(\"Distance\")\n",
    "# axes[1].set_xlabel(\"Fraud Status\")\n",
    "# axes[1].grid(axis = \"y\", linestyle = \"--\", alpha = 0.7)\n",
    "\n",
    "# # Tambahkan anotasi jumlah outlier\n",
    "# for ax in axes:\n",
    "#     ax.annotate(f\"Outlier Sebelum: {num_outliers_before}\", xy = (0.5, 0.95), xycoords = \"axes fraction\", \n",
    "#                 ha = \"center\", fontsize = 10, color = \"red\", fontweight = \"bold\")\n",
    "    \n",
    "#     ax.annotate(f\"Outlier Setelah: {num_outliers_after}\", xy = (0.5, 0.90), xycoords = \"axes fraction\", \n",
    "#                 ha = \"center\", fontsize = 10, color = \"green\", fontweight = \"bold\")\n",
    "\n",
    "# plt.tight_layout()\n",
    "# plt.show()"
   ]
  },
  {
   "cell_type": "code",
   "execution_count": 21,
   "metadata": {},
   "outputs": [],
   "source": [
    "import numpy as np\n",
    "import pandas as pd\n",
    "import matplotlib.pyplot as plt\n",
    "import seaborn as sns\n",
    "from scipy.stats import zscore\n",
    "from sklearn.preprocessing import RobustScaler, PowerTransformer\n",
    "\n",
    "# Pastikan trans_col adalah salinan eksplisit\n",
    "trans_col = trans_col.copy()\n",
    "\n",
    "# Kolom numerik yang ingin dicek outliernya\n",
    "num_cols = [\"transaction_dollar_amount\", \"distance_km\", \"speed_km/h\"]\n",
    "\n",
    "# Hitung z-score sebelum transformasi\n",
    "z_scores = np.abs(zscore(trans_col[num_cols]))\n",
    "outlier_mask = (z_scores > 3).any(axis=1)\n",
    "num_outliers_before = outlier_mask.sum()\n",
    "\n",
    "# Winsorization hanya untuk data \"not_fraud\"\n",
    "clip_percent = 2.4\n",
    "for col in num_cols:\n",
    "    lower = np.percentile(trans_col.loc[trans_col[\"fraud\"] == \"not_fraud\", col], clip_percent)\n",
    "    upper = np.percentile(trans_col.loc[trans_col[\"fraud\"] == \"not_fraud\", col], 100 - clip_percent)\n",
    "    trans_col.loc[trans_col[\"fraud\"] == \"not_fraud\", col] = np.clip(\n",
    "        trans_col.loc[trans_col[\"fraud\"] == \"not_fraud\", col].values, lower, upper\n",
    "    )\n",
    "\n",
    "# Log Transformation untuk semua data (hindari nilai negatif)\n",
    "for col in num_cols:\n",
    "    trans_col.loc[:, col] = np.log1p(trans_col[col].clip(lower=0).values)\n",
    "\n",
    "# Robust Scaling untuk semua data\n",
    "scaler = RobustScaler()\n",
    "trans_col.loc[:, num_cols] = scaler.fit_transform(trans_col[num_cols].values)\n",
    "\n",
    "# Power Transformation (Yeo-Johnson) untuk semua data\n",
    "pt = PowerTransformer(method='yeo-johnson')\n",
    "trans_col.loc[:, num_cols] = pt.fit_transform(trans_col[num_cols].values)\n",
    "\n",
    "# IQR Capping untuk semua data\n",
    "for col in num_cols:\n",
    "    Q1 = trans_col[col].quantile(0.25)\n",
    "    Q3 = trans_col[col].quantile(0.75)\n",
    "    IQR = Q3 - Q1\n",
    "    lower_bound = Q1 - 1.5 * IQR\n",
    "    upper_bound = Q3 + 1.5 * IQR\n",
    "    trans_col.loc[:, col] = np.where(\n",
    "        trans_col[col].values < lower_bound, lower_bound,\n",
    "        np.where(trans_col[col].values > upper_bound, upper_bound, trans_col[col].values)\n",
    "    )\n",
    "\n",
    "# Hitung z-score setelah transformasi\n",
    "z_scores_after = np.abs(zscore(trans_col[num_cols]))\n",
    "outlier_mask_after = (z_scores_after > 3).any(axis=1)\n",
    "num_outliers_after = outlier_mask_after.sum()"
   ]
  },
  {
   "cell_type": "code",
   "execution_count": 22,
   "metadata": {},
   "outputs": [
    {
     "data": {
      "image/png": "[encoded data removed]",
      "text/plain": [
       "<Figure size 1800x600 with 3 Axes>"
      ]
     },
     "metadata": {},
     "output_type": "display_data"
    }
   ],
   "source": [
    "# Hitung z-score setelah transformasi\n",
    "z_scores_after = np.abs(zscore(trans_col[num_cols]))\n",
    "outlier_mask_after = (z_scores_after > 3).any(axis=1)\n",
    "num_outliers_after = outlier_mask_after.sum()\n",
    "\n",
    "# Visualisasi\n",
    "fig, axes = plt.subplots(1, 3, figsize=(18, 6))\n",
    "\n",
    "sns.boxplot(x=\"fraud\", y=\"transaction_dollar_amount\", hue=\"fraud\", \n",
    "            data=trans_col, ax=axes[0], palette=\"Set2\", legend=False)\n",
    "axes[0].set_title(\"Distribusi Transaction Dollar Amount Berdasarkan Fraud Status\")\n",
    "axes[0].set_ylabel(\"Transaction Dollar Amount\")\n",
    "axes[0].set_xlabel(\"Fraud Status\")\n",
    "axes[0].grid(axis=\"y\", linestyle=\"--\", alpha=0.7)\n",
    "\n",
    "sns.boxplot(x=\"fraud\", y=\"distance_km\", hue=\"fraud\", \n",
    "            data=trans_col, ax=axes[1], palette=\"Set2\", legend=False)\n",
    "axes[1].set_title(\"Distribusi Distance Berdasarkan Fraud Status\")\n",
    "axes[1].set_ylabel(\"Distance\")\n",
    "axes[1].set_xlabel(\"Fraud Status\")\n",
    "axes[1].grid(axis=\"y\", linestyle=\"--\", alpha=0.7)\n",
    "\n",
    "sns.boxplot(x=\"fraud\", y=\"speed_km/h\", hue=\"fraud\", \n",
    "            data=trans_col, ax=axes[2], palette=\"Set2\", legend=False)\n",
    "axes[2].set_title(\"Distribusi Speed Berdasarkan Fraud Status\")\n",
    "axes[2].set_ylabel(\"Speed km/h\")\n",
    "axes[2].set_xlabel(\"Fraud Status\")\n",
    "axes[2].grid(axis=\"y\", linestyle=\"--\", alpha=0.7)\n",
    "\n",
    "# Tambahkan anotasi jumlah outlier\n",
    "for ax in axes:\n",
    "    ax.annotate(f\"Outlier Sebelum: {num_outliers_before}\", xy=(0.5, 0.95), xycoords=\"axes fraction\", \n",
    "                ha=\"center\", fontsize=10, color=\"red\", fontweight=\"bold\")\n",
    "    ax.annotate(f\"Outlier Setelah: {num_outliers_after}\", xy=(0.5, 0.90), xycoords=\"axes fraction\", \n",
    "                ha=\"center\", fontsize=10, color=\"green\", fontweight=\"bold\")\n",
    "\n",
    "plt.tight_layout()\n",
    "plt.show()"
   ]
  },
  {
   "cell_type": "markdown",
   "metadata": {},
   "source": [
    "## Transform Data"
   ]
  },
  {
   "cell_type": "code",
   "execution_count": 23,
   "metadata": {},
   "outputs": [
    {
     "name": "stdout",
     "output_type": "stream",
     "text": [
      "Proporsi Label Setelah Preprocessing: \n",
      "==================================================\n",
      "fraud\n",
      "not_fraud    95.978791\n",
      "fraud         4.021209\n",
      "Name: proportion, dtype: float64 \n",
      "\n",
      "fraud\n",
      "not_fraud    282742\n",
      "fraud         11846\n",
      "Name: count, dtype: int64\n"
     ]
    }
   ],
   "source": [
    "# Ensure Data Consistency (before after same after winsorization)\n",
    "print(\"Proporsi Label Setelah Preprocessing: \")\n",
    "print(\"=\" * 50)\n",
    "\n",
    "print(trans_col[\"fraud\"].value_counts(normalize = True) * 100, '\\n')\n",
    "print(trans_col[\"fraud\"].value_counts())"
   ]
  },
  {
   "cell_type": "code",
   "execution_count": 24,
   "metadata": {},
   "outputs": [
    {
     "name": "stdout",
     "output_type": "stream",
     "text": [
      "fraud\n",
      "not_fraud    95.98\n",
      "fraud         4.02\n",
      "Name: proportion, dtype: float64 \n",
      "\n",
      "fraud\n",
      "not_fraud    282742\n",
      "fraud         11846\n",
      "Name: count, dtype: int64\n"
     ]
    }
   ],
   "source": [
    "# remove NaN from target\n",
    "trans_df = trans_col.dropna(subset = ['fraud'])\n",
    "\n",
    "# check value\n",
    "print(round(trans_df[\"fraud\"].value_counts(normalize = True) * 100, 2), \"\\n\")\n",
    "print(trans_df[\"fraud\"].value_counts())"
   ]
  },
  {
   "cell_type": "markdown",
   "metadata": {},
   "source": [
    "### Split Data"
   ]
  },
  {
   "cell_type": "code",
   "execution_count": 25,
   "metadata": {},
   "outputs": [
    {
     "name": "stdout",
     "output_type": "stream",
     "text": [
      "<class 'pandas.core.frame.DataFrame'>\n",
      "RangeIndex: 294588 entries, 0 to 294587\n",
      "Data columns (total 7 columns):\n",
      " #   Column                     Non-Null Count   Dtype  \n",
      "---  ------                     --------------   -----  \n",
      " 0   transaction_dollar_amount  294588 non-null  float64\n",
      " 1   time_diff_hour             294588 non-null  float64\n",
      " 2   distance_km                294588 non-null  float64\n",
      " 3   speed_km/h                 294588 non-null  float64\n",
      " 4   city                       294588 non-null  object \n",
      " 5   limit_cat                  294588 non-null  object \n",
      " 6   geo_cat                    294588 non-null  object \n",
      "dtypes: float64(4), object(3)\n",
      "memory usage: 15.7+ MB\n"
     ]
    }
   ],
   "source": [
    "from sklearn.model_selection import train_test_split\n",
    "from imblearn.combine import SMOTETomek\n",
    "\n",
    "# split data\n",
    "X = trans_df.drop(columns = [\"fraud\"]).copy()\n",
    "y = trans_df[\"fraud\"].copy()\n",
    "\n",
    "# \n",
    "X.info()"
   ]
  },
  {
   "cell_type": "code",
   "execution_count": 26,
   "metadata": {},
   "outputs": [
    {
     "name": "stdout",
     "output_type": "stream",
     "text": [
      "==================================================\n",
      "Data has been split!!! \n",
      "\n",
      "Train set size: 235670\n",
      "Test set size: 58918\n",
      "==================================================\n"
     ]
    }
   ],
   "source": [
    "# Split data sebelum preprocessing\n",
    "X_train, X_test, y_train, y_test = train_test_split(X, y, test_size = 0.2, random_state = 42, stratify = y)\n",
    "\n",
    "# Konversi target ke numeric (setelah split)\n",
    "y_train = y_train.map({\"not_fraud\": 0, \"fraud\": 1})\n",
    "y_test = y_test.map({\"not_fraud\": 0, \"fraud\": 1})\n",
    "\n",
    "# Menampilkan informasi dataset\n",
    "print(\"=\" * 50)\n",
    "print(\"Data has been split!!! \\n\")\n",
    "print(f\"Train set size: {X_train.shape[0]}\")\n",
    "print(f\"Test set size: {X_test.shape[0]}\")\n",
    "print(\"=\" * 50)"
   ]
  },
  {
   "cell_type": "markdown",
   "metadata": {},
   "source": [
    "### Grouping Category"
   ]
  },
  {
   "cell_type": "code",
   "execution_count": 27,
   "metadata": {},
   "outputs": [
    {
     "name": "stdout",
     "output_type": "stream",
     "text": [
      "Ordinal Columns: \t ['limit_cat']\n",
      "One-Hot Columns: \t ['geo_cat']\n",
      "Label Columns: \t\t ['city']\n",
      "Numeric Columns: \t ['transaction_dollar_amount', 'time_diff_hour', 'distance_km', 'speed_km/h']\n"
     ]
    }
   ],
   "source": [
    "# Daftar kolom untuk label encoding (kolom ordinal)\n",
    "ordinal_set = {'limit_cat'}\n",
    "\n",
    "# Inisialisasi list untuk menyimpan kolom yang telah dikelompokkan\n",
    "ordinal_cols, ohe_cols, label_cols, numeric_cols = [], [], [], []\n",
    "\n",
    "for col in X.columns:\n",
    "    if X[col].dtype in ['int64', 'float64']:\n",
    "        numeric_cols.append(col)\n",
    "\n",
    "    elif X[col].dtype == 'object' or X[col].dtype.name == \"category\":\n",
    "        unique_count = X[col].nunique()  # Menghitung jumlah unik\n",
    "        \n",
    "        if col in ordinal_set:\n",
    "            ordinal_cols.append(col)\n",
    "            \n",
    "        elif unique_count > 10:  # Jika nilai unik lebih dari 10 → label encoding\n",
    "            label_cols.append(col)\n",
    "            \n",
    "        else:  # Jika nilai unik <= 10 → one-hot encoding\n",
    "            ohe_cols.append(col)\n",
    "\n",
    "# Menampilkan hasil\n",
    "print(\"Ordinal Columns: \\t\", ordinal_cols)\n",
    "print(\"One-Hot Columns: \\t\", ohe_cols)\n",
    "print(\"Label Columns: \\t\\t\", label_cols)\n",
    "print(\"Numeric Columns: \\t\", numeric_cols)"
   ]
  },
  {
   "cell_type": "code",
   "execution_count": 28,
   "metadata": {},
   "outputs": [
    {
     "name": "stdout",
     "output_type": "stream",
     "text": [
      "LIMIT_CAT \t: ['very_low' 'low' 'very_high' 'medium' 'high']\n",
      "--------------------------------------------------\n"
     ]
    }
   ],
   "source": [
    "# Check Ordinal Columns\n",
    "for i in ordinal_cols:\n",
    "    print(f'{i.upper()} \\t: {check_cat[i].unique()}')\n",
    "    print(f'{\"-\" * 50}')"
   ]
  },
  {
   "cell_type": "code",
   "execution_count": 29,
   "metadata": {},
   "outputs": [],
   "source": [
    "# Menentukan urutan kategori masing-masing kolom\n",
    "oridnal_cat = [\n",
    "    [\"very_low\", \"low\", \"medium\", \"high\", \"very_high\"],   # Urutan untuk limit_cat\n",
    "]"
   ]
  },
  {
   "cell_type": "markdown",
   "metadata": {},
   "source": [
    "### Transform Parameter"
   ]
  },
  {
   "cell_type": "code",
   "execution_count": 30,
   "metadata": {},
   "outputs": [],
   "source": [
    "# Transformasi\n",
    "numerical_tf = RobustScaler(with_centering = True,          # Jika True, akan mengurangi median sebelum scaling \n",
    "                            with_scaling = True,            # Jika True, akan membagi dengan IQR \n",
    "                            quantile_range = (25.0, 75.0),  # Rentang persentil untuk IQR (default: Q1=25%, Q3=75%) \n",
    "                            unit_variance = False,          # Jika True, akan menyesuaikan data agar memiliki varians sekitar 1 \n",
    "                            copy = False                    # Jika False, transformasi dilakukan in-place pada array input \n",
    "                            )\n",
    "\n",
    "ohe_tf = OneHotEncoder(handle_unknown = 'ignore', \n",
    "                       sparse_output = True, \n",
    "                       max_categories = 50\n",
    "                       )\n",
    "\n",
    "ordinal_tf = OrdinalEncoder(categories = oridnal_cat, \n",
    "                            handle_unknown = 'use_encoded_value', \n",
    "                            unknown_value = -1\n",
    "                            )\n",
    "\n",
    "# Fungsi untuk Label Encoding\n",
    "def label_encode_columns(X):\n",
    "    X = X.copy()  # Hindari mengubah DataFrame asli\n",
    "    for col in label_cols:\n",
    "        le = LabelEncoder()\n",
    "        X[col] = le.fit_transform(X[col])\n",
    "        \n",
    "    return X"
   ]
  },
  {
   "cell_type": "code",
   "execution_count": 31,
   "metadata": {},
   "outputs": [],
   "source": [
    "# Column Transformer dengan FunctionTransformer\n",
    "prep_stage_2 = ColumnTransformer(\n",
    "    transformers = [\n",
    "        (\"num\", StandardScaler(), numeric_cols),  # Standarisasi numerik\n",
    "        (\"ohe\", OneHotEncoder(handle_unknown = \"ignore\", sparse_output = True, max_categories = 50), ohe_cols), \n",
    "        (\"label\", FunctionTransformer(label_encode_columns, validate = False), label_cols),  # Label encoder in pipeline\n",
    "        (\"ord\", OrdinalEncoder(categories = oridnal_cat, handle_unknown = \"use_encoded_value\", unknown_value = -1), ordinal_cols)\n",
    "    ], remainder = \"passthrough\")"
   ]
  },
  {
   "cell_type": "code",
   "execution_count": 32,
   "metadata": {},
   "outputs": [],
   "source": [
    "X_train_tf = prep_stage_2.fit_transform(X_train)  # Fit & Transform Training Data\n",
    "X_test_tf = prep_stage_2.transform(X_test)  # Transform Test Data"
   ]
  },
  {
   "cell_type": "code",
   "execution_count": 33,
   "metadata": {},
   "outputs": [
    {
     "name": "stdout",
     "output_type": "stream",
     "text": [
      "Total rows X_train resample: (235670, 8) \n",
      "\n",
      "Total rows X_test resample: (58918, 8)\n"
     ]
    }
   ],
   "source": [
    "# get feature names after pipeline\n",
    "num_features = numeric_cols \n",
    "cat_features = prep_stage_2.named_transformers_[\"ohe\"].get_feature_names_out(ohe_cols) \n",
    "ord_features = ordinal_cols \n",
    "label_features = label_cols \n",
    "\n",
    "# combine column\n",
    "transformed_columns = (list(num_features) + \n",
    "                       list(cat_features) + \n",
    "                       list(ord_features) + \n",
    "                       list(label_features)) \n",
    "\n",
    "# Dataframe after transform\n",
    "df_X_train_tf = pd.DataFrame(X_train_tf, columns=transformed_columns)\n",
    "print(f'Total rows X_train resample: {df_X_train_tf.shape} \\n')\n",
    "\n",
    "df_X_test_tf = pd.DataFrame(X_test_tf, columns=transformed_columns)\n",
    "print(f'Total rows X_test resample: {df_X_test_tf.shape}')\n"
   ]
  },
  {
   "cell_type": "markdown",
   "metadata": {},
   "source": [
    "### Re-Sampling"
   ]
  },
  {
   "cell_type": "code",
   "execution_count": 34,
   "metadata": {},
   "outputs": [
    {
     "name": "stdout",
     "output_type": "stream",
     "text": [
      "Check Data:\n",
      "fraud\n",
      "0    95.978699\n",
      "1     4.021301\n",
      "Name: proportion, dtype: float64 \n",
      "\n",
      "fraud\n",
      "0    226193\n",
      "1      9477\n",
      "Name: count, dtype: int64\n"
     ]
    }
   ],
   "source": [
    "# Check Target Proportion\n",
    "print(\"Check Data:\")\n",
    "print(f\"{y_train.value_counts(normalize = True) * 100} \\n\")\n",
    "print(y_train.value_counts())"
   ]
  },
  {
   "cell_type": "code",
   "execution_count": 35,
   "metadata": {},
   "outputs": [],
   "source": [
    "# \n",
    "smote = SMOTE(sampling_strategy = 0.1, random_state = 42)\n",
    "X_train_resample, y_train_resample = smote.fit_resample(X_train_tf, y_train)"
   ]
  },
  {
   "cell_type": "code",
   "execution_count": 36,
   "metadata": {},
   "outputs": [
    {
     "name": "stdout",
     "output_type": "stream",
     "text": [
      "After Resampling:\n",
      "fraud\n",
      "0    90.909201\n",
      "1     9.090799\n",
      "Name: proportion, dtype: float64 \n",
      "\n",
      "fraud\n",
      "0    226193\n",
      "1     22619\n",
      "Name: count, dtype: int64\n"
     ]
    }
   ],
   "source": [
    "# Train Resampling\n",
    "print(\"After Resampling:\")\n",
    "print(f\"{y_train_resample.value_counts(normalize = True) * 100} \\n\")\n",
    "print(y_train_resample.value_counts())"
   ]
  },
  {
   "cell_type": "markdown",
   "metadata": {},
   "source": [
    "### Leak Checking"
   ]
  },
  {
   "cell_type": "markdown",
   "metadata": {},
   "source": [
    "#### Train Data"
   ]
  },
  {
   "cell_type": "code",
   "execution_count": 37,
   "metadata": {},
   "outputs": [
    {
     "name": "stdout",
     "output_type": "stream",
     "text": [
      "transaction_dollar_amount    0.341967\n",
      "time_diff_hour              -0.214957\n",
      "distance_km                  0.167028\n",
      "speed_km/h                  -0.055639\n",
      "geo_cat_anomaly              0.592683\n",
      "geo_cat_normal              -0.592683\n",
      "limit_cat                   -0.009354\n",
      "city                        -0.006086\n",
      "dtype: float64\n"
     ]
    }
   ],
   "source": [
    "# Konversi X_train_resample ke DataFrame dengan nama kolom yang sama seperti sebelum resampling\n",
    "X_train_leak = pd.DataFrame(X_train_resample, columns = df_X_train_tf.columns)\n",
    "\n",
    "# Cek korelasi antara fitur dan label\n",
    "print(X_train_leak.corrwith(pd.Series(y_train_resample)))"
   ]
  },
  {
   "cell_type": "code",
   "execution_count": 38,
   "metadata": {},
   "outputs": [
    {
     "name": "stdout",
     "output_type": "stream",
     "text": [
      "Series([], dtype: float64)\n"
     ]
    }
   ],
   "source": [
    "# Check High Correlations\n",
    "correlation_values = X_train_leak.corrwith(pd.Series(y_train_resample))\n",
    "high_correlation_features = correlation_values[correlation_values.abs() > 0.9]\n",
    "\n",
    "print(high_correlation_features)"
   ]
  },
  {
   "cell_type": "code",
   "execution_count": 39,
   "metadata": {},
   "outputs": [
    {
     "name": "stdout",
     "output_type": "stream",
     "text": [
      "<class 'pandas.core.frame.DataFrame'>\n",
      "RangeIndex: 248812 entries, 0 to 248811\n",
      "Data columns (total 8 columns):\n",
      " #   Column                     Non-Null Count   Dtype  \n",
      "---  ------                     --------------   -----  \n",
      " 0   transaction_dollar_amount  248812 non-null  float64\n",
      " 1   time_diff_hour             248812 non-null  float64\n",
      " 2   distance_km                248812 non-null  float64\n",
      " 3   speed_km/h                 248812 non-null  float64\n",
      " 4   geo_cat_anomaly            248812 non-null  float64\n",
      " 5   geo_cat_normal             248812 non-null  float64\n",
      " 6   limit_cat                  248812 non-null  float64\n",
      " 7   city                       248812 non-null  float64\n",
      "dtypes: float64(8)\n",
      "memory usage: 15.2 MB\n"
     ]
    }
   ],
   "source": [
    "X_train_leak = X_train_leak.drop(columns = high_correlation_features.index)\n",
    "X_train_leak.info()"
   ]
  },
  {
   "cell_type": "markdown",
   "metadata": {},
   "source": [
    "#### Test Data"
   ]
  },
  {
   "cell_type": "code",
   "execution_count": 40,
   "metadata": {},
   "outputs": [
    {
     "name": "stdout",
     "output_type": "stream",
     "text": [
      "transaction_dollar_amount    0.012137\n",
      "time_diff_hour              -0.014984\n",
      "distance_km                  0.000052\n",
      "speed_km/h                   0.004458\n",
      "geo_cat_anomaly              0.001801\n",
      "geo_cat_normal              -0.001801\n",
      "limit_cat                   -0.001634\n",
      "city                         0.024632\n",
      "dtype: float64\n"
     ]
    }
   ],
   "source": [
    "# Konversi X_train_resample ke DataFrame dengan nama kolom yang sama seperti sebelum resampling\n",
    "X_test_leak = pd.DataFrame(df_X_test_tf, columns = df_X_test_tf.columns)\n",
    "\n",
    "# Cek korelasi antara fitur dan label\n",
    "print(X_test_leak.corrwith(pd.Series(y_test)))"
   ]
  },
  {
   "cell_type": "code",
   "execution_count": 41,
   "metadata": {},
   "outputs": [
    {
     "name": "stdout",
     "output_type": "stream",
     "text": [
      "<class 'pandas.core.frame.DataFrame'>\n",
      "RangeIndex: 58918 entries, 0 to 58917\n",
      "Data columns (total 8 columns):\n",
      " #   Column                     Non-Null Count  Dtype  \n",
      "---  ------                     --------------  -----  \n",
      " 0   transaction_dollar_amount  58918 non-null  float64\n",
      " 1   time_diff_hour             58918 non-null  float64\n",
      " 2   distance_km                58918 non-null  float64\n",
      " 3   speed_km/h                 58918 non-null  float64\n",
      " 4   geo_cat_anomaly            58918 non-null  float64\n",
      " 5   geo_cat_normal             58918 non-null  float64\n",
      " 6   limit_cat                  58918 non-null  float64\n",
      " 7   city                       58918 non-null  float64\n",
      "dtypes: float64(8)\n",
      "memory usage: 3.6 MB\n"
     ]
    }
   ],
   "source": [
    "X_test_leak = X_test_leak.drop(columns = high_correlation_features.index, errors = \"ignore\")\n",
    "X_test_leak.info()"
   ]
  },
  {
   "cell_type": "markdown",
   "metadata": {},
   "source": [
    "## Pipeline Blueprint"
   ]
  },
  {
   "cell_type": "code",
   "execution_count": 42,
   "metadata": {},
   "outputs": [],
   "source": [
    "# Rename var train\n",
    "X_train_mod = X_train_leak.copy()\n",
    "y_train_mod = y_train_resample.copy()\n",
    "\n",
    "# Rename var test\n",
    "X_test_mod = X_test_leak.copy()\n",
    "y_test_mod = y_test.copy()"
   ]
  },
  {
   "cell_type": "markdown",
   "metadata": {},
   "source": [
    "### Model Selections"
   ]
  },
  {
   "cell_type": "markdown",
   "metadata": {},
   "source": [
    "#### Logistic Regression"
   ]
  },
  {
   "cell_type": "code",
   "execution_count": 43,
   "metadata": {},
   "outputs": [],
   "source": [
    "logreg_model = LogisticRegression(solver = \"liblinear\", \n",
    "                                #   class_weight = \"balanced\",\n",
    "                                  C = 0.5,  # Tambahkan regularisasi\n",
    "                                  penalty = \"l2\",\n",
    "                                  random_state = 42)"
   ]
  },
  {
   "cell_type": "markdown",
   "metadata": {},
   "source": [
    "#### Decission Tree"
   ]
  },
  {
   "cell_type": "code",
   "execution_count": 44,
   "metadata": {},
   "outputs": [],
   "source": [
    "from sklearn.tree import DecisionTreeClassifier\n",
    "\n",
    "dt_model = DecisionTreeClassifier(max_depth = 5, \n",
    "                                #   class_weight = \"balanced\", \n",
    "                                  random_state = 42)"
   ]
  },
  {
   "cell_type": "markdown",
   "metadata": {},
   "source": [
    "#### Random Forest"
   ]
  },
  {
   "cell_type": "code",
   "execution_count": 45,
   "metadata": {},
   "outputs": [],
   "source": [
    "forest_model = RandomForestClassifier(n_estimators = 100,  # Kurangi jumlah pohon\n",
    "                                      max_depth = 5,  # Kurangi kedalaman pohon\n",
    "                                      min_samples_split = 10,  # Cegah overfitting\n",
    "                                    #   class_weight = \"balanced\",\n",
    "                                      random_state = 42)"
   ]
  },
  {
   "cell_type": "markdown",
   "metadata": {},
   "source": [
    "#### XGBoost"
   ]
  },
  {
   "cell_type": "code",
   "execution_count": 46,
   "metadata": {},
   "outputs": [],
   "source": [
    "# Tangani kasus ZeroDivisionError jika kelas minoritas tidak ada di y_train\n",
    "if np.sum(y_train_resample == 1) == 0:\n",
    "    scale_pos_weight = 1\n",
    "    \n",
    "else:\n",
    "    scale_pos_weight = np.sum(y_train_resample == 0) / np.sum(y_train_resample == 1)"
   ]
  },
  {
   "cell_type": "code",
   "execution_count": 47,
   "metadata": {},
   "outputs": [],
   "source": [
    "xgb_model = XGBClassifier(n_estimators = 500, \n",
    "                        #   scale_pos_weight = scale_pos_weight,\n",
    "                          learning_rate = 0.05, \n",
    "                          max_depth = 3,  \n",
    "                          subsample = 0.8, \n",
    "                          colsample_bytree = 0.8,  \n",
    "                          reg_alpha = 0.1,  # Regularisasi L1\n",
    "                          reg_lambda = 0.5,  # Regularisasi L2\n",
    "                          eval_metric = \"aucpr\",\n",
    "                          random_state = 42)"
   ]
  },
  {
   "cell_type": "markdown",
   "metadata": {},
   "source": [
    "#### LightBGM"
   ]
  },
  {
   "cell_type": "code",
   "execution_count": 48,
   "metadata": {},
   "outputs": [],
   "source": [
    "lbgm_model = LGBMClassifier(is_unbalance = True, \n",
    "                            force_col_wise = True, \n",
    "                            max_depth = 10,  # Menambah kedalaman pohon \n",
    "                            min_data_in_leaf = 10,  # Menghindari split yang tidak berguna \n",
    "                            eval_metric = \"logloss\",  # Metode evaluasi yang lebih jelas \n",
    "                            verbose = -1,  # Mengurangi log yang berlebihan \n",
    "                            random_state = 42)"
   ]
  },
  {
   "cell_type": "markdown",
   "metadata": {},
   "source": [
    "#### CatBoost"
   ]
  },
  {
   "cell_type": "code",
   "execution_count": 49,
   "metadata": {},
   "outputs": [],
   "source": [
    "catb_model = CatBoostClassifier(verbose = 0, \n",
    "                                # auto_class_weights = 'Balanced', \n",
    "                                random_state = 42)"
   ]
  },
  {
   "cell_type": "markdown",
   "metadata": {},
   "source": [
    "#### Pipeline Methode"
   ]
  },
  {
   "cell_type": "code",
   "execution_count": 50,
   "metadata": {},
   "outputs": [
    {
     "name": "stdout",
     "output_type": "stream",
     "text": [
      "🔹 Evaluasi Model: Logistic Regression\n",
      "==================================================\n",
      "📊 Average Precision Score (Train): 0.962\n",
      "📊 Average Precision Score (Test): 0.927\n",
      "🎯 Optimal Threshold: 0.479\n",
      "\n",
      "📄 Classification Report:\n",
      "              precision    recall  f1-score   support\n",
      "\n",
      "           0       1.00      0.99      1.00     56549\n",
      "           1       0.87      0.90      0.88      2369\n",
      "\n",
      "    accuracy                           0.99     58918\n",
      "   macro avg       0.93      0.95      0.94     58918\n",
      "weighted avg       0.99      0.99      0.99     58918\n",
      "\n",
      "================================================== \n",
      "\n",
      "🔹 Evaluasi Model: Decission Tree\n",
      "==================================================\n",
      "📊 Average Precision Score (Train): 1.000\n",
      "⚠️ AP Score Test terlalu tinggi (1.000), model ini diabaikan.\n",
      "\n",
      "🔹 Evaluasi Model: Random Forest\n",
      "==================================================\n",
      "📊 Average Precision Score (Train): 1.000\n",
      "⚠️ AP Score Test terlalu tinggi (1.000), model ini diabaikan.\n",
      "\n",
      "🔹 Evaluasi Model: XGBoost\n",
      "==================================================\n",
      "📊 Average Precision Score (Train): 1.000\n",
      "⚠️ AP Score Test terlalu tinggi (1.000), model ini diabaikan.\n",
      "\n",
      "🔹 Evaluasi Model: LightGBM\n",
      "==================================================\n",
      "📊 Average Precision Score (Train): 1.000\n",
      "⚠️ AP Score Test terlalu tinggi (1.000), model ini diabaikan.\n",
      "\n",
      "🔹 Evaluasi Model: CatBoost\n",
      "==================================================\n",
      "📊 Average Precision Score (Train): 1.000\n",
      "⚠️ AP Score Test terlalu tinggi (1.000), model ini diabaikan.\n",
      "\n",
      "🏆 Model Terbaik: Logistic Regression dengan AP Score Test tertinggi: 0.927 dan perbedaan AP Score: 0.036\n"
     ]
    }
   ],
   "source": [
    "from sklearn.metrics import average_precision_score, classification_report, precision_recall_curve\n",
    "import matplotlib.pyplot as plt\n",
    "\n",
    "# Menyimpan semua pipeline dalam dictionary\n",
    "pipelines = {\n",
    "    \"Logistic Regression\": logreg_model,\n",
    "    \"Decission Tree\": dt_model, \n",
    "    \"Random Forest\": forest_model,\n",
    "    \"XGBoost\": xgb_model,\n",
    "    \"LightGBM\": lbgm_model,\n",
    "    \"CatBoost\": catb_model\n",
    "}\n",
    "\n",
    "# Evaluasi semua model\n",
    "best_ap_test = 0  \n",
    "best_score_diff = float(\"inf\")  \n",
    "best_model = None\n",
    "best_model_name = \"\"\n",
    "\n",
    "for name, pipe in pipelines.items():\n",
    "    print(f\"🔹 Evaluasi Model: {name}\")\n",
    "    print('=' * 50)\n",
    "    \n",
    "    # Training model\n",
    "    if name == \"CatBoost\":\n",
    "        pipe.fit(X_train_mod, y_train_mod, verbose=False)\n",
    "    else:\n",
    "        pipe.fit(X_train_mod, y_train_mod)\n",
    "    \n",
    "    # === Train Evaluation ===\n",
    "    y_train_pred_proba = pipe.predict_proba(X_train_mod)[:, 1]\n",
    "    ap_train = average_precision_score(y_train_mod, y_train_pred_proba)\n",
    "    print(f\"📊 Average Precision Score (Train): {ap_train:.3f}\")\n",
    "\n",
    "    # === Test Evaluation ===\n",
    "    y_test_pred_proba = pipe.predict_proba(X_test_mod)[:, 1]\n",
    "    ap_test = average_precision_score(y_test_mod, y_test_pred_proba)\n",
    "    \n",
    "    # Filter model jika AP Score terlalu tinggi\n",
    "    if ap_test > 0.95:\n",
    "        print(f\"⚠️ AP Score Test terlalu tinggi ({ap_test:.3f}), model ini diabaikan.\\n\")\n",
    "        continue  \n",
    "\n",
    "    print(f\"📊 Average Precision Score (Test): {ap_test:.3f}\")\n",
    "\n",
    "    # Precision-Recall Curve\n",
    "    precisions, recalls, thresholds = precision_recall_curve(y_test_mod, y_test_pred_proba)\n",
    "    \n",
    "    # Cari threshold optimal\n",
    "    f1_scores = (2 * precisions * recalls) / (precisions + recalls + 1e-9)  # Hindari divisi oleh nol\n",
    "    best_threshold = thresholds[f1_scores.argmax()] if len(thresholds) > 0 else 0.5\n",
    "    print(f\"🎯 Optimal Threshold: {best_threshold:.3f}\")\n",
    "\n",
    "    # Konversi probabilitas menjadi label menggunakan threshold optimal\n",
    "    y_test_pred = (y_test_pred_proba >= best_threshold).astype(int)\n",
    "\n",
    "    # Classification Report\n",
    "    print(\"\\n📄 Classification Report:\")\n",
    "    print(classification_report(y_test_mod, y_test_pred))\n",
    "\n",
    "    print('=' * 50, '\\n')\n",
    "\n",
    "    # Evaluasi model terbaik berdasarkan AP Score Test dan perbedaan train-test terkecil\n",
    "    score_diff = abs(ap_train - ap_test)\n",
    "\n",
    "    if ap_test > best_ap_test or (ap_test == best_ap_test and score_diff < best_score_diff):\n",
    "        best_model = pipe\n",
    "        best_model_name = name\n",
    "        best_ap_test = ap_test\n",
    "        best_score_diff = score_diff\n",
    "\n",
    "# Menampilkan hasil akhir\n",
    "if best_model is not None:\n",
    "    print(f\"🏆 Model Terbaik: {best_model_name} dengan AP Score Test tertinggi: {best_ap_test:.3f} dan perbedaan AP Score: {best_score_diff:.3f}\")\n",
    "else:\n",
    "    print(\"❌ Tidak ada model yang memenuhi syarat (AP Score Test ≤ 0.95).\")\n"
   ]
  },
  {
   "cell_type": "markdown",
   "metadata": {},
   "source": [
    "#### Voting Methode"
   ]
  },
  {
   "cell_type": "code",
   "execution_count": 51,
   "metadata": {},
   "outputs": [
    {
     "name": "stdout",
     "output_type": "stream",
     "text": [
      "⚠️ AP Score Voting Classifier terlalu tinggi (1.000), model ini diabaikan.\n"
     ]
    }
   ],
   "source": [
    "from sklearn.ensemble import VotingClassifier\n",
    "from sklearn.metrics import average_precision_score, classification_report, precision_recall_curve\n",
    "\n",
    "# Membuat Voting Classifier dengan model terbaik\n",
    "voting_clf = VotingClassifier(\n",
    "    estimators=[\n",
    "        ('rf', forest_model),\n",
    "        ('dt', dt_model), \n",
    "        ('xgb', xgb_model),\n",
    "        ('lgbm', lbgm_model),\n",
    "        ('catb', catb_model)\n",
    "    ],\n",
    "    voting='soft'  # Menggunakan probabilitas\n",
    ")\n",
    "\n",
    "# Training Voting Classifier\n",
    "voting_clf.fit(X_train_mod, y_train_mod)\n",
    "\n",
    "# Evaluasi pada Test Set\n",
    "y_test_pred_proba_voting = voting_clf.predict_proba(X_test_mod)[:, 1]\n",
    "\n",
    "# Hitung Average Precision Score (AP Score) untuk Voting Classifier\n",
    "best_ap_voting = average_precision_score(y_test_mod, y_test_pred_proba_voting)\n",
    "\n",
    "# Filter jika AP Score Voting Classifier terlalu tinggi\n",
    "if best_ap_voting > 0.95:\n",
    "    print(f\"⚠️ AP Score Voting Classifier terlalu tinggi ({best_ap_voting:.3f}), model ini diabaikan.\")\n",
    "    best_ap_voting = 0  # Abaikan model ini dari pemilihan final\n",
    "else:\n",
    "    print(f\"📊 Average Precision Score (Voting Classifier): {best_ap_voting:.3f}\")\n",
    "\n",
    "    # Precision-Recall Curve\n",
    "    precisions, recalls, thresholds = precision_recall_curve(y_test_mod, y_test_pred_proba_voting)\n",
    "\n",
    "    # Cari threshold optimal\n",
    "    f1_scores = (2 * precisions * recalls) / (precisions + recalls + 1e-9)  # Hindari divisi oleh nol\n",
    "    best_threshold_voting = thresholds[f1_scores.argmax()] if len(thresholds) > 0 else 0.5\n",
    "    print(f\"🎯 Optimal Threshold: {best_threshold_voting:.3f}\")\n",
    "\n",
    "    # Konversi probabilitas menjadi label menggunakan threshold optimal\n",
    "    y_test_pred_voting = (y_test_pred_proba_voting >= best_threshold_voting).astype(int)\n",
    "\n",
    "    # Evaluasi Voting Classifier\n",
    "    print(\"\\n=== Classification Report (Voting Classifier) ===\")\n",
    "    print(classification_report(y_test_mod, y_test_pred_voting)) \n"
   ]
  },
  {
   "cell_type": "markdown",
   "metadata": {},
   "source": [
    "### Choosing Best Model"
   ]
  },
  {
   "cell_type": "code",
   "execution_count": 52,
   "metadata": {},
   "outputs": [
    {
     "name": "stdout",
     "output_type": "stream",
     "text": [
      "✅ Model Terbaik untuk CV: Logistic Regression dengan Average Precision Score: 0.927\n"
     ]
    }
   ],
   "source": [
    "final_model = None\n",
    "final_model_name = \"\"\n",
    "final_score = 0\n",
    "\n",
    "if best_ap_voting > best_ap_test:\n",
    "    final_model = voting_clf\n",
    "    final_model_name = \"Voting Classifier\"\n",
    "    final_score = best_ap_voting\n",
    "elif best_ap_test > 0:\n",
    "    final_model = best_model\n",
    "    final_model_name = best_model_name\n",
    "    final_score = best_ap_test\n",
    "\n",
    "# Menampilkan model terbaik\n",
    "if final_model is not None:\n",
    "    print(f\"✅ Model Terbaik untuk CV: {final_model_name} dengan Average Precision Score: {final_score:.3f}\")\n",
    "else:\n",
    "    print(\"❌ Tidak ada model yang memenuhi syarat (AP Score Test ≤ 0.95).\")"
   ]
  },
  {
   "cell_type": "markdown",
   "metadata": {},
   "source": [
    "## Finding Optimal CV"
   ]
  },
  {
   "cell_type": "code",
   "execution_count": 53,
   "metadata": {},
   "outputs": [
    {
     "name": "stdout",
     "output_type": "stream",
     "text": [
      "🔍 Mencari Nilai CV Optimal dengan StratifiedKFold...\n",
      "\n",
      "Evaluasi dengan cv = 3\n",
      "stratified_cv: StratifiedKFold(n_splits=3, random_state=42, shuffle=True)\n",
      "average_precision rata-rata: 0.962 (dengan cv = 3)\n",
      "\n",
      "Evaluasi dengan cv = 5\n",
      "stratified_cv: StratifiedKFold(n_splits=5, random_state=42, shuffle=True)\n",
      "average_precision rata-rata: 0.962 (dengan cv = 5)\n",
      "\n",
      "Evaluasi dengan cv = 7\n",
      "stratified_cv: StratifiedKFold(n_splits=7, random_state=42, shuffle=True)\n",
      "average_precision rata-rata: 0.962 (dengan cv = 7)\n",
      "\n",
      "Evaluasi dengan cv = 10\n",
      "stratified_cv: StratifiedKFold(n_splits=10, random_state=42, shuffle=True)\n",
      "average_precision rata-rata: 0.962 (dengan cv = 10)\n",
      "\n",
      "✅ Nilai CV Optimal: 3 dengan ROC-AUC: 0.962\n"
     ]
    }
   ],
   "source": [
    "# Daftar nilai CV yang ingin diuji\n",
    "cv_values = [3, 5, 7, 10]\n",
    "testing_best_cv = None\n",
    "testing_cv_score = 0\n",
    "\n",
    "print(\"🔍 Mencari Nilai CV Optimal dengan StratifiedKFold...\")\n",
    "\n",
    "for cv in cv_values:\n",
    "    print(f\"\\nEvaluasi dengan cv = {cv}\")\n",
    "    \n",
    "    # Gunakan StratifiedKFold\n",
    "    stratified_cv = StratifiedKFold(n_splits = cv, shuffle = True, random_state = 42)\n",
    "    print(f\"stratified_cv: {stratified_cv}\")\n",
    "    \n",
    "    scores = cross_val_score(final_model, \n",
    "                             X_train_mod, \n",
    "                             y_train_mod, \n",
    "                             cv = stratified_cv, \n",
    "                             scoring = 'average_precision', \n",
    "                             n_jobs = -1)\n",
    "    \n",
    "    mean_score = np.mean(scores)  # ✅ Gunakan rata-rata, bukan max\n",
    "    print(f\"average_precision rata-rata: {mean_score:.3f} (dengan cv = {cv})\")\n",
    "    \n",
    "    # Simpan nilai CV terbaik\n",
    "    if mean_score > testing_cv_score:\n",
    "        testing_cv_score = mean_score\n",
    "        testing_best_cv = cv\n",
    "\n",
    "print(f\"\\n✅ Nilai CV Optimal: {testing_best_cv} dengan ROC-AUC: {testing_cv_score:.3f}\")"
   ]
  },
  {
   "cell_type": "code",
   "execution_count": null,
   "metadata": {},
   "outputs": [],
   "source": [
    "sam = "
   ]
  },
  {
   "cell_type": "markdown",
   "metadata": {},
   "source": [
    "# Hyperparameter Tuning"
   ]
  },
  {
   "cell_type": "markdown",
   "metadata": {},
   "source": [
    "halving"
   ]
  },
  {
   "cell_type": "code",
   "execution_count": 54,
   "metadata": {},
   "outputs": [],
   "source": [
    "# Pilih model yang akan di-tuning\n",
    "if final_model_name == \"Random Forest\":\n",
    "    param_dist = {\n",
    "        'n_estimators': [100, 300, 500, 1000],  # Jumlah pohon dalam hutan\n",
    "        'max_depth': [10, 20, 30, None],  # Kedalaman maksimum pohon\n",
    "        'min_samples_split': [2, 5, 10, 20],  # Minimum sampel untuk melakukan split\n",
    "        'min_samples_leaf': [1, 2, 5, 10],  # Minimum sampel di setiap daun\n",
    "        'max_features': ['sqrt', 'log2', None],  # Fitur yang dipertimbangkan per split\n",
    "        'bootstrap': [True, False]  # Apakah menggunakan bootstrap sampling\n",
    "    }\n",
    "\n",
    "elif final_model_name == \"Logistic Regression\":\n",
    "    param_dist = {\n",
    "        'penalty': ['l1', 'l2', 'elasticnet', None],  # Jenis regularisasi\n",
    "        'C': [0.001, 0.01, 0.1, 1, 10, 100],  # Parameter inversi dari regularisasi\n",
    "        'solver': ['liblinear', 'lbfgs', 'saga', 'newton-cg'],  # Algoritma optimasi\n",
    "        'max_iter': [100, 200, 500, 1000],  # Jumlah iterasi maksimum\n",
    "        'l1_ratio': [0, 0.1, 0.5, 0.9, 1]  # Hanya berlaku untuk elasticnet\n",
    "    }\n",
    "\n",
    "\n",
    "elif final_model_name == \"XGBoost\":\n",
    "    param_dist = {\n",
    "        'n_estimators': [100, 200, 300, 500],  # Jumlah pohon boosting\n",
    "        'learning_rate': [0.001, 0.01, 0.1, 0.2],  # Laju pembelajaran\n",
    "        'max_depth': [3, 6, 10, 15],  # Kedalaman maksimum pohon\n",
    "        'min_child_weight': [1, 3, 5, 7],  # Bobot minimum anak untuk split\n",
    "        'subsample': [0.6, 0.8, 1.0],  # Rasio sampel yang digunakan dalam training\n",
    "        'colsample_bytree': [0.6, 0.8, 1.0],  # Proporsi fitur yang digunakan per pohon\n",
    "        'gamma': [0, 0.1, 0.2, 0.5],  # Pengendalian pruning dengan minimum loss reduction\n",
    "        'reg_lambda': [0, 0.1, 1, 10],  # Regularisasi L2\n",
    "        'reg_alpha': [0, 0.1, 1, 10]  # Regularisasi L1\n",
    "    }\n",
    "\n",
    "elif final_model_name == \"LightGBM\":\n",
    "    param_dist = {\n",
    "        'num_leaves': [31, 50, 100, 150],  # Jumlah daun pada setiap pohon\n",
    "        'learning_rate': [0.001, 0.01, 0.1, 0.2],  # Laju pembelajaran\n",
    "        'n_estimators': [100, 200, 300, 500],  # Jumlah pohon boosting\n",
    "        'max_depth': [-1, 10, 20, 30],  # Kedalaman maksimum pohon (-1 berarti tidak terbatas)\n",
    "        'min_child_samples': [10, 20, 50, 100],  # Minimum sampel dalam satu leaf\n",
    "        'subsample': [0.6, 0.8, 1.0],  # Proporsi sampel yang digunakan\n",
    "        'colsample_bytree': [0.6, 0.8, 1.0],  # Proporsi fitur yang digunakan per pohon\n",
    "        'reg_lambda': [0, 0.1, 1, 10],  # Regularisasi L2\n",
    "        'reg_alpha': [0, 0.1, 1, 10]  # Regularisasi L1\n",
    "    }\n",
    "\n",
    "elif final_model_name == \"CatBoost\":\n",
    "    param_dist = {\n",
    "        'iterations': [100, 200, 300, 500],  # Jumlah iterasi boosting\n",
    "        'learning_rate': [0.001, 0.01, 0.1, 0.2],  # Laju pembelajaran\n",
    "        'depth': [4, 6, 10, 12],  # Kedalaman maksimum pohon\n",
    "        'l2_leaf_reg': [1, 3, 5, 10],  # Regularisasi L2 untuk leaf\n",
    "        'bagging_temperature': [0.1, 0.5, 1, 2],  # Kontrol bootstraping (mirip dengan subsample)\n",
    "        'border_count': [32, 64, 128],  # Jumlah bin untuk fitur numerik\n",
    "        'random_strength': [0.1, 0.5, 1, 2]  # Noise untuk regularisasi\n",
    "    }"
   ]
  },
  {
   "cell_type": "code",
   "execution_count": 55,
   "metadata": {},
   "outputs": [],
   "source": [
    "# from itertools import product\n",
    "\n",
    "# # Pastikan `final_model_name` memiliki nilai yang valid\n",
    "# if \"final_model_name\" not in globals():\n",
    "#     raise ValueError(\"Variabel 'final_model_name' belum didefinisikan!\")\n",
    "\n",
    "# # Pilih model yang akan di-tuning\n",
    "# if final_model_name == \"Random Forest\":\n",
    "#     param_dist = {\n",
    "#         'n_estimators': [100, 300, 500, 1000],\n",
    "#         'max_depth': [10, 20, 30, None],\n",
    "#         'min_samples_split': [2, 5, 10, 20],\n",
    "#         'min_samples_leaf': [1, 2, 5, 10],\n",
    "#         'max_features': ['sqrt', 'log2', None],\n",
    "#         'bootstrap': [True, False]\n",
    "#     }\n",
    "\n",
    "# elif final_model_name == \"XGBoost\":\n",
    "#     param_dist = {\n",
    "#         'n_estimators': [100, 200, 300, 500],\n",
    "#         'learning_rate': [0.001, 0.01, 0.1, 0.2],\n",
    "#         'max_depth': [3, 6, 10, 15],\n",
    "#         'min_child_weight': [1, 3, 5, 7],\n",
    "#         'subsample': [0.6, 0.8, 1.0],\n",
    "#         'colsample_bytree': [0.6, 0.8, 1.0],\n",
    "#         'gamma': [0, 0.1, 0.2, 0.5],\n",
    "#         'reg_lambda': [0, 0.1, 1, 10],\n",
    "#         'reg_alpha': [0, 0.1, 1, 10]\n",
    "#     }\n",
    "\n",
    "# elif final_model_name == \"LightGBM\":\n",
    "#     param_dist = {\n",
    "#         'num_leaves': [31, 50, 100, 150],\n",
    "#         'learning_rate': [0.001, 0.01, 0.1, 0.2],\n",
    "#         'n_estimators': [100, 200, 300, 500],\n",
    "#         'max_depth': [-1, 10, 20, 30],\n",
    "#         'min_child_samples': [10, 20, 50, 100],\n",
    "#         'subsample': [0.6, 0.8, 1.0],\n",
    "#         'colsample_bytree': [0.6, 0.8, 1.0],\n",
    "#         'reg_lambda': [0, 0.1, 1, 10],\n",
    "#         'reg_alpha': [0, 0.1, 1, 10]\n",
    "#     }\n",
    "\n",
    "# elif final_model_name == \"CatBoost\":\n",
    "#     param_dist = {\n",
    "#         'iterations': [100, 200, 300, 500],\n",
    "#         'learning_rate': [0.001, 0.01, 0.1, 0.2],\n",
    "#         'depth': [4, 6, 10, 12],\n",
    "#         'l2_leaf_reg': [1, 3, 5, 10],\n",
    "#         'bagging_temperature': [0.1, 0.5, 1, 2],\n",
    "#         'border_count': [32, 64, 128],\n",
    "#         'random_strength': [0.1, 0.5, 1, 2]\n",
    "#     }\n",
    "\n",
    "# else:\n",
    "#     raise ValueError(f\"Model '{final_model_name}' tidak dikenali!\")\n"
   ]
  },
  {
   "cell_type": "code",
   "execution_count": 56,
   "metadata": {},
   "outputs": [],
   "source": [
    "# # 🔹 Pastikan X_train_mod adalah DataFrame\n",
    "# if isinstance(X_train_mod, np.ndarray):\n",
    "#     X_train_mod = pd.DataFrame(X_train_mod)\n",
    "\n",
    "# # 🔹 Bersihkan dataset dari NaN\n",
    "# X_train_mod = X_train_mod.fillna(X_train_mod.median())\n",
    "\n",
    "# # 🔹 Bersihkan dataset dari Inf\n",
    "# X_train_mod = X_train_mod.replace([np.inf, -np.inf], np.nan)  # Ganti Inf jadi NaN\n",
    "# X_train_mod = X_train_mod.fillna(X_train_mod.median())  # Isi ulang dengan median\n",
    "\n",
    "# # 🔹 Konversi kembali ke NumPy jika diperlukan\n",
    "# X_train_mod = X_train_mod.to_numpy()"
   ]
  },
  {
   "cell_type": "code",
   "execution_count": 57,
   "metadata": {},
   "outputs": [
    {
     "name": "stdout",
     "output_type": "stream",
     "text": [
      "Total kombinasi parameter valid: 1920\n"
     ]
    }
   ],
   "source": [
    "# 🔹 Hitung jumlah kombinasi parameter jika `param_dist` sudah terdefinisi\n",
    "if \"param_dist\" in globals():\n",
    "    total_combinations = len(list(product(*param_dist.values())))\n",
    "    print(f\"Total kombinasi parameter valid: {total_combinations}\")\n",
    "\n",
    "    # 🔹 Atur `n_candidates` agar tidak lebih besar dari jumlah kombinasi parameter\n",
    "    param_combinations = min(100, total_combinations)\n",
    "else:\n",
    "    raise ValueError(\"param_dist tidak terdefinisi.\")"
   ]
  },
  {
   "cell_type": "code",
   "execution_count": 58,
   "metadata": {},
   "outputs": [],
   "source": [
    "# # Konversi kembali ke DataFrame dengan kolom asli\n",
    "# X_train_mod = pd.DataFrame(X_train_mod, columns=X_train.columns)\n",
    "# X_test_mod = pd.DataFrame(X_test_mod, columns=X_test.columns)\n",
    "\n",
    "# # 🔍 Cek dan Tangani NaN & Inf\n",
    "# def clean_data(df):\n",
    "#     # Simpan nama kolom\n",
    "#     columns = df.columns\n",
    "\n",
    "#     # Pastikan semua kolom numerik\n",
    "#     df = df.apply(pd.to_numeric, errors='coerce')\n",
    "\n",
    "#     # Cek apakah ada NaN atau Inf\n",
    "#     if np.any(pd.isnull(df)) or np.any(np.isinf(df)):\n",
    "#         print(\"⚠️ Warning: Dataset mengandung NaN atau Inf! Membersihkannya...\")\n",
    "\n",
    "#         # Ganti NaN dengan median setiap kolom\n",
    "#         df = df.fillna(df.median())\n",
    "\n",
    "#         # Ganti Inf dengan nilai maksimum di setiap kolom\n",
    "#         df = df.replace([np.inf, -np.inf], df.max())\n",
    "\n",
    "#     # Pastikan DataFrame tetap memiliki nama kolom\n",
    "#     df.columns = columns\n",
    "\n",
    "#     return df\n",
    "\n",
    "# # 🔹 Bersihkan X_train_mod & X_test_mod\n",
    "# X_train_mod = clean_data(X_train_mod)\n",
    "# X_test_mod = clean_data(X_test_mod)\n",
    "\n",
    "# # 🔍 Cek statistik dataset setelah pembersihan\n",
    "# print(X_train_mod.describe())\n"
   ]
  },
  {
   "cell_type": "code",
   "execution_count": 59,
   "metadata": {},
   "outputs": [
    {
     "ename": "ValueError",
     "evalue": "Solver newton-cg supports only 'l2' or 'none' penalties, got l1 penalty.",
     "output_type": "error",
     "traceback": [
      "\u001b[1;31m---------------------------------------------------------------------------\u001b[0m",
      "\u001b[1;31m_RemoteTraceback\u001b[0m                          Traceback (most recent call last)",
      "\u001b[1;31m_RemoteTraceback\u001b[0m: \n\"\"\"\nTraceback (most recent call last):\n  File \"c:\\Users\\Prasetya\\anaconda3\\lib\\site-packages\\joblib\\externals\\loky\\process_executor.py\", line 463, in _process_worker\n    r = call_item()\n  File \"c:\\Users\\Prasetya\\anaconda3\\lib\\site-packages\\joblib\\externals\\loky\\process_executor.py\", line 291, in __call__\n    return self.fn(*self.args, **self.kwargs)\n  File \"c:\\Users\\Prasetya\\anaconda3\\lib\\site-packages\\joblib\\parallel.py\", line 598, in __call__\n    return [func(*args, **kwargs)\n  File \"c:\\Users\\Prasetya\\anaconda3\\lib\\site-packages\\joblib\\parallel.py\", line 598, in <listcomp>\n    return [func(*args, **kwargs)\n  File \"c:\\Users\\Prasetya\\anaconda3\\lib\\site-packages\\sklearn\\utils\\parallel.py\", line 123, in __call__\n    return self.function(*args, **kwargs)\n  File \"c:\\Users\\Prasetya\\anaconda3\\lib\\site-packages\\sklearn\\model_selection\\_validation.py\", line 686, in _fit_and_score\n    estimator.fit(X_train, y_train, **fit_params)\n  File \"c:\\Users\\Prasetya\\anaconda3\\lib\\site-packages\\sklearn\\linear_model\\_logistic.py\", line 1162, in fit\n    solver = _check_solver(self.solver, self.penalty, self.dual)\n  File \"c:\\Users\\Prasetya\\anaconda3\\lib\\site-packages\\sklearn\\linear_model\\_logistic.py\", line 54, in _check_solver\n    raise ValueError(\nValueError: Solver newton-cg supports only 'l2' or 'none' penalties, got l1 penalty.\n\"\"\"",
      "\nThe above exception was the direct cause of the following exception:\n",
      "\u001b[1;31mValueError\u001b[0m                                Traceback (most recent call last)",
      "Cell \u001b[1;32mIn[59], line 20\u001b[0m\n\u001b[0;32m      7\u001b[0m \u001b[38;5;66;03m# 🔍 Hyperparameter Tuning dengan HalvingRandomSearchCV\u001b[39;00m\n\u001b[0;32m      8\u001b[0m halving_search \u001b[38;5;241m=\u001b[39m HalvingRandomSearchCV(\n\u001b[0;32m      9\u001b[0m     final_model, \n\u001b[0;32m     10\u001b[0m     param_distributions \u001b[38;5;241m=\u001b[39m param_dist, \n\u001b[1;32m   (...)\u001b[0m\n\u001b[0;32m     17\u001b[0m     error_score \u001b[38;5;241m=\u001b[39m \u001b[38;5;124m\"\u001b[39m\u001b[38;5;124mraise\u001b[39m\u001b[38;5;124m\"\u001b[39m\n\u001b[0;32m     18\u001b[0m )\n\u001b[1;32m---> 20\u001b[0m \u001b[43mhalving_search\u001b[49m\u001b[38;5;241;43m.\u001b[39;49m\u001b[43mfit\u001b[49m\u001b[43m(\u001b[49m\u001b[43mX_train_mod\u001b[49m\u001b[43m,\u001b[49m\u001b[43m \u001b[49m\u001b[43my_train_mod\u001b[49m\u001b[43m)\u001b[49m\n\u001b[0;32m     22\u001b[0m \u001b[38;5;28mprint\u001b[39m(\u001b[38;5;124mf\u001b[39m\u001b[38;5;124m\"\u001b[39m\u001b[38;5;130;01m\\n\u001b[39;00m\u001b[38;5;124m🔍 Hyperparameter Terbaik (\u001b[39m\u001b[38;5;132;01m{\u001b[39;00mfinal_model_name\u001b[38;5;132;01m}\u001b[39;00m\u001b[38;5;124m): \u001b[39m\u001b[38;5;132;01m{\u001b[39;00mhalving_search\u001b[38;5;241m.\u001b[39mbest_params_\u001b[38;5;132;01m}\u001b[39;00m\u001b[38;5;124m\"\u001b[39m)\n\u001b[0;32m     23\u001b[0m \u001b[38;5;28mprint\u001b[39m(\u001b[38;5;124mf\u001b[39m\u001b[38;5;124m\"\u001b[39m\u001b[38;5;124m✅ Best ROC-AUC Score: \u001b[39m\u001b[38;5;132;01m{\u001b[39;00mhalving_search\u001b[38;5;241m.\u001b[39mbest_score_\u001b[38;5;132;01m:\u001b[39;00m\u001b[38;5;124m.3f\u001b[39m\u001b[38;5;132;01m}\u001b[39;00m\u001b[38;5;124m\"\u001b[39m)\n",
      "File \u001b[1;32mc:\\Users\\Prasetya\\anaconda3\\lib\\site-packages\\sklearn\\model_selection\\_search_successive_halving.py:273\u001b[0m, in \u001b[0;36mBaseSuccessiveHalving.fit\u001b[1;34m(self, X, y, groups, **fit_params)\u001b[0m\n\u001b[0;32m    265\u001b[0m \u001b[38;5;28mself\u001b[39m\u001b[38;5;241m.\u001b[39m_check_input_parameters(\n\u001b[0;32m    266\u001b[0m     X\u001b[38;5;241m=\u001b[39mX,\n\u001b[0;32m    267\u001b[0m     y\u001b[38;5;241m=\u001b[39my,\n\u001b[0;32m    268\u001b[0m     groups\u001b[38;5;241m=\u001b[39mgroups,\n\u001b[0;32m    269\u001b[0m )\n\u001b[0;32m    271\u001b[0m \u001b[38;5;28mself\u001b[39m\u001b[38;5;241m.\u001b[39m_n_samples_orig \u001b[38;5;241m=\u001b[39m _num_samples(X)\n\u001b[1;32m--> 273\u001b[0m \u001b[38;5;28msuper\u001b[39m()\u001b[38;5;241m.\u001b[39mfit(X, y\u001b[38;5;241m=\u001b[39my, groups\u001b[38;5;241m=\u001b[39mgroups, \u001b[38;5;241m*\u001b[39m\u001b[38;5;241m*\u001b[39mfit_params)\n\u001b[0;32m    275\u001b[0m \u001b[38;5;66;03m# Set best_score_: BaseSearchCV does not set it, as refit is a callable\u001b[39;00m\n\u001b[0;32m    276\u001b[0m \u001b[38;5;28mself\u001b[39m\u001b[38;5;241m.\u001b[39mbest_score_ \u001b[38;5;241m=\u001b[39m \u001b[38;5;28mself\u001b[39m\u001b[38;5;241m.\u001b[39mcv_results_[\u001b[38;5;124m\"\u001b[39m\u001b[38;5;124mmean_test_score\u001b[39m\u001b[38;5;124m\"\u001b[39m][\u001b[38;5;28mself\u001b[39m\u001b[38;5;241m.\u001b[39mbest_index_]\n",
      "File \u001b[1;32mc:\\Users\\Prasetya\\anaconda3\\lib\\site-packages\\sklearn\\model_selection\\_search.py:874\u001b[0m, in \u001b[0;36mBaseSearchCV.fit\u001b[1;34m(self, X, y, groups, **fit_params)\u001b[0m\n\u001b[0;32m    868\u001b[0m     results \u001b[38;5;241m=\u001b[39m \u001b[38;5;28mself\u001b[39m\u001b[38;5;241m.\u001b[39m_format_results(\n\u001b[0;32m    869\u001b[0m         all_candidate_params, n_splits, all_out, all_more_results\n\u001b[0;32m    870\u001b[0m     )\n\u001b[0;32m    872\u001b[0m     \u001b[38;5;28;01mreturn\u001b[39;00m results\n\u001b[1;32m--> 874\u001b[0m \u001b[38;5;28;43mself\u001b[39;49m\u001b[38;5;241;43m.\u001b[39;49m\u001b[43m_run_search\u001b[49m\u001b[43m(\u001b[49m\u001b[43mevaluate_candidates\u001b[49m\u001b[43m)\u001b[49m\n\u001b[0;32m    876\u001b[0m \u001b[38;5;66;03m# multimetric is determined here because in the case of a callable\u001b[39;00m\n\u001b[0;32m    877\u001b[0m \u001b[38;5;66;03m# self.scoring the return type is only known after calling\u001b[39;00m\n\u001b[0;32m    878\u001b[0m first_test_score \u001b[38;5;241m=\u001b[39m all_out[\u001b[38;5;241m0\u001b[39m][\u001b[38;5;124m\"\u001b[39m\u001b[38;5;124mtest_scores\u001b[39m\u001b[38;5;124m\"\u001b[39m]\n",
      "File \u001b[1;32mc:\\Users\\Prasetya\\anaconda3\\lib\\site-packages\\sklearn\\model_selection\\_search_successive_halving.py:378\u001b[0m, in \u001b[0;36mBaseSuccessiveHalving._run_search\u001b[1;34m(self, evaluate_candidates)\u001b[0m\n\u001b[0;32m    371\u001b[0m     cv \u001b[38;5;241m=\u001b[39m \u001b[38;5;28mself\u001b[39m\u001b[38;5;241m.\u001b[39m_checked_cv_orig\n\u001b[0;32m    373\u001b[0m more_results \u001b[38;5;241m=\u001b[39m {\n\u001b[0;32m    374\u001b[0m     \u001b[38;5;124m\"\u001b[39m\u001b[38;5;124miter\u001b[39m\u001b[38;5;124m\"\u001b[39m: [itr] \u001b[38;5;241m*\u001b[39m n_candidates,\n\u001b[0;32m    375\u001b[0m     \u001b[38;5;124m\"\u001b[39m\u001b[38;5;124mn_resources\u001b[39m\u001b[38;5;124m\"\u001b[39m: [n_resources] \u001b[38;5;241m*\u001b[39m n_candidates,\n\u001b[0;32m    376\u001b[0m }\n\u001b[1;32m--> 378\u001b[0m results \u001b[38;5;241m=\u001b[39m \u001b[43mevaluate_candidates\u001b[49m\u001b[43m(\u001b[49m\n\u001b[0;32m    379\u001b[0m \u001b[43m    \u001b[49m\u001b[43mcandidate_params\u001b[49m\u001b[43m,\u001b[49m\u001b[43m \u001b[49m\u001b[43mcv\u001b[49m\u001b[43m,\u001b[49m\u001b[43m \u001b[49m\u001b[43mmore_results\u001b[49m\u001b[38;5;241;43m=\u001b[39;49m\u001b[43mmore_results\u001b[49m\n\u001b[0;32m    380\u001b[0m \u001b[43m\u001b[49m\u001b[43m)\u001b[49m\n\u001b[0;32m    382\u001b[0m n_candidates_to_keep \u001b[38;5;241m=\u001b[39m ceil(n_candidates \u001b[38;5;241m/\u001b[39m \u001b[38;5;28mself\u001b[39m\u001b[38;5;241m.\u001b[39mfactor)\n\u001b[0;32m    383\u001b[0m candidate_params \u001b[38;5;241m=\u001b[39m _top_k(results, n_candidates_to_keep, itr)\n",
      "File \u001b[1;32mc:\\Users\\Prasetya\\anaconda3\\lib\\site-packages\\sklearn\\model_selection\\_search.py:821\u001b[0m, in \u001b[0;36mBaseSearchCV.fit.<locals>.evaluate_candidates\u001b[1;34m(candidate_params, cv, more_results)\u001b[0m\n\u001b[0;32m    813\u001b[0m \u001b[38;5;28;01mif\u001b[39;00m \u001b[38;5;28mself\u001b[39m\u001b[38;5;241m.\u001b[39mverbose \u001b[38;5;241m>\u001b[39m \u001b[38;5;241m0\u001b[39m:\n\u001b[0;32m    814\u001b[0m     \u001b[38;5;28mprint\u001b[39m(\n\u001b[0;32m    815\u001b[0m         \u001b[38;5;124m\"\u001b[39m\u001b[38;5;124mFitting \u001b[39m\u001b[38;5;132;01m{0}\u001b[39;00m\u001b[38;5;124m folds for each of \u001b[39m\u001b[38;5;132;01m{1}\u001b[39;00m\u001b[38;5;124m candidates,\u001b[39m\u001b[38;5;124m\"\u001b[39m\n\u001b[0;32m    816\u001b[0m         \u001b[38;5;124m\"\u001b[39m\u001b[38;5;124m totalling \u001b[39m\u001b[38;5;132;01m{2}\u001b[39;00m\u001b[38;5;124m fits\u001b[39m\u001b[38;5;124m\"\u001b[39m\u001b[38;5;241m.\u001b[39mformat(\n\u001b[0;32m    817\u001b[0m             n_splits, n_candidates, n_candidates \u001b[38;5;241m*\u001b[39m n_splits\n\u001b[0;32m    818\u001b[0m         )\n\u001b[0;32m    819\u001b[0m     )\n\u001b[1;32m--> 821\u001b[0m out \u001b[38;5;241m=\u001b[39m \u001b[43mparallel\u001b[49m\u001b[43m(\u001b[49m\n\u001b[0;32m    822\u001b[0m \u001b[43m    \u001b[49m\u001b[43mdelayed\u001b[49m\u001b[43m(\u001b[49m\u001b[43m_fit_and_score\u001b[49m\u001b[43m)\u001b[49m\u001b[43m(\u001b[49m\n\u001b[0;32m    823\u001b[0m \u001b[43m        \u001b[49m\u001b[43mclone\u001b[49m\u001b[43m(\u001b[49m\u001b[43mbase_estimator\u001b[49m\u001b[43m)\u001b[49m\u001b[43m,\u001b[49m\n\u001b[0;32m    824\u001b[0m \u001b[43m        \u001b[49m\u001b[43mX\u001b[49m\u001b[43m,\u001b[49m\n\u001b[0;32m    825\u001b[0m \u001b[43m        \u001b[49m\u001b[43my\u001b[49m\u001b[43m,\u001b[49m\n\u001b[0;32m    826\u001b[0m \u001b[43m        \u001b[49m\u001b[43mtrain\u001b[49m\u001b[38;5;241;43m=\u001b[39;49m\u001b[43mtrain\u001b[49m\u001b[43m,\u001b[49m\n\u001b[0;32m    827\u001b[0m \u001b[43m        \u001b[49m\u001b[43mtest\u001b[49m\u001b[38;5;241;43m=\u001b[39;49m\u001b[43mtest\u001b[49m\u001b[43m,\u001b[49m\n\u001b[0;32m    828\u001b[0m \u001b[43m        \u001b[49m\u001b[43mparameters\u001b[49m\u001b[38;5;241;43m=\u001b[39;49m\u001b[43mparameters\u001b[49m\u001b[43m,\u001b[49m\n\u001b[0;32m    829\u001b[0m \u001b[43m        \u001b[49m\u001b[43msplit_progress\u001b[49m\u001b[38;5;241;43m=\u001b[39;49m\u001b[43m(\u001b[49m\u001b[43msplit_idx\u001b[49m\u001b[43m,\u001b[49m\u001b[43m \u001b[49m\u001b[43mn_splits\u001b[49m\u001b[43m)\u001b[49m\u001b[43m,\u001b[49m\n\u001b[0;32m    830\u001b[0m \u001b[43m        \u001b[49m\u001b[43mcandidate_progress\u001b[49m\u001b[38;5;241;43m=\u001b[39;49m\u001b[43m(\u001b[49m\u001b[43mcand_idx\u001b[49m\u001b[43m,\u001b[49m\u001b[43m \u001b[49m\u001b[43mn_candidates\u001b[49m\u001b[43m)\u001b[49m\u001b[43m,\u001b[49m\n\u001b[0;32m    831\u001b[0m \u001b[43m        \u001b[49m\u001b[38;5;241;43m*\u001b[39;49m\u001b[38;5;241;43m*\u001b[39;49m\u001b[43mfit_and_score_kwargs\u001b[49m\u001b[43m,\u001b[49m\n\u001b[0;32m    832\u001b[0m \u001b[43m    \u001b[49m\u001b[43m)\u001b[49m\n\u001b[0;32m    833\u001b[0m \u001b[43m    \u001b[49m\u001b[38;5;28;43;01mfor\u001b[39;49;00m\u001b[43m \u001b[49m\u001b[43m(\u001b[49m\u001b[43mcand_idx\u001b[49m\u001b[43m,\u001b[49m\u001b[43m \u001b[49m\u001b[43mparameters\u001b[49m\u001b[43m)\u001b[49m\u001b[43m,\u001b[49m\u001b[43m \u001b[49m\u001b[43m(\u001b[49m\u001b[43msplit_idx\u001b[49m\u001b[43m,\u001b[49m\u001b[43m \u001b[49m\u001b[43m(\u001b[49m\u001b[43mtrain\u001b[49m\u001b[43m,\u001b[49m\u001b[43m \u001b[49m\u001b[43mtest\u001b[49m\u001b[43m)\u001b[49m\u001b[43m)\u001b[49m\u001b[43m \u001b[49m\u001b[38;5;129;43;01min\u001b[39;49;00m\u001b[43m \u001b[49m\u001b[43mproduct\u001b[49m\u001b[43m(\u001b[49m\n\u001b[0;32m    834\u001b[0m \u001b[43m        \u001b[49m\u001b[38;5;28;43menumerate\u001b[39;49m\u001b[43m(\u001b[49m\u001b[43mcandidate_params\u001b[49m\u001b[43m)\u001b[49m\u001b[43m,\u001b[49m\u001b[43m \u001b[49m\u001b[38;5;28;43menumerate\u001b[39;49m\u001b[43m(\u001b[49m\u001b[43mcv\u001b[49m\u001b[38;5;241;43m.\u001b[39;49m\u001b[43msplit\u001b[49m\u001b[43m(\u001b[49m\u001b[43mX\u001b[49m\u001b[43m,\u001b[49m\u001b[43m \u001b[49m\u001b[43my\u001b[49m\u001b[43m,\u001b[49m\u001b[43m \u001b[49m\u001b[43mgroups\u001b[49m\u001b[43m)\u001b[49m\u001b[43m)\u001b[49m\n\u001b[0;32m    835\u001b[0m \u001b[43m    \u001b[49m\u001b[43m)\u001b[49m\n\u001b[0;32m    836\u001b[0m \u001b[43m\u001b[49m\u001b[43m)\u001b[49m\n\u001b[0;32m    838\u001b[0m \u001b[38;5;28;01mif\u001b[39;00m \u001b[38;5;28mlen\u001b[39m(out) \u001b[38;5;241m<\u001b[39m \u001b[38;5;241m1\u001b[39m:\n\u001b[0;32m    839\u001b[0m     \u001b[38;5;28;01mraise\u001b[39;00m \u001b[38;5;167;01mValueError\u001b[39;00m(\n\u001b[0;32m    840\u001b[0m         \u001b[38;5;124m\"\u001b[39m\u001b[38;5;124mNo fits were performed. \u001b[39m\u001b[38;5;124m\"\u001b[39m\n\u001b[0;32m    841\u001b[0m         \u001b[38;5;124m\"\u001b[39m\u001b[38;5;124mWas the CV iterator empty? \u001b[39m\u001b[38;5;124m\"\u001b[39m\n\u001b[0;32m    842\u001b[0m         \u001b[38;5;124m\"\u001b[39m\u001b[38;5;124mWere there no candidates?\u001b[39m\u001b[38;5;124m\"\u001b[39m\n\u001b[0;32m    843\u001b[0m     )\n",
      "File \u001b[1;32mc:\\Users\\Prasetya\\anaconda3\\lib\\site-packages\\sklearn\\utils\\parallel.py:63\u001b[0m, in \u001b[0;36mParallel.__call__\u001b[1;34m(self, iterable)\u001b[0m\n\u001b[0;32m     58\u001b[0m config \u001b[38;5;241m=\u001b[39m get_config()\n\u001b[0;32m     59\u001b[0m iterable_with_config \u001b[38;5;241m=\u001b[39m (\n\u001b[0;32m     60\u001b[0m     (_with_config(delayed_func, config), args, kwargs)\n\u001b[0;32m     61\u001b[0m     \u001b[38;5;28;01mfor\u001b[39;00m delayed_func, args, kwargs \u001b[38;5;129;01min\u001b[39;00m iterable\n\u001b[0;32m     62\u001b[0m )\n\u001b[1;32m---> 63\u001b[0m \u001b[38;5;28;01mreturn\u001b[39;00m \u001b[38;5;28;43msuper\u001b[39;49m\u001b[43m(\u001b[49m\u001b[43m)\u001b[49m\u001b[38;5;241;43m.\u001b[39;49m\u001b[38;5;21;43m__call__\u001b[39;49m\u001b[43m(\u001b[49m\u001b[43miterable_with_config\u001b[49m\u001b[43m)\u001b[49m\n",
      "File \u001b[1;32mc:\\Users\\Prasetya\\anaconda3\\lib\\site-packages\\joblib\\parallel.py:2007\u001b[0m, in \u001b[0;36mParallel.__call__\u001b[1;34m(self, iterable)\u001b[0m\n\u001b[0;32m   2001\u001b[0m \u001b[38;5;66;03m# The first item from the output is blank, but it makes the interpreter\u001b[39;00m\n\u001b[0;32m   2002\u001b[0m \u001b[38;5;66;03m# progress until it enters the Try/Except block of the generator and\u001b[39;00m\n\u001b[0;32m   2003\u001b[0m \u001b[38;5;66;03m# reaches the first `yield` statement. This starts the asynchronous\u001b[39;00m\n\u001b[0;32m   2004\u001b[0m \u001b[38;5;66;03m# dispatch of the tasks to the workers.\u001b[39;00m\n\u001b[0;32m   2005\u001b[0m \u001b[38;5;28mnext\u001b[39m(output)\n\u001b[1;32m-> 2007\u001b[0m \u001b[38;5;28;01mreturn\u001b[39;00m output \u001b[38;5;28;01mif\u001b[39;00m \u001b[38;5;28mself\u001b[39m\u001b[38;5;241m.\u001b[39mreturn_generator \u001b[38;5;28;01melse\u001b[39;00m \u001b[38;5;28;43mlist\u001b[39;49m\u001b[43m(\u001b[49m\u001b[43moutput\u001b[49m\u001b[43m)\u001b[49m\n",
      "File \u001b[1;32mc:\\Users\\Prasetya\\anaconda3\\lib\\site-packages\\joblib\\parallel.py:1650\u001b[0m, in \u001b[0;36mParallel._get_outputs\u001b[1;34m(self, iterator, pre_dispatch)\u001b[0m\n\u001b[0;32m   1647\u001b[0m     \u001b[38;5;28;01myield\u001b[39;00m\n\u001b[0;32m   1649\u001b[0m     \u001b[38;5;28;01mwith\u001b[39;00m \u001b[38;5;28mself\u001b[39m\u001b[38;5;241m.\u001b[39m_backend\u001b[38;5;241m.\u001b[39mretrieval_context():\n\u001b[1;32m-> 1650\u001b[0m         \u001b[38;5;28;01myield from\u001b[39;00m \u001b[38;5;28mself\u001b[39m\u001b[38;5;241m.\u001b[39m_retrieve()\n\u001b[0;32m   1652\u001b[0m \u001b[38;5;28;01mexcept\u001b[39;00m \u001b[38;5;167;01mGeneratorExit\u001b[39;00m:\n\u001b[0;32m   1653\u001b[0m     \u001b[38;5;66;03m# The generator has been garbage collected before being fully\u001b[39;00m\n\u001b[0;32m   1654\u001b[0m     \u001b[38;5;66;03m# consumed. This aborts the remaining tasks if possible and warn\u001b[39;00m\n\u001b[0;32m   1655\u001b[0m     \u001b[38;5;66;03m# the user if necessary.\u001b[39;00m\n\u001b[0;32m   1656\u001b[0m     \u001b[38;5;28mself\u001b[39m\u001b[38;5;241m.\u001b[39m_exception \u001b[38;5;241m=\u001b[39m \u001b[38;5;28;01mTrue\u001b[39;00m\n",
      "File \u001b[1;32mc:\\Users\\Prasetya\\anaconda3\\lib\\site-packages\\joblib\\parallel.py:1754\u001b[0m, in \u001b[0;36mParallel._retrieve\u001b[1;34m(self)\u001b[0m\n\u001b[0;32m   1747\u001b[0m \u001b[38;5;28;01mwhile\u001b[39;00m \u001b[38;5;28mself\u001b[39m\u001b[38;5;241m.\u001b[39m_wait_retrieval():\n\u001b[0;32m   1748\u001b[0m \n\u001b[0;32m   1749\u001b[0m     \u001b[38;5;66;03m# If the callback thread of a worker has signaled that its task\u001b[39;00m\n\u001b[0;32m   1750\u001b[0m     \u001b[38;5;66;03m# triggered an exception, or if the retrieval loop has raised an\u001b[39;00m\n\u001b[0;32m   1751\u001b[0m     \u001b[38;5;66;03m# exception (e.g. `GeneratorExit`), exit the loop and surface the\u001b[39;00m\n\u001b[0;32m   1752\u001b[0m     \u001b[38;5;66;03m# worker traceback.\u001b[39;00m\n\u001b[0;32m   1753\u001b[0m     \u001b[38;5;28;01mif\u001b[39;00m \u001b[38;5;28mself\u001b[39m\u001b[38;5;241m.\u001b[39m_aborting:\n\u001b[1;32m-> 1754\u001b[0m         \u001b[38;5;28;43mself\u001b[39;49m\u001b[38;5;241;43m.\u001b[39;49m\u001b[43m_raise_error_fast\u001b[49m\u001b[43m(\u001b[49m\u001b[43m)\u001b[49m\n\u001b[0;32m   1755\u001b[0m         \u001b[38;5;28;01mbreak\u001b[39;00m\n\u001b[0;32m   1757\u001b[0m     \u001b[38;5;66;03m# If the next job is not ready for retrieval yet, we just wait for\u001b[39;00m\n\u001b[0;32m   1758\u001b[0m     \u001b[38;5;66;03m# async callbacks to progress.\u001b[39;00m\n",
      "File \u001b[1;32mc:\\Users\\Prasetya\\anaconda3\\lib\\site-packages\\joblib\\parallel.py:1789\u001b[0m, in \u001b[0;36mParallel._raise_error_fast\u001b[1;34m(self)\u001b[0m\n\u001b[0;32m   1785\u001b[0m \u001b[38;5;66;03m# If this error job exists, immediately raise the error by\u001b[39;00m\n\u001b[0;32m   1786\u001b[0m \u001b[38;5;66;03m# calling get_result. This job might not exists if abort has been\u001b[39;00m\n\u001b[0;32m   1787\u001b[0m \u001b[38;5;66;03m# called directly or if the generator is gc'ed.\u001b[39;00m\n\u001b[0;32m   1788\u001b[0m \u001b[38;5;28;01mif\u001b[39;00m error_job \u001b[38;5;129;01mis\u001b[39;00m \u001b[38;5;129;01mnot\u001b[39;00m \u001b[38;5;28;01mNone\u001b[39;00m:\n\u001b[1;32m-> 1789\u001b[0m     \u001b[43merror_job\u001b[49m\u001b[38;5;241;43m.\u001b[39;49m\u001b[43mget_result\u001b[49m\u001b[43m(\u001b[49m\u001b[38;5;28;43mself\u001b[39;49m\u001b[38;5;241;43m.\u001b[39;49m\u001b[43mtimeout\u001b[49m\u001b[43m)\u001b[49m\n",
      "File \u001b[1;32mc:\\Users\\Prasetya\\anaconda3\\lib\\site-packages\\joblib\\parallel.py:745\u001b[0m, in \u001b[0;36mBatchCompletionCallBack.get_result\u001b[1;34m(self, timeout)\u001b[0m\n\u001b[0;32m    739\u001b[0m backend \u001b[38;5;241m=\u001b[39m \u001b[38;5;28mself\u001b[39m\u001b[38;5;241m.\u001b[39mparallel\u001b[38;5;241m.\u001b[39m_backend\n\u001b[0;32m    741\u001b[0m \u001b[38;5;28;01mif\u001b[39;00m backend\u001b[38;5;241m.\u001b[39msupports_retrieve_callback:\n\u001b[0;32m    742\u001b[0m     \u001b[38;5;66;03m# We assume that the result has already been retrieved by the\u001b[39;00m\n\u001b[0;32m    743\u001b[0m     \u001b[38;5;66;03m# callback thread, and is stored internally. It's just waiting to\u001b[39;00m\n\u001b[0;32m    744\u001b[0m     \u001b[38;5;66;03m# be returned.\u001b[39;00m\n\u001b[1;32m--> 745\u001b[0m     \u001b[38;5;28;01mreturn\u001b[39;00m \u001b[38;5;28;43mself\u001b[39;49m\u001b[38;5;241;43m.\u001b[39;49m\u001b[43m_return_or_raise\u001b[49m\u001b[43m(\u001b[49m\u001b[43m)\u001b[49m\n\u001b[0;32m    747\u001b[0m \u001b[38;5;66;03m# For other backends, the main thread needs to run the retrieval step.\u001b[39;00m\n\u001b[0;32m    748\u001b[0m \u001b[38;5;28;01mtry\u001b[39;00m:\n",
      "File \u001b[1;32mc:\\Users\\Prasetya\\anaconda3\\lib\\site-packages\\joblib\\parallel.py:763\u001b[0m, in \u001b[0;36mBatchCompletionCallBack._return_or_raise\u001b[1;34m(self)\u001b[0m\n\u001b[0;32m    761\u001b[0m \u001b[38;5;28;01mtry\u001b[39;00m:\n\u001b[0;32m    762\u001b[0m     \u001b[38;5;28;01mif\u001b[39;00m \u001b[38;5;28mself\u001b[39m\u001b[38;5;241m.\u001b[39mstatus \u001b[38;5;241m==\u001b[39m TASK_ERROR:\n\u001b[1;32m--> 763\u001b[0m         \u001b[38;5;28;01mraise\u001b[39;00m \u001b[38;5;28mself\u001b[39m\u001b[38;5;241m.\u001b[39m_result\n\u001b[0;32m    764\u001b[0m     \u001b[38;5;28;01mreturn\u001b[39;00m \u001b[38;5;28mself\u001b[39m\u001b[38;5;241m.\u001b[39m_result\n\u001b[0;32m    765\u001b[0m \u001b[38;5;28;01mfinally\u001b[39;00m:\n",
      "\u001b[1;31mValueError\u001b[0m: Solver newton-cg supports only 'l2' or 'none' penalties, got l1 penalty."
     ]
    }
   ],
   "source": [
    "from sklearn.experimental import enable_halving_search_cv\n",
    "from sklearn.model_selection import HalvingRandomSearchCV\n",
    "\n",
    "# \n",
    "skf = StratifiedKFold(n_splits = testing_best_cv, shuffle = True, random_state = 42)\n",
    "\n",
    "# 🔍 Hyperparameter Tuning dengan HalvingRandomSearchCV\n",
    "halving_search = HalvingRandomSearchCV(\n",
    "    final_model, \n",
    "    param_distributions = param_dist, \n",
    "    factor = 2, # Total combination / factor\n",
    "    scoring = 'average_precision', \n",
    "    cv = skf, \n",
    "    n_jobs = -1, \n",
    "    random_state = 42,\n",
    "    n_candidates = param_combinations, \n",
    "    error_score = \"raise\"\n",
    ")\n",
    "\n",
    "halving_search.fit(X_train_mod, y_train_mod)\n",
    "\n",
    "print(f\"\\n🔍 Hyperparameter Terbaik ({final_model_name}): {halving_search.best_params_}\")\n",
    "print(f\"✅ Best ROC-AUC Score: {halving_search.best_score_:.3f}\")\n",
    "\n",
    "optimal_cv = halving_search.best_estimator_"
   ]
  },
  {
   "cell_type": "markdown",
   "metadata": {},
   "source": [
    "# Final Evaluation"
   ]
  },
  {
   "cell_type": "code",
   "execution_count": null,
   "metadata": {},
   "outputs": [],
   "source": [
    "from sklearn.metrics import average_precision_score, classification_report, precision_recall_curve, roc_auc_score\n",
    "\n",
    "# 🔹 Konversi ke NumPy untuk menghindari warning\n",
    "X_test_mod = X_test_mod.to_numpy()\n",
    "\n",
    "# 🔹 Prediksi dengan Model Terbaik\n",
    "y_test_pred_proba = optimal_cv.predict_proba(X_test_mod)[:, 1]\n",
    "\n",
    "# 🔹 Menghitung Average Precision Score (AP Score)\n",
    "ap_score = average_precision_score(y_test_mod, y_test_pred_proba)\n",
    "print(f\"📊 Average Precision Score (Test): {ap_score:.3f}\")\n",
    "\n",
    "# 🔹 Mencari Threshold Optimal menggunakan Precision-Recall Curve\n",
    "precisions, recalls, thresholds = precision_recall_curve(y_test_mod, y_test_pred_proba)\n",
    "f1_scores = 2 * (precisions * recalls) / (precisions + recalls + 1e-9)  # Hindari pembagian oleh nol\n",
    "best_threshold = thresholds[f1_scores.argmax()] if len(thresholds) > 0 else 0.5\n",
    "\n",
    "# 🔹 Gunakan Threshold Optimal untuk Prediksi Akhir\n",
    "y_test_pred = (y_test_pred_proba >= best_threshold).astype(int)\n",
    "\n",
    "# 🔹 Classification Report\n",
    "print(\"\\n=== Classification Report ===\")\n",
    "print(classification_report(y_test_mod, y_test_pred))\n",
    "\n",
    "# 🔹 ROC-AUC Score\n",
    "roc_auc_final = roc_auc_score(y_test_mod, y_test_pred_proba)\n",
    "print(f\"🎯 Final ROC-AUC Score: {roc_auc_final:.3f}\")\n",
    "print(f\"🔹 Best Threshold Used: {best_threshold:.3f}\")\n"
   ]
  },
  {
   "cell_type": "markdown",
   "metadata": {},
   "source": [
    "# Model Visualization"
   ]
  },
  {
   "cell_type": "code",
   "execution_count": null,
   "metadata": {},
   "outputs": [],
   "source": [
    "import matplotlib.pyplot as plt\n",
    "import seaborn as sns\n",
    "from sklearn.metrics import precision_recall_curve, roc_curve\n",
    "\n",
    "# 🔹 Precision-Recall Curve\n",
    "plt.figure(figsize=(10, 5))\n",
    "precisions, recalls, _ = precision_recall_curve(y_test_mod, y_test_pred_proba)\n",
    "plt.plot(recalls, precisions, marker='.', label=f'AP Score: {ap_score:.3f}')\n",
    "plt.xlabel('Recall')\n",
    "plt.ylabel('Precision')\n",
    "plt.title('Precision-Recall Curve')\n",
    "plt.legend()\n",
    "plt.grid()\n",
    "plt.show()"
   ]
  },
  {
   "cell_type": "code",
   "execution_count": null,
   "metadata": {},
   "outputs": [],
   "source": [
    "# 🔹 ROC Curve\n",
    "plt.figure(figsize=(10, 5))\n",
    "fpr, tpr, _ = roc_curve(y_test_mod, y_test_pred_proba)\n",
    "plt.plot(fpr, tpr, marker='.', label=f'ROC-AUC: {roc_auc_final:.3f}')\n",
    "plt.xlabel('False Positive Rate')\n",
    "plt.ylabel('True Positive Rate')\n",
    "plt.title('ROC Curve')\n",
    "plt.legend()\n",
    "plt.grid()\n",
    "plt.show()"
   ]
  },
  {
   "cell_type": "code",
   "execution_count": null,
   "metadata": {},
   "outputs": [],
   "source": [
    "# 🔹 Histogram Probabilitas Prediksi\n",
    "plt.figure(figsize=(10, 5))\n",
    "sns.histplot(y_test_pred_proba[y_test_mod == 0], bins=50, label='Non-Fraud', color='blue', alpha=0.6)\n",
    "sns.histplot(y_test_pred_proba[y_test_mod == 1], bins=50, label='Fraud', color='red', alpha=0.6)\n",
    "plt.axvline(best_threshold, color='black', linestyle='dashed', label=f'Threshold: {best_threshold:.3f}')\n",
    "plt.xlabel('Predicted Probability')\n",
    "plt.ylabel('Frequency')\n",
    "plt.title('Distribution of Predicted Probabilities')\n",
    "plt.legend()\n",
    "plt.show()"
   ]
  },
  {
   "cell_type": "code",
   "execution_count": null,
   "metadata": {},
   "outputs": [],
   "source": [
    "# 🔹 Confusion Matrix\n",
    "cm = confusion_matrix(y_test_mod, y_test_pred)\n",
    "plt.figure(figsize=(6, 6))\n",
    "sns.heatmap(cm, annot=True, fmt='d', cmap='Blues', xticklabels=[\"Non-Fraud\", \"Fraud\"], yticklabels=[\"Non-Fraud\", \"Fraud\"])\n",
    "plt.xlabel('Predicted')\n",
    "plt.ylabel('Actual')\n",
    "plt.title('Confusion Matrix')\n",
    "plt.show()"
   ]
  },
  {
   "cell_type": "markdown",
   "metadata": {},
   "source": [
    "# Save Model"
   ]
  },
  {
   "cell_type": "code",
   "execution_count": null,
   "metadata": {},
   "outputs": [],
   "source": [
    "# Tentukan folder tujuan\n",
    "dir_name = 'datamart'\n",
    "folder_path = f\"../{dir_name}\"\n",
    "\n",
    "# Cek apakah folder sudah ada, jika belum buat foldernya\n",
    "if not os.path.exists(folder_path):\n",
    "    os.makedirs(folder_path)\n",
    "    \n",
    "    print(f\"Directory '{dir_name}' created successfully.\")\n",
    "\n",
    "else: \n",
    "    print(f'Directory has already been created.')"
   ]
  }
 ],
 "metadata": {
  "kernelspec": {
   "display_name": "base",
   "language": "python",
   "name": "python3"
  },
  "language_info": {
   "codemirror_mode": {
    "name": "ipython",
    "version": 3
   },
   "file_extension": ".py",
   "mimetype": "text/x-python",
   "name": "python",
   "nbconvert_exporter": "python",
   "pygments_lexer": "ipython3",
   "version": "3.10.16"
  }
 },
 "nbformat": 4,
 "nbformat_minor": 2
}
